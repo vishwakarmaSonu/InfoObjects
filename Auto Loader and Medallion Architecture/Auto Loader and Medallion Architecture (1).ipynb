{
 "cells": [
  {
   "cell_type": "code",
   "execution_count": 0,
   "metadata": {
    "application/vnd.databricks.v1+cell": {
     "cellMetadata": {
      "byteLimit": 2048000,
      "rowLimit": 10000
     },
     "inputWidgets": {},
     "nuid": "5261edfa-2607-40dc-8f33-04ecc6130409",
     "showTitle": false,
     "tableResultSettingsMap": {},
     "title": ""
    }
   },
   "outputs": [
    {
     "output_type": "stream",
     "name": "stdout",
     "output_type": "stream",
     "text": [
      "Out[1]: [FileInfo(path='dbfs:/FileStore/tables/BigMart_Sales-1.csv', name='BigMart_Sales-1.csv', size=869537, modificationTime=1732766283000),\n FileInfo(path='dbfs:/FileStore/tables/BigMart_Sales-2.csv', name='BigMart_Sales-2.csv', size=869537, modificationTime=1738049024000),\n FileInfo(path='dbfs:/FileStore/tables/BigMart_Sales-3.csv', name='BigMart_Sales-3.csv', size=869537, modificationTime=1739937933000),\n FileInfo(path='dbfs:/FileStore/tables/BigMart_Sales.csv', name='BigMart_Sales.csv', size=869537, modificationTime=1732677345000),\n FileInfo(path='dbfs:/FileStore/tables/CSV/', name='CSV/', size=0, modificationTime=0),\n FileInfo(path='dbfs:/FileStore/tables/Calendar-1.csv', name='Calendar-1.csv', size=9952, modificationTime=1731775279000),\n FileInfo(path='dbfs:/FileStore/tables/Calendar.csv', name='Calendar.csv', size=9952, modificationTime=1731775248000),\n FileInfo(path='dbfs:/FileStore/tables/Products.csv', name='Products.csv', size=58122, modificationTime=1732765779000),\n FileInfo(path='dbfs:/FileStore/tables/Sales3.csv', name='Sales3.csv', size=1321941, modificationTime=1733973300000),\n FileInfo(path='dbfs:/FileStore/tables/acid_demo/', name='acid_demo/', size=0, modificationTime=0),\n FileInfo(path='dbfs:/FileStore/tables/bigdata_auto/', name='bigdata_auto/', size=0, modificationTime=0),\n FileInfo(path='dbfs:/FileStore/tables/bigmart_delta_/', name='bigmart_delta_/', size=0, modificationTime=0),\n FileInfo(path='dbfs:/FileStore/tables/bigmart_delta_s/', name='bigmart_delta_s/', size=0, modificationTime=0),\n FileInfo(path='dbfs:/FileStore/tables/bigmart_delta_sd/', name='bigmart_delta_sd/', size=0, modificationTime=0),\n FileInfo(path='dbfs:/FileStore/tables/drivers.json', name='drivers.json', size=180812, modificationTime=1732680444000),\n FileInfo(path='dbfs:/FileStore/tables/monu.csv/', name='monu.csv/', size=0, modificationTime=0),\n FileInfo(path='dbfs:/FileStore/tables/zorder_test/', name='zorder_test/', size=0, modificationTime=0),\n FileInfo(path='dbfs:/FileStore/tables/zorder_test_1/', name='zorder_test_1/', size=0, modificationTime=0)]"
     ]
    }
   ],
   "source": [
    "dbutils.fs.ls('/FileStore/tables')"
   ]
  },
  {
   "cell_type": "code",
   "execution_count": 0,
   "metadata": {
    "application/vnd.databricks.v1+cell": {
     "cellMetadata": {
      "byteLimit": 2048000,
      "rowLimit": 10000
     },
     "inputWidgets": {},
     "nuid": "23cda1c0-fb4a-400c-bd5b-940c390e18ba",
     "showTitle": false,
     "tableResultSettingsMap": {},
     "title": ""
    }
   },
   "outputs": [],
   "source": [
    "import json\n",
    "import random\n",
    "from datetime import datetime, timedelta\n",
    "\n",
    "# Generate dummy IoT data\n",
    "base_time = datetime.now()\n",
    "data = []\n",
    "\n",
    "for i in range(50):\n",
    "    record = {\n",
    "        \"device_id\": f\"device_{random.randint(1, 5)}\",\n",
    "        \"temperature\": round(random.uniform(20.0, 30.0), 2),\n",
    "        \"humidity\": round(random.uniform(30.0, 50.0), 2),\n",
    "        \"timestamp\": (base_time + timedelta(seconds=i*10)).isoformat()\n",
    "    }\n",
    "    data.append(record)\n",
    "\n",
    "# Write to DBFS as individual JSON files\n",
    "dbutils.fs.mkdirs(\"/mnt/iot/bronze_input/\")\n",
    "\n",
    "for idx, record in enumerate(data):\n",
    "    with open(f\"/tmp/iot_data_{idx}.json\", \"w\") as f:\n",
    "        json.dump(record, f)\n",
    "    dbutils.fs.cp(f\"file:/tmp/iot_data_{idx}.json\", f\"dbfs:/mnt/iot/bronze_input/iot_data_{idx}.json\")\n"
   ]
  },
  {
   "cell_type": "code",
   "execution_count": 0,
   "metadata": {
    "application/vnd.databricks.v1+cell": {
     "cellMetadata": {
      "byteLimit": 2048000,
      "rowLimit": 10000
     },
     "inputWidgets": {},
     "nuid": "b0e0cd9e-01f1-4adc-87c2-f46680fcdad5",
     "showTitle": false,
     "tableResultSettingsMap": {},
     "title": ""
    }
   },
   "outputs": [
    {
     "output_type": "stream",
     "name": "stdout",
     "output_type": "stream",
     "text": [
      "Out[3]: [FileInfo(path='dbfs:/mnt/iot/bronze_input/iot_data_0.json', name='iot_data_0.json', size=108, modificationTime=1742992764000),\n FileInfo(path='dbfs:/mnt/iot/bronze_input/iot_data_1.json', name='iot_data_1.json', size=109, modificationTime=1742992764000),\n FileInfo(path='dbfs:/mnt/iot/bronze_input/iot_data_10.json', name='iot_data_10.json', size=109, modificationTime=1742992766000),\n FileInfo(path='dbfs:/mnt/iot/bronze_input/iot_data_11.json', name='iot_data_11.json', size=108, modificationTime=1742992766000),\n FileInfo(path='dbfs:/mnt/iot/bronze_input/iot_data_12.json', name='iot_data_12.json', size=109, modificationTime=1742992766000),\n FileInfo(path='dbfs:/mnt/iot/bronze_input/iot_data_13.json', name='iot_data_13.json', size=109, modificationTime=1742992766000),\n FileInfo(path='dbfs:/mnt/iot/bronze_input/iot_data_14.json', name='iot_data_14.json', size=109, modificationTime=1742992766000),\n FileInfo(path='dbfs:/mnt/iot/bronze_input/iot_data_15.json', name='iot_data_15.json', size=109, modificationTime=1742992766000),\n FileInfo(path='dbfs:/mnt/iot/bronze_input/iot_data_16.json', name='iot_data_16.json', size=109, modificationTime=1742992767000),\n FileInfo(path='dbfs:/mnt/iot/bronze_input/iot_data_17.json', name='iot_data_17.json', size=109, modificationTime=1742992767000),\n FileInfo(path='dbfs:/mnt/iot/bronze_input/iot_data_18.json', name='iot_data_18.json', size=108, modificationTime=1742992767000),\n FileInfo(path='dbfs:/mnt/iot/bronze_input/iot_data_19.json', name='iot_data_19.json', size=109, modificationTime=1742992767000),\n FileInfo(path='dbfs:/mnt/iot/bronze_input/iot_data_2.json', name='iot_data_2.json', size=109, modificationTime=1742992764000),\n FileInfo(path='dbfs:/mnt/iot/bronze_input/iot_data_20.json', name='iot_data_20.json', size=109, modificationTime=1742992768000),\n FileInfo(path='dbfs:/mnt/iot/bronze_input/iot_data_21.json', name='iot_data_21.json', size=109, modificationTime=1742992768000),\n FileInfo(path='dbfs:/mnt/iot/bronze_input/iot_data_22.json', name='iot_data_22.json', size=109, modificationTime=1742992768000),\n FileInfo(path='dbfs:/mnt/iot/bronze_input/iot_data_23.json', name='iot_data_23.json', size=109, modificationTime=1742992768000),\n FileInfo(path='dbfs:/mnt/iot/bronze_input/iot_data_24.json', name='iot_data_24.json', size=109, modificationTime=1742992768000),\n FileInfo(path='dbfs:/mnt/iot/bronze_input/iot_data_25.json', name='iot_data_25.json', size=109, modificationTime=1742992768000),\n FileInfo(path='dbfs:/mnt/iot/bronze_input/iot_data_26.json', name='iot_data_26.json', size=108, modificationTime=1742992769000),\n FileInfo(path='dbfs:/mnt/iot/bronze_input/iot_data_27.json', name='iot_data_27.json', size=109, modificationTime=1742992769000),\n FileInfo(path='dbfs:/mnt/iot/bronze_input/iot_data_28.json', name='iot_data_28.json', size=108, modificationTime=1742992769000),\n FileInfo(path='dbfs:/mnt/iot/bronze_input/iot_data_29.json', name='iot_data_29.json', size=109, modificationTime=1742992769000),\n FileInfo(path='dbfs:/mnt/iot/bronze_input/iot_data_3.json', name='iot_data_3.json', size=109, modificationTime=1742992764000),\n FileInfo(path='dbfs:/mnt/iot/bronze_input/iot_data_30.json', name='iot_data_30.json', size=109, modificationTime=1742992769000),\n FileInfo(path='dbfs:/mnt/iot/bronze_input/iot_data_31.json', name='iot_data_31.json', size=109, modificationTime=1742992769000),\n FileInfo(path='dbfs:/mnt/iot/bronze_input/iot_data_32.json', name='iot_data_32.json', size=109, modificationTime=1742992770000),\n FileInfo(path='dbfs:/mnt/iot/bronze_input/iot_data_33.json', name='iot_data_33.json', size=109, modificationTime=1742992770000),\n FileInfo(path='dbfs:/mnt/iot/bronze_input/iot_data_34.json', name='iot_data_34.json', size=109, modificationTime=1742992770000),\n FileInfo(path='dbfs:/mnt/iot/bronze_input/iot_data_35.json', name='iot_data_35.json', size=109, modificationTime=1742992770000),\n FileInfo(path='dbfs:/mnt/iot/bronze_input/iot_data_36.json', name='iot_data_36.json', size=109, modificationTime=1742992770000),\n FileInfo(path='dbfs:/mnt/iot/bronze_input/iot_data_37.json', name='iot_data_37.json', size=109, modificationTime=1742992770000),\n FileInfo(path='dbfs:/mnt/iot/bronze_input/iot_data_38.json', name='iot_data_38.json', size=108, modificationTime=1742992771000),\n FileInfo(path='dbfs:/mnt/iot/bronze_input/iot_data_39.json', name='iot_data_39.json', size=109, modificationTime=1742992771000),\n FileInfo(path='dbfs:/mnt/iot/bronze_input/iot_data_4.json', name='iot_data_4.json', size=109, modificationTime=1742992764000),\n FileInfo(path='dbfs:/mnt/iot/bronze_input/iot_data_40.json', name='iot_data_40.json', size=109, modificationTime=1742992771000),\n FileInfo(path='dbfs:/mnt/iot/bronze_input/iot_data_41.json', name='iot_data_41.json', size=109, modificationTime=1742992771000),\n FileInfo(path='dbfs:/mnt/iot/bronze_input/iot_data_42.json', name='iot_data_42.json', size=109, modificationTime=1742992771000),\n FileInfo(path='dbfs:/mnt/iot/bronze_input/iot_data_43.json', name='iot_data_43.json', size=109, modificationTime=1742992771000),\n FileInfo(path='dbfs:/mnt/iot/bronze_input/iot_data_44.json', name='iot_data_44.json', size=109, modificationTime=1742992772000),\n FileInfo(path='dbfs:/mnt/iot/bronze_input/iot_data_45.json', name='iot_data_45.json', size=109, modificationTime=1742992772000),\n FileInfo(path='dbfs:/mnt/iot/bronze_input/iot_data_46.json', name='iot_data_46.json', size=108, modificationTime=1742992772000),\n FileInfo(path='dbfs:/mnt/iot/bronze_input/iot_data_47.json', name='iot_data_47.json', size=109, modificationTime=1742992772000),\n FileInfo(path='dbfs:/mnt/iot/bronze_input/iot_data_48.json', name='iot_data_48.json', size=109, modificationTime=1742992772000),\n FileInfo(path='dbfs:/mnt/iot/bronze_input/iot_data_49.json', name='iot_data_49.json', size=107, modificationTime=1742992772000),\n FileInfo(path='dbfs:/mnt/iot/bronze_input/iot_data_5.json', name='iot_data_5.json', size=109, modificationTime=1742992765000),\n FileInfo(path='dbfs:/mnt/iot/bronze_input/iot_data_6.json', name='iot_data_6.json', size=109, modificationTime=1742992765000),\n FileInfo(path='dbfs:/mnt/iot/bronze_input/iot_data_7.json', name='iot_data_7.json', size=109, modificationTime=1742992765000),\n FileInfo(path='dbfs:/mnt/iot/bronze_input/iot_data_8.json', name='iot_data_8.json', size=108, modificationTime=1742992765000),\n FileInfo(path='dbfs:/mnt/iot/bronze_input/iot_data_9.json', name='iot_data_9.json', size=109, modificationTime=1742992765000)]"
     ]
    }
   ],
   "source": [
    "dbutils.fs.ls(\"/mnt/iot/bronze_input/\")"
   ]
  },
  {
   "cell_type": "code",
   "execution_count": 0,
   "metadata": {
    "application/vnd.databricks.v1+cell": {
     "cellMetadata": {
      "byteLimit": 2048000,
      "rowLimit": 10000
     },
     "inputWidgets": {},
     "nuid": "76dc5bac-5e7c-4b5a-865a-89d43d16935a",
     "showTitle": false,
     "tableResultSettingsMap": {},
     "title": ""
    }
   },
   "outputs": [],
   "source": [
    "bronze_df = (\n",
    "    spark.readStream.format(\"cloudFiles\")\n",
    "    .option(\"cloudFiles.format\", \"json\")\n",
    "    .option(\"cloudFiles.schemaLocation\", \"/mnt/iot/schema/bronze/\")  \n",
    "    .load(\"/mnt/iot/bronze_input/\")\n",
    ")"
   ]
  },
  {
   "cell_type": "code",
   "execution_count": 0,
   "metadata": {
    "application/vnd.databricks.v1+cell": {
     "cellMetadata": {
      "byteLimit": 2048000,
      "rowLimit": 10000
     },
     "inputWidgets": {},
     "nuid": "b0e7e752-3e36-4449-8b8c-0f4be4c7a888",
     "showTitle": false,
     "tableResultSettingsMap": {},
     "title": ""
    }
   },
   "outputs": [
    {
     "output_type": "stream",
     "name": "stdout",
     "output_type": "stream",
     "text": [
      "Out[6]: <pyspark.sql.streaming.query.StreamingQuery at 0x708467986880>"
     ]
    }
   ],
   "source": [
    "bronze_df.writeStream \\\n",
    "    .format(\"delta\") \\\n",
    "    .option(\"checkpointLocation\", \"/mnt/iot/checkpoints/bronze/\") \\\n",
    "    .outputMode(\"append\") \\\n",
    "    .start(\"/mnt/iot/bronze/\")"
   ]
  },
  {
   "cell_type": "code",
   "execution_count": 0,
   "metadata": {
    "application/vnd.databricks.v1+cell": {
     "cellMetadata": {
      "byteLimit": 2048000,
      "rowLimit": 10000
     },
     "inputWidgets": {},
     "nuid": "8dbcd90e-7e61-4cff-8071-4933614fb65c",
     "showTitle": false,
     "tableResultSettingsMap": {},
     "title": ""
    }
   },
   "outputs": [],
   "source": [
    "silver_df = (\n",
    "    spark.readStream.format(\"delta\")\n",
    "    .load(\"/mnt/iot/bronze/\")\n",
    "    .filter(col(\"temperature\") > 25)\n",
    ")"
   ]
  },
  {
   "cell_type": "code",
   "execution_count": 0,
   "metadata": {
    "application/vnd.databricks.v1+cell": {
     "cellMetadata": {
      "byteLimit": 2048000,
      "rowLimit": 10000
     },
     "inputWidgets": {},
     "nuid": "80a52967-167b-48c0-9d4d-72b046f38d51",
     "showTitle": false,
     "tableResultSettingsMap": {},
     "title": ""
    }
   },
   "outputs": [
    {
     "output_type": "stream",
     "name": "stdout",
     "output_type": "stream",
     "text": [
      "Out[8]: <pyspark.sql.streaming.query.StreamingQuery at 0x70846686a1c0>"
     ]
    }
   ],
   "source": [
    "silver_df.writeStream \\\n",
    "    .format(\"delta\") \\\n",
    "    .option(\"checkpointLocation\", \"/mnt/iot/checkpoints/silver/\") \\\n",
    "    .outputMode(\"append\") \\\n",
    "    .start(\"/mnt/iot/silver/\")"
   ]
  },
  {
   "cell_type": "code",
   "execution_count": 0,
   "metadata": {
    "application/vnd.databricks.v1+cell": {
     "cellMetadata": {
      "byteLimit": 2048000,
      "rowLimit": 10000
     },
     "inputWidgets": {},
     "nuid": "4f6338f0-c437-48c2-93b1-4075396a5c17",
     "showTitle": false,
     "tableResultSettingsMap": {},
     "title": ""
    }
   },
   "outputs": [],
   "source": [
    "from pyspark.sql.functions import avg\n",
    "\n",
    "gold_df = (\n",
    "    spark.readStream.format(\"delta\")\n",
    "    .load(\"/mnt/iot/silver/\")\n",
    "    .groupBy(\"device_id\")\n",
    "    .agg(\n",
    "        avg(\"temperature\").alias(\"avg_temp\"),\n",
    "        avg(\"humidity\").alias(\"avg_humidity\")\n",
    "    )\n",
    ")"
   ]
  },
  {
   "cell_type": "code",
   "execution_count": 0,
   "metadata": {
    "application/vnd.databricks.v1+cell": {
     "cellMetadata": {
      "byteLimit": 2048000,
      "rowLimit": 10000
     },
     "inputWidgets": {},
     "nuid": "5b5d7810-beeb-4e8f-b23a-656a254a99a3",
     "showTitle": false,
     "tableResultSettingsMap": {},
     "title": ""
    }
   },
   "outputs": [
    {
     "output_type": "stream",
     "name": "stdout",
     "output_type": "stream",
     "text": [
      "Out[10]: <pyspark.sql.streaming.query.StreamingQuery at 0x70846686aa30>"
     ]
    }
   ],
   "source": [
    "\n",
    "gold_df.writeStream \\\n",
    "    .format(\"delta\") \\\n",
    "    .option(\"checkpointLocation\", \"/mnt/iot/checkpoints/gold/\") \\\n",
    "    .outputMode(\"complete\") \\\n",
    "    .start(\"/mnt/iot/gold/\")"
   ]
  },
  {
   "cell_type": "code",
   "execution_count": 0,
   "metadata": {
    "application/vnd.databricks.v1+cell": {
     "cellMetadata": {},
     "inputWidgets": {},
     "nuid": "d44e555a-514d-4c45-ac6a-9420ef7c1bdf",
     "showTitle": false,
     "tableResultSettingsMap": {},
     "title": ""
    }
   },
   "outputs": [],
   "source": []
  }
 ],
 "metadata": {
  "application/vnd.databricks.v1+notebook": {
   "computePreferences": null,
   "dashboards": [],
   "environmentMetadata": {
    "base_environment": "",
    "environment_version": "1"
   },
   "inputWidgetPreferences": null,
   "language": "python",
   "notebookMetadata": {
    "pythonIndentUnit": 4
   },
   "notebookName": "Auto Loader and Medallion Architecture",
   "widgets": {}
  }
 },
 "nbformat": 4,
 "nbformat_minor": 0
}