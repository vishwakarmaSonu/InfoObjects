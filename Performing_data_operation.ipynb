{
  "cells": [
    {
      "cell_type": "code",
      "execution_count": 19,
      "metadata": {
        "id": "8rq2Epu1NeA7"
      },
      "outputs": [],
      "source": [
        "df = spark.read.format('csv')\\\n",
        "            .schema(my_ddl_schema)\\\n",
        "            .option('header',True)\\\n",
        "            .load('/content/drive/MyDrive/InfoObjects/BigMart Sales.csv')"
      ]
    },
    {
      "cell_type": "code",
      "execution_count": 20,
      "metadata": {
        "colab": {
          "base_uri": "https://localhost:8080/"
        },
        "id": "GFx50I8MNkFI",
        "outputId": "459b3e06-fb29-46fd-a0cf-2d344cdb3777"
      },
      "outputs": [
        {
          "name": "stdout",
          "output_type": "stream",
          "text": [
            "+---------------+-----------+----------------+---------------+--------------------+--------+-----------------+-------------------------+-----------+--------------------+-----------------+-----------------+\n",
            "|Item_Identifier|Item_Weight|Item_Fat_Content|Item_Visibility|           Item_Type|Item_MRP|Outlet_Identifier|Outlet_Establishment_Year|Outlet_Size|Outlet_Location_Type|      Outlet_Type|Item_Outlet_Sales|\n",
            "+---------------+-----------+----------------+---------------+--------------------+--------+-----------------+-------------------------+-----------+--------------------+-----------------+-----------------+\n",
            "|          FDA15|        9.3|         Low Fat|    0.016047301|               Dairy|249.8092|           OUT049|                     1999|     Medium|              Tier 1|Supermarket Type1|         3735.138|\n",
            "|          DRC01|       5.92|         Regular|    0.019278216|         Soft Drinks| 48.2692|           OUT018|                     2009|     Medium|              Tier 3|Supermarket Type2|         443.4228|\n",
            "|          FDN15|       17.5|         Low Fat|    0.016760075|                Meat| 141.618|           OUT049|                     1999|     Medium|              Tier 1|Supermarket Type1|          2097.27|\n",
            "|          FDX07|       19.2|         Regular|            0.0|Fruits and Vegeta...| 182.095|           OUT010|                     1998|       NULL|              Tier 3|    Grocery Store|           732.38|\n",
            "|          NCD19|       8.93|         Low Fat|            0.0|           Household| 53.8614|           OUT013|                     1987|       High|              Tier 3|Supermarket Type1|         994.7052|\n",
            "|          FDP36|     10.395|         Regular|            0.0|        Baking Goods| 51.4008|           OUT018|                     2009|     Medium|              Tier 3|Supermarket Type2|         556.6088|\n",
            "|          FDO10|      13.65|         Regular|    0.012741089|         Snack Foods| 57.6588|           OUT013|                     1987|       High|              Tier 3|Supermarket Type1|         343.5528|\n",
            "|          FDP10|       NULL|         Low Fat|    0.127469857|         Snack Foods|107.7622|           OUT027|                     1985|     Medium|              Tier 3|Supermarket Type3|        4022.7636|\n",
            "|          FDH17|       16.2|         Regular|    0.016687114|        Frozen Foods| 96.9726|           OUT045|                     2002|       NULL|              Tier 2|Supermarket Type1|        1076.5986|\n",
            "|          FDU28|       19.2|         Regular|     0.09444959|        Frozen Foods|187.8214|           OUT017|                     2007|       NULL|              Tier 2|Supermarket Type1|         4710.535|\n",
            "|          FDY07|       11.8|         Low Fat|            0.0|Fruits and Vegeta...| 45.5402|           OUT049|                     1999|     Medium|              Tier 1|Supermarket Type1|        1516.0266|\n",
            "|          FDA03|       18.5|         Regular|    0.045463773|               Dairy|144.1102|           OUT046|                     1997|      Small|              Tier 1|Supermarket Type1|         2187.153|\n",
            "|          FDX32|       15.1|         Regular|      0.1000135|Fruits and Vegeta...|145.4786|           OUT049|                     1999|     Medium|              Tier 1|Supermarket Type1|        1589.2646|\n",
            "|          FDS46|       17.6|         Regular|    0.047257328|         Snack Foods|119.6782|           OUT046|                     1997|      Small|              Tier 1|Supermarket Type1|        2145.2076|\n",
            "|          FDF32|      16.35|         Low Fat|      0.0680243|Fruits and Vegeta...|196.4426|           OUT013|                     1987|       High|              Tier 3|Supermarket Type1|         1977.426|\n",
            "|          FDP49|          9|         Regular|    0.069088961|           Breakfast| 56.3614|           OUT046|                     1997|      Small|              Tier 1|Supermarket Type1|        1547.3192|\n",
            "|          NCB42|       11.8|         Low Fat|    0.008596051|  Health and Hygiene|115.3492|           OUT018|                     2009|     Medium|              Tier 3|Supermarket Type2|        1621.8888|\n",
            "|          FDP49|          9|         Regular|    0.069196376|           Breakfast| 54.3614|           OUT049|                     1999|     Medium|              Tier 1|Supermarket Type1|         718.3982|\n",
            "|          DRI11|       NULL|         Low Fat|    0.034237682|         Hard Drinks|113.2834|           OUT027|                     1985|     Medium|              Tier 3|Supermarket Type3|         2303.668|\n",
            "|          FDU02|      13.35|         Low Fat|     0.10249212|               Dairy|230.5352|           OUT035|                     2004|      Small|              Tier 2|Supermarket Type1|        2748.4224|\n",
            "+---------------+-----------+----------------+---------------+--------------------+--------+-----------------+-------------------------+-----------+--------------------+-----------------+-----------------+\n",
            "only showing top 20 rows\n",
            "\n"
          ]
        }
      ],
      "source": [
        "df.show()"
      ]
    },
    {
      "cell_type": "code",
      "execution_count": 21,
      "metadata": {
        "id": "A0rXnkXSNl4h"
      },
      "outputs": [],
      "source": [
        "from pyspark.sql.types import *\n",
        "from pyspark.sql.functions import *"
      ]
    },
    {
      "cell_type": "code",
      "execution_count": 40,
      "metadata": {
        "id": "4e81JVljORGB"
      },
      "outputs": [],
      "source": [
        "df = df.withColumn('flag',lit(\"new\"))"
      ]
    },
    {
      "cell_type": "code",
      "execution_count": 41,
      "metadata": {
        "colab": {
          "base_uri": "https://localhost:8080/"
        },
        "id": "9dcRKqHtOSO1",
        "outputId": "e9bf02a5-2287-492e-b298-b9e404ca86af"
      },
      "outputs": [
        {
          "name": "stdout",
          "output_type": "stream",
          "text": [
            "+---------------+-----------+----------------+---------------+--------------------+--------+-----------------+-------------------------+-----------+--------------------+-----------------+-----------------+----+\n",
            "|Item_Identifier|Item_Weight|Item_Fat_Content|Item_Visibility|           Item_Type|Item_MRP|Outlet_Identifier|Outlet_Establishment_Year|Outlet_Size|Outlet_Location_Type|      Outlet_Type|Item_Outlet_Sales|flag|\n",
            "+---------------+-----------+----------------+---------------+--------------------+--------+-----------------+-------------------------+-----------+--------------------+-----------------+-----------------+----+\n",
            "|          FDA15|        9.3|         Low Fat|    0.016047301|               Dairy|249.8092|           OUT049|                     1999|     Medium|              Tier 1|Supermarket Type1|         3735.138| new|\n",
            "|          DRC01|       5.92|         Regular|    0.019278216|         Soft Drinks| 48.2692|           OUT018|                     2009|     Medium|              Tier 3|Supermarket Type2|         443.4228| new|\n",
            "|          FDN15|       17.5|         Low Fat|    0.016760075|                Meat| 141.618|           OUT049|                     1999|     Medium|              Tier 1|Supermarket Type1|          2097.27| new|\n",
            "|          FDX07|       19.2|         Regular|            0.0|Fruits and Vegeta...| 182.095|           OUT010|                     1998|       NULL|              Tier 3|    Grocery Store|           732.38| new|\n",
            "|          NCD19|       8.93|         Low Fat|            0.0|           Household| 53.8614|           OUT013|                     1987|       High|              Tier 3|Supermarket Type1|         994.7052| new|\n",
            "|          FDP36|     10.395|         Regular|            0.0|        Baking Goods| 51.4008|           OUT018|                     2009|     Medium|              Tier 3|Supermarket Type2|         556.6088| new|\n",
            "|          FDO10|      13.65|         Regular|    0.012741089|         Snack Foods| 57.6588|           OUT013|                     1987|       High|              Tier 3|Supermarket Type1|         343.5528| new|\n",
            "|          FDP10|       NULL|         Low Fat|    0.127469857|         Snack Foods|107.7622|           OUT027|                     1985|     Medium|              Tier 3|Supermarket Type3|        4022.7636| new|\n",
            "|          FDH17|       16.2|         Regular|    0.016687114|        Frozen Foods| 96.9726|           OUT045|                     2002|       NULL|              Tier 2|Supermarket Type1|        1076.5986| new|\n",
            "|          FDU28|       19.2|         Regular|     0.09444959|        Frozen Foods|187.8214|           OUT017|                     2007|       NULL|              Tier 2|Supermarket Type1|         4710.535| new|\n",
            "|          FDY07|       11.8|         Low Fat|            0.0|Fruits and Vegeta...| 45.5402|           OUT049|                     1999|     Medium|              Tier 1|Supermarket Type1|        1516.0266| new|\n",
            "|          FDA03|       18.5|         Regular|    0.045463773|               Dairy|144.1102|           OUT046|                     1997|      Small|              Tier 1|Supermarket Type1|         2187.153| new|\n",
            "|          FDX32|       15.1|         Regular|      0.1000135|Fruits and Vegeta...|145.4786|           OUT049|                     1999|     Medium|              Tier 1|Supermarket Type1|        1589.2646| new|\n",
            "|          FDS46|       17.6|         Regular|    0.047257328|         Snack Foods|119.6782|           OUT046|                     1997|      Small|              Tier 1|Supermarket Type1|        2145.2076| new|\n",
            "|          FDF32|      16.35|         Low Fat|      0.0680243|Fruits and Vegeta...|196.4426|           OUT013|                     1987|       High|              Tier 3|Supermarket Type1|         1977.426| new|\n",
            "|          FDP49|          9|         Regular|    0.069088961|           Breakfast| 56.3614|           OUT046|                     1997|      Small|              Tier 1|Supermarket Type1|        1547.3192| new|\n",
            "|          NCB42|       11.8|         Low Fat|    0.008596051|  Health and Hygiene|115.3492|           OUT018|                     2009|     Medium|              Tier 3|Supermarket Type2|        1621.8888| new|\n",
            "|          FDP49|          9|         Regular|    0.069196376|           Breakfast| 54.3614|           OUT049|                     1999|     Medium|              Tier 1|Supermarket Type1|         718.3982| new|\n",
            "|          DRI11|       NULL|         Low Fat|    0.034237682|         Hard Drinks|113.2834|           OUT027|                     1985|     Medium|              Tier 3|Supermarket Type3|         2303.668| new|\n",
            "|          FDU02|      13.35|         Low Fat|     0.10249212|               Dairy|230.5352|           OUT035|                     2004|      Small|              Tier 2|Supermarket Type1|        2748.4224| new|\n",
            "+---------------+-----------+----------------+---------------+--------------------+--------+-----------------+-------------------------+-----------+--------------------+-----------------+-----------------+----+\n",
            "only showing top 20 rows\n",
            "\n"
          ]
        }
      ],
      "source": [
        "df.show()"
      ]
    },
    {
      "cell_type": "code",
      "execution_count": 42,
      "metadata": {
        "colab": {
          "base_uri": "https://localhost:8080/"
        },
        "id": "XDRcduBaOTsb",
        "outputId": "eb4dfd04-7499-494c-b873-9572ea0283f0"
      },
      "outputs": [
        {
          "name": "stdout",
          "output_type": "stream",
          "text": [
            "+---------------+-----------+----------------+---------------+--------------------+--------+-----------------+-------------------------+-----------+--------------------+-----------------+-----------------+----+------------------+\n",
            "|Item_Identifier|Item_Weight|Item_Fat_Content|Item_Visibility|           Item_Type|Item_MRP|Outlet_Identifier|Outlet_Establishment_Year|Outlet_Size|Outlet_Location_Type|      Outlet_Type|Item_Outlet_Sales|flag|          multiply|\n",
            "+---------------+-----------+----------------+---------------+--------------------+--------+-----------------+-------------------------+-----------+--------------------+-----------------+-----------------+----+------------------+\n",
            "|          FDA15|        9.3|         Low Fat|    0.016047301|               Dairy|249.8092|           OUT049|                     1999|     Medium|              Tier 1|Supermarket Type1|         3735.138| new|2323.2255600000003|\n",
            "|          DRC01|       5.92|         Regular|    0.019278216|         Soft Drinks| 48.2692|           OUT018|                     2009|     Medium|              Tier 3|Supermarket Type2|         443.4228| new|285.75366399999996|\n",
            "|          FDN15|       17.5|         Low Fat|    0.016760075|                Meat| 141.618|           OUT049|                     1999|     Medium|              Tier 1|Supermarket Type1|          2097.27| new|          2478.315|\n",
            "|          FDX07|       19.2|         Regular|            0.0|Fruits and Vegeta...| 182.095|           OUT010|                     1998|       NULL|              Tier 3|    Grocery Store|           732.38| new|3496.2239999999997|\n",
            "|          NCD19|       8.93|         Low Fat|            0.0|           Household| 53.8614|           OUT013|                     1987|       High|              Tier 3|Supermarket Type1|         994.7052| new|        480.982302|\n",
            "|          FDP36|     10.395|         Regular|            0.0|        Baking Goods| 51.4008|           OUT018|                     2009|     Medium|              Tier 3|Supermarket Type2|         556.6088| new| 534.3113159999999|\n",
            "|          FDO10|      13.65|         Regular|    0.012741089|         Snack Foods| 57.6588|           OUT013|                     1987|       High|              Tier 3|Supermarket Type1|         343.5528| new|         787.04262|\n",
            "|          FDP10|       NULL|         Low Fat|    0.127469857|         Snack Foods|107.7622|           OUT027|                     1985|     Medium|              Tier 3|Supermarket Type3|        4022.7636| new|              NULL|\n",
            "|          FDH17|       16.2|         Regular|    0.016687114|        Frozen Foods| 96.9726|           OUT045|                     2002|       NULL|              Tier 2|Supermarket Type1|        1076.5986| new|1570.9561199999998|\n",
            "|          FDU28|       19.2|         Regular|     0.09444959|        Frozen Foods|187.8214|           OUT017|                     2007|       NULL|              Tier 2|Supermarket Type1|         4710.535| new|        3606.17088|\n",
            "|          FDY07|       11.8|         Low Fat|            0.0|Fruits and Vegeta...| 45.5402|           OUT049|                     1999|     Medium|              Tier 1|Supermarket Type1|        1516.0266| new|         537.37436|\n",
            "|          FDA03|       18.5|         Regular|    0.045463773|               Dairy|144.1102|           OUT046|                     1997|      Small|              Tier 1|Supermarket Type1|         2187.153| new|         2666.0387|\n",
            "|          FDX32|       15.1|         Regular|      0.1000135|Fruits and Vegeta...|145.4786|           OUT049|                     1999|     Medium|              Tier 1|Supermarket Type1|        1589.2646| new|2196.7268599999998|\n",
            "|          FDS46|       17.6|         Regular|    0.047257328|         Snack Foods|119.6782|           OUT046|                     1997|      Small|              Tier 1|Supermarket Type1|        2145.2076| new|2106.3363200000003|\n",
            "|          FDF32|      16.35|         Low Fat|      0.0680243|Fruits and Vegeta...|196.4426|           OUT013|                     1987|       High|              Tier 3|Supermarket Type1|         1977.426| new|        3211.83651|\n",
            "|          FDP49|          9|         Regular|    0.069088961|           Breakfast| 56.3614|           OUT046|                     1997|      Small|              Tier 1|Supermarket Type1|        1547.3192| new|507.25260000000003|\n",
            "|          NCB42|       11.8|         Low Fat|    0.008596051|  Health and Hygiene|115.3492|           OUT018|                     2009|     Medium|              Tier 3|Supermarket Type2|        1621.8888| new|        1361.12056|\n",
            "|          FDP49|          9|         Regular|    0.069196376|           Breakfast| 54.3614|           OUT049|                     1999|     Medium|              Tier 1|Supermarket Type1|         718.3982| new|489.25260000000003|\n",
            "|          DRI11|       NULL|         Low Fat|    0.034237682|         Hard Drinks|113.2834|           OUT027|                     1985|     Medium|              Tier 3|Supermarket Type3|         2303.668| new|              NULL|\n",
            "|          FDU02|      13.35|         Low Fat|     0.10249212|               Dairy|230.5352|           OUT035|                     2004|      Small|              Tier 2|Supermarket Type1|        2748.4224| new|        3077.64492|\n",
            "+---------------+-----------+----------------+---------------+--------------------+--------+-----------------+-------------------------+-----------+--------------------+-----------------+-----------------+----+------------------+\n",
            "only showing top 20 rows\n",
            "\n"
          ]
        }
      ],
      "source": [
        "df.withColumn('multiply',col('Item_Weight')*col('Item_MRP')).show()"
      ]
    },
    {
      "cell_type": "code",
      "execution_count": null,
      "metadata": {
        "colab": {
          "base_uri": "https://localhost:8080/"
        },
        "id": "3i1oC2ZmOZ6Y",
        "outputId": "64191bd6-bd04-4c62-e844-9d5a5d024a7e"
      },
      "outputs": [
        {
          "name": "stdout",
          "output_type": "stream",
          "text": [
            "+---------------+-----------+----------------+---------------+--------------------+--------+-----------------+-------------------------+-----------+--------------------+-----------------+-----------------+----+\n",
            "|Item_Identifier|Item_Weight|Item_Fat_Content|Item_Visibility|           Item_Type|Item_MRP|Outlet_Identifier|Outlet_Establishment_Year|Outlet_Size|Outlet_Location_Type|      Outlet_Type|Item_Outlet_Sales|flag|\n",
            "+---------------+-----------+----------------+---------------+--------------------+--------+-----------------+-------------------------+-----------+--------------------+-----------------+-----------------+----+\n",
            "|          FDA15|        9.3|              Lf|    0.016047301|               Dairy|249.8092|           OUT049|                     1999|     Medium|              Tier 1|Supermarket Type1|         3735.138| new|\n",
            "|          DRC01|       5.92|             Reg|    0.019278216|         Soft Drinks| 48.2692|           OUT018|                     2009|     Medium|              Tier 3|Supermarket Type2|         443.4228| new|\n",
            "|          FDN15|       17.5|              Lf|    0.016760075|                Meat| 141.618|           OUT049|                     1999|     Medium|              Tier 1|Supermarket Type1|          2097.27| new|\n",
            "|          FDX07|       19.2|             Reg|            0.0|Fruits and Vegeta...| 182.095|           OUT010|                     1998|       NULL|              Tier 3|    Grocery Store|           732.38| new|\n",
            "|          NCD19|       8.93|              Lf|            0.0|           Household| 53.8614|           OUT013|                     1987|       High|              Tier 3|Supermarket Type1|         994.7052| new|\n",
            "|          FDP36|     10.395|             Reg|            0.0|        Baking Goods| 51.4008|           OUT018|                     2009|     Medium|              Tier 3|Supermarket Type2|         556.6088| new|\n",
            "|          FDO10|      13.65|             Reg|    0.012741089|         Snack Foods| 57.6588|           OUT013|                     1987|       High|              Tier 3|Supermarket Type1|         343.5528| new|\n",
            "|          FDP10|       NULL|              Lf|    0.127469857|         Snack Foods|107.7622|           OUT027|                     1985|     Medium|              Tier 3|Supermarket Type3|        4022.7636| new|\n",
            "|          FDH17|       16.2|             Reg|    0.016687114|        Frozen Foods| 96.9726|           OUT045|                     2002|       NULL|              Tier 2|Supermarket Type1|        1076.5986| new|\n",
            "|          FDU28|       19.2|             Reg|     0.09444959|        Frozen Foods|187.8214|           OUT017|                     2007|       NULL|              Tier 2|Supermarket Type1|         4710.535| new|\n",
            "|          FDY07|       11.8|              Lf|            0.0|Fruits and Vegeta...| 45.5402|           OUT049|                     1999|     Medium|              Tier 1|Supermarket Type1|        1516.0266| new|\n",
            "|          FDA03|       18.5|             Reg|    0.045463773|               Dairy|144.1102|           OUT046|                     1997|      Small|              Tier 1|Supermarket Type1|         2187.153| new|\n",
            "|          FDX32|       15.1|             Reg|      0.1000135|Fruits and Vegeta...|145.4786|           OUT049|                     1999|     Medium|              Tier 1|Supermarket Type1|        1589.2646| new|\n",
            "|          FDS46|       17.6|             Reg|    0.047257328|         Snack Foods|119.6782|           OUT046|                     1997|      Small|              Tier 1|Supermarket Type1|        2145.2076| new|\n",
            "|          FDF32|      16.35|              Lf|      0.0680243|Fruits and Vegeta...|196.4426|           OUT013|                     1987|       High|              Tier 3|Supermarket Type1|         1977.426| new|\n",
            "|          FDP49|          9|             Reg|    0.069088961|           Breakfast| 56.3614|           OUT046|                     1997|      Small|              Tier 1|Supermarket Type1|        1547.3192| new|\n",
            "|          NCB42|       11.8|              Lf|    0.008596051|  Health and Hygiene|115.3492|           OUT018|                     2009|     Medium|              Tier 3|Supermarket Type2|        1621.8888| new|\n",
            "|          FDP49|          9|             Reg|    0.069196376|           Breakfast| 54.3614|           OUT049|                     1999|     Medium|              Tier 1|Supermarket Type1|         718.3982| new|\n",
            "|          DRI11|       NULL|              Lf|    0.034237682|         Hard Drinks|113.2834|           OUT027|                     1985|     Medium|              Tier 3|Supermarket Type3|         2303.668| new|\n",
            "|          FDU02|      13.35|              Lf|     0.10249212|               Dairy|230.5352|           OUT035|                     2004|      Small|              Tier 2|Supermarket Type1|        2748.4224| new|\n",
            "+---------------+-----------+----------------+---------------+--------------------+--------+-----------------+-------------------------+-----------+--------------------+-----------------+-----------------+----+\n",
            "only showing top 20 rows\n",
            "\n"
          ]
        }
      ],
      "source": [
        "df = df.withColumn('Item_Fat_Content',regexp_replace(col('Item_Fat_Content'),\"Regular\",\"Reg\"))\\\n",
        "    .withColumn('Item_Fat_Content',regexp_replace(col('Item_Fat_Content'),\"Low Fat\",\"Lf\"))\n",
        "\n",
        "df.show()"
      ]
    },
    {
      "cell_type": "code",
      "execution_count": 46,
      "metadata": {
        "id": "zyrp5hkIOd0R"
      },
      "outputs": [],
      "source": [
        "df = df.withColumn('Item_Weight', col('Item_Weight').cast(StringType()))"
      ]
    },
    {
      "cell_type": "code",
      "execution_count": 68,
      "metadata": {
        "id": "W8_BDehGPGBZ"
      },
      "outputs": [],
      "source": [
        "####Preaparing Dataframes"
      ]
    },
    {
      "cell_type": "code",
      "execution_count": 69,
      "metadata": {
        "id": "dUSNOKs1PHID"
      },
      "outputs": [],
      "source": [
        "data1 = [('1','kad'),\n",
        "        ('2','sid')]\n",
        "schema1 = 'id STRING, name STRING'\n",
        "\n",
        "df1 = spark.createDataFrame(data1,schema1)\n",
        "\n",
        "data2 = [('3','rahul'),\n",
        "        ('4','jas')]\n",
        "schema2 = 'id STRING, name STRING'\n",
        "\n",
        "df2 = spark.createDataFrame(data2,schema2)\n",
        "\n"
      ]
    },
    {
      "cell_type": "code",
      "execution_count": 70,
      "metadata": {
        "colab": {
          "base_uri": "https://localhost:8080/"
        },
        "id": "AyHSvw-xPIXK",
        "outputId": "a148500a-f517-4331-b8cc-92c01f704fa4"
      },
      "outputs": [
        {
          "name": "stdout",
          "output_type": "stream",
          "text": [
            "+---+----+\n",
            "| id|name|\n",
            "+---+----+\n",
            "|  1| kad|\n",
            "|  2| sid|\n",
            "+---+----+\n",
            "\n"
          ]
        }
      ],
      "source": [
        "df1.show()"
      ]
    },
    {
      "cell_type": "code",
      "execution_count": 71,
      "metadata": {
        "colab": {
          "base_uri": "https://localhost:8080/"
        },
        "id": "pDbjDVaSPMfW",
        "outputId": "c8a7eefd-4808-42ad-e044-432a2dea7c9c"
      },
      "outputs": [
        {
          "name": "stdout",
          "output_type": "stream",
          "text": [
            "+---+-----+\n",
            "| id| name|\n",
            "+---+-----+\n",
            "|  3|rahul|\n",
            "|  4|  jas|\n",
            "+---+-----+\n",
            "\n"
          ]
        }
      ],
      "source": [
        "df2.show()"
      ]
    },
    {
      "cell_type": "code",
      "execution_count": 72,
      "metadata": {
        "id": "3C_PXBgMPNzl"
      },
      "outputs": [],
      "source": [
        "### Union"
      ]
    },
    {
      "cell_type": "code",
      "execution_count": 73,
      "metadata": {
        "colab": {
          "base_uri": "https://localhost:8080/"
        },
        "id": "1qJtiPFkPUbB",
        "outputId": "2d4084b4-8179-4576-b73c-162d5962f07c"
      },
      "outputs": [
        {
          "name": "stdout",
          "output_type": "stream",
          "text": [
            "+---+-----+\n",
            "| id| name|\n",
            "+---+-----+\n",
            "|  1|  kad|\n",
            "|  2|  sid|\n",
            "|  3|rahul|\n",
            "|  4|  jas|\n",
            "+---+-----+\n",
            "\n"
          ]
        }
      ],
      "source": [
        "df1.union(df2).show()"
      ]
    },
    {
      "cell_type": "code",
      "execution_count": 74,
      "metadata": {
        "colab": {
          "base_uri": "https://localhost:8080/"
        },
        "id": "OaJ1mNw3PXP-",
        "outputId": "8cf6a3af-6ddf-433e-99b8-ad377c85409a"
      },
      "outputs": [
        {
          "name": "stdout",
          "output_type": "stream",
          "text": [
            "+----+---+\n",
            "|name| id|\n",
            "+----+---+\n",
            "| kad|  1|\n",
            "| sid|  2|\n",
            "+----+---+\n",
            "\n"
          ]
        }
      ],
      "source": [
        "data1 = [('kad','1',),\n",
        "        ('sid','2',)]\n",
        "schema1 = 'name STRING, id STRING'\n",
        "\n",
        "df1 = spark.createDataFrame(data1,schema1)\n",
        "\n",
        "df1.show()"
      ]
    },
    {
      "cell_type": "code",
      "execution_count": 75,
      "metadata": {
        "colab": {
          "base_uri": "https://localhost:8080/"
        },
        "id": "2Ei61HZtPZOS",
        "outputId": "d4fa5a0a-fce1-4123-fd78-676f07071851"
      },
      "outputs": [
        {
          "name": "stdout",
          "output_type": "stream",
          "text": [
            "+----+-----+\n",
            "|name|   id|\n",
            "+----+-----+\n",
            "| kad|    1|\n",
            "| sid|    2|\n",
            "|   3|rahul|\n",
            "|   4|  jas|\n",
            "+----+-----+\n",
            "\n"
          ]
        }
      ],
      "source": [
        "df1.union(df2).show()"
      ]
    },
    {
      "cell_type": "code",
      "execution_count": 76,
      "metadata": {
        "id": "iBWevmlaPbZP"
      },
      "outputs": [],
      "source": [
        "### Union by Name"
      ]
    },
    {
      "cell_type": "code",
      "execution_count": 77,
      "metadata": {
        "colab": {
          "base_uri": "https://localhost:8080/"
        },
        "id": "vfiBiX1oPdIp",
        "outputId": "aa8e08cf-11a8-48c0-9e17-521b25d795c9"
      },
      "outputs": [
        {
          "name": "stdout",
          "output_type": "stream",
          "text": [
            "+-----+---+\n",
            "| name| id|\n",
            "+-----+---+\n",
            "|  kad|  1|\n",
            "|  sid|  2|\n",
            "|rahul|  3|\n",
            "|  jas|  4|\n",
            "+-----+---+\n",
            "\n"
          ]
        }
      ],
      "source": [
        "df1.unionByName(df2).show()"
      ]
    },
    {
      "cell_type": "code",
      "execution_count": 78,
      "metadata": {
        "id": "__nk0NjKPfg2"
      },
      "outputs": [],
      "source": [
        "### String Functions"
      ]
    },
    {
      "cell_type": "code",
      "execution_count": 79,
      "metadata": {
        "id": "Aqs3d5Y9PhZv"
      },
      "outputs": [],
      "source": [
        "#### Initcap()"
      ]
    },
    {
      "cell_type": "code",
      "execution_count": 80,
      "metadata": {
        "colab": {
          "base_uri": "https://localhost:8080/"
        },
        "id": "yEAIG-6IPijM",
        "outputId": "3439e2d1-e481-47b7-dcf2-e39c737cc321"
      },
      "outputs": [
        {
          "name": "stdout",
          "output_type": "stream",
          "text": [
            "+--------------------+\n",
            "|     upper_Item_Type|\n",
            "+--------------------+\n",
            "|               DAIRY|\n",
            "|         SOFT DRINKS|\n",
            "|                MEAT|\n",
            "|FRUITS AND VEGETA...|\n",
            "|           HOUSEHOLD|\n",
            "|        BAKING GOODS|\n",
            "|         SNACK FOODS|\n",
            "|         SNACK FOODS|\n",
            "|        FROZEN FOODS|\n",
            "|        FROZEN FOODS|\n",
            "|FRUITS AND VEGETA...|\n",
            "|               DAIRY|\n",
            "|FRUITS AND VEGETA...|\n",
            "|         SNACK FOODS|\n",
            "|FRUITS AND VEGETA...|\n",
            "|           BREAKFAST|\n",
            "|  HEALTH AND HYGIENE|\n",
            "|           BREAKFAST|\n",
            "|         HARD DRINKS|\n",
            "|               DAIRY|\n",
            "+--------------------+\n",
            "only showing top 20 rows\n",
            "\n"
          ]
        }
      ],
      "source": [
        "df.select(upper('Item_Type').alias('upper_Item_Type')).show()"
      ]
    },
    {
      "cell_type": "code",
      "execution_count": 85,
      "metadata": {
        "colab": {
          "base_uri": "https://localhost:8080/"
        },
        "id": "U2VG5NUKPpQg",
        "outputId": "f8e1211e-dc86-46fd-95e5-84a51f2639dc"
      },
      "outputs": [
        {
          "name": "stdout",
          "output_type": "stream",
          "text": [
            "+---------------+-----------+----------------+---------------+--------------------+--------+-----------------+-------------------------+-----------+--------------------+-----------------+-----------------+----+----------+\n",
            "|Item_Identifier|Item_Weight|Item_Fat_Content|Item_Visibility|           Item_Type|Item_MRP|Outlet_Identifier|Outlet_Establishment_Year|Outlet_Size|Outlet_Location_Type|      Outlet_Type|Item_Outlet_Sales|flag| curr_date|\n",
            "+---------------+-----------+----------------+---------------+--------------------+--------+-----------------+-------------------------+-----------+--------------------+-----------------+-----------------+----+----------+\n",
            "|          FDA15|        9.3|              Lf|    0.016047301|               Dairy|249.8092|           OUT049|                     1999|     Medium|              Tier 1|Supermarket Type1|         3735.138| new|2025-03-10|\n",
            "|          DRC01|       5.92|             Reg|    0.019278216|         Soft Drinks| 48.2692|           OUT018|                     2009|     Medium|              Tier 3|Supermarket Type2|         443.4228| new|2025-03-10|\n",
            "|          FDN15|       17.5|              Lf|    0.016760075|                Meat| 141.618|           OUT049|                     1999|     Medium|              Tier 1|Supermarket Type1|          2097.27| new|2025-03-10|\n",
            "|          FDX07|       19.2|             Reg|            0.0|Fruits and Vegeta...| 182.095|           OUT010|                     1998|       NULL|              Tier 3|    Grocery Store|           732.38| new|2025-03-10|\n",
            "|          NCD19|       8.93|              Lf|            0.0|           Household| 53.8614|           OUT013|                     1987|       High|              Tier 3|Supermarket Type1|         994.7052| new|2025-03-10|\n",
            "|          FDP36|     10.395|             Reg|            0.0|        Baking Goods| 51.4008|           OUT018|                     2009|     Medium|              Tier 3|Supermarket Type2|         556.6088| new|2025-03-10|\n",
            "|          FDO10|      13.65|             Reg|    0.012741089|         Snack Foods| 57.6588|           OUT013|                     1987|       High|              Tier 3|Supermarket Type1|         343.5528| new|2025-03-10|\n",
            "|          FDP10|       NULL|              Lf|    0.127469857|         Snack Foods|107.7622|           OUT027|                     1985|     Medium|              Tier 3|Supermarket Type3|        4022.7636| new|2025-03-10|\n",
            "|          FDH17|       16.2|             Reg|    0.016687114|        Frozen Foods| 96.9726|           OUT045|                     2002|       NULL|              Tier 2|Supermarket Type1|        1076.5986| new|2025-03-10|\n",
            "|          FDU28|       19.2|             Reg|     0.09444959|        Frozen Foods|187.8214|           OUT017|                     2007|       NULL|              Tier 2|Supermarket Type1|         4710.535| new|2025-03-10|\n",
            "|          FDY07|       11.8|              Lf|            0.0|Fruits and Vegeta...| 45.5402|           OUT049|                     1999|     Medium|              Tier 1|Supermarket Type1|        1516.0266| new|2025-03-10|\n",
            "|          FDA03|       18.5|             Reg|    0.045463773|               Dairy|144.1102|           OUT046|                     1997|      Small|              Tier 1|Supermarket Type1|         2187.153| new|2025-03-10|\n",
            "|          FDX32|       15.1|             Reg|      0.1000135|Fruits and Vegeta...|145.4786|           OUT049|                     1999|     Medium|              Tier 1|Supermarket Type1|        1589.2646| new|2025-03-10|\n",
            "|          FDS46|       17.6|             Reg|    0.047257328|         Snack Foods|119.6782|           OUT046|                     1997|      Small|              Tier 1|Supermarket Type1|        2145.2076| new|2025-03-10|\n",
            "|          FDF32|      16.35|              Lf|      0.0680243|Fruits and Vegeta...|196.4426|           OUT013|                     1987|       High|              Tier 3|Supermarket Type1|         1977.426| new|2025-03-10|\n",
            "|          FDP49|          9|             Reg|    0.069088961|           Breakfast| 56.3614|           OUT046|                     1997|      Small|              Tier 1|Supermarket Type1|        1547.3192| new|2025-03-10|\n",
            "|          NCB42|       11.8|              Lf|    0.008596051|  Health and Hygiene|115.3492|           OUT018|                     2009|     Medium|              Tier 3|Supermarket Type2|        1621.8888| new|2025-03-10|\n",
            "|          FDP49|          9|             Reg|    0.069196376|           Breakfast| 54.3614|           OUT049|                     1999|     Medium|              Tier 1|Supermarket Type1|         718.3982| new|2025-03-10|\n",
            "|          DRI11|       NULL|              Lf|    0.034237682|         Hard Drinks|113.2834|           OUT027|                     1985|     Medium|              Tier 3|Supermarket Type3|         2303.668| new|2025-03-10|\n",
            "|          FDU02|      13.35|              Lf|     0.10249212|               Dairy|230.5352|           OUT035|                     2004|      Small|              Tier 2|Supermarket Type1|        2748.4224| new|2025-03-10|\n",
            "+---------------+-----------+----------------+---------------+--------------------+--------+-----------------+-------------------------+-----------+--------------------+-----------------+-----------------+----+----------+\n",
            "only showing top 20 rows\n",
            "\n"
          ]
        }
      ],
      "source": [
        "df = df.withColumn('curr_date',current_date())\n",
        "df.show()"
      ]
    },
    {
      "cell_type": "code",
      "execution_count": 86,
      "metadata": {
        "id": "-YfenFdIPra-"
      },
      "outputs": [],
      "source": [
        "#### Date_Add()"
      ]
    },
    {
      "cell_type": "code",
      "execution_count": 87,
      "metadata": {
        "colab": {
          "base_uri": "https://localhost:8080/"
        },
        "id": "6_mS1jvgPzF8",
        "outputId": "ef4f46b0-b84d-4a70-c63a-a564eb15380f"
      },
      "outputs": [
        {
          "name": "stdout",
          "output_type": "stream",
          "text": [
            "+---------------+-----------+----------------+---------------+--------------------+--------+-----------------+-------------------------+-----------+--------------------+-----------------+-----------------+----+----------+----------+\n",
            "|Item_Identifier|Item_Weight|Item_Fat_Content|Item_Visibility|           Item_Type|Item_MRP|Outlet_Identifier|Outlet_Establishment_Year|Outlet_Size|Outlet_Location_Type|      Outlet_Type|Item_Outlet_Sales|flag| curr_date|week_after|\n",
            "+---------------+-----------+----------------+---------------+--------------------+--------+-----------------+-------------------------+-----------+--------------------+-----------------+-----------------+----+----------+----------+\n",
            "|          FDA15|        9.3|              Lf|    0.016047301|               Dairy|249.8092|           OUT049|                     1999|     Medium|              Tier 1|Supermarket Type1|         3735.138| new|2025-03-10|2025-03-17|\n",
            "|          DRC01|       5.92|             Reg|    0.019278216|         Soft Drinks| 48.2692|           OUT018|                     2009|     Medium|              Tier 3|Supermarket Type2|         443.4228| new|2025-03-10|2025-03-17|\n",
            "|          FDN15|       17.5|              Lf|    0.016760075|                Meat| 141.618|           OUT049|                     1999|     Medium|              Tier 1|Supermarket Type1|          2097.27| new|2025-03-10|2025-03-17|\n",
            "|          FDX07|       19.2|             Reg|            0.0|Fruits and Vegeta...| 182.095|           OUT010|                     1998|       NULL|              Tier 3|    Grocery Store|           732.38| new|2025-03-10|2025-03-17|\n",
            "|          NCD19|       8.93|              Lf|            0.0|           Household| 53.8614|           OUT013|                     1987|       High|              Tier 3|Supermarket Type1|         994.7052| new|2025-03-10|2025-03-17|\n",
            "|          FDP36|     10.395|             Reg|            0.0|        Baking Goods| 51.4008|           OUT018|                     2009|     Medium|              Tier 3|Supermarket Type2|         556.6088| new|2025-03-10|2025-03-17|\n",
            "|          FDO10|      13.65|             Reg|    0.012741089|         Snack Foods| 57.6588|           OUT013|                     1987|       High|              Tier 3|Supermarket Type1|         343.5528| new|2025-03-10|2025-03-17|\n",
            "|          FDP10|       NULL|              Lf|    0.127469857|         Snack Foods|107.7622|           OUT027|                     1985|     Medium|              Tier 3|Supermarket Type3|        4022.7636| new|2025-03-10|2025-03-17|\n",
            "|          FDH17|       16.2|             Reg|    0.016687114|        Frozen Foods| 96.9726|           OUT045|                     2002|       NULL|              Tier 2|Supermarket Type1|        1076.5986| new|2025-03-10|2025-03-17|\n",
            "|          FDU28|       19.2|             Reg|     0.09444959|        Frozen Foods|187.8214|           OUT017|                     2007|       NULL|              Tier 2|Supermarket Type1|         4710.535| new|2025-03-10|2025-03-17|\n",
            "|          FDY07|       11.8|              Lf|            0.0|Fruits and Vegeta...| 45.5402|           OUT049|                     1999|     Medium|              Tier 1|Supermarket Type1|        1516.0266| new|2025-03-10|2025-03-17|\n",
            "|          FDA03|       18.5|             Reg|    0.045463773|               Dairy|144.1102|           OUT046|                     1997|      Small|              Tier 1|Supermarket Type1|         2187.153| new|2025-03-10|2025-03-17|\n",
            "|          FDX32|       15.1|             Reg|      0.1000135|Fruits and Vegeta...|145.4786|           OUT049|                     1999|     Medium|              Tier 1|Supermarket Type1|        1589.2646| new|2025-03-10|2025-03-17|\n",
            "|          FDS46|       17.6|             Reg|    0.047257328|         Snack Foods|119.6782|           OUT046|                     1997|      Small|              Tier 1|Supermarket Type1|        2145.2076| new|2025-03-10|2025-03-17|\n",
            "|          FDF32|      16.35|              Lf|      0.0680243|Fruits and Vegeta...|196.4426|           OUT013|                     1987|       High|              Tier 3|Supermarket Type1|         1977.426| new|2025-03-10|2025-03-17|\n",
            "|          FDP49|          9|             Reg|    0.069088961|           Breakfast| 56.3614|           OUT046|                     1997|      Small|              Tier 1|Supermarket Type1|        1547.3192| new|2025-03-10|2025-03-17|\n",
            "|          NCB42|       11.8|              Lf|    0.008596051|  Health and Hygiene|115.3492|           OUT018|                     2009|     Medium|              Tier 3|Supermarket Type2|        1621.8888| new|2025-03-10|2025-03-17|\n",
            "|          FDP49|          9|             Reg|    0.069196376|           Breakfast| 54.3614|           OUT049|                     1999|     Medium|              Tier 1|Supermarket Type1|         718.3982| new|2025-03-10|2025-03-17|\n",
            "|          DRI11|       NULL|              Lf|    0.034237682|         Hard Drinks|113.2834|           OUT027|                     1985|     Medium|              Tier 3|Supermarket Type3|         2303.668| new|2025-03-10|2025-03-17|\n",
            "|          FDU02|      13.35|              Lf|     0.10249212|               Dairy|230.5352|           OUT035|                     2004|      Small|              Tier 2|Supermarket Type1|        2748.4224| new|2025-03-10|2025-03-17|\n",
            "+---------------+-----------+----------------+---------------+--------------------+--------+-----------------+-------------------------+-----------+--------------------+-----------------+-----------------+----+----------+----------+\n",
            "only showing top 20 rows\n",
            "\n"
          ]
        }
      ],
      "source": [
        "df =df.withColumn('week_after',date_add('curr_date',7))\n",
        "\n",
        "df.show()"
      ]
    },
    {
      "cell_type": "code",
      "execution_count": 88,
      "metadata": {
        "id": "6YHzSDIlP1uz"
      },
      "outputs": [],
      "source": [
        "#### Date_Sub()"
      ]
    },
    {
      "cell_type": "code",
      "execution_count": 89,
      "metadata": {
        "colab": {
          "base_uri": "https://localhost:8080/"
        },
        "id": "ksVZtPIyP3IV",
        "outputId": "a9a6e3e2-1f75-40fc-e91c-1392bac68ae3"
      },
      "outputs": [
        {
          "name": "stdout",
          "output_type": "stream",
          "text": [
            "+---------------+-----------+----------------+---------------+--------------------+--------+-----------------+-------------------------+-----------+--------------------+-----------------+-----------------+----+----------+----------+-----------+\n",
            "|Item_Identifier|Item_Weight|Item_Fat_Content|Item_Visibility|           Item_Type|Item_MRP|Outlet_Identifier|Outlet_Establishment_Year|Outlet_Size|Outlet_Location_Type|      Outlet_Type|Item_Outlet_Sales|flag| curr_date|week_after|week_before|\n",
            "+---------------+-----------+----------------+---------------+--------------------+--------+-----------------+-------------------------+-----------+--------------------+-----------------+-----------------+----+----------+----------+-----------+\n",
            "|          FDA15|        9.3|              Lf|    0.016047301|               Dairy|249.8092|           OUT049|                     1999|     Medium|              Tier 1|Supermarket Type1|         3735.138| new|2025-03-10|2025-03-17| 2025-03-03|\n",
            "|          DRC01|       5.92|             Reg|    0.019278216|         Soft Drinks| 48.2692|           OUT018|                     2009|     Medium|              Tier 3|Supermarket Type2|         443.4228| new|2025-03-10|2025-03-17| 2025-03-03|\n",
            "|          FDN15|       17.5|              Lf|    0.016760075|                Meat| 141.618|           OUT049|                     1999|     Medium|              Tier 1|Supermarket Type1|          2097.27| new|2025-03-10|2025-03-17| 2025-03-03|\n",
            "|          FDX07|       19.2|             Reg|            0.0|Fruits and Vegeta...| 182.095|           OUT010|                     1998|       NULL|              Tier 3|    Grocery Store|           732.38| new|2025-03-10|2025-03-17| 2025-03-03|\n",
            "|          NCD19|       8.93|              Lf|            0.0|           Household| 53.8614|           OUT013|                     1987|       High|              Tier 3|Supermarket Type1|         994.7052| new|2025-03-10|2025-03-17| 2025-03-03|\n",
            "|          FDP36|     10.395|             Reg|            0.0|        Baking Goods| 51.4008|           OUT018|                     2009|     Medium|              Tier 3|Supermarket Type2|         556.6088| new|2025-03-10|2025-03-17| 2025-03-03|\n",
            "|          FDO10|      13.65|             Reg|    0.012741089|         Snack Foods| 57.6588|           OUT013|                     1987|       High|              Tier 3|Supermarket Type1|         343.5528| new|2025-03-10|2025-03-17| 2025-03-03|\n",
            "|          FDP10|       NULL|              Lf|    0.127469857|         Snack Foods|107.7622|           OUT027|                     1985|     Medium|              Tier 3|Supermarket Type3|        4022.7636| new|2025-03-10|2025-03-17| 2025-03-03|\n",
            "|          FDH17|       16.2|             Reg|    0.016687114|        Frozen Foods| 96.9726|           OUT045|                     2002|       NULL|              Tier 2|Supermarket Type1|        1076.5986| new|2025-03-10|2025-03-17| 2025-03-03|\n",
            "|          FDU28|       19.2|             Reg|     0.09444959|        Frozen Foods|187.8214|           OUT017|                     2007|       NULL|              Tier 2|Supermarket Type1|         4710.535| new|2025-03-10|2025-03-17| 2025-03-03|\n",
            "|          FDY07|       11.8|              Lf|            0.0|Fruits and Vegeta...| 45.5402|           OUT049|                     1999|     Medium|              Tier 1|Supermarket Type1|        1516.0266| new|2025-03-10|2025-03-17| 2025-03-03|\n",
            "|          FDA03|       18.5|             Reg|    0.045463773|               Dairy|144.1102|           OUT046|                     1997|      Small|              Tier 1|Supermarket Type1|         2187.153| new|2025-03-10|2025-03-17| 2025-03-03|\n",
            "|          FDX32|       15.1|             Reg|      0.1000135|Fruits and Vegeta...|145.4786|           OUT049|                     1999|     Medium|              Tier 1|Supermarket Type1|        1589.2646| new|2025-03-10|2025-03-17| 2025-03-03|\n",
            "|          FDS46|       17.6|             Reg|    0.047257328|         Snack Foods|119.6782|           OUT046|                     1997|      Small|              Tier 1|Supermarket Type1|        2145.2076| new|2025-03-10|2025-03-17| 2025-03-03|\n",
            "|          FDF32|      16.35|              Lf|      0.0680243|Fruits and Vegeta...|196.4426|           OUT013|                     1987|       High|              Tier 3|Supermarket Type1|         1977.426| new|2025-03-10|2025-03-17| 2025-03-03|\n",
            "|          FDP49|          9|             Reg|    0.069088961|           Breakfast| 56.3614|           OUT046|                     1997|      Small|              Tier 1|Supermarket Type1|        1547.3192| new|2025-03-10|2025-03-17| 2025-03-03|\n",
            "|          NCB42|       11.8|              Lf|    0.008596051|  Health and Hygiene|115.3492|           OUT018|                     2009|     Medium|              Tier 3|Supermarket Type2|        1621.8888| new|2025-03-10|2025-03-17| 2025-03-03|\n",
            "|          FDP49|          9|             Reg|    0.069196376|           Breakfast| 54.3614|           OUT049|                     1999|     Medium|              Tier 1|Supermarket Type1|         718.3982| new|2025-03-10|2025-03-17| 2025-03-03|\n",
            "|          DRI11|       NULL|              Lf|    0.034237682|         Hard Drinks|113.2834|           OUT027|                     1985|     Medium|              Tier 3|Supermarket Type3|         2303.668| new|2025-03-10|2025-03-17| 2025-03-03|\n",
            "|          FDU02|      13.35|              Lf|     0.10249212|               Dairy|230.5352|           OUT035|                     2004|      Small|              Tier 2|Supermarket Type1|        2748.4224| new|2025-03-10|2025-03-17| 2025-03-03|\n",
            "+---------------+-----------+----------------+---------------+--------------------+--------+-----------------+-------------------------+-----------+--------------------+-----------------+-----------------+----+----------+----------+-----------+\n",
            "only showing top 20 rows\n",
            "\n"
          ]
        }
      ],
      "source": [
        "df.withColumn('week_before',date_sub('curr_date',7)).show()"
      ]
    },
    {
      "cell_type": "code",
      "execution_count": 90,
      "metadata": {
        "colab": {
          "base_uri": "https://localhost:8080/"
        },
        "id": "DQ1ZeqNXP444",
        "outputId": "471d6994-e897-40a4-f89d-4146995ac388"
      },
      "outputs": [
        {
          "name": "stdout",
          "output_type": "stream",
          "text": [
            "+---------------+-----------+----------------+---------------+--------------------+--------+-----------------+-------------------------+-----------+--------------------+-----------------+-----------------+----+----------+----------+-----------+\n",
            "|Item_Identifier|Item_Weight|Item_Fat_Content|Item_Visibility|           Item_Type|Item_MRP|Outlet_Identifier|Outlet_Establishment_Year|Outlet_Size|Outlet_Location_Type|      Outlet_Type|Item_Outlet_Sales|flag| curr_date|week_after|week_before|\n",
            "+---------------+-----------+----------------+---------------+--------------------+--------+-----------------+-------------------------+-----------+--------------------+-----------------+-----------------+----+----------+----------+-----------+\n",
            "|          FDA15|        9.3|              Lf|    0.016047301|               Dairy|249.8092|           OUT049|                     1999|     Medium|              Tier 1|Supermarket Type1|         3735.138| new|2025-03-10|2025-03-17| 2025-03-03|\n",
            "|          DRC01|       5.92|             Reg|    0.019278216|         Soft Drinks| 48.2692|           OUT018|                     2009|     Medium|              Tier 3|Supermarket Type2|         443.4228| new|2025-03-10|2025-03-17| 2025-03-03|\n",
            "|          FDN15|       17.5|              Lf|    0.016760075|                Meat| 141.618|           OUT049|                     1999|     Medium|              Tier 1|Supermarket Type1|          2097.27| new|2025-03-10|2025-03-17| 2025-03-03|\n",
            "|          FDX07|       19.2|             Reg|            0.0|Fruits and Vegeta...| 182.095|           OUT010|                     1998|       NULL|              Tier 3|    Grocery Store|           732.38| new|2025-03-10|2025-03-17| 2025-03-03|\n",
            "|          NCD19|       8.93|              Lf|            0.0|           Household| 53.8614|           OUT013|                     1987|       High|              Tier 3|Supermarket Type1|         994.7052| new|2025-03-10|2025-03-17| 2025-03-03|\n",
            "|          FDP36|     10.395|             Reg|            0.0|        Baking Goods| 51.4008|           OUT018|                     2009|     Medium|              Tier 3|Supermarket Type2|         556.6088| new|2025-03-10|2025-03-17| 2025-03-03|\n",
            "|          FDO10|      13.65|             Reg|    0.012741089|         Snack Foods| 57.6588|           OUT013|                     1987|       High|              Tier 3|Supermarket Type1|         343.5528| new|2025-03-10|2025-03-17| 2025-03-03|\n",
            "|          FDP10|       NULL|              Lf|    0.127469857|         Snack Foods|107.7622|           OUT027|                     1985|     Medium|              Tier 3|Supermarket Type3|        4022.7636| new|2025-03-10|2025-03-17| 2025-03-03|\n",
            "|          FDH17|       16.2|             Reg|    0.016687114|        Frozen Foods| 96.9726|           OUT045|                     2002|       NULL|              Tier 2|Supermarket Type1|        1076.5986| new|2025-03-10|2025-03-17| 2025-03-03|\n",
            "|          FDU28|       19.2|             Reg|     0.09444959|        Frozen Foods|187.8214|           OUT017|                     2007|       NULL|              Tier 2|Supermarket Type1|         4710.535| new|2025-03-10|2025-03-17| 2025-03-03|\n",
            "|          FDY07|       11.8|              Lf|            0.0|Fruits and Vegeta...| 45.5402|           OUT049|                     1999|     Medium|              Tier 1|Supermarket Type1|        1516.0266| new|2025-03-10|2025-03-17| 2025-03-03|\n",
            "|          FDA03|       18.5|             Reg|    0.045463773|               Dairy|144.1102|           OUT046|                     1997|      Small|              Tier 1|Supermarket Type1|         2187.153| new|2025-03-10|2025-03-17| 2025-03-03|\n",
            "|          FDX32|       15.1|             Reg|      0.1000135|Fruits and Vegeta...|145.4786|           OUT049|                     1999|     Medium|              Tier 1|Supermarket Type1|        1589.2646| new|2025-03-10|2025-03-17| 2025-03-03|\n",
            "|          FDS46|       17.6|             Reg|    0.047257328|         Snack Foods|119.6782|           OUT046|                     1997|      Small|              Tier 1|Supermarket Type1|        2145.2076| new|2025-03-10|2025-03-17| 2025-03-03|\n",
            "|          FDF32|      16.35|              Lf|      0.0680243|Fruits and Vegeta...|196.4426|           OUT013|                     1987|       High|              Tier 3|Supermarket Type1|         1977.426| new|2025-03-10|2025-03-17| 2025-03-03|\n",
            "|          FDP49|          9|             Reg|    0.069088961|           Breakfast| 56.3614|           OUT046|                     1997|      Small|              Tier 1|Supermarket Type1|        1547.3192| new|2025-03-10|2025-03-17| 2025-03-03|\n",
            "|          NCB42|       11.8|              Lf|    0.008596051|  Health and Hygiene|115.3492|           OUT018|                     2009|     Medium|              Tier 3|Supermarket Type2|        1621.8888| new|2025-03-10|2025-03-17| 2025-03-03|\n",
            "|          FDP49|          9|             Reg|    0.069196376|           Breakfast| 54.3614|           OUT049|                     1999|     Medium|              Tier 1|Supermarket Type1|         718.3982| new|2025-03-10|2025-03-17| 2025-03-03|\n",
            "|          DRI11|       NULL|              Lf|    0.034237682|         Hard Drinks|113.2834|           OUT027|                     1985|     Medium|              Tier 3|Supermarket Type3|         2303.668| new|2025-03-10|2025-03-17| 2025-03-03|\n",
            "|          FDU02|      13.35|              Lf|     0.10249212|               Dairy|230.5352|           OUT035|                     2004|      Small|              Tier 2|Supermarket Type1|        2748.4224| new|2025-03-10|2025-03-17| 2025-03-03|\n",
            "+---------------+-----------+----------------+---------------+--------------------+--------+-----------------+-------------------------+-----------+--------------------+-----------------+-----------------+----+----------+----------+-----------+\n",
            "only showing top 20 rows\n",
            "\n"
          ]
        }
      ],
      "source": [
        "df = df.withColumn('week_before',date_add('curr_date',-7))\n",
        "\n",
        "df.show()"
      ]
    },
    {
      "cell_type": "code",
      "execution_count": 91,
      "metadata": {
        "id": "mT1lsDjVP7B3"
      },
      "outputs": [],
      "source": [
        "### DateDIFF"
      ]
    },
    {
      "cell_type": "code",
      "execution_count": 92,
      "metadata": {
        "colab": {
          "base_uri": "https://localhost:8080/"
        },
        "id": "Ph0sRkvhP8jW",
        "outputId": "782e6056-d4bf-4a52-d8fd-1b70701d12bd"
      },
      "outputs": [
        {
          "name": "stdout",
          "output_type": "stream",
          "text": [
            "+---------------+-----------+----------------+---------------+--------------------+--------+-----------------+-------------------------+-----------+--------------------+-----------------+-----------------+----+----------+----------+-----------+--------+\n",
            "|Item_Identifier|Item_Weight|Item_Fat_Content|Item_Visibility|           Item_Type|Item_MRP|Outlet_Identifier|Outlet_Establishment_Year|Outlet_Size|Outlet_Location_Type|      Outlet_Type|Item_Outlet_Sales|flag| curr_date|week_after|week_before|datediff|\n",
            "+---------------+-----------+----------------+---------------+--------------------+--------+-----------------+-------------------------+-----------+--------------------+-----------------+-----------------+----+----------+----------+-----------+--------+\n",
            "|          FDA15|        9.3|              Lf|    0.016047301|               Dairy|249.8092|           OUT049|                     1999|     Medium|              Tier 1|Supermarket Type1|         3735.138| new|2025-03-10|2025-03-17| 2025-03-03|       7|\n",
            "|          DRC01|       5.92|             Reg|    0.019278216|         Soft Drinks| 48.2692|           OUT018|                     2009|     Medium|              Tier 3|Supermarket Type2|         443.4228| new|2025-03-10|2025-03-17| 2025-03-03|       7|\n",
            "|          FDN15|       17.5|              Lf|    0.016760075|                Meat| 141.618|           OUT049|                     1999|     Medium|              Tier 1|Supermarket Type1|          2097.27| new|2025-03-10|2025-03-17| 2025-03-03|       7|\n",
            "|          FDX07|       19.2|             Reg|            0.0|Fruits and Vegeta...| 182.095|           OUT010|                     1998|       NULL|              Tier 3|    Grocery Store|           732.38| new|2025-03-10|2025-03-17| 2025-03-03|       7|\n",
            "|          NCD19|       8.93|              Lf|            0.0|           Household| 53.8614|           OUT013|                     1987|       High|              Tier 3|Supermarket Type1|         994.7052| new|2025-03-10|2025-03-17| 2025-03-03|       7|\n",
            "|          FDP36|     10.395|             Reg|            0.0|        Baking Goods| 51.4008|           OUT018|                     2009|     Medium|              Tier 3|Supermarket Type2|         556.6088| new|2025-03-10|2025-03-17| 2025-03-03|       7|\n",
            "|          FDO10|      13.65|             Reg|    0.012741089|         Snack Foods| 57.6588|           OUT013|                     1987|       High|              Tier 3|Supermarket Type1|         343.5528| new|2025-03-10|2025-03-17| 2025-03-03|       7|\n",
            "|          FDP10|       NULL|              Lf|    0.127469857|         Snack Foods|107.7622|           OUT027|                     1985|     Medium|              Tier 3|Supermarket Type3|        4022.7636| new|2025-03-10|2025-03-17| 2025-03-03|       7|\n",
            "|          FDH17|       16.2|             Reg|    0.016687114|        Frozen Foods| 96.9726|           OUT045|                     2002|       NULL|              Tier 2|Supermarket Type1|        1076.5986| new|2025-03-10|2025-03-17| 2025-03-03|       7|\n",
            "|          FDU28|       19.2|             Reg|     0.09444959|        Frozen Foods|187.8214|           OUT017|                     2007|       NULL|              Tier 2|Supermarket Type1|         4710.535| new|2025-03-10|2025-03-17| 2025-03-03|       7|\n",
            "|          FDY07|       11.8|              Lf|            0.0|Fruits and Vegeta...| 45.5402|           OUT049|                     1999|     Medium|              Tier 1|Supermarket Type1|        1516.0266| new|2025-03-10|2025-03-17| 2025-03-03|       7|\n",
            "|          FDA03|       18.5|             Reg|    0.045463773|               Dairy|144.1102|           OUT046|                     1997|      Small|              Tier 1|Supermarket Type1|         2187.153| new|2025-03-10|2025-03-17| 2025-03-03|       7|\n",
            "|          FDX32|       15.1|             Reg|      0.1000135|Fruits and Vegeta...|145.4786|           OUT049|                     1999|     Medium|              Tier 1|Supermarket Type1|        1589.2646| new|2025-03-10|2025-03-17| 2025-03-03|       7|\n",
            "|          FDS46|       17.6|             Reg|    0.047257328|         Snack Foods|119.6782|           OUT046|                     1997|      Small|              Tier 1|Supermarket Type1|        2145.2076| new|2025-03-10|2025-03-17| 2025-03-03|       7|\n",
            "|          FDF32|      16.35|              Lf|      0.0680243|Fruits and Vegeta...|196.4426|           OUT013|                     1987|       High|              Tier 3|Supermarket Type1|         1977.426| new|2025-03-10|2025-03-17| 2025-03-03|       7|\n",
            "|          FDP49|          9|             Reg|    0.069088961|           Breakfast| 56.3614|           OUT046|                     1997|      Small|              Tier 1|Supermarket Type1|        1547.3192| new|2025-03-10|2025-03-17| 2025-03-03|       7|\n",
            "|          NCB42|       11.8|              Lf|    0.008596051|  Health and Hygiene|115.3492|           OUT018|                     2009|     Medium|              Tier 3|Supermarket Type2|        1621.8888| new|2025-03-10|2025-03-17| 2025-03-03|       7|\n",
            "|          FDP49|          9|             Reg|    0.069196376|           Breakfast| 54.3614|           OUT049|                     1999|     Medium|              Tier 1|Supermarket Type1|         718.3982| new|2025-03-10|2025-03-17| 2025-03-03|       7|\n",
            "|          DRI11|       NULL|              Lf|    0.034237682|         Hard Drinks|113.2834|           OUT027|                     1985|     Medium|              Tier 3|Supermarket Type3|         2303.668| new|2025-03-10|2025-03-17| 2025-03-03|       7|\n",
            "|          FDU02|      13.35|              Lf|     0.10249212|               Dairy|230.5352|           OUT035|                     2004|      Small|              Tier 2|Supermarket Type1|        2748.4224| new|2025-03-10|2025-03-17| 2025-03-03|       7|\n",
            "+---------------+-----------+----------------+---------------+--------------------+--------+-----------------+-------------------------+-----------+--------------------+-----------------+-----------------+----+----------+----------+-----------+--------+\n",
            "only showing top 20 rows\n",
            "\n"
          ]
        }
      ],
      "source": [
        "df = df.withColumn('datediff',datediff('week_after','curr_date'))\n",
        "\n",
        "df.show()"
      ]
    },
    {
      "cell_type": "code",
      "execution_count": null,
      "metadata": {
        "id": "XueSJcY3P-Wg"
      },
      "outputs": [],
      "source": [
        "### Date_Format()"
      ]
    },
    {
      "cell_type": "code",
      "execution_count": 94,
      "metadata": {
        "colab": {
          "base_uri": "https://localhost:8080/"
        },
        "id": "58N5OswtQAEH",
        "outputId": "4e8b979a-4dd1-47d0-b374-565aef813934"
      },
      "outputs": [
        {
          "name": "stdout",
          "output_type": "stream",
          "text": [
            "+---------------+-----------+----------------+---------------+--------------------+--------+-----------------+-------------------------+-----------+--------------------+-----------------+-----------------+----+----------+----------+-----------+--------+\n",
            "|Item_Identifier|Item_Weight|Item_Fat_Content|Item_Visibility|           Item_Type|Item_MRP|Outlet_Identifier|Outlet_Establishment_Year|Outlet_Size|Outlet_Location_Type|      Outlet_Type|Item_Outlet_Sales|flag| curr_date|week_after|week_before|datediff|\n",
            "+---------------+-----------+----------------+---------------+--------------------+--------+-----------------+-------------------------+-----------+--------------------+-----------------+-----------------+----+----------+----------+-----------+--------+\n",
            "|          FDA15|        9.3|              Lf|    0.016047301|               Dairy|249.8092|           OUT049|                     1999|     Medium|              Tier 1|Supermarket Type1|         3735.138| new|2025-03-10|2025-03-17| 03-03-2025|       7|\n",
            "|          DRC01|       5.92|             Reg|    0.019278216|         Soft Drinks| 48.2692|           OUT018|                     2009|     Medium|              Tier 3|Supermarket Type2|         443.4228| new|2025-03-10|2025-03-17| 03-03-2025|       7|\n",
            "|          FDN15|       17.5|              Lf|    0.016760075|                Meat| 141.618|           OUT049|                     1999|     Medium|              Tier 1|Supermarket Type1|          2097.27| new|2025-03-10|2025-03-17| 03-03-2025|       7|\n",
            "|          FDX07|       19.2|             Reg|            0.0|Fruits and Vegeta...| 182.095|           OUT010|                     1998|       NULL|              Tier 3|    Grocery Store|           732.38| new|2025-03-10|2025-03-17| 03-03-2025|       7|\n",
            "|          NCD19|       8.93|              Lf|            0.0|           Household| 53.8614|           OUT013|                     1987|       High|              Tier 3|Supermarket Type1|         994.7052| new|2025-03-10|2025-03-17| 03-03-2025|       7|\n",
            "|          FDP36|     10.395|             Reg|            0.0|        Baking Goods| 51.4008|           OUT018|                     2009|     Medium|              Tier 3|Supermarket Type2|         556.6088| new|2025-03-10|2025-03-17| 03-03-2025|       7|\n",
            "|          FDO10|      13.65|             Reg|    0.012741089|         Snack Foods| 57.6588|           OUT013|                     1987|       High|              Tier 3|Supermarket Type1|         343.5528| new|2025-03-10|2025-03-17| 03-03-2025|       7|\n",
            "|          FDP10|       NULL|              Lf|    0.127469857|         Snack Foods|107.7622|           OUT027|                     1985|     Medium|              Tier 3|Supermarket Type3|        4022.7636| new|2025-03-10|2025-03-17| 03-03-2025|       7|\n",
            "|          FDH17|       16.2|             Reg|    0.016687114|        Frozen Foods| 96.9726|           OUT045|                     2002|       NULL|              Tier 2|Supermarket Type1|        1076.5986| new|2025-03-10|2025-03-17| 03-03-2025|       7|\n",
            "|          FDU28|       19.2|             Reg|     0.09444959|        Frozen Foods|187.8214|           OUT017|                     2007|       NULL|              Tier 2|Supermarket Type1|         4710.535| new|2025-03-10|2025-03-17| 03-03-2025|       7|\n",
            "|          FDY07|       11.8|              Lf|            0.0|Fruits and Vegeta...| 45.5402|           OUT049|                     1999|     Medium|              Tier 1|Supermarket Type1|        1516.0266| new|2025-03-10|2025-03-17| 03-03-2025|       7|\n",
            "|          FDA03|       18.5|             Reg|    0.045463773|               Dairy|144.1102|           OUT046|                     1997|      Small|              Tier 1|Supermarket Type1|         2187.153| new|2025-03-10|2025-03-17| 03-03-2025|       7|\n",
            "|          FDX32|       15.1|             Reg|      0.1000135|Fruits and Vegeta...|145.4786|           OUT049|                     1999|     Medium|              Tier 1|Supermarket Type1|        1589.2646| new|2025-03-10|2025-03-17| 03-03-2025|       7|\n",
            "|          FDS46|       17.6|             Reg|    0.047257328|         Snack Foods|119.6782|           OUT046|                     1997|      Small|              Tier 1|Supermarket Type1|        2145.2076| new|2025-03-10|2025-03-17| 03-03-2025|       7|\n",
            "|          FDF32|      16.35|              Lf|      0.0680243|Fruits and Vegeta...|196.4426|           OUT013|                     1987|       High|              Tier 3|Supermarket Type1|         1977.426| new|2025-03-10|2025-03-17| 03-03-2025|       7|\n",
            "|          FDP49|          9|             Reg|    0.069088961|           Breakfast| 56.3614|           OUT046|                     1997|      Small|              Tier 1|Supermarket Type1|        1547.3192| new|2025-03-10|2025-03-17| 03-03-2025|       7|\n",
            "|          NCB42|       11.8|              Lf|    0.008596051|  Health and Hygiene|115.3492|           OUT018|                     2009|     Medium|              Tier 3|Supermarket Type2|        1621.8888| new|2025-03-10|2025-03-17| 03-03-2025|       7|\n",
            "|          FDP49|          9|             Reg|    0.069196376|           Breakfast| 54.3614|           OUT049|                     1999|     Medium|              Tier 1|Supermarket Type1|         718.3982| new|2025-03-10|2025-03-17| 03-03-2025|       7|\n",
            "|          DRI11|       NULL|              Lf|    0.034237682|         Hard Drinks|113.2834|           OUT027|                     1985|     Medium|              Tier 3|Supermarket Type3|         2303.668| new|2025-03-10|2025-03-17| 03-03-2025|       7|\n",
            "|          FDU02|      13.35|              Lf|     0.10249212|               Dairy|230.5352|           OUT035|                     2004|      Small|              Tier 2|Supermarket Type1|        2748.4224| new|2025-03-10|2025-03-17| 03-03-2025|       7|\n",
            "+---------------+-----------+----------------+---------------+--------------------+--------+-----------------+-------------------------+-----------+--------------------+-----------------+-----------------+----+----------+----------+-----------+--------+\n",
            "only showing top 20 rows\n",
            "\n"
          ]
        }
      ],
      "source": [
        "df = df.withColumn('week_before',date_format('week_before','dd-MM-yyyy'))\n",
        "\n",
        "df.show()"
      ]
    },
    {
      "cell_type": "code",
      "execution_count": 97,
      "metadata": {
        "colab": {
          "base_uri": "https://localhost:8080/"
        },
        "id": "DfS9keJWQEcl",
        "outputId": "789d07f8-66b4-48d2-f134-e57399ec54ec"
      },
      "outputs": [
        {
          "name": "stdout",
          "output_type": "stream",
          "text": [
            "+---------------+-----------+----------------+---------------+--------------------+--------+-----------------+-------------------------+-----------+--------------------+-----------------+-----------------+----+----------+----------+-----------+--------+\n",
            "|Item_Identifier|Item_Weight|Item_Fat_Content|Item_Visibility|           Item_Type|Item_MRP|Outlet_Identifier|Outlet_Establishment_Year|Outlet_Size|Outlet_Location_Type|      Outlet_Type|Item_Outlet_Sales|flag| curr_date|week_after|week_before|datediff|\n",
            "+---------------+-----------+----------------+---------------+--------------------+--------+-----------------+-------------------------+-----------+--------------------+-----------------+-----------------+----+----------+----------+-----------+--------+\n",
            "|          FDA15|        9.3|              Lf|    0.016047301|               Dairy|249.8092|           OUT049|                     1999|     Medium|              Tier 1|Supermarket Type1|         3735.138| new|2025-03-10|2025-03-17| 03-03-2025|       7|\n",
            "|          DRC01|       5.92|             Reg|    0.019278216|         Soft Drinks| 48.2692|           OUT018|                     2009|     Medium|              Tier 3|Supermarket Type2|         443.4228| new|2025-03-10|2025-03-17| 03-03-2025|       7|\n",
            "|          FDN15|       17.5|              Lf|    0.016760075|                Meat| 141.618|           OUT049|                     1999|     Medium|              Tier 1|Supermarket Type1|          2097.27| new|2025-03-10|2025-03-17| 03-03-2025|       7|\n",
            "|          FDX07|       19.2|             Reg|            0.0|Fruits and Vegeta...| 182.095|           OUT010|                     1998|       NULL|              Tier 3|    Grocery Store|           732.38| new|2025-03-10|2025-03-17| 03-03-2025|       7|\n",
            "|          NCD19|       8.93|              Lf|            0.0|           Household| 53.8614|           OUT013|                     1987|       High|              Tier 3|Supermarket Type1|         994.7052| new|2025-03-10|2025-03-17| 03-03-2025|       7|\n",
            "|          FDP36|     10.395|             Reg|            0.0|        Baking Goods| 51.4008|           OUT018|                     2009|     Medium|              Tier 3|Supermarket Type2|         556.6088| new|2025-03-10|2025-03-17| 03-03-2025|       7|\n",
            "|          FDO10|      13.65|             Reg|    0.012741089|         Snack Foods| 57.6588|           OUT013|                     1987|       High|              Tier 3|Supermarket Type1|         343.5528| new|2025-03-10|2025-03-17| 03-03-2025|       7|\n",
            "|          FDP10|       NULL|              Lf|    0.127469857|         Snack Foods|107.7622|           OUT027|                     1985|     Medium|              Tier 3|Supermarket Type3|        4022.7636| new|2025-03-10|2025-03-17| 03-03-2025|       7|\n",
            "|          FDH17|       16.2|             Reg|    0.016687114|        Frozen Foods| 96.9726|           OUT045|                     2002|       NULL|              Tier 2|Supermarket Type1|        1076.5986| new|2025-03-10|2025-03-17| 03-03-2025|       7|\n",
            "|          FDU28|       19.2|             Reg|     0.09444959|        Frozen Foods|187.8214|           OUT017|                     2007|       NULL|              Tier 2|Supermarket Type1|         4710.535| new|2025-03-10|2025-03-17| 03-03-2025|       7|\n",
            "|          FDY07|       11.8|              Lf|            0.0|Fruits and Vegeta...| 45.5402|           OUT049|                     1999|     Medium|              Tier 1|Supermarket Type1|        1516.0266| new|2025-03-10|2025-03-17| 03-03-2025|       7|\n",
            "|          FDA03|       18.5|             Reg|    0.045463773|               Dairy|144.1102|           OUT046|                     1997|      Small|              Tier 1|Supermarket Type1|         2187.153| new|2025-03-10|2025-03-17| 03-03-2025|       7|\n",
            "|          FDX32|       15.1|             Reg|      0.1000135|Fruits and Vegeta...|145.4786|           OUT049|                     1999|     Medium|              Tier 1|Supermarket Type1|        1589.2646| new|2025-03-10|2025-03-17| 03-03-2025|       7|\n",
            "|          FDS46|       17.6|             Reg|    0.047257328|         Snack Foods|119.6782|           OUT046|                     1997|      Small|              Tier 1|Supermarket Type1|        2145.2076| new|2025-03-10|2025-03-17| 03-03-2025|       7|\n",
            "|          FDF32|      16.35|              Lf|      0.0680243|Fruits and Vegeta...|196.4426|           OUT013|                     1987|       High|              Tier 3|Supermarket Type1|         1977.426| new|2025-03-10|2025-03-17| 03-03-2025|       7|\n",
            "|          FDP49|          9|             Reg|    0.069088961|           Breakfast| 56.3614|           OUT046|                     1997|      Small|              Tier 1|Supermarket Type1|        1547.3192| new|2025-03-10|2025-03-17| 03-03-2025|       7|\n",
            "|          NCB42|       11.8|              Lf|    0.008596051|  Health and Hygiene|115.3492|           OUT018|                     2009|     Medium|              Tier 3|Supermarket Type2|        1621.8888| new|2025-03-10|2025-03-17| 03-03-2025|       7|\n",
            "|          FDP49|          9|             Reg|    0.069196376|           Breakfast| 54.3614|           OUT049|                     1999|     Medium|              Tier 1|Supermarket Type1|         718.3982| new|2025-03-10|2025-03-17| 03-03-2025|       7|\n",
            "|          DRI11|       NULL|              Lf|    0.034237682|         Hard Drinks|113.2834|           OUT027|                     1985|     Medium|              Tier 3|Supermarket Type3|         2303.668| new|2025-03-10|2025-03-17| 03-03-2025|       7|\n",
            "|          FDU02|      13.35|              Lf|     0.10249212|               Dairy|230.5352|           OUT035|                     2004|      Small|              Tier 2|Supermarket Type1|        2748.4224| new|2025-03-10|2025-03-17| 03-03-2025|       7|\n",
            "+---------------+-----------+----------------+---------------+--------------------+--------+-----------------+-------------------------+-----------+--------------------+-----------------+-----------------+----+----------+----------+-----------+--------+\n",
            "only showing top 20 rows\n",
            "\n"
          ]
        }
      ],
      "source": [
        "df.dropna('all').show()"
      ]
    },
    {
      "cell_type": "code",
      "execution_count": 98,
      "metadata": {
        "colab": {
          "base_uri": "https://localhost:8080/"
        },
        "id": "B5_5ITGRQGQz",
        "outputId": "61b45999-cc70-4caf-ea5f-260156181efe"
      },
      "outputs": [
        {
          "name": "stdout",
          "output_type": "stream",
          "text": [
            "+---------------+-----------+----------------+---------------+--------------------+--------+-----------------+-------------------------+-----------+--------------------+-----------------+-----------------+----+----------+----------+-----------+--------+\n",
            "|Item_Identifier|Item_Weight|Item_Fat_Content|Item_Visibility|           Item_Type|Item_MRP|Outlet_Identifier|Outlet_Establishment_Year|Outlet_Size|Outlet_Location_Type|      Outlet_Type|Item_Outlet_Sales|flag| curr_date|week_after|week_before|datediff|\n",
            "+---------------+-----------+----------------+---------------+--------------------+--------+-----------------+-------------------------+-----------+--------------------+-----------------+-----------------+----+----------+----------+-----------+--------+\n",
            "|          FDA15|        9.3|              Lf|    0.016047301|               Dairy|249.8092|           OUT049|                     1999|     Medium|              Tier 1|Supermarket Type1|         3735.138| new|2025-03-10|2025-03-17| 03-03-2025|       7|\n",
            "|          DRC01|       5.92|             Reg|    0.019278216|         Soft Drinks| 48.2692|           OUT018|                     2009|     Medium|              Tier 3|Supermarket Type2|         443.4228| new|2025-03-10|2025-03-17| 03-03-2025|       7|\n",
            "|          FDN15|       17.5|              Lf|    0.016760075|                Meat| 141.618|           OUT049|                     1999|     Medium|              Tier 1|Supermarket Type1|          2097.27| new|2025-03-10|2025-03-17| 03-03-2025|       7|\n",
            "|          NCD19|       8.93|              Lf|            0.0|           Household| 53.8614|           OUT013|                     1987|       High|              Tier 3|Supermarket Type1|         994.7052| new|2025-03-10|2025-03-17| 03-03-2025|       7|\n",
            "|          FDP36|     10.395|             Reg|            0.0|        Baking Goods| 51.4008|           OUT018|                     2009|     Medium|              Tier 3|Supermarket Type2|         556.6088| new|2025-03-10|2025-03-17| 03-03-2025|       7|\n",
            "|          FDO10|      13.65|             Reg|    0.012741089|         Snack Foods| 57.6588|           OUT013|                     1987|       High|              Tier 3|Supermarket Type1|         343.5528| new|2025-03-10|2025-03-17| 03-03-2025|       7|\n",
            "|          FDY07|       11.8|              Lf|            0.0|Fruits and Vegeta...| 45.5402|           OUT049|                     1999|     Medium|              Tier 1|Supermarket Type1|        1516.0266| new|2025-03-10|2025-03-17| 03-03-2025|       7|\n",
            "|          FDA03|       18.5|             Reg|    0.045463773|               Dairy|144.1102|           OUT046|                     1997|      Small|              Tier 1|Supermarket Type1|         2187.153| new|2025-03-10|2025-03-17| 03-03-2025|       7|\n",
            "|          FDX32|       15.1|             Reg|      0.1000135|Fruits and Vegeta...|145.4786|           OUT049|                     1999|     Medium|              Tier 1|Supermarket Type1|        1589.2646| new|2025-03-10|2025-03-17| 03-03-2025|       7|\n",
            "|          FDS46|       17.6|             Reg|    0.047257328|         Snack Foods|119.6782|           OUT046|                     1997|      Small|              Tier 1|Supermarket Type1|        2145.2076| new|2025-03-10|2025-03-17| 03-03-2025|       7|\n",
            "|          FDF32|      16.35|              Lf|      0.0680243|Fruits and Vegeta...|196.4426|           OUT013|                     1987|       High|              Tier 3|Supermarket Type1|         1977.426| new|2025-03-10|2025-03-17| 03-03-2025|       7|\n",
            "|          FDP49|          9|             Reg|    0.069088961|           Breakfast| 56.3614|           OUT046|                     1997|      Small|              Tier 1|Supermarket Type1|        1547.3192| new|2025-03-10|2025-03-17| 03-03-2025|       7|\n",
            "|          NCB42|       11.8|              Lf|    0.008596051|  Health and Hygiene|115.3492|           OUT018|                     2009|     Medium|              Tier 3|Supermarket Type2|        1621.8888| new|2025-03-10|2025-03-17| 03-03-2025|       7|\n",
            "|          FDP49|          9|             Reg|    0.069196376|           Breakfast| 54.3614|           OUT049|                     1999|     Medium|              Tier 1|Supermarket Type1|         718.3982| new|2025-03-10|2025-03-17| 03-03-2025|       7|\n",
            "|          FDU02|      13.35|              Lf|     0.10249212|               Dairy|230.5352|           OUT035|                     2004|      Small|              Tier 2|Supermarket Type1|        2748.4224| new|2025-03-10|2025-03-17| 03-03-2025|       7|\n",
            "|          FDN22|      18.85|             Reg|    0.138190277|         Snack Foods|250.8724|           OUT013|                     1987|       High|              Tier 3|Supermarket Type1|         3775.086| new|2025-03-10|2025-03-17| 03-03-2025|       7|\n",
            "|          NCB30|       14.6|              Lf|    0.025698134|           Household|196.5084|           OUT035|                     2004|      Small|              Tier 2|Supermarket Type1|        1587.2672| new|2025-03-10|2025-03-17| 03-03-2025|       7|\n",
            "|          FDR28|      13.85|             Reg|    0.025896485|        Frozen Foods| 165.021|           OUT046|                     1997|      Small|              Tier 1|Supermarket Type1|         4078.025| new|2025-03-10|2025-03-17| 03-03-2025|       7|\n",
            "|          FDV10|      7.645|             Reg|    0.066693437|         Snack Foods| 42.3112|           OUT035|                     2004|      Small|              Tier 2|Supermarket Type1|          1065.28| new|2025-03-10|2025-03-17| 03-03-2025|       7|\n",
            "|          DRJ59|      11.65|         low fat|    0.019356132|         Hard Drinks| 39.1164|           OUT013|                     1987|       High|              Tier 3|Supermarket Type1|         308.9312| new|2025-03-10|2025-03-17| 03-03-2025|       7|\n",
            "+---------------+-----------+----------------+---------------+--------------------+--------+-----------------+-------------------------+-----------+--------------------+-----------------+-----------------+----+----------+----------+-----------+--------+\n",
            "only showing top 20 rows\n",
            "\n"
          ]
        }
      ],
      "source": [
        "df.dropna('any').show()"
      ]
    },
    {
      "cell_type": "code",
      "execution_count": 99,
      "metadata": {
        "colab": {
          "base_uri": "https://localhost:8080/"
        },
        "id": "6xyb9BtrQJTS",
        "outputId": "8b85aabd-9c1d-489a-c82d-c42b539c2a4d"
      },
      "outputs": [
        {
          "name": "stdout",
          "output_type": "stream",
          "text": [
            "+---------------+-----------+----------------+---------------+--------------------+--------+-----------------+-------------------------+-----------+--------------------+-----------------+-----------------+----+----------+----------+-----------+--------+\n",
            "|Item_Identifier|Item_Weight|Item_Fat_Content|Item_Visibility|           Item_Type|Item_MRP|Outlet_Identifier|Outlet_Establishment_Year|Outlet_Size|Outlet_Location_Type|      Outlet_Type|Item_Outlet_Sales|flag| curr_date|week_after|week_before|datediff|\n",
            "+---------------+-----------+----------------+---------------+--------------------+--------+-----------------+-------------------------+-----------+--------------------+-----------------+-----------------+----+----------+----------+-----------+--------+\n",
            "|          FDA15|        9.3|              Lf|    0.016047301|               Dairy|249.8092|           OUT049|                     1999|     Medium|              Tier 1|Supermarket Type1|         3735.138| new|2025-03-10|2025-03-17| 03-03-2025|       7|\n",
            "|          DRC01|       5.92|             Reg|    0.019278216|         Soft Drinks| 48.2692|           OUT018|                     2009|     Medium|              Tier 3|Supermarket Type2|         443.4228| new|2025-03-10|2025-03-17| 03-03-2025|       7|\n",
            "|          FDN15|       17.5|              Lf|    0.016760075|                Meat| 141.618|           OUT049|                     1999|     Medium|              Tier 1|Supermarket Type1|          2097.27| new|2025-03-10|2025-03-17| 03-03-2025|       7|\n",
            "|          NCD19|       8.93|              Lf|            0.0|           Household| 53.8614|           OUT013|                     1987|       High|              Tier 3|Supermarket Type1|         994.7052| new|2025-03-10|2025-03-17| 03-03-2025|       7|\n",
            "|          FDP36|     10.395|             Reg|            0.0|        Baking Goods| 51.4008|           OUT018|                     2009|     Medium|              Tier 3|Supermarket Type2|         556.6088| new|2025-03-10|2025-03-17| 03-03-2025|       7|\n",
            "|          FDO10|      13.65|             Reg|    0.012741089|         Snack Foods| 57.6588|           OUT013|                     1987|       High|              Tier 3|Supermarket Type1|         343.5528| new|2025-03-10|2025-03-17| 03-03-2025|       7|\n",
            "|          FDP10|       NULL|              Lf|    0.127469857|         Snack Foods|107.7622|           OUT027|                     1985|     Medium|              Tier 3|Supermarket Type3|        4022.7636| new|2025-03-10|2025-03-17| 03-03-2025|       7|\n",
            "|          FDY07|       11.8|              Lf|            0.0|Fruits and Vegeta...| 45.5402|           OUT049|                     1999|     Medium|              Tier 1|Supermarket Type1|        1516.0266| new|2025-03-10|2025-03-17| 03-03-2025|       7|\n",
            "|          FDA03|       18.5|             Reg|    0.045463773|               Dairy|144.1102|           OUT046|                     1997|      Small|              Tier 1|Supermarket Type1|         2187.153| new|2025-03-10|2025-03-17| 03-03-2025|       7|\n",
            "|          FDX32|       15.1|             Reg|      0.1000135|Fruits and Vegeta...|145.4786|           OUT049|                     1999|     Medium|              Tier 1|Supermarket Type1|        1589.2646| new|2025-03-10|2025-03-17| 03-03-2025|       7|\n",
            "|          FDS46|       17.6|             Reg|    0.047257328|         Snack Foods|119.6782|           OUT046|                     1997|      Small|              Tier 1|Supermarket Type1|        2145.2076| new|2025-03-10|2025-03-17| 03-03-2025|       7|\n",
            "|          FDF32|      16.35|              Lf|      0.0680243|Fruits and Vegeta...|196.4426|           OUT013|                     1987|       High|              Tier 3|Supermarket Type1|         1977.426| new|2025-03-10|2025-03-17| 03-03-2025|       7|\n",
            "|          FDP49|          9|             Reg|    0.069088961|           Breakfast| 56.3614|           OUT046|                     1997|      Small|              Tier 1|Supermarket Type1|        1547.3192| new|2025-03-10|2025-03-17| 03-03-2025|       7|\n",
            "|          NCB42|       11.8|              Lf|    0.008596051|  Health and Hygiene|115.3492|           OUT018|                     2009|     Medium|              Tier 3|Supermarket Type2|        1621.8888| new|2025-03-10|2025-03-17| 03-03-2025|       7|\n",
            "|          FDP49|          9|             Reg|    0.069196376|           Breakfast| 54.3614|           OUT049|                     1999|     Medium|              Tier 1|Supermarket Type1|         718.3982| new|2025-03-10|2025-03-17| 03-03-2025|       7|\n",
            "|          DRI11|       NULL|              Lf|    0.034237682|         Hard Drinks|113.2834|           OUT027|                     1985|     Medium|              Tier 3|Supermarket Type3|         2303.668| new|2025-03-10|2025-03-17| 03-03-2025|       7|\n",
            "|          FDU02|      13.35|              Lf|     0.10249212|               Dairy|230.5352|           OUT035|                     2004|      Small|              Tier 2|Supermarket Type1|        2748.4224| new|2025-03-10|2025-03-17| 03-03-2025|       7|\n",
            "|          FDN22|      18.85|             Reg|    0.138190277|         Snack Foods|250.8724|           OUT013|                     1987|       High|              Tier 3|Supermarket Type1|         3775.086| new|2025-03-10|2025-03-17| 03-03-2025|       7|\n",
            "|          FDW12|       NULL|             Reg|    0.035399923|        Baking Goods|144.5444|           OUT027|                     1985|     Medium|              Tier 3|Supermarket Type3|        4064.0432| new|2025-03-10|2025-03-17| 03-03-2025|       7|\n",
            "|          NCB30|       14.6|              Lf|    0.025698134|           Household|196.5084|           OUT035|                     2004|      Small|              Tier 2|Supermarket Type1|        1587.2672| new|2025-03-10|2025-03-17| 03-03-2025|       7|\n",
            "+---------------+-----------+----------------+---------------+--------------------+--------+-----------------+-------------------------+-----------+--------------------+-----------------+-----------------+----+----------+----------+-----------+--------+\n",
            "only showing top 20 rows\n",
            "\n"
          ]
        }
      ],
      "source": [
        "df.dropna(subset=['Outlet_Size']).show()"
      ]
    },
    {
      "cell_type": "code",
      "execution_count": 100,
      "metadata": {
        "colab": {
          "base_uri": "https://localhost:8080/"
        },
        "id": "Yk7kQ_m0QLm2",
        "outputId": "08fa5f89-f487-4ce4-8eae-3460e1e6e2f7"
      },
      "outputs": [
        {
          "name": "stdout",
          "output_type": "stream",
          "text": [
            "+---------------+-----------+----------------+---------------+--------------------+--------+-----------------+-------------------------+-----------+--------------------+-----------------+-----------------+----+----------+----------+-----------+--------+\n",
            "|Item_Identifier|Item_Weight|Item_Fat_Content|Item_Visibility|           Item_Type|Item_MRP|Outlet_Identifier|Outlet_Establishment_Year|Outlet_Size|Outlet_Location_Type|      Outlet_Type|Item_Outlet_Sales|flag| curr_date|week_after|week_before|datediff|\n",
            "+---------------+-----------+----------------+---------------+--------------------+--------+-----------------+-------------------------+-----------+--------------------+-----------------+-----------------+----+----------+----------+-----------+--------+\n",
            "|          FDA15|        9.3|              Lf|    0.016047301|               Dairy|249.8092|           OUT049|                     1999|     Medium|              Tier 1|Supermarket Type1|         3735.138| new|2025-03-10|2025-03-17| 03-03-2025|       7|\n",
            "|          DRC01|       5.92|             Reg|    0.019278216|         Soft Drinks| 48.2692|           OUT018|                     2009|     Medium|              Tier 3|Supermarket Type2|         443.4228| new|2025-03-10|2025-03-17| 03-03-2025|       7|\n",
            "|          FDN15|       17.5|              Lf|    0.016760075|                Meat| 141.618|           OUT049|                     1999|     Medium|              Tier 1|Supermarket Type1|          2097.27| new|2025-03-10|2025-03-17| 03-03-2025|       7|\n",
            "|          FDX07|       19.2|             Reg|            0.0|Fruits and Vegeta...| 182.095|           OUT010|                     1998|       NULL|              Tier 3|    Grocery Store|           732.38| new|2025-03-10|2025-03-17| 03-03-2025|       7|\n",
            "|          NCD19|       8.93|              Lf|            0.0|           Household| 53.8614|           OUT013|                     1987|       High|              Tier 3|Supermarket Type1|         994.7052| new|2025-03-10|2025-03-17| 03-03-2025|       7|\n",
            "|          FDP36|     10.395|             Reg|            0.0|        Baking Goods| 51.4008|           OUT018|                     2009|     Medium|              Tier 3|Supermarket Type2|         556.6088| new|2025-03-10|2025-03-17| 03-03-2025|       7|\n",
            "|          FDO10|      13.65|             Reg|    0.012741089|         Snack Foods| 57.6588|           OUT013|                     1987|       High|              Tier 3|Supermarket Type1|         343.5528| new|2025-03-10|2025-03-17| 03-03-2025|       7|\n",
            "|          FDP10|       NULL|              Lf|    0.127469857|         Snack Foods|107.7622|           OUT027|                     1985|     Medium|              Tier 3|Supermarket Type3|        4022.7636| new|2025-03-10|2025-03-17| 03-03-2025|       7|\n",
            "|          FDH17|       16.2|             Reg|    0.016687114|        Frozen Foods| 96.9726|           OUT045|                     2002|       NULL|              Tier 2|Supermarket Type1|        1076.5986| new|2025-03-10|2025-03-17| 03-03-2025|       7|\n",
            "|          FDU28|       19.2|             Reg|     0.09444959|        Frozen Foods|187.8214|           OUT017|                     2007|       NULL|              Tier 2|Supermarket Type1|         4710.535| new|2025-03-10|2025-03-17| 03-03-2025|       7|\n",
            "|          FDY07|       11.8|              Lf|            0.0|Fruits and Vegeta...| 45.5402|           OUT049|                     1999|     Medium|              Tier 1|Supermarket Type1|        1516.0266| new|2025-03-10|2025-03-17| 03-03-2025|       7|\n",
            "|          FDA03|       18.5|             Reg|    0.045463773|               Dairy|144.1102|           OUT046|                     1997|      Small|              Tier 1|Supermarket Type1|         2187.153| new|2025-03-10|2025-03-17| 03-03-2025|       7|\n",
            "|          FDX32|       15.1|             Reg|      0.1000135|Fruits and Vegeta...|145.4786|           OUT049|                     1999|     Medium|              Tier 1|Supermarket Type1|        1589.2646| new|2025-03-10|2025-03-17| 03-03-2025|       7|\n",
            "|          FDS46|       17.6|             Reg|    0.047257328|         Snack Foods|119.6782|           OUT046|                     1997|      Small|              Tier 1|Supermarket Type1|        2145.2076| new|2025-03-10|2025-03-17| 03-03-2025|       7|\n",
            "|          FDF32|      16.35|              Lf|      0.0680243|Fruits and Vegeta...|196.4426|           OUT013|                     1987|       High|              Tier 3|Supermarket Type1|         1977.426| new|2025-03-10|2025-03-17| 03-03-2025|       7|\n",
            "|          FDP49|          9|             Reg|    0.069088961|           Breakfast| 56.3614|           OUT046|                     1997|      Small|              Tier 1|Supermarket Type1|        1547.3192| new|2025-03-10|2025-03-17| 03-03-2025|       7|\n",
            "|          NCB42|       11.8|              Lf|    0.008596051|  Health and Hygiene|115.3492|           OUT018|                     2009|     Medium|              Tier 3|Supermarket Type2|        1621.8888| new|2025-03-10|2025-03-17| 03-03-2025|       7|\n",
            "|          FDP49|          9|             Reg|    0.069196376|           Breakfast| 54.3614|           OUT049|                     1999|     Medium|              Tier 1|Supermarket Type1|         718.3982| new|2025-03-10|2025-03-17| 03-03-2025|       7|\n",
            "|          DRI11|       NULL|              Lf|    0.034237682|         Hard Drinks|113.2834|           OUT027|                     1985|     Medium|              Tier 3|Supermarket Type3|         2303.668| new|2025-03-10|2025-03-17| 03-03-2025|       7|\n",
            "|          FDU02|      13.35|              Lf|     0.10249212|               Dairy|230.5352|           OUT035|                     2004|      Small|              Tier 2|Supermarket Type1|        2748.4224| new|2025-03-10|2025-03-17| 03-03-2025|       7|\n",
            "+---------------+-----------+----------------+---------------+--------------------+--------+-----------------+-------------------------+-----------+--------------------+-----------------+-----------------+----+----------+----------+-----------+--------+\n",
            "only showing top 20 rows\n",
            "\n"
          ]
        }
      ],
      "source": [
        "df.show()"
      ]
    },
    {
      "cell_type": "code",
      "execution_count": 101,
      "metadata": {
        "id": "EfKWnF3jQNkw"
      },
      "outputs": [],
      "source": [
        "#### Filling Nulls"
      ]
    },
    {
      "cell_type": "code",
      "execution_count": 102,
      "metadata": {
        "colab": {
          "base_uri": "https://localhost:8080/"
        },
        "id": "Z0ot4H1bQO3Z",
        "outputId": "8c1569b8-e2b7-478c-a0d5-b14a6d366990"
      },
      "outputs": [
        {
          "name": "stdout",
          "output_type": "stream",
          "text": [
            "+---------------+------------+----------------+---------------+--------------------+--------+-----------------+-------------------------+------------+--------------------+-----------------+-----------------+----+----------+----------+-----------+--------+\n",
            "|Item_Identifier| Item_Weight|Item_Fat_Content|Item_Visibility|           Item_Type|Item_MRP|Outlet_Identifier|Outlet_Establishment_Year| Outlet_Size|Outlet_Location_Type|      Outlet_Type|Item_Outlet_Sales|flag| curr_date|week_after|week_before|datediff|\n",
            "+---------------+------------+----------------+---------------+--------------------+--------+-----------------+-------------------------+------------+--------------------+-----------------+-----------------+----+----------+----------+-----------+--------+\n",
            "|          FDA15|         9.3|              Lf|    0.016047301|               Dairy|249.8092|           OUT049|                     1999|      Medium|              Tier 1|Supermarket Type1|         3735.138| new|2025-03-10|2025-03-17| 03-03-2025|       7|\n",
            "|          DRC01|        5.92|             Reg|    0.019278216|         Soft Drinks| 48.2692|           OUT018|                     2009|      Medium|              Tier 3|Supermarket Type2|         443.4228| new|2025-03-10|2025-03-17| 03-03-2025|       7|\n",
            "|          FDN15|        17.5|              Lf|    0.016760075|                Meat| 141.618|           OUT049|                     1999|      Medium|              Tier 1|Supermarket Type1|          2097.27| new|2025-03-10|2025-03-17| 03-03-2025|       7|\n",
            "|          FDX07|        19.2|             Reg|            0.0|Fruits and Vegeta...| 182.095|           OUT010|                     1998|NotAvailable|              Tier 3|    Grocery Store|           732.38| new|2025-03-10|2025-03-17| 03-03-2025|       7|\n",
            "|          NCD19|        8.93|              Lf|            0.0|           Household| 53.8614|           OUT013|                     1987|        High|              Tier 3|Supermarket Type1|         994.7052| new|2025-03-10|2025-03-17| 03-03-2025|       7|\n",
            "|          FDP36|      10.395|             Reg|            0.0|        Baking Goods| 51.4008|           OUT018|                     2009|      Medium|              Tier 3|Supermarket Type2|         556.6088| new|2025-03-10|2025-03-17| 03-03-2025|       7|\n",
            "|          FDO10|       13.65|             Reg|    0.012741089|         Snack Foods| 57.6588|           OUT013|                     1987|        High|              Tier 3|Supermarket Type1|         343.5528| new|2025-03-10|2025-03-17| 03-03-2025|       7|\n",
            "|          FDP10|NotAvailable|              Lf|    0.127469857|         Snack Foods|107.7622|           OUT027|                     1985|      Medium|              Tier 3|Supermarket Type3|        4022.7636| new|2025-03-10|2025-03-17| 03-03-2025|       7|\n",
            "|          FDH17|        16.2|             Reg|    0.016687114|        Frozen Foods| 96.9726|           OUT045|                     2002|NotAvailable|              Tier 2|Supermarket Type1|        1076.5986| new|2025-03-10|2025-03-17| 03-03-2025|       7|\n",
            "|          FDU28|        19.2|             Reg|     0.09444959|        Frozen Foods|187.8214|           OUT017|                     2007|NotAvailable|              Tier 2|Supermarket Type1|         4710.535| new|2025-03-10|2025-03-17| 03-03-2025|       7|\n",
            "|          FDY07|        11.8|              Lf|            0.0|Fruits and Vegeta...| 45.5402|           OUT049|                     1999|      Medium|              Tier 1|Supermarket Type1|        1516.0266| new|2025-03-10|2025-03-17| 03-03-2025|       7|\n",
            "|          FDA03|        18.5|             Reg|    0.045463773|               Dairy|144.1102|           OUT046|                     1997|       Small|              Tier 1|Supermarket Type1|         2187.153| new|2025-03-10|2025-03-17| 03-03-2025|       7|\n",
            "|          FDX32|        15.1|             Reg|      0.1000135|Fruits and Vegeta...|145.4786|           OUT049|                     1999|      Medium|              Tier 1|Supermarket Type1|        1589.2646| new|2025-03-10|2025-03-17| 03-03-2025|       7|\n",
            "|          FDS46|        17.6|             Reg|    0.047257328|         Snack Foods|119.6782|           OUT046|                     1997|       Small|              Tier 1|Supermarket Type1|        2145.2076| new|2025-03-10|2025-03-17| 03-03-2025|       7|\n",
            "|          FDF32|       16.35|              Lf|      0.0680243|Fruits and Vegeta...|196.4426|           OUT013|                     1987|        High|              Tier 3|Supermarket Type1|         1977.426| new|2025-03-10|2025-03-17| 03-03-2025|       7|\n",
            "|          FDP49|           9|             Reg|    0.069088961|           Breakfast| 56.3614|           OUT046|                     1997|       Small|              Tier 1|Supermarket Type1|        1547.3192| new|2025-03-10|2025-03-17| 03-03-2025|       7|\n",
            "|          NCB42|        11.8|              Lf|    0.008596051|  Health and Hygiene|115.3492|           OUT018|                     2009|      Medium|              Tier 3|Supermarket Type2|        1621.8888| new|2025-03-10|2025-03-17| 03-03-2025|       7|\n",
            "|          FDP49|           9|             Reg|    0.069196376|           Breakfast| 54.3614|           OUT049|                     1999|      Medium|              Tier 1|Supermarket Type1|         718.3982| new|2025-03-10|2025-03-17| 03-03-2025|       7|\n",
            "|          DRI11|NotAvailable|              Lf|    0.034237682|         Hard Drinks|113.2834|           OUT027|                     1985|      Medium|              Tier 3|Supermarket Type3|         2303.668| new|2025-03-10|2025-03-17| 03-03-2025|       7|\n",
            "|          FDU02|       13.35|              Lf|     0.10249212|               Dairy|230.5352|           OUT035|                     2004|       Small|              Tier 2|Supermarket Type1|        2748.4224| new|2025-03-10|2025-03-17| 03-03-2025|       7|\n",
            "+---------------+------------+----------------+---------------+--------------------+--------+-----------------+-------------------------+------------+--------------------+-----------------+-----------------+----+----------+----------+-----------+--------+\n",
            "only showing top 20 rows\n",
            "\n"
          ]
        }
      ],
      "source": [
        "df.fillna('NotAvailable').show()"
      ]
    },
    {
      "cell_type": "code",
      "execution_count": 103,
      "metadata": {
        "colab": {
          "base_uri": "https://localhost:8080/"
        },
        "id": "9aW9jMmOQQkc",
        "outputId": "92f955d7-3d33-404f-80a4-9f1cd8183ea4"
      },
      "outputs": [
        {
          "name": "stdout",
          "output_type": "stream",
          "text": [
            "+---------------+-----------+----------------+---------------+--------------------+--------+-----------------+-------------------------+------------+--------------------+-----------------+-----------------+----+----------+----------+-----------+--------+\n",
            "|Item_Identifier|Item_Weight|Item_Fat_Content|Item_Visibility|           Item_Type|Item_MRP|Outlet_Identifier|Outlet_Establishment_Year| Outlet_Size|Outlet_Location_Type|      Outlet_Type|Item_Outlet_Sales|flag| curr_date|week_after|week_before|datediff|\n",
            "+---------------+-----------+----------------+---------------+--------------------+--------+-----------------+-------------------------+------------+--------------------+-----------------+-----------------+----+----------+----------+-----------+--------+\n",
            "|          FDA15|        9.3|              Lf|    0.016047301|               Dairy|249.8092|           OUT049|                     1999|      Medium|              Tier 1|Supermarket Type1|         3735.138| new|2025-03-10|2025-03-17| 03-03-2025|       7|\n",
            "|          DRC01|       5.92|             Reg|    0.019278216|         Soft Drinks| 48.2692|           OUT018|                     2009|      Medium|              Tier 3|Supermarket Type2|         443.4228| new|2025-03-10|2025-03-17| 03-03-2025|       7|\n",
            "|          FDN15|       17.5|              Lf|    0.016760075|                Meat| 141.618|           OUT049|                     1999|      Medium|              Tier 1|Supermarket Type1|          2097.27| new|2025-03-10|2025-03-17| 03-03-2025|       7|\n",
            "|          FDX07|       19.2|             Reg|            0.0|Fruits and Vegeta...| 182.095|           OUT010|                     1998|NotAvailable|              Tier 3|    Grocery Store|           732.38| new|2025-03-10|2025-03-17| 03-03-2025|       7|\n",
            "|          NCD19|       8.93|              Lf|            0.0|           Household| 53.8614|           OUT013|                     1987|        High|              Tier 3|Supermarket Type1|         994.7052| new|2025-03-10|2025-03-17| 03-03-2025|       7|\n",
            "|          FDP36|     10.395|             Reg|            0.0|        Baking Goods| 51.4008|           OUT018|                     2009|      Medium|              Tier 3|Supermarket Type2|         556.6088| new|2025-03-10|2025-03-17| 03-03-2025|       7|\n",
            "|          FDO10|      13.65|             Reg|    0.012741089|         Snack Foods| 57.6588|           OUT013|                     1987|        High|              Tier 3|Supermarket Type1|         343.5528| new|2025-03-10|2025-03-17| 03-03-2025|       7|\n",
            "|          FDP10|       NULL|              Lf|    0.127469857|         Snack Foods|107.7622|           OUT027|                     1985|      Medium|              Tier 3|Supermarket Type3|        4022.7636| new|2025-03-10|2025-03-17| 03-03-2025|       7|\n",
            "|          FDH17|       16.2|             Reg|    0.016687114|        Frozen Foods| 96.9726|           OUT045|                     2002|NotAvailable|              Tier 2|Supermarket Type1|        1076.5986| new|2025-03-10|2025-03-17| 03-03-2025|       7|\n",
            "|          FDU28|       19.2|             Reg|     0.09444959|        Frozen Foods|187.8214|           OUT017|                     2007|NotAvailable|              Tier 2|Supermarket Type1|         4710.535| new|2025-03-10|2025-03-17| 03-03-2025|       7|\n",
            "|          FDY07|       11.8|              Lf|            0.0|Fruits and Vegeta...| 45.5402|           OUT049|                     1999|      Medium|              Tier 1|Supermarket Type1|        1516.0266| new|2025-03-10|2025-03-17| 03-03-2025|       7|\n",
            "|          FDA03|       18.5|             Reg|    0.045463773|               Dairy|144.1102|           OUT046|                     1997|       Small|              Tier 1|Supermarket Type1|         2187.153| new|2025-03-10|2025-03-17| 03-03-2025|       7|\n",
            "|          FDX32|       15.1|             Reg|      0.1000135|Fruits and Vegeta...|145.4786|           OUT049|                     1999|      Medium|              Tier 1|Supermarket Type1|        1589.2646| new|2025-03-10|2025-03-17| 03-03-2025|       7|\n",
            "|          FDS46|       17.6|             Reg|    0.047257328|         Snack Foods|119.6782|           OUT046|                     1997|       Small|              Tier 1|Supermarket Type1|        2145.2076| new|2025-03-10|2025-03-17| 03-03-2025|       7|\n",
            "|          FDF32|      16.35|              Lf|      0.0680243|Fruits and Vegeta...|196.4426|           OUT013|                     1987|        High|              Tier 3|Supermarket Type1|         1977.426| new|2025-03-10|2025-03-17| 03-03-2025|       7|\n",
            "|          FDP49|          9|             Reg|    0.069088961|           Breakfast| 56.3614|           OUT046|                     1997|       Small|              Tier 1|Supermarket Type1|        1547.3192| new|2025-03-10|2025-03-17| 03-03-2025|       7|\n",
            "|          NCB42|       11.8|              Lf|    0.008596051|  Health and Hygiene|115.3492|           OUT018|                     2009|      Medium|              Tier 3|Supermarket Type2|        1621.8888| new|2025-03-10|2025-03-17| 03-03-2025|       7|\n",
            "|          FDP49|          9|             Reg|    0.069196376|           Breakfast| 54.3614|           OUT049|                     1999|      Medium|              Tier 1|Supermarket Type1|         718.3982| new|2025-03-10|2025-03-17| 03-03-2025|       7|\n",
            "|          DRI11|       NULL|              Lf|    0.034237682|         Hard Drinks|113.2834|           OUT027|                     1985|      Medium|              Tier 3|Supermarket Type3|         2303.668| new|2025-03-10|2025-03-17| 03-03-2025|       7|\n",
            "|          FDU02|      13.35|              Lf|     0.10249212|               Dairy|230.5352|           OUT035|                     2004|       Small|              Tier 2|Supermarket Type1|        2748.4224| new|2025-03-10|2025-03-17| 03-03-2025|       7|\n",
            "+---------------+-----------+----------------+---------------+--------------------+--------+-----------------+-------------------------+------------+--------------------+-----------------+-----------------+----+----------+----------+-----------+--------+\n",
            "only showing top 20 rows\n",
            "\n"
          ]
        }
      ],
      "source": [
        "df.fillna('NotAvailable',subset=['Outlet_Size']).show()"
      ]
    },
    {
      "cell_type": "code",
      "execution_count": 104,
      "metadata": {
        "id": "ETAfSuMgQSXq"
      },
      "outputs": [],
      "source": [
        "### SPLIT and Indexing"
      ]
    },
    {
      "cell_type": "code",
      "execution_count": 105,
      "metadata": {
        "id": "wHnyqhrSQTuA"
      },
      "outputs": [],
      "source": [
        "#### SPLIT"
      ]
    },
    {
      "cell_type": "code",
      "execution_count": 107,
      "metadata": {
        "colab": {
          "base_uri": "https://localhost:8080/"
        },
        "id": "ReUDMv_CQUs3",
        "outputId": "baf901da-fe1a-4bca-8d1b-95d9ba56de2f"
      },
      "outputs": [
        {
          "name": "stdout",
          "output_type": "stream",
          "text": [
            "+---------------+-----------+----------------+---------------+--------------------+--------+-----------------+-------------------------+-----------+--------------------+--------------------+-----------------+----+----------+----------+-----------+--------+\n",
            "|Item_Identifier|Item_Weight|Item_Fat_Content|Item_Visibility|           Item_Type|Item_MRP|Outlet_Identifier|Outlet_Establishment_Year|Outlet_Size|Outlet_Location_Type|         Outlet_Type|Item_Outlet_Sales|flag| curr_date|week_after|week_before|datediff|\n",
            "+---------------+-----------+----------------+---------------+--------------------+--------+-----------------+-------------------------+-----------+--------------------+--------------------+-----------------+----+----------+----------+-----------+--------+\n",
            "|          FDA15|        9.3|              Lf|    0.016047301|               Dairy|249.8092|           OUT049|                     1999|     Medium|              Tier 1|[Supermarket, Type1]|         3735.138| new|2025-03-10|2025-03-17| 03-03-2025|       7|\n",
            "|          DRC01|       5.92|             Reg|    0.019278216|         Soft Drinks| 48.2692|           OUT018|                     2009|     Medium|              Tier 3|[Supermarket, Type2]|         443.4228| new|2025-03-10|2025-03-17| 03-03-2025|       7|\n",
            "|          FDN15|       17.5|              Lf|    0.016760075|                Meat| 141.618|           OUT049|                     1999|     Medium|              Tier 1|[Supermarket, Type1]|          2097.27| new|2025-03-10|2025-03-17| 03-03-2025|       7|\n",
            "|          FDX07|       19.2|             Reg|            0.0|Fruits and Vegeta...| 182.095|           OUT010|                     1998|       NULL|              Tier 3|    [Grocery, Store]|           732.38| new|2025-03-10|2025-03-17| 03-03-2025|       7|\n",
            "|          NCD19|       8.93|              Lf|            0.0|           Household| 53.8614|           OUT013|                     1987|       High|              Tier 3|[Supermarket, Type1]|         994.7052| new|2025-03-10|2025-03-17| 03-03-2025|       7|\n",
            "|          FDP36|     10.395|             Reg|            0.0|        Baking Goods| 51.4008|           OUT018|                     2009|     Medium|              Tier 3|[Supermarket, Type2]|         556.6088| new|2025-03-10|2025-03-17| 03-03-2025|       7|\n",
            "|          FDO10|      13.65|             Reg|    0.012741089|         Snack Foods| 57.6588|           OUT013|                     1987|       High|              Tier 3|[Supermarket, Type1]|         343.5528| new|2025-03-10|2025-03-17| 03-03-2025|       7|\n",
            "|          FDP10|       NULL|              Lf|    0.127469857|         Snack Foods|107.7622|           OUT027|                     1985|     Medium|              Tier 3|[Supermarket, Type3]|        4022.7636| new|2025-03-10|2025-03-17| 03-03-2025|       7|\n",
            "|          FDH17|       16.2|             Reg|    0.016687114|        Frozen Foods| 96.9726|           OUT045|                     2002|       NULL|              Tier 2|[Supermarket, Type1]|        1076.5986| new|2025-03-10|2025-03-17| 03-03-2025|       7|\n",
            "|          FDU28|       19.2|             Reg|     0.09444959|        Frozen Foods|187.8214|           OUT017|                     2007|       NULL|              Tier 2|[Supermarket, Type1]|         4710.535| new|2025-03-10|2025-03-17| 03-03-2025|       7|\n",
            "|          FDY07|       11.8|              Lf|            0.0|Fruits and Vegeta...| 45.5402|           OUT049|                     1999|     Medium|              Tier 1|[Supermarket, Type1]|        1516.0266| new|2025-03-10|2025-03-17| 03-03-2025|       7|\n",
            "|          FDA03|       18.5|             Reg|    0.045463773|               Dairy|144.1102|           OUT046|                     1997|      Small|              Tier 1|[Supermarket, Type1]|         2187.153| new|2025-03-10|2025-03-17| 03-03-2025|       7|\n",
            "|          FDX32|       15.1|             Reg|      0.1000135|Fruits and Vegeta...|145.4786|           OUT049|                     1999|     Medium|              Tier 1|[Supermarket, Type1]|        1589.2646| new|2025-03-10|2025-03-17| 03-03-2025|       7|\n",
            "|          FDS46|       17.6|             Reg|    0.047257328|         Snack Foods|119.6782|           OUT046|                     1997|      Small|              Tier 1|[Supermarket, Type1]|        2145.2076| new|2025-03-10|2025-03-17| 03-03-2025|       7|\n",
            "|          FDF32|      16.35|              Lf|      0.0680243|Fruits and Vegeta...|196.4426|           OUT013|                     1987|       High|              Tier 3|[Supermarket, Type1]|         1977.426| new|2025-03-10|2025-03-17| 03-03-2025|       7|\n",
            "|          FDP49|          9|             Reg|    0.069088961|           Breakfast| 56.3614|           OUT046|                     1997|      Small|              Tier 1|[Supermarket, Type1]|        1547.3192| new|2025-03-10|2025-03-17| 03-03-2025|       7|\n",
            "|          NCB42|       11.8|              Lf|    0.008596051|  Health and Hygiene|115.3492|           OUT018|                     2009|     Medium|              Tier 3|[Supermarket, Type2]|        1621.8888| new|2025-03-10|2025-03-17| 03-03-2025|       7|\n",
            "|          FDP49|          9|             Reg|    0.069196376|           Breakfast| 54.3614|           OUT049|                     1999|     Medium|              Tier 1|[Supermarket, Type1]|         718.3982| new|2025-03-10|2025-03-17| 03-03-2025|       7|\n",
            "|          DRI11|       NULL|              Lf|    0.034237682|         Hard Drinks|113.2834|           OUT027|                     1985|     Medium|              Tier 3|[Supermarket, Type3]|         2303.668| new|2025-03-10|2025-03-17| 03-03-2025|       7|\n",
            "|          FDU02|      13.35|              Lf|     0.10249212|               Dairy|230.5352|           OUT035|                     2004|      Small|              Tier 2|[Supermarket, Type1]|        2748.4224| new|2025-03-10|2025-03-17| 03-03-2025|       7|\n",
            "+---------------+-----------+----------------+---------------+--------------------+--------+-----------------+-------------------------+-----------+--------------------+--------------------+-----------------+----+----------+----------+-----------+--------+\n",
            "only showing top 20 rows\n",
            "\n"
          ]
        }
      ],
      "source": [
        "df.withColumn('Outlet_Type',split('Outlet_Type',' ')).show()"
      ]
    },
    {
      "cell_type": "code",
      "execution_count": 108,
      "metadata": {
        "id": "TWG841fqQVxR"
      },
      "outputs": [],
      "source": [
        "#### Indexing"
      ]
    },
    {
      "cell_type": "code",
      "execution_count": 109,
      "metadata": {
        "colab": {
          "base_uri": "https://localhost:8080/"
        },
        "id": "3vtJc_aHQZZ1",
        "outputId": "3752688d-6354-4db5-8a7f-4f4ba525ded8"
      },
      "outputs": [
        {
          "name": "stdout",
          "output_type": "stream",
          "text": [
            "+---------------+-----------+----------------+---------------+--------------------+--------+-----------------+-------------------------+-----------+--------------------+-----------+-----------------+----+----------+----------+-----------+--------+\n",
            "|Item_Identifier|Item_Weight|Item_Fat_Content|Item_Visibility|           Item_Type|Item_MRP|Outlet_Identifier|Outlet_Establishment_Year|Outlet_Size|Outlet_Location_Type|Outlet_Type|Item_Outlet_Sales|flag| curr_date|week_after|week_before|datediff|\n",
            "+---------------+-----------+----------------+---------------+--------------------+--------+-----------------+-------------------------+-----------+--------------------+-----------+-----------------+----+----------+----------+-----------+--------+\n",
            "|          FDA15|        9.3|              Lf|    0.016047301|               Dairy|249.8092|           OUT049|                     1999|     Medium|              Tier 1|      Type1|         3735.138| new|2025-03-10|2025-03-17| 03-03-2025|       7|\n",
            "|          DRC01|       5.92|             Reg|    0.019278216|         Soft Drinks| 48.2692|           OUT018|                     2009|     Medium|              Tier 3|      Type2|         443.4228| new|2025-03-10|2025-03-17| 03-03-2025|       7|\n",
            "|          FDN15|       17.5|              Lf|    0.016760075|                Meat| 141.618|           OUT049|                     1999|     Medium|              Tier 1|      Type1|          2097.27| new|2025-03-10|2025-03-17| 03-03-2025|       7|\n",
            "|          FDX07|       19.2|             Reg|            0.0|Fruits and Vegeta...| 182.095|           OUT010|                     1998|       NULL|              Tier 3|      Store|           732.38| new|2025-03-10|2025-03-17| 03-03-2025|       7|\n",
            "|          NCD19|       8.93|              Lf|            0.0|           Household| 53.8614|           OUT013|                     1987|       High|              Tier 3|      Type1|         994.7052| new|2025-03-10|2025-03-17| 03-03-2025|       7|\n",
            "|          FDP36|     10.395|             Reg|            0.0|        Baking Goods| 51.4008|           OUT018|                     2009|     Medium|              Tier 3|      Type2|         556.6088| new|2025-03-10|2025-03-17| 03-03-2025|       7|\n",
            "|          FDO10|      13.65|             Reg|    0.012741089|         Snack Foods| 57.6588|           OUT013|                     1987|       High|              Tier 3|      Type1|         343.5528| new|2025-03-10|2025-03-17| 03-03-2025|       7|\n",
            "|          FDP10|       NULL|              Lf|    0.127469857|         Snack Foods|107.7622|           OUT027|                     1985|     Medium|              Tier 3|      Type3|        4022.7636| new|2025-03-10|2025-03-17| 03-03-2025|       7|\n",
            "|          FDH17|       16.2|             Reg|    0.016687114|        Frozen Foods| 96.9726|           OUT045|                     2002|       NULL|              Tier 2|      Type1|        1076.5986| new|2025-03-10|2025-03-17| 03-03-2025|       7|\n",
            "|          FDU28|       19.2|             Reg|     0.09444959|        Frozen Foods|187.8214|           OUT017|                     2007|       NULL|              Tier 2|      Type1|         4710.535| new|2025-03-10|2025-03-17| 03-03-2025|       7|\n",
            "|          FDY07|       11.8|              Lf|            0.0|Fruits and Vegeta...| 45.5402|           OUT049|                     1999|     Medium|              Tier 1|      Type1|        1516.0266| new|2025-03-10|2025-03-17| 03-03-2025|       7|\n",
            "|          FDA03|       18.5|             Reg|    0.045463773|               Dairy|144.1102|           OUT046|                     1997|      Small|              Tier 1|      Type1|         2187.153| new|2025-03-10|2025-03-17| 03-03-2025|       7|\n",
            "|          FDX32|       15.1|             Reg|      0.1000135|Fruits and Vegeta...|145.4786|           OUT049|                     1999|     Medium|              Tier 1|      Type1|        1589.2646| new|2025-03-10|2025-03-17| 03-03-2025|       7|\n",
            "|          FDS46|       17.6|             Reg|    0.047257328|         Snack Foods|119.6782|           OUT046|                     1997|      Small|              Tier 1|      Type1|        2145.2076| new|2025-03-10|2025-03-17| 03-03-2025|       7|\n",
            "|          FDF32|      16.35|              Lf|      0.0680243|Fruits and Vegeta...|196.4426|           OUT013|                     1987|       High|              Tier 3|      Type1|         1977.426| new|2025-03-10|2025-03-17| 03-03-2025|       7|\n",
            "|          FDP49|          9|             Reg|    0.069088961|           Breakfast| 56.3614|           OUT046|                     1997|      Small|              Tier 1|      Type1|        1547.3192| new|2025-03-10|2025-03-17| 03-03-2025|       7|\n",
            "|          NCB42|       11.8|              Lf|    0.008596051|  Health and Hygiene|115.3492|           OUT018|                     2009|     Medium|              Tier 3|      Type2|        1621.8888| new|2025-03-10|2025-03-17| 03-03-2025|       7|\n",
            "|          FDP49|          9|             Reg|    0.069196376|           Breakfast| 54.3614|           OUT049|                     1999|     Medium|              Tier 1|      Type1|         718.3982| new|2025-03-10|2025-03-17| 03-03-2025|       7|\n",
            "|          DRI11|       NULL|              Lf|    0.034237682|         Hard Drinks|113.2834|           OUT027|                     1985|     Medium|              Tier 3|      Type3|         2303.668| new|2025-03-10|2025-03-17| 03-03-2025|       7|\n",
            "|          FDU02|      13.35|              Lf|     0.10249212|               Dairy|230.5352|           OUT035|                     2004|      Small|              Tier 2|      Type1|        2748.4224| new|2025-03-10|2025-03-17| 03-03-2025|       7|\n",
            "+---------------+-----------+----------------+---------------+--------------------+--------+-----------------+-------------------------+-----------+--------------------+-----------+-----------------+----+----------+----------+-----------+--------+\n",
            "only showing top 20 rows\n",
            "\n"
          ]
        }
      ],
      "source": [
        "df.withColumn('Outlet_Type',split('Outlet_Type',' ')[1]).show()"
      ]
    },
    {
      "cell_type": "code",
      "execution_count": 111,
      "metadata": {
        "colab": {
          "base_uri": "https://localhost:8080/"
        },
        "id": "NV6_u4vQQc70",
        "outputId": "4e98769f-70b7-4a20-d484-8013491d01cd"
      },
      "outputs": [
        {
          "name": "stdout",
          "output_type": "stream",
          "text": [
            "+---------------+-----------+----------------+---------------+--------------------+--------+-----------------+-------------------------+-----------+--------------------+--------------------+-----------------+----+----------+----------+-----------+--------+\n",
            "|Item_Identifier|Item_Weight|Item_Fat_Content|Item_Visibility|           Item_Type|Item_MRP|Outlet_Identifier|Outlet_Establishment_Year|Outlet_Size|Outlet_Location_Type|         Outlet_Type|Item_Outlet_Sales|flag| curr_date|week_after|week_before|datediff|\n",
            "+---------------+-----------+----------------+---------------+--------------------+--------+-----------------+-------------------------+-----------+--------------------+--------------------+-----------------+----+----------+----------+-----------+--------+\n",
            "|          FDA15|        9.3|              Lf|    0.016047301|               Dairy|249.8092|           OUT049|                     1999|     Medium|              Tier 1|[Supermarket, Type1]|         3735.138| new|2025-03-10|2025-03-17| 03-03-2025|       7|\n",
            "|          DRC01|       5.92|             Reg|    0.019278216|         Soft Drinks| 48.2692|           OUT018|                     2009|     Medium|              Tier 3|[Supermarket, Type2]|         443.4228| new|2025-03-10|2025-03-17| 03-03-2025|       7|\n",
            "|          FDN15|       17.5|              Lf|    0.016760075|                Meat| 141.618|           OUT049|                     1999|     Medium|              Tier 1|[Supermarket, Type1]|          2097.27| new|2025-03-10|2025-03-17| 03-03-2025|       7|\n",
            "|          FDX07|       19.2|             Reg|            0.0|Fruits and Vegeta...| 182.095|           OUT010|                     1998|       NULL|              Tier 3|    [Grocery, Store]|           732.38| new|2025-03-10|2025-03-17| 03-03-2025|       7|\n",
            "|          NCD19|       8.93|              Lf|            0.0|           Household| 53.8614|           OUT013|                     1987|       High|              Tier 3|[Supermarket, Type1]|         994.7052| new|2025-03-10|2025-03-17| 03-03-2025|       7|\n",
            "|          FDP36|     10.395|             Reg|            0.0|        Baking Goods| 51.4008|           OUT018|                     2009|     Medium|              Tier 3|[Supermarket, Type2]|         556.6088| new|2025-03-10|2025-03-17| 03-03-2025|       7|\n",
            "|          FDO10|      13.65|             Reg|    0.012741089|         Snack Foods| 57.6588|           OUT013|                     1987|       High|              Tier 3|[Supermarket, Type1]|         343.5528| new|2025-03-10|2025-03-17| 03-03-2025|       7|\n",
            "|          FDP10|       NULL|              Lf|    0.127469857|         Snack Foods|107.7622|           OUT027|                     1985|     Medium|              Tier 3|[Supermarket, Type3]|        4022.7636| new|2025-03-10|2025-03-17| 03-03-2025|       7|\n",
            "|          FDH17|       16.2|             Reg|    0.016687114|        Frozen Foods| 96.9726|           OUT045|                     2002|       NULL|              Tier 2|[Supermarket, Type1]|        1076.5986| new|2025-03-10|2025-03-17| 03-03-2025|       7|\n",
            "|          FDU28|       19.2|             Reg|     0.09444959|        Frozen Foods|187.8214|           OUT017|                     2007|       NULL|              Tier 2|[Supermarket, Type1]|         4710.535| new|2025-03-10|2025-03-17| 03-03-2025|       7|\n",
            "|          FDY07|       11.8|              Lf|            0.0|Fruits and Vegeta...| 45.5402|           OUT049|                     1999|     Medium|              Tier 1|[Supermarket, Type1]|        1516.0266| new|2025-03-10|2025-03-17| 03-03-2025|       7|\n",
            "|          FDA03|       18.5|             Reg|    0.045463773|               Dairy|144.1102|           OUT046|                     1997|      Small|              Tier 1|[Supermarket, Type1]|         2187.153| new|2025-03-10|2025-03-17| 03-03-2025|       7|\n",
            "|          FDX32|       15.1|             Reg|      0.1000135|Fruits and Vegeta...|145.4786|           OUT049|                     1999|     Medium|              Tier 1|[Supermarket, Type1]|        1589.2646| new|2025-03-10|2025-03-17| 03-03-2025|       7|\n",
            "|          FDS46|       17.6|             Reg|    0.047257328|         Snack Foods|119.6782|           OUT046|                     1997|      Small|              Tier 1|[Supermarket, Type1]|        2145.2076| new|2025-03-10|2025-03-17| 03-03-2025|       7|\n",
            "|          FDF32|      16.35|              Lf|      0.0680243|Fruits and Vegeta...|196.4426|           OUT013|                     1987|       High|              Tier 3|[Supermarket, Type1]|         1977.426| new|2025-03-10|2025-03-17| 03-03-2025|       7|\n",
            "|          FDP49|          9|             Reg|    0.069088961|           Breakfast| 56.3614|           OUT046|                     1997|      Small|              Tier 1|[Supermarket, Type1]|        1547.3192| new|2025-03-10|2025-03-17| 03-03-2025|       7|\n",
            "|          NCB42|       11.8|              Lf|    0.008596051|  Health and Hygiene|115.3492|           OUT018|                     2009|     Medium|              Tier 3|[Supermarket, Type2]|        1621.8888| new|2025-03-10|2025-03-17| 03-03-2025|       7|\n",
            "|          FDP49|          9|             Reg|    0.069196376|           Breakfast| 54.3614|           OUT049|                     1999|     Medium|              Tier 1|[Supermarket, Type1]|         718.3982| new|2025-03-10|2025-03-17| 03-03-2025|       7|\n",
            "|          DRI11|       NULL|              Lf|    0.034237682|         Hard Drinks|113.2834|           OUT027|                     1985|     Medium|              Tier 3|[Supermarket, Type3]|         2303.668| new|2025-03-10|2025-03-17| 03-03-2025|       7|\n",
            "|          FDU02|      13.35|              Lf|     0.10249212|               Dairy|230.5352|           OUT035|                     2004|      Small|              Tier 2|[Supermarket, Type1]|        2748.4224| new|2025-03-10|2025-03-17| 03-03-2025|       7|\n",
            "+---------------+-----------+----------------+---------------+--------------------+--------+-----------------+-------------------------+-----------+--------------------+--------------------+-----------------+----+----------+----------+-----------+--------+\n",
            "only showing top 20 rows\n",
            "\n"
          ]
        }
      ],
      "source": [
        "df_exp = df.withColumn('Outlet_Type',split('Outlet_Type',' '))\n",
        "\n",
        "df_exp.show()"
      ]
    },
    {
      "cell_type": "code",
      "execution_count": 112,
      "metadata": {
        "colab": {
          "base_uri": "https://localhost:8080/"
        },
        "id": "2j3-sfiAQevj",
        "outputId": "d1a81f4b-1d68-45ab-fbb6-ad6f4bdb4b45"
      },
      "outputs": [
        {
          "name": "stdout",
          "output_type": "stream",
          "text": [
            "+---------------+-----------+----------------+---------------+--------------------+--------+-----------------+-------------------------+-----------+--------------------+-----------+-----------------+----+----------+----------+-----------+--------+\n",
            "|Item_Identifier|Item_Weight|Item_Fat_Content|Item_Visibility|           Item_Type|Item_MRP|Outlet_Identifier|Outlet_Establishment_Year|Outlet_Size|Outlet_Location_Type|Outlet_Type|Item_Outlet_Sales|flag| curr_date|week_after|week_before|datediff|\n",
            "+---------------+-----------+----------------+---------------+--------------------+--------+-----------------+-------------------------+-----------+--------------------+-----------+-----------------+----+----------+----------+-----------+--------+\n",
            "|          FDA15|        9.3|              Lf|    0.016047301|               Dairy|249.8092|           OUT049|                     1999|     Medium|              Tier 1|Supermarket|         3735.138| new|2025-03-10|2025-03-17| 03-03-2025|       7|\n",
            "|          FDA15|        9.3|              Lf|    0.016047301|               Dairy|249.8092|           OUT049|                     1999|     Medium|              Tier 1|      Type1|         3735.138| new|2025-03-10|2025-03-17| 03-03-2025|       7|\n",
            "|          DRC01|       5.92|             Reg|    0.019278216|         Soft Drinks| 48.2692|           OUT018|                     2009|     Medium|              Tier 3|Supermarket|         443.4228| new|2025-03-10|2025-03-17| 03-03-2025|       7|\n",
            "|          DRC01|       5.92|             Reg|    0.019278216|         Soft Drinks| 48.2692|           OUT018|                     2009|     Medium|              Tier 3|      Type2|         443.4228| new|2025-03-10|2025-03-17| 03-03-2025|       7|\n",
            "|          FDN15|       17.5|              Lf|    0.016760075|                Meat| 141.618|           OUT049|                     1999|     Medium|              Tier 1|Supermarket|          2097.27| new|2025-03-10|2025-03-17| 03-03-2025|       7|\n",
            "|          FDN15|       17.5|              Lf|    0.016760075|                Meat| 141.618|           OUT049|                     1999|     Medium|              Tier 1|      Type1|          2097.27| new|2025-03-10|2025-03-17| 03-03-2025|       7|\n",
            "|          FDX07|       19.2|             Reg|            0.0|Fruits and Vegeta...| 182.095|           OUT010|                     1998|       NULL|              Tier 3|    Grocery|           732.38| new|2025-03-10|2025-03-17| 03-03-2025|       7|\n",
            "|          FDX07|       19.2|             Reg|            0.0|Fruits and Vegeta...| 182.095|           OUT010|                     1998|       NULL|              Tier 3|      Store|           732.38| new|2025-03-10|2025-03-17| 03-03-2025|       7|\n",
            "|          NCD19|       8.93|              Lf|            0.0|           Household| 53.8614|           OUT013|                     1987|       High|              Tier 3|Supermarket|         994.7052| new|2025-03-10|2025-03-17| 03-03-2025|       7|\n",
            "|          NCD19|       8.93|              Lf|            0.0|           Household| 53.8614|           OUT013|                     1987|       High|              Tier 3|      Type1|         994.7052| new|2025-03-10|2025-03-17| 03-03-2025|       7|\n",
            "|          FDP36|     10.395|             Reg|            0.0|        Baking Goods| 51.4008|           OUT018|                     2009|     Medium|              Tier 3|Supermarket|         556.6088| new|2025-03-10|2025-03-17| 03-03-2025|       7|\n",
            "|          FDP36|     10.395|             Reg|            0.0|        Baking Goods| 51.4008|           OUT018|                     2009|     Medium|              Tier 3|      Type2|         556.6088| new|2025-03-10|2025-03-17| 03-03-2025|       7|\n",
            "|          FDO10|      13.65|             Reg|    0.012741089|         Snack Foods| 57.6588|           OUT013|                     1987|       High|              Tier 3|Supermarket|         343.5528| new|2025-03-10|2025-03-17| 03-03-2025|       7|\n",
            "|          FDO10|      13.65|             Reg|    0.012741089|         Snack Foods| 57.6588|           OUT013|                     1987|       High|              Tier 3|      Type1|         343.5528| new|2025-03-10|2025-03-17| 03-03-2025|       7|\n",
            "|          FDP10|       NULL|              Lf|    0.127469857|         Snack Foods|107.7622|           OUT027|                     1985|     Medium|              Tier 3|Supermarket|        4022.7636| new|2025-03-10|2025-03-17| 03-03-2025|       7|\n",
            "|          FDP10|       NULL|              Lf|    0.127469857|         Snack Foods|107.7622|           OUT027|                     1985|     Medium|              Tier 3|      Type3|        4022.7636| new|2025-03-10|2025-03-17| 03-03-2025|       7|\n",
            "|          FDH17|       16.2|             Reg|    0.016687114|        Frozen Foods| 96.9726|           OUT045|                     2002|       NULL|              Tier 2|Supermarket|        1076.5986| new|2025-03-10|2025-03-17| 03-03-2025|       7|\n",
            "|          FDH17|       16.2|             Reg|    0.016687114|        Frozen Foods| 96.9726|           OUT045|                     2002|       NULL|              Tier 2|      Type1|        1076.5986| new|2025-03-10|2025-03-17| 03-03-2025|       7|\n",
            "|          FDU28|       19.2|             Reg|     0.09444959|        Frozen Foods|187.8214|           OUT017|                     2007|       NULL|              Tier 2|Supermarket|         4710.535| new|2025-03-10|2025-03-17| 03-03-2025|       7|\n",
            "|          FDU28|       19.2|             Reg|     0.09444959|        Frozen Foods|187.8214|           OUT017|                     2007|       NULL|              Tier 2|      Type1|         4710.535| new|2025-03-10|2025-03-17| 03-03-2025|       7|\n",
            "+---------------+-----------+----------------+---------------+--------------------+--------+-----------------+-------------------------+-----------+--------------------+-----------+-----------------+----+----------+----------+-----------+--------+\n",
            "only showing top 20 rows\n",
            "\n"
          ]
        }
      ],
      "source": [
        "df_exp.withColumn('Outlet_Type',explode('Outlet_Type')).show()"
      ]
    },
    {
      "cell_type": "code",
      "execution_count": 113,
      "metadata": {
        "colab": {
          "base_uri": "https://localhost:8080/"
        },
        "id": "VEPnTz43QhgD",
        "outputId": "5669cecd-6b80-48eb-c228-d8d10f7e2620"
      },
      "outputs": [
        {
          "name": "stdout",
          "output_type": "stream",
          "text": [
            "+---------------+-----------+----------------+---------------+--------------------+--------+-----------------+-------------------------+-----------+--------------------+--------------------+-----------------+----+----------+----------+-----------+--------+\n",
            "|Item_Identifier|Item_Weight|Item_Fat_Content|Item_Visibility|           Item_Type|Item_MRP|Outlet_Identifier|Outlet_Establishment_Year|Outlet_Size|Outlet_Location_Type|         Outlet_Type|Item_Outlet_Sales|flag| curr_date|week_after|week_before|datediff|\n",
            "+---------------+-----------+----------------+---------------+--------------------+--------+-----------------+-------------------------+-----------+--------------------+--------------------+-----------------+----+----------+----------+-----------+--------+\n",
            "|          FDA15|        9.3|              Lf|    0.016047301|               Dairy|249.8092|           OUT049|                     1999|     Medium|              Tier 1|[Supermarket, Type1]|         3735.138| new|2025-03-10|2025-03-17| 03-03-2025|       7|\n",
            "|          DRC01|       5.92|             Reg|    0.019278216|         Soft Drinks| 48.2692|           OUT018|                     2009|     Medium|              Tier 3|[Supermarket, Type2]|         443.4228| new|2025-03-10|2025-03-17| 03-03-2025|       7|\n",
            "|          FDN15|       17.5|              Lf|    0.016760075|                Meat| 141.618|           OUT049|                     1999|     Medium|              Tier 1|[Supermarket, Type1]|          2097.27| new|2025-03-10|2025-03-17| 03-03-2025|       7|\n",
            "|          FDX07|       19.2|             Reg|            0.0|Fruits and Vegeta...| 182.095|           OUT010|                     1998|       NULL|              Tier 3|    [Grocery, Store]|           732.38| new|2025-03-10|2025-03-17| 03-03-2025|       7|\n",
            "|          NCD19|       8.93|              Lf|            0.0|           Household| 53.8614|           OUT013|                     1987|       High|              Tier 3|[Supermarket, Type1]|         994.7052| new|2025-03-10|2025-03-17| 03-03-2025|       7|\n",
            "|          FDP36|     10.395|             Reg|            0.0|        Baking Goods| 51.4008|           OUT018|                     2009|     Medium|              Tier 3|[Supermarket, Type2]|         556.6088| new|2025-03-10|2025-03-17| 03-03-2025|       7|\n",
            "|          FDO10|      13.65|             Reg|    0.012741089|         Snack Foods| 57.6588|           OUT013|                     1987|       High|              Tier 3|[Supermarket, Type1]|         343.5528| new|2025-03-10|2025-03-17| 03-03-2025|       7|\n",
            "|          FDP10|       NULL|              Lf|    0.127469857|         Snack Foods|107.7622|           OUT027|                     1985|     Medium|              Tier 3|[Supermarket, Type3]|        4022.7636| new|2025-03-10|2025-03-17| 03-03-2025|       7|\n",
            "|          FDH17|       16.2|             Reg|    0.016687114|        Frozen Foods| 96.9726|           OUT045|                     2002|       NULL|              Tier 2|[Supermarket, Type1]|        1076.5986| new|2025-03-10|2025-03-17| 03-03-2025|       7|\n",
            "|          FDU28|       19.2|             Reg|     0.09444959|        Frozen Foods|187.8214|           OUT017|                     2007|       NULL|              Tier 2|[Supermarket, Type1]|         4710.535| new|2025-03-10|2025-03-17| 03-03-2025|       7|\n",
            "|          FDY07|       11.8|              Lf|            0.0|Fruits and Vegeta...| 45.5402|           OUT049|                     1999|     Medium|              Tier 1|[Supermarket, Type1]|        1516.0266| new|2025-03-10|2025-03-17| 03-03-2025|       7|\n",
            "|          FDA03|       18.5|             Reg|    0.045463773|               Dairy|144.1102|           OUT046|                     1997|      Small|              Tier 1|[Supermarket, Type1]|         2187.153| new|2025-03-10|2025-03-17| 03-03-2025|       7|\n",
            "|          FDX32|       15.1|             Reg|      0.1000135|Fruits and Vegeta...|145.4786|           OUT049|                     1999|     Medium|              Tier 1|[Supermarket, Type1]|        1589.2646| new|2025-03-10|2025-03-17| 03-03-2025|       7|\n",
            "|          FDS46|       17.6|             Reg|    0.047257328|         Snack Foods|119.6782|           OUT046|                     1997|      Small|              Tier 1|[Supermarket, Type1]|        2145.2076| new|2025-03-10|2025-03-17| 03-03-2025|       7|\n",
            "|          FDF32|      16.35|              Lf|      0.0680243|Fruits and Vegeta...|196.4426|           OUT013|                     1987|       High|              Tier 3|[Supermarket, Type1]|         1977.426| new|2025-03-10|2025-03-17| 03-03-2025|       7|\n",
            "|          FDP49|          9|             Reg|    0.069088961|           Breakfast| 56.3614|           OUT046|                     1997|      Small|              Tier 1|[Supermarket, Type1]|        1547.3192| new|2025-03-10|2025-03-17| 03-03-2025|       7|\n",
            "|          NCB42|       11.8|              Lf|    0.008596051|  Health and Hygiene|115.3492|           OUT018|                     2009|     Medium|              Tier 3|[Supermarket, Type2]|        1621.8888| new|2025-03-10|2025-03-17| 03-03-2025|       7|\n",
            "|          FDP49|          9|             Reg|    0.069196376|           Breakfast| 54.3614|           OUT049|                     1999|     Medium|              Tier 1|[Supermarket, Type1]|         718.3982| new|2025-03-10|2025-03-17| 03-03-2025|       7|\n",
            "|          DRI11|       NULL|              Lf|    0.034237682|         Hard Drinks|113.2834|           OUT027|                     1985|     Medium|              Tier 3|[Supermarket, Type3]|         2303.668| new|2025-03-10|2025-03-17| 03-03-2025|       7|\n",
            "|          FDU02|      13.35|              Lf|     0.10249212|               Dairy|230.5352|           OUT035|                     2004|      Small|              Tier 2|[Supermarket, Type1]|        2748.4224| new|2025-03-10|2025-03-17| 03-03-2025|       7|\n",
            "+---------------+-----------+----------------+---------------+--------------------+--------+-----------------+-------------------------+-----------+--------------------+--------------------+-----------------+----+----------+----------+-----------+--------+\n",
            "only showing top 20 rows\n",
            "\n"
          ]
        }
      ],
      "source": [
        "df_exp.show()"
      ]
    },
    {
      "cell_type": "code",
      "execution_count": 116,
      "metadata": {
        "colab": {
          "base_uri": "https://localhost:8080/"
        },
        "id": "-TIrWQH4QmgB",
        "outputId": "0ee64ed7-c5a4-43dc-a061-1bf87e12fed9"
      },
      "outputs": [
        {
          "name": "stdout",
          "output_type": "stream",
          "text": [
            "+---------------+-----------+----------------+---------------+--------------------+--------+-----------------+-------------------------+-----------+--------------------+-----------------+-----------------+----+----------+----------+-----------+--------+\n",
            "|Item_Identifier|Item_Weight|Item_Fat_Content|Item_Visibility|           Item_Type|Item_MRP|Outlet_Identifier|Outlet_Establishment_Year|Outlet_Size|Outlet_Location_Type|      Outlet_Type|Item_Outlet_Sales|flag| curr_date|week_after|week_before|datediff|\n",
            "+---------------+-----------+----------------+---------------+--------------------+--------+-----------------+-------------------------+-----------+--------------------+-----------------+-----------------+----+----------+----------+-----------+--------+\n",
            "|          FDA15|        9.3|              Lf|    0.016047301|               Dairy|249.8092|           OUT049|                     1999|     Medium|              Tier 1|Supermarket Type1|         3735.138| new|2025-03-10|2025-03-17| 03-03-2025|       7|\n",
            "|          DRC01|       5.92|             Reg|    0.019278216|         Soft Drinks| 48.2692|           OUT018|                     2009|     Medium|              Tier 3|Supermarket Type2|         443.4228| new|2025-03-10|2025-03-17| 03-03-2025|       7|\n",
            "|          FDN15|       17.5|              Lf|    0.016760075|                Meat| 141.618|           OUT049|                     1999|     Medium|              Tier 1|Supermarket Type1|          2097.27| new|2025-03-10|2025-03-17| 03-03-2025|       7|\n",
            "|          FDX07|       19.2|             Reg|            0.0|Fruits and Vegeta...| 182.095|           OUT010|                     1998|       NULL|              Tier 3|    Grocery Store|           732.38| new|2025-03-10|2025-03-17| 03-03-2025|       7|\n",
            "|          NCD19|       8.93|              Lf|            0.0|           Household| 53.8614|           OUT013|                     1987|       High|              Tier 3|Supermarket Type1|         994.7052| new|2025-03-10|2025-03-17| 03-03-2025|       7|\n",
            "|          FDP36|     10.395|             Reg|            0.0|        Baking Goods| 51.4008|           OUT018|                     2009|     Medium|              Tier 3|Supermarket Type2|         556.6088| new|2025-03-10|2025-03-17| 03-03-2025|       7|\n",
            "|          FDO10|      13.65|             Reg|    0.012741089|         Snack Foods| 57.6588|           OUT013|                     1987|       High|              Tier 3|Supermarket Type1|         343.5528| new|2025-03-10|2025-03-17| 03-03-2025|       7|\n",
            "|          FDP10|       NULL|              Lf|    0.127469857|         Snack Foods|107.7622|           OUT027|                     1985|     Medium|              Tier 3|Supermarket Type3|        4022.7636| new|2025-03-10|2025-03-17| 03-03-2025|       7|\n",
            "|          FDH17|       16.2|             Reg|    0.016687114|        Frozen Foods| 96.9726|           OUT045|                     2002|       NULL|              Tier 2|Supermarket Type1|        1076.5986| new|2025-03-10|2025-03-17| 03-03-2025|       7|\n",
            "|          FDU28|       19.2|             Reg|     0.09444959|        Frozen Foods|187.8214|           OUT017|                     2007|       NULL|              Tier 2|Supermarket Type1|         4710.535| new|2025-03-10|2025-03-17| 03-03-2025|       7|\n",
            "|          FDY07|       11.8|              Lf|            0.0|Fruits and Vegeta...| 45.5402|           OUT049|                     1999|     Medium|              Tier 1|Supermarket Type1|        1516.0266| new|2025-03-10|2025-03-17| 03-03-2025|       7|\n",
            "|          FDA03|       18.5|             Reg|    0.045463773|               Dairy|144.1102|           OUT046|                     1997|      Small|              Tier 1|Supermarket Type1|         2187.153| new|2025-03-10|2025-03-17| 03-03-2025|       7|\n",
            "|          FDX32|       15.1|             Reg|      0.1000135|Fruits and Vegeta...|145.4786|           OUT049|                     1999|     Medium|              Tier 1|Supermarket Type1|        1589.2646| new|2025-03-10|2025-03-17| 03-03-2025|       7|\n",
            "|          FDS46|       17.6|             Reg|    0.047257328|         Snack Foods|119.6782|           OUT046|                     1997|      Small|              Tier 1|Supermarket Type1|        2145.2076| new|2025-03-10|2025-03-17| 03-03-2025|       7|\n",
            "|          FDF32|      16.35|              Lf|      0.0680243|Fruits and Vegeta...|196.4426|           OUT013|                     1987|       High|              Tier 3|Supermarket Type1|         1977.426| new|2025-03-10|2025-03-17| 03-03-2025|       7|\n",
            "|          FDP49|          9|             Reg|    0.069088961|           Breakfast| 56.3614|           OUT046|                     1997|      Small|              Tier 1|Supermarket Type1|        1547.3192| new|2025-03-10|2025-03-17| 03-03-2025|       7|\n",
            "|          NCB42|       11.8|              Lf|    0.008596051|  Health and Hygiene|115.3492|           OUT018|                     2009|     Medium|              Tier 3|Supermarket Type2|        1621.8888| new|2025-03-10|2025-03-17| 03-03-2025|       7|\n",
            "|          FDP49|          9|             Reg|    0.069196376|           Breakfast| 54.3614|           OUT049|                     1999|     Medium|              Tier 1|Supermarket Type1|         718.3982| new|2025-03-10|2025-03-17| 03-03-2025|       7|\n",
            "|          DRI11|       NULL|              Lf|    0.034237682|         Hard Drinks|113.2834|           OUT027|                     1985|     Medium|              Tier 3|Supermarket Type3|         2303.668| new|2025-03-10|2025-03-17| 03-03-2025|       7|\n",
            "|          FDU02|      13.35|              Lf|     0.10249212|               Dairy|230.5352|           OUT035|                     2004|      Small|              Tier 2|Supermarket Type1|        2748.4224| new|2025-03-10|2025-03-17| 03-03-2025|       7|\n",
            "+---------------+-----------+----------------+---------------+--------------------+--------+-----------------+-------------------------+-----------+--------------------+-----------------+-----------------+----+----------+----------+-----------+--------+\n",
            "only showing top 20 rows\n",
            "\n"
          ]
        }
      ],
      "source": [
        "df.show()"
      ]
    },
    {
      "cell_type": "code",
      "execution_count": 117,
      "metadata": {
        "colab": {
          "base_uri": "https://localhost:8080/"
        },
        "id": "mCgjwzILQn6N",
        "outputId": "10af62f0-8dd7-4def-edea-18733f37979a"
      },
      "outputs": [
        {
          "name": "stdout",
          "output_type": "stream",
          "text": [
            "+--------------------+------------------+\n",
            "|           Item_Type|     sum(Item_MRP)|\n",
            "+--------------------+------------------+\n",
            "|       Starchy Foods|21880.027399999995|\n",
            "|        Baking Goods| 81894.73640000001|\n",
            "|              Breads| 35379.11979999999|\n",
            "|Fruits and Vegeta...|178124.08099999998|\n",
            "|                Meat|59449.863799999956|\n",
            "|         Hard Drinks|29334.676599999995|\n",
            "|         Soft Drinks|58514.164999999964|\n",
            "|           Household|135976.52539999998|\n",
            "|           Breakfast|        15596.6966|\n",
            "|               Dairy|101276.45959999996|\n",
            "|         Snack Foods|175433.92040000003|\n",
            "|              Others|22451.891600000006|\n",
            "|             Seafood| 9077.870000000003|\n",
            "|              Canned|  90706.7269999999|\n",
            "|        Frozen Foods|118558.88140000001|\n",
            "|  Health and Hygiene|        68025.8388|\n",
            "+--------------------+------------------+\n",
            "\n"
          ]
        }
      ],
      "source": [
        "df.groupBy('Item_Type').agg(sum('Item_MRP')).show()"
      ]
    },
    {
      "cell_type": "code",
      "execution_count": 119,
      "metadata": {
        "colab": {
          "base_uri": "https://localhost:8080/"
        },
        "id": "-_1gSywCQsFz",
        "outputId": "9c546ae3-f91d-4606-9e1e-a7099c297ed8"
      },
      "outputs": [
        {
          "name": "stdout",
          "output_type": "stream",
          "text": [
            "+--------------------+------------------+\n",
            "|           Item_Type|     avg(Item_MRP)|\n",
            "+--------------------+------------------+\n",
            "|       Starchy Foods|147.83802297297294|\n",
            "|        Baking Goods|126.38076604938273|\n",
            "|              Breads| 140.9526685258964|\n",
            "|Fruits and Vegeta...|144.58123457792206|\n",
            "|                Meat|139.88203247058814|\n",
            "|         Hard Drinks|137.07792803738315|\n",
            "|         Soft Drinks|131.49250561797746|\n",
            "|           Household|149.42475318681318|\n",
            "|           Breakfast|141.78815090909092|\n",
            "|               Dairy|148.49920762463336|\n",
            "|         Snack Foods|146.19493366666669|\n",
            "|              Others|132.85142958579885|\n",
            "|             Seafood|141.84171875000004|\n",
            "|              Canned|139.76383204930647|\n",
            "|        Frozen Foods|138.50336612149533|\n",
            "|  Health and Hygiene|130.81892076923077|\n",
            "+--------------------+------------------+\n",
            "\n"
          ]
        }
      ],
      "source": [
        "df.groupBy('Item_Type').agg(avg('Item_MRP')).show()"
      ]
    },
    {
      "cell_type": "code",
      "execution_count": 121,
      "metadata": {
        "colab": {
          "base_uri": "https://localhost:8080/"
        },
        "id": "2OlEGwQhQvbQ",
        "outputId": "76b71b3c-0043-42c3-efd0-1d1c55700d0b"
      },
      "outputs": [
        {
          "name": "stdout",
          "output_type": "stream",
          "text": [
            "+--------------------+-----------+------------------+\n",
            "|           Item_Type|Outlet_Size|         Total_MRP|\n",
            "+--------------------+-----------+------------------+\n",
            "|       Starchy Foods|     Medium| 7124.136199999997|\n",
            "|Fruits and Vegeta...|     Medium|59047.217200000014|\n",
            "|       Starchy Foods|       NULL|         6040.6402|\n",
            "|              Breads|       NULL|        10011.5004|\n",
            "|        Baking Goods|       NULL|23433.838799999994|\n",
            "|Fruits and Vegeta...|       NULL|49758.730999999985|\n",
            "|        Frozen Foods|       High|12588.291000000001|\n",
            "|         Soft Drinks|       High| 6456.165199999999|\n",
            "|           Breakfast|      Small|3917.0407999999998|\n",
            "|                Meat|     Medium| 20326.45059999999|\n",
            "|Fruits and Vegeta...|       High| 20671.34759999999|\n",
            "|                Meat|       High| 5627.036400000002|\n",
            "|        Baking Goods|       High| 9431.749199999998|\n",
            "|           Household|     Medium| 42688.57439999998|\n",
            "|                Meat|       NULL|16158.166000000005|\n",
            "|         Hard Drinks|       NULL| 8869.577199999998|\n",
            "|         Hard Drinks|      Small|         6487.9392|\n",
            "|         Soft Drinks|       NULL|17745.318000000003|\n",
            "|           Household|       NULL| 38567.78840000001|\n",
            "|               Dairy|       High|12280.733799999996|\n",
            "+--------------------+-----------+------------------+\n",
            "only showing top 20 rows\n",
            "\n"
          ]
        }
      ],
      "source": [
        "df.groupBy('Item_Type','Outlet_Size').agg(sum('Item_MRP').alias('Total_MRP')).show()"
      ]
    },
    {
      "cell_type": "code",
      "execution_count": 123,
      "metadata": {
        "colab": {
          "base_uri": "https://localhost:8080/"
        },
        "id": "MFk8SUUKQyPU",
        "outputId": "4db43abc-6e8a-4bd6-f06e-c0923bbe8f15"
      },
      "outputs": [
        {
          "name": "stdout",
          "output_type": "stream",
          "text": [
            "+--------------------+-----------+------------------+------------------+\n",
            "|           Item_Type|Outlet_Size|     sum(Item_MRP)|     avg(Item_MRP)|\n",
            "+--------------------+-----------+------------------+------------------+\n",
            "|       Starchy Foods|     Medium| 7124.136199999997| 148.4195041666666|\n",
            "|Fruits and Vegeta...|     Medium|59047.217200000014| 142.9714702179177|\n",
            "|       Starchy Foods|       NULL|         6040.6402|140.48000465116277|\n",
            "|              Breads|       NULL|        10011.5004|139.04861666666667|\n",
            "|        Baking Goods|       NULL|23433.838799999994|126.66939891891889|\n",
            "|Fruits and Vegeta...|       NULL|49758.730999999985|142.57516045845267|\n",
            "|        Frozen Foods|       High|12588.291000000001|         136.82925|\n",
            "|         Soft Drinks|       High| 6456.165199999999|131.75847346938772|\n",
            "|           Breakfast|      Small|3917.0407999999998|130.56802666666667|\n",
            "|                Meat|     Medium| 20326.45059999999|136.41913154362408|\n",
            "|Fruits and Vegeta...|       High| 20671.34759999999|145.57287042253515|\n",
            "|                Meat|       High| 5627.036400000002| 137.2447902439025|\n",
            "|        Baking Goods|       High| 9431.749199999998|129.20204383561642|\n",
            "|           Household|     Medium| 42688.57439999998|147.71133010380618|\n",
            "|                Meat|       NULL|16158.166000000005|139.29453448275865|\n",
            "|         Hard Drinks|       NULL| 8869.577199999998| 134.3875333333333|\n",
            "|         Hard Drinks|      Small|         6487.9392|        129.758784|\n",
            "|         Soft Drinks|       NULL|17745.318000000003|133.42344360902257|\n",
            "|           Household|       NULL| 38567.78840000001|147.76930421455944|\n",
            "|               Dairy|       High|12280.733799999996|153.50917249999995|\n",
            "+--------------------+-----------+------------------+------------------+\n",
            "only showing top 20 rows\n",
            "\n"
          ]
        }
      ],
      "source": [
        "df.groupBy('Item_Type','Outlet_Size').agg(sum('Item_MRP'),avg('Item_MRP')).show()"
      ]
    },
    {
      "cell_type": "code",
      "execution_count": 125,
      "metadata": {
        "colab": {
          "base_uri": "https://localhost:8080/"
        },
        "id": "iF1nIDBsQ1kl",
        "outputId": "e1950cd4-dc28-4167-e182-aadcc6b584e8"
      },
      "outputs": [
        {
          "name": "stdout",
          "output_type": "stream",
          "text": [
            "+-----+-----+\n",
            "| user| book|\n",
            "+-----+-----+\n",
            "|user1|book1|\n",
            "|user1|book2|\n",
            "|user2|book2|\n",
            "|user2|book4|\n",
            "|user3|book1|\n",
            "+-----+-----+\n",
            "\n"
          ]
        }
      ],
      "source": [
        "data = [('user1','book1'),\n",
        "        ('user1','book2'),\n",
        "        ('user2','book2'),\n",
        "        ('user2','book4'),\n",
        "        ('user3','book1')]\n",
        "\n",
        "schema = 'user string, book string'\n",
        "\n",
        "df_book = spark.createDataFrame(data,schema)\n",
        "\n",
        "df_book.show()"
      ]
    },
    {
      "cell_type": "code",
      "execution_count": 126,
      "metadata": {
        "colab": {
          "base_uri": "https://localhost:8080/"
        },
        "id": "snf8tvgPQ3Wn",
        "outputId": "5ffd48c4-fd0b-4d96-8f1e-fecaa9229d6c"
      },
      "outputs": [
        {
          "name": "stdout",
          "output_type": "stream",
          "text": [
            "+-----+------------------+\n",
            "| user|collect_list(book)|\n",
            "+-----+------------------+\n",
            "|user1|    [book1, book2]|\n",
            "|user3|           [book1]|\n",
            "|user2|    [book2, book4]|\n",
            "+-----+------------------+\n",
            "\n"
          ]
        }
      ],
      "source": [
        "df_book.groupBy('user').agg(collect_list('book')).show()"
      ]
    },
    {
      "cell_type": "code",
      "execution_count": 127,
      "metadata": {
        "colab": {
          "base_uri": "https://localhost:8080/"
        },
        "id": "zNAVxilyQ5kL",
        "outputId": "df3e8946-7d9f-4e7a-9d62-c13060a35df0"
      },
      "outputs": [
        {
          "name": "stdout",
          "output_type": "stream",
          "text": [
            "+--------------------+-----------+--------+\n",
            "|           Item_Type|Outlet_Size|Item_MRP|\n",
            "+--------------------+-----------+--------+\n",
            "|               Dairy|     Medium|249.8092|\n",
            "|         Soft Drinks|     Medium| 48.2692|\n",
            "|                Meat|     Medium| 141.618|\n",
            "|Fruits and Vegeta...|       NULL| 182.095|\n",
            "|           Household|       High| 53.8614|\n",
            "|        Baking Goods|     Medium| 51.4008|\n",
            "|         Snack Foods|       High| 57.6588|\n",
            "|         Snack Foods|     Medium|107.7622|\n",
            "|        Frozen Foods|       NULL| 96.9726|\n",
            "|        Frozen Foods|       NULL|187.8214|\n",
            "|Fruits and Vegeta...|     Medium| 45.5402|\n",
            "|               Dairy|      Small|144.1102|\n",
            "|Fruits and Vegeta...|     Medium|145.4786|\n",
            "|         Snack Foods|      Small|119.6782|\n",
            "|Fruits and Vegeta...|       High|196.4426|\n",
            "|           Breakfast|      Small| 56.3614|\n",
            "|  Health and Hygiene|     Medium|115.3492|\n",
            "|           Breakfast|     Medium| 54.3614|\n",
            "|         Hard Drinks|     Medium|113.2834|\n",
            "|               Dairy|      Small|230.5352|\n",
            "+--------------------+-----------+--------+\n",
            "only showing top 20 rows\n",
            "\n"
          ]
        }
      ],
      "source": [
        "df.select('Item_Type','Outlet_Size','Item_MRP').show()"
      ]
    },
    {
      "cell_type": "code",
      "execution_count": 132,
      "metadata": {
        "id": "YOmyoyHzRBZ-"
      },
      "outputs": [],
      "source": [
        "df = df.withColumn('veg_flag',when(col('Item_Type')=='Meat','Non-Veg').otherwise('Veg'))"
      ]
    },
    {
      "cell_type": "code",
      "execution_count": 133,
      "metadata": {
        "colab": {
          "base_uri": "https://localhost:8080/"
        },
        "id": "nH8I09PsRC6O",
        "outputId": "78793db9-d5b2-471b-f7c7-c3d2d5ef4c56"
      },
      "outputs": [
        {
          "name": "stdout",
          "output_type": "stream",
          "text": [
            "+---------------+-----------+----------------+---------------+--------------------+--------+-----------------+-------------------------+-----------+--------------------+-----------------+-----------------+----+----------+----------+-----------+--------+--------+\n",
            "|Item_Identifier|Item_Weight|Item_Fat_Content|Item_Visibility|           Item_Type|Item_MRP|Outlet_Identifier|Outlet_Establishment_Year|Outlet_Size|Outlet_Location_Type|      Outlet_Type|Item_Outlet_Sales|flag| curr_date|week_after|week_before|datediff|veg_flag|\n",
            "+---------------+-----------+----------------+---------------+--------------------+--------+-----------------+-------------------------+-----------+--------------------+-----------------+-----------------+----+----------+----------+-----------+--------+--------+\n",
            "|          FDA15|        9.3|              Lf|    0.016047301|               Dairy|249.8092|           OUT049|                     1999|     Medium|              Tier 1|Supermarket Type1|         3735.138| new|2025-03-10|2025-03-17| 03-03-2025|       7|     Veg|\n",
            "|          DRC01|       5.92|             Reg|    0.019278216|         Soft Drinks| 48.2692|           OUT018|                     2009|     Medium|              Tier 3|Supermarket Type2|         443.4228| new|2025-03-10|2025-03-17| 03-03-2025|       7|     Veg|\n",
            "|          FDN15|       17.5|              Lf|    0.016760075|                Meat| 141.618|           OUT049|                     1999|     Medium|              Tier 1|Supermarket Type1|          2097.27| new|2025-03-10|2025-03-17| 03-03-2025|       7| Non-Veg|\n",
            "|          FDX07|       19.2|             Reg|            0.0|Fruits and Vegeta...| 182.095|           OUT010|                     1998|       NULL|              Tier 3|    Grocery Store|           732.38| new|2025-03-10|2025-03-17| 03-03-2025|       7|     Veg|\n",
            "|          NCD19|       8.93|              Lf|            0.0|           Household| 53.8614|           OUT013|                     1987|       High|              Tier 3|Supermarket Type1|         994.7052| new|2025-03-10|2025-03-17| 03-03-2025|       7|     Veg|\n",
            "|          FDP36|     10.395|             Reg|            0.0|        Baking Goods| 51.4008|           OUT018|                     2009|     Medium|              Tier 3|Supermarket Type2|         556.6088| new|2025-03-10|2025-03-17| 03-03-2025|       7|     Veg|\n",
            "|          FDO10|      13.65|             Reg|    0.012741089|         Snack Foods| 57.6588|           OUT013|                     1987|       High|              Tier 3|Supermarket Type1|         343.5528| new|2025-03-10|2025-03-17| 03-03-2025|       7|     Veg|\n",
            "|          FDP10|       NULL|              Lf|    0.127469857|         Snack Foods|107.7622|           OUT027|                     1985|     Medium|              Tier 3|Supermarket Type3|        4022.7636| new|2025-03-10|2025-03-17| 03-03-2025|       7|     Veg|\n",
            "|          FDH17|       16.2|             Reg|    0.016687114|        Frozen Foods| 96.9726|           OUT045|                     2002|       NULL|              Tier 2|Supermarket Type1|        1076.5986| new|2025-03-10|2025-03-17| 03-03-2025|       7|     Veg|\n",
            "|          FDU28|       19.2|             Reg|     0.09444959|        Frozen Foods|187.8214|           OUT017|                     2007|       NULL|              Tier 2|Supermarket Type1|         4710.535| new|2025-03-10|2025-03-17| 03-03-2025|       7|     Veg|\n",
            "|          FDY07|       11.8|              Lf|            0.0|Fruits and Vegeta...| 45.5402|           OUT049|                     1999|     Medium|              Tier 1|Supermarket Type1|        1516.0266| new|2025-03-10|2025-03-17| 03-03-2025|       7|     Veg|\n",
            "|          FDA03|       18.5|             Reg|    0.045463773|               Dairy|144.1102|           OUT046|                     1997|      Small|              Tier 1|Supermarket Type1|         2187.153| new|2025-03-10|2025-03-17| 03-03-2025|       7|     Veg|\n",
            "|          FDX32|       15.1|             Reg|      0.1000135|Fruits and Vegeta...|145.4786|           OUT049|                     1999|     Medium|              Tier 1|Supermarket Type1|        1589.2646| new|2025-03-10|2025-03-17| 03-03-2025|       7|     Veg|\n",
            "|          FDS46|       17.6|             Reg|    0.047257328|         Snack Foods|119.6782|           OUT046|                     1997|      Small|              Tier 1|Supermarket Type1|        2145.2076| new|2025-03-10|2025-03-17| 03-03-2025|       7|     Veg|\n",
            "|          FDF32|      16.35|              Lf|      0.0680243|Fruits and Vegeta...|196.4426|           OUT013|                     1987|       High|              Tier 3|Supermarket Type1|         1977.426| new|2025-03-10|2025-03-17| 03-03-2025|       7|     Veg|\n",
            "|          FDP49|          9|             Reg|    0.069088961|           Breakfast| 56.3614|           OUT046|                     1997|      Small|              Tier 1|Supermarket Type1|        1547.3192| new|2025-03-10|2025-03-17| 03-03-2025|       7|     Veg|\n",
            "|          NCB42|       11.8|              Lf|    0.008596051|  Health and Hygiene|115.3492|           OUT018|                     2009|     Medium|              Tier 3|Supermarket Type2|        1621.8888| new|2025-03-10|2025-03-17| 03-03-2025|       7|     Veg|\n",
            "|          FDP49|          9|             Reg|    0.069196376|           Breakfast| 54.3614|           OUT049|                     1999|     Medium|              Tier 1|Supermarket Type1|         718.3982| new|2025-03-10|2025-03-17| 03-03-2025|       7|     Veg|\n",
            "|          DRI11|       NULL|              Lf|    0.034237682|         Hard Drinks|113.2834|           OUT027|                     1985|     Medium|              Tier 3|Supermarket Type3|         2303.668| new|2025-03-10|2025-03-17| 03-03-2025|       7|     Veg|\n",
            "|          FDU02|      13.35|              Lf|     0.10249212|               Dairy|230.5352|           OUT035|                     2004|      Small|              Tier 2|Supermarket Type1|        2748.4224| new|2025-03-10|2025-03-17| 03-03-2025|       7|     Veg|\n",
            "+---------------+-----------+----------------+---------------+--------------------+--------+-----------------+-------------------------+-----------+--------------------+-----------------+-----------------+----+----------+----------+-----------+--------+--------+\n",
            "only showing top 20 rows\n",
            "\n"
          ]
        }
      ],
      "source": [
        "df.show()"
      ]
    },
    {
      "cell_type": "code",
      "execution_count": 135,
      "metadata": {
        "colab": {
          "base_uri": "https://localhost:8080/"
        },
        "id": "u2QxFTwsREz1",
        "outputId": "648ad6fc-7dd8-4439-a8ab-2f0dc6acd7bd"
      },
      "outputs": [
        {
          "name": "stdout",
          "output_type": "stream",
          "text": [
            "+---------------+-----------+----------------+---------------+--------------------+--------+-----------------+-------------------------+-----------+--------------------+-----------------+-----------------+----+----------+----------+-----------+--------+--------+---------------+\n",
            "|Item_Identifier|Item_Weight|Item_Fat_Content|Item_Visibility|           Item_Type|Item_MRP|Outlet_Identifier|Outlet_Establishment_Year|Outlet_Size|Outlet_Location_Type|      Outlet_Type|Item_Outlet_Sales|flag| curr_date|week_after|week_before|datediff|veg_flag|   veg_exp_flag|\n",
            "+---------------+-----------+----------------+---------------+--------------------+--------+-----------------+-------------------------+-----------+--------------------+-----------------+-----------------+----+----------+----------+-----------+--------+--------+---------------+\n",
            "|          FDA15|        9.3|              Lf|    0.016047301|               Dairy|249.8092|           OUT049|                     1999|     Medium|              Tier 1|Supermarket Type1|         3735.138| new|2025-03-10|2025-03-17| 03-03-2025|       7|     Veg|  Veg_Expensive|\n",
            "|          DRC01|       5.92|             Reg|    0.019278216|         Soft Drinks| 48.2692|           OUT018|                     2009|     Medium|              Tier 3|Supermarket Type2|         443.4228| new|2025-03-10|2025-03-17| 03-03-2025|       7|     Veg|Veg_Inexpensive|\n",
            "|          FDN15|       17.5|              Lf|    0.016760075|                Meat| 141.618|           OUT049|                     1999|     Medium|              Tier 1|Supermarket Type1|          2097.27| new|2025-03-10|2025-03-17| 03-03-2025|       7| Non-Veg|        Non_Veg|\n",
            "|          FDX07|       19.2|             Reg|            0.0|Fruits and Vegeta...| 182.095|           OUT010|                     1998|       NULL|              Tier 3|    Grocery Store|           732.38| new|2025-03-10|2025-03-17| 03-03-2025|       7|     Veg|  Veg_Expensive|\n",
            "|          NCD19|       8.93|              Lf|            0.0|           Household| 53.8614|           OUT013|                     1987|       High|              Tier 3|Supermarket Type1|         994.7052| new|2025-03-10|2025-03-17| 03-03-2025|       7|     Veg|Veg_Inexpensive|\n",
            "|          FDP36|     10.395|             Reg|            0.0|        Baking Goods| 51.4008|           OUT018|                     2009|     Medium|              Tier 3|Supermarket Type2|         556.6088| new|2025-03-10|2025-03-17| 03-03-2025|       7|     Veg|Veg_Inexpensive|\n",
            "|          FDO10|      13.65|             Reg|    0.012741089|         Snack Foods| 57.6588|           OUT013|                     1987|       High|              Tier 3|Supermarket Type1|         343.5528| new|2025-03-10|2025-03-17| 03-03-2025|       7|     Veg|Veg_Inexpensive|\n",
            "|          FDP10|       NULL|              Lf|    0.127469857|         Snack Foods|107.7622|           OUT027|                     1985|     Medium|              Tier 3|Supermarket Type3|        4022.7636| new|2025-03-10|2025-03-17| 03-03-2025|       7|     Veg|  Veg_Expensive|\n",
            "|          FDH17|       16.2|             Reg|    0.016687114|        Frozen Foods| 96.9726|           OUT045|                     2002|       NULL|              Tier 2|Supermarket Type1|        1076.5986| new|2025-03-10|2025-03-17| 03-03-2025|       7|     Veg|Veg_Inexpensive|\n",
            "|          FDU28|       19.2|             Reg|     0.09444959|        Frozen Foods|187.8214|           OUT017|                     2007|       NULL|              Tier 2|Supermarket Type1|         4710.535| new|2025-03-10|2025-03-17| 03-03-2025|       7|     Veg|  Veg_Expensive|\n",
            "|          FDY07|       11.8|              Lf|            0.0|Fruits and Vegeta...| 45.5402|           OUT049|                     1999|     Medium|              Tier 1|Supermarket Type1|        1516.0266| new|2025-03-10|2025-03-17| 03-03-2025|       7|     Veg|Veg_Inexpensive|\n",
            "|          FDA03|       18.5|             Reg|    0.045463773|               Dairy|144.1102|           OUT046|                     1997|      Small|              Tier 1|Supermarket Type1|         2187.153| new|2025-03-10|2025-03-17| 03-03-2025|       7|     Veg|  Veg_Expensive|\n",
            "|          FDX32|       15.1|             Reg|      0.1000135|Fruits and Vegeta...|145.4786|           OUT049|                     1999|     Medium|              Tier 1|Supermarket Type1|        1589.2646| new|2025-03-10|2025-03-17| 03-03-2025|       7|     Veg|  Veg_Expensive|\n",
            "|          FDS46|       17.6|             Reg|    0.047257328|         Snack Foods|119.6782|           OUT046|                     1997|      Small|              Tier 1|Supermarket Type1|        2145.2076| new|2025-03-10|2025-03-17| 03-03-2025|       7|     Veg|  Veg_Expensive|\n",
            "|          FDF32|      16.35|              Lf|      0.0680243|Fruits and Vegeta...|196.4426|           OUT013|                     1987|       High|              Tier 3|Supermarket Type1|         1977.426| new|2025-03-10|2025-03-17| 03-03-2025|       7|     Veg|  Veg_Expensive|\n",
            "|          FDP49|          9|             Reg|    0.069088961|           Breakfast| 56.3614|           OUT046|                     1997|      Small|              Tier 1|Supermarket Type1|        1547.3192| new|2025-03-10|2025-03-17| 03-03-2025|       7|     Veg|Veg_Inexpensive|\n",
            "|          NCB42|       11.8|              Lf|    0.008596051|  Health and Hygiene|115.3492|           OUT018|                     2009|     Medium|              Tier 3|Supermarket Type2|        1621.8888| new|2025-03-10|2025-03-17| 03-03-2025|       7|     Veg|  Veg_Expensive|\n",
            "|          FDP49|          9|             Reg|    0.069196376|           Breakfast| 54.3614|           OUT049|                     1999|     Medium|              Tier 1|Supermarket Type1|         718.3982| new|2025-03-10|2025-03-17| 03-03-2025|       7|     Veg|Veg_Inexpensive|\n",
            "|          DRI11|       NULL|              Lf|    0.034237682|         Hard Drinks|113.2834|           OUT027|                     1985|     Medium|              Tier 3|Supermarket Type3|         2303.668| new|2025-03-10|2025-03-17| 03-03-2025|       7|     Veg|  Veg_Expensive|\n",
            "|          FDU02|      13.35|              Lf|     0.10249212|               Dairy|230.5352|           OUT035|                     2004|      Small|              Tier 2|Supermarket Type1|        2748.4224| new|2025-03-10|2025-03-17| 03-03-2025|       7|     Veg|  Veg_Expensive|\n",
            "+---------------+-----------+----------------+---------------+--------------------+--------+-----------------+-------------------------+-----------+--------------------+-----------------+-----------------+----+----------+----------+-----------+--------+--------+---------------+\n",
            "only showing top 20 rows\n",
            "\n"
          ]
        }
      ],
      "source": [
        "df.withColumn('veg_exp_flag',when(((col('veg_flag')=='Veg') & (col('Item_MRP')<100)),'Veg_Inexpensive')\\\n",
        "                            .when((col('veg_flag')=='Veg') & (col('Item_MRP')>100),'Veg_Expensive')\\\n",
        "                            .otherwise('Non_Veg')).show()"
      ]
    },
    {
      "cell_type": "code",
      "execution_count": 161,
      "metadata": {
        "id": "WR5iFyL6RvBl"
      },
      "outputs": [],
      "source": [
        "def my_func(x):\n",
        "    return x*x"
      ]
    },
    {
      "cell_type": "code",
      "execution_count": 163,
      "metadata": {
        "id": "TQj1o8lZRxOD"
      },
      "outputs": [],
      "source": [
        "my_udf = udf(my_func)"
      ]
    },
    {
      "cell_type": "code",
      "execution_count": 164,
      "metadata": {
        "colab": {
          "base_uri": "https://localhost:8080/"
        },
        "id": "ON80CDPZRy3c",
        "outputId": "02c52016-dfd3-4b51-e6e3-49a612de9a81"
      },
      "outputs": [
        {
          "name": "stdout",
          "output_type": "stream",
          "text": [
            "+---------------+-----------+----------------+---------------+--------------------+--------+-----------------+-------------------------+-----------+--------------------+-----------------+-----------------+----+----------+----------+-----------+--------+--------+------------------+\n",
            "|Item_Identifier|Item_Weight|Item_Fat_Content|Item_Visibility|           Item_Type|Item_MRP|Outlet_Identifier|Outlet_Establishment_Year|Outlet_Size|Outlet_Location_Type|      Outlet_Type|Item_Outlet_Sales|flag| curr_date|week_after|week_before|datediff|veg_flag|          mynewcol|\n",
            "+---------------+-----------+----------------+---------------+--------------------+--------+-----------------+-------------------------+-----------+--------------------+-----------------+-----------------+----+----------+----------+-----------+--------+--------+------------------+\n",
            "|          FDA15|        9.3|              Lf|    0.016047301|               Dairy|249.8092|           OUT049|                     1999|     Medium|              Tier 1|Supermarket Type1|         3735.138| new|2025-03-10|2025-03-17| 03-03-2025|       7|     Veg|62404.636404640005|\n",
            "|          DRC01|       5.92|             Reg|    0.019278216|         Soft Drinks| 48.2692|           OUT018|                     2009|     Medium|              Tier 3|Supermarket Type2|         443.4228| new|2025-03-10|2025-03-17| 03-03-2025|       7|     Veg|2329.9156686399997|\n",
            "|          FDN15|       17.5|              Lf|    0.016760075|                Meat| 141.618|           OUT049|                     1999|     Medium|              Tier 1|Supermarket Type1|          2097.27| new|2025-03-10|2025-03-17| 03-03-2025|       7| Non-Veg|      20055.657924|\n",
            "|          FDX07|       19.2|             Reg|            0.0|Fruits and Vegeta...| 182.095|           OUT010|                     1998|       NULL|              Tier 3|    Grocery Store|           732.38| new|2025-03-10|2025-03-17| 03-03-2025|       7|     Veg|      33158.589025|\n",
            "|          NCD19|       8.93|              Lf|            0.0|           Household| 53.8614|           OUT013|                     1987|       High|              Tier 3|Supermarket Type1|         994.7052| new|2025-03-10|2025-03-17| 03-03-2025|       7|     Veg|2901.0504099600003|\n",
            "|          FDP36|     10.395|             Reg|            0.0|        Baking Goods| 51.4008|           OUT018|                     2009|     Medium|              Tier 3|Supermarket Type2|         556.6088| new|2025-03-10|2025-03-17| 03-03-2025|       7|     Veg|     2642.04224064|\n",
            "|          FDO10|      13.65|             Reg|    0.012741089|         Snack Foods| 57.6588|           OUT013|                     1987|       High|              Tier 3|Supermarket Type1|         343.5528| new|2025-03-10|2025-03-17| 03-03-2025|       7|     Veg|     3324.53721744|\n",
            "|          FDP10|       NULL|              Lf|    0.127469857|         Snack Foods|107.7622|           OUT027|                     1985|     Medium|              Tier 3|Supermarket Type3|        4022.7636| new|2025-03-10|2025-03-17| 03-03-2025|       7|     Veg|11612.691748840001|\n",
            "|          FDH17|       16.2|             Reg|    0.016687114|        Frozen Foods| 96.9726|           OUT045|                     2002|       NULL|              Tier 2|Supermarket Type1|        1076.5986| new|2025-03-10|2025-03-17| 03-03-2025|       7|     Veg|     9403.68515076|\n",
            "|          FDU28|       19.2|             Reg|     0.09444959|        Frozen Foods|187.8214|           OUT017|                     2007|       NULL|              Tier 2|Supermarket Type1|         4710.535| new|2025-03-10|2025-03-17| 03-03-2025|       7|     Veg| 35276.87829796001|\n",
            "|          FDY07|       11.8|              Lf|            0.0|Fruits and Vegeta...| 45.5402|           OUT049|                     1999|     Medium|              Tier 1|Supermarket Type1|        1516.0266| new|2025-03-10|2025-03-17| 03-03-2025|       7|     Veg|     2073.90981604|\n",
            "|          FDA03|       18.5|             Reg|    0.045463773|               Dairy|144.1102|           OUT046|                     1997|      Small|              Tier 1|Supermarket Type1|         2187.153| new|2025-03-10|2025-03-17| 03-03-2025|       7|     Veg|20767.749744039997|\n",
            "|          FDX32|       15.1|             Reg|      0.1000135|Fruits and Vegeta...|145.4786|           OUT049|                     1999|     Medium|              Tier 1|Supermarket Type1|        1589.2646| new|2025-03-10|2025-03-17| 03-03-2025|       7|     Veg|    21164.02305796|\n",
            "|          FDS46|       17.6|             Reg|    0.047257328|         Snack Foods|119.6782|           OUT046|                     1997|      Small|              Tier 1|Supermarket Type1|        2145.2076| new|2025-03-10|2025-03-17| 03-03-2025|       7|     Veg|    14322.87155524|\n",
            "|          FDF32|      16.35|              Lf|      0.0680243|Fruits and Vegeta...|196.4426|           OUT013|                     1987|       High|              Tier 3|Supermarket Type1|         1977.426| new|2025-03-10|2025-03-17| 03-03-2025|       7|     Veg|    38589.69509476|\n",
            "|          FDP49|          9|             Reg|    0.069088961|           Breakfast| 56.3614|           OUT046|                     1997|      Small|              Tier 1|Supermarket Type1|        1547.3192| new|2025-03-10|2025-03-17| 03-03-2025|       7|     Veg|3176.6074099600005|\n",
            "|          NCB42|       11.8|              Lf|    0.008596051|  Health and Hygiene|115.3492|           OUT018|                     2009|     Medium|              Tier 3|Supermarket Type2|        1621.8888| new|2025-03-10|2025-03-17| 03-03-2025|       7|     Veg|13305.437940639998|\n",
            "|          FDP49|          9|             Reg|    0.069196376|           Breakfast| 54.3614|           OUT049|                     1999|     Medium|              Tier 1|Supermarket Type1|         718.3982| new|2025-03-10|2025-03-17| 03-03-2025|       7|     Veg|2955.1618099600005|\n",
            "|          DRI11|       NULL|              Lf|    0.034237682|         Hard Drinks|113.2834|           OUT027|                     1985|     Medium|              Tier 3|Supermarket Type3|         2303.668| new|2025-03-10|2025-03-17| 03-03-2025|       7|     Veg|    12833.12871556|\n",
            "|          FDU02|      13.35|              Lf|     0.10249212|               Dairy|230.5352|           OUT035|                     2004|      Small|              Tier 2|Supermarket Type1|        2748.4224| new|2025-03-10|2025-03-17| 03-03-2025|       7|     Veg|    53146.47843904|\n",
            "+---------------+-----------+----------------+---------------+--------------------+--------+-----------------+-------------------------+-----------+--------------------+-----------------+-----------------+----+----------+----------+-----------+--------+--------+------------------+\n",
            "only showing top 20 rows\n",
            "\n"
          ]
        }
      ],
      "source": [
        "df.withColumn('mynewcol',my_udf('Item_MRP')).show()"
      ]
    }
  ],
  "metadata": {
    "colab": {
      "provenance": []
    },
    "kernelspec": {
      "display_name": "Python 3",
      "name": "python3"
    },
    "language_info": {
      "name": "python"
    }
  },
  "nbformat": 4,
  "nbformat_minor": 0
}
