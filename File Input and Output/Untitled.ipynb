{
 "cells": [
  {
   "cell_type": "markdown",
   "id": "eafc7e8a-61cf-4284-a992-42f1938612c4",
   "metadata": {},
   "source": [
    "### File I/O and More Function"
   ]
  },
  {
   "cell_type": "code",
   "execution_count": 3,
   "id": "2259529d-0da8-4ec3-8990-38fb193af4ca",
   "metadata": {},
   "outputs": [],
   "source": [
    "#Writng to a file\n",
    "def fun(file, content):\n",
    "    with open(file,'w') as f:\n",
    "        f.write(content)\n",
    "file='tech.txt'\n",
    "content=\"one small positive thought can change your whole day\"\n",
    "fun(file, content)"
   ]
  },
  {
   "cell_type": "code",
   "execution_count": 5,
   "id": "5f38e208-4c0a-4613-9776-0e9739ba6f7d",
   "metadata": {},
   "outputs": [
    {
     "data": {
      "text/plain": [
       "'one small positive thought can change your whole day'"
      ]
     },
     "execution_count": 5,
     "metadata": {},
     "output_type": "execute_result"
    }
   ],
   "source": [
    "#reeding from the file\n",
    "def read_file(file):\n",
    "    try:\n",
    "        with open(file,'r') as f:\n",
    "            return f.read()\n",
    "    except FileNotFoundError:\n",
    "        return \"Error: File not found!\"\n",
    "read_file(\"tech.txt\")"
   ]
  },
  {
   "cell_type": "code",
   "execution_count": 12,
   "id": "67db423f-4330-473c-8eac-6b5ff53b2b82",
   "metadata": {},
   "outputs": [],
   "source": [
    "# append content to a file\n",
    "def append_file(file, content):\n",
    "    with open(file, 'a') as f:\n",
    "        f.write(content + \"\\n\")\n",
    "content = \"the only difference between a good day and a bad day is your attitude\"\n",
    "file  ='tech.txt'\n",
    "append_file(file, content)"
   ]
  },
  {
   "cell_type": "markdown",
   "id": "e9a6a036-c07f-4538-b439-d8265218d709",
   "metadata": {},
   "source": [
    "# Q1 Write a program to read a file and count word occurrences ?"
   ]
  },
  {
   "cell_type": "code",
   "execution_count": 13,
   "id": "55315933-29ed-43fa-9663-9bab1fa903a3",
   "metadata": {},
   "outputs": [],
   "source": [
    "from collections import Counter"
   ]
  },
  {
   "cell_type": "code",
   "execution_count": 14,
   "id": "09bf3a4a-3c19-4feb-8c24-738d67dfc232",
   "metadata": {},
   "outputs": [
    {
     "data": {
      "text/plain": [
       "Counter({'your': 2,\n",
       "         'a': 2,\n",
       "         'day': 2,\n",
       "         'one': 1,\n",
       "         'small': 1,\n",
       "         'positive': 1,\n",
       "         'thought': 1,\n",
       "         'can': 1,\n",
       "         'change': 1,\n",
       "         'whole': 1,\n",
       "         'daytech.txt': 1,\n",
       "         'the': 1,\n",
       "         'only': 1,\n",
       "         'difference': 1,\n",
       "         'between': 1,\n",
       "         'good': 1,\n",
       "         'and': 1,\n",
       "         'bad': 1,\n",
       "         'is': 1,\n",
       "         'attitude': 1})"
      ]
     },
     "execution_count": 14,
     "metadata": {},
     "output_type": "execute_result"
    }
   ],
   "source": [
    "def count_word_occurr(filename):\n",
    "    try:\n",
    "        with open(filename, 'r') as file:\n",
    "            content = file.read().lower() \n",
    "            words = content.split()  \n",
    "            word_count = Counter(words)  \n",
    "            return word_count\n",
    "    except FileNotFoundError:\n",
    "        return \"Error: File not found!\"\n",
    "filename='tech.txt'\n",
    "count_word_occurr(filename)"
   ]
  },
  {
   "cell_type": "markdown",
   "id": "bd4d6ec8-42d9-42ed-acd1-7c8fc7361818",
   "metadata": {},
   "source": [
    "# Q2 Write a user’s input to a file and then read it back?"
   ]
  },
  {
   "cell_type": "code",
   "execution_count": 17,
   "id": "664966bf-ec14-4990-b409-f325ef729fbf",
   "metadata": {},
   "outputs": [
    {
     "name": "stdin",
     "output_type": "stream",
     "text": [
      "Enter text to save in the file:  Give every day the chance to become the most beautiful day of your life\n"
     ]
    },
    {
     "name": "stdout",
     "output_type": "stream",
     "text": [
      "Data successfully written to file.\n",
      "\n",
      "Reading from file: \n",
      "Give every day the chance to become the most beautiful day of your life\n"
     ]
    }
   ],
   "source": [
    "def write_user(filename):\n",
    "    user_input = input(\"Enter text to save in the file: \")\n",
    "    with open(filename, 'w') as file:\n",
    "        file.write(user_input)\n",
    "    print(\"Data successfully written to file.\")\n",
    "    \n",
    "def read_file(filename):\n",
    "    try:\n",
    "        with open(filename, 'r') as file:\n",
    "            return file.read()\n",
    "    except FileNotFoundError:\n",
    "        return \"Error: File not found!\"\n",
    "filename =\"techno.txt\"\n",
    "write_user(filename)\n",
    "\n",
    "print(\"\\nReading from file: \")\n",
    "print(read_file(filename))\n"
   ]
  },
  {
   "cell_type": "markdown",
   "id": "c62c2e27-facf-4dd5-be55-aa1264b03d70",
   "metadata": {},
   "source": [
    "# Q3 Write a script to modify the content of an existing file?"
   ]
  },
  {
   "cell_type": "code",
   "execution_count": 22,
   "id": "b501db8e-d64a-4d5c-b7f6-c1bbfe4fabef",
   "metadata": {},
   "outputs": [
    {
     "name": "stdin",
     "output_type": "stream",
     "text": [
      "Enter the text to be replaced:  the only difference between a good day and a bad day is your attitude\n",
      "Enter the new text:  Just good thought\n"
     ]
    },
    {
     "name": "stdout",
     "output_type": "stream",
     "text": [
      "File content modified successfully.\n",
      "\n",
      "Updated File Content:\n",
      "This is a sample file.\n",
      "You can modify this content.\n"
     ]
    }
   ],
   "source": [
    "import os\n",
    "\n",
    "\n",
    "def modify_file(filename, old_text, new_text):\n",
    "    if not os.path.exists(filename):\n",
    "        print(f\"Error: '{filename}' does not exist. Creating a new file.\")\n",
    "        with open(filename, 'w') as file:\n",
    "            file.write(\"This is a sample file.\\nYou can modify this content.\")  \n",
    "\n",
    "    \n",
    "    with open(filename, 'r') as file:\n",
    "        content = file.read()\n",
    "\n",
    "    \n",
    "    modified_content = content.replace(old_text, new_text)\n",
    "\n",
    "    \n",
    "    with open(filename, 'w') as file:\n",
    "        file.write(modified_content)\n",
    "\n",
    "    print(\"File content modified successfully.\")\n",
    "\n",
    "\n",
    "filename = \"example.txt\"\n",
    "\n",
    "\n",
    "old_text = input(\"Enter the text to be replaced: \")\n",
    "new_text = input(\"Enter the new text: \")\n",
    "\n",
    "modify_file_content(filename, old_text, new_text)\n",
    "\n",
    "\n",
    "print(\"\\nUpdated File Content:\")\n",
    "with open(filename, 'r') as file:\n",
    "    print(file.read())\n"
   ]
  },
  {
   "cell_type": "code",
   "execution_count": null,
   "id": "de9428ec-315a-4c8c-a17a-7dd3f059caac",
   "metadata": {},
   "outputs": [],
   "source": []
  }
 ],
 "metadata": {
  "kernelspec": {
   "display_name": "Python 3 (ipykernel)",
   "language": "python",
   "name": "python3"
  },
  "language_info": {
   "codemirror_mode": {
    "name": "ipython",
    "version": 3
   },
   "file_extension": ".py",
   "mimetype": "text/x-python",
   "name": "python",
   "nbconvert_exporter": "python",
   "pygments_lexer": "ipython3",
   "version": "3.13.2"
  },
  "widgets": {
   "application/vnd.jupyter.widget-state+json": {
    "state": {},
    "version_major": 2,
    "version_minor": 0
   }
  }
 },
 "nbformat": 4,
 "nbformat_minor": 5
}
