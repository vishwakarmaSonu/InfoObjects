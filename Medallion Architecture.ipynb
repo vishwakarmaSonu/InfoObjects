{
 "cells": [
  {
   "cell_type": "markdown",
   "metadata": {
    "application/vnd.databricks.v1+cell": {
     "cellMetadata": {},
     "inputWidgets": {},
     "nuid": "b9fdfc23-afbf-4598-bd89-050647418af2",
     "showTitle": false,
     "tableResultSettingsMap": {},
     "title": ""
    }
   },
   "source": [
    "### Medallion Architecture\n",
    "##### The Medallion Architecture is a data design pattern that organizes data processing into three layers: Bronze, Silver, and Gold. It improves data quality, scalability, and reusability.__"
   ]
  },
  {
   "cell_type": "markdown",
   "metadata": {
    "application/vnd.databricks.v1+cell": {
     "cellMetadata": {},
     "inputWidgets": {},
     "nuid": "e8ccf3e0-f7c6-4dab-8c9c-05521813df6d",
     "showTitle": false,
     "tableResultSettingsMap": {},
     "title": ""
    }
   },
   "source": [
    "### Bronze Layer (Raw ingestion)\n",
    "##### Source data ingested as-is (often using Auto Loader).\n",
    "\n",
    "##### May include duplicates, nulls, and unclean data.\n",
    "\n",
    "##### Stored for audit and traceability.\n",
    "\n"
   ]
  },
  {
   "cell_type": "code",
   "execution_count": 0,
   "metadata": {
    "application/vnd.databricks.v1+cell": {
     "cellMetadata": {
      "byteLimit": 2048000,
      "rowLimit": 10000
     },
     "inputWidgets": {},
     "nuid": "1b2bdbb7-c6e1-4611-9e25-3ecd7521528b",
     "showTitle": false,
     "tableResultSettingsMap": {},
     "title": ""
    }
   },
   "outputs": [
    {
     "output_type": "stream",
     "name": "stdout",
     "output_type": "stream",
     "text": [
      "Out[1]: [FileInfo(path='dbfs:/FileStore/2015_summary.csv', name='2015_summary.csv', size=7080, modificationTime=1742561274000),\n FileInfo(path='dbfs:/FileStore/BigMart_Sales.csv', name='BigMart_Sales.csv', size=869537, modificationTime=1741607242000),\n FileInfo(path='dbfs:/FileStore/Pyspark.ipynb', name='Pyspark.ipynb', size=88247, modificationTime=1741607310000),\n FileInfo(path='dbfs:/FileStore/checkpoints/', name='checkpoints/', size=0, modificationTime=0),\n FileInfo(path='dbfs:/FileStore/shared_uploads/', name='shared_uploads/', size=0, modificationTime=0),\n FileInfo(path='dbfs:/FileStore/sonu/', name='sonu/', size=0, modificationTime=0),\n FileInfo(path='dbfs:/FileStore/table/', name='table/', size=0, modificationTime=0),\n FileInfo(path='dbfs:/FileStore/tables/', name='tables/', size=0, modificationTime=0)]"
     ]
    }
   ],
   "source": [
    "dbutils.fs.ls('/FileStore')"
   ]
  },
  {
   "cell_type": "code",
   "execution_count": 0,
   "metadata": {
    "application/vnd.databricks.v1+cell": {
     "cellMetadata": {
      "byteLimit": 2048000,
      "rowLimit": 10000
     },
     "inputWidgets": {},
     "nuid": "0ec061f3-5aef-4f93-bcd3-46a62a7a60a7",
     "showTitle": false,
     "tableResultSettingsMap": {},
     "title": ""
    }
   },
   "outputs": [],
   "source": [
    "bronze_df = (\n",
    "    spark.read\n",
    "    .option(\"header\", \"true\")\n",
    "    .option(\"inferSchema\", \"true\")\n",
    "    .csv(\"dbfs:/FileStore/BigMart_Sales.csv\")\n",
    ")\n",
    "\n",
    "bronze_df.write.format(\"delta\").mode(\"overwrite\").save(\"/mnt/bronze/bigmart_sales\")\n"
   ]
  },
  {
   "cell_type": "markdown",
   "metadata": {
    "application/vnd.databricks.v1+cell": {
     "cellMetadata": {},
     "inputWidgets": {},
     "nuid": "4eb78ff8-9054-4449-8186-8909d7e67f1c",
     "showTitle": false,
     "tableResultSettingsMap": {},
     "title": ""
    }
   },
   "source": [
    "###  Silver Layer\n",
    "##### Data is filtered, cleaned, and joined here.\n",
    "\n",
    "##### Performs basic transformations like:\n",
    "\n",
    "####### Removing duplicates\n",
    "\n",
    "####### Converting data types\n",
    "\n",
    "####### Enriching with lookup tables\n"
   ]
  },
  {
   "cell_type": "code",
   "execution_count": 0,
   "metadata": {
    "application/vnd.databricks.v1+cell": {
     "cellMetadata": {
      "byteLimit": 2048000,
      "rowLimit": 10000
     },
     "inputWidgets": {},
     "nuid": "0c802b55-4412-44d5-a0a0-0616f3f4e037",
     "showTitle": false,
     "tableResultSettingsMap": {},
     "title": ""
    }
   },
   "outputs": [],
   "source": [
    "bronze_df = spark.read.format(\"delta\").load(\"/mnt/bronze/bigmart_sales\")\n"
   ]
  },
  {
   "cell_type": "code",
   "execution_count": 0,
   "metadata": {
    "application/vnd.databricks.v1+cell": {
     "cellMetadata": {
      "byteLimit": 2048000,
      "rowLimit": 10000
     },
     "inputWidgets": {},
     "nuid": "dd2874a8-49b4-4127-806a-1377d3bccdfe",
     "showTitle": false,
     "tableResultSettingsMap": {},
     "title": ""
    }
   },
   "outputs": [],
   "source": [
    "from pyspark.sql.functions import expr\n",
    "\n",
    "silver_df = bronze_df.dropna(subset=[\"Item_Weight\", \"Item_Visibility\", \"Item_Outlet_Sales\"]) \\\n",
    "    .withColumn(\"Item_Visibility\", expr(\"Item_Visibility * 100\"))"
   ]
  },
  {
   "cell_type": "code",
   "execution_count": 0,
   "metadata": {
    "application/vnd.databricks.v1+cell": {
     "cellMetadata": {
      "byteLimit": 2048000,
      "rowLimit": 10000
     },
     "inputWidgets": {},
     "nuid": "09ceb3a0-a86e-4daa-ae00-ba369de9aa88",
     "showTitle": false,
     "tableResultSettingsMap": {},
     "title": ""
    }
   },
   "outputs": [],
   "source": [
    "silver_df.write.format(\"delta\").mode(\"overwrite\").save(\"/mnt/silver/bigmart_sales_cleaned\")\n"
   ]
  },
  {
   "cell_type": "markdown",
   "metadata": {
    "application/vnd.databricks.v1+cell": {
     "cellMetadata": {},
     "inputWidgets": {},
     "nuid": "5c332519-7c67-428c-8d7f-7a3e2d4c0164",
     "showTitle": false,
     "tableResultSettingsMap": {},
     "title": ""
    }
   },
   "source": [
    "### Gold Layer\n",
    "##### Data is aggregated and modeled for analytics or reporting.\n",
    "\n",
    "##### Used by BI tools like Power BI, Tableau, or Databricks SQL dashboards."
   ]
  },
  {
   "cell_type": "code",
   "execution_count": 0,
   "metadata": {
    "application/vnd.databricks.v1+cell": {
     "cellMetadata": {
      "byteLimit": 2048000,
      "rowLimit": 10000
     },
     "inputWidgets": {},
     "nuid": "23d48d96-56a4-47a2-a4e2-2de262f5fa22",
     "showTitle": false,
     "tableResultSettingsMap": {},
     "title": ""
    }
   },
   "outputs": [],
   "source": [
    "silver_df = spark.read.format(\"delta\").load(\"/mnt/silver/bigmart_sales_cleaned\")\n"
   ]
  },
  {
   "cell_type": "code",
   "execution_count": 0,
   "metadata": {
    "application/vnd.databricks.v1+cell": {
     "cellMetadata": {
      "byteLimit": 2048000,
      "rowLimit": 10000
     },
     "inputWidgets": {},
     "nuid": "801c007d-8464-4e34-81f9-980f9f91eb77",
     "showTitle": false,
     "tableResultSettingsMap": {},
     "title": ""
    }
   },
   "outputs": [],
   "source": [
    "from pyspark.sql.functions import sum, avg, col\n",
    "\n",
    "silver_df = silver_df.withColumn(\"Item_Outlet_Sales\", col(\"Item_Outlet_Sales\").cast(\"double\"))\n"
   ]
  },
  {
   "cell_type": "code",
   "execution_count": 0,
   "metadata": {
    "application/vnd.databricks.v1+cell": {
     "cellMetadata": {
      "byteLimit": 2048000,
      "rowLimit": 10000
     },
     "inputWidgets": {},
     "nuid": "a14d854e-62d7-425e-9620-4ae6b0a67184",
     "showTitle": false,
     "tableResultSettingsMap": {},
     "title": ""
    }
   },
   "outputs": [],
   "source": [
    "gold_df = silver_df.groupBy(\"Outlet_Identifier\").agg(\n",
    "    sum(\"Item_Outlet_Sales\").alias(\"Total_Sales\"),\n",
    "    avg(\"Item_Outlet_Sales\").alias(\"Average_Sales\")\n",
    ")"
   ]
  },
  {
   "cell_type": "code",
   "execution_count": 0,
   "metadata": {
    "application/vnd.databricks.v1+cell": {
     "cellMetadata": {
      "byteLimit": 2048000,
      "rowLimit": 10000
     },
     "inputWidgets": {},
     "nuid": "7c29dab7-19f3-48a9-a052-e60de1552a1e",
     "showTitle": false,
     "tableResultSettingsMap": {},
     "title": ""
    }
   },
   "outputs": [],
   "source": [
    "gold_df.write.format(\"delta\").mode(\"overwrite\").save(\"/mnt/gold/bigmart_sales_metrics\")\n"
   ]
  },
  {
   "cell_type": "code",
   "execution_count": 0,
   "metadata": {
    "application/vnd.databricks.v1+cell": {
     "cellMetadata": {
      "byteLimit": 2048000,
      "rowLimit": 10000
     },
     "inputWidgets": {},
     "nuid": "8e9969ea-d169-4406-94ad-31595c54ff0a",
     "showTitle": false,
     "tableResultSettingsMap": {},
     "title": ""
    }
   },
   "outputs": [
    {
     "output_type": "display_data",
     "data": {
      "text/html": [
       "<style scoped>\n",
       "  .table-result-container {\n",
       "    max-height: 300px;\n",
       "    overflow: auto;\n",
       "  }\n",
       "  table, th, td {\n",
       "    border: 1px solid black;\n",
       "    border-collapse: collapse;\n",
       "  }\n",
       "  th, td {\n",
       "    padding: 5px;\n",
       "  }\n",
       "  th {\n",
       "    text-align: left;\n",
       "  }\n",
       "</style><div class='table-result-container'><table class='table-result'><thead style='background-color: white'><tr><th>Outlet_Identifier</th><th>Total_Sales</th><th>Average_Sales</th></tr></thead><tbody><tr><td>OUT046</td><td>2118395.168199999</td><td>2277.8442668817192</td></tr><tr><td>OUT013</td><td>2142663.5781999985</td><td>2298.9952555793975</td></tr><tr><td>OUT018</td><td>1851822.8300000012</td><td>1995.4987392241392</td></tr><tr><td>OUT010</td><td>188340.17240000013</td><td>339.3516619819822</td></tr><tr><td>OUT045</td><td>2036725.4769999988</td><td>2192.3847976318607</td></tr><tr><td>OUT035</td><td>2268122.935400002</td><td>2438.8418660215075</td></tr><tr><td>OUT017</td><td>2167465.2939999998</td><td>2340.67526349892</td></tr><tr><td>OUT049</td><td>2183969.8101999997</td><td>2348.354634623656</td></tr></tbody></table></div>"
      ]
     },
     "metadata": {
      "application/vnd.databricks.v1+output": {
       "addedWidgets": {},
       "aggData": [],
       "aggError": "",
       "aggOverflow": false,
       "aggSchema": [],
       "aggSeriesLimitReached": false,
       "aggType": "",
       "arguments": {},
       "columnCustomDisplayInfos": {},
       "data": [
        [
         "OUT046",
         2118395.168199999,
         2277.8442668817192
        ],
        [
         "OUT013",
         2142663.5781999985,
         2298.9952555793975
        ],
        [
         "OUT018",
         1851822.8300000012,
         1995.4987392241392
        ],
        [
         "OUT010",
         188340.17240000013,
         339.3516619819822
        ],
        [
         "OUT045",
         2036725.4769999988,
         2192.3847976318607
        ],
        [
         "OUT035",
         2268122.935400002,
         2438.8418660215075
        ],
        [
         "OUT017",
         2167465.2939999998,
         2340.67526349892
        ],
        [
         "OUT049",
         2183969.8101999997,
         2348.354634623656
        ]
       ],
       "datasetInfos": [],
       "dbfsResultPath": null,
       "isJsonSchema": true,
       "metadata": {},
       "overflow": false,
       "plotOptions": {
        "customPlotOptions": {},
        "displayType": "table",
        "pivotAggregation": null,
        "pivotColumns": null,
        "xColumns": null,
        "yColumns": null
       },
       "removedWidgets": [],
       "schema": [
        {
         "metadata": "{}",
         "name": "Outlet_Identifier",
         "type": "\"string\""
        },
        {
         "metadata": "{}",
         "name": "Total_Sales",
         "type": "\"double\""
        },
        {
         "metadata": "{}",
         "name": "Average_Sales",
         "type": "\"double\""
        }
       ],
       "type": "table"
      }
     },
     "output_type": "display_data"
    }
   ],
   "source": [
    "gold_df = spark.read.format(\"delta\").load(\"/mnt/gold/bigmart_sales_metrics\")\n",
    "gold_df.display()\n"
   ]
  },
  {
   "cell_type": "code",
   "execution_count": 0,
   "metadata": {
    "application/vnd.databricks.v1+cell": {
     "cellMetadata": {},
     "inputWidgets": {},
     "nuid": "42931b74-f3b7-40bb-bee2-cbb4ad4f6517",
     "showTitle": false,
     "tableResultSettingsMap": {},
     "title": ""
    }
   },
   "outputs": [],
   "source": []
  }
 ],
 "metadata": {
  "application/vnd.databricks.v1+notebook": {
   "computePreferences": null,
   "dashboards": [],
   "environmentMetadata": {
    "base_environment": "",
    "environment_version": "1"
   },
   "inputWidgetPreferences": null,
   "language": "python",
   "notebookMetadata": {
    "pythonIndentUnit": 4
   },
   "notebookName": "Medallion Architecture",
   "widgets": {}
  }
 },
 "nbformat": 4,
 "nbformat_minor": 0
}