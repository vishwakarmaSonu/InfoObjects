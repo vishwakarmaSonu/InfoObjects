{
 "cells": [
  {
   "cell_type": "code",
   "execution_count": 0,
   "metadata": {
    "application/vnd.databricks.v1+cell": {
     "cellMetadata": {
      "byteLimit": 2048000,
      "implicitDf": true,
      "rowLimit": 10000
     },
     "inputWidgets": {},
     "nuid": "e97e72e4-a0bd-471b-bfb4-80a013d4d900",
     "showTitle": false,
     "tableResultSettingsMap": {},
     "title": ""
    }
   },
   "outputs": [
    {
     "output_type": "display_data",
     "data": {
      "text/html": [
       "<style scoped>\n",
       "  .table-result-container {\n",
       "    max-height: 300px;\n",
       "    overflow: auto;\n",
       "  }\n",
       "  table, th, td {\n",
       "    border: 1px solid black;\n",
       "    border-collapse: collapse;\n",
       "  }\n",
       "  th, td {\n",
       "    padding: 5px;\n",
       "  }\n",
       "  th {\n",
       "    text-align: left;\n",
       "  }\n",
       "</style><div class='table-result-container'><table class='table-result'><thead style='background-color: white'><tr></tr></thead><tbody></tbody></table></div>"
      ]
     },
     "metadata": {
      "application/vnd.databricks.v1+output": {
       "addedWidgets": {},
       "aggData": [],
       "aggError": "",
       "aggOverflow": false,
       "aggSchema": [],
       "aggSeriesLimitReached": false,
       "aggType": "",
       "arguments": {},
       "columnCustomDisplayInfos": {},
       "data": [],
       "datasetInfos": [],
       "dbfsResultPath": null,
       "isJsonSchema": true,
       "metadata": {},
       "overflow": false,
       "plotOptions": {
        "customPlotOptions": {},
        "displayType": "table",
        "pivotAggregation": null,
        "pivotColumns": null,
        "xColumns": null,
        "yColumns": null
       },
       "removedWidgets": [],
       "schema": [],
       "type": "table"
      }
     },
     "output_type": "display_data"
    }
   ],
   "source": [
    "%sql\n",
    "create or replace table arya(roll integer, name string) location \"/FileStore/table/aryatable\""
   ]
  },
  {
   "cell_type": "code",
   "execution_count": 0,
   "metadata": {
    "application/vnd.databricks.v1+cell": {
     "cellMetadata": {
      "byteLimit": 2048000,
      "implicitDf": true,
      "rowLimit": 10000
     },
     "inputWidgets": {},
     "nuid": "e929bcd3-63d1-48d3-80c2-c66db4d45856",
     "showTitle": false,
     "tableResultSettingsMap": {},
     "title": ""
    }
   },
   "outputs": [
    {
     "output_type": "display_data",
     "data": {
      "text/html": [
       "<style scoped>\n",
       "  .table-result-container {\n",
       "    max-height: 300px;\n",
       "    overflow: auto;\n",
       "  }\n",
       "  table, th, td {\n",
       "    border: 1px solid black;\n",
       "    border-collapse: collapse;\n",
       "  }\n",
       "  th, td {\n",
       "    padding: 5px;\n",
       "  }\n",
       "  th {\n",
       "    text-align: left;\n",
       "  }\n",
       "</style><div class='table-result-container'><table class='table-result'><thead style='background-color: white'><tr><th>num_affected_rows</th><th>num_inserted_rows</th></tr></thead><tbody><tr><td>2</td><td>2</td></tr></tbody></table></div>"
      ]
     },
     "metadata": {
      "application/vnd.databricks.v1+output": {
       "addedWidgets": {},
       "aggData": [],
       "aggError": "",
       "aggOverflow": false,
       "aggSchema": [],
       "aggSeriesLimitReached": false,
       "aggType": "",
       "arguments": {},
       "columnCustomDisplayInfos": {},
       "data": [
        [
         2,
         2
        ]
       ],
       "datasetInfos": [],
       "dbfsResultPath": null,
       "isJsonSchema": true,
       "metadata": {},
       "overflow": false,
       "plotOptions": {
        "customPlotOptions": {},
        "displayType": "table",
        "pivotAggregation": null,
        "pivotColumns": null,
        "xColumns": null,
        "yColumns": null
       },
       "removedWidgets": [],
       "schema": [
        {
         "metadata": "{}",
         "name": "num_affected_rows",
         "type": "\"long\""
        },
        {
         "metadata": "{}",
         "name": "num_inserted_rows",
         "type": "\"long\""
        }
       ],
       "type": "table"
      }
     },
     "output_type": "display_data"
    }
   ],
   "source": [
    "%sql\n",
    "insert into arya values (1,'sonu'),(2,'soni')"
   ]
  },
  {
   "cell_type": "code",
   "execution_count": 0,
   "metadata": {
    "application/vnd.databricks.v1+cell": {
     "cellMetadata": {
      "byteLimit": 2048000,
      "implicitDf": true,
      "rowLimit": 10000
     },
     "inputWidgets": {},
     "nuid": "9c6f2ae2-79fb-401b-bcc6-b5e8d8697505",
     "showTitle": false,
     "tableResultSettingsMap": {},
     "title": ""
    }
   },
   "outputs": [
    {
     "output_type": "display_data",
     "data": {
      "text/html": [
       "<style scoped>\n",
       "  .table-result-container {\n",
       "    max-height: 300px;\n",
       "    overflow: auto;\n",
       "  }\n",
       "  table, th, td {\n",
       "    border: 1px solid black;\n",
       "    border-collapse: collapse;\n",
       "  }\n",
       "  th, td {\n",
       "    padding: 5px;\n",
       "  }\n",
       "  th {\n",
       "    text-align: left;\n",
       "  }\n",
       "</style><div class='table-result-container'><table class='table-result'><thead style='background-color: white'><tr><th>num_affected_rows</th><th>num_inserted_rows</th></tr></thead><tbody><tr><td>1</td><td>1</td></tr></tbody></table></div>"
      ]
     },
     "metadata": {
      "application/vnd.databricks.v1+output": {
       "addedWidgets": {},
       "aggData": [],
       "aggError": "",
       "aggOverflow": false,
       "aggSchema": [],
       "aggSeriesLimitReached": false,
       "aggType": "",
       "arguments": {},
       "columnCustomDisplayInfos": {},
       "data": [
        [
         1,
         1
        ]
       ],
       "datasetInfos": [],
       "dbfsResultPath": null,
       "isJsonSchema": true,
       "metadata": {},
       "overflow": false,
       "plotOptions": {
        "customPlotOptions": {},
        "displayType": "table",
        "pivotAggregation": null,
        "pivotColumns": null,
        "xColumns": null,
        "yColumns": null
       },
       "removedWidgets": [],
       "schema": [
        {
         "metadata": "{}",
         "name": "num_affected_rows",
         "type": "\"long\""
        },
        {
         "metadata": "{}",
         "name": "num_inserted_rows",
         "type": "\"long\""
        }
       ],
       "type": "table"
      }
     },
     "output_type": "display_data"
    }
   ],
   "source": [
    "%sql\n",
    "insert into arya values (3,'mahendra')"
   ]
  },
  {
   "cell_type": "code",
   "execution_count": 0,
   "metadata": {
    "application/vnd.databricks.v1+cell": {
     "cellMetadata": {
      "byteLimit": 2048000,
      "implicitDf": true,
      "rowLimit": 10000
     },
     "inputWidgets": {},
     "nuid": "73263e3c-0cda-4990-b2c1-9548b9bcd803",
     "showTitle": false,
     "tableResultSettingsMap": {},
     "title": ""
    }
   },
   "outputs": [
    {
     "output_type": "display_data",
     "data": {
      "text/html": [
       "<style scoped>\n",
       "  .table-result-container {\n",
       "    max-height: 300px;\n",
       "    overflow: auto;\n",
       "  }\n",
       "  table, th, td {\n",
       "    border: 1px solid black;\n",
       "    border-collapse: collapse;\n",
       "  }\n",
       "  th, td {\n",
       "    padding: 5px;\n",
       "  }\n",
       "  th {\n",
       "    text-align: left;\n",
       "  }\n",
       "</style><div class='table-result-container'><table class='table-result'><thead style='background-color: white'><tr><th>num_affected_rows</th><th>num_inserted_rows</th></tr></thead><tbody><tr><td>1</td><td>1</td></tr></tbody></table></div>"
      ]
     },
     "metadata": {
      "application/vnd.databricks.v1+output": {
       "addedWidgets": {},
       "aggData": [],
       "aggError": "",
       "aggOverflow": false,
       "aggSchema": [],
       "aggSeriesLimitReached": false,
       "aggType": "",
       "arguments": {},
       "columnCustomDisplayInfos": {},
       "data": [
        [
         1,
         1
        ]
       ],
       "datasetInfos": [],
       "dbfsResultPath": null,
       "isJsonSchema": true,
       "metadata": {},
       "overflow": false,
       "plotOptions": {
        "customPlotOptions": {},
        "displayType": "table",
        "pivotAggregation": null,
        "pivotColumns": null,
        "xColumns": null,
        "yColumns": null
       },
       "removedWidgets": [],
       "schema": [
        {
         "metadata": "{}",
         "name": "num_affected_rows",
         "type": "\"long\""
        },
        {
         "metadata": "{}",
         "name": "num_inserted_rows",
         "type": "\"long\""
        }
       ],
       "type": "table"
      }
     },
     "output_type": "display_data"
    }
   ],
   "source": [
    "%sql\n",
    "insert into arya values (4,'arien')"
   ]
  },
  {
   "cell_type": "code",
   "execution_count": 0,
   "metadata": {
    "application/vnd.databricks.v1+cell": {
     "cellMetadata": {
      "byteLimit": 2048000,
      "implicitDf": true,
      "rowLimit": 10000
     },
     "inputWidgets": {},
     "nuid": "c2bd408d-9628-42f1-bd55-774d6555f101",
     "showTitle": false,
     "tableResultSettingsMap": {},
     "title": ""
    }
   },
   "outputs": [
    {
     "output_type": "display_data",
     "data": {
      "text/html": [
       "<style scoped>\n",
       "  .table-result-container {\n",
       "    max-height: 300px;\n",
       "    overflow: auto;\n",
       "  }\n",
       "  table, th, td {\n",
       "    border: 1px solid black;\n",
       "    border-collapse: collapse;\n",
       "  }\n",
       "  th, td {\n",
       "    padding: 5px;\n",
       "  }\n",
       "  th {\n",
       "    text-align: left;\n",
       "  }\n",
       "</style><div class='table-result-container'><table class='table-result'><thead style='background-color: white'><tr><th>num_affected_rows</th><th>num_inserted_rows</th></tr></thead><tbody><tr><td>1</td><td>1</td></tr></tbody></table></div>"
      ]
     },
     "metadata": {
      "application/vnd.databricks.v1+output": {
       "addedWidgets": {},
       "aggData": [],
       "aggError": "",
       "aggOverflow": false,
       "aggSchema": [],
       "aggSeriesLimitReached": false,
       "aggType": "",
       "arguments": {},
       "columnCustomDisplayInfos": {},
       "data": [
        [
         1,
         1
        ]
       ],
       "datasetInfos": [],
       "dbfsResultPath": null,
       "isJsonSchema": true,
       "metadata": {},
       "overflow": false,
       "plotOptions": {
        "customPlotOptions": {},
        "displayType": "table",
        "pivotAggregation": null,
        "pivotColumns": null,
        "xColumns": null,
        "yColumns": null
       },
       "removedWidgets": [],
       "schema": [
        {
         "metadata": "{}",
         "name": "num_affected_rows",
         "type": "\"long\""
        },
        {
         "metadata": "{}",
         "name": "num_inserted_rows",
         "type": "\"long\""
        }
       ],
       "type": "table"
      }
     },
     "output_type": "display_data"
    }
   ],
   "source": [
    "%sql\n",
    "insert into arya values (5,'simarn')"
   ]
  },
  {
   "cell_type": "code",
   "execution_count": 0,
   "metadata": {
    "application/vnd.databricks.v1+cell": {
     "cellMetadata": {
      "byteLimit": 2048000,
      "implicitDf": true,
      "rowLimit": 10000
     },
     "inputWidgets": {},
     "nuid": "3c3258b9-f418-4eac-adff-7b6f4f7173e3",
     "showTitle": false,
     "tableResultSettingsMap": {},
     "title": ""
    }
   },
   "outputs": [
    {
     "output_type": "display_data",
     "data": {
      "text/html": [
       "<style scoped>\n",
       "  .table-result-container {\n",
       "    max-height: 300px;\n",
       "    overflow: auto;\n",
       "  }\n",
       "  table, th, td {\n",
       "    border: 1px solid black;\n",
       "    border-collapse: collapse;\n",
       "  }\n",
       "  th, td {\n",
       "    padding: 5px;\n",
       "  }\n",
       "  th {\n",
       "    text-align: left;\n",
       "  }\n",
       "</style><div class='table-result-container'><table class='table-result'><thead style='background-color: white'><tr><th>roll</th><th>name</th></tr></thead><tbody><tr><td>5</td><td>rohit</td></tr><tr><td>1</td><td>sonu</td></tr><tr><td>2</td><td>soni</td></tr><tr><td>1</td><td>sonu</td></tr><tr><td>2</td><td>soni</td></tr><tr><td>3</td><td>sonu</td></tr><tr><td>4</td><td>soni</td></tr></tbody></table></div>"
      ]
     },
     "metadata": {
      "application/vnd.databricks.v1+output": {
       "addedWidgets": {},
       "aggData": [],
       "aggError": "",
       "aggOverflow": false,
       "aggSchema": [],
       "aggSeriesLimitReached": false,
       "aggType": "",
       "arguments": {},
       "columnCustomDisplayInfos": {},
       "data": [
        [
         5,
         "rohit"
        ],
        [
         1,
         "sonu"
        ],
        [
         2,
         "soni"
        ],
        [
         1,
         "sonu"
        ],
        [
         2,
         "soni"
        ],
        [
         3,
         "sonu"
        ],
        [
         4,
         "soni"
        ]
       ],
       "datasetInfos": [],
       "dbfsResultPath": null,
       "isJsonSchema": true,
       "metadata": {},
       "overflow": false,
       "plotOptions": {
        "customPlotOptions": {},
        "displayType": "table",
        "pivotAggregation": null,
        "pivotColumns": null,
        "xColumns": null,
        "yColumns": null
       },
       "removedWidgets": [],
       "schema": [
        {
         "metadata": "{}",
         "name": "roll",
         "type": "\"integer\""
        },
        {
         "metadata": "{}",
         "name": "name",
         "type": "\"string\""
        }
       ],
       "type": "table"
      }
     },
     "output_type": "display_data"
    }
   ],
   "source": [
    "%sql\n",
    "select * from kukas"
   ]
  },
  {
   "cell_type": "code",
   "execution_count": 0,
   "metadata": {
    "application/vnd.databricks.v1+cell": {
     "cellMetadata": {
      "byteLimit": 2048000,
      "implicitDf": true,
      "rowLimit": 10000
     },
     "inputWidgets": {},
     "nuid": "c577d1f0-49f5-4046-bfa1-988b3126ef92",
     "showTitle": false,
     "tableResultSettingsMap": {},
     "title": ""
    }
   },
   "outputs": [
    {
     "output_type": "display_data",
     "data": {
      "text/html": [
       "<style scoped>\n",
       "  .table-result-container {\n",
       "    max-height: 300px;\n",
       "    overflow: auto;\n",
       "  }\n",
       "  table, th, td {\n",
       "    border: 1px solid black;\n",
       "    border-collapse: collapse;\n",
       "  }\n",
       "  th, td {\n",
       "    padding: 5px;\n",
       "  }\n",
       "  th {\n",
       "    text-align: left;\n",
       "  }\n",
       "</style><div class='table-result-container'><table class='table-result'><thead style='background-color: white'><tr><th>version</th><th>timestamp</th><th>userId</th><th>userName</th><th>operation</th><th>operationParameters</th><th>job</th><th>notebook</th><th>clusterId</th><th>readVersion</th><th>isolationLevel</th><th>isBlindAppend</th><th>operationMetrics</th><th>userMetadata</th><th>engineInfo</th></tr></thead><tbody><tr><td>4</td><td>2025-03-19T14:55:21.000+0000</td><td>6266574120803224</td><td>sonu.vishwak6rma@gmail.com</td><td>WRITE</td><td>Map(mode -> Append, partitionBy -> [])</td><td>null</td><td>List(2949795871061122)</td><td>0319-143410-5sblc9tx</td><td>3</td><td>WriteSerializable</td><td>true</td><td>Map(numFiles -> 1, numOutputRows -> 1, numOutputBytes -> 829)</td><td>null</td><td>Databricks-Runtime/12.2.x-scala2.12</td></tr><tr><td>3</td><td>2025-03-19T14:55:03.000+0000</td><td>6266574120803224</td><td>sonu.vishwak6rma@gmail.com</td><td>WRITE</td><td>Map(mode -> Append, partitionBy -> [])</td><td>null</td><td>List(2949795871061122)</td><td>0319-143410-5sblc9tx</td><td>2</td><td>WriteSerializable</td><td>true</td><td>Map(numFiles -> 1, numOutputRows -> 1, numOutputBytes -> 822)</td><td>null</td><td>Databricks-Runtime/12.2.x-scala2.12</td></tr><tr><td>2</td><td>2025-03-19T14:54:46.000+0000</td><td>6266574120803224</td><td>sonu.vishwak6rma@gmail.com</td><td>WRITE</td><td>Map(mode -> Append, partitionBy -> [])</td><td>null</td><td>List(2949795871061122)</td><td>0319-143410-5sblc9tx</td><td>1</td><td>WriteSerializable</td><td>true</td><td>Map(numFiles -> 1, numOutputRows -> 1, numOutputBytes -> 843)</td><td>null</td><td>Databricks-Runtime/12.2.x-scala2.12</td></tr><tr><td>1</td><td>2025-03-19T14:54:17.000+0000</td><td>6266574120803224</td><td>sonu.vishwak6rma@gmail.com</td><td>WRITE</td><td>Map(mode -> Append, partitionBy -> [])</td><td>null</td><td>List(2949795871061122)</td><td>0319-143410-5sblc9tx</td><td>0</td><td>WriteSerializable</td><td>true</td><td>Map(numFiles -> 1, numOutputRows -> 2, numOutputBytes -> 815)</td><td>null</td><td>Databricks-Runtime/12.2.x-scala2.12</td></tr><tr><td>0</td><td>2025-03-19T14:54:09.000+0000</td><td>6266574120803224</td><td>sonu.vishwak6rma@gmail.com</td><td>CREATE OR REPLACE TABLE</td><td>Map(isManaged -> false, description -> null, partitionBy -> [], properties -> {})</td><td>null</td><td>List(2949795871061122)</td><td>0319-143410-5sblc9tx</td><td>null</td><td>WriteSerializable</td><td>true</td><td>Map()</td><td>null</td><td>Databricks-Runtime/12.2.x-scala2.12</td></tr></tbody></table></div>"
      ]
     },
     "metadata": {
      "application/vnd.databricks.v1+output": {
       "addedWidgets": {},
       "aggData": [],
       "aggError": "",
       "aggOverflow": false,
       "aggSchema": [],
       "aggSeriesLimitReached": false,
       "aggType": "",
       "arguments": {},
       "columnCustomDisplayInfos": {},
       "data": [
        [
         4,
         "2025-03-19T14:55:21.000+0000",
         "6266574120803224",
         "sonu.vishwak6rma@gmail.com",
         "WRITE",
         {
          "mode": "Append",
          "partitionBy": "[]"
         },
         null,
         [
          "2949795871061122"
         ],
         "0319-143410-5sblc9tx",
         3,
         "WriteSerializable",
         true,
         {
          "numFiles": "1",
          "numOutputBytes": "829",
          "numOutputRows": "1"
         },
         null,
         "Databricks-Runtime/12.2.x-scala2.12"
        ],
        [
         3,
         "2025-03-19T14:55:03.000+0000",
         "6266574120803224",
         "sonu.vishwak6rma@gmail.com",
         "WRITE",
         {
          "mode": "Append",
          "partitionBy": "[]"
         },
         null,
         [
          "2949795871061122"
         ],
         "0319-143410-5sblc9tx",
         2,
         "WriteSerializable",
         true,
         {
          "numFiles": "1",
          "numOutputBytes": "822",
          "numOutputRows": "1"
         },
         null,
         "Databricks-Runtime/12.2.x-scala2.12"
        ],
        [
         2,
         "2025-03-19T14:54:46.000+0000",
         "6266574120803224",
         "sonu.vishwak6rma@gmail.com",
         "WRITE",
         {
          "mode": "Append",
          "partitionBy": "[]"
         },
         null,
         [
          "2949795871061122"
         ],
         "0319-143410-5sblc9tx",
         1,
         "WriteSerializable",
         true,
         {
          "numFiles": "1",
          "numOutputBytes": "843",
          "numOutputRows": "1"
         },
         null,
         "Databricks-Runtime/12.2.x-scala2.12"
        ],
        [
         1,
         "2025-03-19T14:54:17.000+0000",
         "6266574120803224",
         "sonu.vishwak6rma@gmail.com",
         "WRITE",
         {
          "mode": "Append",
          "partitionBy": "[]"
         },
         null,
         [
          "2949795871061122"
         ],
         "0319-143410-5sblc9tx",
         0,
         "WriteSerializable",
         true,
         {
          "numFiles": "1",
          "numOutputBytes": "815",
          "numOutputRows": "2"
         },
         null,
         "Databricks-Runtime/12.2.x-scala2.12"
        ],
        [
         0,
         "2025-03-19T14:54:09.000+0000",
         "6266574120803224",
         "sonu.vishwak6rma@gmail.com",
         "CREATE OR REPLACE TABLE",
         {
          "description": null,
          "isManaged": "false",
          "partitionBy": "[]",
          "properties": "{}"
         },
         null,
         [
          "2949795871061122"
         ],
         "0319-143410-5sblc9tx",
         null,
         "WriteSerializable",
         true,
         {},
         null,
         "Databricks-Runtime/12.2.x-scala2.12"
        ]
       ],
       "datasetInfos": [],
       "dbfsResultPath": null,
       "isJsonSchema": true,
       "metadata": {},
       "overflow": false,
       "plotOptions": {
        "customPlotOptions": {},
        "displayType": "table",
        "pivotAggregation": null,
        "pivotColumns": null,
        "xColumns": null,
        "yColumns": null
       },
       "removedWidgets": [],
       "schema": [
        {
         "metadata": "{}",
         "name": "version",
         "type": "\"long\""
        },
        {
         "metadata": "{}",
         "name": "timestamp",
         "type": "\"timestamp\""
        },
        {
         "metadata": "{}",
         "name": "userId",
         "type": "\"string\""
        },
        {
         "metadata": "{}",
         "name": "userName",
         "type": "\"string\""
        },
        {
         "metadata": "{}",
         "name": "operation",
         "type": "\"string\""
        },
        {
         "metadata": "{}",
         "name": "operationParameters",
         "type": "{\"type\":\"map\",\"keyType\":\"string\",\"valueType\":\"string\",\"valueContainsNull\":true}"
        },
        {
         "metadata": "{}",
         "name": "job",
         "type": "{\"type\":\"struct\",\"fields\":[{\"name\":\"jobId\",\"type\":\"string\",\"nullable\":true,\"metadata\":{}},{\"name\":\"jobName\",\"type\":\"string\",\"nullable\":true,\"metadata\":{}},{\"name\":\"jobRunId\",\"type\":\"string\",\"nullable\":true,\"metadata\":{}},{\"name\":\"runId\",\"type\":\"string\",\"nullable\":true,\"metadata\":{}},{\"name\":\"jobOwnerId\",\"type\":\"string\",\"nullable\":true,\"metadata\":{}},{\"name\":\"triggerType\",\"type\":\"string\",\"nullable\":true,\"metadata\":{}}]}"
        },
        {
         "metadata": "{}",
         "name": "notebook",
         "type": "{\"type\":\"struct\",\"fields\":[{\"name\":\"notebookId\",\"type\":\"string\",\"nullable\":true,\"metadata\":{}}]}"
        },
        {
         "metadata": "{}",
         "name": "clusterId",
         "type": "\"string\""
        },
        {
         "metadata": "{}",
         "name": "readVersion",
         "type": "\"long\""
        },
        {
         "metadata": "{}",
         "name": "isolationLevel",
         "type": "\"string\""
        },
        {
         "metadata": "{}",
         "name": "isBlindAppend",
         "type": "\"boolean\""
        },
        {
         "metadata": "{}",
         "name": "operationMetrics",
         "type": "{\"type\":\"map\",\"keyType\":\"string\",\"valueType\":\"string\",\"valueContainsNull\":true}"
        },
        {
         "metadata": "{}",
         "name": "userMetadata",
         "type": "\"string\""
        },
        {
         "metadata": "{}",
         "name": "engineInfo",
         "type": "\"string\""
        }
       ],
       "type": "table"
      }
     },
     "output_type": "display_data"
    }
   ],
   "source": [
    "%sql\n",
    "describe history arya"
   ]
  },
  {
   "cell_type": "code",
   "execution_count": 0,
   "metadata": {
    "application/vnd.databricks.v1+cell": {
     "cellMetadata": {
      "byteLimit": 2048000,
      "rowLimit": 10000
     },
     "inputWidgets": {},
     "nuid": "23eb535b-a5f1-472f-be28-028505ce8739",
     "showTitle": false,
     "tableResultSettingsMap": {},
     "title": ""
    }
   },
   "outputs": [
    {
     "output_type": "stream",
     "name": "stdout",
     "output_type": "stream",
     "text": [
      "Out[16]: [FileInfo(path='dbfs:/FileStore/table/aryatable/_delta_log/.s3-optimization-0', name='.s3-optimization-0', size=0, modificationTime=1742396049000),\n FileInfo(path='dbfs:/FileStore/table/aryatable/_delta_log/.s3-optimization-1', name='.s3-optimization-1', size=0, modificationTime=1742396049000),\n FileInfo(path='dbfs:/FileStore/table/aryatable/_delta_log/.s3-optimization-2', name='.s3-optimization-2', size=0, modificationTime=1742396049000),\n FileInfo(path='dbfs:/FileStore/table/aryatable/_delta_log/00000000000000000000.crc', name='00000000000000000000.crc', size=1954, modificationTime=1742396053000),\n FileInfo(path='dbfs:/FileStore/table/aryatable/_delta_log/00000000000000000000.json', name='00000000000000000000.json', size=938, modificationTime=1742396049000),\n FileInfo(path='dbfs:/FileStore/table/aryatable/_delta_log/00000000000000000001.crc', name='00000000000000000001.crc', size=2437, modificationTime=1742396059000),\n FileInfo(path='dbfs:/FileStore/table/aryatable/_delta_log/00000000000000000001.json', name='00000000000000000001.json', size=1008, modificationTime=1742396057000),\n FileInfo(path='dbfs:/FileStore/table/aryatable/_delta_log/00000000000000000002.crc', name='00000000000000000002.crc', size=2927, modificationTime=1742396089000),\n FileInfo(path='dbfs:/FileStore/table/aryatable/_delta_log/00000000000000000002.json', name='00000000000000000002.json', size=1016, modificationTime=1742396086000),\n FileInfo(path='dbfs:/FileStore/table/aryatable/_delta_log/00000000000000000003.crc', name='00000000000000000003.crc', size=3409, modificationTime=1742396106000),\n FileInfo(path='dbfs:/FileStore/table/aryatable/_delta_log/00000000000000000003.json', name='00000000000000000003.json', size=1010, modificationTime=1742396103000),\n FileInfo(path='dbfs:/FileStore/table/aryatable/_delta_log/00000000000000000004.crc', name='00000000000000000004.crc', size=3893, modificationTime=1742396123000),\n FileInfo(path='dbfs:/FileStore/table/aryatable/_delta_log/00000000000000000004.json', name='00000000000000000004.json', size=1012, modificationTime=1742396121000)]"
     ]
    }
   ],
   "source": [
    "dbutils.fs.ls('/FileStore/table/aryatable/_delta_log')"
   ]
  },
  {
   "cell_type": "code",
   "execution_count": 0,
   "metadata": {
    "application/vnd.databricks.v1+cell": {
     "cellMetadata": {
      "byteLimit": 2048000,
      "implicitDf": true,
      "rowLimit": 10000
     },
     "inputWidgets": {},
     "nuid": "0b56b909-5bb0-4915-a88d-c3af1be2c01e",
     "showTitle": false,
     "tableResultSettingsMap": {},
     "title": ""
    }
   },
   "outputs": [
    {
     "output_type": "display_data",
     "data": {
      "text/html": [
       "<style scoped>\n",
       "  .table-result-container {\n",
       "    max-height: 300px;\n",
       "    overflow: auto;\n",
       "  }\n",
       "  table, th, td {\n",
       "    border: 1px solid black;\n",
       "    border-collapse: collapse;\n",
       "  }\n",
       "  th, td {\n",
       "    padding: 5px;\n",
       "  }\n",
       "  th {\n",
       "    text-align: left;\n",
       "  }\n",
       "</style><div class='table-result-container'><table class='table-result'><thead style='background-color: white'><tr><th>roll</th><th>name</th></tr></thead><tbody><tr><td>3</td><td>mahendra</td></tr><tr><td>5</td><td>simarn</td></tr><tr><td>4</td><td>arien</td></tr><tr><td>1</td><td>sonu</td></tr><tr><td>2</td><td>soni</td></tr></tbody></table></div>"
      ]
     },
     "metadata": {
      "application/vnd.databricks.v1+output": {
       "addedWidgets": {},
       "aggData": [],
       "aggError": "",
       "aggOverflow": false,
       "aggSchema": [],
       "aggSeriesLimitReached": false,
       "aggType": "",
       "arguments": {},
       "columnCustomDisplayInfos": {},
       "data": [
        [
         3,
         "mahendra"
        ],
        [
         5,
         "simarn"
        ],
        [
         4,
         "arien"
        ],
        [
         1,
         "sonu"
        ],
        [
         2,
         "soni"
        ]
       ],
       "datasetInfos": [],
       "dbfsResultPath": null,
       "isJsonSchema": true,
       "metadata": {},
       "overflow": false,
       "plotOptions": {
        "customPlotOptions": {},
        "displayType": "table",
        "pivotAggregation": null,
        "pivotColumns": null,
        "xColumns": null,
        "yColumns": null
       },
       "removedWidgets": [],
       "schema": [
        {
         "metadata": "{}",
         "name": "roll",
         "type": "\"integer\""
        },
        {
         "metadata": "{}",
         "name": "name",
         "type": "\"string\""
        }
       ],
       "type": "table"
      }
     },
     "output_type": "display_data"
    }
   ],
   "source": [
    "%sql\n",
    "select * from arya;\n"
   ]
  },
  {
   "cell_type": "code",
   "execution_count": 0,
   "metadata": {
    "application/vnd.databricks.v1+cell": {
     "cellMetadata": {
      "byteLimit": 2048000,
      "implicitDf": true,
      "rowLimit": 10000
     },
     "inputWidgets": {},
     "nuid": "8c692fa1-548f-4e54-b82b-6474efb87d08",
     "showTitle": false,
     "tableResultSettingsMap": {},
     "title": ""
    }
   },
   "outputs": [
    {
     "output_type": "display_data",
     "data": {
      "text/html": [
       "<style scoped>\n",
       "  .table-result-container {\n",
       "    max-height: 300px;\n",
       "    overflow: auto;\n",
       "  }\n",
       "  table, th, td {\n",
       "    border: 1px solid black;\n",
       "    border-collapse: collapse;\n",
       "  }\n",
       "  th, td {\n",
       "    padding: 5px;\n",
       "  }\n",
       "  th {\n",
       "    text-align: left;\n",
       "  }\n",
       "</style><div class='table-result-container'><table class='table-result'><thead style='background-color: white'><tr><th>num_affected_rows</th><th>num_inserted_rows</th></tr></thead><tbody><tr><td>1</td><td>1</td></tr></tbody></table></div>"
      ]
     },
     "metadata": {
      "application/vnd.databricks.v1+output": {
       "addedWidgets": {},
       "aggData": [],
       "aggError": "",
       "aggOverflow": false,
       "aggSchema": [],
       "aggSeriesLimitReached": false,
       "aggType": "",
       "arguments": {},
       "columnCustomDisplayInfos": {},
       "data": [
        [
         1,
         1
        ]
       ],
       "datasetInfos": [],
       "dbfsResultPath": null,
       "isJsonSchema": true,
       "metadata": {},
       "overflow": false,
       "plotOptions": {
        "customPlotOptions": {},
        "displayType": "table",
        "pivotAggregation": null,
        "pivotColumns": null,
        "xColumns": null,
        "yColumns": null
       },
       "removedWidgets": [],
       "schema": [
        {
         "metadata": "{}",
         "name": "num_affected_rows",
         "type": "\"long\""
        },
        {
         "metadata": "{}",
         "name": "num_inserted_rows",
         "type": "\"long\""
        }
       ],
       "type": "table"
      }
     },
     "output_type": "display_data"
    }
   ],
   "source": [
    "%sql\n",
    "insert into arya values(6,'arya')"
   ]
  },
  {
   "cell_type": "code",
   "execution_count": 0,
   "metadata": {
    "application/vnd.databricks.v1+cell": {
     "cellMetadata": {
      "byteLimit": 2048000,
      "implicitDf": true,
      "rowLimit": 10000
     },
     "inputWidgets": {},
     "nuid": "9e919a8f-23c5-47cd-86f5-c83b51ab8981",
     "showTitle": false,
     "tableResultSettingsMap": {},
     "title": ""
    }
   },
   "outputs": [
    {
     "output_type": "display_data",
     "data": {
      "text/html": [
       "<style scoped>\n",
       "  .table-result-container {\n",
       "    max-height: 300px;\n",
       "    overflow: auto;\n",
       "  }\n",
       "  table, th, td {\n",
       "    border: 1px solid black;\n",
       "    border-collapse: collapse;\n",
       "  }\n",
       "  th, td {\n",
       "    padding: 5px;\n",
       "  }\n",
       "  th {\n",
       "    text-align: left;\n",
       "  }\n",
       "</style><div class='table-result-container'><table class='table-result'><thead style='background-color: white'><tr><th>num_affected_rows</th><th>num_inserted_rows</th></tr></thead><tbody><tr><td>1</td><td>1</td></tr></tbody></table></div>"
      ]
     },
     "metadata": {
      "application/vnd.databricks.v1+output": {
       "addedWidgets": {},
       "aggData": [],
       "aggError": "",
       "aggOverflow": false,
       "aggSchema": [],
       "aggSeriesLimitReached": false,
       "aggType": "",
       "arguments": {},
       "columnCustomDisplayInfos": {},
       "data": [
        [
         1,
         1
        ]
       ],
       "datasetInfos": [],
       "dbfsResultPath": null,
       "isJsonSchema": true,
       "metadata": {},
       "overflow": false,
       "plotOptions": {
        "customPlotOptions": {},
        "displayType": "table",
        "pivotAggregation": null,
        "pivotColumns": null,
        "xColumns": null,
        "yColumns": null
       },
       "removedWidgets": [],
       "schema": [
        {
         "metadata": "{}",
         "name": "num_affected_rows",
         "type": "\"long\""
        },
        {
         "metadata": "{}",
         "name": "num_inserted_rows",
         "type": "\"long\""
        }
       ],
       "type": "table"
      }
     },
     "output_type": "display_data"
    }
   ],
   "source": [
    "%sql\n",
    "insert into arya values(7,'arti')"
   ]
  },
  {
   "cell_type": "code",
   "execution_count": 0,
   "metadata": {
    "application/vnd.databricks.v1+cell": {
     "cellMetadata": {
      "byteLimit": 2048000,
      "implicitDf": true,
      "rowLimit": 10000
     },
     "inputWidgets": {},
     "nuid": "b508e4ff-7ee1-47d3-ae58-f71b3c34e592",
     "showTitle": false,
     "tableResultSettingsMap": {},
     "title": ""
    }
   },
   "outputs": [
    {
     "output_type": "display_data",
     "data": {
      "text/html": [
       "<style scoped>\n",
       "  .table-result-container {\n",
       "    max-height: 300px;\n",
       "    overflow: auto;\n",
       "  }\n",
       "  table, th, td {\n",
       "    border: 1px solid black;\n",
       "    border-collapse: collapse;\n",
       "  }\n",
       "  th, td {\n",
       "    padding: 5px;\n",
       "  }\n",
       "  th {\n",
       "    text-align: left;\n",
       "  }\n",
       "</style><div class='table-result-container'><table class='table-result'><thead style='background-color: white'><tr><th>num_affected_rows</th><th>num_inserted_rows</th></tr></thead><tbody><tr><td>1</td><td>1</td></tr></tbody></table></div>"
      ]
     },
     "metadata": {
      "application/vnd.databricks.v1+output": {
       "addedWidgets": {},
       "aggData": [],
       "aggError": "",
       "aggOverflow": false,
       "aggSchema": [],
       "aggSeriesLimitReached": false,
       "aggType": "",
       "arguments": {},
       "columnCustomDisplayInfos": {},
       "data": [
        [
         1,
         1
        ]
       ],
       "datasetInfos": [],
       "dbfsResultPath": null,
       "isJsonSchema": true,
       "metadata": {},
       "overflow": false,
       "plotOptions": {
        "customPlotOptions": {},
        "displayType": "table",
        "pivotAggregation": null,
        "pivotColumns": null,
        "xColumns": null,
        "yColumns": null
       },
       "removedWidgets": [],
       "schema": [
        {
         "metadata": "{}",
         "name": "num_affected_rows",
         "type": "\"long\""
        },
        {
         "metadata": "{}",
         "name": "num_inserted_rows",
         "type": "\"long\""
        }
       ],
       "type": "table"
      }
     },
     "output_type": "display_data"
    }
   ],
   "source": [
    "%sql\n",
    "insert into arya values(8,'tanu')"
   ]
  },
  {
   "cell_type": "code",
   "execution_count": 0,
   "metadata": {
    "application/vnd.databricks.v1+cell": {
     "cellMetadata": {
      "byteLimit": 2048000,
      "implicitDf": true,
      "rowLimit": 10000
     },
     "inputWidgets": {},
     "nuid": "8508407b-2d58-423d-a3a6-cab5f29b7f4a",
     "showTitle": false,
     "tableResultSettingsMap": {},
     "title": ""
    }
   },
   "outputs": [
    {
     "output_type": "display_data",
     "data": {
      "text/html": [
       "<style scoped>\n",
       "  .table-result-container {\n",
       "    max-height: 300px;\n",
       "    overflow: auto;\n",
       "  }\n",
       "  table, th, td {\n",
       "    border: 1px solid black;\n",
       "    border-collapse: collapse;\n",
       "  }\n",
       "  th, td {\n",
       "    padding: 5px;\n",
       "  }\n",
       "  th {\n",
       "    text-align: left;\n",
       "  }\n",
       "</style><div class='table-result-container'><table class='table-result'><thead style='background-color: white'><tr><th>num_affected_rows</th><th>num_inserted_rows</th></tr></thead><tbody><tr><td>1</td><td>1</td></tr></tbody></table></div>"
      ]
     },
     "metadata": {
      "application/vnd.databricks.v1+output": {
       "addedWidgets": {},
       "aggData": [],
       "aggError": "",
       "aggOverflow": false,
       "aggSchema": [],
       "aggSeriesLimitReached": false,
       "aggType": "",
       "arguments": {},
       "columnCustomDisplayInfos": {},
       "data": [
        [
         1,
         1
        ]
       ],
       "datasetInfos": [],
       "dbfsResultPath": null,
       "isJsonSchema": true,
       "metadata": {},
       "overflow": false,
       "plotOptions": {
        "customPlotOptions": {},
        "displayType": "table",
        "pivotAggregation": null,
        "pivotColumns": null,
        "xColumns": null,
        "yColumns": null
       },
       "removedWidgets": [],
       "schema": [
        {
         "metadata": "{}",
         "name": "num_affected_rows",
         "type": "\"long\""
        },
        {
         "metadata": "{}",
         "name": "num_inserted_rows",
         "type": "\"long\""
        }
       ],
       "type": "table"
      }
     },
     "output_type": "display_data"
    }
   ],
   "source": [
    "%sql\n",
    "insert into arya values(9,'hitesh')"
   ]
  },
  {
   "cell_type": "code",
   "execution_count": 0,
   "metadata": {
    "application/vnd.databricks.v1+cell": {
     "cellMetadata": {
      "byteLimit": 2048000,
      "implicitDf": true,
      "rowLimit": 10000
     },
     "inputWidgets": {},
     "nuid": "5e5caadb-2960-441a-9f64-df28e13fe729",
     "showTitle": false,
     "tableResultSettingsMap": {},
     "title": ""
    }
   },
   "outputs": [
    {
     "output_type": "display_data",
     "data": {
      "text/html": [
       "<style scoped>\n",
       "  .table-result-container {\n",
       "    max-height: 300px;\n",
       "    overflow: auto;\n",
       "  }\n",
       "  table, th, td {\n",
       "    border: 1px solid black;\n",
       "    border-collapse: collapse;\n",
       "  }\n",
       "  th, td {\n",
       "    padding: 5px;\n",
       "  }\n",
       "  th {\n",
       "    text-align: left;\n",
       "  }\n",
       "</style><div class='table-result-container'><table class='table-result'><thead style='background-color: white'><tr><th>version</th><th>timestamp</th><th>userId</th><th>userName</th><th>operation</th><th>operationParameters</th><th>job</th><th>notebook</th><th>clusterId</th><th>readVersion</th><th>isolationLevel</th><th>isBlindAppend</th><th>operationMetrics</th><th>userMetadata</th><th>engineInfo</th></tr></thead><tbody><tr><td>8</td><td>2025-03-19T14:58:28.000+0000</td><td>6266574120803224</td><td>sonu.vishwak6rma@gmail.com</td><td>WRITE</td><td>Map(mode -> Append, partitionBy -> [])</td><td>null</td><td>List(2949795871061122)</td><td>0319-143410-5sblc9tx</td><td>7</td><td>WriteSerializable</td><td>true</td><td>Map(numFiles -> 1, numOutputRows -> 1, numOutputBytes -> 829)</td><td>null</td><td>Databricks-Runtime/12.2.x-scala2.12</td></tr><tr><td>7</td><td>2025-03-19T14:58:06.000+0000</td><td>6266574120803224</td><td>sonu.vishwak6rma@gmail.com</td><td>WRITE</td><td>Map(mode -> Append, partitionBy -> [])</td><td>null</td><td>List(2949795871061122)</td><td>0319-143410-5sblc9tx</td><td>6</td><td>WriteSerializable</td><td>true</td><td>Map(numFiles -> 1, numOutputRows -> 1, numOutputBytes -> 815)</td><td>null</td><td>Databricks-Runtime/12.2.x-scala2.12</td></tr><tr><td>6</td><td>2025-03-19T14:57:41.000+0000</td><td>6266574120803224</td><td>sonu.vishwak6rma@gmail.com</td><td>WRITE</td><td>Map(mode -> Append, partitionBy -> [])</td><td>null</td><td>List(2949795871061122)</td><td>0319-143410-5sblc9tx</td><td>5</td><td>WriteSerializable</td><td>true</td><td>Map(numFiles -> 1, numOutputRows -> 1, numOutputBytes -> 815)</td><td>null</td><td>Databricks-Runtime/12.2.x-scala2.12</td></tr><tr><td>5</td><td>2025-03-19T14:57:24.000+0000</td><td>6266574120803224</td><td>sonu.vishwak6rma@gmail.com</td><td>WRITE</td><td>Map(mode -> Append, partitionBy -> [])</td><td>null</td><td>List(2949795871061122)</td><td>0319-143410-5sblc9tx</td><td>4</td><td>WriteSerializable</td><td>true</td><td>Map(numFiles -> 1, numOutputRows -> 1, numOutputBytes -> 814)</td><td>null</td><td>Databricks-Runtime/12.2.x-scala2.12</td></tr><tr><td>4</td><td>2025-03-19T14:55:21.000+0000</td><td>6266574120803224</td><td>sonu.vishwak6rma@gmail.com</td><td>WRITE</td><td>Map(mode -> Append, partitionBy -> [])</td><td>null</td><td>List(2949795871061122)</td><td>0319-143410-5sblc9tx</td><td>3</td><td>WriteSerializable</td><td>true</td><td>Map(numFiles -> 1, numOutputRows -> 1, numOutputBytes -> 829)</td><td>null</td><td>Databricks-Runtime/12.2.x-scala2.12</td></tr><tr><td>3</td><td>2025-03-19T14:55:03.000+0000</td><td>6266574120803224</td><td>sonu.vishwak6rma@gmail.com</td><td>WRITE</td><td>Map(mode -> Append, partitionBy -> [])</td><td>null</td><td>List(2949795871061122)</td><td>0319-143410-5sblc9tx</td><td>2</td><td>WriteSerializable</td><td>true</td><td>Map(numFiles -> 1, numOutputRows -> 1, numOutputBytes -> 822)</td><td>null</td><td>Databricks-Runtime/12.2.x-scala2.12</td></tr><tr><td>2</td><td>2025-03-19T14:54:46.000+0000</td><td>6266574120803224</td><td>sonu.vishwak6rma@gmail.com</td><td>WRITE</td><td>Map(mode -> Append, partitionBy -> [])</td><td>null</td><td>List(2949795871061122)</td><td>0319-143410-5sblc9tx</td><td>1</td><td>WriteSerializable</td><td>true</td><td>Map(numFiles -> 1, numOutputRows -> 1, numOutputBytes -> 843)</td><td>null</td><td>Databricks-Runtime/12.2.x-scala2.12</td></tr><tr><td>1</td><td>2025-03-19T14:54:17.000+0000</td><td>6266574120803224</td><td>sonu.vishwak6rma@gmail.com</td><td>WRITE</td><td>Map(mode -> Append, partitionBy -> [])</td><td>null</td><td>List(2949795871061122)</td><td>0319-143410-5sblc9tx</td><td>0</td><td>WriteSerializable</td><td>true</td><td>Map(numFiles -> 1, numOutputRows -> 2, numOutputBytes -> 815)</td><td>null</td><td>Databricks-Runtime/12.2.x-scala2.12</td></tr><tr><td>0</td><td>2025-03-19T14:54:09.000+0000</td><td>6266574120803224</td><td>sonu.vishwak6rma@gmail.com</td><td>CREATE OR REPLACE TABLE</td><td>Map(isManaged -> false, description -> null, partitionBy -> [], properties -> {})</td><td>null</td><td>List(2949795871061122)</td><td>0319-143410-5sblc9tx</td><td>null</td><td>WriteSerializable</td><td>true</td><td>Map()</td><td>null</td><td>Databricks-Runtime/12.2.x-scala2.12</td></tr></tbody></table></div>"
      ]
     },
     "metadata": {
      "application/vnd.databricks.v1+output": {
       "addedWidgets": {},
       "aggData": [],
       "aggError": "",
       "aggOverflow": false,
       "aggSchema": [],
       "aggSeriesLimitReached": false,
       "aggType": "",
       "arguments": {},
       "columnCustomDisplayInfos": {},
       "data": [
        [
         8,
         "2025-03-19T14:58:28.000+0000",
         "6266574120803224",
         "sonu.vishwak6rma@gmail.com",
         "WRITE",
         {
          "mode": "Append",
          "partitionBy": "[]"
         },
         null,
         [
          "2949795871061122"
         ],
         "0319-143410-5sblc9tx",
         7,
         "WriteSerializable",
         true,
         {
          "numFiles": "1",
          "numOutputBytes": "829",
          "numOutputRows": "1"
         },
         null,
         "Databricks-Runtime/12.2.x-scala2.12"
        ],
        [
         7,
         "2025-03-19T14:58:06.000+0000",
         "6266574120803224",
         "sonu.vishwak6rma@gmail.com",
         "WRITE",
         {
          "mode": "Append",
          "partitionBy": "[]"
         },
         null,
         [
          "2949795871061122"
         ],
         "0319-143410-5sblc9tx",
         6,
         "WriteSerializable",
         true,
         {
          "numFiles": "1",
          "numOutputBytes": "815",
          "numOutputRows": "1"
         },
         null,
         "Databricks-Runtime/12.2.x-scala2.12"
        ],
        [
         6,
         "2025-03-19T14:57:41.000+0000",
         "6266574120803224",
         "sonu.vishwak6rma@gmail.com",
         "WRITE",
         {
          "mode": "Append",
          "partitionBy": "[]"
         },
         null,
         [
          "2949795871061122"
         ],
         "0319-143410-5sblc9tx",
         5,
         "WriteSerializable",
         true,
         {
          "numFiles": "1",
          "numOutputBytes": "815",
          "numOutputRows": "1"
         },
         null,
         "Databricks-Runtime/12.2.x-scala2.12"
        ],
        [
         5,
         "2025-03-19T14:57:24.000+0000",
         "6266574120803224",
         "sonu.vishwak6rma@gmail.com",
         "WRITE",
         {
          "mode": "Append",
          "partitionBy": "[]"
         },
         null,
         [
          "2949795871061122"
         ],
         "0319-143410-5sblc9tx",
         4,
         "WriteSerializable",
         true,
         {
          "numFiles": "1",
          "numOutputBytes": "814",
          "numOutputRows": "1"
         },
         null,
         "Databricks-Runtime/12.2.x-scala2.12"
        ],
        [
         4,
         "2025-03-19T14:55:21.000+0000",
         "6266574120803224",
         "sonu.vishwak6rma@gmail.com",
         "WRITE",
         {
          "mode": "Append",
          "partitionBy": "[]"
         },
         null,
         [
          "2949795871061122"
         ],
         "0319-143410-5sblc9tx",
         3,
         "WriteSerializable",
         true,
         {
          "numFiles": "1",
          "numOutputBytes": "829",
          "numOutputRows": "1"
         },
         null,
         "Databricks-Runtime/12.2.x-scala2.12"
        ],
        [
         3,
         "2025-03-19T14:55:03.000+0000",
         "6266574120803224",
         "sonu.vishwak6rma@gmail.com",
         "WRITE",
         {
          "mode": "Append",
          "partitionBy": "[]"
         },
         null,
         [
          "2949795871061122"
         ],
         "0319-143410-5sblc9tx",
         2,
         "WriteSerializable",
         true,
         {
          "numFiles": "1",
          "numOutputBytes": "822",
          "numOutputRows": "1"
         },
         null,
         "Databricks-Runtime/12.2.x-scala2.12"
        ],
        [
         2,
         "2025-03-19T14:54:46.000+0000",
         "6266574120803224",
         "sonu.vishwak6rma@gmail.com",
         "WRITE",
         {
          "mode": "Append",
          "partitionBy": "[]"
         },
         null,
         [
          "2949795871061122"
         ],
         "0319-143410-5sblc9tx",
         1,
         "WriteSerializable",
         true,
         {
          "numFiles": "1",
          "numOutputBytes": "843",
          "numOutputRows": "1"
         },
         null,
         "Databricks-Runtime/12.2.x-scala2.12"
        ],
        [
         1,
         "2025-03-19T14:54:17.000+0000",
         "6266574120803224",
         "sonu.vishwak6rma@gmail.com",
         "WRITE",
         {
          "mode": "Append",
          "partitionBy": "[]"
         },
         null,
         [
          "2949795871061122"
         ],
         "0319-143410-5sblc9tx",
         0,
         "WriteSerializable",
         true,
         {
          "numFiles": "1",
          "numOutputBytes": "815",
          "numOutputRows": "2"
         },
         null,
         "Databricks-Runtime/12.2.x-scala2.12"
        ],
        [
         0,
         "2025-03-19T14:54:09.000+0000",
         "6266574120803224",
         "sonu.vishwak6rma@gmail.com",
         "CREATE OR REPLACE TABLE",
         {
          "description": null,
          "isManaged": "false",
          "partitionBy": "[]",
          "properties": "{}"
         },
         null,
         [
          "2949795871061122"
         ],
         "0319-143410-5sblc9tx",
         null,
         "WriteSerializable",
         true,
         {},
         null,
         "Databricks-Runtime/12.2.x-scala2.12"
        ]
       ],
       "datasetInfos": [],
       "dbfsResultPath": null,
       "isJsonSchema": true,
       "metadata": {},
       "overflow": false,
       "plotOptions": {
        "customPlotOptions": {},
        "displayType": "table",
        "pivotAggregation": null,
        "pivotColumns": null,
        "xColumns": null,
        "yColumns": null
       },
       "removedWidgets": [],
       "schema": [
        {
         "metadata": "{}",
         "name": "version",
         "type": "\"long\""
        },
        {
         "metadata": "{}",
         "name": "timestamp",
         "type": "\"timestamp\""
        },
        {
         "metadata": "{}",
         "name": "userId",
         "type": "\"string\""
        },
        {
         "metadata": "{}",
         "name": "userName",
         "type": "\"string\""
        },
        {
         "metadata": "{}",
         "name": "operation",
         "type": "\"string\""
        },
        {
         "metadata": "{}",
         "name": "operationParameters",
         "type": "{\"type\":\"map\",\"keyType\":\"string\",\"valueType\":\"string\",\"valueContainsNull\":true}"
        },
        {
         "metadata": "{}",
         "name": "job",
         "type": "{\"type\":\"struct\",\"fields\":[{\"name\":\"jobId\",\"type\":\"string\",\"nullable\":true,\"metadata\":{}},{\"name\":\"jobName\",\"type\":\"string\",\"nullable\":true,\"metadata\":{}},{\"name\":\"jobRunId\",\"type\":\"string\",\"nullable\":true,\"metadata\":{}},{\"name\":\"runId\",\"type\":\"string\",\"nullable\":true,\"metadata\":{}},{\"name\":\"jobOwnerId\",\"type\":\"string\",\"nullable\":true,\"metadata\":{}},{\"name\":\"triggerType\",\"type\":\"string\",\"nullable\":true,\"metadata\":{}}]}"
        },
        {
         "metadata": "{}",
         "name": "notebook",
         "type": "{\"type\":\"struct\",\"fields\":[{\"name\":\"notebookId\",\"type\":\"string\",\"nullable\":true,\"metadata\":{}}]}"
        },
        {
         "metadata": "{}",
         "name": "clusterId",
         "type": "\"string\""
        },
        {
         "metadata": "{}",
         "name": "readVersion",
         "type": "\"long\""
        },
        {
         "metadata": "{}",
         "name": "isolationLevel",
         "type": "\"string\""
        },
        {
         "metadata": "{}",
         "name": "isBlindAppend",
         "type": "\"boolean\""
        },
        {
         "metadata": "{}",
         "name": "operationMetrics",
         "type": "{\"type\":\"map\",\"keyType\":\"string\",\"valueType\":\"string\",\"valueContainsNull\":true}"
        },
        {
         "metadata": "{}",
         "name": "userMetadata",
         "type": "\"string\""
        },
        {
         "metadata": "{}",
         "name": "engineInfo",
         "type": "\"string\""
        }
       ],
       "type": "table"
      }
     },
     "output_type": "display_data"
    }
   ],
   "source": [
    "%sql\n",
    "describe history arya"
   ]
  },
  {
   "cell_type": "code",
   "execution_count": 0,
   "metadata": {
    "application/vnd.databricks.v1+cell": {
     "cellMetadata": {
      "byteLimit": 2048000,
      "implicitDf": true,
      "rowLimit": 10000
     },
     "inputWidgets": {},
     "nuid": "c0cc3317-b08a-4dde-aad7-9f2c8353f21f",
     "showTitle": false,
     "tableResultSettingsMap": {},
     "title": ""
    }
   },
   "outputs": [
    {
     "output_type": "display_data",
     "data": {
      "text/html": [
       "<style scoped>\n",
       "  .table-result-container {\n",
       "    max-height: 300px;\n",
       "    overflow: auto;\n",
       "  }\n",
       "  table, th, td {\n",
       "    border: 1px solid black;\n",
       "    border-collapse: collapse;\n",
       "  }\n",
       "  th, td {\n",
       "    padding: 5px;\n",
       "  }\n",
       "  th {\n",
       "    text-align: left;\n",
       "  }\n",
       "</style><div class='table-result-container'><table class='table-result'><thead style='background-color: white'><tr><th>num_affected_rows</th><th>num_inserted_rows</th></tr></thead><tbody><tr><td>1</td><td>1</td></tr></tbody></table></div>"
      ]
     },
     "metadata": {
      "application/vnd.databricks.v1+output": {
       "addedWidgets": {},
       "aggData": [],
       "aggError": "",
       "aggOverflow": false,
       "aggSchema": [],
       "aggSeriesLimitReached": false,
       "aggType": "",
       "arguments": {},
       "columnCustomDisplayInfos": {},
       "data": [
        [
         1,
         1
        ]
       ],
       "datasetInfos": [],
       "dbfsResultPath": null,
       "isJsonSchema": true,
       "metadata": {},
       "overflow": false,
       "plotOptions": {
        "customPlotOptions": {},
        "displayType": "table",
        "pivotAggregation": null,
        "pivotColumns": null,
        "xColumns": null,
        "yColumns": null
       },
       "removedWidgets": [],
       "schema": [
        {
         "metadata": "{}",
         "name": "num_affected_rows",
         "type": "\"long\""
        },
        {
         "metadata": "{}",
         "name": "num_inserted_rows",
         "type": "\"long\""
        }
       ],
       "type": "table"
      }
     },
     "output_type": "display_data"
    }
   ],
   "source": [
    "%sql\n",
    "insert into arya values(10,'mohit')"
   ]
  },
  {
   "cell_type": "code",
   "execution_count": 0,
   "metadata": {
    "application/vnd.databricks.v1+cell": {
     "cellMetadata": {
      "byteLimit": 2048000,
      "rowLimit": 10000
     },
     "inputWidgets": {},
     "nuid": "2cfc8d67-ff50-4ad1-a775-0007825acaab",
     "showTitle": false,
     "tableResultSettingsMap": {},
     "title": ""
    }
   },
   "outputs": [
    {
     "output_type": "stream",
     "name": "stdout",
     "output_type": "stream",
     "text": [
      "Out[24]: [FileInfo(path='dbfs:/FileStore/table/aryatable/_delta_log/.s3-optimization-0', name='.s3-optimization-0', size=0, modificationTime=1742396049000),\n FileInfo(path='dbfs:/FileStore/table/aryatable/_delta_log/.s3-optimization-1', name='.s3-optimization-1', size=0, modificationTime=1742396049000),\n FileInfo(path='dbfs:/FileStore/table/aryatable/_delta_log/.s3-optimization-2', name='.s3-optimization-2', size=0, modificationTime=1742396049000),\n FileInfo(path='dbfs:/FileStore/table/aryatable/_delta_log/00000000000000000000.crc', name='00000000000000000000.crc', size=1954, modificationTime=1742396053000),\n FileInfo(path='dbfs:/FileStore/table/aryatable/_delta_log/00000000000000000000.json', name='00000000000000000000.json', size=938, modificationTime=1742396049000),\n FileInfo(path='dbfs:/FileStore/table/aryatable/_delta_log/00000000000000000001.crc', name='00000000000000000001.crc', size=2437, modificationTime=1742396059000),\n FileInfo(path='dbfs:/FileStore/table/aryatable/_delta_log/00000000000000000001.json', name='00000000000000000001.json', size=1008, modificationTime=1742396057000),\n FileInfo(path='dbfs:/FileStore/table/aryatable/_delta_log/00000000000000000002.crc', name='00000000000000000002.crc', size=2927, modificationTime=1742396089000),\n FileInfo(path='dbfs:/FileStore/table/aryatable/_delta_log/00000000000000000002.json', name='00000000000000000002.json', size=1016, modificationTime=1742396086000),\n FileInfo(path='dbfs:/FileStore/table/aryatable/_delta_log/00000000000000000003.crc', name='00000000000000000003.crc', size=3409, modificationTime=1742396106000),\n FileInfo(path='dbfs:/FileStore/table/aryatable/_delta_log/00000000000000000003.json', name='00000000000000000003.json', size=1010, modificationTime=1742396103000),\n FileInfo(path='dbfs:/FileStore/table/aryatable/_delta_log/00000000000000000004.crc', name='00000000000000000004.crc', size=3893, modificationTime=1742396123000),\n FileInfo(path='dbfs:/FileStore/table/aryatable/_delta_log/00000000000000000004.json', name='00000000000000000004.json', size=1012, modificationTime=1742396121000),\n FileInfo(path='dbfs:/FileStore/table/aryatable/_delta_log/00000000000000000005.crc', name='00000000000000000005.crc', size=4373, modificationTime=1742396247000),\n FileInfo(path='dbfs:/FileStore/table/aryatable/_delta_log/00000000000000000005.json', name='00000000000000000005.json', size=1008, modificationTime=1742396244000),\n FileInfo(path='dbfs:/FileStore/table/aryatable/_delta_log/00000000000000000006.crc', name='00000000000000000006.crc', size=4853, modificationTime=1742396263000),\n FileInfo(path='dbfs:/FileStore/table/aryatable/_delta_log/00000000000000000006.json', name='00000000000000000006.json', size=1008, modificationTime=1742396261000),\n FileInfo(path='dbfs:/FileStore/table/aryatable/_delta_log/00000000000000000007.crc', name='00000000000000000007.crc', size=5333, modificationTime=1742396289000),\n FileInfo(path='dbfs:/FileStore/table/aryatable/_delta_log/00000000000000000007.json', name='00000000000000000007.json', size=1008, modificationTime=1742396286000),\n FileInfo(path='dbfs:/FileStore/table/aryatable/_delta_log/00000000000000000008.crc', name='00000000000000000008.crc', size=5817, modificationTime=1742396311000),\n FileInfo(path='dbfs:/FileStore/table/aryatable/_delta_log/00000000000000000008.json', name='00000000000000000008.json', size=1012, modificationTime=1742396308000),\n FileInfo(path='dbfs:/FileStore/table/aryatable/_delta_log/00000000000000000009.crc', name='00000000000000000009.crc', size=6301, modificationTime=1742396373000),\n FileInfo(path='dbfs:/FileStore/table/aryatable/_delta_log/00000000000000000009.json', name='00000000000000000009.json', size=1012, modificationTime=1742396371000)]"
     ]
    }
   ],
   "source": [
    "dbutils.fs.ls('/FileStore/table/aryatable/_delta_log')"
   ]
  },
  {
   "cell_type": "code",
   "execution_count": 0,
   "metadata": {
    "application/vnd.databricks.v1+cell": {
     "cellMetadata": {
      "byteLimit": 2048000,
      "implicitDf": true,
      "rowLimit": 10000
     },
     "inputWidgets": {},
     "nuid": "4cd7c36f-a776-42f7-911b-519d2bc4cf12",
     "showTitle": false,
     "tableResultSettingsMap": {},
     "title": ""
    }
   },
   "outputs": [
    {
     "output_type": "display_data",
     "data": {
      "text/html": [
       "<style scoped>\n",
       "  .table-result-container {\n",
       "    max-height: 300px;\n",
       "    overflow: auto;\n",
       "  }\n",
       "  table, th, td {\n",
       "    border: 1px solid black;\n",
       "    border-collapse: collapse;\n",
       "  }\n",
       "  th, td {\n",
       "    padding: 5px;\n",
       "  }\n",
       "  th {\n",
       "    text-align: left;\n",
       "  }\n",
       "</style><div class='table-result-container'><table class='table-result'><thead style='background-color: white'><tr><th>num_affected_rows</th><th>num_inserted_rows</th></tr></thead><tbody><tr><td>1</td><td>1</td></tr></tbody></table></div>"
      ]
     },
     "metadata": {
      "application/vnd.databricks.v1+output": {
       "addedWidgets": {},
       "aggData": [],
       "aggError": "",
       "aggOverflow": false,
       "aggSchema": [],
       "aggSeriesLimitReached": false,
       "aggType": "",
       "arguments": {},
       "columnCustomDisplayInfos": {},
       "data": [
        [
         1,
         1
        ]
       ],
       "datasetInfos": [],
       "dbfsResultPath": null,
       "isJsonSchema": true,
       "metadata": {},
       "overflow": false,
       "plotOptions": {
        "customPlotOptions": {},
        "displayType": "table",
        "pivotAggregation": null,
        "pivotColumns": null,
        "xColumns": null,
        "yColumns": null
       },
       "removedWidgets": [],
       "schema": [
        {
         "metadata": "{}",
         "name": "num_affected_rows",
         "type": "\"long\""
        },
        {
         "metadata": "{}",
         "name": "num_inserted_rows",
         "type": "\"long\""
        }
       ],
       "type": "table"
      }
     },
     "output_type": "display_data"
    }
   ],
   "source": [
    "%sql\n",
    "insert into arya values(11,'rahul')"
   ]
  },
  {
   "cell_type": "code",
   "execution_count": 0,
   "metadata": {
    "application/vnd.databricks.v1+cell": {
     "cellMetadata": {
      "byteLimit": 2048000,
      "rowLimit": 10000
     },
     "inputWidgets": {},
     "nuid": "b80afa64-5d84-4c3b-a0f4-59f096da2845",
     "showTitle": false,
     "tableResultSettingsMap": {},
     "title": ""
    }
   },
   "outputs": [
    {
     "output_type": "stream",
     "name": "stdout",
     "output_type": "stream",
     "text": [
      "Out[26]: [FileInfo(path='dbfs:/FileStore/table/aryatable/_delta_log/.s3-optimization-0', name='.s3-optimization-0', size=0, modificationTime=1742396049000),\n FileInfo(path='dbfs:/FileStore/table/aryatable/_delta_log/.s3-optimization-1', name='.s3-optimization-1', size=0, modificationTime=1742396049000),\n FileInfo(path='dbfs:/FileStore/table/aryatable/_delta_log/.s3-optimization-2', name='.s3-optimization-2', size=0, modificationTime=1742396049000),\n FileInfo(path='dbfs:/FileStore/table/aryatable/_delta_log/00000000000000000000.crc', name='00000000000000000000.crc', size=1954, modificationTime=1742396053000),\n FileInfo(path='dbfs:/FileStore/table/aryatable/_delta_log/00000000000000000000.json', name='00000000000000000000.json', size=938, modificationTime=1742396049000),\n FileInfo(path='dbfs:/FileStore/table/aryatable/_delta_log/00000000000000000001.crc', name='00000000000000000001.crc', size=2437, modificationTime=1742396059000),\n FileInfo(path='dbfs:/FileStore/table/aryatable/_delta_log/00000000000000000001.json', name='00000000000000000001.json', size=1008, modificationTime=1742396057000),\n FileInfo(path='dbfs:/FileStore/table/aryatable/_delta_log/00000000000000000002.crc', name='00000000000000000002.crc', size=2927, modificationTime=1742396089000),\n FileInfo(path='dbfs:/FileStore/table/aryatable/_delta_log/00000000000000000002.json', name='00000000000000000002.json', size=1016, modificationTime=1742396086000),\n FileInfo(path='dbfs:/FileStore/table/aryatable/_delta_log/00000000000000000003.crc', name='00000000000000000003.crc', size=3409, modificationTime=1742396106000),\n FileInfo(path='dbfs:/FileStore/table/aryatable/_delta_log/00000000000000000003.json', name='00000000000000000003.json', size=1010, modificationTime=1742396103000),\n FileInfo(path='dbfs:/FileStore/table/aryatable/_delta_log/00000000000000000004.crc', name='00000000000000000004.crc', size=3893, modificationTime=1742396123000),\n FileInfo(path='dbfs:/FileStore/table/aryatable/_delta_log/00000000000000000004.json', name='00000000000000000004.json', size=1012, modificationTime=1742396121000),\n FileInfo(path='dbfs:/FileStore/table/aryatable/_delta_log/00000000000000000005.crc', name='00000000000000000005.crc', size=4373, modificationTime=1742396247000),\n FileInfo(path='dbfs:/FileStore/table/aryatable/_delta_log/00000000000000000005.json', name='00000000000000000005.json', size=1008, modificationTime=1742396244000),\n FileInfo(path='dbfs:/FileStore/table/aryatable/_delta_log/00000000000000000006.crc', name='00000000000000000006.crc', size=4853, modificationTime=1742396263000),\n FileInfo(path='dbfs:/FileStore/table/aryatable/_delta_log/00000000000000000006.json', name='00000000000000000006.json', size=1008, modificationTime=1742396261000),\n FileInfo(path='dbfs:/FileStore/table/aryatable/_delta_log/00000000000000000007.crc', name='00000000000000000007.crc', size=5333, modificationTime=1742396289000),\n FileInfo(path='dbfs:/FileStore/table/aryatable/_delta_log/00000000000000000007.json', name='00000000000000000007.json', size=1008, modificationTime=1742396286000),\n FileInfo(path='dbfs:/FileStore/table/aryatable/_delta_log/00000000000000000008.crc', name='00000000000000000008.crc', size=5817, modificationTime=1742396311000),\n FileInfo(path='dbfs:/FileStore/table/aryatable/_delta_log/00000000000000000008.json', name='00000000000000000008.json', size=1012, modificationTime=1742396308000),\n FileInfo(path='dbfs:/FileStore/table/aryatable/_delta_log/00000000000000000009.crc', name='00000000000000000009.crc', size=6301, modificationTime=1742396373000),\n FileInfo(path='dbfs:/FileStore/table/aryatable/_delta_log/00000000000000000009.json', name='00000000000000000009.json', size=1012, modificationTime=1742396371000),\n FileInfo(path='dbfs:/FileStore/table/aryatable/_delta_log/00000000000000000010.checkpoint.parquet', name='00000000000000000010.checkpoint.parquet', size=18359, modificationTime=1742396414000),\n FileInfo(path='dbfs:/FileStore/table/aryatable/_delta_log/00000000000000000010.crc', name='00000000000000000010.crc', size=6787, modificationTime=1742396412000),\n FileInfo(path='dbfs:/FileStore/table/aryatable/_delta_log/00000000000000000010.json', name='00000000000000000010.json', size=1012, modificationTime=1742396410000),\n FileInfo(path='dbfs:/FileStore/table/aryatable/_delta_log/_last_checkpoint', name='_last_checkpoint', size=5080, modificationTime=1742396414000)]"
     ]
    }
   ],
   "source": [
    "dbutils.fs.ls('/FileStore/table/aryatable/_delta_log')"
   ]
  },
  {
   "cell_type": "code",
   "execution_count": 0,
   "metadata": {
    "application/vnd.databricks.v1+cell": {
     "cellMetadata": {
      "byteLimit": 2048000,
      "implicitDf": true,
      "rowLimit": 10000
     },
     "inputWidgets": {},
     "nuid": "4376faef-1dfa-4618-94b0-1c0ddaeb4c17",
     "showTitle": false,
     "tableResultSettingsMap": {},
     "title": ""
    }
   },
   "outputs": [
    {
     "output_type": "display_data",
     "data": {
      "text/html": [
       "<style scoped>\n",
       "  .table-result-container {\n",
       "    max-height: 300px;\n",
       "    overflow: auto;\n",
       "  }\n",
       "  table, th, td {\n",
       "    border: 1px solid black;\n",
       "    border-collapse: collapse;\n",
       "  }\n",
       "  th, td {\n",
       "    padding: 5px;\n",
       "  }\n",
       "  th {\n",
       "    text-align: left;\n",
       "  }\n",
       "</style><div class='table-result-container'><table class='table-result'><thead style='background-color: white'><tr><th>path</th><th>metrics</th></tr></thead><tbody><tr><td>dbfs:/FileStore/table/aryatable</td><td>List(1, 10, List(934, 934, 934.0, 1, 934), List(814, 843, 822.6, 10, 8226), 0, List(minCubeSize(107374182400), List(0, 0), List(10, 8226), 0, List(10, 8226), 1, null), 1, 10, 0, false, 0, 0, 1742396472591, 1742396481176, 8, 1, null, List(0, 0), 2, 2, 213)</td></tr></tbody></table></div>"
      ]
     },
     "metadata": {
      "application/vnd.databricks.v1+output": {
       "addedWidgets": {},
       "aggData": [],
       "aggError": "",
       "aggOverflow": false,
       "aggSchema": [],
       "aggSeriesLimitReached": false,
       "aggType": "",
       "arguments": {},
       "columnCustomDisplayInfos": {},
       "data": [
        [
         "dbfs:/FileStore/table/aryatable",
         [
          1,
          10,
          [
           934,
           934,
           934.0,
           1,
           934
          ],
          [
           814,
           843,
           822.6,
           10,
           8226
          ],
          0,
          [
           "minCubeSize(107374182400)",
           [
            0,
            0
           ],
           [
            10,
            8226
           ],
           0,
           [
            10,
            8226
           ],
           1,
           null
          ],
          1,
          10,
          0,
          false,
          0,
          0,
          1742396472591,
          1742396481176,
          8,
          1,
          null,
          [
           0,
           0
          ],
          2,
          2,
          213
         ]
        ]
       ],
       "datasetInfos": [],
       "dbfsResultPath": null,
       "isJsonSchema": true,
       "metadata": {},
       "overflow": false,
       "plotOptions": {
        "customPlotOptions": {},
        "displayType": "table",
        "pivotAggregation": null,
        "pivotColumns": null,
        "xColumns": null,
        "yColumns": null
       },
       "removedWidgets": [],
       "schema": [
        {
         "metadata": "{}",
         "name": "path",
         "type": "\"string\""
        },
        {
         "metadata": "{}",
         "name": "metrics",
         "type": "{\"type\":\"struct\",\"fields\":[{\"name\":\"numFilesAdded\",\"type\":\"long\",\"nullable\":false,\"metadata\":{}},{\"name\":\"numFilesRemoved\",\"type\":\"long\",\"nullable\":false,\"metadata\":{}},{\"name\":\"filesAdded\",\"type\":{\"type\":\"struct\",\"fields\":[{\"name\":\"min\",\"type\":\"long\",\"nullable\":true,\"metadata\":{}},{\"name\":\"max\",\"type\":\"long\",\"nullable\":true,\"metadata\":{}},{\"name\":\"avg\",\"type\":\"double\",\"nullable\":false,\"metadata\":{}},{\"name\":\"totalFiles\",\"type\":\"long\",\"nullable\":false,\"metadata\":{}},{\"name\":\"totalSize\",\"type\":\"long\",\"nullable\":false,\"metadata\":{}}]},\"nullable\":true,\"metadata\":{}},{\"name\":\"filesRemoved\",\"type\":{\"type\":\"struct\",\"fields\":[{\"name\":\"min\",\"type\":\"long\",\"nullable\":true,\"metadata\":{}},{\"name\":\"max\",\"type\":\"long\",\"nullable\":true,\"metadata\":{}},{\"name\":\"avg\",\"type\":\"double\",\"nullable\":false,\"metadata\":{}},{\"name\":\"totalFiles\",\"type\":\"long\",\"nullable\":false,\"metadata\":{}},{\"name\":\"totalSize\",\"type\":\"long\",\"nullable\":false,\"metadata\":{}}]},\"nullable\":true,\"metadata\":{}},{\"name\":\"partitionsOptimized\",\"type\":\"long\",\"nullable\":false,\"metadata\":{}},{\"name\":\"zOrderStats\",\"type\":{\"type\":\"struct\",\"fields\":[{\"name\":\"strategyName\",\"type\":\"string\",\"nullable\":true,\"metadata\":{}},{\"name\":\"inputCubeFiles\",\"type\":{\"type\":\"struct\",\"fields\":[{\"name\":\"num\",\"type\":\"long\",\"nullable\":false,\"metadata\":{}},{\"name\":\"size\",\"type\":\"long\",\"nullable\":false,\"metadata\":{}}]},\"nullable\":true,\"metadata\":{}},{\"name\":\"inputOtherFiles\",\"type\":{\"type\":\"struct\",\"fields\":[{\"name\":\"num\",\"type\":\"long\",\"nullable\":false,\"metadata\":{}},{\"name\":\"size\",\"type\":\"long\",\"nullable\":false,\"metadata\":{}}]},\"nullable\":true,\"metadata\":{}},{\"name\":\"inputNumCubes\",\"type\":\"long\",\"nullable\":false,\"metadata\":{}},{\"name\":\"mergedFiles\",\"type\":{\"type\":\"struct\",\"fields\":[{\"name\":\"num\",\"type\":\"long\",\"nullable\":false,\"metadata\":{}},{\"name\":\"size\",\"type\":\"long\",\"nullable\":false,\"metadata\":{}}]},\"nullable\":true,\"metadata\":{}},{\"name\":\"numOutputCubes\",\"type\":\"long\",\"nullable\":false,\"metadata\":{}},{\"name\":\"mergedNumCubes\",\"type\":\"long\",\"nullable\":true,\"metadata\":{}}]},\"nullable\":true,\"metadata\":{}},{\"name\":\"numBatches\",\"type\":\"long\",\"nullable\":false,\"metadata\":{}},{\"name\":\"totalConsideredFiles\",\"type\":\"long\",\"nullable\":false,\"metadata\":{}},{\"name\":\"totalFilesSkipped\",\"type\":\"long\",\"nullable\":false,\"metadata\":{}},{\"name\":\"preserveInsertionOrder\",\"type\":\"boolean\",\"nullable\":false,\"metadata\":{}},{\"name\":\"numFilesSkippedToReduceWriteAmplification\",\"type\":\"long\",\"nullable\":false,\"metadata\":{}},{\"name\":\"numBytesSkippedToReduceWriteAmplification\",\"type\":\"long\",\"nullable\":false,\"metadata\":{}},{\"name\":\"startTimeMs\",\"type\":\"long\",\"nullable\":false,\"metadata\":{}},{\"name\":\"endTimeMs\",\"type\":\"long\",\"nullable\":false,\"metadata\":{}},{\"name\":\"totalClusterParallelism\",\"type\":\"long\",\"nullable\":false,\"metadata\":{}},{\"name\":\"totalScheduledTasks\",\"type\":\"long\",\"nullable\":false,\"metadata\":{}},{\"name\":\"autoCompactParallelismStats\",\"type\":{\"type\":\"struct\",\"fields\":[{\"name\":\"maxClusterActiveParallelism\",\"type\":\"long\",\"nullable\":true,\"metadata\":{}},{\"name\":\"minClusterActiveParallelism\",\"type\":\"long\",\"nullable\":true,\"metadata\":{}},{\"name\":\"maxSessionActiveParallelism\",\"type\":\"long\",\"nullable\":true,\"metadata\":{}},{\"name\":\"minSessionActiveParallelism\",\"type\":\"long\",\"nullable\":true,\"metadata\":{}}]},\"nullable\":true,\"metadata\":{}},{\"name\":\"deletionVectorStats\",\"type\":{\"type\":\"struct\",\"fields\":[{\"name\":\"numDeletionVectorsRemoved\",\"type\":\"long\",\"nullable\":false,\"metadata\":{}},{\"name\":\"numDeletionVectorRowsRemoved\",\"type\":\"long\",\"nullable\":false,\"metadata\":{}}]},\"nullable\":true,\"metadata\":{}},{\"name\":\"numTableColumns\",\"type\":\"long\",\"nullable\":false,\"metadata\":{}},{\"name\":\"numTableColumnsWithStats\",\"type\":\"long\",\"nullable\":false,\"metadata\":{}},{\"name\":\"totalTaskExecutionTimeMs\",\"type\":\"long\",\"nullable\":false,\"metadata\":{}}]}"
        }
       ],
       "type": "table"
      }
     },
     "output_type": "display_data"
    }
   ],
   "source": [
    "%sql\n",
    "optimize arya\n",
    "zorder by (roll)"
   ]
  },
  {
   "cell_type": "code",
   "execution_count": 0,
   "metadata": {
    "application/vnd.databricks.v1+cell": {
     "cellMetadata": {
      "byteLimit": 2048000,
      "rowLimit": 10000
     },
     "inputWidgets": {},
     "nuid": "32aa58f6-2704-4856-b3e0-8b65c23b4092",
     "showTitle": false,
     "tableResultSettingsMap": {},
     "title": ""
    }
   },
   "outputs": [
    {
     "output_type": "stream",
     "name": "stdout",
     "output_type": "stream",
     "text": [
      "Out[28]: [FileInfo(path='dbfs:/FileStore/table/aryatable/_delta_log/.s3-optimization-0', name='.s3-optimization-0', size=0, modificationTime=1742396049000),\n FileInfo(path='dbfs:/FileStore/table/aryatable/_delta_log/.s3-optimization-1', name='.s3-optimization-1', size=0, modificationTime=1742396049000),\n FileInfo(path='dbfs:/FileStore/table/aryatable/_delta_log/.s3-optimization-2', name='.s3-optimization-2', size=0, modificationTime=1742396049000),\n FileInfo(path='dbfs:/FileStore/table/aryatable/_delta_log/00000000000000000000.crc', name='00000000000000000000.crc', size=1954, modificationTime=1742396053000),\n FileInfo(path='dbfs:/FileStore/table/aryatable/_delta_log/00000000000000000000.json', name='00000000000000000000.json', size=938, modificationTime=1742396049000),\n FileInfo(path='dbfs:/FileStore/table/aryatable/_delta_log/00000000000000000001.crc', name='00000000000000000001.crc', size=2437, modificationTime=1742396059000),\n FileInfo(path='dbfs:/FileStore/table/aryatable/_delta_log/00000000000000000001.json', name='00000000000000000001.json', size=1008, modificationTime=1742396057000),\n FileInfo(path='dbfs:/FileStore/table/aryatable/_delta_log/00000000000000000002.crc', name='00000000000000000002.crc', size=2927, modificationTime=1742396089000),\n FileInfo(path='dbfs:/FileStore/table/aryatable/_delta_log/00000000000000000002.json', name='00000000000000000002.json', size=1016, modificationTime=1742396086000),\n FileInfo(path='dbfs:/FileStore/table/aryatable/_delta_log/00000000000000000003.crc', name='00000000000000000003.crc', size=3409, modificationTime=1742396106000),\n FileInfo(path='dbfs:/FileStore/table/aryatable/_delta_log/00000000000000000003.json', name='00000000000000000003.json', size=1010, modificationTime=1742396103000),\n FileInfo(path='dbfs:/FileStore/table/aryatable/_delta_log/00000000000000000004.crc', name='00000000000000000004.crc', size=3893, modificationTime=1742396123000),\n FileInfo(path='dbfs:/FileStore/table/aryatable/_delta_log/00000000000000000004.json', name='00000000000000000004.json', size=1012, modificationTime=1742396121000),\n FileInfo(path='dbfs:/FileStore/table/aryatable/_delta_log/00000000000000000005.crc', name='00000000000000000005.crc', size=4373, modificationTime=1742396247000),\n FileInfo(path='dbfs:/FileStore/table/aryatable/_delta_log/00000000000000000005.json', name='00000000000000000005.json', size=1008, modificationTime=1742396244000),\n FileInfo(path='dbfs:/FileStore/table/aryatable/_delta_log/00000000000000000006.crc', name='00000000000000000006.crc', size=4853, modificationTime=1742396263000),\n FileInfo(path='dbfs:/FileStore/table/aryatable/_delta_log/00000000000000000006.json', name='00000000000000000006.json', size=1008, modificationTime=1742396261000),\n FileInfo(path='dbfs:/FileStore/table/aryatable/_delta_log/00000000000000000007.crc', name='00000000000000000007.crc', size=5333, modificationTime=1742396289000),\n FileInfo(path='dbfs:/FileStore/table/aryatable/_delta_log/00000000000000000007.json', name='00000000000000000007.json', size=1008, modificationTime=1742396286000),\n FileInfo(path='dbfs:/FileStore/table/aryatable/_delta_log/00000000000000000008.crc', name='00000000000000000008.crc', size=5817, modificationTime=1742396311000),\n FileInfo(path='dbfs:/FileStore/table/aryatable/_delta_log/00000000000000000008.json', name='00000000000000000008.json', size=1012, modificationTime=1742396308000),\n FileInfo(path='dbfs:/FileStore/table/aryatable/_delta_log/00000000000000000009.crc', name='00000000000000000009.crc', size=6301, modificationTime=1742396373000),\n FileInfo(path='dbfs:/FileStore/table/aryatable/_delta_log/00000000000000000009.json', name='00000000000000000009.json', size=1012, modificationTime=1742396371000),\n FileInfo(path='dbfs:/FileStore/table/aryatable/_delta_log/00000000000000000010.checkpoint.parquet', name='00000000000000000010.checkpoint.parquet', size=18359, modificationTime=1742396414000),\n FileInfo(path='dbfs:/FileStore/table/aryatable/_delta_log/00000000000000000010.crc', name='00000000000000000010.crc', size=6787, modificationTime=1742396412000),\n FileInfo(path='dbfs:/FileStore/table/aryatable/_delta_log/00000000000000000010.json', name='00000000000000000010.json', size=1012, modificationTime=1742396410000),\n FileInfo(path='dbfs:/FileStore/table/aryatable/_delta_log/00000000000000000011.crc', name='00000000000000000011.crc', size=2552, modificationTime=1742396482000),\n FileInfo(path='dbfs:/FileStore/table/aryatable/_delta_log/00000000000000000011.json', name='00000000000000000011.json', size=4956, modificationTime=1742396478000),\n FileInfo(path='dbfs:/FileStore/table/aryatable/_delta_log/_last_checkpoint', name='_last_checkpoint', size=5080, modificationTime=1742396414000)]"
     ]
    }
   ],
   "source": [
    "dbutils.fs.ls('/FileStore/table/aryatable/_delta_log')"
   ]
  },
  {
   "cell_type": "code",
   "execution_count": 0,
   "metadata": {
    "application/vnd.databricks.v1+cell": {
     "cellMetadata": {
      "byteLimit": 2048000,
      "implicitDf": true,
      "rowLimit": 10000
     },
     "inputWidgets": {},
     "nuid": "48e6cf90-af71-4e79-8895-c06a866538d5",
     "showTitle": false,
     "tableResultSettingsMap": {},
     "title": ""
    }
   },
   "outputs": [
    {
     "output_type": "display_data",
     "data": {
      "text/html": [
       "<style scoped>\n",
       "  .table-result-container {\n",
       "    max-height: 300px;\n",
       "    overflow: auto;\n",
       "  }\n",
       "  table, th, td {\n",
       "    border: 1px solid black;\n",
       "    border-collapse: collapse;\n",
       "  }\n",
       "  th, td {\n",
       "    padding: 5px;\n",
       "  }\n",
       "  th {\n",
       "    text-align: left;\n",
       "  }\n",
       "</style><div class='table-result-container'><table class='table-result'><thead style='background-color: white'><tr><th>version</th><th>timestamp</th><th>userId</th><th>userName</th><th>operation</th><th>operationParameters</th><th>job</th><th>notebook</th><th>clusterId</th><th>readVersion</th><th>isolationLevel</th><th>isBlindAppend</th><th>operationMetrics</th><th>userMetadata</th><th>engineInfo</th></tr></thead><tbody><tr><td>11</td><td>2025-03-19T15:01:18.000+0000</td><td>6266574120803224</td><td>sonu.vishwak6rma@gmail.com</td><td>OPTIMIZE</td><td>Map(predicate -> [], zOrderBy -> [\"roll\"], batchId -> 0, auto -> false)</td><td>null</td><td>List(2949795871061122)</td><td>0319-143410-5sblc9tx</td><td>10</td><td>SnapshotIsolation</td><td>false</td><td>Map(numRemovedFiles -> 10, numRemovedBytes -> 8226, p25FileSize -> 934, numDeletionVectorsRemoved -> 0, minFileSize -> 934, numAddedFiles -> 1, maxFileSize -> 934, p75FileSize -> 934, p50FileSize -> 934, numAddedBytes -> 934)</td><td>null</td><td>Databricks-Runtime/12.2.x-scala2.12</td></tr><tr><td>10</td><td>2025-03-19T15:00:10.000+0000</td><td>6266574120803224</td><td>sonu.vishwak6rma@gmail.com</td><td>WRITE</td><td>Map(mode -> Append, partitionBy -> [])</td><td>null</td><td>List(2949795871061122)</td><td>0319-143410-5sblc9tx</td><td>9</td><td>WriteSerializable</td><td>true</td><td>Map(numFiles -> 1, numOutputRows -> 1, numOutputBytes -> 822)</td><td>null</td><td>Databricks-Runtime/12.2.x-scala2.12</td></tr><tr><td>9</td><td>2025-03-19T14:59:31.000+0000</td><td>6266574120803224</td><td>sonu.vishwak6rma@gmail.com</td><td>WRITE</td><td>Map(mode -> Append, partitionBy -> [])</td><td>null</td><td>List(2949795871061122)</td><td>0319-143410-5sblc9tx</td><td>8</td><td>WriteSerializable</td><td>true</td><td>Map(numFiles -> 1, numOutputRows -> 1, numOutputBytes -> 822)</td><td>null</td><td>Databricks-Runtime/12.2.x-scala2.12</td></tr><tr><td>8</td><td>2025-03-19T14:58:28.000+0000</td><td>6266574120803224</td><td>sonu.vishwak6rma@gmail.com</td><td>WRITE</td><td>Map(mode -> Append, partitionBy -> [])</td><td>null</td><td>List(2949795871061122)</td><td>0319-143410-5sblc9tx</td><td>7</td><td>WriteSerializable</td><td>true</td><td>Map(numFiles -> 1, numOutputRows -> 1, numOutputBytes -> 829)</td><td>null</td><td>Databricks-Runtime/12.2.x-scala2.12</td></tr><tr><td>7</td><td>2025-03-19T14:58:06.000+0000</td><td>6266574120803224</td><td>sonu.vishwak6rma@gmail.com</td><td>WRITE</td><td>Map(mode -> Append, partitionBy -> [])</td><td>null</td><td>List(2949795871061122)</td><td>0319-143410-5sblc9tx</td><td>6</td><td>WriteSerializable</td><td>true</td><td>Map(numFiles -> 1, numOutputRows -> 1, numOutputBytes -> 815)</td><td>null</td><td>Databricks-Runtime/12.2.x-scala2.12</td></tr><tr><td>6</td><td>2025-03-19T14:57:41.000+0000</td><td>6266574120803224</td><td>sonu.vishwak6rma@gmail.com</td><td>WRITE</td><td>Map(mode -> Append, partitionBy -> [])</td><td>null</td><td>List(2949795871061122)</td><td>0319-143410-5sblc9tx</td><td>5</td><td>WriteSerializable</td><td>true</td><td>Map(numFiles -> 1, numOutputRows -> 1, numOutputBytes -> 815)</td><td>null</td><td>Databricks-Runtime/12.2.x-scala2.12</td></tr><tr><td>5</td><td>2025-03-19T14:57:24.000+0000</td><td>6266574120803224</td><td>sonu.vishwak6rma@gmail.com</td><td>WRITE</td><td>Map(mode -> Append, partitionBy -> [])</td><td>null</td><td>List(2949795871061122)</td><td>0319-143410-5sblc9tx</td><td>4</td><td>WriteSerializable</td><td>true</td><td>Map(numFiles -> 1, numOutputRows -> 1, numOutputBytes -> 814)</td><td>null</td><td>Databricks-Runtime/12.2.x-scala2.12</td></tr><tr><td>4</td><td>2025-03-19T14:55:21.000+0000</td><td>6266574120803224</td><td>sonu.vishwak6rma@gmail.com</td><td>WRITE</td><td>Map(mode -> Append, partitionBy -> [])</td><td>null</td><td>List(2949795871061122)</td><td>0319-143410-5sblc9tx</td><td>3</td><td>WriteSerializable</td><td>true</td><td>Map(numFiles -> 1, numOutputRows -> 1, numOutputBytes -> 829)</td><td>null</td><td>Databricks-Runtime/12.2.x-scala2.12</td></tr><tr><td>3</td><td>2025-03-19T14:55:03.000+0000</td><td>6266574120803224</td><td>sonu.vishwak6rma@gmail.com</td><td>WRITE</td><td>Map(mode -> Append, partitionBy -> [])</td><td>null</td><td>List(2949795871061122)</td><td>0319-143410-5sblc9tx</td><td>2</td><td>WriteSerializable</td><td>true</td><td>Map(numFiles -> 1, numOutputRows -> 1, numOutputBytes -> 822)</td><td>null</td><td>Databricks-Runtime/12.2.x-scala2.12</td></tr><tr><td>2</td><td>2025-03-19T14:54:46.000+0000</td><td>6266574120803224</td><td>sonu.vishwak6rma@gmail.com</td><td>WRITE</td><td>Map(mode -> Append, partitionBy -> [])</td><td>null</td><td>List(2949795871061122)</td><td>0319-143410-5sblc9tx</td><td>1</td><td>WriteSerializable</td><td>true</td><td>Map(numFiles -> 1, numOutputRows -> 1, numOutputBytes -> 843)</td><td>null</td><td>Databricks-Runtime/12.2.x-scala2.12</td></tr><tr><td>1</td><td>2025-03-19T14:54:17.000+0000</td><td>6266574120803224</td><td>sonu.vishwak6rma@gmail.com</td><td>WRITE</td><td>Map(mode -> Append, partitionBy -> [])</td><td>null</td><td>List(2949795871061122)</td><td>0319-143410-5sblc9tx</td><td>0</td><td>WriteSerializable</td><td>true</td><td>Map(numFiles -> 1, numOutputRows -> 2, numOutputBytes -> 815)</td><td>null</td><td>Databricks-Runtime/12.2.x-scala2.12</td></tr><tr><td>0</td><td>2025-03-19T14:54:09.000+0000</td><td>6266574120803224</td><td>sonu.vishwak6rma@gmail.com</td><td>CREATE OR REPLACE TABLE</td><td>Map(isManaged -> false, description -> null, partitionBy -> [], properties -> {})</td><td>null</td><td>List(2949795871061122)</td><td>0319-143410-5sblc9tx</td><td>null</td><td>WriteSerializable</td><td>true</td><td>Map()</td><td>null</td><td>Databricks-Runtime/12.2.x-scala2.12</td></tr></tbody></table></div>"
      ]
     },
     "metadata": {
      "application/vnd.databricks.v1+output": {
       "addedWidgets": {},
       "aggData": [],
       "aggError": "",
       "aggOverflow": false,
       "aggSchema": [],
       "aggSeriesLimitReached": false,
       "aggType": "",
       "arguments": {},
       "columnCustomDisplayInfos": {},
       "data": [
        [
         11,
         "2025-03-19T15:01:18.000+0000",
         "6266574120803224",
         "sonu.vishwak6rma@gmail.com",
         "OPTIMIZE",
         {
          "auto": "false",
          "batchId": "0",
          "predicate": "[]",
          "zOrderBy": "[\"roll\"]"
         },
         null,
         [
          "2949795871061122"
         ],
         "0319-143410-5sblc9tx",
         10,
         "SnapshotIsolation",
         false,
         {
          "maxFileSize": "934",
          "minFileSize": "934",
          "numAddedBytes": "934",
          "numAddedFiles": "1",
          "numDeletionVectorsRemoved": "0",
          "numRemovedBytes": "8226",
          "numRemovedFiles": "10",
          "p25FileSize": "934",
          "p50FileSize": "934",
          "p75FileSize": "934"
         },
         null,
         "Databricks-Runtime/12.2.x-scala2.12"
        ],
        [
         10,
         "2025-03-19T15:00:10.000+0000",
         "6266574120803224",
         "sonu.vishwak6rma@gmail.com",
         "WRITE",
         {
          "mode": "Append",
          "partitionBy": "[]"
         },
         null,
         [
          "2949795871061122"
         ],
         "0319-143410-5sblc9tx",
         9,
         "WriteSerializable",
         true,
         {
          "numFiles": "1",
          "numOutputBytes": "822",
          "numOutputRows": "1"
         },
         null,
         "Databricks-Runtime/12.2.x-scala2.12"
        ],
        [
         9,
         "2025-03-19T14:59:31.000+0000",
         "6266574120803224",
         "sonu.vishwak6rma@gmail.com",
         "WRITE",
         {
          "mode": "Append",
          "partitionBy": "[]"
         },
         null,
         [
          "2949795871061122"
         ],
         "0319-143410-5sblc9tx",
         8,
         "WriteSerializable",
         true,
         {
          "numFiles": "1",
          "numOutputBytes": "822",
          "numOutputRows": "1"
         },
         null,
         "Databricks-Runtime/12.2.x-scala2.12"
        ],
        [
         8,
         "2025-03-19T14:58:28.000+0000",
         "6266574120803224",
         "sonu.vishwak6rma@gmail.com",
         "WRITE",
         {
          "mode": "Append",
          "partitionBy": "[]"
         },
         null,
         [
          "2949795871061122"
         ],
         "0319-143410-5sblc9tx",
         7,
         "WriteSerializable",
         true,
         {
          "numFiles": "1",
          "numOutputBytes": "829",
          "numOutputRows": "1"
         },
         null,
         "Databricks-Runtime/12.2.x-scala2.12"
        ],
        [
         7,
         "2025-03-19T14:58:06.000+0000",
         "6266574120803224",
         "sonu.vishwak6rma@gmail.com",
         "WRITE",
         {
          "mode": "Append",
          "partitionBy": "[]"
         },
         null,
         [
          "2949795871061122"
         ],
         "0319-143410-5sblc9tx",
         6,
         "WriteSerializable",
         true,
         {
          "numFiles": "1",
          "numOutputBytes": "815",
          "numOutputRows": "1"
         },
         null,
         "Databricks-Runtime/12.2.x-scala2.12"
        ],
        [
         6,
         "2025-03-19T14:57:41.000+0000",
         "6266574120803224",
         "sonu.vishwak6rma@gmail.com",
         "WRITE",
         {
          "mode": "Append",
          "partitionBy": "[]"
         },
         null,
         [
          "2949795871061122"
         ],
         "0319-143410-5sblc9tx",
         5,
         "WriteSerializable",
         true,
         {
          "numFiles": "1",
          "numOutputBytes": "815",
          "numOutputRows": "1"
         },
         null,
         "Databricks-Runtime/12.2.x-scala2.12"
        ],
        [
         5,
         "2025-03-19T14:57:24.000+0000",
         "6266574120803224",
         "sonu.vishwak6rma@gmail.com",
         "WRITE",
         {
          "mode": "Append",
          "partitionBy": "[]"
         },
         null,
         [
          "2949795871061122"
         ],
         "0319-143410-5sblc9tx",
         4,
         "WriteSerializable",
         true,
         {
          "numFiles": "1",
          "numOutputBytes": "814",
          "numOutputRows": "1"
         },
         null,
         "Databricks-Runtime/12.2.x-scala2.12"
        ],
        [
         4,
         "2025-03-19T14:55:21.000+0000",
         "6266574120803224",
         "sonu.vishwak6rma@gmail.com",
         "WRITE",
         {
          "mode": "Append",
          "partitionBy": "[]"
         },
         null,
         [
          "2949795871061122"
         ],
         "0319-143410-5sblc9tx",
         3,
         "WriteSerializable",
         true,
         {
          "numFiles": "1",
          "numOutputBytes": "829",
          "numOutputRows": "1"
         },
         null,
         "Databricks-Runtime/12.2.x-scala2.12"
        ],
        [
         3,
         "2025-03-19T14:55:03.000+0000",
         "6266574120803224",
         "sonu.vishwak6rma@gmail.com",
         "WRITE",
         {
          "mode": "Append",
          "partitionBy": "[]"
         },
         null,
         [
          "2949795871061122"
         ],
         "0319-143410-5sblc9tx",
         2,
         "WriteSerializable",
         true,
         {
          "numFiles": "1",
          "numOutputBytes": "822",
          "numOutputRows": "1"
         },
         null,
         "Databricks-Runtime/12.2.x-scala2.12"
        ],
        [
         2,
         "2025-03-19T14:54:46.000+0000",
         "6266574120803224",
         "sonu.vishwak6rma@gmail.com",
         "WRITE",
         {
          "mode": "Append",
          "partitionBy": "[]"
         },
         null,
         [
          "2949795871061122"
         ],
         "0319-143410-5sblc9tx",
         1,
         "WriteSerializable",
         true,
         {
          "numFiles": "1",
          "numOutputBytes": "843",
          "numOutputRows": "1"
         },
         null,
         "Databricks-Runtime/12.2.x-scala2.12"
        ],
        [
         1,
         "2025-03-19T14:54:17.000+0000",
         "6266574120803224",
         "sonu.vishwak6rma@gmail.com",
         "WRITE",
         {
          "mode": "Append",
          "partitionBy": "[]"
         },
         null,
         [
          "2949795871061122"
         ],
         "0319-143410-5sblc9tx",
         0,
         "WriteSerializable",
         true,
         {
          "numFiles": "1",
          "numOutputBytes": "815",
          "numOutputRows": "2"
         },
         null,
         "Databricks-Runtime/12.2.x-scala2.12"
        ],
        [
         0,
         "2025-03-19T14:54:09.000+0000",
         "6266574120803224",
         "sonu.vishwak6rma@gmail.com",
         "CREATE OR REPLACE TABLE",
         {
          "description": null,
          "isManaged": "false",
          "partitionBy": "[]",
          "properties": "{}"
         },
         null,
         [
          "2949795871061122"
         ],
         "0319-143410-5sblc9tx",
         null,
         "WriteSerializable",
         true,
         {},
         null,
         "Databricks-Runtime/12.2.x-scala2.12"
        ]
       ],
       "datasetInfos": [],
       "dbfsResultPath": null,
       "isJsonSchema": true,
       "metadata": {},
       "overflow": false,
       "plotOptions": {
        "customPlotOptions": {},
        "displayType": "table",
        "pivotAggregation": null,
        "pivotColumns": null,
        "xColumns": null,
        "yColumns": null
       },
       "removedWidgets": [],
       "schema": [
        {
         "metadata": "{}",
         "name": "version",
         "type": "\"long\""
        },
        {
         "metadata": "{}",
         "name": "timestamp",
         "type": "\"timestamp\""
        },
        {
         "metadata": "{}",
         "name": "userId",
         "type": "\"string\""
        },
        {
         "metadata": "{}",
         "name": "userName",
         "type": "\"string\""
        },
        {
         "metadata": "{}",
         "name": "operation",
         "type": "\"string\""
        },
        {
         "metadata": "{}",
         "name": "operationParameters",
         "type": "{\"type\":\"map\",\"keyType\":\"string\",\"valueType\":\"string\",\"valueContainsNull\":true}"
        },
        {
         "metadata": "{}",
         "name": "job",
         "type": "{\"type\":\"struct\",\"fields\":[{\"name\":\"jobId\",\"type\":\"string\",\"nullable\":true,\"metadata\":{}},{\"name\":\"jobName\",\"type\":\"string\",\"nullable\":true,\"metadata\":{}},{\"name\":\"jobRunId\",\"type\":\"string\",\"nullable\":true,\"metadata\":{}},{\"name\":\"runId\",\"type\":\"string\",\"nullable\":true,\"metadata\":{}},{\"name\":\"jobOwnerId\",\"type\":\"string\",\"nullable\":true,\"metadata\":{}},{\"name\":\"triggerType\",\"type\":\"string\",\"nullable\":true,\"metadata\":{}}]}"
        },
        {
         "metadata": "{}",
         "name": "notebook",
         "type": "{\"type\":\"struct\",\"fields\":[{\"name\":\"notebookId\",\"type\":\"string\",\"nullable\":true,\"metadata\":{}}]}"
        },
        {
         "metadata": "{}",
         "name": "clusterId",
         "type": "\"string\""
        },
        {
         "metadata": "{}",
         "name": "readVersion",
         "type": "\"long\""
        },
        {
         "metadata": "{}",
         "name": "isolationLevel",
         "type": "\"string\""
        },
        {
         "metadata": "{}",
         "name": "isBlindAppend",
         "type": "\"boolean\""
        },
        {
         "metadata": "{}",
         "name": "operationMetrics",
         "type": "{\"type\":\"map\",\"keyType\":\"string\",\"valueType\":\"string\",\"valueContainsNull\":true}"
        },
        {
         "metadata": "{}",
         "name": "userMetadata",
         "type": "\"string\""
        },
        {
         "metadata": "{}",
         "name": "engineInfo",
         "type": "\"string\""
        }
       ],
       "type": "table"
      }
     },
     "output_type": "display_data"
    }
   ],
   "source": [
    "%sql\n",
    "describe history arya"
   ]
  },
  {
   "cell_type": "code",
   "execution_count": 0,
   "metadata": {
    "application/vnd.databricks.v1+cell": {
     "cellMetadata": {
      "byteLimit": 2048000,
      "implicitDf": true,
      "rowLimit": 10000
     },
     "inputWidgets": {},
     "nuid": "1a26340a-6d41-4294-a430-88cfd403a68d",
     "showTitle": false,
     "tableResultSettingsMap": {},
     "title": ""
    }
   },
   "outputs": [
    {
     "output_type": "display_data",
     "data": {
      "text/html": [
       "<style scoped>\n",
       "  .table-result-container {\n",
       "    max-height: 300px;\n",
       "    overflow: auto;\n",
       "  }\n",
       "  table, th, td {\n",
       "    border: 1px solid black;\n",
       "    border-collapse: collapse;\n",
       "  }\n",
       "  th, td {\n",
       "    padding: 5px;\n",
       "  }\n",
       "  th {\n",
       "    text-align: left;\n",
       "  }\n",
       "</style><div class='table-result-container'><table class='table-result'><thead style='background-color: white'><tr><th>key</th><th>value</th></tr></thead><tbody><tr><td>spark.databricks.delta.retainonDurationCheck.enabled</td><td>false</td></tr></tbody></table></div>"
      ]
     },
     "metadata": {
      "application/vnd.databricks.v1+output": {
       "addedWidgets": {},
       "aggData": [],
       "aggError": "",
       "aggOverflow": false,
       "aggSchema": [],
       "aggSeriesLimitReached": false,
       "aggType": "",
       "arguments": {},
       "columnCustomDisplayInfos": {},
       "data": [
        [
         "spark.databricks.delta.retainonDurationCheck.enabled",
         "false"
        ]
       ],
       "datasetInfos": [],
       "dbfsResultPath": null,
       "isJsonSchema": true,
       "metadata": {},
       "overflow": false,
       "plotOptions": {
        "customPlotOptions": {},
        "displayType": "table",
        "pivotAggregation": null,
        "pivotColumns": null,
        "xColumns": null,
        "yColumns": null
       },
       "removedWidgets": [],
       "schema": [
        {
         "metadata": "{}",
         "name": "key",
         "type": "\"string\""
        },
        {
         "metadata": "{}",
         "name": "value",
         "type": "\"string\""
        }
       ],
       "type": "table"
      }
     },
     "output_type": "display_data"
    }
   ],
   "source": [
    "%sql\n",
    "set spark.databricks.delta.retainonDurationCheck.enabled = false"
   ]
  },
  {
   "cell_type": "code",
   "execution_count": 0,
   "metadata": {
    "application/vnd.databricks.v1+cell": {
     "cellMetadata": {
      "byteLimit": 2048000,
      "implicitDf": true,
      "rowLimit": 10000
     },
     "inputWidgets": {},
     "nuid": "f1a1af70-aac5-4b49-a720-03b309e23917",
     "showTitle": false,
     "tableResultSettingsMap": {},
     "title": ""
    }
   },
   "outputs": [
    {
     "output_type": "display_data",
     "data": {
      "text/html": [
       "<style scoped>\n",
       "  .table-result-container {\n",
       "    max-height: 300px;\n",
       "    overflow: auto;\n",
       "  }\n",
       "  table, th, td {\n",
       "    border: 1px solid black;\n",
       "    border-collapse: collapse;\n",
       "  }\n",
       "  th, td {\n",
       "    padding: 5px;\n",
       "  }\n",
       "  th {\n",
       "    text-align: left;\n",
       "  }\n",
       "</style><div class='table-result-container'><table class='table-result'><thead style='background-color: white'><tr><th>key</th><th>value</th></tr></thead><tbody><tr><td>spark.databricks.delta.retentionDurationCheck.enabled</td><td>false</td></tr></tbody></table></div>"
      ]
     },
     "metadata": {
      "application/vnd.databricks.v1+output": {
       "addedWidgets": {},
       "aggData": [],
       "aggError": "",
       "aggOverflow": false,
       "aggSchema": [],
       "aggSeriesLimitReached": false,
       "aggType": "",
       "arguments": {},
       "columnCustomDisplayInfos": {},
       "data": [
        [
         "spark.databricks.delta.retentionDurationCheck.enabled",
         "false"
        ]
       ],
       "datasetInfos": [],
       "dbfsResultPath": null,
       "isJsonSchema": true,
       "metadata": {},
       "overflow": false,
       "plotOptions": {
        "customPlotOptions": {},
        "displayType": "table",
        "pivotAggregation": null,
        "pivotColumns": null,
        "xColumns": null,
        "yColumns": null
       },
       "removedWidgets": [],
       "schema": [
        {
         "metadata": "{}",
         "name": "key",
         "type": "\"string\""
        },
        {
         "metadata": "{}",
         "name": "value",
         "type": "\"string\""
        }
       ],
       "type": "table"
      }
     },
     "output_type": "display_data"
    }
   ],
   "source": [
    "%sql\n",
    "SET spark.databricks.delta.retentionDurationCheck.enabled = false;\n"
   ]
  },
  {
   "cell_type": "code",
   "execution_count": 0,
   "metadata": {
    "application/vnd.databricks.v1+cell": {
     "cellMetadata": {
      "byteLimit": 2048000,
      "implicitDf": true,
      "rowLimit": 10000
     },
     "inputWidgets": {},
     "nuid": "d4c16ab2-ade4-4636-9e41-52135ccbb053",
     "showTitle": false,
     "tableResultSettingsMap": {},
     "title": ""
    }
   },
   "outputs": [
    {
     "output_type": "display_data",
     "data": {
      "text/html": [
       "<style scoped>\n",
       "  .table-result-container {\n",
       "    max-height: 300px;\n",
       "    overflow: auto;\n",
       "  }\n",
       "  table, th, td {\n",
       "    border: 1px solid black;\n",
       "    border-collapse: collapse;\n",
       "  }\n",
       "  th, td {\n",
       "    padding: 5px;\n",
       "  }\n",
       "  th {\n",
       "    text-align: left;\n",
       "  }\n",
       "</style><div class='table-result-container'><table class='table-result'><thead style='background-color: white'><tr><th>path</th></tr></thead><tbody><tr><td>dbfs:/FileStore/table/aryatable</td></tr></tbody></table></div>"
      ]
     },
     "metadata": {
      "application/vnd.databricks.v1+output": {
       "addedWidgets": {},
       "aggData": [],
       "aggError": "",
       "aggOverflow": false,
       "aggSchema": [],
       "aggSeriesLimitReached": false,
       "aggType": "",
       "arguments": {},
       "columnCustomDisplayInfos": {},
       "data": [
        [
         "dbfs:/FileStore/table/aryatable"
        ]
       ],
       "datasetInfos": [],
       "dbfsResultPath": null,
       "isJsonSchema": true,
       "metadata": {},
       "overflow": false,
       "plotOptions": {
        "customPlotOptions": {},
        "displayType": "table",
        "pivotAggregation": null,
        "pivotColumns": null,
        "xColumns": null,
        "yColumns": null
       },
       "removedWidgets": [],
       "schema": [
        {
         "metadata": "{}",
         "name": "path",
         "type": "\"string\""
        }
       ],
       "type": "table"
      }
     },
     "output_type": "display_data"
    }
   ],
   "source": [
    "%sql\n",
    "VACUUM arya RETAIN 0 HOURS;\n"
   ]
  },
  {
   "cell_type": "code",
   "execution_count": 0,
   "metadata": {
    "application/vnd.databricks.v1+cell": {
     "cellMetadata": {
      "byteLimit": 2048000,
      "implicitDf": true,
      "rowLimit": 10000
     },
     "inputWidgets": {},
     "nuid": "626cd9c0-77a8-45b7-b7f4-6042d004bdda",
     "showTitle": false,
     "tableResultSettingsMap": {},
     "title": ""
    }
   },
   "outputs": [
    {
     "output_type": "display_data",
     "data": {
      "text/html": [
       "<style scoped>\n",
       "  .table-result-container {\n",
       "    max-height: 300px;\n",
       "    overflow: auto;\n",
       "  }\n",
       "  table, th, td {\n",
       "    border: 1px solid black;\n",
       "    border-collapse: collapse;\n",
       "  }\n",
       "  th, td {\n",
       "    padding: 5px;\n",
       "  }\n",
       "  th {\n",
       "    text-align: left;\n",
       "  }\n",
       "</style><div class='table-result-container'><table class='table-result'><thead style='background-color: white'><tr><th>version</th><th>timestamp</th><th>userId</th><th>userName</th><th>operation</th><th>operationParameters</th><th>job</th><th>notebook</th><th>clusterId</th><th>readVersion</th><th>isolationLevel</th><th>isBlindAppend</th><th>operationMetrics</th><th>userMetadata</th><th>engineInfo</th></tr></thead><tbody><tr><td>11</td><td>2025-03-19T15:01:18.000+0000</td><td>6266574120803224</td><td>sonu.vishwak6rma@gmail.com</td><td>OPTIMIZE</td><td>Map(predicate -> [], zOrderBy -> [\"roll\"], batchId -> 0, auto -> false)</td><td>null</td><td>List(2949795871061122)</td><td>0319-143410-5sblc9tx</td><td>10</td><td>SnapshotIsolation</td><td>false</td><td>Map(numRemovedFiles -> 10, numRemovedBytes -> 8226, p25FileSize -> 934, numDeletionVectorsRemoved -> 0, minFileSize -> 934, numAddedFiles -> 1, maxFileSize -> 934, p75FileSize -> 934, p50FileSize -> 934, numAddedBytes -> 934)</td><td>null</td><td>Databricks-Runtime/12.2.x-scala2.12</td></tr><tr><td>10</td><td>2025-03-19T15:00:10.000+0000</td><td>6266574120803224</td><td>sonu.vishwak6rma@gmail.com</td><td>WRITE</td><td>Map(mode -> Append, partitionBy -> [])</td><td>null</td><td>List(2949795871061122)</td><td>0319-143410-5sblc9tx</td><td>9</td><td>WriteSerializable</td><td>true</td><td>Map(numFiles -> 1, numOutputRows -> 1, numOutputBytes -> 822)</td><td>null</td><td>Databricks-Runtime/12.2.x-scala2.12</td></tr><tr><td>9</td><td>2025-03-19T14:59:31.000+0000</td><td>6266574120803224</td><td>sonu.vishwak6rma@gmail.com</td><td>WRITE</td><td>Map(mode -> Append, partitionBy -> [])</td><td>null</td><td>List(2949795871061122)</td><td>0319-143410-5sblc9tx</td><td>8</td><td>WriteSerializable</td><td>true</td><td>Map(numFiles -> 1, numOutputRows -> 1, numOutputBytes -> 822)</td><td>null</td><td>Databricks-Runtime/12.2.x-scala2.12</td></tr><tr><td>8</td><td>2025-03-19T14:58:28.000+0000</td><td>6266574120803224</td><td>sonu.vishwak6rma@gmail.com</td><td>WRITE</td><td>Map(mode -> Append, partitionBy -> [])</td><td>null</td><td>List(2949795871061122)</td><td>0319-143410-5sblc9tx</td><td>7</td><td>WriteSerializable</td><td>true</td><td>Map(numFiles -> 1, numOutputRows -> 1, numOutputBytes -> 829)</td><td>null</td><td>Databricks-Runtime/12.2.x-scala2.12</td></tr><tr><td>7</td><td>2025-03-19T14:58:06.000+0000</td><td>6266574120803224</td><td>sonu.vishwak6rma@gmail.com</td><td>WRITE</td><td>Map(mode -> Append, partitionBy -> [])</td><td>null</td><td>List(2949795871061122)</td><td>0319-143410-5sblc9tx</td><td>6</td><td>WriteSerializable</td><td>true</td><td>Map(numFiles -> 1, numOutputRows -> 1, numOutputBytes -> 815)</td><td>null</td><td>Databricks-Runtime/12.2.x-scala2.12</td></tr><tr><td>6</td><td>2025-03-19T14:57:41.000+0000</td><td>6266574120803224</td><td>sonu.vishwak6rma@gmail.com</td><td>WRITE</td><td>Map(mode -> Append, partitionBy -> [])</td><td>null</td><td>List(2949795871061122)</td><td>0319-143410-5sblc9tx</td><td>5</td><td>WriteSerializable</td><td>true</td><td>Map(numFiles -> 1, numOutputRows -> 1, numOutputBytes -> 815)</td><td>null</td><td>Databricks-Runtime/12.2.x-scala2.12</td></tr><tr><td>5</td><td>2025-03-19T14:57:24.000+0000</td><td>6266574120803224</td><td>sonu.vishwak6rma@gmail.com</td><td>WRITE</td><td>Map(mode -> Append, partitionBy -> [])</td><td>null</td><td>List(2949795871061122)</td><td>0319-143410-5sblc9tx</td><td>4</td><td>WriteSerializable</td><td>true</td><td>Map(numFiles -> 1, numOutputRows -> 1, numOutputBytes -> 814)</td><td>null</td><td>Databricks-Runtime/12.2.x-scala2.12</td></tr><tr><td>4</td><td>2025-03-19T14:55:21.000+0000</td><td>6266574120803224</td><td>sonu.vishwak6rma@gmail.com</td><td>WRITE</td><td>Map(mode -> Append, partitionBy -> [])</td><td>null</td><td>List(2949795871061122)</td><td>0319-143410-5sblc9tx</td><td>3</td><td>WriteSerializable</td><td>true</td><td>Map(numFiles -> 1, numOutputRows -> 1, numOutputBytes -> 829)</td><td>null</td><td>Databricks-Runtime/12.2.x-scala2.12</td></tr><tr><td>3</td><td>2025-03-19T14:55:03.000+0000</td><td>6266574120803224</td><td>sonu.vishwak6rma@gmail.com</td><td>WRITE</td><td>Map(mode -> Append, partitionBy -> [])</td><td>null</td><td>List(2949795871061122)</td><td>0319-143410-5sblc9tx</td><td>2</td><td>WriteSerializable</td><td>true</td><td>Map(numFiles -> 1, numOutputRows -> 1, numOutputBytes -> 822)</td><td>null</td><td>Databricks-Runtime/12.2.x-scala2.12</td></tr><tr><td>2</td><td>2025-03-19T14:54:46.000+0000</td><td>6266574120803224</td><td>sonu.vishwak6rma@gmail.com</td><td>WRITE</td><td>Map(mode -> Append, partitionBy -> [])</td><td>null</td><td>List(2949795871061122)</td><td>0319-143410-5sblc9tx</td><td>1</td><td>WriteSerializable</td><td>true</td><td>Map(numFiles -> 1, numOutputRows -> 1, numOutputBytes -> 843)</td><td>null</td><td>Databricks-Runtime/12.2.x-scala2.12</td></tr><tr><td>1</td><td>2025-03-19T14:54:17.000+0000</td><td>6266574120803224</td><td>sonu.vishwak6rma@gmail.com</td><td>WRITE</td><td>Map(mode -> Append, partitionBy -> [])</td><td>null</td><td>List(2949795871061122)</td><td>0319-143410-5sblc9tx</td><td>0</td><td>WriteSerializable</td><td>true</td><td>Map(numFiles -> 1, numOutputRows -> 2, numOutputBytes -> 815)</td><td>null</td><td>Databricks-Runtime/12.2.x-scala2.12</td></tr><tr><td>0</td><td>2025-03-19T14:54:09.000+0000</td><td>6266574120803224</td><td>sonu.vishwak6rma@gmail.com</td><td>CREATE OR REPLACE TABLE</td><td>Map(isManaged -> false, description -> null, partitionBy -> [], properties -> {})</td><td>null</td><td>List(2949795871061122)</td><td>0319-143410-5sblc9tx</td><td>null</td><td>WriteSerializable</td><td>true</td><td>Map()</td><td>null</td><td>Databricks-Runtime/12.2.x-scala2.12</td></tr></tbody></table></div>"
      ]
     },
     "metadata": {
      "application/vnd.databricks.v1+output": {
       "addedWidgets": {},
       "aggData": [],
       "aggError": "",
       "aggOverflow": false,
       "aggSchema": [],
       "aggSeriesLimitReached": false,
       "aggType": "",
       "arguments": {},
       "columnCustomDisplayInfos": {},
       "data": [
        [
         11,
         "2025-03-19T15:01:18.000+0000",
         "6266574120803224",
         "sonu.vishwak6rma@gmail.com",
         "OPTIMIZE",
         {
          "auto": "false",
          "batchId": "0",
          "predicate": "[]",
          "zOrderBy": "[\"roll\"]"
         },
         null,
         [
          "2949795871061122"
         ],
         "0319-143410-5sblc9tx",
         10,
         "SnapshotIsolation",
         false,
         {
          "maxFileSize": "934",
          "minFileSize": "934",
          "numAddedBytes": "934",
          "numAddedFiles": "1",
          "numDeletionVectorsRemoved": "0",
          "numRemovedBytes": "8226",
          "numRemovedFiles": "10",
          "p25FileSize": "934",
          "p50FileSize": "934",
          "p75FileSize": "934"
         },
         null,
         "Databricks-Runtime/12.2.x-scala2.12"
        ],
        [
         10,
         "2025-03-19T15:00:10.000+0000",
         "6266574120803224",
         "sonu.vishwak6rma@gmail.com",
         "WRITE",
         {
          "mode": "Append",
          "partitionBy": "[]"
         },
         null,
         [
          "2949795871061122"
         ],
         "0319-143410-5sblc9tx",
         9,
         "WriteSerializable",
         true,
         {
          "numFiles": "1",
          "numOutputBytes": "822",
          "numOutputRows": "1"
         },
         null,
         "Databricks-Runtime/12.2.x-scala2.12"
        ],
        [
         9,
         "2025-03-19T14:59:31.000+0000",
         "6266574120803224",
         "sonu.vishwak6rma@gmail.com",
         "WRITE",
         {
          "mode": "Append",
          "partitionBy": "[]"
         },
         null,
         [
          "2949795871061122"
         ],
         "0319-143410-5sblc9tx",
         8,
         "WriteSerializable",
         true,
         {
          "numFiles": "1",
          "numOutputBytes": "822",
          "numOutputRows": "1"
         },
         null,
         "Databricks-Runtime/12.2.x-scala2.12"
        ],
        [
         8,
         "2025-03-19T14:58:28.000+0000",
         "6266574120803224",
         "sonu.vishwak6rma@gmail.com",
         "WRITE",
         {
          "mode": "Append",
          "partitionBy": "[]"
         },
         null,
         [
          "2949795871061122"
         ],
         "0319-143410-5sblc9tx",
         7,
         "WriteSerializable",
         true,
         {
          "numFiles": "1",
          "numOutputBytes": "829",
          "numOutputRows": "1"
         },
         null,
         "Databricks-Runtime/12.2.x-scala2.12"
        ],
        [
         7,
         "2025-03-19T14:58:06.000+0000",
         "6266574120803224",
         "sonu.vishwak6rma@gmail.com",
         "WRITE",
         {
          "mode": "Append",
          "partitionBy": "[]"
         },
         null,
         [
          "2949795871061122"
         ],
         "0319-143410-5sblc9tx",
         6,
         "WriteSerializable",
         true,
         {
          "numFiles": "1",
          "numOutputBytes": "815",
          "numOutputRows": "1"
         },
         null,
         "Databricks-Runtime/12.2.x-scala2.12"
        ],
        [
         6,
         "2025-03-19T14:57:41.000+0000",
         "6266574120803224",
         "sonu.vishwak6rma@gmail.com",
         "WRITE",
         {
          "mode": "Append",
          "partitionBy": "[]"
         },
         null,
         [
          "2949795871061122"
         ],
         "0319-143410-5sblc9tx",
         5,
         "WriteSerializable",
         true,
         {
          "numFiles": "1",
          "numOutputBytes": "815",
          "numOutputRows": "1"
         },
         null,
         "Databricks-Runtime/12.2.x-scala2.12"
        ],
        [
         5,
         "2025-03-19T14:57:24.000+0000",
         "6266574120803224",
         "sonu.vishwak6rma@gmail.com",
         "WRITE",
         {
          "mode": "Append",
          "partitionBy": "[]"
         },
         null,
         [
          "2949795871061122"
         ],
         "0319-143410-5sblc9tx",
         4,
         "WriteSerializable",
         true,
         {
          "numFiles": "1",
          "numOutputBytes": "814",
          "numOutputRows": "1"
         },
         null,
         "Databricks-Runtime/12.2.x-scala2.12"
        ],
        [
         4,
         "2025-03-19T14:55:21.000+0000",
         "6266574120803224",
         "sonu.vishwak6rma@gmail.com",
         "WRITE",
         {
          "mode": "Append",
          "partitionBy": "[]"
         },
         null,
         [
          "2949795871061122"
         ],
         "0319-143410-5sblc9tx",
         3,
         "WriteSerializable",
         true,
         {
          "numFiles": "1",
          "numOutputBytes": "829",
          "numOutputRows": "1"
         },
         null,
         "Databricks-Runtime/12.2.x-scala2.12"
        ],
        [
         3,
         "2025-03-19T14:55:03.000+0000",
         "6266574120803224",
         "sonu.vishwak6rma@gmail.com",
         "WRITE",
         {
          "mode": "Append",
          "partitionBy": "[]"
         },
         null,
         [
          "2949795871061122"
         ],
         "0319-143410-5sblc9tx",
         2,
         "WriteSerializable",
         true,
         {
          "numFiles": "1",
          "numOutputBytes": "822",
          "numOutputRows": "1"
         },
         null,
         "Databricks-Runtime/12.2.x-scala2.12"
        ],
        [
         2,
         "2025-03-19T14:54:46.000+0000",
         "6266574120803224",
         "sonu.vishwak6rma@gmail.com",
         "WRITE",
         {
          "mode": "Append",
          "partitionBy": "[]"
         },
         null,
         [
          "2949795871061122"
         ],
         "0319-143410-5sblc9tx",
         1,
         "WriteSerializable",
         true,
         {
          "numFiles": "1",
          "numOutputBytes": "843",
          "numOutputRows": "1"
         },
         null,
         "Databricks-Runtime/12.2.x-scala2.12"
        ],
        [
         1,
         "2025-03-19T14:54:17.000+0000",
         "6266574120803224",
         "sonu.vishwak6rma@gmail.com",
         "WRITE",
         {
          "mode": "Append",
          "partitionBy": "[]"
         },
         null,
         [
          "2949795871061122"
         ],
         "0319-143410-5sblc9tx",
         0,
         "WriteSerializable",
         true,
         {
          "numFiles": "1",
          "numOutputBytes": "815",
          "numOutputRows": "2"
         },
         null,
         "Databricks-Runtime/12.2.x-scala2.12"
        ],
        [
         0,
         "2025-03-19T14:54:09.000+0000",
         "6266574120803224",
         "sonu.vishwak6rma@gmail.com",
         "CREATE OR REPLACE TABLE",
         {
          "description": null,
          "isManaged": "false",
          "partitionBy": "[]",
          "properties": "{}"
         },
         null,
         [
          "2949795871061122"
         ],
         "0319-143410-5sblc9tx",
         null,
         "WriteSerializable",
         true,
         {},
         null,
         "Databricks-Runtime/12.2.x-scala2.12"
        ]
       ],
       "datasetInfos": [],
       "dbfsResultPath": null,
       "isJsonSchema": true,
       "metadata": {},
       "overflow": false,
       "plotOptions": {
        "customPlotOptions": {},
        "displayType": "table",
        "pivotAggregation": null,
        "pivotColumns": null,
        "xColumns": null,
        "yColumns": null
       },
       "removedWidgets": [],
       "schema": [
        {
         "metadata": "{}",
         "name": "version",
         "type": "\"long\""
        },
        {
         "metadata": "{}",
         "name": "timestamp",
         "type": "\"timestamp\""
        },
        {
         "metadata": "{}",
         "name": "userId",
         "type": "\"string\""
        },
        {
         "metadata": "{}",
         "name": "userName",
         "type": "\"string\""
        },
        {
         "metadata": "{}",
         "name": "operation",
         "type": "\"string\""
        },
        {
         "metadata": "{}",
         "name": "operationParameters",
         "type": "{\"type\":\"map\",\"keyType\":\"string\",\"valueType\":\"string\",\"valueContainsNull\":true}"
        },
        {
         "metadata": "{}",
         "name": "job",
         "type": "{\"type\":\"struct\",\"fields\":[{\"name\":\"jobId\",\"type\":\"string\",\"nullable\":true,\"metadata\":{}},{\"name\":\"jobName\",\"type\":\"string\",\"nullable\":true,\"metadata\":{}},{\"name\":\"jobRunId\",\"type\":\"string\",\"nullable\":true,\"metadata\":{}},{\"name\":\"runId\",\"type\":\"string\",\"nullable\":true,\"metadata\":{}},{\"name\":\"jobOwnerId\",\"type\":\"string\",\"nullable\":true,\"metadata\":{}},{\"name\":\"triggerType\",\"type\":\"string\",\"nullable\":true,\"metadata\":{}}]}"
        },
        {
         "metadata": "{}",
         "name": "notebook",
         "type": "{\"type\":\"struct\",\"fields\":[{\"name\":\"notebookId\",\"type\":\"string\",\"nullable\":true,\"metadata\":{}}]}"
        },
        {
         "metadata": "{}",
         "name": "clusterId",
         "type": "\"string\""
        },
        {
         "metadata": "{}",
         "name": "readVersion",
         "type": "\"long\""
        },
        {
         "metadata": "{}",
         "name": "isolationLevel",
         "type": "\"string\""
        },
        {
         "metadata": "{}",
         "name": "isBlindAppend",
         "type": "\"boolean\""
        },
        {
         "metadata": "{}",
         "name": "operationMetrics",
         "type": "{\"type\":\"map\",\"keyType\":\"string\",\"valueType\":\"string\",\"valueContainsNull\":true}"
        },
        {
         "metadata": "{}",
         "name": "userMetadata",
         "type": "\"string\""
        },
        {
         "metadata": "{}",
         "name": "engineInfo",
         "type": "\"string\""
        }
       ],
       "type": "table"
      }
     },
     "output_type": "display_data"
    }
   ],
   "source": [
    "%sql\n",
    "describe history arya"
   ]
  },
  {
   "cell_type": "code",
   "execution_count": 0,
   "metadata": {
    "application/vnd.databricks.v1+cell": {
     "cellMetadata": {
      "byteLimit": 2048000,
      "rowLimit": 10000
     },
     "inputWidgets": {},
     "nuid": "d7e83cf5-a1a8-4da3-bc5c-b8dc043cd4d9",
     "showTitle": false,
     "tableResultSettingsMap": {},
     "title": ""
    }
   },
   "outputs": [
    {
     "output_type": "stream",
     "name": "stdout",
     "output_type": "stream",
     "text": [
      "Out[40]: [FileInfo(path='dbfs:/FileStore/table/aryatable/_delta_log/.s3-optimization-0', name='.s3-optimization-0', size=0, modificationTime=1742396049000),\n FileInfo(path='dbfs:/FileStore/table/aryatable/_delta_log/.s3-optimization-1', name='.s3-optimization-1', size=0, modificationTime=1742396049000),\n FileInfo(path='dbfs:/FileStore/table/aryatable/_delta_log/.s3-optimization-2', name='.s3-optimization-2', size=0, modificationTime=1742396049000),\n FileInfo(path='dbfs:/FileStore/table/aryatable/_delta_log/00000000000000000000.crc', name='00000000000000000000.crc', size=1954, modificationTime=1742396053000),\n FileInfo(path='dbfs:/FileStore/table/aryatable/_delta_log/00000000000000000000.json', name='00000000000000000000.json', size=938, modificationTime=1742396049000),\n FileInfo(path='dbfs:/FileStore/table/aryatable/_delta_log/00000000000000000001.crc', name='00000000000000000001.crc', size=2437, modificationTime=1742396059000),\n FileInfo(path='dbfs:/FileStore/table/aryatable/_delta_log/00000000000000000001.json', name='00000000000000000001.json', size=1008, modificationTime=1742396057000),\n FileInfo(path='dbfs:/FileStore/table/aryatable/_delta_log/00000000000000000002.crc', name='00000000000000000002.crc', size=2927, modificationTime=1742396089000),\n FileInfo(path='dbfs:/FileStore/table/aryatable/_delta_log/00000000000000000002.json', name='00000000000000000002.json', size=1016, modificationTime=1742396086000),\n FileInfo(path='dbfs:/FileStore/table/aryatable/_delta_log/00000000000000000003.crc', name='00000000000000000003.crc', size=3409, modificationTime=1742396106000),\n FileInfo(path='dbfs:/FileStore/table/aryatable/_delta_log/00000000000000000003.json', name='00000000000000000003.json', size=1010, modificationTime=1742396103000),\n FileInfo(path='dbfs:/FileStore/table/aryatable/_delta_log/00000000000000000004.crc', name='00000000000000000004.crc', size=3893, modificationTime=1742396123000),\n FileInfo(path='dbfs:/FileStore/table/aryatable/_delta_log/00000000000000000004.json', name='00000000000000000004.json', size=1012, modificationTime=1742396121000),\n FileInfo(path='dbfs:/FileStore/table/aryatable/_delta_log/00000000000000000005.crc', name='00000000000000000005.crc', size=4373, modificationTime=1742396247000),\n FileInfo(path='dbfs:/FileStore/table/aryatable/_delta_log/00000000000000000005.json', name='00000000000000000005.json', size=1008, modificationTime=1742396244000),\n FileInfo(path='dbfs:/FileStore/table/aryatable/_delta_log/00000000000000000006.crc', name='00000000000000000006.crc', size=4853, modificationTime=1742396263000),\n FileInfo(path='dbfs:/FileStore/table/aryatable/_delta_log/00000000000000000006.json', name='00000000000000000006.json', size=1008, modificationTime=1742396261000),\n FileInfo(path='dbfs:/FileStore/table/aryatable/_delta_log/00000000000000000007.crc', name='00000000000000000007.crc', size=5333, modificationTime=1742396289000),\n FileInfo(path='dbfs:/FileStore/table/aryatable/_delta_log/00000000000000000007.json', name='00000000000000000007.json', size=1008, modificationTime=1742396286000),\n FileInfo(path='dbfs:/FileStore/table/aryatable/_delta_log/00000000000000000008.crc', name='00000000000000000008.crc', size=5817, modificationTime=1742396311000),\n FileInfo(path='dbfs:/FileStore/table/aryatable/_delta_log/00000000000000000008.json', name='00000000000000000008.json', size=1012, modificationTime=1742396308000),\n FileInfo(path='dbfs:/FileStore/table/aryatable/_delta_log/00000000000000000009.crc', name='00000000000000000009.crc', size=6301, modificationTime=1742396373000),\n FileInfo(path='dbfs:/FileStore/table/aryatable/_delta_log/00000000000000000009.json', name='00000000000000000009.json', size=1012, modificationTime=1742396371000),\n FileInfo(path='dbfs:/FileStore/table/aryatable/_delta_log/00000000000000000010.checkpoint.parquet', name='00000000000000000010.checkpoint.parquet', size=18359, modificationTime=1742396414000),\n FileInfo(path='dbfs:/FileStore/table/aryatable/_delta_log/00000000000000000010.crc', name='00000000000000000010.crc', size=6787, modificationTime=1742396412000),\n FileInfo(path='dbfs:/FileStore/table/aryatable/_delta_log/00000000000000000010.json', name='00000000000000000010.json', size=1012, modificationTime=1742396410000),\n FileInfo(path='dbfs:/FileStore/table/aryatable/_delta_log/00000000000000000011.crc', name='00000000000000000011.crc', size=2552, modificationTime=1742396482000),\n FileInfo(path='dbfs:/FileStore/table/aryatable/_delta_log/00000000000000000011.json', name='00000000000000000011.json', size=4956, modificationTime=1742396478000),\n FileInfo(path='dbfs:/FileStore/table/aryatable/_delta_log/_last_checkpoint', name='_last_checkpoint', size=5080, modificationTime=1742396414000)]"
     ]
    }
   ],
   "source": [
    "dbutils.fs.ls('dbfs:/FileStore/table/aryatable/_delta_log')"
   ]
  },
  {
   "cell_type": "code",
   "execution_count": 0,
   "metadata": {
    "application/vnd.databricks.v1+cell": {
     "cellMetadata": {},
     "inputWidgets": {},
     "nuid": "ddcab292-daa8-4ff2-b952-8f1ed0e7d322",
     "showTitle": false,
     "tableResultSettingsMap": {},
     "title": ""
    }
   },
   "outputs": [],
   "source": []
  }
 ],
 "metadata": {
  "application/vnd.databricks.v1+notebook": {
   "computePreferences": null,
   "dashboards": [],
   "environmentMetadata": {
    "base_environment": "",
    "environment_version": "1"
   },
   "inputWidgetPreferences": null,
   "language": "python",
   "notebookMetadata": {
    "mostRecentlyExecutedCommandWithImplicitDF": {
     "commandId": 1089792590102997,
     "dataframes": [
      "_sqldf"
     ]
    },
    "pythonIndentUnit": 4
   },
   "notebookName": "Untitled Notebook 2025-03-19 19:56:45",
   "widgets": {}
  }
 },
 "nbformat": 4,
 "nbformat_minor": 0
}
