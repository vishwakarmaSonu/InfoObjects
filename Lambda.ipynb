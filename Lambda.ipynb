{
 "cells": [
  {
   "cell_type": "markdown",
   "id": "2185a6dc-0c3d-4ea0-b035-a9ca037f94a6",
   "metadata": {},
   "source": [
    "# Lambda/Anonymous Function"
   ]
  },
  {
   "cell_type": "code",
   "execution_count": 2,
   "id": "89243353-92d1-4052-bcfd-ac8488f41735",
   "metadata": {},
   "outputs": [
    {
     "name": "stdout",
     "output_type": "stream",
     "text": [
      "Addition:  5\n"
     ]
    }
   ],
   "source": [
    "#Simple lambda function for addition\n",
    "add  = lambda x,y :x+y\n",
    "print(\"Addition: \",add(3,2))"
   ]
  },
  {
   "cell_type": "code",
   "execution_count": 4,
   "id": "f60aa856-0cac-41c8-955a-bc1d9b189ae0",
   "metadata": {},
   "outputs": [
    {
     "name": "stdout",
     "output_type": "stream",
     "text": [
      "Multiplication:  6\n"
     ]
    }
   ],
   "source": [
    "# multiplication\n",
    "mul = lambda a,b :a*b\n",
    "print(\"Multiplication: \",mul(3,2))"
   ]
  },
  {
   "cell_type": "code",
   "execution_count": 5,
   "id": "3896ff80-2f96-4b68-8b87-d1b3269d52c6",
   "metadata": {},
   "outputs": [
    {
     "name": "stdout",
     "output_type": "stream",
     "text": [
      "Squared Numbers: [1, 4, 9, 16, 25]\n"
     ]
    }
   ],
   "source": [
    "# Using lambda with map() to square numbers\n",
    "numbers = [1, 2, 3, 4, 5]\n",
    "squared_numbers = list(map(lambda x: x ** 2, numbers))\n",
    "print(\"Squared Numbers:\", squared_numbers)\n"
   ]
  },
  {
   "cell_type": "code",
   "execution_count": 6,
   "id": "64e486b1-657b-4e3d-b988-4a52439f9714",
   "metadata": {},
   "outputs": [
    {
     "name": "stdout",
     "output_type": "stream",
     "text": [
      "Even Numbers: [2, 4]\n"
     ]
    }
   ],
   "source": [
    "# Using lambda with filter() to get even numbers\n",
    "even_numbers = list(filter(lambda x: x % 2 == 0, numbers))\n",
    "print(\"Even Numbers:\", even_numbers)"
   ]
  },
  {
   "cell_type": "code",
   "execution_count": 7,
   "id": "16b0b909-328d-4bde-9974-260accb54d5f",
   "metadata": {},
   "outputs": [
    {
     "name": "stdout",
     "output_type": "stream",
     "text": [
      "Sorted by Second Element: [(4, 1), (3, 2), (1, 5)]\n"
     ]
    }
   ],
   "source": [
    "# Using lambda with sorted() to sort based on the second element\n",
    "pairs = [(1, 5), (3, 2), (4, 1)]\n",
    "sorted_pairs = sorted(pairs, key=lambda x: x[1])\n",
    "print(\"Sorted by Second Element:\", sorted_pairs)"
   ]
  },
  {
   "cell_type": "code",
   "execution_count": 8,
   "id": "fd5d3e90-ffbd-45c4-abe0-186e3b418aea",
   "metadata": {},
   "outputs": [
    {
     "name": "stdout",
     "output_type": "stream",
     "text": [
      "sum of number:  15\n"
     ]
    }
   ],
   "source": [
    "# reduce() function\n",
    "from functools import reduce\n",
    "num =[1,2,3,4,5]\n",
    "sum_res = reduce(lambda x,y:x+y,num)\n",
    "print(\"sum of number: \",sum_res)"
   ]
  },
  {
   "cell_type": "markdown",
   "id": "2172235e-e85e-40fb-88c3-0a18ac668964",
   "metadata": {},
   "source": [
    "# Q1 Create a lambda function that returns \"Yes\" if a number is greater than 10, and \"No\" otherwise."
   ]
  },
  {
   "cell_type": "code",
   "execution_count": 9,
   "id": "9b6bb7ee-464e-458b-a15f-cca86547927e",
   "metadata": {},
   "outputs": [
    {
     "name": "stdout",
     "output_type": "stream",
     "text": [
      "yes\n",
      "No\n",
      "No\n"
     ]
    }
   ],
   "source": [
    "che = lambda x:\"yes\" if x>10 else \"No\"\n",
    "print(che(15))  \n",
    "print(che(8))  \n",
    "print(che(10))  "
   ]
  },
  {
   "cell_type": "markdown",
   "id": "f181352a-011c-4743-8e32-8cd7edd7a1f9",
   "metadata": {},
   "source": [
    "# Q2 Use Lambda and map() to Add 2 to Each Number\n",
    "\n"
   ]
  },
  {
   "cell_type": "code",
   "execution_count": 10,
   "id": "3856c3b6-9194-4326-bf1b-3ff79f76e8fb",
   "metadata": {},
   "outputs": [
    {
     "name": "stdout",
     "output_type": "stream",
     "text": [
      "Updated Numbers: [3, 4, 5, 6, 7]\n"
     ]
    }
   ],
   "source": [
    "num = [1, 2, 3, 4, 5]\n",
    "\n",
    "upd = list(map(lambda x: x + 2, num))\n",
    "\n",
    "print(\"Updated Numbers:\", upd)\n"
   ]
  },
  {
   "cell_type": "markdown",
   "id": "3f8a1088-7538-4a13-aa18-eaeeafaa16a6",
   "metadata": {},
   "source": [
    "# Q3 Define a lambda function that multiplies two numbers."
   ]
  },
  {
   "cell_type": "code",
   "execution_count": 12,
   "id": "836302f7-03d4-4d2e-8a13-7deaaae56b8a",
   "metadata": {},
   "outputs": [
    {
     "name": "stdout",
     "output_type": "stream",
     "text": [
      "20\n",
      "21\n",
      "20\n"
     ]
    }
   ],
   "source": [
    "multiply = lambda x, y: x * y\n",
    "print(multiply(4, 5))  \n",
    "print(multiply(7, 3))  \n",
    "print(multiply(2, 10)) "
   ]
  },
  {
   "cell_type": "code",
   "execution_count": null,
   "id": "aa418f15-0fa8-44f0-a67c-77eecee9518f",
   "metadata": {},
   "outputs": [],
   "source": []
  }
 ],
 "metadata": {
  "kernelspec": {
   "display_name": "Python 3 (ipykernel)",
   "language": "python",
   "name": "python3"
  },
  "language_info": {
   "codemirror_mode": {
    "name": "ipython",
    "version": 3
   },
   "file_extension": ".py",
   "mimetype": "text/x-python",
   "name": "python",
   "nbconvert_exporter": "python",
   "pygments_lexer": "ipython3",
   "version": "3.13.2"
  },
  "widgets": {
   "application/vnd.jupyter.widget-state+json": {
    "state": {},
    "version_major": 2,
    "version_minor": 0
   }
  }
 },
 "nbformat": 4,
 "nbformat_minor": 5
}
