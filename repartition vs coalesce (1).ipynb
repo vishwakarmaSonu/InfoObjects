{
 "cells": [
  {
   "cell_type": "code",
   "execution_count": 0,
   "metadata": {
    "application/vnd.databricks.v1+cell": {
     "cellMetadata": {
      "byteLimit": 2048000,
      "rowLimit": 10000
     },
     "inputWidgets": {},
     "nuid": "01bba3ca-ea5c-4994-a9c4-b7ce1191ef0f",
     "showTitle": false,
     "tableResultSettingsMap": {},
     "title": ""
    }
   },
   "outputs": [
    {
     "output_type": "display_data",
     "data": {
      "text/html": [
       "<style scoped>\n",
       "  .table-result-container {\n",
       "    max-height: 300px;\n",
       "    overflow: auto;\n",
       "  }\n",
       "  table, th, td {\n",
       "    border: 1px solid black;\n",
       "    border-collapse: collapse;\n",
       "  }\n",
       "  th, td {\n",
       "    padding: 5px;\n",
       "  }\n",
       "  th {\n",
       "    text-align: left;\n",
       "  }\n",
       "</style><div class='table-result-container'><table class='table-result'><thead style='background-color: white'><tr><th>DEST_COUNTRY_NAME</th><th>ORIGIN_COUNTRY_NAME</th><th>count</th></tr></thead><tbody><tr><td>United States</td><td>Romania</td><td>15</td></tr><tr><td>United States</td><td>Croatia</td><td>1</td></tr><tr><td>United States</td><td>Ireland</td><td>344</td></tr><tr><td>Egypt</td><td>United States</td><td>15</td></tr><tr><td>United States</td><td>India</td><td>62</td></tr><tr><td>United States</td><td>Singapore</td><td>1</td></tr><tr><td>United States</td><td>Grenada</td><td>62</td></tr><tr><td>Costa Rica</td><td>United States</td><td>588</td></tr><tr><td>Senegal</td><td>United States</td><td>40</td></tr><tr><td>Moldova</td><td>United States</td><td>1</td></tr><tr><td>United States</td><td>Sint Maarten</td><td>325</td></tr><tr><td>United States</td><td>Marshall Islands</td><td>39</td></tr><tr><td>Guyana</td><td>United States</td><td>64</td></tr><tr><td>Malta</td><td>United States</td><td>1</td></tr><tr><td>Anguilla</td><td>United States</td><td>41</td></tr><tr><td>Bolivia</td><td>United States</td><td>30</td></tr><tr><td>United States</td><td>Paraguay</td><td>6</td></tr><tr><td>Algeria</td><td>United States</td><td>4</td></tr><tr><td>Turks and Caicos Islands</td><td>United States</td><td>230</td></tr><tr><td>United States</td><td>Gibraltar</td><td>1</td></tr><tr><td>Saint Vincent and the Grenadines</td><td>United States</td><td>1</td></tr><tr><td>Italy</td><td>United States</td><td>382</td></tr><tr><td>United States</td><td>Federated States of Micronesia</td><td>69</td></tr><tr><td>United States</td><td>Russia</td><td>161</td></tr><tr><td>Pakistan</td><td>United States</td><td>12</td></tr><tr><td>United States</td><td>Netherlands</td><td>660</td></tr><tr><td>Iceland</td><td>United States</td><td>181</td></tr><tr><td>Marshall Islands</td><td>United States</td><td>42</td></tr><tr><td>Luxembourg</td><td>United States</td><td>155</td></tr><tr><td>Honduras</td><td>United States</td><td>362</td></tr><tr><td>The Bahamas</td><td>United States</td><td>955</td></tr><tr><td>United States</td><td>Senegal</td><td>42</td></tr><tr><td>El Salvador</td><td>United States</td><td>561</td></tr><tr><td>Samoa</td><td>United States</td><td>25</td></tr><tr><td>United States</td><td>Angola</td><td>13</td></tr><tr><td>Switzerland</td><td>United States</td><td>294</td></tr><tr><td>United States</td><td>Anguilla</td><td>38</td></tr><tr><td>Sint Maarten</td><td>United States</td><td>325</td></tr><tr><td>Hong Kong</td><td>United States</td><td>332</td></tr><tr><td>Trinidad and Tobago</td><td>United States</td><td>211</td></tr><tr><td>Latvia</td><td>United States</td><td>19</td></tr><tr><td>United States</td><td>Ecuador</td><td>300</td></tr><tr><td>Suriname</td><td>United States</td><td>1</td></tr><tr><td>Mexico</td><td>United States</td><td>7140</td></tr><tr><td>United States</td><td>Cyprus</td><td>1</td></tr><tr><td>Ecuador</td><td>United States</td><td>268</td></tr><tr><td>United States</td><td>Portugal</td><td>134</td></tr><tr><td>United States</td><td>Costa Rica</td><td>608</td></tr><tr><td>United States</td><td>Guatemala</td><td>318</td></tr><tr><td>United States</td><td>Suriname</td><td>34</td></tr><tr><td>Colombia</td><td>United States</td><td>873</td></tr><tr><td>United States</td><td>Cape Verde</td><td>14</td></tr><tr><td>United States</td><td>Jamaica</td><td>712</td></tr><tr><td>Norway</td><td>United States</td><td>121</td></tr><tr><td>United States</td><td>Malaysia</td><td>3</td></tr><tr><td>United States</td><td>Morocco</td><td>19</td></tr><tr><td>Thailand</td><td>United States</td><td>3</td></tr><tr><td>United States</td><td>Samoa</td><td>25</td></tr><tr><td>Venezuela</td><td>United States</td><td>290</td></tr><tr><td>United States</td><td>Palau</td><td>31</td></tr><tr><td>United States</td><td>Venezuela</td><td>246</td></tr><tr><td>Panama</td><td>United States</td><td>510</td></tr><tr><td>Antigua and Barbuda</td><td>United States</td><td>126</td></tr><tr><td>United States</td><td>Chile</td><td>185</td></tr><tr><td>Morocco</td><td>United States</td><td>15</td></tr><tr><td>United States</td><td>Finland</td><td>28</td></tr><tr><td>Azerbaijan</td><td>United States</td><td>21</td></tr><tr><td>United States</td><td>Greece</td><td>23</td></tr><tr><td>United States</td><td>The Bahamas</td><td>986</td></tr><tr><td>New Zealand</td><td>United States</td><td>111</td></tr><tr><td>Liberia</td><td>United States</td><td>2</td></tr><tr><td>United States</td><td>Hong Kong</td><td>414</td></tr><tr><td>Hungary</td><td>United States</td><td>2</td></tr><tr><td>United States</td><td>China</td><td>920</td></tr><tr><td>United States</td><td>Vietnam</td><td>2</td></tr><tr><td>Burkina Faso</td><td>United States</td><td>1</td></tr><tr><td>Sweden</td><td>United States</td><td>118</td></tr><tr><td>United States</td><td>Kuwait</td><td>28</td></tr><tr><td>United States</td><td>Dominican Republic</td><td>1420</td></tr><tr><td>United States</td><td>Egypt</td><td>12</td></tr><tr><td>Israel</td><td>United States</td><td>134</td></tr><tr><td>United States</td><td>United States</td><td>370002</td></tr><tr><td>Ethiopia</td><td>United States</td><td>13</td></tr><tr><td>United States</td><td>Luxembourg</td><td>134</td></tr><tr><td>United States</td><td>Poland</td><td>33</td></tr><tr><td>Martinique</td><td>United States</td><td>44</td></tr><tr><td>United States</td><td>Saint Barthelemy</td><td>41</td></tr><tr><td>Saint Barthelemy</td><td>United States</td><td>39</td></tr><tr><td>Barbados</td><td>United States</td><td>154</td></tr><tr><td>United States</td><td>Turkey</td><td>129</td></tr><tr><td>Djibouti</td><td>United States</td><td>1</td></tr><tr><td>United States</td><td>Azerbaijan</td><td>21</td></tr><tr><td>United States</td><td>Estonia</td><td>1</td></tr><tr><td>Germany</td><td>United States</td><td>1468</td></tr><tr><td>United States</td><td>South Korea</td><td>827</td></tr><tr><td>United States</td><td>El Salvador</td><td>508</td></tr><tr><td>Ireland</td><td>United States</td><td>335</td></tr><tr><td>United States</td><td>Hungary</td><td>3</td></tr><tr><td>Zambia</td><td>United States</td><td>1</td></tr><tr><td>Malaysia</td><td>United States</td><td>2</td></tr><tr><td>United States</td><td>Ethiopia</td><td>12</td></tr><tr><td>United States</td><td>Panama</td><td>465</td></tr><tr><td>United States</td><td>Aruba</td><td>342</td></tr><tr><td>United States</td><td>Thailand</td><td>4</td></tr><tr><td>United States</td><td>Turks and Caicos Islands</td><td>236</td></tr><tr><td>Croatia</td><td>United States</td><td>2</td></tr><tr><td>United States</td><td>Pakistan</td><td>12</td></tr><tr><td>Cyprus</td><td>United States</td><td>1</td></tr><tr><td>United States</td><td>Honduras</td><td>407</td></tr><tr><td>Fiji</td><td>United States</td><td>24</td></tr><tr><td>Qatar</td><td>United States</td><td>108</td></tr><tr><td>Saint Kitts and Nevis</td><td>United States</td><td>139</td></tr><tr><td>Kuwait</td><td>United States</td><td>32</td></tr><tr><td>Taiwan</td><td>United States</td><td>266</td></tr><tr><td>Haiti</td><td>United States</td><td>226</td></tr><tr><td>Canada</td><td>United States</td><td>8399</td></tr><tr><td>Federated States of Micronesia</td><td>United States</td><td>69</td></tr><tr><td>United States</td><td>Liberia</td><td>2</td></tr><tr><td>Jamaica</td><td>United States</td><td>666</td></tr><tr><td>United States</td><td>Malta</td><td>2</td></tr><tr><td>Dominican Republic</td><td>United States</td><td>1353</td></tr><tr><td>Japan</td><td>United States</td><td>1548</td></tr><tr><td>United States</td><td>Lithuania</td><td>1</td></tr><tr><td>Finland</td><td>United States</td><td>26</td></tr><tr><td>United States</td><td>Guadeloupe</td><td>59</td></tr><tr><td>United States</td><td>Ukraine</td><td>13</td></tr><tr><td>United States</td><td>France</td><td>952</td></tr><tr><td>United States</td><td>Norway</td><td>115</td></tr><tr><td>Aruba</td><td>United States</td><td>346</td></tr><tr><td>French Guiana</td><td>United States</td><td>5</td></tr><tr><td>United States</td><td>Kiribati</td><td>35</td></tr><tr><td>India</td><td>United States</td><td>61</td></tr><tr><td>British Virgin Islands</td><td>United States</td><td>107</td></tr><tr><td>Brazil</td><td>United States</td><td>853</td></tr><tr><td>United States</td><td>Germany</td><td>1336</td></tr><tr><td>United States</td><td>New Zealand</td><td>74</td></tr><tr><td>French Polynesia</td><td>United States</td><td>43</td></tr><tr><td>United Arab Emirates</td><td>United States</td><td>320</td></tr><tr><td>Singapore</td><td>United States</td><td>3</td></tr><tr><td>United States</td><td>Mexico</td><td>7187</td></tr><tr><td>United States</td><td>Sweden</td><td>119</td></tr><tr><td>Netherlands</td><td>United States</td><td>776</td></tr><tr><td>United States</td><td>Martinique</td><td>43</td></tr><tr><td>United States</td><td>United Arab Emirates</td><td>313</td></tr><tr><td>United States</td><td>Bulgaria</td><td>1</td></tr><tr><td>Denmark</td><td>United States</td><td>153</td></tr><tr><td>China</td><td>United States</td><td>772</td></tr><tr><td>United States</td><td>Nicaragua</td><td>201</td></tr><tr><td>United States</td><td>Philippines</td><td>126</td></tr><tr><td>United States</td><td>Georgia</td><td>1</td></tr><tr><td>United States</td><td>Belgium</td><td>228</td></tr><tr><td>Cayman Islands</td><td>United States</td><td>314</td></tr><tr><td>Argentina</td><td>United States</td><td>180</td></tr><tr><td>Peru</td><td>United States</td><td>279</td></tr><tr><td>South Africa</td><td>United States</td><td>36</td></tr><tr><td>United States</td><td>Iceland</td><td>202</td></tr><tr><td>United States</td><td>Argentina</td><td>141</td></tr><tr><td>Spain</td><td>United States</td><td>420</td></tr><tr><td>Bermuda</td><td>United States</td><td>183</td></tr><tr><td>United States</td><td>Nigeria</td><td>50</td></tr><tr><td>United States</td><td>Austria</td><td>63</td></tr><tr><td>United States</td><td>Bonaire, Sint Eustatius, and Saba</td><td>59</td></tr><tr><td>Kiribati</td><td>United States</td><td>26</td></tr><tr><td>Saudi Arabia</td><td>United States</td><td>83</td></tr><tr><td>Czech Republic</td><td>United States</td><td>13</td></tr><tr><td>United States</td><td>Israel</td><td>127</td></tr><tr><td>Belgium</td><td>United States</td><td>259</td></tr><tr><td>United States</td><td>Saint Lucia</td><td>136</td></tr><tr><td>United States</td><td>Bahrain</td><td>1</td></tr><tr><td>United States</td><td>British Virgin Islands</td><td>80</td></tr><tr><td>Curacao</td><td>United States</td><td>90</td></tr><tr><td>Georgia</td><td>United States</td><td>2</td></tr><tr><td>United States</td><td>Denmark</td><td>152</td></tr><tr><td>United States</td><td>Guyana</td><td>63</td></tr><tr><td>Philippines</td><td>United States</td><td>134</td></tr><tr><td>Grenada</td><td>United States</td><td>53</td></tr><tr><td>Cape Verde</td><td>United States</td><td>20</td></tr><tr><td>Cote d'Ivoire</td><td>United States</td><td>1</td></tr><tr><td>Ukraine</td><td>United States</td><td>14</td></tr><tr><td>United States</td><td>Papua New Guinea</td><td>1</td></tr><tr><td>Russia</td><td>United States</td><td>176</td></tr><tr><td>United States</td><td>Saudi Arabia</td><td>70</td></tr><tr><td>Guatemala</td><td>United States</td><td>397</td></tr><tr><td>Saint Lucia</td><td>United States</td><td>123</td></tr><tr><td>Paraguay</td><td>United States</td><td>60</td></tr><tr><td>United States</td><td>Curacao</td><td>83</td></tr><tr><td>Kosovo</td><td>United States</td><td>1</td></tr><tr><td>United States</td><td>Taiwan</td><td>235</td></tr><tr><td>Tunisia</td><td>United States</td><td>3</td></tr><tr><td>United States</td><td>South Africa</td><td>40</td></tr><tr><td>Niger</td><td>United States</td><td>2</td></tr><tr><td>Turkey</td><td>United States</td><td>138</td></tr><tr><td>United Kingdom</td><td>United States</td><td>2025</td></tr><tr><td>Romania</td><td>United States</td><td>14</td></tr><tr><td>United States</td><td>Greenland</td><td>4</td></tr><tr><td>Papua New Guinea</td><td>United States</td><td>3</td></tr><tr><td>United States</td><td>Spain</td><td>442</td></tr><tr><td>Iraq</td><td>United States</td><td>1</td></tr><tr><td>United States</td><td>Italy</td><td>438</td></tr><tr><td>Cuba</td><td>United States</td><td>466</td></tr><tr><td>United States</td><td>Switzerland</td><td>305</td></tr><tr><td>Dominica</td><td>United States</td><td>20</td></tr><tr><td>United States</td><td>Japan</td><td>1496</td></tr><tr><td>Portugal</td><td>United States</td><td>127</td></tr><tr><td>United States</td><td>Brazil</td><td>619</td></tr><tr><td>Bahrain</td><td>United States</td><td>19</td></tr><tr><td>United States</td><td>Peru</td><td>337</td></tr><tr><td>Indonesia</td><td>United States</td><td>1</td></tr><tr><td>United States</td><td>Belize</td><td>193</td></tr><tr><td>United States</td><td>United Kingdom</td><td>1970</td></tr><tr><td>Belize</td><td>United States</td><td>188</td></tr><tr><td>United States</td><td>Ghana</td><td>20</td></tr><tr><td>United States</td><td>Indonesia</td><td>2</td></tr><tr><td>United States</td><td>Fiji</td><td>25</td></tr><tr><td>United States</td><td>Canada</td><td>8483</td></tr><tr><td>United States</td><td>Antigua and Barbuda</td><td>117</td></tr><tr><td>United States</td><td>French Polynesia</td><td>40</td></tr><tr><td>Nicaragua</td><td>United States</td><td>179</td></tr><tr><td>United States</td><td>Latvia</td><td>15</td></tr><tr><td>United States</td><td>Dominica</td><td>27</td></tr><tr><td>United States</td><td>Czech Republic</td><td>12</td></tr><tr><td>United States</td><td>Australia</td><td>258</td></tr><tr><td>United States</td><td>Cook Islands</td><td>13</td></tr><tr><td>Austria</td><td>United States</td><td>62</td></tr><tr><td>Jordan</td><td>United States</td><td>44</td></tr><tr><td>Palau</td><td>United States</td><td>30</td></tr><tr><td>South Korea</td><td>United States</td><td>1048</td></tr><tr><td>Angola</td><td>United States</td><td>15</td></tr><tr><td>Ghana</td><td>United States</td><td>18</td></tr><tr><td>New Caledonia</td><td>United States</td><td>1</td></tr><tr><td>Guadeloupe</td><td>United States</td><td>56</td></tr><tr><td>France</td><td>United States</td><td>935</td></tr><tr><td>Poland</td><td>United States</td><td>32</td></tr><tr><td>Nigeria</td><td>United States</td><td>59</td></tr><tr><td>United States</td><td>Uruguay</td><td>13</td></tr><tr><td>Greenland</td><td>United States</td><td>2</td></tr><tr><td>United States</td><td>Bermuda</td><td>193</td></tr><tr><td>Chile</td><td>United States</td><td>174</td></tr><tr><td>United States</td><td>Cuba</td><td>478</td></tr><tr><td>United States</td><td>Montenegro</td><td>1</td></tr><tr><td>United States</td><td>Colombia</td><td>867</td></tr><tr><td>United States</td><td>Barbados</td><td>130</td></tr><tr><td>United States</td><td>Qatar</td><td>109</td></tr><tr><td>Australia</td><td>United States</td><td>329</td></tr><tr><td>United States</td><td>Cayman Islands</td><td>310</td></tr><tr><td>United States</td><td>Jordan</td><td>44</td></tr><tr><td>United States</td><td>Namibia</td><td>1</td></tr><tr><td>United States</td><td>Trinidad and Tobago</td><td>217</td></tr><tr><td>United States</td><td>Bolivia</td><td>13</td></tr><tr><td>Cook Islands</td><td>United States</td><td>13</td></tr><tr><td>Bulgaria</td><td>United States</td><td>3</td></tr><tr><td>United States</td><td>Saint Kitts and Nevis</td><td>145</td></tr><tr><td>Uruguay</td><td>United States</td><td>43</td></tr><tr><td>United States</td><td>Haiti</td><td>225</td></tr><tr><td>Bonaire, Sint Eustatius, and Saba</td><td>United States</td><td>58</td></tr><tr><td>Greece</td><td>United States</td><td>30</td></tr></tbody></table></div>"
      ]
     },
     "metadata": {
      "application/vnd.databricks.v1+output": {
       "addedWidgets": {},
       "aggData": [],
       "aggError": "",
       "aggOverflow": false,
       "aggSchema": [],
       "aggSeriesLimitReached": false,
       "aggType": "",
       "arguments": {},
       "columnCustomDisplayInfos": {},
       "data": [
        [
         "United States",
         "Romania",
         15
        ],
        [
         "United States",
         "Croatia",
         1
        ],
        [
         "United States",
         "Ireland",
         344
        ],
        [
         "Egypt",
         "United States",
         15
        ],
        [
         "United States",
         "India",
         62
        ],
        [
         "United States",
         "Singapore",
         1
        ],
        [
         "United States",
         "Grenada",
         62
        ],
        [
         "Costa Rica",
         "United States",
         588
        ],
        [
         "Senegal",
         "United States",
         40
        ],
        [
         "Moldova",
         "United States",
         1
        ],
        [
         "United States",
         "Sint Maarten",
         325
        ],
        [
         "United States",
         "Marshall Islands",
         39
        ],
        [
         "Guyana",
         "United States",
         64
        ],
        [
         "Malta",
         "United States",
         1
        ],
        [
         "Anguilla",
         "United States",
         41
        ],
        [
         "Bolivia",
         "United States",
         30
        ],
        [
         "United States",
         "Paraguay",
         6
        ],
        [
         "Algeria",
         "United States",
         4
        ],
        [
         "Turks and Caicos Islands",
         "United States",
         230
        ],
        [
         "United States",
         "Gibraltar",
         1
        ],
        [
         "Saint Vincent and the Grenadines",
         "United States",
         1
        ],
        [
         "Italy",
         "United States",
         382
        ],
        [
         "United States",
         "Federated States of Micronesia",
         69
        ],
        [
         "United States",
         "Russia",
         161
        ],
        [
         "Pakistan",
         "United States",
         12
        ],
        [
         "United States",
         "Netherlands",
         660
        ],
        [
         "Iceland",
         "United States",
         181
        ],
        [
         "Marshall Islands",
         "United States",
         42
        ],
        [
         "Luxembourg",
         "United States",
         155
        ],
        [
         "Honduras",
         "United States",
         362
        ],
        [
         "The Bahamas",
         "United States",
         955
        ],
        [
         "United States",
         "Senegal",
         42
        ],
        [
         "El Salvador",
         "United States",
         561
        ],
        [
         "Samoa",
         "United States",
         25
        ],
        [
         "United States",
         "Angola",
         13
        ],
        [
         "Switzerland",
         "United States",
         294
        ],
        [
         "United States",
         "Anguilla",
         38
        ],
        [
         "Sint Maarten",
         "United States",
         325
        ],
        [
         "Hong Kong",
         "United States",
         332
        ],
        [
         "Trinidad and Tobago",
         "United States",
         211
        ],
        [
         "Latvia",
         "United States",
         19
        ],
        [
         "United States",
         "Ecuador",
         300
        ],
        [
         "Suriname",
         "United States",
         1
        ],
        [
         "Mexico",
         "United States",
         7140
        ],
        [
         "United States",
         "Cyprus",
         1
        ],
        [
         "Ecuador",
         "United States",
         268
        ],
        [
         "United States",
         "Portugal",
         134
        ],
        [
         "United States",
         "Costa Rica",
         608
        ],
        [
         "United States",
         "Guatemala",
         318
        ],
        [
         "United States",
         "Suriname",
         34
        ],
        [
         "Colombia",
         "United States",
         873
        ],
        [
         "United States",
         "Cape Verde",
         14
        ],
        [
         "United States",
         "Jamaica",
         712
        ],
        [
         "Norway",
         "United States",
         121
        ],
        [
         "United States",
         "Malaysia",
         3
        ],
        [
         "United States",
         "Morocco",
         19
        ],
        [
         "Thailand",
         "United States",
         3
        ],
        [
         "United States",
         "Samoa",
         25
        ],
        [
         "Venezuela",
         "United States",
         290
        ],
        [
         "United States",
         "Palau",
         31
        ],
        [
         "United States",
         "Venezuela",
         246
        ],
        [
         "Panama",
         "United States",
         510
        ],
        [
         "Antigua and Barbuda",
         "United States",
         126
        ],
        [
         "United States",
         "Chile",
         185
        ],
        [
         "Morocco",
         "United States",
         15
        ],
        [
         "United States",
         "Finland",
         28
        ],
        [
         "Azerbaijan",
         "United States",
         21
        ],
        [
         "United States",
         "Greece",
         23
        ],
        [
         "United States",
         "The Bahamas",
         986
        ],
        [
         "New Zealand",
         "United States",
         111
        ],
        [
         "Liberia",
         "United States",
         2
        ],
        [
         "United States",
         "Hong Kong",
         414
        ],
        [
         "Hungary",
         "United States",
         2
        ],
        [
         "United States",
         "China",
         920
        ],
        [
         "United States",
         "Vietnam",
         2
        ],
        [
         "Burkina Faso",
         "United States",
         1
        ],
        [
         "Sweden",
         "United States",
         118
        ],
        [
         "United States",
         "Kuwait",
         28
        ],
        [
         "United States",
         "Dominican Republic",
         1420
        ],
        [
         "United States",
         "Egypt",
         12
        ],
        [
         "Israel",
         "United States",
         134
        ],
        [
         "United States",
         "United States",
         370002
        ],
        [
         "Ethiopia",
         "United States",
         13
        ],
        [
         "United States",
         "Luxembourg",
         134
        ],
        [
         "United States",
         "Poland",
         33
        ],
        [
         "Martinique",
         "United States",
         44
        ],
        [
         "United States",
         "Saint Barthelemy",
         41
        ],
        [
         "Saint Barthelemy",
         "United States",
         39
        ],
        [
         "Barbados",
         "United States",
         154
        ],
        [
         "United States",
         "Turkey",
         129
        ],
        [
         "Djibouti",
         "United States",
         1
        ],
        [
         "United States",
         "Azerbaijan",
         21
        ],
        [
         "United States",
         "Estonia",
         1
        ],
        [
         "Germany",
         "United States",
         1468
        ],
        [
         "United States",
         "South Korea",
         827
        ],
        [
         "United States",
         "El Salvador",
         508
        ],
        [
         "Ireland",
         "United States",
         335
        ],
        [
         "United States",
         "Hungary",
         3
        ],
        [
         "Zambia",
         "United States",
         1
        ],
        [
         "Malaysia",
         "United States",
         2
        ],
        [
         "United States",
         "Ethiopia",
         12
        ],
        [
         "United States",
         "Panama",
         465
        ],
        [
         "United States",
         "Aruba",
         342
        ],
        [
         "United States",
         "Thailand",
         4
        ],
        [
         "United States",
         "Turks and Caicos Islands",
         236
        ],
        [
         "Croatia",
         "United States",
         2
        ],
        [
         "United States",
         "Pakistan",
         12
        ],
        [
         "Cyprus",
         "United States",
         1
        ],
        [
         "United States",
         "Honduras",
         407
        ],
        [
         "Fiji",
         "United States",
         24
        ],
        [
         "Qatar",
         "United States",
         108
        ],
        [
         "Saint Kitts and Nevis",
         "United States",
         139
        ],
        [
         "Kuwait",
         "United States",
         32
        ],
        [
         "Taiwan",
         "United States",
         266
        ],
        [
         "Haiti",
         "United States",
         226
        ],
        [
         "Canada",
         "United States",
         8399
        ],
        [
         "Federated States of Micronesia",
         "United States",
         69
        ],
        [
         "United States",
         "Liberia",
         2
        ],
        [
         "Jamaica",
         "United States",
         666
        ],
        [
         "United States",
         "Malta",
         2
        ],
        [
         "Dominican Republic",
         "United States",
         1353
        ],
        [
         "Japan",
         "United States",
         1548
        ],
        [
         "United States",
         "Lithuania",
         1
        ],
        [
         "Finland",
         "United States",
         26
        ],
        [
         "United States",
         "Guadeloupe",
         59
        ],
        [
         "United States",
         "Ukraine",
         13
        ],
        [
         "United States",
         "France",
         952
        ],
        [
         "United States",
         "Norway",
         115
        ],
        [
         "Aruba",
         "United States",
         346
        ],
        [
         "French Guiana",
         "United States",
         5
        ],
        [
         "United States",
         "Kiribati",
         35
        ],
        [
         "India",
         "United States",
         61
        ],
        [
         "British Virgin Islands",
         "United States",
         107
        ],
        [
         "Brazil",
         "United States",
         853
        ],
        [
         "United States",
         "Germany",
         1336
        ],
        [
         "United States",
         "New Zealand",
         74
        ],
        [
         "French Polynesia",
         "United States",
         43
        ],
        [
         "United Arab Emirates",
         "United States",
         320
        ],
        [
         "Singapore",
         "United States",
         3
        ],
        [
         "United States",
         "Mexico",
         7187
        ],
        [
         "United States",
         "Sweden",
         119
        ],
        [
         "Netherlands",
         "United States",
         776
        ],
        [
         "United States",
         "Martinique",
         43
        ],
        [
         "United States",
         "United Arab Emirates",
         313
        ],
        [
         "United States",
         "Bulgaria",
         1
        ],
        [
         "Denmark",
         "United States",
         153
        ],
        [
         "China",
         "United States",
         772
        ],
        [
         "United States",
         "Nicaragua",
         201
        ],
        [
         "United States",
         "Philippines",
         126
        ],
        [
         "United States",
         "Georgia",
         1
        ],
        [
         "United States",
         "Belgium",
         228
        ],
        [
         "Cayman Islands",
         "United States",
         314
        ],
        [
         "Argentina",
         "United States",
         180
        ],
        [
         "Peru",
         "United States",
         279
        ],
        [
         "South Africa",
         "United States",
         36
        ],
        [
         "United States",
         "Iceland",
         202
        ],
        [
         "United States",
         "Argentina",
         141
        ],
        [
         "Spain",
         "United States",
         420
        ],
        [
         "Bermuda",
         "United States",
         183
        ],
        [
         "United States",
         "Nigeria",
         50
        ],
        [
         "United States",
         "Austria",
         63
        ],
        [
         "United States",
         "Bonaire, Sint Eustatius, and Saba",
         59
        ],
        [
         "Kiribati",
         "United States",
         26
        ],
        [
         "Saudi Arabia",
         "United States",
         83
        ],
        [
         "Czech Republic",
         "United States",
         13
        ],
        [
         "United States",
         "Israel",
         127
        ],
        [
         "Belgium",
         "United States",
         259
        ],
        [
         "United States",
         "Saint Lucia",
         136
        ],
        [
         "United States",
         "Bahrain",
         1
        ],
        [
         "United States",
         "British Virgin Islands",
         80
        ],
        [
         "Curacao",
         "United States",
         90
        ],
        [
         "Georgia",
         "United States",
         2
        ],
        [
         "United States",
         "Denmark",
         152
        ],
        [
         "United States",
         "Guyana",
         63
        ],
        [
         "Philippines",
         "United States",
         134
        ],
        [
         "Grenada",
         "United States",
         53
        ],
        [
         "Cape Verde",
         "United States",
         20
        ],
        [
         "Cote d'Ivoire",
         "United States",
         1
        ],
        [
         "Ukraine",
         "United States",
         14
        ],
        [
         "United States",
         "Papua New Guinea",
         1
        ],
        [
         "Russia",
         "United States",
         176
        ],
        [
         "United States",
         "Saudi Arabia",
         70
        ],
        [
         "Guatemala",
         "United States",
         397
        ],
        [
         "Saint Lucia",
         "United States",
         123
        ],
        [
         "Paraguay",
         "United States",
         60
        ],
        [
         "United States",
         "Curacao",
         83
        ],
        [
         "Kosovo",
         "United States",
         1
        ],
        [
         "United States",
         "Taiwan",
         235
        ],
        [
         "Tunisia",
         "United States",
         3
        ],
        [
         "United States",
         "South Africa",
         40
        ],
        [
         "Niger",
         "United States",
         2
        ],
        [
         "Turkey",
         "United States",
         138
        ],
        [
         "United Kingdom",
         "United States",
         2025
        ],
        [
         "Romania",
         "United States",
         14
        ],
        [
         "United States",
         "Greenland",
         4
        ],
        [
         "Papua New Guinea",
         "United States",
         3
        ],
        [
         "United States",
         "Spain",
         442
        ],
        [
         "Iraq",
         "United States",
         1
        ],
        [
         "United States",
         "Italy",
         438
        ],
        [
         "Cuba",
         "United States",
         466
        ],
        [
         "United States",
         "Switzerland",
         305
        ],
        [
         "Dominica",
         "United States",
         20
        ],
        [
         "United States",
         "Japan",
         1496
        ],
        [
         "Portugal",
         "United States",
         127
        ],
        [
         "United States",
         "Brazil",
         619
        ],
        [
         "Bahrain",
         "United States",
         19
        ],
        [
         "United States",
         "Peru",
         337
        ],
        [
         "Indonesia",
         "United States",
         1
        ],
        [
         "United States",
         "Belize",
         193
        ],
        [
         "United States",
         "United Kingdom",
         1970
        ],
        [
         "Belize",
         "United States",
         188
        ],
        [
         "United States",
         "Ghana",
         20
        ],
        [
         "United States",
         "Indonesia",
         2
        ],
        [
         "United States",
         "Fiji",
         25
        ],
        [
         "United States",
         "Canada",
         8483
        ],
        [
         "United States",
         "Antigua and Barbuda",
         117
        ],
        [
         "United States",
         "French Polynesia",
         40
        ],
        [
         "Nicaragua",
         "United States",
         179
        ],
        [
         "United States",
         "Latvia",
         15
        ],
        [
         "United States",
         "Dominica",
         27
        ],
        [
         "United States",
         "Czech Republic",
         12
        ],
        [
         "United States",
         "Australia",
         258
        ],
        [
         "United States",
         "Cook Islands",
         13
        ],
        [
         "Austria",
         "United States",
         62
        ],
        [
         "Jordan",
         "United States",
         44
        ],
        [
         "Palau",
         "United States",
         30
        ],
        [
         "South Korea",
         "United States",
         1048
        ],
        [
         "Angola",
         "United States",
         15
        ],
        [
         "Ghana",
         "United States",
         18
        ],
        [
         "New Caledonia",
         "United States",
         1
        ],
        [
         "Guadeloupe",
         "United States",
         56
        ],
        [
         "France",
         "United States",
         935
        ],
        [
         "Poland",
         "United States",
         32
        ],
        [
         "Nigeria",
         "United States",
         59
        ],
        [
         "United States",
         "Uruguay",
         13
        ],
        [
         "Greenland",
         "United States",
         2
        ],
        [
         "United States",
         "Bermuda",
         193
        ],
        [
         "Chile",
         "United States",
         174
        ],
        [
         "United States",
         "Cuba",
         478
        ],
        [
         "United States",
         "Montenegro",
         1
        ],
        [
         "United States",
         "Colombia",
         867
        ],
        [
         "United States",
         "Barbados",
         130
        ],
        [
         "United States",
         "Qatar",
         109
        ],
        [
         "Australia",
         "United States",
         329
        ],
        [
         "United States",
         "Cayman Islands",
         310
        ],
        [
         "United States",
         "Jordan",
         44
        ],
        [
         "United States",
         "Namibia",
         1
        ],
        [
         "United States",
         "Trinidad and Tobago",
         217
        ],
        [
         "United States",
         "Bolivia",
         13
        ],
        [
         "Cook Islands",
         "United States",
         13
        ],
        [
         "Bulgaria",
         "United States",
         3
        ],
        [
         "United States",
         "Saint Kitts and Nevis",
         145
        ],
        [
         "Uruguay",
         "United States",
         43
        ],
        [
         "United States",
         "Haiti",
         225
        ],
        [
         "Bonaire, Sint Eustatius, and Saba",
         "United States",
         58
        ],
        [
         "Greece",
         "United States",
         30
        ]
       ],
       "datasetInfos": [],
       "dbfsResultPath": null,
       "isJsonSchema": true,
       "metadata": {},
       "overflow": false,
       "plotOptions": {
        "customPlotOptions": {},
        "displayType": "table",
        "pivotAggregation": null,
        "pivotColumns": null,
        "xColumns": null,
        "yColumns": null
       },
       "removedWidgets": [],
       "schema": [
        {
         "metadata": "{}",
         "name": "DEST_COUNTRY_NAME",
         "type": "\"string\""
        },
        {
         "metadata": "{}",
         "name": "ORIGIN_COUNTRY_NAME",
         "type": "\"string\""
        },
        {
         "metadata": "{}",
         "name": "count",
         "type": "\"integer\""
        }
       ],
       "type": "table"
      }
     },
     "output_type": "display_data"
    }
   ],
   "source": [
    "df = spark.read.format(\"csv\") \\\n",
    "    .option(\"header\", \"true\") \\\n",
    "    .option(\"inferSchema\", \"true\") \\\n",
    "    .load(\"/FileStore/2015_summary.csv\")\n",
    "\n",
    "df.display()\n"
   ]
  },
  {
   "cell_type": "code",
   "execution_count": 0,
   "metadata": {
    "application/vnd.databricks.v1+cell": {
     "cellMetadata": {
      "byteLimit": 2048000,
      "rowLimit": 10000
     },
     "inputWidgets": {},
     "nuid": "b5a8c122-1c89-4055-acee-71130f484806",
     "showTitle": false,
     "tableResultSettingsMap": {},
     "title": ""
    }
   },
   "outputs": [
    {
     "output_type": "stream",
     "name": "stdout",
     "output_type": "stream",
     "text": [
      "Out[5]: 256"
     ]
    }
   ],
   "source": [
    "df.count()"
   ]
  },
  {
   "cell_type": "markdown",
   "metadata": {
    "application/vnd.databricks.v1+cell": {
     "cellMetadata": {},
     "inputWidgets": {},
     "nuid": "ecdf7fa6-a737-48e1-8444-b18e0c5db90d",
     "showTitle": false,
     "tableResultSettingsMap": {},
     "title": ""
    }
   },
   "source": [
    "##### to get the partition that is not directly get from dataframe . firstly we need to change it into RDD"
   ]
  },
  {
   "cell_type": "code",
   "execution_count": 0,
   "metadata": {
    "application/vnd.databricks.v1+cell": {
     "cellMetadata": {
      "byteLimit": 2048000,
      "rowLimit": 10000
     },
     "inputWidgets": {},
     "nuid": "b9e47c67-8ba7-4714-b4ec-aa123d2fe587",
     "showTitle": false,
     "tableResultSettingsMap": {},
     "title": ""
    }
   },
   "outputs": [
    {
     "output_type": "stream",
     "name": "stdout",
     "output_type": "stream",
     "text": [
      "Out[7]: 1"
     ]
    }
   ],
   "source": [
    "df.rdd.getNumPartitions()\n",
    "# here one partition with 128 MB by default"
   ]
  },
  {
   "cell_type": "code",
   "execution_count": 0,
   "metadata": {
    "application/vnd.databricks.v1+cell": {
     "cellMetadata": {
      "byteLimit": 2048000,
      "rowLimit": 10000
     },
     "inputWidgets": {},
     "nuid": "ef74b128-a5e0-4cf8-831a-39bb67274715",
     "showTitle": false,
     "tableResultSettingsMap": {},
     "title": ""
    }
   },
   "outputs": [],
   "source": [
    "dfs = df.repartition(4)"
   ]
  },
  {
   "cell_type": "code",
   "execution_count": 0,
   "metadata": {
    "application/vnd.databricks.v1+cell": {
     "cellMetadata": {
      "byteLimit": 2048000,
      "rowLimit": 10000
     },
     "inputWidgets": {},
     "nuid": "93bb80d3-ff54-4b88-b68d-d9aebe55b6a0",
     "showTitle": false,
     "tableResultSettingsMap": {},
     "title": ""
    }
   },
   "outputs": [],
   "source": [
    "from pyspark.sql.functions import *\n",
    "from pyspark.sql.types import *"
   ]
  },
  {
   "cell_type": "code",
   "execution_count": 0,
   "metadata": {
    "application/vnd.databricks.v1+cell": {
     "cellMetadata": {
      "byteLimit": 2048000,
      "rowLimit": 10000
     },
     "inputWidgets": {},
     "nuid": "837456e8-e6f5-41ee-8fe2-c2be67e3e300",
     "showTitle": false,
     "tableResultSettingsMap": {},
     "title": ""
    }
   },
   "outputs": [
    {
     "output_type": "display_data",
     "data": {
      "text/html": [
       "<style scoped>\n",
       "  .table-result-container {\n",
       "    max-height: 300px;\n",
       "    overflow: auto;\n",
       "  }\n",
       "  table, th, td {\n",
       "    border: 1px solid black;\n",
       "    border-collapse: collapse;\n",
       "  }\n",
       "  th, td {\n",
       "    padding: 5px;\n",
       "  }\n",
       "  th {\n",
       "    text-align: left;\n",
       "  }\n",
       "</style><div class='table-result-container'><table class='table-result'><thead style='background-color: white'><tr><th>partitionID</th><th>count</th></tr></thead><tbody><tr><td>0</td><td>64</td></tr><tr><td>1</td><td>64</td></tr><tr><td>2</td><td>64</td></tr><tr><td>3</td><td>64</td></tr></tbody></table></div>"
      ]
     },
     "metadata": {
      "application/vnd.databricks.v1+output": {
       "addedWidgets": {},
       "aggData": [],
       "aggError": "",
       "aggOverflow": false,
       "aggSchema": [],
       "aggSeriesLimitReached": false,
       "aggType": "",
       "arguments": {},
       "columnCustomDisplayInfos": {},
       "data": [
        [
         0,
         64
        ],
        [
         1,
         64
        ],
        [
         2,
         64
        ],
        [
         3,
         64
        ]
       ],
       "datasetInfos": [],
       "dbfsResultPath": null,
       "isJsonSchema": true,
       "metadata": {},
       "overflow": false,
       "plotOptions": {
        "customPlotOptions": {},
        "displayType": "table",
        "pivotAggregation": null,
        "pivotColumns": null,
        "xColumns": null,
        "yColumns": null
       },
       "removedWidgets": [],
       "schema": [
        {
         "metadata": "{}",
         "name": "partitionID",
         "type": "\"integer\""
        },
        {
         "metadata": "{}",
         "name": "count",
         "type": "\"long\""
        }
       ],
       "type": "table"
      }
     },
     "output_type": "display_data"
    }
   ],
   "source": [
    "dfs.withColumn('partitionID',spark_partition_id()).groupBy('partitionID').count().display()"
   ]
  },
  {
   "cell_type": "code",
   "execution_count": 0,
   "metadata": {
    "application/vnd.databricks.v1+cell": {
     "cellMetadata": {
      "byteLimit": 2048000,
      "rowLimit": 10000
     },
     "inputWidgets": {},
     "nuid": "aee0bffd-cc41-4523-b7cd-7c1768853f25",
     "showTitle": false,
     "tableResultSettingsMap": {},
     "title": ""
    }
   },
   "outputs": [],
   "source": [
    "par_on_column = df.repartition(300,'ORIGIN_COUNTRY_NAME')"
   ]
  },
  {
   "cell_type": "code",
   "execution_count": 0,
   "metadata": {
    "application/vnd.databricks.v1+cell": {
     "cellMetadata": {
      "byteLimit": 2048000,
      "rowLimit": 10000
     },
     "inputWidgets": {},
     "nuid": "4634cc91-4152-4b4b-a169-0858ccc358a2",
     "showTitle": false,
     "tableResultSettingsMap": {},
     "title": ""
    }
   },
   "outputs": [
    {
     "output_type": "stream",
     "name": "stdout",
     "output_type": "stream",
     "text": [
      "Out[12]: 300"
     ]
    }
   ],
   "source": [
    "par_on_column.rdd.getNumPartitions()"
   ]
  },
  {
   "cell_type": "code",
   "execution_count": 0,
   "metadata": {
    "application/vnd.databricks.v1+cell": {
     "cellMetadata": {
      "byteLimit": 2048000,
      "rowLimit": 10000
     },
     "inputWidgets": {},
     "nuid": "71031350-dfbb-4b78-81b5-5db97e8c097c",
     "showTitle": false,
     "tableResultSettingsMap": {},
     "title": ""
    }
   },
   "outputs": [
    {
     "output_type": "display_data",
     "data": {
      "text/html": [
       "<style scoped>\n",
       "  .table-result-container {\n",
       "    max-height: 300px;\n",
       "    overflow: auto;\n",
       "  }\n",
       "  table, th, td {\n",
       "    border: 1px solid black;\n",
       "    border-collapse: collapse;\n",
       "  }\n",
       "  th, td {\n",
       "    padding: 5px;\n",
       "  }\n",
       "  th {\n",
       "    text-align: left;\n",
       "  }\n",
       "</style><div class='table-result-container'><table class='table-result'><thead style='background-color: white'><tr><th>partitionID</th><th>count</th></tr></thead><tbody><tr><td>0</td><td>1</td></tr><tr><td>2</td><td>2</td></tr><tr><td>7</td><td>1</td></tr><tr><td>10</td><td>1</td></tr><tr><td>13</td><td>1</td></tr><tr><td>15</td><td>2</td></tr><tr><td>16</td><td>2</td></tr><tr><td>19</td><td>2</td></tr><tr><td>22</td><td>1</td></tr><tr><td>28</td><td>1</td></tr><tr><td>31</td><td>1</td></tr><tr><td>39</td><td>1</td></tr><tr><td>43</td><td>1</td></tr><tr><td>44</td><td>1</td></tr><tr><td>45</td><td>2</td></tr><tr><td>48</td><td>1</td></tr><tr><td>53</td><td>1</td></tr><tr><td>55</td><td>1</td></tr><tr><td>65</td><td>1</td></tr><tr><td>70</td><td>1</td></tr><tr><td>73</td><td>2</td></tr><tr><td>75</td><td>1</td></tr><tr><td>76</td><td>1</td></tr><tr><td>81</td><td>1</td></tr><tr><td>84</td><td>2</td></tr><tr><td>86</td><td>1</td></tr><tr><td>87</td><td>1</td></tr><tr><td>90</td><td>1</td></tr><tr><td>91</td><td>1</td></tr><tr><td>97</td><td>2</td></tr><tr><td>100</td><td>1</td></tr><tr><td>103</td><td>2</td></tr><tr><td>104</td><td>1</td></tr><tr><td>108</td><td>1</td></tr><tr><td>112</td><td>2</td></tr><tr><td>115</td><td>1</td></tr><tr><td>117</td><td>2</td></tr><tr><td>126</td><td>1</td></tr><tr><td>127</td><td>2</td></tr><tr><td>129</td><td>1</td></tr><tr><td>130</td><td>2</td></tr><tr><td>132</td><td>1</td></tr><tr><td>133</td><td>1</td></tr><tr><td>138</td><td>2</td></tr><tr><td>144</td><td>1</td></tr><tr><td>148</td><td>1</td></tr><tr><td>156</td><td>2</td></tr><tr><td>157</td><td>1</td></tr><tr><td>159</td><td>2</td></tr><tr><td>162</td><td>1</td></tr><tr><td>165</td><td>1</td></tr><tr><td>174</td><td>1</td></tr><tr><td>175</td><td>1</td></tr><tr><td>178</td><td>1</td></tr><tr><td>181</td><td>1</td></tr><tr><td>185</td><td>2</td></tr><tr><td>188</td><td>1</td></tr><tr><td>201</td><td>1</td></tr><tr><td>202</td><td>1</td></tr><tr><td>204</td><td>2</td></tr><tr><td>209</td><td>1</td></tr><tr><td>210</td><td>1</td></tr><tr><td>213</td><td>2</td></tr><tr><td>215</td><td>1</td></tr><tr><td>219</td><td>1</td></tr><tr><td>220</td><td>1</td></tr><tr><td>221</td><td>1</td></tr><tr><td>223</td><td>1</td></tr><tr><td>226</td><td>1</td></tr><tr><td>230</td><td>1</td></tr><tr><td>231</td><td>1</td></tr><tr><td>238</td><td>2</td></tr><tr><td>242</td><td>1</td></tr><tr><td>243</td><td>1</td></tr><tr><td>245</td><td>1</td></tr><tr><td>251</td><td>1</td></tr><tr><td>254</td><td>1</td></tr><tr><td>256</td><td>1</td></tr><tr><td>257</td><td>1</td></tr><tr><td>258</td><td>1</td></tr><tr><td>259</td><td>133</td></tr><tr><td>262</td><td>2</td></tr><tr><td>263</td><td>1</td></tr><tr><td>267</td><td>1</td></tr><tr><td>268</td><td>1</td></tr><tr><td>269</td><td>1</td></tr><tr><td>271</td><td>1</td></tr><tr><td>272</td><td>1</td></tr><tr><td>275</td><td>1</td></tr><tr><td>276</td><td>1</td></tr><tr><td>277</td><td>2</td></tr><tr><td>280</td><td>2</td></tr><tr><td>281</td><td>1</td></tr><tr><td>283</td><td>1</td></tr><tr><td>286</td><td>1</td></tr><tr><td>288</td><td>1</td></tr><tr><td>290</td><td>1</td></tr><tr><td>295</td><td>2</td></tr><tr><td>296</td><td>1</td></tr><tr><td>299</td><td>1</td></tr></tbody></table></div>"
      ]
     },
     "metadata": {
      "application/vnd.databricks.v1+output": {
       "addedWidgets": {},
       "aggData": [],
       "aggError": "",
       "aggOverflow": false,
       "aggSchema": [],
       "aggSeriesLimitReached": false,
       "aggType": "",
       "arguments": {},
       "columnCustomDisplayInfos": {},
       "data": [
        [
         0,
         1
        ],
        [
         2,
         2
        ],
        [
         7,
         1
        ],
        [
         10,
         1
        ],
        [
         13,
         1
        ],
        [
         15,
         2
        ],
        [
         16,
         2
        ],
        [
         19,
         2
        ],
        [
         22,
         1
        ],
        [
         28,
         1
        ],
        [
         31,
         1
        ],
        [
         39,
         1
        ],
        [
         43,
         1
        ],
        [
         44,
         1
        ],
        [
         45,
         2
        ],
        [
         48,
         1
        ],
        [
         53,
         1
        ],
        [
         55,
         1
        ],
        [
         65,
         1
        ],
        [
         70,
         1
        ],
        [
         73,
         2
        ],
        [
         75,
         1
        ],
        [
         76,
         1
        ],
        [
         81,
         1
        ],
        [
         84,
         2
        ],
        [
         86,
         1
        ],
        [
         87,
         1
        ],
        [
         90,
         1
        ],
        [
         91,
         1
        ],
        [
         97,
         2
        ],
        [
         100,
         1
        ],
        [
         103,
         2
        ],
        [
         104,
         1
        ],
        [
         108,
         1
        ],
        [
         112,
         2
        ],
        [
         115,
         1
        ],
        [
         117,
         2
        ],
        [
         126,
         1
        ],
        [
         127,
         2
        ],
        [
         129,
         1
        ],
        [
         130,
         2
        ],
        [
         132,
         1
        ],
        [
         133,
         1
        ],
        [
         138,
         2
        ],
        [
         144,
         1
        ],
        [
         148,
         1
        ],
        [
         156,
         2
        ],
        [
         157,
         1
        ],
        [
         159,
         2
        ],
        [
         162,
         1
        ],
        [
         165,
         1
        ],
        [
         174,
         1
        ],
        [
         175,
         1
        ],
        [
         178,
         1
        ],
        [
         181,
         1
        ],
        [
         185,
         2
        ],
        [
         188,
         1
        ],
        [
         201,
         1
        ],
        [
         202,
         1
        ],
        [
         204,
         2
        ],
        [
         209,
         1
        ],
        [
         210,
         1
        ],
        [
         213,
         2
        ],
        [
         215,
         1
        ],
        [
         219,
         1
        ],
        [
         220,
         1
        ],
        [
         221,
         1
        ],
        [
         223,
         1
        ],
        [
         226,
         1
        ],
        [
         230,
         1
        ],
        [
         231,
         1
        ],
        [
         238,
         2
        ],
        [
         242,
         1
        ],
        [
         243,
         1
        ],
        [
         245,
         1
        ],
        [
         251,
         1
        ],
        [
         254,
         1
        ],
        [
         256,
         1
        ],
        [
         257,
         1
        ],
        [
         258,
         1
        ],
        [
         259,
         133
        ],
        [
         262,
         2
        ],
        [
         263,
         1
        ],
        [
         267,
         1
        ],
        [
         268,
         1
        ],
        [
         269,
         1
        ],
        [
         271,
         1
        ],
        [
         272,
         1
        ],
        [
         275,
         1
        ],
        [
         276,
         1
        ],
        [
         277,
         2
        ],
        [
         280,
         2
        ],
        [
         281,
         1
        ],
        [
         283,
         1
        ],
        [
         286,
         1
        ],
        [
         288,
         1
        ],
        [
         290,
         1
        ],
        [
         295,
         2
        ],
        [
         296,
         1
        ],
        [
         299,
         1
        ]
       ],
       "datasetInfos": [],
       "dbfsResultPath": null,
       "isJsonSchema": true,
       "metadata": {},
       "overflow": false,
       "plotOptions": {
        "customPlotOptions": {},
        "displayType": "table",
        "pivotAggregation": null,
        "pivotColumns": null,
        "xColumns": null,
        "yColumns": null
       },
       "removedWidgets": [],
       "schema": [
        {
         "metadata": "{}",
         "name": "partitionID",
         "type": "\"integer\""
        },
        {
         "metadata": "{}",
         "name": "count",
         "type": "\"long\""
        }
       ],
       "type": "table"
      }
     },
     "output_type": "display_data"
    }
   ],
   "source": [
    "par_on_column.withColumn('partitionID',spark_partition_id()).groupBy('partitionID').count().display()"
   ]
  },
  {
   "cell_type": "code",
   "execution_count": 0,
   "metadata": {
    "application/vnd.databricks.v1+cell": {
     "cellMetadata": {
      "byteLimit": 2048000,
      "rowLimit": 10000
     },
     "inputWidgets": {},
     "nuid": "adf3a1bc-f5e8-4677-adef-669eaf7babb2",
     "showTitle": false,
     "tableResultSettingsMap": {},
     "title": ""
    }
   },
   "outputs": [
    {
     "output_type": "display_data",
     "data": {
      "text/html": [
       "<style scoped>\n",
       "  .table-result-container {\n",
       "    max-height: 300px;\n",
       "    overflow: auto;\n",
       "  }\n",
       "  table, th, td {\n",
       "    border: 1px solid black;\n",
       "    border-collapse: collapse;\n",
       "  }\n",
       "  th, td {\n",
       "    padding: 5px;\n",
       "  }\n",
       "  th {\n",
       "    text-align: left;\n",
       "  }\n",
       "</style><div class='table-result-container'><table class='table-result'><thead style='background-color: white'><tr><th>DEST_COUNTRY_NAME</th><th>ORIGIN_COUNTRY_NAME</th><th>count</th></tr></thead><tbody><tr><td>United States</td><td>Romania</td><td>15</td></tr><tr><td>United States</td><td>Croatia</td><td>1</td></tr><tr><td>United States</td><td>Ireland</td><td>344</td></tr><tr><td>Egypt</td><td>United States</td><td>15</td></tr><tr><td>United States</td><td>India</td><td>62</td></tr><tr><td>United States</td><td>Singapore</td><td>1</td></tr><tr><td>United States</td><td>Grenada</td><td>62</td></tr><tr><td>Costa Rica</td><td>United States</td><td>588</td></tr><tr><td>Senegal</td><td>United States</td><td>40</td></tr><tr><td>Moldova</td><td>United States</td><td>1</td></tr><tr><td>United States</td><td>Sint Maarten</td><td>325</td></tr><tr><td>United States</td><td>Marshall Islands</td><td>39</td></tr><tr><td>Guyana</td><td>United States</td><td>64</td></tr><tr><td>Malta</td><td>United States</td><td>1</td></tr><tr><td>Anguilla</td><td>United States</td><td>41</td></tr><tr><td>Bolivia</td><td>United States</td><td>30</td></tr><tr><td>United States</td><td>Paraguay</td><td>6</td></tr><tr><td>Algeria</td><td>United States</td><td>4</td></tr><tr><td>Turks and Caicos Islands</td><td>United States</td><td>230</td></tr><tr><td>United States</td><td>Gibraltar</td><td>1</td></tr><tr><td>Saint Vincent and the Grenadines</td><td>United States</td><td>1</td></tr><tr><td>Italy</td><td>United States</td><td>382</td></tr><tr><td>United States</td><td>Federated States of Micronesia</td><td>69</td></tr><tr><td>United States</td><td>Russia</td><td>161</td></tr><tr><td>Pakistan</td><td>United States</td><td>12</td></tr><tr><td>United States</td><td>Netherlands</td><td>660</td></tr><tr><td>Iceland</td><td>United States</td><td>181</td></tr><tr><td>Marshall Islands</td><td>United States</td><td>42</td></tr><tr><td>Luxembourg</td><td>United States</td><td>155</td></tr><tr><td>Honduras</td><td>United States</td><td>362</td></tr><tr><td>The Bahamas</td><td>United States</td><td>955</td></tr><tr><td>United States</td><td>Senegal</td><td>42</td></tr><tr><td>El Salvador</td><td>United States</td><td>561</td></tr><tr><td>Samoa</td><td>United States</td><td>25</td></tr><tr><td>United States</td><td>Angola</td><td>13</td></tr><tr><td>Switzerland</td><td>United States</td><td>294</td></tr><tr><td>United States</td><td>Anguilla</td><td>38</td></tr><tr><td>Sint Maarten</td><td>United States</td><td>325</td></tr><tr><td>Hong Kong</td><td>United States</td><td>332</td></tr><tr><td>Trinidad and Tobago</td><td>United States</td><td>211</td></tr><tr><td>Latvia</td><td>United States</td><td>19</td></tr><tr><td>United States</td><td>Ecuador</td><td>300</td></tr><tr><td>Suriname</td><td>United States</td><td>1</td></tr><tr><td>Mexico</td><td>United States</td><td>7140</td></tr><tr><td>United States</td><td>Cyprus</td><td>1</td></tr><tr><td>Ecuador</td><td>United States</td><td>268</td></tr><tr><td>United States</td><td>Portugal</td><td>134</td></tr><tr><td>United States</td><td>Costa Rica</td><td>608</td></tr><tr><td>United States</td><td>Guatemala</td><td>318</td></tr><tr><td>United States</td><td>Suriname</td><td>34</td></tr><tr><td>Colombia</td><td>United States</td><td>873</td></tr><tr><td>United States</td><td>Cape Verde</td><td>14</td></tr><tr><td>United States</td><td>Jamaica</td><td>712</td></tr><tr><td>Norway</td><td>United States</td><td>121</td></tr><tr><td>United States</td><td>Malaysia</td><td>3</td></tr><tr><td>United States</td><td>Morocco</td><td>19</td></tr><tr><td>Thailand</td><td>United States</td><td>3</td></tr><tr><td>United States</td><td>Samoa</td><td>25</td></tr><tr><td>Venezuela</td><td>United States</td><td>290</td></tr><tr><td>United States</td><td>Palau</td><td>31</td></tr><tr><td>United States</td><td>Venezuela</td><td>246</td></tr><tr><td>Panama</td><td>United States</td><td>510</td></tr><tr><td>Antigua and Barbuda</td><td>United States</td><td>126</td></tr><tr><td>United States</td><td>Chile</td><td>185</td></tr><tr><td>Morocco</td><td>United States</td><td>15</td></tr><tr><td>United States</td><td>Finland</td><td>28</td></tr><tr><td>Azerbaijan</td><td>United States</td><td>21</td></tr><tr><td>United States</td><td>Greece</td><td>23</td></tr><tr><td>United States</td><td>The Bahamas</td><td>986</td></tr><tr><td>New Zealand</td><td>United States</td><td>111</td></tr><tr><td>Liberia</td><td>United States</td><td>2</td></tr><tr><td>United States</td><td>Hong Kong</td><td>414</td></tr><tr><td>Hungary</td><td>United States</td><td>2</td></tr><tr><td>United States</td><td>China</td><td>920</td></tr><tr><td>United States</td><td>Vietnam</td><td>2</td></tr><tr><td>Burkina Faso</td><td>United States</td><td>1</td></tr><tr><td>Sweden</td><td>United States</td><td>118</td></tr><tr><td>United States</td><td>Kuwait</td><td>28</td></tr><tr><td>United States</td><td>Dominican Republic</td><td>1420</td></tr><tr><td>United States</td><td>Egypt</td><td>12</td></tr><tr><td>Israel</td><td>United States</td><td>134</td></tr><tr><td>United States</td><td>United States</td><td>370002</td></tr><tr><td>Ethiopia</td><td>United States</td><td>13</td></tr><tr><td>United States</td><td>Luxembourg</td><td>134</td></tr><tr><td>United States</td><td>Poland</td><td>33</td></tr><tr><td>Martinique</td><td>United States</td><td>44</td></tr><tr><td>United States</td><td>Saint Barthelemy</td><td>41</td></tr><tr><td>Saint Barthelemy</td><td>United States</td><td>39</td></tr><tr><td>Barbados</td><td>United States</td><td>154</td></tr><tr><td>United States</td><td>Turkey</td><td>129</td></tr><tr><td>Djibouti</td><td>United States</td><td>1</td></tr><tr><td>United States</td><td>Azerbaijan</td><td>21</td></tr><tr><td>United States</td><td>Estonia</td><td>1</td></tr><tr><td>Germany</td><td>United States</td><td>1468</td></tr><tr><td>United States</td><td>South Korea</td><td>827</td></tr><tr><td>United States</td><td>El Salvador</td><td>508</td></tr><tr><td>Ireland</td><td>United States</td><td>335</td></tr><tr><td>United States</td><td>Hungary</td><td>3</td></tr><tr><td>Zambia</td><td>United States</td><td>1</td></tr><tr><td>Malaysia</td><td>United States</td><td>2</td></tr><tr><td>United States</td><td>Ethiopia</td><td>12</td></tr><tr><td>United States</td><td>Panama</td><td>465</td></tr><tr><td>United States</td><td>Aruba</td><td>342</td></tr><tr><td>United States</td><td>Thailand</td><td>4</td></tr><tr><td>United States</td><td>Turks and Caicos Islands</td><td>236</td></tr><tr><td>Croatia</td><td>United States</td><td>2</td></tr><tr><td>United States</td><td>Pakistan</td><td>12</td></tr><tr><td>Cyprus</td><td>United States</td><td>1</td></tr><tr><td>United States</td><td>Honduras</td><td>407</td></tr><tr><td>Fiji</td><td>United States</td><td>24</td></tr><tr><td>Qatar</td><td>United States</td><td>108</td></tr><tr><td>Saint Kitts and Nevis</td><td>United States</td><td>139</td></tr><tr><td>Kuwait</td><td>United States</td><td>32</td></tr><tr><td>Taiwan</td><td>United States</td><td>266</td></tr><tr><td>Haiti</td><td>United States</td><td>226</td></tr><tr><td>Canada</td><td>United States</td><td>8399</td></tr><tr><td>Federated States of Micronesia</td><td>United States</td><td>69</td></tr><tr><td>United States</td><td>Liberia</td><td>2</td></tr><tr><td>Jamaica</td><td>United States</td><td>666</td></tr><tr><td>United States</td><td>Malta</td><td>2</td></tr><tr><td>Dominican Republic</td><td>United States</td><td>1353</td></tr><tr><td>Japan</td><td>United States</td><td>1548</td></tr><tr><td>United States</td><td>Lithuania</td><td>1</td></tr><tr><td>Finland</td><td>United States</td><td>26</td></tr><tr><td>United States</td><td>Guadeloupe</td><td>59</td></tr><tr><td>United States</td><td>Ukraine</td><td>13</td></tr><tr><td>United States</td><td>France</td><td>952</td></tr><tr><td>United States</td><td>Norway</td><td>115</td></tr><tr><td>Aruba</td><td>United States</td><td>346</td></tr><tr><td>French Guiana</td><td>United States</td><td>5</td></tr><tr><td>United States</td><td>Kiribati</td><td>35</td></tr><tr><td>India</td><td>United States</td><td>61</td></tr><tr><td>British Virgin Islands</td><td>United States</td><td>107</td></tr><tr><td>Brazil</td><td>United States</td><td>853</td></tr><tr><td>United States</td><td>Germany</td><td>1336</td></tr><tr><td>United States</td><td>New Zealand</td><td>74</td></tr><tr><td>French Polynesia</td><td>United States</td><td>43</td></tr><tr><td>United Arab Emirates</td><td>United States</td><td>320</td></tr><tr><td>Singapore</td><td>United States</td><td>3</td></tr><tr><td>United States</td><td>Mexico</td><td>7187</td></tr><tr><td>United States</td><td>Sweden</td><td>119</td></tr><tr><td>Netherlands</td><td>United States</td><td>776</td></tr><tr><td>United States</td><td>Martinique</td><td>43</td></tr><tr><td>United States</td><td>United Arab Emirates</td><td>313</td></tr><tr><td>United States</td><td>Bulgaria</td><td>1</td></tr><tr><td>Denmark</td><td>United States</td><td>153</td></tr><tr><td>China</td><td>United States</td><td>772</td></tr><tr><td>United States</td><td>Nicaragua</td><td>201</td></tr><tr><td>United States</td><td>Philippines</td><td>126</td></tr><tr><td>United States</td><td>Georgia</td><td>1</td></tr><tr><td>United States</td><td>Belgium</td><td>228</td></tr><tr><td>Cayman Islands</td><td>United States</td><td>314</td></tr><tr><td>Argentina</td><td>United States</td><td>180</td></tr><tr><td>Peru</td><td>United States</td><td>279</td></tr><tr><td>South Africa</td><td>United States</td><td>36</td></tr><tr><td>United States</td><td>Iceland</td><td>202</td></tr><tr><td>United States</td><td>Argentina</td><td>141</td></tr><tr><td>Spain</td><td>United States</td><td>420</td></tr><tr><td>Bermuda</td><td>United States</td><td>183</td></tr><tr><td>United States</td><td>Nigeria</td><td>50</td></tr><tr><td>United States</td><td>Austria</td><td>63</td></tr><tr><td>United States</td><td>Bonaire, Sint Eustatius, and Saba</td><td>59</td></tr><tr><td>Kiribati</td><td>United States</td><td>26</td></tr><tr><td>Saudi Arabia</td><td>United States</td><td>83</td></tr><tr><td>Czech Republic</td><td>United States</td><td>13</td></tr><tr><td>United States</td><td>Israel</td><td>127</td></tr><tr><td>Belgium</td><td>United States</td><td>259</td></tr><tr><td>United States</td><td>Saint Lucia</td><td>136</td></tr><tr><td>United States</td><td>Bahrain</td><td>1</td></tr><tr><td>United States</td><td>British Virgin Islands</td><td>80</td></tr><tr><td>Curacao</td><td>United States</td><td>90</td></tr><tr><td>Georgia</td><td>United States</td><td>2</td></tr><tr><td>United States</td><td>Denmark</td><td>152</td></tr><tr><td>United States</td><td>Guyana</td><td>63</td></tr><tr><td>Philippines</td><td>United States</td><td>134</td></tr><tr><td>Grenada</td><td>United States</td><td>53</td></tr><tr><td>Cape Verde</td><td>United States</td><td>20</td></tr><tr><td>Cote d'Ivoire</td><td>United States</td><td>1</td></tr><tr><td>Ukraine</td><td>United States</td><td>14</td></tr><tr><td>United States</td><td>Papua New Guinea</td><td>1</td></tr><tr><td>Russia</td><td>United States</td><td>176</td></tr><tr><td>United States</td><td>Saudi Arabia</td><td>70</td></tr><tr><td>Guatemala</td><td>United States</td><td>397</td></tr><tr><td>Saint Lucia</td><td>United States</td><td>123</td></tr><tr><td>Paraguay</td><td>United States</td><td>60</td></tr><tr><td>United States</td><td>Curacao</td><td>83</td></tr><tr><td>Kosovo</td><td>United States</td><td>1</td></tr><tr><td>United States</td><td>Taiwan</td><td>235</td></tr><tr><td>Tunisia</td><td>United States</td><td>3</td></tr><tr><td>United States</td><td>South Africa</td><td>40</td></tr><tr><td>Niger</td><td>United States</td><td>2</td></tr><tr><td>Turkey</td><td>United States</td><td>138</td></tr><tr><td>United Kingdom</td><td>United States</td><td>2025</td></tr><tr><td>Romania</td><td>United States</td><td>14</td></tr><tr><td>United States</td><td>Greenland</td><td>4</td></tr><tr><td>Papua New Guinea</td><td>United States</td><td>3</td></tr><tr><td>United States</td><td>Spain</td><td>442</td></tr><tr><td>Iraq</td><td>United States</td><td>1</td></tr><tr><td>United States</td><td>Italy</td><td>438</td></tr><tr><td>Cuba</td><td>United States</td><td>466</td></tr><tr><td>United States</td><td>Switzerland</td><td>305</td></tr><tr><td>Dominica</td><td>United States</td><td>20</td></tr><tr><td>United States</td><td>Japan</td><td>1496</td></tr><tr><td>Portugal</td><td>United States</td><td>127</td></tr><tr><td>United States</td><td>Brazil</td><td>619</td></tr><tr><td>Bahrain</td><td>United States</td><td>19</td></tr><tr><td>United States</td><td>Peru</td><td>337</td></tr><tr><td>Indonesia</td><td>United States</td><td>1</td></tr><tr><td>United States</td><td>Belize</td><td>193</td></tr><tr><td>United States</td><td>United Kingdom</td><td>1970</td></tr><tr><td>Belize</td><td>United States</td><td>188</td></tr><tr><td>United States</td><td>Ghana</td><td>20</td></tr><tr><td>United States</td><td>Indonesia</td><td>2</td></tr><tr><td>United States</td><td>Fiji</td><td>25</td></tr><tr><td>United States</td><td>Canada</td><td>8483</td></tr><tr><td>United States</td><td>Antigua and Barbuda</td><td>117</td></tr><tr><td>United States</td><td>French Polynesia</td><td>40</td></tr><tr><td>Nicaragua</td><td>United States</td><td>179</td></tr><tr><td>United States</td><td>Latvia</td><td>15</td></tr><tr><td>United States</td><td>Dominica</td><td>27</td></tr><tr><td>United States</td><td>Czech Republic</td><td>12</td></tr><tr><td>United States</td><td>Australia</td><td>258</td></tr><tr><td>United States</td><td>Cook Islands</td><td>13</td></tr><tr><td>Austria</td><td>United States</td><td>62</td></tr><tr><td>Jordan</td><td>United States</td><td>44</td></tr><tr><td>Palau</td><td>United States</td><td>30</td></tr><tr><td>South Korea</td><td>United States</td><td>1048</td></tr><tr><td>Angola</td><td>United States</td><td>15</td></tr><tr><td>Ghana</td><td>United States</td><td>18</td></tr><tr><td>New Caledonia</td><td>United States</td><td>1</td></tr><tr><td>Guadeloupe</td><td>United States</td><td>56</td></tr><tr><td>France</td><td>United States</td><td>935</td></tr><tr><td>Poland</td><td>United States</td><td>32</td></tr><tr><td>Nigeria</td><td>United States</td><td>59</td></tr><tr><td>United States</td><td>Uruguay</td><td>13</td></tr><tr><td>Greenland</td><td>United States</td><td>2</td></tr><tr><td>United States</td><td>Bermuda</td><td>193</td></tr><tr><td>Chile</td><td>United States</td><td>174</td></tr><tr><td>United States</td><td>Cuba</td><td>478</td></tr><tr><td>United States</td><td>Montenegro</td><td>1</td></tr><tr><td>United States</td><td>Colombia</td><td>867</td></tr><tr><td>United States</td><td>Barbados</td><td>130</td></tr><tr><td>United States</td><td>Qatar</td><td>109</td></tr><tr><td>Australia</td><td>United States</td><td>329</td></tr><tr><td>United States</td><td>Cayman Islands</td><td>310</td></tr><tr><td>United States</td><td>Jordan</td><td>44</td></tr><tr><td>United States</td><td>Namibia</td><td>1</td></tr><tr><td>United States</td><td>Trinidad and Tobago</td><td>217</td></tr><tr><td>United States</td><td>Bolivia</td><td>13</td></tr><tr><td>Cook Islands</td><td>United States</td><td>13</td></tr><tr><td>Bulgaria</td><td>United States</td><td>3</td></tr><tr><td>United States</td><td>Saint Kitts and Nevis</td><td>145</td></tr><tr><td>Uruguay</td><td>United States</td><td>43</td></tr><tr><td>United States</td><td>Haiti</td><td>225</td></tr><tr><td>Bonaire, Sint Eustatius, and Saba</td><td>United States</td><td>58</td></tr><tr><td>Greece</td><td>United States</td><td>30</td></tr></tbody></table></div>"
      ]
     },
     "metadata": {
      "application/vnd.databricks.v1+output": {
       "addedWidgets": {},
       "aggData": [],
       "aggError": "",
       "aggOverflow": false,
       "aggSchema": [],
       "aggSeriesLimitReached": false,
       "aggType": "",
       "arguments": {},
       "columnCustomDisplayInfos": {},
       "data": [
        [
         "United States",
         "Romania",
         15
        ],
        [
         "United States",
         "Croatia",
         1
        ],
        [
         "United States",
         "Ireland",
         344
        ],
        [
         "Egypt",
         "United States",
         15
        ],
        [
         "United States",
         "India",
         62
        ],
        [
         "United States",
         "Singapore",
         1
        ],
        [
         "United States",
         "Grenada",
         62
        ],
        [
         "Costa Rica",
         "United States",
         588
        ],
        [
         "Senegal",
         "United States",
         40
        ],
        [
         "Moldova",
         "United States",
         1
        ],
        [
         "United States",
         "Sint Maarten",
         325
        ],
        [
         "United States",
         "Marshall Islands",
         39
        ],
        [
         "Guyana",
         "United States",
         64
        ],
        [
         "Malta",
         "United States",
         1
        ],
        [
         "Anguilla",
         "United States",
         41
        ],
        [
         "Bolivia",
         "United States",
         30
        ],
        [
         "United States",
         "Paraguay",
         6
        ],
        [
         "Algeria",
         "United States",
         4
        ],
        [
         "Turks and Caicos Islands",
         "United States",
         230
        ],
        [
         "United States",
         "Gibraltar",
         1
        ],
        [
         "Saint Vincent and the Grenadines",
         "United States",
         1
        ],
        [
         "Italy",
         "United States",
         382
        ],
        [
         "United States",
         "Federated States of Micronesia",
         69
        ],
        [
         "United States",
         "Russia",
         161
        ],
        [
         "Pakistan",
         "United States",
         12
        ],
        [
         "United States",
         "Netherlands",
         660
        ],
        [
         "Iceland",
         "United States",
         181
        ],
        [
         "Marshall Islands",
         "United States",
         42
        ],
        [
         "Luxembourg",
         "United States",
         155
        ],
        [
         "Honduras",
         "United States",
         362
        ],
        [
         "The Bahamas",
         "United States",
         955
        ],
        [
         "United States",
         "Senegal",
         42
        ],
        [
         "El Salvador",
         "United States",
         561
        ],
        [
         "Samoa",
         "United States",
         25
        ],
        [
         "United States",
         "Angola",
         13
        ],
        [
         "Switzerland",
         "United States",
         294
        ],
        [
         "United States",
         "Anguilla",
         38
        ],
        [
         "Sint Maarten",
         "United States",
         325
        ],
        [
         "Hong Kong",
         "United States",
         332
        ],
        [
         "Trinidad and Tobago",
         "United States",
         211
        ],
        [
         "Latvia",
         "United States",
         19
        ],
        [
         "United States",
         "Ecuador",
         300
        ],
        [
         "Suriname",
         "United States",
         1
        ],
        [
         "Mexico",
         "United States",
         7140
        ],
        [
         "United States",
         "Cyprus",
         1
        ],
        [
         "Ecuador",
         "United States",
         268
        ],
        [
         "United States",
         "Portugal",
         134
        ],
        [
         "United States",
         "Costa Rica",
         608
        ],
        [
         "United States",
         "Guatemala",
         318
        ],
        [
         "United States",
         "Suriname",
         34
        ],
        [
         "Colombia",
         "United States",
         873
        ],
        [
         "United States",
         "Cape Verde",
         14
        ],
        [
         "United States",
         "Jamaica",
         712
        ],
        [
         "Norway",
         "United States",
         121
        ],
        [
         "United States",
         "Malaysia",
         3
        ],
        [
         "United States",
         "Morocco",
         19
        ],
        [
         "Thailand",
         "United States",
         3
        ],
        [
         "United States",
         "Samoa",
         25
        ],
        [
         "Venezuela",
         "United States",
         290
        ],
        [
         "United States",
         "Palau",
         31
        ],
        [
         "United States",
         "Venezuela",
         246
        ],
        [
         "Panama",
         "United States",
         510
        ],
        [
         "Antigua and Barbuda",
         "United States",
         126
        ],
        [
         "United States",
         "Chile",
         185
        ],
        [
         "Morocco",
         "United States",
         15
        ],
        [
         "United States",
         "Finland",
         28
        ],
        [
         "Azerbaijan",
         "United States",
         21
        ],
        [
         "United States",
         "Greece",
         23
        ],
        [
         "United States",
         "The Bahamas",
         986
        ],
        [
         "New Zealand",
         "United States",
         111
        ],
        [
         "Liberia",
         "United States",
         2
        ],
        [
         "United States",
         "Hong Kong",
         414
        ],
        [
         "Hungary",
         "United States",
         2
        ],
        [
         "United States",
         "China",
         920
        ],
        [
         "United States",
         "Vietnam",
         2
        ],
        [
         "Burkina Faso",
         "United States",
         1
        ],
        [
         "Sweden",
         "United States",
         118
        ],
        [
         "United States",
         "Kuwait",
         28
        ],
        [
         "United States",
         "Dominican Republic",
         1420
        ],
        [
         "United States",
         "Egypt",
         12
        ],
        [
         "Israel",
         "United States",
         134
        ],
        [
         "United States",
         "United States",
         370002
        ],
        [
         "Ethiopia",
         "United States",
         13
        ],
        [
         "United States",
         "Luxembourg",
         134
        ],
        [
         "United States",
         "Poland",
         33
        ],
        [
         "Martinique",
         "United States",
         44
        ],
        [
         "United States",
         "Saint Barthelemy",
         41
        ],
        [
         "Saint Barthelemy",
         "United States",
         39
        ],
        [
         "Barbados",
         "United States",
         154
        ],
        [
         "United States",
         "Turkey",
         129
        ],
        [
         "Djibouti",
         "United States",
         1
        ],
        [
         "United States",
         "Azerbaijan",
         21
        ],
        [
         "United States",
         "Estonia",
         1
        ],
        [
         "Germany",
         "United States",
         1468
        ],
        [
         "United States",
         "South Korea",
         827
        ],
        [
         "United States",
         "El Salvador",
         508
        ],
        [
         "Ireland",
         "United States",
         335
        ],
        [
         "United States",
         "Hungary",
         3
        ],
        [
         "Zambia",
         "United States",
         1
        ],
        [
         "Malaysia",
         "United States",
         2
        ],
        [
         "United States",
         "Ethiopia",
         12
        ],
        [
         "United States",
         "Panama",
         465
        ],
        [
         "United States",
         "Aruba",
         342
        ],
        [
         "United States",
         "Thailand",
         4
        ],
        [
         "United States",
         "Turks and Caicos Islands",
         236
        ],
        [
         "Croatia",
         "United States",
         2
        ],
        [
         "United States",
         "Pakistan",
         12
        ],
        [
         "Cyprus",
         "United States",
         1
        ],
        [
         "United States",
         "Honduras",
         407
        ],
        [
         "Fiji",
         "United States",
         24
        ],
        [
         "Qatar",
         "United States",
         108
        ],
        [
         "Saint Kitts and Nevis",
         "United States",
         139
        ],
        [
         "Kuwait",
         "United States",
         32
        ],
        [
         "Taiwan",
         "United States",
         266
        ],
        [
         "Haiti",
         "United States",
         226
        ],
        [
         "Canada",
         "United States",
         8399
        ],
        [
         "Federated States of Micronesia",
         "United States",
         69
        ],
        [
         "United States",
         "Liberia",
         2
        ],
        [
         "Jamaica",
         "United States",
         666
        ],
        [
         "United States",
         "Malta",
         2
        ],
        [
         "Dominican Republic",
         "United States",
         1353
        ],
        [
         "Japan",
         "United States",
         1548
        ],
        [
         "United States",
         "Lithuania",
         1
        ],
        [
         "Finland",
         "United States",
         26
        ],
        [
         "United States",
         "Guadeloupe",
         59
        ],
        [
         "United States",
         "Ukraine",
         13
        ],
        [
         "United States",
         "France",
         952
        ],
        [
         "United States",
         "Norway",
         115
        ],
        [
         "Aruba",
         "United States",
         346
        ],
        [
         "French Guiana",
         "United States",
         5
        ],
        [
         "United States",
         "Kiribati",
         35
        ],
        [
         "India",
         "United States",
         61
        ],
        [
         "British Virgin Islands",
         "United States",
         107
        ],
        [
         "Brazil",
         "United States",
         853
        ],
        [
         "United States",
         "Germany",
         1336
        ],
        [
         "United States",
         "New Zealand",
         74
        ],
        [
         "French Polynesia",
         "United States",
         43
        ],
        [
         "United Arab Emirates",
         "United States",
         320
        ],
        [
         "Singapore",
         "United States",
         3
        ],
        [
         "United States",
         "Mexico",
         7187
        ],
        [
         "United States",
         "Sweden",
         119
        ],
        [
         "Netherlands",
         "United States",
         776
        ],
        [
         "United States",
         "Martinique",
         43
        ],
        [
         "United States",
         "United Arab Emirates",
         313
        ],
        [
         "United States",
         "Bulgaria",
         1
        ],
        [
         "Denmark",
         "United States",
         153
        ],
        [
         "China",
         "United States",
         772
        ],
        [
         "United States",
         "Nicaragua",
         201
        ],
        [
         "United States",
         "Philippines",
         126
        ],
        [
         "United States",
         "Georgia",
         1
        ],
        [
         "United States",
         "Belgium",
         228
        ],
        [
         "Cayman Islands",
         "United States",
         314
        ],
        [
         "Argentina",
         "United States",
         180
        ],
        [
         "Peru",
         "United States",
         279
        ],
        [
         "South Africa",
         "United States",
         36
        ],
        [
         "United States",
         "Iceland",
         202
        ],
        [
         "United States",
         "Argentina",
         141
        ],
        [
         "Spain",
         "United States",
         420
        ],
        [
         "Bermuda",
         "United States",
         183
        ],
        [
         "United States",
         "Nigeria",
         50
        ],
        [
         "United States",
         "Austria",
         63
        ],
        [
         "United States",
         "Bonaire, Sint Eustatius, and Saba",
         59
        ],
        [
         "Kiribati",
         "United States",
         26
        ],
        [
         "Saudi Arabia",
         "United States",
         83
        ],
        [
         "Czech Republic",
         "United States",
         13
        ],
        [
         "United States",
         "Israel",
         127
        ],
        [
         "Belgium",
         "United States",
         259
        ],
        [
         "United States",
         "Saint Lucia",
         136
        ],
        [
         "United States",
         "Bahrain",
         1
        ],
        [
         "United States",
         "British Virgin Islands",
         80
        ],
        [
         "Curacao",
         "United States",
         90
        ],
        [
         "Georgia",
         "United States",
         2
        ],
        [
         "United States",
         "Denmark",
         152
        ],
        [
         "United States",
         "Guyana",
         63
        ],
        [
         "Philippines",
         "United States",
         134
        ],
        [
         "Grenada",
         "United States",
         53
        ],
        [
         "Cape Verde",
         "United States",
         20
        ],
        [
         "Cote d'Ivoire",
         "United States",
         1
        ],
        [
         "Ukraine",
         "United States",
         14
        ],
        [
         "United States",
         "Papua New Guinea",
         1
        ],
        [
         "Russia",
         "United States",
         176
        ],
        [
         "United States",
         "Saudi Arabia",
         70
        ],
        [
         "Guatemala",
         "United States",
         397
        ],
        [
         "Saint Lucia",
         "United States",
         123
        ],
        [
         "Paraguay",
         "United States",
         60
        ],
        [
         "United States",
         "Curacao",
         83
        ],
        [
         "Kosovo",
         "United States",
         1
        ],
        [
         "United States",
         "Taiwan",
         235
        ],
        [
         "Tunisia",
         "United States",
         3
        ],
        [
         "United States",
         "South Africa",
         40
        ],
        [
         "Niger",
         "United States",
         2
        ],
        [
         "Turkey",
         "United States",
         138
        ],
        [
         "United Kingdom",
         "United States",
         2025
        ],
        [
         "Romania",
         "United States",
         14
        ],
        [
         "United States",
         "Greenland",
         4
        ],
        [
         "Papua New Guinea",
         "United States",
         3
        ],
        [
         "United States",
         "Spain",
         442
        ],
        [
         "Iraq",
         "United States",
         1
        ],
        [
         "United States",
         "Italy",
         438
        ],
        [
         "Cuba",
         "United States",
         466
        ],
        [
         "United States",
         "Switzerland",
         305
        ],
        [
         "Dominica",
         "United States",
         20
        ],
        [
         "United States",
         "Japan",
         1496
        ],
        [
         "Portugal",
         "United States",
         127
        ],
        [
         "United States",
         "Brazil",
         619
        ],
        [
         "Bahrain",
         "United States",
         19
        ],
        [
         "United States",
         "Peru",
         337
        ],
        [
         "Indonesia",
         "United States",
         1
        ],
        [
         "United States",
         "Belize",
         193
        ],
        [
         "United States",
         "United Kingdom",
         1970
        ],
        [
         "Belize",
         "United States",
         188
        ],
        [
         "United States",
         "Ghana",
         20
        ],
        [
         "United States",
         "Indonesia",
         2
        ],
        [
         "United States",
         "Fiji",
         25
        ],
        [
         "United States",
         "Canada",
         8483
        ],
        [
         "United States",
         "Antigua and Barbuda",
         117
        ],
        [
         "United States",
         "French Polynesia",
         40
        ],
        [
         "Nicaragua",
         "United States",
         179
        ],
        [
         "United States",
         "Latvia",
         15
        ],
        [
         "United States",
         "Dominica",
         27
        ],
        [
         "United States",
         "Czech Republic",
         12
        ],
        [
         "United States",
         "Australia",
         258
        ],
        [
         "United States",
         "Cook Islands",
         13
        ],
        [
         "Austria",
         "United States",
         62
        ],
        [
         "Jordan",
         "United States",
         44
        ],
        [
         "Palau",
         "United States",
         30
        ],
        [
         "South Korea",
         "United States",
         1048
        ],
        [
         "Angola",
         "United States",
         15
        ],
        [
         "Ghana",
         "United States",
         18
        ],
        [
         "New Caledonia",
         "United States",
         1
        ],
        [
         "Guadeloupe",
         "United States",
         56
        ],
        [
         "France",
         "United States",
         935
        ],
        [
         "Poland",
         "United States",
         32
        ],
        [
         "Nigeria",
         "United States",
         59
        ],
        [
         "United States",
         "Uruguay",
         13
        ],
        [
         "Greenland",
         "United States",
         2
        ],
        [
         "United States",
         "Bermuda",
         193
        ],
        [
         "Chile",
         "United States",
         174
        ],
        [
         "United States",
         "Cuba",
         478
        ],
        [
         "United States",
         "Montenegro",
         1
        ],
        [
         "United States",
         "Colombia",
         867
        ],
        [
         "United States",
         "Barbados",
         130
        ],
        [
         "United States",
         "Qatar",
         109
        ],
        [
         "Australia",
         "United States",
         329
        ],
        [
         "United States",
         "Cayman Islands",
         310
        ],
        [
         "United States",
         "Jordan",
         44
        ],
        [
         "United States",
         "Namibia",
         1
        ],
        [
         "United States",
         "Trinidad and Tobago",
         217
        ],
        [
         "United States",
         "Bolivia",
         13
        ],
        [
         "Cook Islands",
         "United States",
         13
        ],
        [
         "Bulgaria",
         "United States",
         3
        ],
        [
         "United States",
         "Saint Kitts and Nevis",
         145
        ],
        [
         "Uruguay",
         "United States",
         43
        ],
        [
         "United States",
         "Haiti",
         225
        ],
        [
         "Bonaire, Sint Eustatius, and Saba",
         "United States",
         58
        ],
        [
         "Greece",
         "United States",
         30
        ]
       ],
       "datasetInfos": [],
       "dbfsResultPath": null,
       "isJsonSchema": true,
       "metadata": {},
       "overflow": false,
       "plotOptions": {
        "customPlotOptions": {},
        "displayType": "table",
        "pivotAggregation": null,
        "pivotColumns": null,
        "xColumns": null,
        "yColumns": null
       },
       "removedWidgets": [],
       "schema": [
        {
         "metadata": "{}",
         "name": "DEST_COUNTRY_NAME",
         "type": "\"string\""
        },
        {
         "metadata": "{}",
         "name": "ORIGIN_COUNTRY_NAME",
         "type": "\"string\""
        },
        {
         "metadata": "{}",
         "name": "count",
         "type": "\"integer\""
        }
       ],
       "type": "table"
      }
     },
     "output_type": "display_data"
    }
   ],
   "source": [
    "df.display()"
   ]
  },
  {
   "cell_type": "code",
   "execution_count": 0,
   "metadata": {
    "application/vnd.databricks.v1+cell": {
     "cellMetadata": {
      "byteLimit": 2048000,
      "rowLimit": 10000
     },
     "inputWidgets": {},
     "nuid": "977e1921-4dfb-4864-9136-9c98641a77fa",
     "showTitle": false,
     "tableResultSettingsMap": {},
     "title": ""
    }
   },
   "outputs": [],
   "source": [
    "coalesce_df = df.repartition(8)"
   ]
  },
  {
   "cell_type": "code",
   "execution_count": 0,
   "metadata": {
    "application/vnd.databricks.v1+cell": {
     "cellMetadata": {
      "byteLimit": 2048000,
      "rowLimit": 10000
     },
     "inputWidgets": {},
     "nuid": "7bb405c0-2b4a-407b-8e1e-0f9280237d32",
     "showTitle": false,
     "tableResultSettingsMap": {},
     "title": ""
    }
   },
   "outputs": [
    {
     "output_type": "display_data",
     "data": {
      "text/html": [
       "<style scoped>\n",
       "  .table-result-container {\n",
       "    max-height: 300px;\n",
       "    overflow: auto;\n",
       "  }\n",
       "  table, th, td {\n",
       "    border: 1px solid black;\n",
       "    border-collapse: collapse;\n",
       "  }\n",
       "  th, td {\n",
       "    padding: 5px;\n",
       "  }\n",
       "  th {\n",
       "    text-align: left;\n",
       "  }\n",
       "</style><div class='table-result-container'><table class='table-result'><thead style='background-color: white'><tr><th>DEST_COUNTRY_NAME</th><th>ORIGIN_COUNTRY_NAME</th><th>count</th></tr></thead><tbody><tr><td>United States</td><td>Bermuda</td><td>193</td></tr><tr><td>United States</td><td>Saint Lucia</td><td>136</td></tr><tr><td>Saint Vincent and the Grenadines</td><td>United States</td><td>1</td></tr><tr><td>United States</td><td>Qatar</td><td>109</td></tr><tr><td>Saint Barthelemy</td><td>United States</td><td>39</td></tr><tr><td>United States</td><td>Saint Barthelemy</td><td>41</td></tr><tr><td>United States</td><td>Montenegro</td><td>1</td></tr><tr><td>United States</td><td>Pakistan</td><td>12</td></tr><tr><td>Croatia</td><td>United States</td><td>2</td></tr><tr><td>United States</td><td>El Salvador</td><td>508</td></tr><tr><td>United States</td><td>Peru</td><td>337</td></tr><tr><td>Portugal</td><td>United States</td><td>127</td></tr><tr><td>Finland</td><td>United States</td><td>26</td></tr><tr><td>Russia</td><td>United States</td><td>176</td></tr><tr><td>Turks and Caicos Islands</td><td>United States</td><td>230</td></tr><tr><td>Bermuda</td><td>United States</td><td>183</td></tr><tr><td>United States</td><td>Israel</td><td>127</td></tr><tr><td>United States</td><td>Kuwait</td><td>28</td></tr><tr><td>French Polynesia</td><td>United States</td><td>43</td></tr><tr><td>United States</td><td>Gibraltar</td><td>1</td></tr><tr><td>British Virgin Islands</td><td>United States</td><td>107</td></tr><tr><td>United States</td><td>Germany</td><td>1336</td></tr><tr><td>Iraq</td><td>United States</td><td>1</td></tr><tr><td>United States</td><td>United States</td><td>370002</td></tr><tr><td>Liberia</td><td>United States</td><td>2</td></tr><tr><td>United States</td><td>Romania</td><td>15</td></tr><tr><td>United States</td><td>Malta</td><td>2</td></tr><tr><td>Djibouti</td><td>United States</td><td>1</td></tr><tr><td>United States</td><td>Taiwan</td><td>235</td></tr><tr><td>Venezuela</td><td>United States</td><td>290</td></tr><tr><td>United States</td><td>France</td><td>952</td></tr><tr><td>Ghana</td><td>United States</td><td>18</td></tr><tr><td>United States</td><td>Australia</td><td>258</td></tr><tr><td>Qatar</td><td>United States</td><td>108</td></tr><tr><td>United States</td><td>Grenada</td><td>62</td></tr><tr><td>India</td><td>United States</td><td>61</td></tr><tr><td>Bonaire, Sint Eustatius, and Saba</td><td>United States</td><td>58</td></tr><tr><td>Algeria</td><td>United States</td><td>4</td></tr><tr><td>Saudi Arabia</td><td>United States</td><td>83</td></tr><tr><td>Denmark</td><td>United States</td><td>153</td></tr><tr><td>United States</td><td>Colombia</td><td>867</td></tr><tr><td>United States</td><td>Malaysia</td><td>3</td></tr><tr><td>Grenada</td><td>United States</td><td>53</td></tr><tr><td>United States</td><td>Namibia</td><td>1</td></tr><tr><td>United States</td><td>Saudi Arabia</td><td>70</td></tr><tr><td>United States</td><td>Bahrain</td><td>1</td></tr><tr><td>United States</td><td>Anguilla</td><td>38</td></tr><tr><td>United States</td><td>Palau</td><td>31</td></tr><tr><td>Belgium</td><td>United States</td><td>259</td></tr><tr><td>United States</td><td>Chile</td><td>185</td></tr><tr><td>Cyprus</td><td>United States</td><td>1</td></tr><tr><td>Philippines</td><td>United States</td><td>134</td></tr><tr><td>United States</td><td>Switzerland</td><td>305</td></tr><tr><td>Aruba</td><td>United States</td><td>346</td></tr><tr><td>New Caledonia</td><td>United States</td><td>1</td></tr><tr><td>United Arab Emirates</td><td>United States</td><td>320</td></tr><tr><td>United States</td><td>Hungary</td><td>3</td></tr><tr><td>United States</td><td>Vietnam</td><td>2</td></tr><tr><td>Bulgaria</td><td>United States</td><td>3</td></tr><tr><td>United States</td><td>French Polynesia</td><td>40</td></tr><tr><td>Georgia</td><td>United States</td><td>2</td></tr><tr><td>United States</td><td>Georgia</td><td>1</td></tr><tr><td>United States</td><td>Nicaragua</td><td>201</td></tr><tr><td>Italy</td><td>United States</td><td>382</td></tr><tr><td>Guyana</td><td>United States</td><td>64</td></tr><tr><td>United States</td><td>Russia</td><td>161</td></tr><tr><td>United States</td><td>Trinidad and Tobago</td><td>217</td></tr><tr><td>South Korea</td><td>United States</td><td>1048</td></tr><tr><td>United Kingdom</td><td>United States</td><td>2025</td></tr><tr><td>China</td><td>United States</td><td>772</td></tr><tr><td>United States</td><td>United Kingdom</td><td>1970</td></tr><tr><td>United States</td><td>Egypt</td><td>12</td></tr><tr><td>Australia</td><td>United States</td><td>329</td></tr><tr><td>United States</td><td>Guadeloupe</td><td>59</td></tr><tr><td>United States</td><td>Singapore</td><td>1</td></tr><tr><td>Poland</td><td>United States</td><td>32</td></tr><tr><td>Dominica</td><td>United States</td><td>20</td></tr><tr><td>United States</td><td>Marshall Islands</td><td>39</td></tr><tr><td>United States</td><td>Belize</td><td>193</td></tr><tr><td>Hungary</td><td>United States</td><td>2</td></tr><tr><td>United States</td><td>Curacao</td><td>83</td></tr><tr><td>Curacao</td><td>United States</td><td>90</td></tr><tr><td>Moldova</td><td>United States</td><td>1</td></tr><tr><td>Cook Islands</td><td>United States</td><td>13</td></tr><tr><td>United States</td><td>Ethiopia</td><td>12</td></tr><tr><td>Fiji</td><td>United States</td><td>24</td></tr><tr><td>Niger</td><td>United States</td><td>2</td></tr><tr><td>United States</td><td>Latvia</td><td>15</td></tr><tr><td>United States</td><td>Cayman Islands</td><td>310</td></tr><tr><td>United States</td><td>Venezuela</td><td>246</td></tr><tr><td>United States</td><td>Netherlands</td><td>660</td></tr><tr><td>United States</td><td>Samoa</td><td>25</td></tr><tr><td>United States</td><td>Brazil</td><td>619</td></tr><tr><td>United States</td><td>Hong Kong</td><td>414</td></tr><tr><td>United States</td><td>South Korea</td><td>827</td></tr><tr><td>United States</td><td>Luxembourg</td><td>134</td></tr><tr><td>Greece</td><td>United States</td><td>30</td></tr><tr><td>United States</td><td>Martinique</td><td>43</td></tr><tr><td>Cayman Islands</td><td>United States</td><td>314</td></tr><tr><td>United States</td><td>Liberia</td><td>2</td></tr><tr><td>Uruguay</td><td>United States</td><td>43</td></tr><tr><td>United States</td><td>Poland</td><td>33</td></tr><tr><td>United States</td><td>Cyprus</td><td>1</td></tr><tr><td>United States</td><td>United Arab Emirates</td><td>313</td></tr><tr><td>Egypt</td><td>United States</td><td>15</td></tr><tr><td>Brazil</td><td>United States</td><td>853</td></tr><tr><td>Indonesia</td><td>United States</td><td>1</td></tr><tr><td>Taiwan</td><td>United States</td><td>266</td></tr><tr><td>Switzerland</td><td>United States</td><td>294</td></tr><tr><td>United States</td><td>Uruguay</td><td>13</td></tr><tr><td>United States</td><td>Jamaica</td><td>712</td></tr><tr><td>Luxembourg</td><td>United States</td><td>155</td></tr><tr><td>Colombia</td><td>United States</td><td>873</td></tr><tr><td>United States</td><td>Sint Maarten</td><td>325</td></tr><tr><td>United States</td><td>Canada</td><td>8483</td></tr><tr><td>Cote d'Ivoire</td><td>United States</td><td>1</td></tr><tr><td>Israel</td><td>United States</td><td>134</td></tr><tr><td>Germany</td><td>United States</td><td>1468</td></tr><tr><td>United States</td><td>Morocco</td><td>19</td></tr><tr><td>Peru</td><td>United States</td><td>279</td></tr><tr><td>Ecuador</td><td>United States</td><td>268</td></tr><tr><td>Barbados</td><td>United States</td><td>154</td></tr><tr><td>Marshall Islands</td><td>United States</td><td>42</td></tr><tr><td>Japan</td><td>United States</td><td>1548</td></tr><tr><td>United States</td><td>Cuba</td><td>478</td></tr><tr><td>United States</td><td>Angola</td><td>13</td></tr><tr><td>United States</td><td>Guatemala</td><td>318</td></tr><tr><td>Chile</td><td>United States</td><td>174</td></tr><tr><td>Kosovo</td><td>United States</td><td>1</td></tr><tr><td>United States</td><td>Dominican Republic</td><td>1420</td></tr><tr><td>Spain</td><td>United States</td><td>420</td></tr><tr><td>Bahrain</td><td>United States</td><td>19</td></tr><tr><td>United States</td><td>Greece</td><td>23</td></tr><tr><td>United States</td><td>Saint Kitts and Nevis</td><td>145</td></tr><tr><td>United States</td><td>Paraguay</td><td>6</td></tr><tr><td>Papua New Guinea</td><td>United States</td><td>3</td></tr><tr><td>Nicaragua</td><td>United States</td><td>179</td></tr><tr><td>United States</td><td>Suriname</td><td>34</td></tr><tr><td>United States</td><td>Spain</td><td>442</td></tr><tr><td>Thailand</td><td>United States</td><td>3</td></tr><tr><td>Samoa</td><td>United States</td><td>25</td></tr><tr><td>Canada</td><td>United States</td><td>8399</td></tr><tr><td>United States</td><td>The Bahamas</td><td>986</td></tr><tr><td>United States</td><td>Argentina</td><td>141</td></tr><tr><td>Paraguay</td><td>United States</td><td>60</td></tr><tr><td>Iceland</td><td>United States</td><td>181</td></tr><tr><td>United States</td><td>Greenland</td><td>4</td></tr><tr><td>Haiti</td><td>United States</td><td>226</td></tr><tr><td>United States</td><td>Indonesia</td><td>2</td></tr><tr><td>United States</td><td>British Virgin Islands</td><td>80</td></tr><tr><td>Suriname</td><td>United States</td><td>1</td></tr><tr><td>United States</td><td>Jordan</td><td>44</td></tr><tr><td>United States</td><td>Fiji</td><td>25</td></tr><tr><td>United States</td><td>Costa Rica</td><td>608</td></tr><tr><td>Jamaica</td><td>United States</td><td>666</td></tr><tr><td>Hong Kong</td><td>United States</td><td>332</td></tr><tr><td>Belize</td><td>United States</td><td>188</td></tr><tr><td>United States</td><td>Lithuania</td><td>1</td></tr><tr><td>United States</td><td>China</td><td>920</td></tr><tr><td>Malaysia</td><td>United States</td><td>2</td></tr><tr><td>Saint Lucia</td><td>United States</td><td>123</td></tr><tr><td>United States</td><td>Portugal</td><td>134</td></tr><tr><td>Ireland</td><td>United States</td><td>335</td></tr><tr><td>United States</td><td>Japan</td><td>1496</td></tr><tr><td>United States</td><td>Kiribati</td><td>35</td></tr><tr><td>Anguilla</td><td>United States</td><td>41</td></tr><tr><td>United States</td><td>Bulgaria</td><td>1</td></tr><tr><td>United States</td><td>Austria</td><td>63</td></tr><tr><td>Senegal</td><td>United States</td><td>40</td></tr><tr><td>Jordan</td><td>United States</td><td>44</td></tr><tr><td>United States</td><td>Cape Verde</td><td>14</td></tr><tr><td>Mexico</td><td>United States</td><td>7140</td></tr><tr><td>Bolivia</td><td>United States</td><td>30</td></tr><tr><td>United States</td><td>Dominica</td><td>27</td></tr><tr><td>Kuwait</td><td>United States</td><td>32</td></tr><tr><td>French Guiana</td><td>United States</td><td>5</td></tr><tr><td>United States</td><td>Philippines</td><td>126</td></tr><tr><td>Ukraine</td><td>United States</td><td>14</td></tr><tr><td>United States</td><td>Turkey</td><td>129</td></tr><tr><td>Pakistan</td><td>United States</td><td>12</td></tr><tr><td>Sweden</td><td>United States</td><td>118</td></tr><tr><td>Martinique</td><td>United States</td><td>44</td></tr><tr><td>United States</td><td>South Africa</td><td>40</td></tr><tr><td>Tunisia</td><td>United States</td><td>3</td></tr><tr><td>Angola</td><td>United States</td><td>15</td></tr><tr><td>Saint Kitts and Nevis</td><td>United States</td><td>139</td></tr><tr><td>United States</td><td>Cook Islands</td><td>13</td></tr><tr><td>Burkina Faso</td><td>United States</td><td>1</td></tr><tr><td>Malta</td><td>United States</td><td>1</td></tr><tr><td>United States</td><td>Ghana</td><td>20</td></tr><tr><td>Ethiopia</td><td>United States</td><td>13</td></tr><tr><td>United States</td><td>Antigua and Barbuda</td><td>117</td></tr><tr><td>United States</td><td>Denmark</td><td>152</td></tr><tr><td>El Salvador</td><td>United States</td><td>561</td></tr><tr><td>United States</td><td>Senegal</td><td>42</td></tr><tr><td>United States</td><td>India</td><td>62</td></tr><tr><td>United States</td><td>Mexico</td><td>7187</td></tr><tr><td>France</td><td>United States</td><td>935</td></tr><tr><td>United States</td><td>Bolivia</td><td>13</td></tr><tr><td>Greenland</td><td>United States</td><td>2</td></tr><tr><td>United States</td><td>Aruba</td><td>342</td></tr><tr><td>United States</td><td>Nigeria</td><td>50</td></tr><tr><td>United States</td><td>Guyana</td><td>63</td></tr><tr><td>United States</td><td>Ukraine</td><td>13</td></tr><tr><td>United States</td><td>Haiti</td><td>225</td></tr><tr><td>Norway</td><td>United States</td><td>121</td></tr><tr><td>South Africa</td><td>United States</td><td>36</td></tr><tr><td>Antigua and Barbuda</td><td>United States</td><td>126</td></tr><tr><td>United States</td><td>Bonaire, Sint Eustatius, and Saba</td><td>59</td></tr><tr><td>United States</td><td>Thailand</td><td>4</td></tr><tr><td>Zambia</td><td>United States</td><td>1</td></tr><tr><td>Cuba</td><td>United States</td><td>466</td></tr><tr><td>Sint Maarten</td><td>United States</td><td>325</td></tr><tr><td>New Zealand</td><td>United States</td><td>111</td></tr><tr><td>Cape Verde</td><td>United States</td><td>20</td></tr><tr><td>Guatemala</td><td>United States</td><td>397</td></tr><tr><td>United States</td><td>Belgium</td><td>228</td></tr><tr><td>Federated States of Micronesia</td><td>United States</td><td>69</td></tr><tr><td>Kiribati</td><td>United States</td><td>26</td></tr><tr><td>United States</td><td>Azerbaijan</td><td>21</td></tr><tr><td>Netherlands</td><td>United States</td><td>776</td></tr><tr><td>United States</td><td>Czech Republic</td><td>12</td></tr><tr><td>United States</td><td>Ireland</td><td>344</td></tr><tr><td>United States</td><td>Turks and Caicos Islands</td><td>236</td></tr><tr><td>Latvia</td><td>United States</td><td>19</td></tr><tr><td>United States</td><td>Honduras</td><td>407</td></tr><tr><td>Romania</td><td>United States</td><td>14</td></tr><tr><td>United States</td><td>Italy</td><td>438</td></tr><tr><td>Morocco</td><td>United States</td><td>15</td></tr><tr><td>Dominican Republic</td><td>United States</td><td>1353</td></tr><tr><td>Austria</td><td>United States</td><td>62</td></tr><tr><td>Singapore</td><td>United States</td><td>3</td></tr><tr><td>United States</td><td>New Zealand</td><td>74</td></tr><tr><td>United States</td><td>Ecuador</td><td>300</td></tr><tr><td>Honduras</td><td>United States</td><td>362</td></tr><tr><td>United States</td><td>Papua New Guinea</td><td>1</td></tr><tr><td>Trinidad and Tobago</td><td>United States</td><td>211</td></tr><tr><td>Azerbaijan</td><td>United States</td><td>21</td></tr><tr><td>United States</td><td>Norway</td><td>115</td></tr><tr><td>United States</td><td>Barbados</td><td>130</td></tr><tr><td>United States</td><td>Sweden</td><td>119</td></tr><tr><td>Nigeria</td><td>United States</td><td>59</td></tr><tr><td>United States</td><td>Finland</td><td>28</td></tr><tr><td>Palau</td><td>United States</td><td>30</td></tr><tr><td>Costa Rica</td><td>United States</td><td>588</td></tr><tr><td>United States</td><td>Iceland</td><td>202</td></tr><tr><td>The Bahamas</td><td>United States</td><td>955</td></tr><tr><td>Argentina</td><td>United States</td><td>180</td></tr><tr><td>United States</td><td>Croatia</td><td>1</td></tr><tr><td>United States</td><td>Federated States of Micronesia</td><td>69</td></tr><tr><td>Guadeloupe</td><td>United States</td><td>56</td></tr><tr><td>Panama</td><td>United States</td><td>510</td></tr><tr><td>Turkey</td><td>United States</td><td>138</td></tr><tr><td>United States</td><td>Estonia</td><td>1</td></tr><tr><td>Czech Republic</td><td>United States</td><td>13</td></tr><tr><td>United States</td><td>Panama</td><td>465</td></tr></tbody></table></div>"
      ]
     },
     "metadata": {
      "application/vnd.databricks.v1+output": {
       "addedWidgets": {},
       "aggData": [],
       "aggError": "",
       "aggOverflow": false,
       "aggSchema": [],
       "aggSeriesLimitReached": false,
       "aggType": "",
       "arguments": {},
       "columnCustomDisplayInfos": {},
       "data": [
        [
         "United States",
         "Bermuda",
         193
        ],
        [
         "United States",
         "Saint Lucia",
         136
        ],
        [
         "Saint Vincent and the Grenadines",
         "United States",
         1
        ],
        [
         "United States",
         "Qatar",
         109
        ],
        [
         "Saint Barthelemy",
         "United States",
         39
        ],
        [
         "United States",
         "Saint Barthelemy",
         41
        ],
        [
         "United States",
         "Montenegro",
         1
        ],
        [
         "United States",
         "Pakistan",
         12
        ],
        [
         "Croatia",
         "United States",
         2
        ],
        [
         "United States",
         "El Salvador",
         508
        ],
        [
         "United States",
         "Peru",
         337
        ],
        [
         "Portugal",
         "United States",
         127
        ],
        [
         "Finland",
         "United States",
         26
        ],
        [
         "Russia",
         "United States",
         176
        ],
        [
         "Turks and Caicos Islands",
         "United States",
         230
        ],
        [
         "Bermuda",
         "United States",
         183
        ],
        [
         "United States",
         "Israel",
         127
        ],
        [
         "United States",
         "Kuwait",
         28
        ],
        [
         "French Polynesia",
         "United States",
         43
        ],
        [
         "United States",
         "Gibraltar",
         1
        ],
        [
         "British Virgin Islands",
         "United States",
         107
        ],
        [
         "United States",
         "Germany",
         1336
        ],
        [
         "Iraq",
         "United States",
         1
        ],
        [
         "United States",
         "United States",
         370002
        ],
        [
         "Liberia",
         "United States",
         2
        ],
        [
         "United States",
         "Romania",
         15
        ],
        [
         "United States",
         "Malta",
         2
        ],
        [
         "Djibouti",
         "United States",
         1
        ],
        [
         "United States",
         "Taiwan",
         235
        ],
        [
         "Venezuela",
         "United States",
         290
        ],
        [
         "United States",
         "France",
         952
        ],
        [
         "Ghana",
         "United States",
         18
        ],
        [
         "United States",
         "Australia",
         258
        ],
        [
         "Qatar",
         "United States",
         108
        ],
        [
         "United States",
         "Grenada",
         62
        ],
        [
         "India",
         "United States",
         61
        ],
        [
         "Bonaire, Sint Eustatius, and Saba",
         "United States",
         58
        ],
        [
         "Algeria",
         "United States",
         4
        ],
        [
         "Saudi Arabia",
         "United States",
         83
        ],
        [
         "Denmark",
         "United States",
         153
        ],
        [
         "United States",
         "Colombia",
         867
        ],
        [
         "United States",
         "Malaysia",
         3
        ],
        [
         "Grenada",
         "United States",
         53
        ],
        [
         "United States",
         "Namibia",
         1
        ],
        [
         "United States",
         "Saudi Arabia",
         70
        ],
        [
         "United States",
         "Bahrain",
         1
        ],
        [
         "United States",
         "Anguilla",
         38
        ],
        [
         "United States",
         "Palau",
         31
        ],
        [
         "Belgium",
         "United States",
         259
        ],
        [
         "United States",
         "Chile",
         185
        ],
        [
         "Cyprus",
         "United States",
         1
        ],
        [
         "Philippines",
         "United States",
         134
        ],
        [
         "United States",
         "Switzerland",
         305
        ],
        [
         "Aruba",
         "United States",
         346
        ],
        [
         "New Caledonia",
         "United States",
         1
        ],
        [
         "United Arab Emirates",
         "United States",
         320
        ],
        [
         "United States",
         "Hungary",
         3
        ],
        [
         "United States",
         "Vietnam",
         2
        ],
        [
         "Bulgaria",
         "United States",
         3
        ],
        [
         "United States",
         "French Polynesia",
         40
        ],
        [
         "Georgia",
         "United States",
         2
        ],
        [
         "United States",
         "Georgia",
         1
        ],
        [
         "United States",
         "Nicaragua",
         201
        ],
        [
         "Italy",
         "United States",
         382
        ],
        [
         "Guyana",
         "United States",
         64
        ],
        [
         "United States",
         "Russia",
         161
        ],
        [
         "United States",
         "Trinidad and Tobago",
         217
        ],
        [
         "South Korea",
         "United States",
         1048
        ],
        [
         "United Kingdom",
         "United States",
         2025
        ],
        [
         "China",
         "United States",
         772
        ],
        [
         "United States",
         "United Kingdom",
         1970
        ],
        [
         "United States",
         "Egypt",
         12
        ],
        [
         "Australia",
         "United States",
         329
        ],
        [
         "United States",
         "Guadeloupe",
         59
        ],
        [
         "United States",
         "Singapore",
         1
        ],
        [
         "Poland",
         "United States",
         32
        ],
        [
         "Dominica",
         "United States",
         20
        ],
        [
         "United States",
         "Marshall Islands",
         39
        ],
        [
         "United States",
         "Belize",
         193
        ],
        [
         "Hungary",
         "United States",
         2
        ],
        [
         "United States",
         "Curacao",
         83
        ],
        [
         "Curacao",
         "United States",
         90
        ],
        [
         "Moldova",
         "United States",
         1
        ],
        [
         "Cook Islands",
         "United States",
         13
        ],
        [
         "United States",
         "Ethiopia",
         12
        ],
        [
         "Fiji",
         "United States",
         24
        ],
        [
         "Niger",
         "United States",
         2
        ],
        [
         "United States",
         "Latvia",
         15
        ],
        [
         "United States",
         "Cayman Islands",
         310
        ],
        [
         "United States",
         "Venezuela",
         246
        ],
        [
         "United States",
         "Netherlands",
         660
        ],
        [
         "United States",
         "Samoa",
         25
        ],
        [
         "United States",
         "Brazil",
         619
        ],
        [
         "United States",
         "Hong Kong",
         414
        ],
        [
         "United States",
         "South Korea",
         827
        ],
        [
         "United States",
         "Luxembourg",
         134
        ],
        [
         "Greece",
         "United States",
         30
        ],
        [
         "United States",
         "Martinique",
         43
        ],
        [
         "Cayman Islands",
         "United States",
         314
        ],
        [
         "United States",
         "Liberia",
         2
        ],
        [
         "Uruguay",
         "United States",
         43
        ],
        [
         "United States",
         "Poland",
         33
        ],
        [
         "United States",
         "Cyprus",
         1
        ],
        [
         "United States",
         "United Arab Emirates",
         313
        ],
        [
         "Egypt",
         "United States",
         15
        ],
        [
         "Brazil",
         "United States",
         853
        ],
        [
         "Indonesia",
         "United States",
         1
        ],
        [
         "Taiwan",
         "United States",
         266
        ],
        [
         "Switzerland",
         "United States",
         294
        ],
        [
         "United States",
         "Uruguay",
         13
        ],
        [
         "United States",
         "Jamaica",
         712
        ],
        [
         "Luxembourg",
         "United States",
         155
        ],
        [
         "Colombia",
         "United States",
         873
        ],
        [
         "United States",
         "Sint Maarten",
         325
        ],
        [
         "United States",
         "Canada",
         8483
        ],
        [
         "Cote d'Ivoire",
         "United States",
         1
        ],
        [
         "Israel",
         "United States",
         134
        ],
        [
         "Germany",
         "United States",
         1468
        ],
        [
         "United States",
         "Morocco",
         19
        ],
        [
         "Peru",
         "United States",
         279
        ],
        [
         "Ecuador",
         "United States",
         268
        ],
        [
         "Barbados",
         "United States",
         154
        ],
        [
         "Marshall Islands",
         "United States",
         42
        ],
        [
         "Japan",
         "United States",
         1548
        ],
        [
         "United States",
         "Cuba",
         478
        ],
        [
         "United States",
         "Angola",
         13
        ],
        [
         "United States",
         "Guatemala",
         318
        ],
        [
         "Chile",
         "United States",
         174
        ],
        [
         "Kosovo",
         "United States",
         1
        ],
        [
         "United States",
         "Dominican Republic",
         1420
        ],
        [
         "Spain",
         "United States",
         420
        ],
        [
         "Bahrain",
         "United States",
         19
        ],
        [
         "United States",
         "Greece",
         23
        ],
        [
         "United States",
         "Saint Kitts and Nevis",
         145
        ],
        [
         "United States",
         "Paraguay",
         6
        ],
        [
         "Papua New Guinea",
         "United States",
         3
        ],
        [
         "Nicaragua",
         "United States",
         179
        ],
        [
         "United States",
         "Suriname",
         34
        ],
        [
         "United States",
         "Spain",
         442
        ],
        [
         "Thailand",
         "United States",
         3
        ],
        [
         "Samoa",
         "United States",
         25
        ],
        [
         "Canada",
         "United States",
         8399
        ],
        [
         "United States",
         "The Bahamas",
         986
        ],
        [
         "United States",
         "Argentina",
         141
        ],
        [
         "Paraguay",
         "United States",
         60
        ],
        [
         "Iceland",
         "United States",
         181
        ],
        [
         "United States",
         "Greenland",
         4
        ],
        [
         "Haiti",
         "United States",
         226
        ],
        [
         "United States",
         "Indonesia",
         2
        ],
        [
         "United States",
         "British Virgin Islands",
         80
        ],
        [
         "Suriname",
         "United States",
         1
        ],
        [
         "United States",
         "Jordan",
         44
        ],
        [
         "United States",
         "Fiji",
         25
        ],
        [
         "United States",
         "Costa Rica",
         608
        ],
        [
         "Jamaica",
         "United States",
         666
        ],
        [
         "Hong Kong",
         "United States",
         332
        ],
        [
         "Belize",
         "United States",
         188
        ],
        [
         "United States",
         "Lithuania",
         1
        ],
        [
         "United States",
         "China",
         920
        ],
        [
         "Malaysia",
         "United States",
         2
        ],
        [
         "Saint Lucia",
         "United States",
         123
        ],
        [
         "United States",
         "Portugal",
         134
        ],
        [
         "Ireland",
         "United States",
         335
        ],
        [
         "United States",
         "Japan",
         1496
        ],
        [
         "United States",
         "Kiribati",
         35
        ],
        [
         "Anguilla",
         "United States",
         41
        ],
        [
         "United States",
         "Bulgaria",
         1
        ],
        [
         "United States",
         "Austria",
         63
        ],
        [
         "Senegal",
         "United States",
         40
        ],
        [
         "Jordan",
         "United States",
         44
        ],
        [
         "United States",
         "Cape Verde",
         14
        ],
        [
         "Mexico",
         "United States",
         7140
        ],
        [
         "Bolivia",
         "United States",
         30
        ],
        [
         "United States",
         "Dominica",
         27
        ],
        [
         "Kuwait",
         "United States",
         32
        ],
        [
         "French Guiana",
         "United States",
         5
        ],
        [
         "United States",
         "Philippines",
         126
        ],
        [
         "Ukraine",
         "United States",
         14
        ],
        [
         "United States",
         "Turkey",
         129
        ],
        [
         "Pakistan",
         "United States",
         12
        ],
        [
         "Sweden",
         "United States",
         118
        ],
        [
         "Martinique",
         "United States",
         44
        ],
        [
         "United States",
         "South Africa",
         40
        ],
        [
         "Tunisia",
         "United States",
         3
        ],
        [
         "Angola",
         "United States",
         15
        ],
        [
         "Saint Kitts and Nevis",
         "United States",
         139
        ],
        [
         "United States",
         "Cook Islands",
         13
        ],
        [
         "Burkina Faso",
         "United States",
         1
        ],
        [
         "Malta",
         "United States",
         1
        ],
        [
         "United States",
         "Ghana",
         20
        ],
        [
         "Ethiopia",
         "United States",
         13
        ],
        [
         "United States",
         "Antigua and Barbuda",
         117
        ],
        [
         "United States",
         "Denmark",
         152
        ],
        [
         "El Salvador",
         "United States",
         561
        ],
        [
         "United States",
         "Senegal",
         42
        ],
        [
         "United States",
         "India",
         62
        ],
        [
         "United States",
         "Mexico",
         7187
        ],
        [
         "France",
         "United States",
         935
        ],
        [
         "United States",
         "Bolivia",
         13
        ],
        [
         "Greenland",
         "United States",
         2
        ],
        [
         "United States",
         "Aruba",
         342
        ],
        [
         "United States",
         "Nigeria",
         50
        ],
        [
         "United States",
         "Guyana",
         63
        ],
        [
         "United States",
         "Ukraine",
         13
        ],
        [
         "United States",
         "Haiti",
         225
        ],
        [
         "Norway",
         "United States",
         121
        ],
        [
         "South Africa",
         "United States",
         36
        ],
        [
         "Antigua and Barbuda",
         "United States",
         126
        ],
        [
         "United States",
         "Bonaire, Sint Eustatius, and Saba",
         59
        ],
        [
         "United States",
         "Thailand",
         4
        ],
        [
         "Zambia",
         "United States",
         1
        ],
        [
         "Cuba",
         "United States",
         466
        ],
        [
         "Sint Maarten",
         "United States",
         325
        ],
        [
         "New Zealand",
         "United States",
         111
        ],
        [
         "Cape Verde",
         "United States",
         20
        ],
        [
         "Guatemala",
         "United States",
         397
        ],
        [
         "United States",
         "Belgium",
         228
        ],
        [
         "Federated States of Micronesia",
         "United States",
         69
        ],
        [
         "Kiribati",
         "United States",
         26
        ],
        [
         "United States",
         "Azerbaijan",
         21
        ],
        [
         "Netherlands",
         "United States",
         776
        ],
        [
         "United States",
         "Czech Republic",
         12
        ],
        [
         "United States",
         "Ireland",
         344
        ],
        [
         "United States",
         "Turks and Caicos Islands",
         236
        ],
        [
         "Latvia",
         "United States",
         19
        ],
        [
         "United States",
         "Honduras",
         407
        ],
        [
         "Romania",
         "United States",
         14
        ],
        [
         "United States",
         "Italy",
         438
        ],
        [
         "Morocco",
         "United States",
         15
        ],
        [
         "Dominican Republic",
         "United States",
         1353
        ],
        [
         "Austria",
         "United States",
         62
        ],
        [
         "Singapore",
         "United States",
         3
        ],
        [
         "United States",
         "New Zealand",
         74
        ],
        [
         "United States",
         "Ecuador",
         300
        ],
        [
         "Honduras",
         "United States",
         362
        ],
        [
         "United States",
         "Papua New Guinea",
         1
        ],
        [
         "Trinidad and Tobago",
         "United States",
         211
        ],
        [
         "Azerbaijan",
         "United States",
         21
        ],
        [
         "United States",
         "Norway",
         115
        ],
        [
         "United States",
         "Barbados",
         130
        ],
        [
         "United States",
         "Sweden",
         119
        ],
        [
         "Nigeria",
         "United States",
         59
        ],
        [
         "United States",
         "Finland",
         28
        ],
        [
         "Palau",
         "United States",
         30
        ],
        [
         "Costa Rica",
         "United States",
         588
        ],
        [
         "United States",
         "Iceland",
         202
        ],
        [
         "The Bahamas",
         "United States",
         955
        ],
        [
         "Argentina",
         "United States",
         180
        ],
        [
         "United States",
         "Croatia",
         1
        ],
        [
         "United States",
         "Federated States of Micronesia",
         69
        ],
        [
         "Guadeloupe",
         "United States",
         56
        ],
        [
         "Panama",
         "United States",
         510
        ],
        [
         "Turkey",
         "United States",
         138
        ],
        [
         "United States",
         "Estonia",
         1
        ],
        [
         "Czech Republic",
         "United States",
         13
        ],
        [
         "United States",
         "Panama",
         465
        ]
       ],
       "datasetInfos": [],
       "dbfsResultPath": null,
       "isJsonSchema": true,
       "metadata": {},
       "overflow": false,
       "plotOptions": {
        "customPlotOptions": {},
        "displayType": "table",
        "pivotAggregation": null,
        "pivotColumns": null,
        "xColumns": null,
        "yColumns": null
       },
       "removedWidgets": [],
       "schema": [
        {
         "metadata": "{}",
         "name": "DEST_COUNTRY_NAME",
         "type": "\"string\""
        },
        {
         "metadata": "{}",
         "name": "ORIGIN_COUNTRY_NAME",
         "type": "\"string\""
        },
        {
         "metadata": "{}",
         "name": "count",
         "type": "\"integer\""
        }
       ],
       "type": "table"
      }
     },
     "output_type": "display_data"
    }
   ],
   "source": [
    "coalesce_df.display()"
   ]
  },
  {
   "cell_type": "code",
   "execution_count": 0,
   "metadata": {
    "application/vnd.databricks.v1+cell": {
     "cellMetadata": {
      "byteLimit": 2048000,
      "rowLimit": 10000
     },
     "inputWidgets": {},
     "nuid": "1633da93-c48e-4752-a8cd-29b2f2f49272",
     "showTitle": false,
     "tableResultSettingsMap": {},
     "title": ""
    }
   },
   "outputs": [
    {
     "output_type": "display_data",
     "data": {
      "text/html": [
       "<style scoped>\n",
       "  .table-result-container {\n",
       "    max-height: 300px;\n",
       "    overflow: auto;\n",
       "  }\n",
       "  table, th, td {\n",
       "    border: 1px solid black;\n",
       "    border-collapse: collapse;\n",
       "  }\n",
       "  th, td {\n",
       "    padding: 5px;\n",
       "  }\n",
       "  th {\n",
       "    text-align: left;\n",
       "  }\n",
       "</style><div class='table-result-container'><table class='table-result'><thead style='background-color: white'><tr><th>partionID</th><th>count</th></tr></thead><tbody><tr><td>0</td><td>32</td></tr><tr><td>1</td><td>32</td></tr><tr><td>2</td><td>32</td></tr><tr><td>3</td><td>32</td></tr><tr><td>4</td><td>32</td></tr><tr><td>5</td><td>32</td></tr><tr><td>6</td><td>32</td></tr><tr><td>7</td><td>32</td></tr></tbody></table></div>"
      ]
     },
     "metadata": {
      "application/vnd.databricks.v1+output": {
       "addedWidgets": {},
       "aggData": [],
       "aggError": "",
       "aggOverflow": false,
       "aggSchema": [],
       "aggSeriesLimitReached": false,
       "aggType": "",
       "arguments": {},
       "columnCustomDisplayInfos": {},
       "data": [
        [
         0,
         32
        ],
        [
         1,
         32
        ],
        [
         2,
         32
        ],
        [
         3,
         32
        ],
        [
         4,
         32
        ],
        [
         5,
         32
        ],
        [
         6,
         32
        ],
        [
         7,
         32
        ]
       ],
       "datasetInfos": [],
       "dbfsResultPath": null,
       "isJsonSchema": true,
       "metadata": {},
       "overflow": false,
       "plotOptions": {
        "customPlotOptions": {},
        "displayType": "table",
        "pivotAggregation": null,
        "pivotColumns": null,
        "xColumns": null,
        "yColumns": null
       },
       "removedWidgets": [],
       "schema": [
        {
         "metadata": "{}",
         "name": "partionID",
         "type": "\"integer\""
        },
        {
         "metadata": "{}",
         "name": "count",
         "type": "\"long\""
        }
       ],
       "type": "table"
      }
     },
     "output_type": "display_data"
    }
   ],
   "source": [
    "coalesce_df.withColumn('partionID',spark_partition_id()).groupBy('partionID').count().display()"
   ]
  },
  {
   "cell_type": "code",
   "execution_count": 0,
   "metadata": {
    "application/vnd.databricks.v1+cell": {
     "cellMetadata": {
      "byteLimit": 2048000,
      "rowLimit": 10000
     },
     "inputWidgets": {},
     "nuid": "ea89071b-f4b1-42da-b949-f7164c706734",
     "showTitle": false,
     "tableResultSettingsMap": {},
     "title": ""
    }
   },
   "outputs": [],
   "source": [
    "col_df = coalesce_df.coalesce(3)"
   ]
  },
  {
   "cell_type": "code",
   "execution_count": 0,
   "metadata": {
    "application/vnd.databricks.v1+cell": {
     "cellMetadata": {
      "byteLimit": 2048000,
      "rowLimit": 10000
     },
     "inputWidgets": {},
     "nuid": "324c21b0-045e-4d4d-8a09-e3f81011f277",
     "showTitle": false,
     "tableResultSettingsMap": {},
     "title": ""
    }
   },
   "outputs": [
    {
     "output_type": "display_data",
     "data": {
      "text/html": [
       "<style scoped>\n",
       "  .table-result-container {\n",
       "    max-height: 300px;\n",
       "    overflow: auto;\n",
       "  }\n",
       "  table, th, td {\n",
       "    border: 1px solid black;\n",
       "    border-collapse: collapse;\n",
       "  }\n",
       "  th, td {\n",
       "    padding: 5px;\n",
       "  }\n",
       "  th {\n",
       "    text-align: left;\n",
       "  }\n",
       "</style><div class='table-result-container'><table class='table-result'><thead style='background-color: white'><tr><th>PartitionID</th><th>count</th></tr></thead><tbody><tr><td>0</td><td>64</td></tr><tr><td>1</td><td>96</td></tr><tr><td>2</td><td>96</td></tr></tbody></table></div>"
      ]
     },
     "metadata": {
      "application/vnd.databricks.v1+output": {
       "addedWidgets": {},
       "aggData": [],
       "aggError": "",
       "aggOverflow": false,
       "aggSchema": [],
       "aggSeriesLimitReached": false,
       "aggType": "",
       "arguments": {},
       "columnCustomDisplayInfos": {},
       "data": [
        [
         0,
         64
        ],
        [
         1,
         96
        ],
        [
         2,
         96
        ]
       ],
       "datasetInfos": [],
       "dbfsResultPath": null,
       "isJsonSchema": true,
       "metadata": {},
       "overflow": false,
       "plotOptions": {
        "customPlotOptions": {},
        "displayType": "table",
        "pivotAggregation": null,
        "pivotColumns": null,
        "xColumns": null,
        "yColumns": null
       },
       "removedWidgets": [],
       "schema": [
        {
         "metadata": "{}",
         "name": "PartitionID",
         "type": "\"integer\""
        },
        {
         "metadata": "{}",
         "name": "count",
         "type": "\"long\""
        }
       ],
       "type": "table"
      }
     },
     "output_type": "display_data"
    }
   ],
   "source": [
    "col_df.withColumn('PartitionID',spark_partition_id()).groupBy('PartitionID').count().display()"
   ]
  },
  {
   "cell_type": "code",
   "execution_count": 0,
   "metadata": {
    "application/vnd.databricks.v1+cell": {
     "cellMetadata": {},
     "inputWidgets": {},
     "nuid": "56818b16-7978-43b8-868b-5e78e6a4633c",
     "showTitle": false,
     "tableResultSettingsMap": {},
     "title": ""
    }
   },
   "outputs": [],
   "source": []
  }
 ],
 "metadata": {
  "application/vnd.databricks.v1+notebook": {
   "computePreferences": null,
   "dashboards": [],
   "environmentMetadata": {
    "base_environment": "",
    "environment_version": "1"
   },
   "inputWidgetPreferences": null,
   "language": "python",
   "notebookMetadata": {
    "pythonIndentUnit": 4
   },
   "notebookName": "repartition vs coalesce",
   "widgets": {}
  }
 },
 "nbformat": 4,
 "nbformat_minor": 0
}
