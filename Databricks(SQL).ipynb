{
 "cells": [
  {
   "cell_type": "markdown",
   "metadata": {
    "application/vnd.databricks.v1+cell": {
     "cellMetadata": {},
     "inputWidgets": {},
     "nuid": "114a5705-4ea1-4a19-952d-63fd4344d4d0",
     "showTitle": false,
     "tableResultSettingsMap": {},
     "title": ""
    }
   },
   "source": [
    "### create a delta table(using SQL)"
   ]
  },
  {
   "cell_type": "code",
   "execution_count": 0,
   "metadata": {
    "application/vnd.databricks.v1+cell": {
     "cellMetadata": {
      "byteLimit": 2048000,
      "implicitDf": true,
      "rowLimit": 10000
     },
     "inputWidgets": {},
     "nuid": "c92bad19-7940-488b-97d2-0db11d21ba8d",
     "showTitle": false,
     "tableResultSettingsMap": {},
     "title": ""
    }
   },
   "outputs": [
    {
     "output_type": "display_data",
     "data": {
      "text/html": [
       "<style scoped>\n",
       "  .table-result-container {\n",
       "    max-height: 300px;\n",
       "    overflow: auto;\n",
       "  }\n",
       "  table, th, td {\n",
       "    border: 1px solid black;\n",
       "    border-collapse: collapse;\n",
       "  }\n",
       "  th, td {\n",
       "    padding: 5px;\n",
       "  }\n",
       "  th {\n",
       "    text-align: left;\n",
       "  }\n",
       "</style><div class='table-result-container'><table class='table-result'><thead style='background-color: white'><tr></tr></thead><tbody></tbody></table></div>"
      ]
     },
     "metadata": {
      "application/vnd.databricks.v1+output": {
       "addedWidgets": {},
       "aggData": [],
       "aggError": "",
       "aggOverflow": false,
       "aggSchema": [],
       "aggSeriesLimitReached": false,
       "aggType": "",
       "arguments": {},
       "columnCustomDisplayInfos": {},
       "data": [],
       "datasetInfos": [],
       "dbfsResultPath": null,
       "isJsonSchema": true,
       "metadata": {},
       "overflow": false,
       "plotOptions": {
        "customPlotOptions": {},
        "displayType": "table",
        "pivotAggregation": null,
        "pivotColumns": null,
        "xColumns": null,
        "yColumns": null
       },
       "removedWidgets": [],
       "schema": [],
       "type": "table"
      }
     },
     "output_type": "display_data"
    }
   ],
   "source": [
    "%sql\n",
    "create database if not exists sales_bd;\n",
    "\n"
   ]
  },
  {
   "cell_type": "code",
   "execution_count": 0,
   "metadata": {
    "application/vnd.databricks.v1+cell": {
     "cellMetadata": {
      "byteLimit": 2048000,
      "implicitDf": true,
      "rowLimit": 10000
     },
     "inputWidgets": {},
     "nuid": "3eefd3a3-c4ea-4a06-bc04-1715fde8f249",
     "showTitle": false,
     "tableResultSettingsMap": {},
     "title": ""
    }
   },
   "outputs": [
    {
     "output_type": "display_data",
     "data": {
      "text/html": [
       "<style scoped>\n",
       "  .table-result-container {\n",
       "    max-height: 300px;\n",
       "    overflow: auto;\n",
       "  }\n",
       "  table, th, td {\n",
       "    border: 1px solid black;\n",
       "    border-collapse: collapse;\n",
       "  }\n",
       "  th, td {\n",
       "    padding: 5px;\n",
       "  }\n",
       "  th {\n",
       "    text-align: left;\n",
       "  }\n",
       "</style><div class='table-result-container'><table class='table-result'><thead style='background-color: white'><tr></tr></thead><tbody></tbody></table></div>"
      ]
     },
     "metadata": {
      "application/vnd.databricks.v1+output": {
       "addedWidgets": {},
       "aggData": [],
       "aggError": "",
       "aggOverflow": false,
       "aggSchema": [],
       "aggSeriesLimitReached": false,
       "aggType": "",
       "arguments": {},
       "columnCustomDisplayInfos": {},
       "data": [],
       "datasetInfos": [],
       "dbfsResultPath": null,
       "isJsonSchema": true,
       "metadata": {},
       "overflow": false,
       "plotOptions": {
        "customPlotOptions": {},
        "displayType": "table",
        "pivotAggregation": null,
        "pivotColumns": null,
        "xColumns": null,
        "yColumns": null
       },
       "removedWidgets": [],
       "schema": [],
       "type": "table"
      }
     },
     "output_type": "display_data"
    }
   ],
   "source": [
    "%sql\n",
    "use sales_bd;\n"
   ]
  },
  {
   "cell_type": "code",
   "execution_count": 0,
   "metadata": {
    "application/vnd.databricks.v1+cell": {
     "cellMetadata": {
      "byteLimit": 2048000,
      "implicitDf": true,
      "rowLimit": 10000
     },
     "inputWidgets": {},
     "nuid": "ade5b378-d42d-4666-8ea1-ec095d507e7c",
     "showTitle": false,
     "tableResultSettingsMap": {},
     "title": ""
    }
   },
   "outputs": [
    {
     "output_type": "display_data",
     "data": {
      "text/html": [
       "<style scoped>\n",
       "  .table-result-container {\n",
       "    max-height: 300px;\n",
       "    overflow: auto;\n",
       "  }\n",
       "  table, th, td {\n",
       "    border: 1px solid black;\n",
       "    border-collapse: collapse;\n",
       "  }\n",
       "  th, td {\n",
       "    padding: 5px;\n",
       "  }\n",
       "  th {\n",
       "    text-align: left;\n",
       "  }\n",
       "</style><div class='table-result-container'><table class='table-result'><thead style='background-color: white'><tr></tr></thead><tbody></tbody></table></div>"
      ]
     },
     "metadata": {
      "application/vnd.databricks.v1+output": {
       "addedWidgets": {},
       "aggData": [],
       "aggError": "",
       "aggOverflow": false,
       "aggSchema": [],
       "aggSeriesLimitReached": false,
       "aggType": "",
       "arguments": {},
       "columnCustomDisplayInfos": {},
       "data": [],
       "datasetInfos": [],
       "dbfsResultPath": null,
       "isJsonSchema": true,
       "metadata": {},
       "overflow": false,
       "plotOptions": {
        "customPlotOptions": {},
        "displayType": "table",
        "pivotAggregation": null,
        "pivotColumns": null,
        "xColumns": null,
        "yColumns": null
       },
       "removedWidgets": [],
       "schema": [],
       "type": "table"
      }
     },
     "output_type": "display_data"
    }
   ],
   "source": [
    "%sql\n",
    "create table if not exists customer_data(\n",
    "  customer_id integer,\n",
    "  name string,\n",
    "  email string\n",
    "  \n",
    ")using delta"
   ]
  },
  {
   "cell_type": "code",
   "execution_count": 0,
   "metadata": {
    "application/vnd.databricks.v1+cell": {
     "cellMetadata": {
      "byteLimit": 2048000,
      "implicitDf": true,
      "rowLimit": 10000
     },
     "inputWidgets": {},
     "nuid": "f91cccb3-3c10-46af-a11d-9954b0a70543",
     "showTitle": false,
     "tableResultSettingsMap": {},
     "title": ""
    }
   },
   "outputs": [
    {
     "output_type": "display_data",
     "data": {
      "text/html": [
       "<style scoped>\n",
       "  .table-result-container {\n",
       "    max-height: 300px;\n",
       "    overflow: auto;\n",
       "  }\n",
       "  table, th, td {\n",
       "    border: 1px solid black;\n",
       "    border-collapse: collapse;\n",
       "  }\n",
       "  th, td {\n",
       "    padding: 5px;\n",
       "  }\n",
       "  th {\n",
       "    text-align: left;\n",
       "  }\n",
       "</style><div class='table-result-container'><table class='table-result'><thead style='background-color: white'><tr><th>num_affected_rows</th><th>num_inserted_rows</th></tr></thead><tbody><tr><td>3</td><td>3</td></tr></tbody></table></div>"
      ]
     },
     "metadata": {
      "application/vnd.databricks.v1+output": {
       "addedWidgets": {},
       "aggData": [],
       "aggError": "",
       "aggOverflow": false,
       "aggSchema": [],
       "aggSeriesLimitReached": false,
       "aggType": "",
       "arguments": {},
       "columnCustomDisplayInfos": {},
       "data": [
        [
         3,
         3
        ]
       ],
       "datasetInfos": [],
       "dbfsResultPath": null,
       "isJsonSchema": true,
       "metadata": {},
       "overflow": false,
       "plotOptions": {
        "customPlotOptions": {},
        "displayType": "table",
        "pivotAggregation": null,
        "pivotColumns": null,
        "xColumns": null,
        "yColumns": null
       },
       "removedWidgets": [],
       "schema": [
        {
         "metadata": "{}",
         "name": "num_affected_rows",
         "type": "\"long\""
        },
        {
         "metadata": "{}",
         "name": "num_inserted_rows",
         "type": "\"long\""
        }
       ],
       "type": "table"
      }
     },
     "output_type": "display_data"
    }
   ],
   "source": [
    "%sql\n",
    "insert into customer_data values(1,'sonu','sou@gmail.com'),(2,'rohit','sdo@gmail.com'),(3,'mohit','mohit@gmail.com')"
   ]
  },
  {
   "cell_type": "code",
   "execution_count": 0,
   "metadata": {
    "application/vnd.databricks.v1+cell": {
     "cellMetadata": {
      "byteLimit": 2048000,
      "implicitDf": true,
      "rowLimit": 10000
     },
     "inputWidgets": {},
     "nuid": "24a3349b-9411-48dd-9758-3b5029ac0e84",
     "showTitle": false,
     "tableResultSettingsMap": {},
     "title": ""
    }
   },
   "outputs": [
    {
     "output_type": "display_data",
     "data": {
      "text/html": [
       "<style scoped>\n",
       "  .table-result-container {\n",
       "    max-height: 300px;\n",
       "    overflow: auto;\n",
       "  }\n",
       "  table, th, td {\n",
       "    border: 1px solid black;\n",
       "    border-collapse: collapse;\n",
       "  }\n",
       "  th, td {\n",
       "    padding: 5px;\n",
       "  }\n",
       "  th {\n",
       "    text-align: left;\n",
       "  }\n",
       "</style><div class='table-result-container'><table class='table-result'><thead style='background-color: white'><tr><th>customer_id</th><th>name</th><th>email</th></tr></thead><tbody><tr><td>1</td><td>sonu</td><td>sou@gmail.com</td></tr><tr><td>2</td><td>rohit</td><td>sdo@gmail.com</td></tr><tr><td>3</td><td>mohit</td><td>mohit@gmail.com</td></tr></tbody></table></div>"
      ]
     },
     "metadata": {
      "application/vnd.databricks.v1+output": {
       "addedWidgets": {},
       "aggData": [],
       "aggError": "",
       "aggOverflow": false,
       "aggSchema": [],
       "aggSeriesLimitReached": false,
       "aggType": "",
       "arguments": {},
       "columnCustomDisplayInfos": {},
       "data": [
        [
         1,
         "sonu",
         "sou@gmail.com"
        ],
        [
         2,
         "rohit",
         "sdo@gmail.com"
        ],
        [
         3,
         "mohit",
         "mohit@gmail.com"
        ]
       ],
       "datasetInfos": [],
       "dbfsResultPath": null,
       "isJsonSchema": true,
       "metadata": {},
       "overflow": false,
       "plotOptions": {
        "customPlotOptions": {},
        "displayType": "table",
        "pivotAggregation": null,
        "pivotColumns": null,
        "xColumns": null,
        "yColumns": null
       },
       "removedWidgets": [],
       "schema": [
        {
         "metadata": "{}",
         "name": "customer_id",
         "type": "\"integer\""
        },
        {
         "metadata": "{}",
         "name": "name",
         "type": "\"string\""
        },
        {
         "metadata": "{}",
         "name": "email",
         "type": "\"string\""
        }
       ],
       "type": "table"
      }
     },
     "output_type": "display_data"
    }
   ],
   "source": [
    "%sql\n",
    "select * from customer_data;"
   ]
  },
  {
   "cell_type": "code",
   "execution_count": 0,
   "metadata": {
    "application/vnd.databricks.v1+cell": {
     "cellMetadata": {
      "byteLimit": 2048000,
      "implicitDf": true,
      "rowLimit": 10000
     },
     "inputWidgets": {},
     "nuid": "4acb7347-5e1f-415e-875b-dd147206c8ad",
     "showTitle": false,
     "tableResultSettingsMap": {},
     "title": ""
    }
   },
   "outputs": [
    {
     "output_type": "display_data",
     "data": {
      "text/html": [
       "<style scoped>\n",
       "  .table-result-container {\n",
       "    max-height: 300px;\n",
       "    overflow: auto;\n",
       "  }\n",
       "  table, th, td {\n",
       "    border: 1px solid black;\n",
       "    border-collapse: collapse;\n",
       "  }\n",
       "  th, td {\n",
       "    padding: 5px;\n",
       "  }\n",
       "  th {\n",
       "    text-align: left;\n",
       "  }\n",
       "</style><div class='table-result-container'><table class='table-result'><thead style='background-color: white'><tr><th>num_affected_rows</th><th>num_inserted_rows</th></tr></thead><tbody><tr><td>2</td><td>2</td></tr></tbody></table></div>"
      ]
     },
     "metadata": {
      "application/vnd.databricks.v1+output": {
       "addedWidgets": {},
       "aggData": [],
       "aggError": "",
       "aggOverflow": false,
       "aggSchema": [],
       "aggSeriesLimitReached": false,
       "aggType": "",
       "arguments": {},
       "columnCustomDisplayInfos": {},
       "data": [
        [
         2,
         2
        ]
       ],
       "datasetInfos": [],
       "dbfsResultPath": null,
       "isJsonSchema": true,
       "metadata": {},
       "overflow": false,
       "plotOptions": {
        "customPlotOptions": {},
        "displayType": "table",
        "pivotAggregation": null,
        "pivotColumns": null,
        "xColumns": null,
        "yColumns": null
       },
       "removedWidgets": [],
       "schema": [
        {
         "metadata": "{}",
         "name": "num_affected_rows",
         "type": "\"long\""
        },
        {
         "metadata": "{}",
         "name": "num_inserted_rows",
         "type": "\"long\""
        }
       ],
       "type": "table"
      }
     },
     "output_type": "display_data"
    }
   ],
   "source": [
    "%sql\n",
    "\n",
    "insert into customer_data values(4,'sonu','so78@gmail.com'),(5,'mohit','mohitd54@gmail.com')"
   ]
  },
  {
   "cell_type": "code",
   "execution_count": 0,
   "metadata": {
    "application/vnd.databricks.v1+cell": {
     "cellMetadata": {
      "byteLimit": 2048000,
      "implicitDf": true,
      "rowLimit": 10000
     },
     "inputWidgets": {},
     "nuid": "13e52622-c549-44a7-a1ef-f5d4d911cdca",
     "showTitle": false,
     "tableResultSettingsMap": {},
     "title": ""
    }
   },
   "outputs": [
    {
     "output_type": "display_data",
     "data": {
      "text/html": [
       "<style scoped>\n",
       "  .table-result-container {\n",
       "    max-height: 300px;\n",
       "    overflow: auto;\n",
       "  }\n",
       "  table, th, td {\n",
       "    border: 1px solid black;\n",
       "    border-collapse: collapse;\n",
       "  }\n",
       "  th, td {\n",
       "    padding: 5px;\n",
       "  }\n",
       "  th {\n",
       "    text-align: left;\n",
       "  }\n",
       "</style><div class='table-result-container'><table class='table-result'><thead style='background-color: white'><tr><th>customer_id</th><th>name</th><th>email</th></tr></thead><tbody><tr><td>1</td><td>sonu</td><td>sou@gmail.com</td></tr><tr><td>2</td><td>rohit</td><td>sdo@gmail.com</td></tr><tr><td>3</td><td>mohit</td><td>mohit@gmail.com</td></tr><tr><td>4</td><td>sonu</td><td>so78@gmail.com</td></tr><tr><td>5</td><td>mohit</td><td>mohitd54@gmail.com</td></tr></tbody></table></div>"
      ]
     },
     "metadata": {
      "application/vnd.databricks.v1+output": {
       "addedWidgets": {},
       "aggData": [],
       "aggError": "",
       "aggOverflow": false,
       "aggSchema": [],
       "aggSeriesLimitReached": false,
       "aggType": "",
       "arguments": {},
       "columnCustomDisplayInfos": {},
       "data": [
        [
         1,
         "sonu",
         "sou@gmail.com"
        ],
        [
         2,
         "rohit",
         "sdo@gmail.com"
        ],
        [
         3,
         "mohit",
         "mohit@gmail.com"
        ],
        [
         4,
         "sonu",
         "so78@gmail.com"
        ],
        [
         5,
         "mohit",
         "mohitd54@gmail.com"
        ]
       ],
       "datasetInfos": [],
       "dbfsResultPath": null,
       "isJsonSchema": true,
       "metadata": {},
       "overflow": false,
       "plotOptions": {
        "customPlotOptions": {},
        "displayType": "table",
        "pivotAggregation": null,
        "pivotColumns": null,
        "xColumns": null,
        "yColumns": null
       },
       "removedWidgets": [],
       "schema": [
        {
         "metadata": "{}",
         "name": "customer_id",
         "type": "\"integer\""
        },
        {
         "metadata": "{}",
         "name": "name",
         "type": "\"string\""
        },
        {
         "metadata": "{}",
         "name": "email",
         "type": "\"string\""
        }
       ],
       "type": "table"
      }
     },
     "output_type": "display_data"
    }
   ],
   "source": [
    "%sql\n",
    "select * from customer_data;"
   ]
  },
  {
   "cell_type": "code",
   "execution_count": 0,
   "metadata": {
    "application/vnd.databricks.v1+cell": {
     "cellMetadata": {
      "byteLimit": 2048000,
      "implicitDf": true,
      "rowLimit": 10000
     },
     "inputWidgets": {},
     "nuid": "7b8f819c-1f04-4ed5-a6a1-554c30189640",
     "showTitle": false,
     "tableResultSettingsMap": {},
     "title": ""
    }
   },
   "outputs": [
    {
     "output_type": "display_data",
     "data": {
      "text/html": [
       "<style scoped>\n",
       "  .table-result-container {\n",
       "    max-height: 300px;\n",
       "    overflow: auto;\n",
       "  }\n",
       "  table, th, td {\n",
       "    border: 1px solid black;\n",
       "    border-collapse: collapse;\n",
       "  }\n",
       "  th, td {\n",
       "    padding: 5px;\n",
       "  }\n",
       "  th {\n",
       "    text-align: left;\n",
       "  }\n",
       "</style><div class='table-result-container'><table class='table-result'><thead style='background-color: white'><tr><th>name</th><th>count(1)</th></tr></thead><tbody><tr><td>mohit</td><td>2</td></tr><tr><td>rohit</td><td>1</td></tr><tr><td>sonu</td><td>2</td></tr></tbody></table></div>"
      ]
     },
     "metadata": {
      "application/vnd.databricks.v1+output": {
       "addedWidgets": {},
       "aggData": [],
       "aggError": "",
       "aggOverflow": false,
       "aggSchema": [],
       "aggSeriesLimitReached": false,
       "aggType": "",
       "arguments": {},
       "columnCustomDisplayInfos": {},
       "data": [
        [
         "mohit",
         2
        ],
        [
         "rohit",
         1
        ],
        [
         "sonu",
         2
        ]
       ],
       "datasetInfos": [],
       "dbfsResultPath": null,
       "isJsonSchema": true,
       "metadata": {},
       "overflow": false,
       "plotOptions": {
        "customPlotOptions": {},
        "displayType": "table",
        "pivotAggregation": null,
        "pivotColumns": null,
        "xColumns": null,
        "yColumns": null
       },
       "removedWidgets": [],
       "schema": [
        {
         "metadata": "{}",
         "name": "name",
         "type": "\"string\""
        },
        {
         "metadata": "{\"__autoGeneratedAlias\":\"true\"}",
         "name": "count(1)",
         "type": "\"long\""
        }
       ],
       "type": "table"
      }
     },
     "output_type": "display_data"
    }
   ],
   "source": [
    "%sql\n",
    "select name,count(*) from customer_data group by name;"
   ]
  },
  {
   "cell_type": "code",
   "execution_count": 0,
   "metadata": {
    "application/vnd.databricks.v1+cell": {
     "cellMetadata": {
      "byteLimit": 2048000,
      "implicitDf": true,
      "rowLimit": 10000
     },
     "inputWidgets": {},
     "nuid": "fa7ec979-8c69-4f49-a844-74fa551dd975",
     "showTitle": false,
     "tableResultSettingsMap": {},
     "title": ""
    }
   },
   "outputs": [
    {
     "output_type": "display_data",
     "data": {
      "text/html": [
       "<style scoped>\n",
       "  .table-result-container {\n",
       "    max-height: 300px;\n",
       "    overflow: auto;\n",
       "  }\n",
       "  table, th, td {\n",
       "    border: 1px solid black;\n",
       "    border-collapse: collapse;\n",
       "  }\n",
       "  th, td {\n",
       "    padding: 5px;\n",
       "  }\n",
       "  th {\n",
       "    text-align: left;\n",
       "  }\n",
       "</style><div class='table-result-container'><table class='table-result'><thead style='background-color: white'><tr></tr></thead><tbody></tbody></table></div>"
      ]
     },
     "metadata": {
      "application/vnd.databricks.v1+output": {
       "addedWidgets": {},
       "aggData": [],
       "aggError": "",
       "aggOverflow": false,
       "aggSchema": [],
       "aggSeriesLimitReached": false,
       "aggType": "",
       "arguments": {},
       "columnCustomDisplayInfos": {},
       "data": [],
       "datasetInfos": [],
       "dbfsResultPath": null,
       "isJsonSchema": true,
       "metadata": {},
       "overflow": false,
       "plotOptions": {
        "customPlotOptions": {},
        "displayType": "table",
        "pivotAggregation": null,
        "pivotColumns": null,
        "xColumns": null,
        "yColumns": null
       },
       "removedWidgets": [],
       "schema": [],
       "type": "table"
      }
     },
     "output_type": "display_data"
    }
   ],
   "source": [
    "%sql\n",
    "create table sdi (id integer,name string)"
   ]
  },
  {
   "cell_type": "code",
   "execution_count": 0,
   "metadata": {
    "application/vnd.databricks.v1+cell": {
     "cellMetadata": {
      "byteLimit": 2048000,
      "implicitDf": true,
      "rowLimit": 10000
     },
     "inputWidgets": {},
     "nuid": "86b6040f-53f9-421a-a520-23c3d260f635",
     "showTitle": false,
     "tableResultSettingsMap": {},
     "title": ""
    }
   },
   "outputs": [
    {
     "output_type": "display_data",
     "data": {
      "text/html": [
       "<style scoped>\n",
       "  .table-result-container {\n",
       "    max-height: 300px;\n",
       "    overflow: auto;\n",
       "  }\n",
       "  table, th, td {\n",
       "    border: 1px solid black;\n",
       "    border-collapse: collapse;\n",
       "  }\n",
       "  th, td {\n",
       "    padding: 5px;\n",
       "  }\n",
       "  th {\n",
       "    text-align: left;\n",
       "  }\n",
       "</style><div class='table-result-container'><table class='table-result'><thead style='background-color: white'><tr></tr></thead><tbody></tbody></table></div>"
      ]
     },
     "metadata": {
      "application/vnd.databricks.v1+output": {
       "addedWidgets": {},
       "aggData": [],
       "aggError": "",
       "aggOverflow": false,
       "aggSchema": [],
       "aggSeriesLimitReached": false,
       "aggType": "",
       "arguments": {},
       "columnCustomDisplayInfos": {},
       "data": [],
       "datasetInfos": [],
       "dbfsResultPath": null,
       "isJsonSchema": true,
       "metadata": {},
       "overflow": false,
       "plotOptions": {
        "customPlotOptions": {},
        "displayType": "table",
        "pivotAggregation": null,
        "pivotColumns": null,
        "xColumns": null,
        "yColumns": null
       },
       "removedWidgets": [],
       "schema": [],
       "type": "table"
      }
     },
     "output_type": "display_data"
    }
   ],
   "source": [
    "%sql\n",
    "use default"
   ]
  },
  {
   "cell_type": "code",
   "execution_count": 0,
   "metadata": {
    "application/vnd.databricks.v1+cell": {
     "cellMetadata": {
      "byteLimit": 2048000,
      "implicitDf": true,
      "rowLimit": 10000
     },
     "inputWidgets": {},
     "nuid": "13dc9ff8-d9db-478f-8e9a-13e7d8e7f194",
     "showTitle": false,
     "tableResultSettingsMap": {},
     "title": ""
    }
   },
   "outputs": [
    {
     "output_type": "display_data",
     "data": {
      "text/html": [
       "<style scoped>\n",
       "  .table-result-container {\n",
       "    max-height: 300px;\n",
       "    overflow: auto;\n",
       "  }\n",
       "  table, th, td {\n",
       "    border: 1px solid black;\n",
       "    border-collapse: collapse;\n",
       "  }\n",
       "  th, td {\n",
       "    padding: 5px;\n",
       "  }\n",
       "  th {\n",
       "    text-align: left;\n",
       "  }\n",
       "</style><div class='table-result-container'><table class='table-result'><thead style='background-color: white'><tr></tr></thead><tbody></tbody></table></div>"
      ]
     },
     "metadata": {
      "application/vnd.databricks.v1+output": {
       "addedWidgets": {},
       "aggData": [],
       "aggError": "",
       "aggOverflow": false,
       "aggSchema": [],
       "aggSeriesLimitReached": false,
       "aggType": "",
       "arguments": {},
       "columnCustomDisplayInfos": {},
       "data": [],
       "datasetInfos": [],
       "dbfsResultPath": null,
       "isJsonSchema": true,
       "metadata": {},
       "overflow": false,
       "plotOptions": {
        "customPlotOptions": {},
        "displayType": "table",
        "pivotAggregation": null,
        "pivotColumns": null,
        "xColumns": null,
        "yColumns": null
       },
       "removedWidgets": [],
       "schema": [],
       "type": "table"
      }
     },
     "output_type": "display_data"
    }
   ],
   "source": [
    "%sql\n",
    "create table dfk(id integer, name string)"
   ]
  },
  {
   "cell_type": "code",
   "execution_count": 0,
   "metadata": {
    "application/vnd.databricks.v1+cell": {
     "cellMetadata": {
      "byteLimit": 2048000,
      "rowLimit": 10000
     },
     "inputWidgets": {},
     "nuid": "4564cf84-0f46-49e1-82a8-26a5c0ff2e96",
     "showTitle": false,
     "tableResultSettingsMap": {},
     "title": ""
    }
   },
   "outputs": [
    {
     "output_type": "stream",
     "name": "stdout",
     "output_type": "stream",
     "text": [
      "Out[20]: [FileInfo(path='dbfs:/user/hive/warehouse/ar/', name='ar/', size=0, modificationTime=0),\n FileInfo(path='dbfs:/user/hive/warehouse/arien/', name='arien/', size=0, modificationTime=0),\n FileInfo(path='dbfs:/user/hive/warehouse/arya/', name='arya/', size=0, modificationTime=0),\n FileInfo(path='dbfs:/user/hive/warehouse/aryaji/', name='aryaji/', size=0, modificationTime=0),\n FileInfo(path='dbfs:/user/hive/warehouse/aryo0/', name='aryo0/', size=0, modificationTime=0),\n FileInfo(path='dbfs:/user/hive/warehouse/aryss/', name='aryss/', size=0, modificationTime=0),\n FileInfo(path='dbfs:/user/hive/warehouse/bhawanji/', name='bhawanji/', size=0, modificationTime=0),\n FileInfo(path='dbfs:/user/hive/warehouse/bhawna_jaipur/', name='bhawna_jaipur/', size=0, modificationTime=0),\n FileInfo(path='dbfs:/user/hive/warehouse/day2/', name='day2/', size=0, modificationTime=0),\n FileInfo(path='dbfs:/user/hive/warehouse/dfk/', name='dfk/', size=0, modificationTime=0),\n FileInfo(path='dbfs:/user/hive/warehouse/employees/', name='employees/', size=0, modificationTime=0),\n FileInfo(path='dbfs:/user/hive/warehouse/external_table_dir/', name='external_table_dir/', size=0, modificationTime=0),\n FileInfo(path='dbfs:/user/hive/warehouse/five/', name='five/', size=0, modificationTime=0),\n FileInfo(path='dbfs:/user/hive/warehouse/home/', name='home/', size=0, modificationTime=0),\n FileInfo(path='dbfs:/user/hive/warehouse/home5/', name='home5/', size=0, modificationTime=0),\n FileInfo(path='dbfs:/user/hive/warehouse/home6/', name='home6/', size=0, modificationTime=0),\n FileInfo(path='dbfs:/user/hive/warehouse/homes/', name='homes/', size=0, modificationTime=0),\n FileInfo(path='dbfs:/user/hive/warehouse/homess/', name='homess/', size=0, modificationTime=0),\n FileInfo(path='dbfs:/user/hive/warehouse/jaipur/', name='jaipur/', size=0, modificationTime=0),\n FileInfo(path='dbfs:/user/hive/warehouse/jaiput/', name='jaiput/', size=0, modificationTime=0),\n FileInfo(path='dbfs:/user/hive/warehouse/ji/', name='ji/', size=0, modificationTime=0),\n FileInfo(path='dbfs:/user/hive/warehouse/jiki/', name='jiki/', size=0, modificationTime=0),\n FileInfo(path='dbfs:/user/hive/warehouse/jis/', name='jis/', size=0, modificationTime=0),\n FileInfo(path='dbfs:/user/hive/warehouse/ki/', name='ki/', size=0, modificationTime=0),\n FileInfo(path='dbfs:/user/hive/warehouse/lo/', name='lo/', size=0, modificationTime=0),\n FileInfo(path='dbfs:/user/hive/warehouse/maat6/', name='maat6/', size=0, modificationTime=0),\n FileInfo(path='dbfs:/user/hive/warehouse/mi/', name='mi/', size=0, modificationTime=0),\n FileInfo(path='dbfs:/user/hive/warehouse/mis/', name='mis/', size=0, modificationTime=0),\n FileInfo(path='dbfs:/user/hive/warehouse/mki/', name='mki/', size=0, modificationTime=0),\n FileInfo(path='dbfs:/user/hive/warehouse/monu/', name='monu/', size=0, modificationTime=0),\n FileInfo(path='dbfs:/user/hive/warehouse/my_table/', name='my_table/', size=0, modificationTime=0),\n FileInfo(path='dbfs:/user/hive/warehouse/new_default.db/', name='new_default.db/', size=0, modificationTime=0),\n FileInfo(path='dbfs:/user/hive/warehouse/sales_bd.db/', name='sales_bd.db/', size=0, modificationTime=0),\n FileInfo(path='dbfs:/user/hive/warehouse/sd/', name='sd/', size=0, modificationTime=0),\n FileInfo(path='dbfs:/user/hive/warehouse/sddsf/', name='sddsf/', size=0, modificationTime=0),\n FileInfo(path='dbfs:/user/hive/warehouse/smart/', name='smart/', size=0, modificationTime=0),\n FileInfo(path='dbfs:/user/hive/warehouse/sonu/', name='sonu/', size=0, modificationTime=0),\n FileInfo(path='dbfs:/user/hive/warehouse/sonu_stud/', name='sonu_stud/', size=0, modificationTime=0),\n FileInfo(path='dbfs:/user/hive/warehouse/stu_datas/', name='stu_datas/', size=0, modificationTime=0),\n FileInfo(path='dbfs:/user/hive/warehouse/student/', name='student/', size=0, modificationTime=0),\n FileInfo(path='dbfs:/user/hive/warehouse/student_datas/', name='student_datas/', size=0, modificationTime=0),\n FileInfo(path='dbfs:/user/hive/warehouse/su/', name='su/', size=0, modificationTime=0),\n FileInfo(path='dbfs:/user/hive/warehouse/sunday/', name='sunday/', size=0, modificationTime=0),\n FileInfo(path='dbfs:/user/hive/warehouse/tabi/', name='tabi/', size=0, modificationTime=0),\n FileInfo(path='dbfs:/user/hive/warehouse/trans_load/', name='trans_load/', size=0, modificationTime=0),\n FileInfo(path='dbfs:/user/hive/warehouse/update/', name='update/', size=0, modificationTime=0)]"
     ]
    }
   ],
   "source": [
    "dbutils.fs.ls('dbfs:/user/hive/warehouse')"
   ]
  },
  {
   "cell_type": "code",
   "execution_count": 0,
   "metadata": {
    "application/vnd.databricks.v1+cell": {
     "cellMetadata": {
      "byteLimit": 2048000,
      "implicitDf": true,
      "rowLimit": 10000
     },
     "inputWidgets": {},
     "nuid": "03041a12-2b83-4f3d-a755-e15e3680e5c0",
     "showTitle": false,
     "tableResultSettingsMap": {},
     "title": ""
    }
   },
   "outputs": [
    {
     "output_type": "display_data",
     "data": {
      "text/html": [
       "<style scoped>\n",
       "  .table-result-container {\n",
       "    max-height: 300px;\n",
       "    overflow: auto;\n",
       "  }\n",
       "  table, th, td {\n",
       "    border: 1px solid black;\n",
       "    border-collapse: collapse;\n",
       "  }\n",
       "  th, td {\n",
       "    padding: 5px;\n",
       "  }\n",
       "  th {\n",
       "    text-align: left;\n",
       "  }\n",
       "</style><div class='table-result-container'><table class='table-result'><thead style='background-color: white'><tr></tr></thead><tbody></tbody></table></div>"
      ]
     },
     "metadata": {
      "application/vnd.databricks.v1+output": {
       "addedWidgets": {},
       "aggData": [],
       "aggError": "",
       "aggOverflow": false,
       "aggSchema": [],
       "aggSeriesLimitReached": false,
       "aggType": "",
       "arguments": {},
       "columnCustomDisplayInfos": {},
       "data": [],
       "datasetInfos": [],
       "dbfsResultPath": null,
       "isJsonSchema": true,
       "metadata": {},
       "overflow": false,
       "plotOptions": {
        "customPlotOptions": {},
        "displayType": "table",
        "pivotAggregation": null,
        "pivotColumns": null,
        "xColumns": null,
        "yColumns": null
       },
       "removedWidgets": [],
       "schema": [],
       "type": "table"
      }
     },
     "output_type": "display_data"
    }
   ],
   "source": [
    "%sql\n",
    "create table holi(name string , college_name string)"
   ]
  },
  {
   "cell_type": "code",
   "execution_count": 0,
   "metadata": {
    "application/vnd.databricks.v1+cell": {
     "cellMetadata": {
      "byteLimit": 2048000,
      "rowLimit": 10000
     },
     "inputWidgets": {},
     "nuid": "76c730a0-c582-4435-9d1a-8e7385a20513",
     "showTitle": false,
     "tableResultSettingsMap": {},
     "title": ""
    }
   },
   "outputs": [
    {
     "output_type": "stream",
     "name": "stdout",
     "output_type": "stream",
     "text": [
      "Out[22]: [FileInfo(path='dbfs:/user/hive/warehouse/ar/', name='ar/', size=0, modificationTime=0),\n FileInfo(path='dbfs:/user/hive/warehouse/arien/', name='arien/', size=0, modificationTime=0),\n FileInfo(path='dbfs:/user/hive/warehouse/arya/', name='arya/', size=0, modificationTime=0),\n FileInfo(path='dbfs:/user/hive/warehouse/aryaji/', name='aryaji/', size=0, modificationTime=0),\n FileInfo(path='dbfs:/user/hive/warehouse/aryo0/', name='aryo0/', size=0, modificationTime=0),\n FileInfo(path='dbfs:/user/hive/warehouse/aryss/', name='aryss/', size=0, modificationTime=0),\n FileInfo(path='dbfs:/user/hive/warehouse/bhawanji/', name='bhawanji/', size=0, modificationTime=0),\n FileInfo(path='dbfs:/user/hive/warehouse/bhawna_jaipur/', name='bhawna_jaipur/', size=0, modificationTime=0),\n FileInfo(path='dbfs:/user/hive/warehouse/day2/', name='day2/', size=0, modificationTime=0),\n FileInfo(path='dbfs:/user/hive/warehouse/dfk/', name='dfk/', size=0, modificationTime=0),\n FileInfo(path='dbfs:/user/hive/warehouse/employees/', name='employees/', size=0, modificationTime=0),\n FileInfo(path='dbfs:/user/hive/warehouse/external_table_dir/', name='external_table_dir/', size=0, modificationTime=0),\n FileInfo(path='dbfs:/user/hive/warehouse/five/', name='five/', size=0, modificationTime=0),\n FileInfo(path='dbfs:/user/hive/warehouse/holi/', name='holi/', size=0, modificationTime=0),\n FileInfo(path='dbfs:/user/hive/warehouse/home/', name='home/', size=0, modificationTime=0),\n FileInfo(path='dbfs:/user/hive/warehouse/home5/', name='home5/', size=0, modificationTime=0),\n FileInfo(path='dbfs:/user/hive/warehouse/home6/', name='home6/', size=0, modificationTime=0),\n FileInfo(path='dbfs:/user/hive/warehouse/homes/', name='homes/', size=0, modificationTime=0),\n FileInfo(path='dbfs:/user/hive/warehouse/homess/', name='homess/', size=0, modificationTime=0),\n FileInfo(path='dbfs:/user/hive/warehouse/jaipur/', name='jaipur/', size=0, modificationTime=0),\n FileInfo(path='dbfs:/user/hive/warehouse/jaiput/', name='jaiput/', size=0, modificationTime=0),\n FileInfo(path='dbfs:/user/hive/warehouse/ji/', name='ji/', size=0, modificationTime=0),\n FileInfo(path='dbfs:/user/hive/warehouse/jiki/', name='jiki/', size=0, modificationTime=0),\n FileInfo(path='dbfs:/user/hive/warehouse/jis/', name='jis/', size=0, modificationTime=0),\n FileInfo(path='dbfs:/user/hive/warehouse/ki/', name='ki/', size=0, modificationTime=0),\n FileInfo(path='dbfs:/user/hive/warehouse/lo/', name='lo/', size=0, modificationTime=0),\n FileInfo(path='dbfs:/user/hive/warehouse/maat6/', name='maat6/', size=0, modificationTime=0),\n FileInfo(path='dbfs:/user/hive/warehouse/mi/', name='mi/', size=0, modificationTime=0),\n FileInfo(path='dbfs:/user/hive/warehouse/mis/', name='mis/', size=0, modificationTime=0),\n FileInfo(path='dbfs:/user/hive/warehouse/mki/', name='mki/', size=0, modificationTime=0),\n FileInfo(path='dbfs:/user/hive/warehouse/monu/', name='monu/', size=0, modificationTime=0),\n FileInfo(path='dbfs:/user/hive/warehouse/my_table/', name='my_table/', size=0, modificationTime=0),\n FileInfo(path='dbfs:/user/hive/warehouse/new_default.db/', name='new_default.db/', size=0, modificationTime=0),\n FileInfo(path='dbfs:/user/hive/warehouse/sales_bd.db/', name='sales_bd.db/', size=0, modificationTime=0),\n FileInfo(path='dbfs:/user/hive/warehouse/sd/', name='sd/', size=0, modificationTime=0),\n FileInfo(path='dbfs:/user/hive/warehouse/sddsf/', name='sddsf/', size=0, modificationTime=0),\n FileInfo(path='dbfs:/user/hive/warehouse/smart/', name='smart/', size=0, modificationTime=0),\n FileInfo(path='dbfs:/user/hive/warehouse/sonu/', name='sonu/', size=0, modificationTime=0),\n FileInfo(path='dbfs:/user/hive/warehouse/sonu_stud/', name='sonu_stud/', size=0, modificationTime=0),\n FileInfo(path='dbfs:/user/hive/warehouse/stu_datas/', name='stu_datas/', size=0, modificationTime=0),\n FileInfo(path='dbfs:/user/hive/warehouse/student/', name='student/', size=0, modificationTime=0),\n FileInfo(path='dbfs:/user/hive/warehouse/student_datas/', name='student_datas/', size=0, modificationTime=0),\n FileInfo(path='dbfs:/user/hive/warehouse/su/', name='su/', size=0, modificationTime=0),\n FileInfo(path='dbfs:/user/hive/warehouse/sunday/', name='sunday/', size=0, modificationTime=0),\n FileInfo(path='dbfs:/user/hive/warehouse/tabi/', name='tabi/', size=0, modificationTime=0),\n FileInfo(path='dbfs:/user/hive/warehouse/trans_load/', name='trans_load/', size=0, modificationTime=0),\n FileInfo(path='dbfs:/user/hive/warehouse/update/', name='update/', size=0, modificationTime=0)]"
     ]
    }
   ],
   "source": [
    "dbutils.fs.ls('dbfs:/user/hive/warehouse')"
   ]
  },
  {
   "cell_type": "code",
   "execution_count": 0,
   "metadata": {
    "application/vnd.databricks.v1+cell": {
     "cellMetadata": {},
     "inputWidgets": {},
     "nuid": "29a5635d-7ee5-4633-a6b1-65ed2ec17023",
     "showTitle": false,
     "tableResultSettingsMap": {},
     "title": ""
    }
   },
   "outputs": [],
   "source": []
  }
 ],
 "metadata": {
  "application/vnd.databricks.v1+notebook": {
   "computePreferences": null,
   "dashboards": [],
   "environmentMetadata": {
    "base_environment": "",
    "client": "1"
   },
   "language": "python",
   "notebookMetadata": {
    "mostRecentlyExecutedCommandWithImplicitDF": {
     "commandId": 2649202799628630,
     "dataframes": [
      "_sqldf"
     ]
    },
    "pythonIndentUnit": 4
   },
   "notebookName": "SQL---usedefault",
   "widgets": {}
  }
 },
 "nbformat": 4,
 "nbformat_minor": 0
}
