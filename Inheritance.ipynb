{
 "cells": [
  {
   "cell_type": "markdown",
   "id": "d6b069e5-dc5b-48d9-a6ba-4eb395b852b6",
   "metadata": {},
   "source": [
    "# Inheritance"
   ]
  },
  {
   "cell_type": "code",
   "execution_count": 9,
   "id": "2d65a7a3-4437-4567-bf5e-4c71da55b624",
   "metadata": {},
   "outputs": [
    {
     "name": "stdout",
     "output_type": "stream",
     "text": [
      "Bark\n"
     ]
    }
   ],
   "source": [
    "# Single inheritance\n",
    "class Animal:\n",
    "    def speak(self):\n",
    "        return \"Animal speaks\"\n",
    "\n",
    "class Dog(Animal):\n",
    "    def speak(self):\n",
    "        return \"Bark\"\n",
    "\n",
    "dog = Dog()\n",
    "print(dog.speak())"
   ]
  },
  {
   "cell_type": "code",
   "execution_count": 10,
   "id": "7c377022-b8f4-48ae-99ea-a446d0b6fd2a",
   "metadata": {},
   "outputs": [
    {
     "name": "stdout",
     "output_type": "stream",
     "text": [
      "Method from class A\n",
      "Method from class B\n",
      "Method from class C\n"
     ]
    }
   ],
   "source": [
    "# Multiple inheritance\n",
    "class A:\n",
    "    def method_A(self):\n",
    "        print(\"Method from class A\")\n",
    "\n",
    "class B:\n",
    "    def method_B(self):\n",
    "        print(\"Method from class B\")\n",
    "\n",
    "class C(A, B):\n",
    "    def method_C(self):\n",
    "        print(\"Method from class C\")\n",
    "\n",
    "obj = C()\n",
    "obj.method_A()\n",
    "obj.method_B()\n",
    "obj.method_C()"
   ]
  },
  {
   "cell_type": "code",
   "execution_count": 11,
   "id": "f23fb8b6-2fb9-45dd-b1d7-f6515ca28d17",
   "metadata": {},
   "outputs": [
    {
     "name": "stdout",
     "output_type": "stream",
     "text": [
      "Method from Grandparent class\n",
      "Method from Parent class\n",
      "Method from Child class\n"
     ]
    }
   ],
   "source": [
    "# Multilevel inheritance\n",
    "class Grandparent:\n",
    "    def grandparent_method(self):\n",
    "        print(\"Method from Grandparent class\")\n",
    "\n",
    "class Parent(Grandparent):\n",
    "    def parent_method(self):\n",
    "        print(\"Method from Parent class\")\n",
    "\n",
    "class Child(Parent):\n",
    "    def child_method(self):\n",
    "        print(\"Method from Child class\")\n",
    "\n",
    "obj = Child()\n",
    "obj.grandparent_method()\n",
    "obj.parent_method()\n",
    "obj.child_method()"
   ]
  },
  {
   "cell_type": "code",
   "execution_count": 14,
   "id": "a2316162-24be-45f1-90ad-6dbb68124518",
   "metadata": {},
   "outputs": [
    {
     "name": "stdout",
     "output_type": "stream",
     "text": [
      "Method from Parent class\n",
      "Method from Child1 class\n",
      "Method from Parent class\n",
      "Method from Child2 class\n"
     ]
    }
   ],
   "source": [
    "# hierarchical inheritance\n",
    "class Parent:\n",
    "    def parent_method(self):\n",
    "        print(\"Method from Parent class\")\n",
    "\n",
    "class Child1(Parent):\n",
    "    def child1_method(self):\n",
    "        print(\"Method from Child1 class\")\n",
    "\n",
    "class Child2(Parent):\n",
    "    def child2_method(self):\n",
    "        print(\"Method from Child2 class\")\n",
    "\n",
    "obj1 = Child1()\n",
    "obj2 = Child2()\n",
    "\n",
    "obj1.parent_method()\n",
    "obj1.child1_method()\n",
    "\n",
    "obj2.parent_method()\n",
    "obj2.child2_method()"
   ]
  },
  {
   "cell_type": "code",
   "execution_count": 13,
   "id": "b7bf86d8-739d-4bd0-bfc8-d630501807f6",
   "metadata": {},
   "outputs": [
    {
     "name": "stdout",
     "output_type": "stream",
     "text": [
      "Hello from Parent class\n",
      "Hello from Child class\n"
     ]
    }
   ],
   "source": [
    "# use super() to call a parent class method\n",
    "class Parent:\n",
    "    def greet(self):\n",
    "        print(\"Hello from Parent class\")\n",
    "\n",
    "class Child(Parent):\n",
    "    def greet(self):\n",
    "        super().greet()\n",
    "        print(\"Hello from Child class\")\n",
    "\n",
    "obj = Child()\n",
    "obj.greet()"
   ]
  },
  {
   "cell_type": "code",
   "execution_count": 15,
   "id": "41bcf895-f859-4961-8fe1-edf4232ec109",
   "metadata": {},
   "outputs": [
    {
     "name": "stdout",
     "output_type": "stream",
     "text": [
      "Method from class A\n",
      "Method from class B\n",
      "Method from class C\n",
      "Method from class D\n"
     ]
    }
   ],
   "source": [
    "# Hybrid inheritance\n",
    "class A:\n",
    "    def method_A(self):\n",
    "        print(\"Method from class A\")\n",
    "\n",
    "class B(A):\n",
    "    def method_B(self):\n",
    "        print(\"Method from class B\")\n",
    "\n",
    "class C(A):\n",
    "    def method_C(self):\n",
    "        print(\"Method from class C\")\n",
    "\n",
    "class D(B, C):\n",
    "    def method_D(self):\n",
    "        print(\"Method from class D\")\n",
    "\n",
    "obj = D()\n",
    "obj.method_A()\n",
    "obj.method_B()\n",
    "obj.method_C()\n",
    "obj.method_D()"
   ]
  },
  {
   "cell_type": "code",
   "execution_count": null,
   "id": "55b4c8a6-2090-45d2-bf6c-41051bd0e9ac",
   "metadata": {},
   "outputs": [],
   "source": []
  },
  {
   "cell_type": "code",
   "execution_count": null,
   "id": "8f375288-51a9-4da2-b663-315a8f6cfe65",
   "metadata": {},
   "outputs": [],
   "source": []
  }
 ],
 "metadata": {
  "kernelspec": {
   "display_name": "Python 3 (ipykernel)",
   "language": "python",
   "name": "python3"
  },
  "language_info": {
   "codemirror_mode": {
    "name": "ipython",
    "version": 3
   },
   "file_extension": ".py",
   "mimetype": "text/x-python",
   "name": "python",
   "nbconvert_exporter": "python",
   "pygments_lexer": "ipython3",
   "version": "3.13.2"
  },
  "widgets": {
   "application/vnd.jupyter.widget-state+json": {
    "state": {},
    "version_major": 2,
    "version_minor": 0
   }
  }
 },
 "nbformat": 4,
 "nbformat_minor": 5
}
