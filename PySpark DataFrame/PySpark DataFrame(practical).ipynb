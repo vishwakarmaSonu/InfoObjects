{
  "nbformat": 4,
  "nbformat_minor": 0,
  "metadata": {
    "colab": {
      "provenance": []
    },
    "kernelspec": {
      "name": "python3",
      "display_name": "Python 3"
    },
    "language_info": {
      "name": "python"
    }
  },
  "cells": [
    {
      "cell_type": "code",
      "execution_count": 4,
      "metadata": {
        "colab": {
          "base_uri": "https://localhost:8080/"
        },
        "id": "NnbM0IKWKtZh",
        "outputId": "6dc18e18-ef2f-41d3-9e52-8d11df0011ef"
      },
      "outputs": [
        {
          "output_type": "stream",
          "name": "stdout",
          "text": [
            "Requirement already satisfied: pyspark in /usr/local/lib/python3.11/dist-packages (3.5.5)\n",
            "Requirement already satisfied: py4j==0.10.9.7 in /usr/local/lib/python3.11/dist-packages (from pyspark) (0.10.9.7)\n"
          ]
        }
      ],
      "source": [
        "!pip install pyspark\n"
      ]
    },
    {
      "cell_type": "code",
      "source": [
        "import pyspark\n"
      ],
      "metadata": {
        "id": "_KCN7ErvLohI"
      },
      "execution_count": 5,
      "outputs": []
    },
    {
      "cell_type": "code",
      "source": [
        "from pyspark.sql import SparkSession\n",
        "\n",
        "spark = SparkSession.builder.appName(\"TestSpark\").getOrCreate()"
      ],
      "metadata": {
        "id": "D1hFuzM3MLbd"
      },
      "execution_count": 7,
      "outputs": []
    },
    {
      "cell_type": "code",
      "source": [
        "df_json = spark.read.format('json').option('inferSchema',True)\\\n",
        "                    .option('header',True)\\\n",
        "                    .option('multiLine',False)\\\n",
        "                    .load('/content/drive/MyDrive/InfoObjects/drivers.json')"
      ],
      "metadata": {
        "id": "GSv19XN3Ma7O"
      },
      "execution_count": 8,
      "outputs": []
    },
    {
      "cell_type": "code",
      "source": [
        "from pyspark.sql import SparkSession\n",
        "\n",
        "# Create a SparkSession\n",
        "spark = SparkSession.builder.appName(\"MyApp\").getOrCreate()\n",
        "\n"
      ],
      "metadata": {
        "id": "pfR3gy94Mim2"
      },
      "execution_count": 10,
      "outputs": []
    },
    {
      "cell_type": "code",
      "source": [
        "df_json.show()"
      ],
      "metadata": {
        "colab": {
          "base_uri": "https://localhost:8080/"
        },
        "id": "SWMYmdkiMx-3",
        "outputId": "b6d7ace1-d46d-4eb8-a717-5fbf8d4ad754"
      },
      "execution_count": 12,
      "outputs": [
        {
          "output_type": "stream",
          "name": "stdout",
          "text": [
            "+----+----------+--------+----------+--------------------+-----------+------+--------------------+\n",
            "|code|       dob|driverId| driverRef|                name|nationality|number|                 url|\n",
            "+----+----------+--------+----------+--------------------+-----------+------+--------------------+\n",
            "| HAM|1985-01-07|       1|  hamilton|   {Lewis, Hamilton}|    British|    44|http://en.wikiped...|\n",
            "| HEI|1977-05-10|       2|  heidfeld|    {Nick, Heidfeld}|     German|    \\N|http://en.wikiped...|\n",
            "| ROS|1985-06-27|       3|   rosberg|     {Nico, Rosberg}|     German|     6|http://en.wikiped...|\n",
            "| ALO|1981-07-29|       4|    alonso|  {Fernando, Alonso}|    Spanish|    14|http://en.wikiped...|\n",
            "| KOV|1981-10-19|       5|kovalainen|{Heikki, Kovalainen}|    Finnish|    \\N|http://en.wikiped...|\n",
            "| NAK|1985-01-11|       6|  nakajima|  {Kazuki, Nakajima}|   Japanese|    \\N|http://en.wikiped...|\n",
            "| BOU|1979-02-28|       7|  bourdais|{Sébastien, Bourd...|     French|    \\N|http://en.wikiped...|\n",
            "| RAI|1979-10-17|       8| raikkonen|   {Kimi, Räikkönen}|    Finnish|     7|http://en.wikiped...|\n",
            "| KUB|1984-12-07|       9|    kubica|    {Robert, Kubica}|     Polish|    88|http://en.wikiped...|\n",
            "| GLO|1982-03-18|      10|     glock|       {Timo, Glock}|     German|    \\N|http://en.wikiped...|\n",
            "| SAT|1977-01-28|      11|      sato|      {Takuma, Sato}|   Japanese|    \\N|http://en.wikiped...|\n",
            "| PIQ|1985-07-25|      12| piquet_jr|{Nelson, Piquet Jr.}|  Brazilian|    \\N|http://en.wikiped...|\n",
            "| MAS|1981-04-25|      13|     massa|     {Felipe, Massa}|  Brazilian|    19|http://en.wikiped...|\n",
            "| COU|1971-03-27|      14| coulthard|  {David, Coulthard}|    British|    \\N|http://en.wikiped...|\n",
            "| TRU|1974-07-13|      15|    trulli|     {Jarno, Trulli}|    Italian|    \\N|http://en.wikiped...|\n",
            "| SUT|1983-01-11|      16|     sutil|     {Adrian, Sutil}|     German|    99|http://en.wikiped...|\n",
            "| WEB|1976-08-27|      17|    webber|      {Mark, Webber}| Australian|    \\N|http://en.wikiped...|\n",
            "| BUT|1980-01-19|      18|    button|    {Jenson, Button}|    British|    22|http://en.wikiped...|\n",
            "| DAV|1979-04-18|      19|  davidson| {Anthony, Davidson}|    British|    \\N|http://en.wikiped...|\n",
            "| VET|1987-07-03|      20|    vettel| {Sebastian, Vettel}|     German|     5|http://en.wikiped...|\n",
            "+----+----------+--------+----------+--------------------+-----------+------+--------------------+\n",
            "only showing top 20 rows\n",
            "\n"
          ]
        }
      ]
    },
    {
      "cell_type": "code",
      "source": [
        "df = spark.read.format('csv').option('inferSchema',True).option('header',True).load('/content/drive/MyDrive/InfoObjects/BigMart Sales.csv')"
      ],
      "metadata": {
        "id": "hOohCLrVMzqH"
      },
      "execution_count": 15,
      "outputs": []
    },
    {
      "cell_type": "code",
      "source": [
        "df.show()"
      ],
      "metadata": {
        "colab": {
          "base_uri": "https://localhost:8080/"
        },
        "id": "kMAo66zmNM3I",
        "outputId": "4da78369-9aa1-4bb1-ffa0-f39f8c286564"
      },
      "execution_count": 16,
      "outputs": [
        {
          "output_type": "stream",
          "name": "stdout",
          "text": [
            "+---------------+-----------+----------------+---------------+--------------------+--------+-----------------+-------------------------+-----------+--------------------+-----------------+-----------------+\n",
            "|Item_Identifier|Item_Weight|Item_Fat_Content|Item_Visibility|           Item_Type|Item_MRP|Outlet_Identifier|Outlet_Establishment_Year|Outlet_Size|Outlet_Location_Type|      Outlet_Type|Item_Outlet_Sales|\n",
            "+---------------+-----------+----------------+---------------+--------------------+--------+-----------------+-------------------------+-----------+--------------------+-----------------+-----------------+\n",
            "|          FDA15|        9.3|         Low Fat|    0.016047301|               Dairy|249.8092|           OUT049|                     1999|     Medium|              Tier 1|Supermarket Type1|         3735.138|\n",
            "|          DRC01|       5.92|         Regular|    0.019278216|         Soft Drinks| 48.2692|           OUT018|                     2009|     Medium|              Tier 3|Supermarket Type2|         443.4228|\n",
            "|          FDN15|       17.5|         Low Fat|    0.016760075|                Meat| 141.618|           OUT049|                     1999|     Medium|              Tier 1|Supermarket Type1|          2097.27|\n",
            "|          FDX07|       19.2|         Regular|            0.0|Fruits and Vegeta...| 182.095|           OUT010|                     1998|       NULL|              Tier 3|    Grocery Store|           732.38|\n",
            "|          NCD19|       8.93|         Low Fat|            0.0|           Household| 53.8614|           OUT013|                     1987|       High|              Tier 3|Supermarket Type1|         994.7052|\n",
            "|          FDP36|     10.395|         Regular|            0.0|        Baking Goods| 51.4008|           OUT018|                     2009|     Medium|              Tier 3|Supermarket Type2|         556.6088|\n",
            "|          FDO10|      13.65|         Regular|    0.012741089|         Snack Foods| 57.6588|           OUT013|                     1987|       High|              Tier 3|Supermarket Type1|         343.5528|\n",
            "|          FDP10|       NULL|         Low Fat|    0.127469857|         Snack Foods|107.7622|           OUT027|                     1985|     Medium|              Tier 3|Supermarket Type3|        4022.7636|\n",
            "|          FDH17|       16.2|         Regular|    0.016687114|        Frozen Foods| 96.9726|           OUT045|                     2002|       NULL|              Tier 2|Supermarket Type1|        1076.5986|\n",
            "|          FDU28|       19.2|         Regular|     0.09444959|        Frozen Foods|187.8214|           OUT017|                     2007|       NULL|              Tier 2|Supermarket Type1|         4710.535|\n",
            "|          FDY07|       11.8|         Low Fat|            0.0|Fruits and Vegeta...| 45.5402|           OUT049|                     1999|     Medium|              Tier 1|Supermarket Type1|        1516.0266|\n",
            "|          FDA03|       18.5|         Regular|    0.045463773|               Dairy|144.1102|           OUT046|                     1997|      Small|              Tier 1|Supermarket Type1|         2187.153|\n",
            "|          FDX32|       15.1|         Regular|      0.1000135|Fruits and Vegeta...|145.4786|           OUT049|                     1999|     Medium|              Tier 1|Supermarket Type1|        1589.2646|\n",
            "|          FDS46|       17.6|         Regular|    0.047257328|         Snack Foods|119.6782|           OUT046|                     1997|      Small|              Tier 1|Supermarket Type1|        2145.2076|\n",
            "|          FDF32|      16.35|         Low Fat|      0.0680243|Fruits and Vegeta...|196.4426|           OUT013|                     1987|       High|              Tier 3|Supermarket Type1|         1977.426|\n",
            "|          FDP49|        9.0|         Regular|    0.069088961|           Breakfast| 56.3614|           OUT046|                     1997|      Small|              Tier 1|Supermarket Type1|        1547.3192|\n",
            "|          NCB42|       11.8|         Low Fat|    0.008596051|  Health and Hygiene|115.3492|           OUT018|                     2009|     Medium|              Tier 3|Supermarket Type2|        1621.8888|\n",
            "|          FDP49|        9.0|         Regular|    0.069196376|           Breakfast| 54.3614|           OUT049|                     1999|     Medium|              Tier 1|Supermarket Type1|         718.3982|\n",
            "|          DRI11|       NULL|         Low Fat|    0.034237682|         Hard Drinks|113.2834|           OUT027|                     1985|     Medium|              Tier 3|Supermarket Type3|         2303.668|\n",
            "|          FDU02|      13.35|         Low Fat|     0.10249212|               Dairy|230.5352|           OUT035|                     2004|      Small|              Tier 2|Supermarket Type1|        2748.4224|\n",
            "+---------------+-----------+----------------+---------------+--------------------+--------+-----------------+-------------------------+-----------+--------------------+-----------------+-----------------+\n",
            "only showing top 20 rows\n",
            "\n"
          ]
        }
      ]
    },
    {
      "cell_type": "code",
      "source": [
        "df.printSchema()"
      ],
      "metadata": {
        "colab": {
          "base_uri": "https://localhost:8080/"
        },
        "id": "gxajC7SoNaiW",
        "outputId": "87abe483-115a-4e30-a30f-7027491a7d4e"
      },
      "execution_count": 17,
      "outputs": [
        {
          "output_type": "stream",
          "name": "stdout",
          "text": [
            "root\n",
            " |-- Item_Identifier: string (nullable = true)\n",
            " |-- Item_Weight: double (nullable = true)\n",
            " |-- Item_Fat_Content: string (nullable = true)\n",
            " |-- Item_Visibility: double (nullable = true)\n",
            " |-- Item_Type: string (nullable = true)\n",
            " |-- Item_MRP: double (nullable = true)\n",
            " |-- Outlet_Identifier: string (nullable = true)\n",
            " |-- Outlet_Establishment_Year: integer (nullable = true)\n",
            " |-- Outlet_Size: string (nullable = true)\n",
            " |-- Outlet_Location_Type: string (nullable = true)\n",
            " |-- Outlet_Type: string (nullable = true)\n",
            " |-- Item_Outlet_Sales: double (nullable = true)\n",
            "\n"
          ]
        }
      ]
    },
    {
      "cell_type": "code",
      "source": [
        "my_ddl_schema = '''\n",
        "                    Item_Identifier STRING,\n",
        "                    Item_Weight STRING,\n",
        "                    Item_Fat_Content STRING,\n",
        "                    Item_Visibility DOUBLE,\n",
        "                    Item_Type STRING,\n",
        "                    Item_MRP DOUBLE,\n",
        "                    Outlet_Identifier STRING,\n",
        "                    Outlet_Establishment_Year INT,\n",
        "                    Outlet_Size STRING,\n",
        "                    Outlet_Location_Type STRING,\n",
        "                    Outlet_Type STRING,\n",
        "                    Item_Outlet_Sales DOUBLE\n",
        "\n",
        "                '''"
      ],
      "metadata": {
        "id": "M8nGoMaaNchi"
      },
      "execution_count": 18,
      "outputs": []
    },
    {
      "cell_type": "code",
      "source": [
        "df = spark.read.format('csv')\\\n",
        "            .schema(my_ddl_schema)\\\n",
        "            .option('header',True)\\\n",
        "            .load('/content/drive/MyDrive/InfoObjects/BigMart Sales.csv')"
      ],
      "metadata": {
        "id": "8rq2Epu1NeA7"
      },
      "execution_count": 19,
      "outputs": []
    },
    {
      "cell_type": "code",
      "source": [
        "df.show()"
      ],
      "metadata": {
        "colab": {
          "base_uri": "https://localhost:8080/"
        },
        "id": "GFx50I8MNkFI",
        "outputId": "459b3e06-fb29-46fd-a0cf-2d344cdb3777"
      },
      "execution_count": 20,
      "outputs": [
        {
          "output_type": "stream",
          "name": "stdout",
          "text": [
            "+---------------+-----------+----------------+---------------+--------------------+--------+-----------------+-------------------------+-----------+--------------------+-----------------+-----------------+\n",
            "|Item_Identifier|Item_Weight|Item_Fat_Content|Item_Visibility|           Item_Type|Item_MRP|Outlet_Identifier|Outlet_Establishment_Year|Outlet_Size|Outlet_Location_Type|      Outlet_Type|Item_Outlet_Sales|\n",
            "+---------------+-----------+----------------+---------------+--------------------+--------+-----------------+-------------------------+-----------+--------------------+-----------------+-----------------+\n",
            "|          FDA15|        9.3|         Low Fat|    0.016047301|               Dairy|249.8092|           OUT049|                     1999|     Medium|              Tier 1|Supermarket Type1|         3735.138|\n",
            "|          DRC01|       5.92|         Regular|    0.019278216|         Soft Drinks| 48.2692|           OUT018|                     2009|     Medium|              Tier 3|Supermarket Type2|         443.4228|\n",
            "|          FDN15|       17.5|         Low Fat|    0.016760075|                Meat| 141.618|           OUT049|                     1999|     Medium|              Tier 1|Supermarket Type1|          2097.27|\n",
            "|          FDX07|       19.2|         Regular|            0.0|Fruits and Vegeta...| 182.095|           OUT010|                     1998|       NULL|              Tier 3|    Grocery Store|           732.38|\n",
            "|          NCD19|       8.93|         Low Fat|            0.0|           Household| 53.8614|           OUT013|                     1987|       High|              Tier 3|Supermarket Type1|         994.7052|\n",
            "|          FDP36|     10.395|         Regular|            0.0|        Baking Goods| 51.4008|           OUT018|                     2009|     Medium|              Tier 3|Supermarket Type2|         556.6088|\n",
            "|          FDO10|      13.65|         Regular|    0.012741089|         Snack Foods| 57.6588|           OUT013|                     1987|       High|              Tier 3|Supermarket Type1|         343.5528|\n",
            "|          FDP10|       NULL|         Low Fat|    0.127469857|         Snack Foods|107.7622|           OUT027|                     1985|     Medium|              Tier 3|Supermarket Type3|        4022.7636|\n",
            "|          FDH17|       16.2|         Regular|    0.016687114|        Frozen Foods| 96.9726|           OUT045|                     2002|       NULL|              Tier 2|Supermarket Type1|        1076.5986|\n",
            "|          FDU28|       19.2|         Regular|     0.09444959|        Frozen Foods|187.8214|           OUT017|                     2007|       NULL|              Tier 2|Supermarket Type1|         4710.535|\n",
            "|          FDY07|       11.8|         Low Fat|            0.0|Fruits and Vegeta...| 45.5402|           OUT049|                     1999|     Medium|              Tier 1|Supermarket Type1|        1516.0266|\n",
            "|          FDA03|       18.5|         Regular|    0.045463773|               Dairy|144.1102|           OUT046|                     1997|      Small|              Tier 1|Supermarket Type1|         2187.153|\n",
            "|          FDX32|       15.1|         Regular|      0.1000135|Fruits and Vegeta...|145.4786|           OUT049|                     1999|     Medium|              Tier 1|Supermarket Type1|        1589.2646|\n",
            "|          FDS46|       17.6|         Regular|    0.047257328|         Snack Foods|119.6782|           OUT046|                     1997|      Small|              Tier 1|Supermarket Type1|        2145.2076|\n",
            "|          FDF32|      16.35|         Low Fat|      0.0680243|Fruits and Vegeta...|196.4426|           OUT013|                     1987|       High|              Tier 3|Supermarket Type1|         1977.426|\n",
            "|          FDP49|          9|         Regular|    0.069088961|           Breakfast| 56.3614|           OUT046|                     1997|      Small|              Tier 1|Supermarket Type1|        1547.3192|\n",
            "|          NCB42|       11.8|         Low Fat|    0.008596051|  Health and Hygiene|115.3492|           OUT018|                     2009|     Medium|              Tier 3|Supermarket Type2|        1621.8888|\n",
            "|          FDP49|          9|         Regular|    0.069196376|           Breakfast| 54.3614|           OUT049|                     1999|     Medium|              Tier 1|Supermarket Type1|         718.3982|\n",
            "|          DRI11|       NULL|         Low Fat|    0.034237682|         Hard Drinks|113.2834|           OUT027|                     1985|     Medium|              Tier 3|Supermarket Type3|         2303.668|\n",
            "|          FDU02|      13.35|         Low Fat|     0.10249212|               Dairy|230.5352|           OUT035|                     2004|      Small|              Tier 2|Supermarket Type1|        2748.4224|\n",
            "+---------------+-----------+----------------+---------------+--------------------+--------+-----------------+-------------------------+-----------+--------------------+-----------------+-----------------+\n",
            "only showing top 20 rows\n",
            "\n"
          ]
        }
      ]
    },
    {
      "cell_type": "code",
      "source": [
        "from pyspark.sql.types import *\n",
        "from pyspark.sql.functions import *"
      ],
      "metadata": {
        "id": "A0rXnkXSNl4h"
      },
      "execution_count": 21,
      "outputs": []
    },
    {
      "cell_type": "code",
      "source": [
        "df.printSchema()"
      ],
      "metadata": {
        "colab": {
          "base_uri": "https://localhost:8080/"
        },
        "id": "yDZqjeJ5Nnq1",
        "outputId": "3bf006f4-d876-4b68-e8fa-0a1a55cc09f3"
      },
      "execution_count": 22,
      "outputs": [
        {
          "output_type": "stream",
          "name": "stdout",
          "text": [
            "root\n",
            " |-- Item_Identifier: string (nullable = true)\n",
            " |-- Item_Weight: string (nullable = true)\n",
            " |-- Item_Fat_Content: string (nullable = true)\n",
            " |-- Item_Visibility: double (nullable = true)\n",
            " |-- Item_Type: string (nullable = true)\n",
            " |-- Item_MRP: double (nullable = true)\n",
            " |-- Outlet_Identifier: string (nullable = true)\n",
            " |-- Outlet_Establishment_Year: integer (nullable = true)\n",
            " |-- Outlet_Size: string (nullable = true)\n",
            " |-- Outlet_Location_Type: string (nullable = true)\n",
            " |-- Outlet_Type: string (nullable = true)\n",
            " |-- Item_Outlet_Sales: double (nullable = true)\n",
            "\n"
          ]
        }
      ]
    },
    {
      "cell_type": "code",
      "source": [
        "df.show()"
      ],
      "metadata": {
        "colab": {
          "base_uri": "https://localhost:8080/"
        },
        "id": "XaRAr0F0NpXy",
        "outputId": "d6e27ef7-fd93-497a-bc4a-6392841a3e70"
      },
      "execution_count": 23,
      "outputs": [
        {
          "output_type": "stream",
          "name": "stdout",
          "text": [
            "+---------------+-----------+----------------+---------------+--------------------+--------+-----------------+-------------------------+-----------+--------------------+-----------------+-----------------+\n",
            "|Item_Identifier|Item_Weight|Item_Fat_Content|Item_Visibility|           Item_Type|Item_MRP|Outlet_Identifier|Outlet_Establishment_Year|Outlet_Size|Outlet_Location_Type|      Outlet_Type|Item_Outlet_Sales|\n",
            "+---------------+-----------+----------------+---------------+--------------------+--------+-----------------+-------------------------+-----------+--------------------+-----------------+-----------------+\n",
            "|          FDA15|        9.3|         Low Fat|    0.016047301|               Dairy|249.8092|           OUT049|                     1999|     Medium|              Tier 1|Supermarket Type1|         3735.138|\n",
            "|          DRC01|       5.92|         Regular|    0.019278216|         Soft Drinks| 48.2692|           OUT018|                     2009|     Medium|              Tier 3|Supermarket Type2|         443.4228|\n",
            "|          FDN15|       17.5|         Low Fat|    0.016760075|                Meat| 141.618|           OUT049|                     1999|     Medium|              Tier 1|Supermarket Type1|          2097.27|\n",
            "|          FDX07|       19.2|         Regular|            0.0|Fruits and Vegeta...| 182.095|           OUT010|                     1998|       NULL|              Tier 3|    Grocery Store|           732.38|\n",
            "|          NCD19|       8.93|         Low Fat|            0.0|           Household| 53.8614|           OUT013|                     1987|       High|              Tier 3|Supermarket Type1|         994.7052|\n",
            "|          FDP36|     10.395|         Regular|            0.0|        Baking Goods| 51.4008|           OUT018|                     2009|     Medium|              Tier 3|Supermarket Type2|         556.6088|\n",
            "|          FDO10|      13.65|         Regular|    0.012741089|         Snack Foods| 57.6588|           OUT013|                     1987|       High|              Tier 3|Supermarket Type1|         343.5528|\n",
            "|          FDP10|       NULL|         Low Fat|    0.127469857|         Snack Foods|107.7622|           OUT027|                     1985|     Medium|              Tier 3|Supermarket Type3|        4022.7636|\n",
            "|          FDH17|       16.2|         Regular|    0.016687114|        Frozen Foods| 96.9726|           OUT045|                     2002|       NULL|              Tier 2|Supermarket Type1|        1076.5986|\n",
            "|          FDU28|       19.2|         Regular|     0.09444959|        Frozen Foods|187.8214|           OUT017|                     2007|       NULL|              Tier 2|Supermarket Type1|         4710.535|\n",
            "|          FDY07|       11.8|         Low Fat|            0.0|Fruits and Vegeta...| 45.5402|           OUT049|                     1999|     Medium|              Tier 1|Supermarket Type1|        1516.0266|\n",
            "|          FDA03|       18.5|         Regular|    0.045463773|               Dairy|144.1102|           OUT046|                     1997|      Small|              Tier 1|Supermarket Type1|         2187.153|\n",
            "|          FDX32|       15.1|         Regular|      0.1000135|Fruits and Vegeta...|145.4786|           OUT049|                     1999|     Medium|              Tier 1|Supermarket Type1|        1589.2646|\n",
            "|          FDS46|       17.6|         Regular|    0.047257328|         Snack Foods|119.6782|           OUT046|                     1997|      Small|              Tier 1|Supermarket Type1|        2145.2076|\n",
            "|          FDF32|      16.35|         Low Fat|      0.0680243|Fruits and Vegeta...|196.4426|           OUT013|                     1987|       High|              Tier 3|Supermarket Type1|         1977.426|\n",
            "|          FDP49|          9|         Regular|    0.069088961|           Breakfast| 56.3614|           OUT046|                     1997|      Small|              Tier 1|Supermarket Type1|        1547.3192|\n",
            "|          NCB42|       11.8|         Low Fat|    0.008596051|  Health and Hygiene|115.3492|           OUT018|                     2009|     Medium|              Tier 3|Supermarket Type2|        1621.8888|\n",
            "|          FDP49|          9|         Regular|    0.069196376|           Breakfast| 54.3614|           OUT049|                     1999|     Medium|              Tier 1|Supermarket Type1|         718.3982|\n",
            "|          DRI11|       NULL|         Low Fat|    0.034237682|         Hard Drinks|113.2834|           OUT027|                     1985|     Medium|              Tier 3|Supermarket Type3|         2303.668|\n",
            "|          FDU02|      13.35|         Low Fat|     0.10249212|               Dairy|230.5352|           OUT035|                     2004|      Small|              Tier 2|Supermarket Type1|        2748.4224|\n",
            "+---------------+-----------+----------------+---------------+--------------------+--------+-----------------+-------------------------+-----------+--------------------+-----------------+-----------------+\n",
            "only showing top 20 rows\n",
            "\n"
          ]
        }
      ]
    },
    {
      "cell_type": "code",
      "source": [],
      "metadata": {
        "id": "cye75CFTNu88"
      },
      "execution_count": null,
      "outputs": []
    },
    {
      "cell_type": "code",
      "source": [
        "df.select(col('Item_Identifier'),col('Item_Weight'),col('Item_Fat_Content')).show()"
      ],
      "metadata": {
        "colab": {
          "base_uri": "https://localhost:8080/"
        },
        "id": "0DxLYB8LNrU7",
        "outputId": "163476b3-00b7-4558-c6ac-767cc5cbc72a"
      },
      "execution_count": 25,
      "outputs": [
        {
          "output_type": "stream",
          "name": "stdout",
          "text": [
            "+---------------+-----------+----------------+\n",
            "|Item_Identifier|Item_Weight|Item_Fat_Content|\n",
            "+---------------+-----------+----------------+\n",
            "|          FDA15|        9.3|         Low Fat|\n",
            "|          DRC01|       5.92|         Regular|\n",
            "|          FDN15|       17.5|         Low Fat|\n",
            "|          FDX07|       19.2|         Regular|\n",
            "|          NCD19|       8.93|         Low Fat|\n",
            "|          FDP36|     10.395|         Regular|\n",
            "|          FDO10|      13.65|         Regular|\n",
            "|          FDP10|       NULL|         Low Fat|\n",
            "|          FDH17|       16.2|         Regular|\n",
            "|          FDU28|       19.2|         Regular|\n",
            "|          FDY07|       11.8|         Low Fat|\n",
            "|          FDA03|       18.5|         Regular|\n",
            "|          FDX32|       15.1|         Regular|\n",
            "|          FDS46|       17.6|         Regular|\n",
            "|          FDF32|      16.35|         Low Fat|\n",
            "|          FDP49|          9|         Regular|\n",
            "|          NCB42|       11.8|         Low Fat|\n",
            "|          FDP49|          9|         Regular|\n",
            "|          DRI11|       NULL|         Low Fat|\n",
            "|          FDU02|      13.35|         Low Fat|\n",
            "+---------------+-----------+----------------+\n",
            "only showing top 20 rows\n",
            "\n"
          ]
        }
      ]
    },
    {
      "cell_type": "code",
      "source": [
        "### Alias"
      ],
      "metadata": {
        "id": "MSmyjhhQNtQR"
      },
      "execution_count": 26,
      "outputs": []
    },
    {
      "cell_type": "code",
      "source": [
        "df.select(col('Item_Identifier').alias('Item_ID')).show()"
      ],
      "metadata": {
        "colab": {
          "base_uri": "https://localhost:8080/"
        },
        "id": "ReaEx-tgN2ZI",
        "outputId": "5936383c-b04a-452a-d8ef-b93903c596f9"
      },
      "execution_count": 27,
      "outputs": [
        {
          "output_type": "stream",
          "name": "stdout",
          "text": [
            "+-------+\n",
            "|Item_ID|\n",
            "+-------+\n",
            "|  FDA15|\n",
            "|  DRC01|\n",
            "|  FDN15|\n",
            "|  FDX07|\n",
            "|  NCD19|\n",
            "|  FDP36|\n",
            "|  FDO10|\n",
            "|  FDP10|\n",
            "|  FDH17|\n",
            "|  FDU28|\n",
            "|  FDY07|\n",
            "|  FDA03|\n",
            "|  FDX32|\n",
            "|  FDS46|\n",
            "|  FDF32|\n",
            "|  FDP49|\n",
            "|  NCB42|\n",
            "|  FDP49|\n",
            "|  DRI11|\n",
            "|  FDU02|\n",
            "+-------+\n",
            "only showing top 20 rows\n",
            "\n"
          ]
        }
      ]
    },
    {
      "cell_type": "code",
      "source": [
        "df.show()"
      ],
      "metadata": {
        "colab": {
          "base_uri": "https://localhost:8080/"
        },
        "id": "WW-ZP_qxN5LR",
        "outputId": "905925cb-dec7-4bfd-e6a3-1c8534c92075"
      },
      "execution_count": 28,
      "outputs": [
        {
          "output_type": "stream",
          "name": "stdout",
          "text": [
            "+---------------+-----------+----------------+---------------+--------------------+--------+-----------------+-------------------------+-----------+--------------------+-----------------+-----------------+\n",
            "|Item_Identifier|Item_Weight|Item_Fat_Content|Item_Visibility|           Item_Type|Item_MRP|Outlet_Identifier|Outlet_Establishment_Year|Outlet_Size|Outlet_Location_Type|      Outlet_Type|Item_Outlet_Sales|\n",
            "+---------------+-----------+----------------+---------------+--------------------+--------+-----------------+-------------------------+-----------+--------------------+-----------------+-----------------+\n",
            "|          FDA15|        9.3|         Low Fat|    0.016047301|               Dairy|249.8092|           OUT049|                     1999|     Medium|              Tier 1|Supermarket Type1|         3735.138|\n",
            "|          DRC01|       5.92|         Regular|    0.019278216|         Soft Drinks| 48.2692|           OUT018|                     2009|     Medium|              Tier 3|Supermarket Type2|         443.4228|\n",
            "|          FDN15|       17.5|         Low Fat|    0.016760075|                Meat| 141.618|           OUT049|                     1999|     Medium|              Tier 1|Supermarket Type1|          2097.27|\n",
            "|          FDX07|       19.2|         Regular|            0.0|Fruits and Vegeta...| 182.095|           OUT010|                     1998|       NULL|              Tier 3|    Grocery Store|           732.38|\n",
            "|          NCD19|       8.93|         Low Fat|            0.0|           Household| 53.8614|           OUT013|                     1987|       High|              Tier 3|Supermarket Type1|         994.7052|\n",
            "|          FDP36|     10.395|         Regular|            0.0|        Baking Goods| 51.4008|           OUT018|                     2009|     Medium|              Tier 3|Supermarket Type2|         556.6088|\n",
            "|          FDO10|      13.65|         Regular|    0.012741089|         Snack Foods| 57.6588|           OUT013|                     1987|       High|              Tier 3|Supermarket Type1|         343.5528|\n",
            "|          FDP10|       NULL|         Low Fat|    0.127469857|         Snack Foods|107.7622|           OUT027|                     1985|     Medium|              Tier 3|Supermarket Type3|        4022.7636|\n",
            "|          FDH17|       16.2|         Regular|    0.016687114|        Frozen Foods| 96.9726|           OUT045|                     2002|       NULL|              Tier 2|Supermarket Type1|        1076.5986|\n",
            "|          FDU28|       19.2|         Regular|     0.09444959|        Frozen Foods|187.8214|           OUT017|                     2007|       NULL|              Tier 2|Supermarket Type1|         4710.535|\n",
            "|          FDY07|       11.8|         Low Fat|            0.0|Fruits and Vegeta...| 45.5402|           OUT049|                     1999|     Medium|              Tier 1|Supermarket Type1|        1516.0266|\n",
            "|          FDA03|       18.5|         Regular|    0.045463773|               Dairy|144.1102|           OUT046|                     1997|      Small|              Tier 1|Supermarket Type1|         2187.153|\n",
            "|          FDX32|       15.1|         Regular|      0.1000135|Fruits and Vegeta...|145.4786|           OUT049|                     1999|     Medium|              Tier 1|Supermarket Type1|        1589.2646|\n",
            "|          FDS46|       17.6|         Regular|    0.047257328|         Snack Foods|119.6782|           OUT046|                     1997|      Small|              Tier 1|Supermarket Type1|        2145.2076|\n",
            "|          FDF32|      16.35|         Low Fat|      0.0680243|Fruits and Vegeta...|196.4426|           OUT013|                     1987|       High|              Tier 3|Supermarket Type1|         1977.426|\n",
            "|          FDP49|          9|         Regular|    0.069088961|           Breakfast| 56.3614|           OUT046|                     1997|      Small|              Tier 1|Supermarket Type1|        1547.3192|\n",
            "|          NCB42|       11.8|         Low Fat|    0.008596051|  Health and Hygiene|115.3492|           OUT018|                     2009|     Medium|              Tier 3|Supermarket Type2|        1621.8888|\n",
            "|          FDP49|          9|         Regular|    0.069196376|           Breakfast| 54.3614|           OUT049|                     1999|     Medium|              Tier 1|Supermarket Type1|         718.3982|\n",
            "|          DRI11|       NULL|         Low Fat|    0.034237682|         Hard Drinks|113.2834|           OUT027|                     1985|     Medium|              Tier 3|Supermarket Type3|         2303.668|\n",
            "|          FDU02|      13.35|         Low Fat|     0.10249212|               Dairy|230.5352|           OUT035|                     2004|      Small|              Tier 2|Supermarket Type1|        2748.4224|\n",
            "+---------------+-----------+----------------+---------------+--------------------+--------+-----------------+-------------------------+-----------+--------------------+-----------------+-----------------+\n",
            "only showing top 20 rows\n",
            "\n"
          ]
        }
      ]
    },
    {
      "cell_type": "code",
      "source": [
        "### Filter"
      ],
      "metadata": {
        "id": "jrBCmfpLN6kU"
      },
      "execution_count": 29,
      "outputs": []
    },
    {
      "cell_type": "code",
      "source": [
        "#### Scenario - 1"
      ],
      "metadata": {
        "id": "PstYFwkRN9Sj"
      },
      "execution_count": 30,
      "outputs": []
    },
    {
      "cell_type": "code",
      "source": [
        "df.filter(col('Item_Fat_Content')=='Regular').show()"
      ],
      "metadata": {
        "colab": {
          "base_uri": "https://localhost:8080/"
        },
        "id": "_QK__kaNN_nU",
        "outputId": "37ed3a64-7959-48f6-e8dc-cdc018af0329"
      },
      "execution_count": 31,
      "outputs": [
        {
          "output_type": "stream",
          "name": "stdout",
          "text": [
            "+---------------+-----------+----------------+---------------+--------------------+--------+-----------------+-------------------------+-----------+--------------------+-----------------+-----------------+\n",
            "|Item_Identifier|Item_Weight|Item_Fat_Content|Item_Visibility|           Item_Type|Item_MRP|Outlet_Identifier|Outlet_Establishment_Year|Outlet_Size|Outlet_Location_Type|      Outlet_Type|Item_Outlet_Sales|\n",
            "+---------------+-----------+----------------+---------------+--------------------+--------+-----------------+-------------------------+-----------+--------------------+-----------------+-----------------+\n",
            "|          DRC01|       5.92|         Regular|    0.019278216|         Soft Drinks| 48.2692|           OUT018|                     2009|     Medium|              Tier 3|Supermarket Type2|         443.4228|\n",
            "|          FDX07|       19.2|         Regular|            0.0|Fruits and Vegeta...| 182.095|           OUT010|                     1998|       NULL|              Tier 3|    Grocery Store|           732.38|\n",
            "|          FDP36|     10.395|         Regular|            0.0|        Baking Goods| 51.4008|           OUT018|                     2009|     Medium|              Tier 3|Supermarket Type2|         556.6088|\n",
            "|          FDO10|      13.65|         Regular|    0.012741089|         Snack Foods| 57.6588|           OUT013|                     1987|       High|              Tier 3|Supermarket Type1|         343.5528|\n",
            "|          FDH17|       16.2|         Regular|    0.016687114|        Frozen Foods| 96.9726|           OUT045|                     2002|       NULL|              Tier 2|Supermarket Type1|        1076.5986|\n",
            "|          FDU28|       19.2|         Regular|     0.09444959|        Frozen Foods|187.8214|           OUT017|                     2007|       NULL|              Tier 2|Supermarket Type1|         4710.535|\n",
            "|          FDA03|       18.5|         Regular|    0.045463773|               Dairy|144.1102|           OUT046|                     1997|      Small|              Tier 1|Supermarket Type1|         2187.153|\n",
            "|          FDX32|       15.1|         Regular|      0.1000135|Fruits and Vegeta...|145.4786|           OUT049|                     1999|     Medium|              Tier 1|Supermarket Type1|        1589.2646|\n",
            "|          FDS46|       17.6|         Regular|    0.047257328|         Snack Foods|119.6782|           OUT046|                     1997|      Small|              Tier 1|Supermarket Type1|        2145.2076|\n",
            "|          FDP49|          9|         Regular|    0.069088961|           Breakfast| 56.3614|           OUT046|                     1997|      Small|              Tier 1|Supermarket Type1|        1547.3192|\n",
            "|          FDP49|          9|         Regular|    0.069196376|           Breakfast| 54.3614|           OUT049|                     1999|     Medium|              Tier 1|Supermarket Type1|         718.3982|\n",
            "|          FDN22|      18.85|         Regular|    0.138190277|         Snack Foods|250.8724|           OUT013|                     1987|       High|              Tier 3|Supermarket Type1|         3775.086|\n",
            "|          FDW12|       NULL|         Regular|    0.035399923|        Baking Goods|144.5444|           OUT027|                     1985|     Medium|              Tier 3|Supermarket Type3|        4064.0432|\n",
            "|          FDR28|      13.85|         Regular|    0.025896485|        Frozen Foods| 165.021|           OUT046|                     1997|      Small|              Tier 1|Supermarket Type1|         4078.025|\n",
            "|          FDV10|      7.645|         Regular|    0.066693437|         Snack Foods| 42.3112|           OUT035|                     2004|      Small|              Tier 2|Supermarket Type1|          1065.28|\n",
            "|          FDE51|      5.925|         Regular|    0.161466534|               Dairy| 45.5086|           OUT010|                     1998|       NULL|              Tier 3|    Grocery Store|         178.4344|\n",
            "|          FDC14|       NULL|         Regular|    0.072221801|              Canned| 43.6454|           OUT019|                     1985|      Small|              Tier 1|    Grocery Store|         125.8362|\n",
            "|          FDV20|       NULL|         Regular|    0.059511812|Fruits and Vegeta...|128.0678|           OUT027|                     1985|     Medium|              Tier 3|Supermarket Type3|        2797.6916|\n",
            "|          DRZ11|       8.85|         Regular|    0.113123893|         Soft Drinks|122.5388|           OUT018|                     2009|     Medium|              Tier 3|Supermarket Type2|        1609.9044|\n",
            "|          FDX10|       NULL|         Regular|    0.123111453|         Snack Foods| 36.9874|           OUT027|                     1985|     Medium|              Tier 3|Supermarket Type3|         388.1614|\n",
            "+---------------+-----------+----------------+---------------+--------------------+--------+-----------------+-------------------------+-----------+--------------------+-----------------+-----------------+\n",
            "only showing top 20 rows\n",
            "\n"
          ]
        }
      ]
    },
    {
      "cell_type": "code",
      "source": [
        "#### Scenario - 2"
      ],
      "metadata": {
        "id": "Zz66HOAwOB4q"
      },
      "execution_count": 32,
      "outputs": []
    },
    {
      "cell_type": "code",
      "source": [
        "df.filter((col('Item_Type') == 'Soft Drinks') & (col('Item_Weight')<10)).show()"
      ],
      "metadata": {
        "colab": {
          "base_uri": "https://localhost:8080/"
        },
        "id": "zIn21HRdODQy",
        "outputId": "7926aa58-cec2-491e-a174-97515086a595"
      },
      "execution_count": 33,
      "outputs": [
        {
          "output_type": "stream",
          "name": "stdout",
          "text": [
            "+---------------+-----------+----------------+---------------+-----------+--------+-----------------+-------------------------+-----------+--------------------+-----------------+-----------------+\n",
            "|Item_Identifier|Item_Weight|Item_Fat_Content|Item_Visibility|  Item_Type|Item_MRP|Outlet_Identifier|Outlet_Establishment_Year|Outlet_Size|Outlet_Location_Type|      Outlet_Type|Item_Outlet_Sales|\n",
            "+---------------+-----------+----------------+---------------+-----------+--------+-----------------+-------------------------+-----------+--------------------+-----------------+-----------------+\n",
            "|          DRC01|       5.92|         Regular|    0.019278216|Soft Drinks| 48.2692|           OUT018|                     2009|     Medium|              Tier 3|Supermarket Type2|         443.4228|\n",
            "|          DRZ11|       8.85|         Regular|    0.113123893|Soft Drinks|122.5388|           OUT018|                     2009|     Medium|              Tier 3|Supermarket Type2|        1609.9044|\n",
            "|          DRF49|       7.27|         Low Fat|    0.071077939|Soft Drinks|114.2518|           OUT046|                     1997|      Small|              Tier 1|Supermarket Type1|        2618.5914|\n",
            "|          DRK12|        9.5|              LF|    0.041878397|Soft Drinks|   32.99|           OUT035|                     2004|      Small|              Tier 2|Supermarket Type1|           133.16|\n",
            "|          DRK01|       7.63|         Low Fat|     0.06105276|Soft Drinks| 95.4436|           OUT035|                     2004|      Small|              Tier 2|Supermarket Type1|         1418.154|\n",
            "|          DRF49|       7.27|         Low Fat|    0.071222087|Soft Drinks|113.5518|           OUT045|                     2002|       NULL|              Tier 2|Supermarket Type1|          569.259|\n",
            "|          DRE60|      9.395|         Low Fat|    0.159657596|Soft Drinks| 224.972|           OUT045|                     2002|       NULL|              Tier 2|Supermarket Type1|         7696.648|\n",
            "|          DRI01|       7.97|         Low Fat|    0.034452949|Soft Drinks|174.0422|           OUT046|                     1997|      Small|              Tier 1|Supermarket Type1|         2586.633|\n",
            "|          DRD37|        9.8|         Low Fat|    0.013898123|Soft Drinks|  46.506|           OUT018|                     2009|     Medium|              Tier 3|Supermarket Type2|          372.848|\n",
            "|          DRH13|      8.575|         Low Fat|    0.023983258|Soft Drinks| 106.328|           OUT018|                     2009|     Medium|              Tier 3|Supermarket Type2|          958.752|\n",
            "|          DRK37|          5|         Low Fat|    0.044004675|Soft Drinks| 188.853|           OUT046|                     1997|      Small|              Tier 1|Supermarket Type1|         5502.837|\n",
            "|          DRF01|      5.655|         Low Fat|    0.175352413|Soft Drinks|147.4102|           OUT049|                     1999|     Medium|              Tier 1|Supermarket Type1|        2478.7734|\n",
            "|          DRE13|       6.28|         Low Fat|    0.027699863|Soft Drinks| 87.9198|           OUT035|                     2004|      Small|              Tier 2|Supermarket Type1|        1221.0772|\n",
            "|          DRD49|      9.895|         Low Fat|    0.167799329|Soft Drinks|239.4564|           OUT035|                     2004|      Small|              Tier 2|Supermarket Type1|        5243.8408|\n",
            "|          DRK12|        9.5|         Low Fat|            0.0|Soft Drinks|   32.89|           OUT010|                     1998|       NULL|              Tier 3|    Grocery Store|            33.29|\n",
            "|          DRE60|      9.395|         Low Fat|    0.159582185|Soft Drinks| 224.772|           OUT049|                     1999|     Medium|              Tier 1|Supermarket Type1|         7017.532|\n",
            "|          DRE12|       4.59|         Low Fat|    0.070890602|Soft Drinks| 111.686|           OUT049|                     1999|     Medium|              Tier 1|Supermarket Type1|         1584.604|\n",
            "|          DRY23|      9.395|         Regular|    0.109075742|Soft Drinks| 42.9112|           OUT035|                     2004|      Small|              Tier 2|Supermarket Type1|          426.112|\n",
            "|          DRE13|       6.28|         Low Fat|    0.027761289|Soft Drinks| 85.8198|           OUT045|                     2002|       NULL|              Tier 2|Supermarket Type1|          872.198|\n",
            "|          DRZ24|      7.535|         Low Fat|    0.082250143|Soft Drinks| 118.344|           OUT017|                     2007|       NULL|              Tier 2|Supermarket Type1|         3115.944|\n",
            "+---------------+-----------+----------------+---------------+-----------+--------+-----------------+-------------------------+-----------+--------------------+-----------------+-----------------+\n",
            "only showing top 20 rows\n",
            "\n"
          ]
        }
      ]
    },
    {
      "cell_type": "code",
      "source": [
        "#### Scenario - 3"
      ],
      "metadata": {
        "id": "dlWPOHwqOFff"
      },
      "execution_count": 34,
      "outputs": []
    },
    {
      "cell_type": "code",
      "source": [
        "df.filter((col('Outlet_Size').isNull()) & (col('Outlet_Location_Type').isin('Tier 1','Tier 2'))).show()"
      ],
      "metadata": {
        "colab": {
          "base_uri": "https://localhost:8080/"
        },
        "id": "Jdurw6s8OHC3",
        "outputId": "151a42b9-0d22-42d5-a690-9d7b69872065"
      },
      "execution_count": 35,
      "outputs": [
        {
          "output_type": "stream",
          "name": "stdout",
          "text": [
            "+---------------+-----------+----------------+---------------+--------------------+--------+-----------------+-------------------------+-----------+--------------------+-----------------+-----------------+\n",
            "|Item_Identifier|Item_Weight|Item_Fat_Content|Item_Visibility|           Item_Type|Item_MRP|Outlet_Identifier|Outlet_Establishment_Year|Outlet_Size|Outlet_Location_Type|      Outlet_Type|Item_Outlet_Sales|\n",
            "+---------------+-----------+----------------+---------------+--------------------+--------+-----------------+-------------------------+-----------+--------------------+-----------------+-----------------+\n",
            "|          FDH17|       16.2|         Regular|    0.016687114|        Frozen Foods| 96.9726|           OUT045|                     2002|       NULL|              Tier 2|Supermarket Type1|        1076.5986|\n",
            "|          FDU28|       19.2|         Regular|     0.09444959|        Frozen Foods|187.8214|           OUT017|                     2007|       NULL|              Tier 2|Supermarket Type1|         4710.535|\n",
            "|          NCD06|         13|         Low Fat|    0.099887103|           Household|  45.906|           OUT017|                     2007|       NULL|              Tier 2|Supermarket Type1|          838.908|\n",
            "|          FDO23|      17.85|         Low Fat|            0.0|              Breads| 93.1436|           OUT045|                     2002|       NULL|              Tier 2|Supermarket Type1|        2174.5028|\n",
            "|          NCP05|       19.6|         Low Fat|            0.0|  Health and Hygiene|153.3024|           OUT045|                     2002|       NULL|              Tier 2|Supermarket Type1|        2428.8384|\n",
            "|          FDV49|         10|         Low Fat|    0.025879577|              Canned|265.2226|           OUT045|                     2002|       NULL|              Tier 2|Supermarket Type1|        5815.0972|\n",
            "|          FDA43|     10.895|         Low Fat|    0.065041581|Fruits and Vegeta...|196.3794|           OUT017|                     2007|       NULL|              Tier 2|Supermarket Type1|        3121.2704|\n",
            "|          NCP18|      12.15|         Low Fat|    0.028760013|           Household|151.4708|           OUT017|                     2007|       NULL|              Tier 2|Supermarket Type1|        4815.0656|\n",
            "|          NCX54|      9.195|         Low Fat|    0.048157338|           Household|106.1622|           OUT045|                     2002|       NULL|              Tier 2|Supermarket Type1|         2117.244|\n",
            "|          FDV27|       7.97|         Regular|    0.040071131|                Meat| 87.3514|           OUT045|                     2002|       NULL|              Tier 2|Supermarket Type1|        1062.6168|\n",
            "|          FDZ03|      13.65|         Regular|    0.078946455|               Dairy| 186.024|           OUT045|                     2002|       NULL|              Tier 2|Supermarket Type1|         1118.544|\n",
            "|          DRH37|       17.6|         Low Fat|    0.041700756|         Soft Drinks|164.8526|           OUT045|                     2002|       NULL|              Tier 2|Supermarket Type1|        2302.3364|\n",
            "|          FDH35|      18.25|         Low Fat|            0.0|       Starchy Foods|164.7526|           OUT045|                     2002|       NULL|              Tier 2|Supermarket Type1|        4604.6728|\n",
            "|          FDG02|      7.855|         Low Fat|    0.011324862|              Canned|189.6188|           OUT017|                     2007|       NULL|              Tier 2|Supermarket Type1|        2285.0256|\n",
            "|          FDL04|         19|         Low Fat|    0.112556507|        Frozen Foods|104.9622|           OUT017|                     2007|       NULL|              Tier 2|Supermarket Type1|         1587.933|\n",
            "|          FDV25|      5.905|         Low Fat|            0.0|              Canned|222.5456|           OUT045|                     2002|       NULL|              Tier 2|Supermarket Type1|        5305.0944|\n",
            "|          FDG20|       15.5|         Regular|     0.12639886|Fruits and Vegeta...|177.0028|           OUT017|                     2007|       NULL|              Tier 2|Supermarket Type1|        2479.4392|\n",
            "|          DRI25|       19.6|         Low Fat|    0.033970195|         Soft Drinks| 55.1614|           OUT045|                     2002|       NULL|              Tier 2|Supermarket Type1|         1381.535|\n",
            "|          FDT28|       13.3|         Low Fat|    0.063695084|        Frozen Foods|151.0708|           OUT045|                     2002|       NULL|              Tier 2|Supermarket Type1|        1805.6496|\n",
            "|          FDG12|      6.635|         Regular|            0.0|        Baking Goods|121.3098|           OUT045|                     2002|       NULL|              Tier 2|Supermarket Type1|        2530.7058|\n",
            "+---------------+-----------+----------------+---------------+--------------------+--------+-----------------+-------------------------+-----------+--------------------+-----------------+-----------------+\n",
            "only showing top 20 rows\n",
            "\n"
          ]
        }
      ]
    },
    {
      "cell_type": "code",
      "source": [
        "### withColumnRenamed"
      ],
      "metadata": {
        "id": "np6hhHXSOJqU"
      },
      "execution_count": 36,
      "outputs": []
    },
    {
      "cell_type": "code",
      "source": [
        "df.withColumnRenamed('Item_Weight','Item_Wt').show()"
      ],
      "metadata": {
        "colab": {
          "base_uri": "https://localhost:8080/"
        },
        "id": "CxzmPREIOK8T",
        "outputId": "32833ddd-5427-49c7-bb37-8bebcd8a6e25"
      },
      "execution_count": 37,
      "outputs": [
        {
          "output_type": "stream",
          "name": "stdout",
          "text": [
            "+---------------+-------+----------------+---------------+--------------------+--------+-----------------+-------------------------+-----------+--------------------+-----------------+-----------------+\n",
            "|Item_Identifier|Item_Wt|Item_Fat_Content|Item_Visibility|           Item_Type|Item_MRP|Outlet_Identifier|Outlet_Establishment_Year|Outlet_Size|Outlet_Location_Type|      Outlet_Type|Item_Outlet_Sales|\n",
            "+---------------+-------+----------------+---------------+--------------------+--------+-----------------+-------------------------+-----------+--------------------+-----------------+-----------------+\n",
            "|          FDA15|    9.3|         Low Fat|    0.016047301|               Dairy|249.8092|           OUT049|                     1999|     Medium|              Tier 1|Supermarket Type1|         3735.138|\n",
            "|          DRC01|   5.92|         Regular|    0.019278216|         Soft Drinks| 48.2692|           OUT018|                     2009|     Medium|              Tier 3|Supermarket Type2|         443.4228|\n",
            "|          FDN15|   17.5|         Low Fat|    0.016760075|                Meat| 141.618|           OUT049|                     1999|     Medium|              Tier 1|Supermarket Type1|          2097.27|\n",
            "|          FDX07|   19.2|         Regular|            0.0|Fruits and Vegeta...| 182.095|           OUT010|                     1998|       NULL|              Tier 3|    Grocery Store|           732.38|\n",
            "|          NCD19|   8.93|         Low Fat|            0.0|           Household| 53.8614|           OUT013|                     1987|       High|              Tier 3|Supermarket Type1|         994.7052|\n",
            "|          FDP36| 10.395|         Regular|            0.0|        Baking Goods| 51.4008|           OUT018|                     2009|     Medium|              Tier 3|Supermarket Type2|         556.6088|\n",
            "|          FDO10|  13.65|         Regular|    0.012741089|         Snack Foods| 57.6588|           OUT013|                     1987|       High|              Tier 3|Supermarket Type1|         343.5528|\n",
            "|          FDP10|   NULL|         Low Fat|    0.127469857|         Snack Foods|107.7622|           OUT027|                     1985|     Medium|              Tier 3|Supermarket Type3|        4022.7636|\n",
            "|          FDH17|   16.2|         Regular|    0.016687114|        Frozen Foods| 96.9726|           OUT045|                     2002|       NULL|              Tier 2|Supermarket Type1|        1076.5986|\n",
            "|          FDU28|   19.2|         Regular|     0.09444959|        Frozen Foods|187.8214|           OUT017|                     2007|       NULL|              Tier 2|Supermarket Type1|         4710.535|\n",
            "|          FDY07|   11.8|         Low Fat|            0.0|Fruits and Vegeta...| 45.5402|           OUT049|                     1999|     Medium|              Tier 1|Supermarket Type1|        1516.0266|\n",
            "|          FDA03|   18.5|         Regular|    0.045463773|               Dairy|144.1102|           OUT046|                     1997|      Small|              Tier 1|Supermarket Type1|         2187.153|\n",
            "|          FDX32|   15.1|         Regular|      0.1000135|Fruits and Vegeta...|145.4786|           OUT049|                     1999|     Medium|              Tier 1|Supermarket Type1|        1589.2646|\n",
            "|          FDS46|   17.6|         Regular|    0.047257328|         Snack Foods|119.6782|           OUT046|                     1997|      Small|              Tier 1|Supermarket Type1|        2145.2076|\n",
            "|          FDF32|  16.35|         Low Fat|      0.0680243|Fruits and Vegeta...|196.4426|           OUT013|                     1987|       High|              Tier 3|Supermarket Type1|         1977.426|\n",
            "|          FDP49|      9|         Regular|    0.069088961|           Breakfast| 56.3614|           OUT046|                     1997|      Small|              Tier 1|Supermarket Type1|        1547.3192|\n",
            "|          NCB42|   11.8|         Low Fat|    0.008596051|  Health and Hygiene|115.3492|           OUT018|                     2009|     Medium|              Tier 3|Supermarket Type2|        1621.8888|\n",
            "|          FDP49|      9|         Regular|    0.069196376|           Breakfast| 54.3614|           OUT049|                     1999|     Medium|              Tier 1|Supermarket Type1|         718.3982|\n",
            "|          DRI11|   NULL|         Low Fat|    0.034237682|         Hard Drinks|113.2834|           OUT027|                     1985|     Medium|              Tier 3|Supermarket Type3|         2303.668|\n",
            "|          FDU02|  13.35|         Low Fat|     0.10249212|               Dairy|230.5352|           OUT035|                     2004|      Small|              Tier 2|Supermarket Type1|        2748.4224|\n",
            "+---------------+-------+----------------+---------------+--------------------+--------+-----------------+-------------------------+-----------+--------------------+-----------------+-----------------+\n",
            "only showing top 20 rows\n",
            "\n"
          ]
        }
      ]
    },
    {
      "cell_type": "code",
      "source": [
        "### withColumn"
      ],
      "metadata": {
        "id": "TUlvB8HlOMlX"
      },
      "execution_count": 38,
      "outputs": []
    },
    {
      "cell_type": "code",
      "source": [
        "#### Scenario - 1"
      ],
      "metadata": {
        "id": "ZTvGowcNOO7f"
      },
      "execution_count": 39,
      "outputs": []
    },
    {
      "cell_type": "code",
      "source": [
        "df = df.withColumn('flag',lit(\"new\"))"
      ],
      "metadata": {
        "id": "4e81JVljORGB"
      },
      "execution_count": 40,
      "outputs": []
    },
    {
      "cell_type": "code",
      "source": [
        "df.show()"
      ],
      "metadata": {
        "colab": {
          "base_uri": "https://localhost:8080/"
        },
        "id": "9dcRKqHtOSO1",
        "outputId": "e9bf02a5-2287-492e-b298-b9e404ca86af"
      },
      "execution_count": 41,
      "outputs": [
        {
          "output_type": "stream",
          "name": "stdout",
          "text": [
            "+---------------+-----------+----------------+---------------+--------------------+--------+-----------------+-------------------------+-----------+--------------------+-----------------+-----------------+----+\n",
            "|Item_Identifier|Item_Weight|Item_Fat_Content|Item_Visibility|           Item_Type|Item_MRP|Outlet_Identifier|Outlet_Establishment_Year|Outlet_Size|Outlet_Location_Type|      Outlet_Type|Item_Outlet_Sales|flag|\n",
            "+---------------+-----------+----------------+---------------+--------------------+--------+-----------------+-------------------------+-----------+--------------------+-----------------+-----------------+----+\n",
            "|          FDA15|        9.3|         Low Fat|    0.016047301|               Dairy|249.8092|           OUT049|                     1999|     Medium|              Tier 1|Supermarket Type1|         3735.138| new|\n",
            "|          DRC01|       5.92|         Regular|    0.019278216|         Soft Drinks| 48.2692|           OUT018|                     2009|     Medium|              Tier 3|Supermarket Type2|         443.4228| new|\n",
            "|          FDN15|       17.5|         Low Fat|    0.016760075|                Meat| 141.618|           OUT049|                     1999|     Medium|              Tier 1|Supermarket Type1|          2097.27| new|\n",
            "|          FDX07|       19.2|         Regular|            0.0|Fruits and Vegeta...| 182.095|           OUT010|                     1998|       NULL|              Tier 3|    Grocery Store|           732.38| new|\n",
            "|          NCD19|       8.93|         Low Fat|            0.0|           Household| 53.8614|           OUT013|                     1987|       High|              Tier 3|Supermarket Type1|         994.7052| new|\n",
            "|          FDP36|     10.395|         Regular|            0.0|        Baking Goods| 51.4008|           OUT018|                     2009|     Medium|              Tier 3|Supermarket Type2|         556.6088| new|\n",
            "|          FDO10|      13.65|         Regular|    0.012741089|         Snack Foods| 57.6588|           OUT013|                     1987|       High|              Tier 3|Supermarket Type1|         343.5528| new|\n",
            "|          FDP10|       NULL|         Low Fat|    0.127469857|         Snack Foods|107.7622|           OUT027|                     1985|     Medium|              Tier 3|Supermarket Type3|        4022.7636| new|\n",
            "|          FDH17|       16.2|         Regular|    0.016687114|        Frozen Foods| 96.9726|           OUT045|                     2002|       NULL|              Tier 2|Supermarket Type1|        1076.5986| new|\n",
            "|          FDU28|       19.2|         Regular|     0.09444959|        Frozen Foods|187.8214|           OUT017|                     2007|       NULL|              Tier 2|Supermarket Type1|         4710.535| new|\n",
            "|          FDY07|       11.8|         Low Fat|            0.0|Fruits and Vegeta...| 45.5402|           OUT049|                     1999|     Medium|              Tier 1|Supermarket Type1|        1516.0266| new|\n",
            "|          FDA03|       18.5|         Regular|    0.045463773|               Dairy|144.1102|           OUT046|                     1997|      Small|              Tier 1|Supermarket Type1|         2187.153| new|\n",
            "|          FDX32|       15.1|         Regular|      0.1000135|Fruits and Vegeta...|145.4786|           OUT049|                     1999|     Medium|              Tier 1|Supermarket Type1|        1589.2646| new|\n",
            "|          FDS46|       17.6|         Regular|    0.047257328|         Snack Foods|119.6782|           OUT046|                     1997|      Small|              Tier 1|Supermarket Type1|        2145.2076| new|\n",
            "|          FDF32|      16.35|         Low Fat|      0.0680243|Fruits and Vegeta...|196.4426|           OUT013|                     1987|       High|              Tier 3|Supermarket Type1|         1977.426| new|\n",
            "|          FDP49|          9|         Regular|    0.069088961|           Breakfast| 56.3614|           OUT046|                     1997|      Small|              Tier 1|Supermarket Type1|        1547.3192| new|\n",
            "|          NCB42|       11.8|         Low Fat|    0.008596051|  Health and Hygiene|115.3492|           OUT018|                     2009|     Medium|              Tier 3|Supermarket Type2|        1621.8888| new|\n",
            "|          FDP49|          9|         Regular|    0.069196376|           Breakfast| 54.3614|           OUT049|                     1999|     Medium|              Tier 1|Supermarket Type1|         718.3982| new|\n",
            "|          DRI11|       NULL|         Low Fat|    0.034237682|         Hard Drinks|113.2834|           OUT027|                     1985|     Medium|              Tier 3|Supermarket Type3|         2303.668| new|\n",
            "|          FDU02|      13.35|         Low Fat|     0.10249212|               Dairy|230.5352|           OUT035|                     2004|      Small|              Tier 2|Supermarket Type1|        2748.4224| new|\n",
            "+---------------+-----------+----------------+---------------+--------------------+--------+-----------------+-------------------------+-----------+--------------------+-----------------+-----------------+----+\n",
            "only showing top 20 rows\n",
            "\n"
          ]
        }
      ]
    },
    {
      "cell_type": "code",
      "source": [
        "df.withColumn('multiply',col('Item_Weight')*col('Item_MRP')).show()"
      ],
      "metadata": {
        "colab": {
          "base_uri": "https://localhost:8080/"
        },
        "id": "XDRcduBaOTsb",
        "outputId": "eb4dfd04-7499-494c-b873-9572ea0283f0"
      },
      "execution_count": 42,
      "outputs": [
        {
          "output_type": "stream",
          "name": "stdout",
          "text": [
            "+---------------+-----------+----------------+---------------+--------------------+--------+-----------------+-------------------------+-----------+--------------------+-----------------+-----------------+----+------------------+\n",
            "|Item_Identifier|Item_Weight|Item_Fat_Content|Item_Visibility|           Item_Type|Item_MRP|Outlet_Identifier|Outlet_Establishment_Year|Outlet_Size|Outlet_Location_Type|      Outlet_Type|Item_Outlet_Sales|flag|          multiply|\n",
            "+---------------+-----------+----------------+---------------+--------------------+--------+-----------------+-------------------------+-----------+--------------------+-----------------+-----------------+----+------------------+\n",
            "|          FDA15|        9.3|         Low Fat|    0.016047301|               Dairy|249.8092|           OUT049|                     1999|     Medium|              Tier 1|Supermarket Type1|         3735.138| new|2323.2255600000003|\n",
            "|          DRC01|       5.92|         Regular|    0.019278216|         Soft Drinks| 48.2692|           OUT018|                     2009|     Medium|              Tier 3|Supermarket Type2|         443.4228| new|285.75366399999996|\n",
            "|          FDN15|       17.5|         Low Fat|    0.016760075|                Meat| 141.618|           OUT049|                     1999|     Medium|              Tier 1|Supermarket Type1|          2097.27| new|          2478.315|\n",
            "|          FDX07|       19.2|         Regular|            0.0|Fruits and Vegeta...| 182.095|           OUT010|                     1998|       NULL|              Tier 3|    Grocery Store|           732.38| new|3496.2239999999997|\n",
            "|          NCD19|       8.93|         Low Fat|            0.0|           Household| 53.8614|           OUT013|                     1987|       High|              Tier 3|Supermarket Type1|         994.7052| new|        480.982302|\n",
            "|          FDP36|     10.395|         Regular|            0.0|        Baking Goods| 51.4008|           OUT018|                     2009|     Medium|              Tier 3|Supermarket Type2|         556.6088| new| 534.3113159999999|\n",
            "|          FDO10|      13.65|         Regular|    0.012741089|         Snack Foods| 57.6588|           OUT013|                     1987|       High|              Tier 3|Supermarket Type1|         343.5528| new|         787.04262|\n",
            "|          FDP10|       NULL|         Low Fat|    0.127469857|         Snack Foods|107.7622|           OUT027|                     1985|     Medium|              Tier 3|Supermarket Type3|        4022.7636| new|              NULL|\n",
            "|          FDH17|       16.2|         Regular|    0.016687114|        Frozen Foods| 96.9726|           OUT045|                     2002|       NULL|              Tier 2|Supermarket Type1|        1076.5986| new|1570.9561199999998|\n",
            "|          FDU28|       19.2|         Regular|     0.09444959|        Frozen Foods|187.8214|           OUT017|                     2007|       NULL|              Tier 2|Supermarket Type1|         4710.535| new|        3606.17088|\n",
            "|          FDY07|       11.8|         Low Fat|            0.0|Fruits and Vegeta...| 45.5402|           OUT049|                     1999|     Medium|              Tier 1|Supermarket Type1|        1516.0266| new|         537.37436|\n",
            "|          FDA03|       18.5|         Regular|    0.045463773|               Dairy|144.1102|           OUT046|                     1997|      Small|              Tier 1|Supermarket Type1|         2187.153| new|         2666.0387|\n",
            "|          FDX32|       15.1|         Regular|      0.1000135|Fruits and Vegeta...|145.4786|           OUT049|                     1999|     Medium|              Tier 1|Supermarket Type1|        1589.2646| new|2196.7268599999998|\n",
            "|          FDS46|       17.6|         Regular|    0.047257328|         Snack Foods|119.6782|           OUT046|                     1997|      Small|              Tier 1|Supermarket Type1|        2145.2076| new|2106.3363200000003|\n",
            "|          FDF32|      16.35|         Low Fat|      0.0680243|Fruits and Vegeta...|196.4426|           OUT013|                     1987|       High|              Tier 3|Supermarket Type1|         1977.426| new|        3211.83651|\n",
            "|          FDP49|          9|         Regular|    0.069088961|           Breakfast| 56.3614|           OUT046|                     1997|      Small|              Tier 1|Supermarket Type1|        1547.3192| new|507.25260000000003|\n",
            "|          NCB42|       11.8|         Low Fat|    0.008596051|  Health and Hygiene|115.3492|           OUT018|                     2009|     Medium|              Tier 3|Supermarket Type2|        1621.8888| new|        1361.12056|\n",
            "|          FDP49|          9|         Regular|    0.069196376|           Breakfast| 54.3614|           OUT049|                     1999|     Medium|              Tier 1|Supermarket Type1|         718.3982| new|489.25260000000003|\n",
            "|          DRI11|       NULL|         Low Fat|    0.034237682|         Hard Drinks|113.2834|           OUT027|                     1985|     Medium|              Tier 3|Supermarket Type3|         2303.668| new|              NULL|\n",
            "|          FDU02|      13.35|         Low Fat|     0.10249212|               Dairy|230.5352|           OUT035|                     2004|      Small|              Tier 2|Supermarket Type1|        2748.4224| new|        3077.64492|\n",
            "+---------------+-----------+----------------+---------------+--------------------+--------+-----------------+-------------------------+-----------+--------------------+-----------------+-----------------+----+------------------+\n",
            "only showing top 20 rows\n",
            "\n"
          ]
        }
      ]
    },
    {
      "cell_type": "code",
      "source": [
        "#### Scenario - 2"
      ],
      "metadata": {
        "id": "Fre47Gu5OXOv"
      },
      "execution_count": 43,
      "outputs": []
    },
    {
      "cell_type": "code",
      "source": [
        "df = df.withColumn('Item_Fat_Content',regexp_replace(col('Item_Fat_Content'),\"Regular\",\"Reg\"))\\\n",
        "    .withColumn('Item_Fat_Content',regexp_replace(col('Item_Fat_Content'),\"Low Fat\",\"Lf\"))\n",
        "\n",
        "df.show()"
      ],
      "metadata": {
        "colab": {
          "base_uri": "https://localhost:8080/"
        },
        "id": "3i1oC2ZmOZ6Y",
        "outputId": "64191bd6-bd04-4c62-e844-9d5a5d024a7e"
      },
      "execution_count": 44,
      "outputs": [
        {
          "output_type": "stream",
          "name": "stdout",
          "text": [
            "+---------------+-----------+----------------+---------------+--------------------+--------+-----------------+-------------------------+-----------+--------------------+-----------------+-----------------+----+\n",
            "|Item_Identifier|Item_Weight|Item_Fat_Content|Item_Visibility|           Item_Type|Item_MRP|Outlet_Identifier|Outlet_Establishment_Year|Outlet_Size|Outlet_Location_Type|      Outlet_Type|Item_Outlet_Sales|flag|\n",
            "+---------------+-----------+----------------+---------------+--------------------+--------+-----------------+-------------------------+-----------+--------------------+-----------------+-----------------+----+\n",
            "|          FDA15|        9.3|              Lf|    0.016047301|               Dairy|249.8092|           OUT049|                     1999|     Medium|              Tier 1|Supermarket Type1|         3735.138| new|\n",
            "|          DRC01|       5.92|             Reg|    0.019278216|         Soft Drinks| 48.2692|           OUT018|                     2009|     Medium|              Tier 3|Supermarket Type2|         443.4228| new|\n",
            "|          FDN15|       17.5|              Lf|    0.016760075|                Meat| 141.618|           OUT049|                     1999|     Medium|              Tier 1|Supermarket Type1|          2097.27| new|\n",
            "|          FDX07|       19.2|             Reg|            0.0|Fruits and Vegeta...| 182.095|           OUT010|                     1998|       NULL|              Tier 3|    Grocery Store|           732.38| new|\n",
            "|          NCD19|       8.93|              Lf|            0.0|           Household| 53.8614|           OUT013|                     1987|       High|              Tier 3|Supermarket Type1|         994.7052| new|\n",
            "|          FDP36|     10.395|             Reg|            0.0|        Baking Goods| 51.4008|           OUT018|                     2009|     Medium|              Tier 3|Supermarket Type2|         556.6088| new|\n",
            "|          FDO10|      13.65|             Reg|    0.012741089|         Snack Foods| 57.6588|           OUT013|                     1987|       High|              Tier 3|Supermarket Type1|         343.5528| new|\n",
            "|          FDP10|       NULL|              Lf|    0.127469857|         Snack Foods|107.7622|           OUT027|                     1985|     Medium|              Tier 3|Supermarket Type3|        4022.7636| new|\n",
            "|          FDH17|       16.2|             Reg|    0.016687114|        Frozen Foods| 96.9726|           OUT045|                     2002|       NULL|              Tier 2|Supermarket Type1|        1076.5986| new|\n",
            "|          FDU28|       19.2|             Reg|     0.09444959|        Frozen Foods|187.8214|           OUT017|                     2007|       NULL|              Tier 2|Supermarket Type1|         4710.535| new|\n",
            "|          FDY07|       11.8|              Lf|            0.0|Fruits and Vegeta...| 45.5402|           OUT049|                     1999|     Medium|              Tier 1|Supermarket Type1|        1516.0266| new|\n",
            "|          FDA03|       18.5|             Reg|    0.045463773|               Dairy|144.1102|           OUT046|                     1997|      Small|              Tier 1|Supermarket Type1|         2187.153| new|\n",
            "|          FDX32|       15.1|             Reg|      0.1000135|Fruits and Vegeta...|145.4786|           OUT049|                     1999|     Medium|              Tier 1|Supermarket Type1|        1589.2646| new|\n",
            "|          FDS46|       17.6|             Reg|    0.047257328|         Snack Foods|119.6782|           OUT046|                     1997|      Small|              Tier 1|Supermarket Type1|        2145.2076| new|\n",
            "|          FDF32|      16.35|              Lf|      0.0680243|Fruits and Vegeta...|196.4426|           OUT013|                     1987|       High|              Tier 3|Supermarket Type1|         1977.426| new|\n",
            "|          FDP49|          9|             Reg|    0.069088961|           Breakfast| 56.3614|           OUT046|                     1997|      Small|              Tier 1|Supermarket Type1|        1547.3192| new|\n",
            "|          NCB42|       11.8|              Lf|    0.008596051|  Health and Hygiene|115.3492|           OUT018|                     2009|     Medium|              Tier 3|Supermarket Type2|        1621.8888| new|\n",
            "|          FDP49|          9|             Reg|    0.069196376|           Breakfast| 54.3614|           OUT049|                     1999|     Medium|              Tier 1|Supermarket Type1|         718.3982| new|\n",
            "|          DRI11|       NULL|              Lf|    0.034237682|         Hard Drinks|113.2834|           OUT027|                     1985|     Medium|              Tier 3|Supermarket Type3|         2303.668| new|\n",
            "|          FDU02|      13.35|              Lf|     0.10249212|               Dairy|230.5352|           OUT035|                     2004|      Small|              Tier 2|Supermarket Type1|        2748.4224| new|\n",
            "+---------------+-----------+----------------+---------------+--------------------+--------+-----------------+-------------------------+-----------+--------------------+-----------------+-----------------+----+\n",
            "only showing top 20 rows\n",
            "\n"
          ]
        }
      ]
    },
    {
      "cell_type": "code",
      "source": [
        "### Type Casting"
      ],
      "metadata": {
        "id": "m3yz2YPhOcIy"
      },
      "execution_count": 45,
      "outputs": []
    },
    {
      "cell_type": "code",
      "source": [
        "df = df.withColumn('Item_Weight', col('Item_Weight').cast(StringType()))"
      ],
      "metadata": {
        "id": "zyrp5hkIOd0R"
      },
      "execution_count": 46,
      "outputs": []
    },
    {
      "cell_type": "code",
      "source": [
        "df.printSchema()"
      ],
      "metadata": {
        "colab": {
          "base_uri": "https://localhost:8080/"
        },
        "id": "vRTcFW5wOfJT",
        "outputId": "e158eaeb-c493-4b45-ad2c-d3d35fe0dd63"
      },
      "execution_count": 47,
      "outputs": [
        {
          "output_type": "stream",
          "name": "stdout",
          "text": [
            "root\n",
            " |-- Item_Identifier: string (nullable = true)\n",
            " |-- Item_Weight: string (nullable = true)\n",
            " |-- Item_Fat_Content: string (nullable = true)\n",
            " |-- Item_Visibility: double (nullable = true)\n",
            " |-- Item_Type: string (nullable = true)\n",
            " |-- Item_MRP: double (nullable = true)\n",
            " |-- Outlet_Identifier: string (nullable = true)\n",
            " |-- Outlet_Establishment_Year: integer (nullable = true)\n",
            " |-- Outlet_Size: string (nullable = true)\n",
            " |-- Outlet_Location_Type: string (nullable = true)\n",
            " |-- Outlet_Type: string (nullable = true)\n",
            " |-- Item_Outlet_Sales: double (nullable = true)\n",
            " |-- flag: string (nullable = false)\n",
            "\n"
          ]
        }
      ]
    },
    {
      "cell_type": "code",
      "source": [
        "### sort"
      ],
      "metadata": {
        "id": "uNfWjBlYOgRi"
      },
      "execution_count": 48,
      "outputs": []
    },
    {
      "cell_type": "code",
      "source": [
        "#### Scenario - 1"
      ],
      "metadata": {
        "id": "gY1XQcrrOiC7"
      },
      "execution_count": 49,
      "outputs": []
    },
    {
      "cell_type": "code",
      "source": [
        "df.sort(col('Item_Weight').desc()).show()"
      ],
      "metadata": {
        "colab": {
          "base_uri": "https://localhost:8080/"
        },
        "id": "fYsEBjCUOj_c",
        "outputId": "923a1b82-3a8f-421e-b156-712f191b75ea"
      },
      "execution_count": 50,
      "outputs": [
        {
          "output_type": "stream",
          "name": "stdout",
          "text": [
            "+---------------+-----------+----------------+---------------+------------+--------+-----------------+-------------------------+-----------+--------------------+-----------------+-----------------+----+\n",
            "|Item_Identifier|Item_Weight|Item_Fat_Content|Item_Visibility|   Item_Type|Item_MRP|Outlet_Identifier|Outlet_Establishment_Year|Outlet_Size|Outlet_Location_Type|      Outlet_Type|Item_Outlet_Sales|flag|\n",
            "+---------------+-----------+----------------+---------------+------------+--------+-----------------+-------------------------+-----------+--------------------+-----------------+-----------------+----+\n",
            "|          FDR13|      9.895|             Reg|    0.028696932|      Canned|117.0492|           OUT013|                     1987|       High|              Tier 3|Supermarket Type1|         810.9444| new|\n",
            "|          DRD49|      9.895|              Lf|    0.167799329| Soft Drinks|239.4564|           OUT035|                     2004|      Small|              Tier 2|Supermarket Type1|        5243.8408| new|\n",
            "|          FDR13|      9.895|             Reg|    0.028837829|      Canned|117.8492|           OUT018|                     2009|     Medium|              Tier 3|Supermarket Type2|        1506.0396| new|\n",
            "|          FDT16|      9.895|             Reg|    0.048761046|Frozen Foods|260.5278|           OUT045|                     2002|       NULL|              Tier 2|Supermarket Type1|        8851.1452| new|\n",
            "|          DRD49|      9.895|              Lf|    0.168780385| Soft Drinks|236.8564|           OUT017|                     2007|       NULL|              Tier 2|Supermarket Type1|         4767.128| new|\n",
            "|          DRD49|      9.895|              LF|    0.167831064| Soft Drinks|237.4564|           OUT046|                     1997|      Small|              Tier 1|Supermarket Type1|         715.0692| new|\n",
            "|          NCJ54|      9.895|              LF|    0.060067115|   Household|230.6642|           OUT046|                     1997|      Small|              Tier 1|Supermarket Type1|         4647.284| new|\n",
            "|          NCJ54|      9.895|              Lf|    0.060017128|   Household|230.8642|           OUT013|                     1987|       High|              Tier 3|Supermarket Type1|        4414.9198| new|\n",
            "|          DRD49|      9.895|              Lf|     0.16817143| Soft Drinks|237.7564|           OUT045|                     2002|       NULL|              Tier 2|Supermarket Type1|        3813.7024| new|\n",
            "|          FDT16|      9.895|             Reg|    0.048662357|Frozen Foods|261.7278|           OUT046|                     1997|      Small|              Tier 1|Supermarket Type1|        4685.9004| new|\n",
            "|          FDR13|      9.895|             Reg|    0.028765486|      Canned|115.3492|           OUT049|                     1999|     Medium|              Tier 1|Supermarket Type1|        1274.3412| new|\n",
            "|          NCJ54|      9.895|              Lf|    0.060188932|   Household|233.0642|           OUT045|                     2002|       NULL|              Tier 2|Supermarket Type1|        6041.4692| new|\n",
            "|          FDT16|      9.895|             Reg|    0.048738014|Frozen Foods|262.1278|           OUT049|                     1999|     Medium|              Tier 1|Supermarket Type1|         3904.917| new|\n",
            "|          FDT16|      9.895|             Reg|    0.048860587|Frozen Foods|260.2278|           OUT018|                     2009|     Medium|              Tier 3|Supermarket Type2|        4165.2448| new|\n",
            "|          NCJ54|      9.895|              Lf|    0.060055757|   Household|234.2642|           OUT035|                     2004|      Small|              Tier 2|Supermarket Type1|        3717.8272| new|\n",
            "|          FDY12|        9.8|             Reg|    0.235354055|Baking Goods| 50.8008|           OUT010|                     1998|       NULL|              Tier 3|    Grocery Store|         101.2016| new|\n",
            "|          FDA23|        9.8|              Lf|    0.047187038|Baking Goods|100.6016|           OUT046|                     1997|      Small|              Tier 1|Supermarket Type1|        1619.2256| new|\n",
            "|          FDP12|        9.8|             Reg|    0.045337184|Baking Goods| 36.8874|           OUT049|                     1999|     Medium|              Tier 1|Supermarket Type1|         564.5984| new|\n",
            "|          FDK43|        9.8|              Lf|    0.026950104|        Meat| 128.402|           OUT018|                     2009|     Medium|              Tier 3|Supermarket Type2|          1265.02| new|\n",
            "|          FDY12|        9.8|             Reg|     0.14061104|Baking Goods| 49.8008|           OUT046|                     1997|      Small|              Tier 1|Supermarket Type1|         809.6128| new|\n",
            "+---------------+-----------+----------------+---------------+------------+--------+-----------------+-------------------------+-----------+--------------------+-----------------+-----------------+----+\n",
            "only showing top 20 rows\n",
            "\n"
          ]
        }
      ]
    },
    {
      "cell_type": "code",
      "source": [
        "#### Scenario - 2"
      ],
      "metadata": {
        "id": "lGWj-ADKOmDi"
      },
      "execution_count": 51,
      "outputs": []
    },
    {
      "cell_type": "code",
      "source": [
        "df.sort(['Item_Weight','Item_Visibility'],ascending = [0,0]).show()"
      ],
      "metadata": {
        "colab": {
          "base_uri": "https://localhost:8080/"
        },
        "id": "fISZaMhNOnnX",
        "outputId": "7db9bae8-2d82-4619-a000-627823c403f0"
      },
      "execution_count": 52,
      "outputs": [
        {
          "output_type": "stream",
          "name": "stdout",
          "text": [
            "+---------------+-----------+----------------+---------------+--------------------+--------+-----------------+-------------------------+-----------+--------------------+-----------------+-----------------+----+\n",
            "|Item_Identifier|Item_Weight|Item_Fat_Content|Item_Visibility|           Item_Type|Item_MRP|Outlet_Identifier|Outlet_Establishment_Year|Outlet_Size|Outlet_Location_Type|      Outlet_Type|Item_Outlet_Sales|flag|\n",
            "+---------------+-----------+----------------+---------------+--------------------+--------+-----------------+-------------------------+-----------+--------------------+-----------------+-----------------+----+\n",
            "|          DRD49|      9.895|              Lf|    0.168780385|         Soft Drinks|236.8564|           OUT017|                     2007|       NULL|              Tier 2|Supermarket Type1|         4767.128| new|\n",
            "|          DRD49|      9.895|              Lf|     0.16817143|         Soft Drinks|237.7564|           OUT045|                     2002|       NULL|              Tier 2|Supermarket Type1|        3813.7024| new|\n",
            "|          DRD49|      9.895|              LF|    0.167831064|         Soft Drinks|237.4564|           OUT046|                     1997|      Small|              Tier 1|Supermarket Type1|         715.0692| new|\n",
            "|          DRD49|      9.895|              Lf|    0.167799329|         Soft Drinks|239.4564|           OUT035|                     2004|      Small|              Tier 2|Supermarket Type1|        5243.8408| new|\n",
            "|          NCJ54|      9.895|              Lf|    0.060188932|           Household|233.0642|           OUT045|                     2002|       NULL|              Tier 2|Supermarket Type1|        6041.4692| new|\n",
            "|          NCJ54|      9.895|              LF|    0.060067115|           Household|230.6642|           OUT046|                     1997|      Small|              Tier 1|Supermarket Type1|         4647.284| new|\n",
            "|          NCJ54|      9.895|              Lf|    0.060055757|           Household|234.2642|           OUT035|                     2004|      Small|              Tier 2|Supermarket Type1|        3717.8272| new|\n",
            "|          NCJ54|      9.895|              Lf|    0.060017128|           Household|230.8642|           OUT013|                     1987|       High|              Tier 3|Supermarket Type1|        4414.9198| new|\n",
            "|          FDT16|      9.895|             Reg|    0.048860587|        Frozen Foods|260.2278|           OUT018|                     2009|     Medium|              Tier 3|Supermarket Type2|        4165.2448| new|\n",
            "|          FDT16|      9.895|             Reg|    0.048761046|        Frozen Foods|260.5278|           OUT045|                     2002|       NULL|              Tier 2|Supermarket Type1|        8851.1452| new|\n",
            "|          FDT16|      9.895|             Reg|    0.048738014|        Frozen Foods|262.1278|           OUT049|                     1999|     Medium|              Tier 1|Supermarket Type1|         3904.917| new|\n",
            "|          FDT16|      9.895|             Reg|    0.048662357|        Frozen Foods|261.7278|           OUT046|                     1997|      Small|              Tier 1|Supermarket Type1|        4685.9004| new|\n",
            "|          FDR13|      9.895|             Reg|    0.028837829|              Canned|117.8492|           OUT018|                     2009|     Medium|              Tier 3|Supermarket Type2|        1506.0396| new|\n",
            "|          FDR13|      9.895|             Reg|    0.028765486|              Canned|115.3492|           OUT049|                     1999|     Medium|              Tier 1|Supermarket Type1|        1274.3412| new|\n",
            "|          FDR13|      9.895|             Reg|    0.028696932|              Canned|117.0492|           OUT013|                     1987|       High|              Tier 3|Supermarket Type1|         810.9444| new|\n",
            "|          FDY12|        9.8|             Reg|    0.235354055|        Baking Goods| 50.8008|           OUT010|                     1998|       NULL|              Tier 3|    Grocery Store|         101.2016| new|\n",
            "|          FDV31|        9.8|              Lf|    0.178622919|Fruits and Vegeta...| 177.937|           OUT010|                     1998|       NULL|              Tier 3|    Grocery Store|          176.437| new|\n",
            "|          NCK19|        9.8|              Lf|    0.151420934|              Others|194.3478|           OUT010|                     1998|       NULL|              Tier 3|    Grocery Store|         387.4956| new|\n",
            "|          FDY12|        9.8|             Reg|    0.141406394|        Baking Goods| 50.0008|           OUT017|                     2007|       NULL|              Tier 2|Supermarket Type1|          506.008| new|\n",
            "|          FDY12|        9.8|             Reg|     0.14118383|        Baking Goods| 50.5008|           OUT018|                     2009|     Medium|              Tier 3|Supermarket Type2|          253.004| new|\n",
            "+---------------+-----------+----------------+---------------+--------------------+--------+-----------------+-------------------------+-----------+--------------------+-----------------+-----------------+----+\n",
            "only showing top 20 rows\n",
            "\n"
          ]
        }
      ]
    },
    {
      "cell_type": "code",
      "source": [
        "#### Scenario - 4"
      ],
      "metadata": {
        "id": "MALJjPsDOpk-"
      },
      "execution_count": 53,
      "outputs": []
    },
    {
      "cell_type": "code",
      "source": [
        "df.sort(['Item_weight','Item_Visibility'], ascending = [0,1]).show()"
      ],
      "metadata": {
        "colab": {
          "base_uri": "https://localhost:8080/"
        },
        "id": "9-TrKN1dOrK_",
        "outputId": "d487fcf1-dc57-4517-d203-ee72d551ef3d"
      },
      "execution_count": 54,
      "outputs": [
        {
          "output_type": "stream",
          "name": "stdout",
          "text": [
            "+---------------+-----------+----------------+---------------+--------------------+--------+-----------------+-------------------------+-----------+--------------------+-----------------+-----------------+----+\n",
            "|Item_Identifier|Item_Weight|Item_Fat_Content|Item_Visibility|           Item_Type|Item_MRP|Outlet_Identifier|Outlet_Establishment_Year|Outlet_Size|Outlet_Location_Type|      Outlet_Type|Item_Outlet_Sales|flag|\n",
            "+---------------+-----------+----------------+---------------+--------------------+--------+-----------------+-------------------------+-----------+--------------------+-----------------+-----------------+----+\n",
            "|          FDR13|      9.895|             Reg|    0.028696932|              Canned|117.0492|           OUT013|                     1987|       High|              Tier 3|Supermarket Type1|         810.9444| new|\n",
            "|          FDR13|      9.895|             Reg|    0.028765486|              Canned|115.3492|           OUT049|                     1999|     Medium|              Tier 1|Supermarket Type1|        1274.3412| new|\n",
            "|          FDR13|      9.895|             Reg|    0.028837829|              Canned|117.8492|           OUT018|                     2009|     Medium|              Tier 3|Supermarket Type2|        1506.0396| new|\n",
            "|          FDT16|      9.895|             Reg|    0.048662357|        Frozen Foods|261.7278|           OUT046|                     1997|      Small|              Tier 1|Supermarket Type1|        4685.9004| new|\n",
            "|          FDT16|      9.895|             Reg|    0.048738014|        Frozen Foods|262.1278|           OUT049|                     1999|     Medium|              Tier 1|Supermarket Type1|         3904.917| new|\n",
            "|          FDT16|      9.895|             Reg|    0.048761046|        Frozen Foods|260.5278|           OUT045|                     2002|       NULL|              Tier 2|Supermarket Type1|        8851.1452| new|\n",
            "|          FDT16|      9.895|             Reg|    0.048860587|        Frozen Foods|260.2278|           OUT018|                     2009|     Medium|              Tier 3|Supermarket Type2|        4165.2448| new|\n",
            "|          NCJ54|      9.895|              Lf|    0.060017128|           Household|230.8642|           OUT013|                     1987|       High|              Tier 3|Supermarket Type1|        4414.9198| new|\n",
            "|          NCJ54|      9.895|              Lf|    0.060055757|           Household|234.2642|           OUT035|                     2004|      Small|              Tier 2|Supermarket Type1|        3717.8272| new|\n",
            "|          NCJ54|      9.895|              LF|    0.060067115|           Household|230.6642|           OUT046|                     1997|      Small|              Tier 1|Supermarket Type1|         4647.284| new|\n",
            "|          NCJ54|      9.895|              Lf|    0.060188932|           Household|233.0642|           OUT045|                     2002|       NULL|              Tier 2|Supermarket Type1|        6041.4692| new|\n",
            "|          DRD49|      9.895|              Lf|    0.167799329|         Soft Drinks|239.4564|           OUT035|                     2004|      Small|              Tier 2|Supermarket Type1|        5243.8408| new|\n",
            "|          DRD49|      9.895|              LF|    0.167831064|         Soft Drinks|237.4564|           OUT046|                     1997|      Small|              Tier 1|Supermarket Type1|         715.0692| new|\n",
            "|          DRD49|      9.895|              Lf|     0.16817143|         Soft Drinks|237.7564|           OUT045|                     2002|       NULL|              Tier 2|Supermarket Type1|        3813.7024| new|\n",
            "|          DRD49|      9.895|              Lf|    0.168780385|         Soft Drinks|236.8564|           OUT017|                     2007|       NULL|              Tier 2|Supermarket Type1|         4767.128| new|\n",
            "|          FDY12|        9.8|             Reg|            0.0|        Baking Goods| 49.2008|           OUT013|                     1987|       High|              Tier 3|Supermarket Type1|         657.8104| new|\n",
            "|          FDV31|        9.8|              LF|            0.0|Fruits and Vegeta...| 175.237|           OUT049|                     1999|     Medium|              Tier 1|Supermarket Type1|         3881.614| new|\n",
            "|          DRD37|        9.8|              Lf|    0.013830218|         Soft Drinks|  45.306|           OUT013|                     1987|       High|              Tier 3|Supermarket Type1|         1304.968| new|\n",
            "|          DRD37|        9.8|              Lf|    0.013841737|         Soft Drinks|  45.206|           OUT046|                     1997|      Small|              Tier 1|Supermarket Type1|         1211.756| new|\n",
            "|          DRD37|        9.8|              Lf|    0.013863257|         Soft Drinks|  45.106|           OUT049|                     1999|     Medium|              Tier 1|Supermarket Type1|          1398.18| new|\n",
            "+---------------+-----------+----------------+---------------+--------------------+--------+-----------------+-------------------------+-----------+--------------------+-----------------+-----------------+----+\n",
            "only showing top 20 rows\n",
            "\n"
          ]
        }
      ]
    },
    {
      "cell_type": "code",
      "source": [
        "### Limit"
      ],
      "metadata": {
        "id": "7QS4ofiXOteG"
      },
      "execution_count": 55,
      "outputs": []
    },
    {
      "cell_type": "code",
      "source": [
        "df.limit(10).show()"
      ],
      "metadata": {
        "colab": {
          "base_uri": "https://localhost:8080/"
        },
        "id": "tPlPyhglOvO2",
        "outputId": "c1e41a8d-9e6d-4de1-e20a-e66c68a3fa66"
      },
      "execution_count": 56,
      "outputs": [
        {
          "output_type": "stream",
          "name": "stdout",
          "text": [
            "+---------------+-----------+----------------+---------------+--------------------+--------+-----------------+-------------------------+-----------+--------------------+-----------------+-----------------+----+\n",
            "|Item_Identifier|Item_Weight|Item_Fat_Content|Item_Visibility|           Item_Type|Item_MRP|Outlet_Identifier|Outlet_Establishment_Year|Outlet_Size|Outlet_Location_Type|      Outlet_Type|Item_Outlet_Sales|flag|\n",
            "+---------------+-----------+----------------+---------------+--------------------+--------+-----------------+-------------------------+-----------+--------------------+-----------------+-----------------+----+\n",
            "|          FDA15|        9.3|              Lf|    0.016047301|               Dairy|249.8092|           OUT049|                     1999|     Medium|              Tier 1|Supermarket Type1|         3735.138| new|\n",
            "|          DRC01|       5.92|             Reg|    0.019278216|         Soft Drinks| 48.2692|           OUT018|                     2009|     Medium|              Tier 3|Supermarket Type2|         443.4228| new|\n",
            "|          FDN15|       17.5|              Lf|    0.016760075|                Meat| 141.618|           OUT049|                     1999|     Medium|              Tier 1|Supermarket Type1|          2097.27| new|\n",
            "|          FDX07|       19.2|             Reg|            0.0|Fruits and Vegeta...| 182.095|           OUT010|                     1998|       NULL|              Tier 3|    Grocery Store|           732.38| new|\n",
            "|          NCD19|       8.93|              Lf|            0.0|           Household| 53.8614|           OUT013|                     1987|       High|              Tier 3|Supermarket Type1|         994.7052| new|\n",
            "|          FDP36|     10.395|             Reg|            0.0|        Baking Goods| 51.4008|           OUT018|                     2009|     Medium|              Tier 3|Supermarket Type2|         556.6088| new|\n",
            "|          FDO10|      13.65|             Reg|    0.012741089|         Snack Foods| 57.6588|           OUT013|                     1987|       High|              Tier 3|Supermarket Type1|         343.5528| new|\n",
            "|          FDP10|       NULL|              Lf|    0.127469857|         Snack Foods|107.7622|           OUT027|                     1985|     Medium|              Tier 3|Supermarket Type3|        4022.7636| new|\n",
            "|          FDH17|       16.2|             Reg|    0.016687114|        Frozen Foods| 96.9726|           OUT045|                     2002|       NULL|              Tier 2|Supermarket Type1|        1076.5986| new|\n",
            "|          FDU28|       19.2|             Reg|     0.09444959|        Frozen Foods|187.8214|           OUT017|                     2007|       NULL|              Tier 2|Supermarket Type1|         4710.535| new|\n",
            "+---------------+-----------+----------------+---------------+--------------------+--------+-----------------+-------------------------+-----------+--------------------+-----------------+-----------------+----+\n",
            "\n"
          ]
        }
      ]
    },
    {
      "cell_type": "code",
      "source": [
        "### DROP"
      ],
      "metadata": {
        "id": "oV8H_eviOxWG"
      },
      "execution_count": 57,
      "outputs": []
    },
    {
      "cell_type": "code",
      "source": [
        "#### Scenario-1"
      ],
      "metadata": {
        "id": "pi1A-1ScOzDM"
      },
      "execution_count": 58,
      "outputs": []
    },
    {
      "cell_type": "code",
      "source": [
        "df.drop('Item_Visibility').show()"
      ],
      "metadata": {
        "colab": {
          "base_uri": "https://localhost:8080/"
        },
        "id": "V--HiVdsO0eP",
        "outputId": "5d304875-5b01-44aa-a4e5-cb617d44628b"
      },
      "execution_count": 59,
      "outputs": [
        {
          "output_type": "stream",
          "name": "stdout",
          "text": [
            "+---------------+-----------+----------------+--------------------+--------+-----------------+-------------------------+-----------+--------------------+-----------------+-----------------+----+\n",
            "|Item_Identifier|Item_Weight|Item_Fat_Content|           Item_Type|Item_MRP|Outlet_Identifier|Outlet_Establishment_Year|Outlet_Size|Outlet_Location_Type|      Outlet_Type|Item_Outlet_Sales|flag|\n",
            "+---------------+-----------+----------------+--------------------+--------+-----------------+-------------------------+-----------+--------------------+-----------------+-----------------+----+\n",
            "|          FDA15|        9.3|              Lf|               Dairy|249.8092|           OUT049|                     1999|     Medium|              Tier 1|Supermarket Type1|         3735.138| new|\n",
            "|          DRC01|       5.92|             Reg|         Soft Drinks| 48.2692|           OUT018|                     2009|     Medium|              Tier 3|Supermarket Type2|         443.4228| new|\n",
            "|          FDN15|       17.5|              Lf|                Meat| 141.618|           OUT049|                     1999|     Medium|              Tier 1|Supermarket Type1|          2097.27| new|\n",
            "|          FDX07|       19.2|             Reg|Fruits and Vegeta...| 182.095|           OUT010|                     1998|       NULL|              Tier 3|    Grocery Store|           732.38| new|\n",
            "|          NCD19|       8.93|              Lf|           Household| 53.8614|           OUT013|                     1987|       High|              Tier 3|Supermarket Type1|         994.7052| new|\n",
            "|          FDP36|     10.395|             Reg|        Baking Goods| 51.4008|           OUT018|                     2009|     Medium|              Tier 3|Supermarket Type2|         556.6088| new|\n",
            "|          FDO10|      13.65|             Reg|         Snack Foods| 57.6588|           OUT013|                     1987|       High|              Tier 3|Supermarket Type1|         343.5528| new|\n",
            "|          FDP10|       NULL|              Lf|         Snack Foods|107.7622|           OUT027|                     1985|     Medium|              Tier 3|Supermarket Type3|        4022.7636| new|\n",
            "|          FDH17|       16.2|             Reg|        Frozen Foods| 96.9726|           OUT045|                     2002|       NULL|              Tier 2|Supermarket Type1|        1076.5986| new|\n",
            "|          FDU28|       19.2|             Reg|        Frozen Foods|187.8214|           OUT017|                     2007|       NULL|              Tier 2|Supermarket Type1|         4710.535| new|\n",
            "|          FDY07|       11.8|              Lf|Fruits and Vegeta...| 45.5402|           OUT049|                     1999|     Medium|              Tier 1|Supermarket Type1|        1516.0266| new|\n",
            "|          FDA03|       18.5|             Reg|               Dairy|144.1102|           OUT046|                     1997|      Small|              Tier 1|Supermarket Type1|         2187.153| new|\n",
            "|          FDX32|       15.1|             Reg|Fruits and Vegeta...|145.4786|           OUT049|                     1999|     Medium|              Tier 1|Supermarket Type1|        1589.2646| new|\n",
            "|          FDS46|       17.6|             Reg|         Snack Foods|119.6782|           OUT046|                     1997|      Small|              Tier 1|Supermarket Type1|        2145.2076| new|\n",
            "|          FDF32|      16.35|              Lf|Fruits and Vegeta...|196.4426|           OUT013|                     1987|       High|              Tier 3|Supermarket Type1|         1977.426| new|\n",
            "|          FDP49|          9|             Reg|           Breakfast| 56.3614|           OUT046|                     1997|      Small|              Tier 1|Supermarket Type1|        1547.3192| new|\n",
            "|          NCB42|       11.8|              Lf|  Health and Hygiene|115.3492|           OUT018|                     2009|     Medium|              Tier 3|Supermarket Type2|        1621.8888| new|\n",
            "|          FDP49|          9|             Reg|           Breakfast| 54.3614|           OUT049|                     1999|     Medium|              Tier 1|Supermarket Type1|         718.3982| new|\n",
            "|          DRI11|       NULL|              Lf|         Hard Drinks|113.2834|           OUT027|                     1985|     Medium|              Tier 3|Supermarket Type3|         2303.668| new|\n",
            "|          FDU02|      13.35|              Lf|               Dairy|230.5352|           OUT035|                     2004|      Small|              Tier 2|Supermarket Type1|        2748.4224| new|\n",
            "+---------------+-----------+----------------+--------------------+--------+-----------------+-------------------------+-----------+--------------------+-----------------+-----------------+----+\n",
            "only showing top 20 rows\n",
            "\n"
          ]
        }
      ]
    },
    {
      "cell_type": "code",
      "source": [
        "#### Scenario-2"
      ],
      "metadata": {
        "id": "PFyCxPLrO26U"
      },
      "execution_count": 60,
      "outputs": []
    },
    {
      "cell_type": "code",
      "source": [
        "df.drop('Item_Visibility','Item_Type').show()"
      ],
      "metadata": {
        "colab": {
          "base_uri": "https://localhost:8080/"
        },
        "id": "PRiC9YXVO4Pt",
        "outputId": "becd9165-8b85-4fd8-c42a-0bd79f8a341c"
      },
      "execution_count": 61,
      "outputs": [
        {
          "output_type": "stream",
          "name": "stdout",
          "text": [
            "+---------------+-----------+----------------+--------+-----------------+-------------------------+-----------+--------------------+-----------------+-----------------+----+\n",
            "|Item_Identifier|Item_Weight|Item_Fat_Content|Item_MRP|Outlet_Identifier|Outlet_Establishment_Year|Outlet_Size|Outlet_Location_Type|      Outlet_Type|Item_Outlet_Sales|flag|\n",
            "+---------------+-----------+----------------+--------+-----------------+-------------------------+-----------+--------------------+-----------------+-----------------+----+\n",
            "|          FDA15|        9.3|              Lf|249.8092|           OUT049|                     1999|     Medium|              Tier 1|Supermarket Type1|         3735.138| new|\n",
            "|          DRC01|       5.92|             Reg| 48.2692|           OUT018|                     2009|     Medium|              Tier 3|Supermarket Type2|         443.4228| new|\n",
            "|          FDN15|       17.5|              Lf| 141.618|           OUT049|                     1999|     Medium|              Tier 1|Supermarket Type1|          2097.27| new|\n",
            "|          FDX07|       19.2|             Reg| 182.095|           OUT010|                     1998|       NULL|              Tier 3|    Grocery Store|           732.38| new|\n",
            "|          NCD19|       8.93|              Lf| 53.8614|           OUT013|                     1987|       High|              Tier 3|Supermarket Type1|         994.7052| new|\n",
            "|          FDP36|     10.395|             Reg| 51.4008|           OUT018|                     2009|     Medium|              Tier 3|Supermarket Type2|         556.6088| new|\n",
            "|          FDO10|      13.65|             Reg| 57.6588|           OUT013|                     1987|       High|              Tier 3|Supermarket Type1|         343.5528| new|\n",
            "|          FDP10|       NULL|              Lf|107.7622|           OUT027|                     1985|     Medium|              Tier 3|Supermarket Type3|        4022.7636| new|\n",
            "|          FDH17|       16.2|             Reg| 96.9726|           OUT045|                     2002|       NULL|              Tier 2|Supermarket Type1|        1076.5986| new|\n",
            "|          FDU28|       19.2|             Reg|187.8214|           OUT017|                     2007|       NULL|              Tier 2|Supermarket Type1|         4710.535| new|\n",
            "|          FDY07|       11.8|              Lf| 45.5402|           OUT049|                     1999|     Medium|              Tier 1|Supermarket Type1|        1516.0266| new|\n",
            "|          FDA03|       18.5|             Reg|144.1102|           OUT046|                     1997|      Small|              Tier 1|Supermarket Type1|         2187.153| new|\n",
            "|          FDX32|       15.1|             Reg|145.4786|           OUT049|                     1999|     Medium|              Tier 1|Supermarket Type1|        1589.2646| new|\n",
            "|          FDS46|       17.6|             Reg|119.6782|           OUT046|                     1997|      Small|              Tier 1|Supermarket Type1|        2145.2076| new|\n",
            "|          FDF32|      16.35|              Lf|196.4426|           OUT013|                     1987|       High|              Tier 3|Supermarket Type1|         1977.426| new|\n",
            "|          FDP49|          9|             Reg| 56.3614|           OUT046|                     1997|      Small|              Tier 1|Supermarket Type1|        1547.3192| new|\n",
            "|          NCB42|       11.8|              Lf|115.3492|           OUT018|                     2009|     Medium|              Tier 3|Supermarket Type2|        1621.8888| new|\n",
            "|          FDP49|          9|             Reg| 54.3614|           OUT049|                     1999|     Medium|              Tier 1|Supermarket Type1|         718.3982| new|\n",
            "|          DRI11|       NULL|              Lf|113.2834|           OUT027|                     1985|     Medium|              Tier 3|Supermarket Type3|         2303.668| new|\n",
            "|          FDU02|      13.35|              Lf|230.5352|           OUT035|                     2004|      Small|              Tier 2|Supermarket Type1|        2748.4224| new|\n",
            "+---------------+-----------+----------------+--------+-----------------+-------------------------+-----------+--------------------+-----------------+-----------------+----+\n",
            "only showing top 20 rows\n",
            "\n"
          ]
        }
      ]
    },
    {
      "cell_type": "code",
      "source": [
        "### DRop_Duplicates"
      ],
      "metadata": {
        "id": "CIoMgDbLO6b_"
      },
      "execution_count": 62,
      "outputs": []
    },
    {
      "cell_type": "code",
      "source": [
        "df.dropDuplicates().show()"
      ],
      "metadata": {
        "colab": {
          "base_uri": "https://localhost:8080/"
        },
        "id": "nMMPcLQrO75P",
        "outputId": "c3f72112-2d50-43b2-a0f8-ea9b70f24809"
      },
      "execution_count": 63,
      "outputs": [
        {
          "output_type": "stream",
          "name": "stdout",
          "text": [
            "+---------------+-----------+----------------+---------------+--------------------+--------+-----------------+-------------------------+-----------+--------------------+-----------------+-----------------+----+\n",
            "|Item_Identifier|Item_Weight|Item_Fat_Content|Item_Visibility|           Item_Type|Item_MRP|Outlet_Identifier|Outlet_Establishment_Year|Outlet_Size|Outlet_Location_Type|      Outlet_Type|Item_Outlet_Sales|flag|\n",
            "+---------------+-----------+----------------+---------------+--------------------+--------+-----------------+-------------------------+-----------+--------------------+-----------------+-----------------+----+\n",
            "|          FDH19|      19.35|              Lf|    0.033088472|                Meat|175.4738|           OUT046|                     1997|      Small|              Tier 1|Supermarket Type1|         521.3214| new|\n",
            "|          FDF53|      20.75|             Reg|    0.083590755|        Frozen Foods|182.2318|           OUT035|                     2004|      Small|              Tier 2|Supermarket Type1|        3067.3406| new|\n",
            "|          FDB34|      15.25|              Lf|     0.02671821|         Snack Foods| 85.2198|           OUT018|                     2009|     Medium|              Tier 3|Supermarket Type2|        1482.7366| new|\n",
            "|          FDC26|     10.195|              Lf|    0.126897925|              Canned|110.6886|           OUT018|                     2009|     Medium|              Tier 3|Supermarket Type2|        1223.0746| new|\n",
            "|          FDI50|       8.42|             Reg|    0.030890618|              Canned|228.7352|           OUT049|                     1999|     Medium|              Tier 1|Supermarket Type1|        5954.9152| new|\n",
            "|          FDB08|      6.055|              Lf|    0.031230059|Fruits and Vegeta...|160.3578|           OUT018|                     2009|     Medium|              Tier 3|Supermarket Type2|        1765.0358| new|\n",
            "|          FDX32|       15.1|             Reg|    0.099839365|Fruits and Vegeta...|143.3786|           OUT035|                     2004|      Small|              Tier 2|Supermarket Type1|        1733.7432| new|\n",
            "|          NCD43|       8.85|              Lf|    0.016006626|           Household|105.6964|           OUT013|                     1987|       High|              Tier 3|Supermarket Type1|         210.3928| new|\n",
            "|          NCP53|      14.75|              Lf|    0.032862976|  Health and Hygiene|238.6906|           OUT013|                     1987|       High|              Tier 3|Supermarket Type1|        4278.4308| new|\n",
            "|          FDR27|       15.1|             Reg|    0.096249842|                Meat|134.4942|           OUT049|                     1999|     Medium|              Tier 1|Supermarket Type1|        2119.9072| new|\n",
            "|          FDR58|      6.675|              Lf|            0.0|         Snack Foods| 92.9462|           OUT018|                     2009|     Medium|              Tier 3|Supermarket Type2|        1018.0082| new|\n",
            "|          NCO43|        5.5|              Lf|    0.047290068|              Others|100.5016|           OUT018|                     2009|     Medium|              Tier 3|Supermarket Type2|        1416.8224| new|\n",
            "|          DRI47|       14.7|              Lf|    0.020920179|         Hard Drinks|143.8128|           OUT046|                     1997|      Small|              Tier 1|Supermarket Type1|        3020.0688| new|\n",
            "|          FDH57|     10.895|              Lf|    0.035893143|Fruits and Vegeta...|131.3284|           OUT018|                     2009|     Medium|              Tier 3|Supermarket Type2|         1318.284| new|\n",
            "|          FDM32|       20.5|              Lf|    0.020587886|Fruits and Vegeta...|  89.583|           OUT013|                     1987|       High|              Tier 3|Supermarket Type1|          1797.66| new|\n",
            "|          DRO47|     10.195|              Lf|    0.112203445|         Hard Drinks| 111.786|           OUT035|                     2004|      Small|              Tier 2|Supermarket Type1|          1697.79| new|\n",
            "|          DRK49|      14.15|              Lf|    0.035999599|         Soft Drinks| 41.5138|           OUT049|                     1999|     Medium|              Tier 1|Supermarket Type1|         162.4552| new|\n",
            "|          NCK30|      14.85|              Lf|    0.060967038|           Household|254.3698|           OUT035|                     2004|      Small|              Tier 2|Supermarket Type1|        4566.0564| new|\n",
            "|          NCS53|       14.5|              Lf|    0.089761211|  Health and Hygiene|159.4604|           OUT035|                     2004|      Small|              Tier 2|Supermarket Type1|         2376.906| new|\n",
            "|          NCM31|      6.095|              Lf|     0.08152738|              Others|140.3154|           OUT018|                     2009|     Medium|              Tier 3|Supermarket Type2|        1843.6002| new|\n",
            "+---------------+-----------+----------------+---------------+--------------------+--------+-----------------+-------------------------+-----------+--------------------+-----------------+-----------------+----+\n",
            "only showing top 20 rows\n",
            "\n"
          ]
        }
      ]
    },
    {
      "cell_type": "code",
      "source": [
        "#### Scenario - 2"
      ],
      "metadata": {
        "id": "7WLp3hp9O-ss"
      },
      "execution_count": 64,
      "outputs": []
    },
    {
      "cell_type": "code",
      "source": [
        "df.drop_duplicates(subset=['Item_Type']).show()"
      ],
      "metadata": {
        "colab": {
          "base_uri": "https://localhost:8080/"
        },
        "id": "BV8hk5rePARO",
        "outputId": "95a17df9-5929-4c33-e309-4ff184c9d80a"
      },
      "execution_count": 65,
      "outputs": [
        {
          "output_type": "stream",
          "name": "stdout",
          "text": [
            "+---------------+-----------+----------------+---------------+--------------------+--------+-----------------+-------------------------+-----------+--------------------+-----------------+-----------------+----+\n",
            "|Item_Identifier|Item_Weight|Item_Fat_Content|Item_Visibility|           Item_Type|Item_MRP|Outlet_Identifier|Outlet_Establishment_Year|Outlet_Size|Outlet_Location_Type|      Outlet_Type|Item_Outlet_Sales|flag|\n",
            "+---------------+-----------+----------------+---------------+--------------------+--------+-----------------+-------------------------+-----------+--------------------+-----------------+-----------------+----+\n",
            "|          FDP36|     10.395|             Reg|            0.0|        Baking Goods| 51.4008|           OUT018|                     2009|     Medium|              Tier 3|Supermarket Type2|         556.6088| new|\n",
            "|          FDO23|      17.85|              Lf|            0.0|              Breads| 93.1436|           OUT045|                     2002|       NULL|              Tier 2|Supermarket Type1|        2174.5028| new|\n",
            "|          FDP49|          9|             Reg|    0.069088961|           Breakfast| 56.3614|           OUT046|                     1997|      Small|              Tier 1|Supermarket Type1|        1547.3192| new|\n",
            "|          FDC14|       NULL|             Reg|    0.072221801|              Canned| 43.6454|           OUT019|                     1985|      Small|              Tier 1|    Grocery Store|         125.8362| new|\n",
            "|          FDA15|        9.3|              Lf|    0.016047301|               Dairy|249.8092|           OUT049|                     1999|     Medium|              Tier 1|Supermarket Type1|         3735.138| new|\n",
            "|          FDH17|       16.2|             Reg|    0.016687114|        Frozen Foods| 96.9726|           OUT045|                     2002|       NULL|              Tier 2|Supermarket Type1|        1076.5986| new|\n",
            "|          FDX07|       19.2|             Reg|            0.0|Fruits and Vegeta...| 182.095|           OUT010|                     1998|       NULL|              Tier 3|    Grocery Store|           732.38| new|\n",
            "|          DRI11|       NULL|              Lf|    0.034237682|         Hard Drinks|113.2834|           OUT027|                     1985|     Medium|              Tier 3|Supermarket Type3|         2303.668| new|\n",
            "|          NCB42|       11.8|              Lf|    0.008596051|  Health and Hygiene|115.3492|           OUT018|                     2009|     Medium|              Tier 3|Supermarket Type2|        1621.8888| new|\n",
            "|          NCD19|       8.93|              Lf|            0.0|           Household| 53.8614|           OUT013|                     1987|       High|              Tier 3|Supermarket Type1|         994.7052| new|\n",
            "|          FDN15|       17.5|              Lf|    0.016760075|                Meat| 141.618|           OUT049|                     1999|     Medium|              Tier 1|Supermarket Type1|          2097.27| new|\n",
            "|          NCN07|       18.5|              Lf|    0.056816465|              Others|132.1284|           OUT010|                     1998|       NULL|              Tier 3|    Grocery Store|         263.6568| new|\n",
            "|          FDG33|       NULL|             Reg|     0.13956116|             Seafood|170.4764|           OUT027|                     1985|     Medium|              Tier 3|Supermarket Type3|         3435.528| new|\n",
            "|          FDO10|      13.65|             Reg|    0.012741089|         Snack Foods| 57.6588|           OUT013|                     1987|       High|              Tier 3|Supermarket Type1|         343.5528| new|\n",
            "|          DRC01|       5.92|             Reg|    0.019278216|         Soft Drinks| 48.2692|           OUT018|                     2009|     Medium|              Tier 3|Supermarket Type2|         443.4228| new|\n",
            "|          FDH35|      18.25|              Lf|            0.0|       Starchy Foods|164.7526|           OUT045|                     2002|       NULL|              Tier 2|Supermarket Type1|        4604.6728| new|\n",
            "+---------------+-----------+----------------+---------------+--------------------+--------+-----------------+-------------------------+-----------+--------------------+-----------------+-----------------+----+\n",
            "\n"
          ]
        }
      ]
    },
    {
      "cell_type": "code",
      "source": [
        "df.distinct().show()"
      ],
      "metadata": {
        "colab": {
          "base_uri": "https://localhost:8080/"
        },
        "id": "7DbCmCmlPCaa",
        "outputId": "491c944f-613b-494d-ddfa-d8631fdd7246"
      },
      "execution_count": 66,
      "outputs": [
        {
          "output_type": "stream",
          "name": "stdout",
          "text": [
            "+---------------+-----------+----------------+---------------+--------------------+--------+-----------------+-------------------------+-----------+--------------------+-----------------+-----------------+----+\n",
            "|Item_Identifier|Item_Weight|Item_Fat_Content|Item_Visibility|           Item_Type|Item_MRP|Outlet_Identifier|Outlet_Establishment_Year|Outlet_Size|Outlet_Location_Type|      Outlet_Type|Item_Outlet_Sales|flag|\n",
            "+---------------+-----------+----------------+---------------+--------------------+--------+-----------------+-------------------------+-----------+--------------------+-----------------+-----------------+----+\n",
            "|          FDH19|      19.35|              Lf|    0.033088472|                Meat|175.4738|           OUT046|                     1997|      Small|              Tier 1|Supermarket Type1|         521.3214| new|\n",
            "|          FDF53|      20.75|             Reg|    0.083590755|        Frozen Foods|182.2318|           OUT035|                     2004|      Small|              Tier 2|Supermarket Type1|        3067.3406| new|\n",
            "|          FDB34|      15.25|              Lf|     0.02671821|         Snack Foods| 85.2198|           OUT018|                     2009|     Medium|              Tier 3|Supermarket Type2|        1482.7366| new|\n",
            "|          FDC26|     10.195|              Lf|    0.126897925|              Canned|110.6886|           OUT018|                     2009|     Medium|              Tier 3|Supermarket Type2|        1223.0746| new|\n",
            "|          FDI50|       8.42|             Reg|    0.030890618|              Canned|228.7352|           OUT049|                     1999|     Medium|              Tier 1|Supermarket Type1|        5954.9152| new|\n",
            "|          FDB08|      6.055|              Lf|    0.031230059|Fruits and Vegeta...|160.3578|           OUT018|                     2009|     Medium|              Tier 3|Supermarket Type2|        1765.0358| new|\n",
            "|          FDX32|       15.1|             Reg|    0.099839365|Fruits and Vegeta...|143.3786|           OUT035|                     2004|      Small|              Tier 2|Supermarket Type1|        1733.7432| new|\n",
            "|          NCD43|       8.85|              Lf|    0.016006626|           Household|105.6964|           OUT013|                     1987|       High|              Tier 3|Supermarket Type1|         210.3928| new|\n",
            "|          NCP53|      14.75|              Lf|    0.032862976|  Health and Hygiene|238.6906|           OUT013|                     1987|       High|              Tier 3|Supermarket Type1|        4278.4308| new|\n",
            "|          FDR27|       15.1|             Reg|    0.096249842|                Meat|134.4942|           OUT049|                     1999|     Medium|              Tier 1|Supermarket Type1|        2119.9072| new|\n",
            "|          FDR58|      6.675|              Lf|            0.0|         Snack Foods| 92.9462|           OUT018|                     2009|     Medium|              Tier 3|Supermarket Type2|        1018.0082| new|\n",
            "|          NCO43|        5.5|              Lf|    0.047290068|              Others|100.5016|           OUT018|                     2009|     Medium|              Tier 3|Supermarket Type2|        1416.8224| new|\n",
            "|          DRI47|       14.7|              Lf|    0.020920179|         Hard Drinks|143.8128|           OUT046|                     1997|      Small|              Tier 1|Supermarket Type1|        3020.0688| new|\n",
            "|          FDH57|     10.895|              Lf|    0.035893143|Fruits and Vegeta...|131.3284|           OUT018|                     2009|     Medium|              Tier 3|Supermarket Type2|         1318.284| new|\n",
            "|          FDM32|       20.5|              Lf|    0.020587886|Fruits and Vegeta...|  89.583|           OUT013|                     1987|       High|              Tier 3|Supermarket Type1|          1797.66| new|\n",
            "|          DRO47|     10.195|              Lf|    0.112203445|         Hard Drinks| 111.786|           OUT035|                     2004|      Small|              Tier 2|Supermarket Type1|          1697.79| new|\n",
            "|          DRK49|      14.15|              Lf|    0.035999599|         Soft Drinks| 41.5138|           OUT049|                     1999|     Medium|              Tier 1|Supermarket Type1|         162.4552| new|\n",
            "|          NCK30|      14.85|              Lf|    0.060967038|           Household|254.3698|           OUT035|                     2004|      Small|              Tier 2|Supermarket Type1|        4566.0564| new|\n",
            "|          NCS53|       14.5|              Lf|    0.089761211|  Health and Hygiene|159.4604|           OUT035|                     2004|      Small|              Tier 2|Supermarket Type1|         2376.906| new|\n",
            "|          NCM31|      6.095|              Lf|     0.08152738|              Others|140.3154|           OUT018|                     2009|     Medium|              Tier 3|Supermarket Type2|        1843.6002| new|\n",
            "+---------------+-----------+----------------+---------------+--------------------+--------+-----------------+-------------------------+-----------+--------------------+-----------------+-----------------+----+\n",
            "only showing top 20 rows\n",
            "\n"
          ]
        }
      ]
    },
    {
      "cell_type": "code",
      "source": [
        "### UNION and UNION BY NAME"
      ],
      "metadata": {
        "id": "vQWv4kTsPEoG"
      },
      "execution_count": 67,
      "outputs": []
    },
    {
      "cell_type": "code",
      "source": [
        "####Preaparing Dataframes"
      ],
      "metadata": {
        "id": "W8_BDehGPGBZ"
      },
      "execution_count": 68,
      "outputs": []
    },
    {
      "cell_type": "code",
      "source": [
        "data1 = [('1','kad'),\n",
        "        ('2','sid')]\n",
        "schema1 = 'id STRING, name STRING'\n",
        "\n",
        "df1 = spark.createDataFrame(data1,schema1)\n",
        "\n",
        "data2 = [('3','rahul'),\n",
        "        ('4','jas')]\n",
        "schema2 = 'id STRING, name STRING'\n",
        "\n",
        "df2 = spark.createDataFrame(data2,schema2)\n",
        "\n"
      ],
      "metadata": {
        "id": "dUSNOKs1PHID"
      },
      "execution_count": 69,
      "outputs": []
    },
    {
      "cell_type": "code",
      "source": [
        "df1.show()"
      ],
      "metadata": {
        "colab": {
          "base_uri": "https://localhost:8080/"
        },
        "id": "AyHSvw-xPIXK",
        "outputId": "a148500a-f517-4331-b8cc-92c01f704fa4"
      },
      "execution_count": 70,
      "outputs": [
        {
          "output_type": "stream",
          "name": "stdout",
          "text": [
            "+---+----+\n",
            "| id|name|\n",
            "+---+----+\n",
            "|  1| kad|\n",
            "|  2| sid|\n",
            "+---+----+\n",
            "\n"
          ]
        }
      ]
    },
    {
      "cell_type": "code",
      "source": [
        "df2.show()"
      ],
      "metadata": {
        "colab": {
          "base_uri": "https://localhost:8080/"
        },
        "id": "pDbjDVaSPMfW",
        "outputId": "c8a7eefd-4808-42ad-e044-432a2dea7c9c"
      },
      "execution_count": 71,
      "outputs": [
        {
          "output_type": "stream",
          "name": "stdout",
          "text": [
            "+---+-----+\n",
            "| id| name|\n",
            "+---+-----+\n",
            "|  3|rahul|\n",
            "|  4|  jas|\n",
            "+---+-----+\n",
            "\n"
          ]
        }
      ]
    },
    {
      "cell_type": "code",
      "source": [
        "### Union"
      ],
      "metadata": {
        "id": "3C_PXBgMPNzl"
      },
      "execution_count": 72,
      "outputs": []
    },
    {
      "cell_type": "code",
      "source": [
        "df1.union(df2).show()"
      ],
      "metadata": {
        "colab": {
          "base_uri": "https://localhost:8080/"
        },
        "id": "1qJtiPFkPUbB",
        "outputId": "2d4084b4-8179-4576-b73c-162d5962f07c"
      },
      "execution_count": 73,
      "outputs": [
        {
          "output_type": "stream",
          "name": "stdout",
          "text": [
            "+---+-----+\n",
            "| id| name|\n",
            "+---+-----+\n",
            "|  1|  kad|\n",
            "|  2|  sid|\n",
            "|  3|rahul|\n",
            "|  4|  jas|\n",
            "+---+-----+\n",
            "\n"
          ]
        }
      ]
    },
    {
      "cell_type": "code",
      "source": [
        "data1 = [('kad','1',),\n",
        "        ('sid','2',)]\n",
        "schema1 = 'name STRING, id STRING'\n",
        "\n",
        "df1 = spark.createDataFrame(data1,schema1)\n",
        "\n",
        "df1.show()"
      ],
      "metadata": {
        "colab": {
          "base_uri": "https://localhost:8080/"
        },
        "id": "OaJ1mNw3PXP-",
        "outputId": "8cf6a3af-6ddf-433e-99b8-ad377c85409a"
      },
      "execution_count": 74,
      "outputs": [
        {
          "output_type": "stream",
          "name": "stdout",
          "text": [
            "+----+---+\n",
            "|name| id|\n",
            "+----+---+\n",
            "| kad|  1|\n",
            "| sid|  2|\n",
            "+----+---+\n",
            "\n"
          ]
        }
      ]
    },
    {
      "cell_type": "code",
      "source": [
        "df1.union(df2).show()"
      ],
      "metadata": {
        "colab": {
          "base_uri": "https://localhost:8080/"
        },
        "id": "2Ei61HZtPZOS",
        "outputId": "d4fa5a0a-fce1-4123-fd78-676f07071851"
      },
      "execution_count": 75,
      "outputs": [
        {
          "output_type": "stream",
          "name": "stdout",
          "text": [
            "+----+-----+\n",
            "|name|   id|\n",
            "+----+-----+\n",
            "| kad|    1|\n",
            "| sid|    2|\n",
            "|   3|rahul|\n",
            "|   4|  jas|\n",
            "+----+-----+\n",
            "\n"
          ]
        }
      ]
    },
    {
      "cell_type": "code",
      "source": [
        "### Union by Name"
      ],
      "metadata": {
        "id": "iBWevmlaPbZP"
      },
      "execution_count": 76,
      "outputs": []
    },
    {
      "cell_type": "code",
      "source": [
        "df1.unionByName(df2).show()"
      ],
      "metadata": {
        "colab": {
          "base_uri": "https://localhost:8080/"
        },
        "id": "vfiBiX1oPdIp",
        "outputId": "aa8e08cf-11a8-48c0-9e17-521b25d795c9"
      },
      "execution_count": 77,
      "outputs": [
        {
          "output_type": "stream",
          "name": "stdout",
          "text": [
            "+-----+---+\n",
            "| name| id|\n",
            "+-----+---+\n",
            "|  kad|  1|\n",
            "|  sid|  2|\n",
            "|rahul|  3|\n",
            "|  jas|  4|\n",
            "+-----+---+\n",
            "\n"
          ]
        }
      ]
    },
    {
      "cell_type": "code",
      "source": [
        "### String Functions"
      ],
      "metadata": {
        "id": "__nk0NjKPfg2"
      },
      "execution_count": 78,
      "outputs": []
    },
    {
      "cell_type": "code",
      "source": [
        "#### Initcap()"
      ],
      "metadata": {
        "id": "Aqs3d5Y9PhZv"
      },
      "execution_count": 79,
      "outputs": []
    },
    {
      "cell_type": "code",
      "source": [
        "df.select(upper('Item_Type').alias('upper_Item_Type')).show()"
      ],
      "metadata": {
        "colab": {
          "base_uri": "https://localhost:8080/"
        },
        "id": "yEAIG-6IPijM",
        "outputId": "3439e2d1-e481-47b7-dcf2-e39c737cc321"
      },
      "execution_count": 80,
      "outputs": [
        {
          "output_type": "stream",
          "name": "stdout",
          "text": [
            "+--------------------+\n",
            "|     upper_Item_Type|\n",
            "+--------------------+\n",
            "|               DAIRY|\n",
            "|         SOFT DRINKS|\n",
            "|                MEAT|\n",
            "|FRUITS AND VEGETA...|\n",
            "|           HOUSEHOLD|\n",
            "|        BAKING GOODS|\n",
            "|         SNACK FOODS|\n",
            "|         SNACK FOODS|\n",
            "|        FROZEN FOODS|\n",
            "|        FROZEN FOODS|\n",
            "|FRUITS AND VEGETA...|\n",
            "|               DAIRY|\n",
            "|FRUITS AND VEGETA...|\n",
            "|         SNACK FOODS|\n",
            "|FRUITS AND VEGETA...|\n",
            "|           BREAKFAST|\n",
            "|  HEALTH AND HYGIENE|\n",
            "|           BREAKFAST|\n",
            "|         HARD DRINKS|\n",
            "|               DAIRY|\n",
            "+--------------------+\n",
            "only showing top 20 rows\n",
            "\n"
          ]
        }
      ]
    },
    {
      "cell_type": "code",
      "source": [
        "### Date Functions"
      ],
      "metadata": {
        "id": "W_dn2GizPkun"
      },
      "execution_count": 81,
      "outputs": []
    },
    {
      "cell_type": "code",
      "source": [
        "#### Current_Date"
      ],
      "metadata": {
        "id": "sDcuRPj8PmIT"
      },
      "execution_count": 82,
      "outputs": []
    },
    {
      "cell_type": "code",
      "source": [
        "df = df.withColumn('curr_date',current_date())\n",
        "df.show()"
      ],
      "metadata": {
        "colab": {
          "base_uri": "https://localhost:8080/"
        },
        "id": "U2VG5NUKPpQg",
        "outputId": "f8e1211e-dc86-46fd-95e5-84a51f2639dc"
      },
      "execution_count": 85,
      "outputs": [
        {
          "output_type": "stream",
          "name": "stdout",
          "text": [
            "+---------------+-----------+----------------+---------------+--------------------+--------+-----------------+-------------------------+-----------+--------------------+-----------------+-----------------+----+----------+\n",
            "|Item_Identifier|Item_Weight|Item_Fat_Content|Item_Visibility|           Item_Type|Item_MRP|Outlet_Identifier|Outlet_Establishment_Year|Outlet_Size|Outlet_Location_Type|      Outlet_Type|Item_Outlet_Sales|flag| curr_date|\n",
            "+---------------+-----------+----------------+---------------+--------------------+--------+-----------------+-------------------------+-----------+--------------------+-----------------+-----------------+----+----------+\n",
            "|          FDA15|        9.3|              Lf|    0.016047301|               Dairy|249.8092|           OUT049|                     1999|     Medium|              Tier 1|Supermarket Type1|         3735.138| new|2025-03-10|\n",
            "|          DRC01|       5.92|             Reg|    0.019278216|         Soft Drinks| 48.2692|           OUT018|                     2009|     Medium|              Tier 3|Supermarket Type2|         443.4228| new|2025-03-10|\n",
            "|          FDN15|       17.5|              Lf|    0.016760075|                Meat| 141.618|           OUT049|                     1999|     Medium|              Tier 1|Supermarket Type1|          2097.27| new|2025-03-10|\n",
            "|          FDX07|       19.2|             Reg|            0.0|Fruits and Vegeta...| 182.095|           OUT010|                     1998|       NULL|              Tier 3|    Grocery Store|           732.38| new|2025-03-10|\n",
            "|          NCD19|       8.93|              Lf|            0.0|           Household| 53.8614|           OUT013|                     1987|       High|              Tier 3|Supermarket Type1|         994.7052| new|2025-03-10|\n",
            "|          FDP36|     10.395|             Reg|            0.0|        Baking Goods| 51.4008|           OUT018|                     2009|     Medium|              Tier 3|Supermarket Type2|         556.6088| new|2025-03-10|\n",
            "|          FDO10|      13.65|             Reg|    0.012741089|         Snack Foods| 57.6588|           OUT013|                     1987|       High|              Tier 3|Supermarket Type1|         343.5528| new|2025-03-10|\n",
            "|          FDP10|       NULL|              Lf|    0.127469857|         Snack Foods|107.7622|           OUT027|                     1985|     Medium|              Tier 3|Supermarket Type3|        4022.7636| new|2025-03-10|\n",
            "|          FDH17|       16.2|             Reg|    0.016687114|        Frozen Foods| 96.9726|           OUT045|                     2002|       NULL|              Tier 2|Supermarket Type1|        1076.5986| new|2025-03-10|\n",
            "|          FDU28|       19.2|             Reg|     0.09444959|        Frozen Foods|187.8214|           OUT017|                     2007|       NULL|              Tier 2|Supermarket Type1|         4710.535| new|2025-03-10|\n",
            "|          FDY07|       11.8|              Lf|            0.0|Fruits and Vegeta...| 45.5402|           OUT049|                     1999|     Medium|              Tier 1|Supermarket Type1|        1516.0266| new|2025-03-10|\n",
            "|          FDA03|       18.5|             Reg|    0.045463773|               Dairy|144.1102|           OUT046|                     1997|      Small|              Tier 1|Supermarket Type1|         2187.153| new|2025-03-10|\n",
            "|          FDX32|       15.1|             Reg|      0.1000135|Fruits and Vegeta...|145.4786|           OUT049|                     1999|     Medium|              Tier 1|Supermarket Type1|        1589.2646| new|2025-03-10|\n",
            "|          FDS46|       17.6|             Reg|    0.047257328|         Snack Foods|119.6782|           OUT046|                     1997|      Small|              Tier 1|Supermarket Type1|        2145.2076| new|2025-03-10|\n",
            "|          FDF32|      16.35|              Lf|      0.0680243|Fruits and Vegeta...|196.4426|           OUT013|                     1987|       High|              Tier 3|Supermarket Type1|         1977.426| new|2025-03-10|\n",
            "|          FDP49|          9|             Reg|    0.069088961|           Breakfast| 56.3614|           OUT046|                     1997|      Small|              Tier 1|Supermarket Type1|        1547.3192| new|2025-03-10|\n",
            "|          NCB42|       11.8|              Lf|    0.008596051|  Health and Hygiene|115.3492|           OUT018|                     2009|     Medium|              Tier 3|Supermarket Type2|        1621.8888| new|2025-03-10|\n",
            "|          FDP49|          9|             Reg|    0.069196376|           Breakfast| 54.3614|           OUT049|                     1999|     Medium|              Tier 1|Supermarket Type1|         718.3982| new|2025-03-10|\n",
            "|          DRI11|       NULL|              Lf|    0.034237682|         Hard Drinks|113.2834|           OUT027|                     1985|     Medium|              Tier 3|Supermarket Type3|         2303.668| new|2025-03-10|\n",
            "|          FDU02|      13.35|              Lf|     0.10249212|               Dairy|230.5352|           OUT035|                     2004|      Small|              Tier 2|Supermarket Type1|        2748.4224| new|2025-03-10|\n",
            "+---------------+-----------+----------------+---------------+--------------------+--------+-----------------+-------------------------+-----------+--------------------+-----------------+-----------------+----+----------+\n",
            "only showing top 20 rows\n",
            "\n"
          ]
        }
      ]
    },
    {
      "cell_type": "code",
      "source": [
        "#### Date_Add()"
      ],
      "metadata": {
        "id": "-YfenFdIPra-"
      },
      "execution_count": 86,
      "outputs": []
    },
    {
      "cell_type": "code",
      "source": [
        "df =df.withColumn('week_after',date_add('curr_date',7))\n",
        "\n",
        "df.show()"
      ],
      "metadata": {
        "colab": {
          "base_uri": "https://localhost:8080/"
        },
        "id": "6_mS1jvgPzF8",
        "outputId": "ef4f46b0-b84d-4a70-c63a-a564eb15380f"
      },
      "execution_count": 87,
      "outputs": [
        {
          "output_type": "stream",
          "name": "stdout",
          "text": [
            "+---------------+-----------+----------------+---------------+--------------------+--------+-----------------+-------------------------+-----------+--------------------+-----------------+-----------------+----+----------+----------+\n",
            "|Item_Identifier|Item_Weight|Item_Fat_Content|Item_Visibility|           Item_Type|Item_MRP|Outlet_Identifier|Outlet_Establishment_Year|Outlet_Size|Outlet_Location_Type|      Outlet_Type|Item_Outlet_Sales|flag| curr_date|week_after|\n",
            "+---------------+-----------+----------------+---------------+--------------------+--------+-----------------+-------------------------+-----------+--------------------+-----------------+-----------------+----+----------+----------+\n",
            "|          FDA15|        9.3|              Lf|    0.016047301|               Dairy|249.8092|           OUT049|                     1999|     Medium|              Tier 1|Supermarket Type1|         3735.138| new|2025-03-10|2025-03-17|\n",
            "|          DRC01|       5.92|             Reg|    0.019278216|         Soft Drinks| 48.2692|           OUT018|                     2009|     Medium|              Tier 3|Supermarket Type2|         443.4228| new|2025-03-10|2025-03-17|\n",
            "|          FDN15|       17.5|              Lf|    0.016760075|                Meat| 141.618|           OUT049|                     1999|     Medium|              Tier 1|Supermarket Type1|          2097.27| new|2025-03-10|2025-03-17|\n",
            "|          FDX07|       19.2|             Reg|            0.0|Fruits and Vegeta...| 182.095|           OUT010|                     1998|       NULL|              Tier 3|    Grocery Store|           732.38| new|2025-03-10|2025-03-17|\n",
            "|          NCD19|       8.93|              Lf|            0.0|           Household| 53.8614|           OUT013|                     1987|       High|              Tier 3|Supermarket Type1|         994.7052| new|2025-03-10|2025-03-17|\n",
            "|          FDP36|     10.395|             Reg|            0.0|        Baking Goods| 51.4008|           OUT018|                     2009|     Medium|              Tier 3|Supermarket Type2|         556.6088| new|2025-03-10|2025-03-17|\n",
            "|          FDO10|      13.65|             Reg|    0.012741089|         Snack Foods| 57.6588|           OUT013|                     1987|       High|              Tier 3|Supermarket Type1|         343.5528| new|2025-03-10|2025-03-17|\n",
            "|          FDP10|       NULL|              Lf|    0.127469857|         Snack Foods|107.7622|           OUT027|                     1985|     Medium|              Tier 3|Supermarket Type3|        4022.7636| new|2025-03-10|2025-03-17|\n",
            "|          FDH17|       16.2|             Reg|    0.016687114|        Frozen Foods| 96.9726|           OUT045|                     2002|       NULL|              Tier 2|Supermarket Type1|        1076.5986| new|2025-03-10|2025-03-17|\n",
            "|          FDU28|       19.2|             Reg|     0.09444959|        Frozen Foods|187.8214|           OUT017|                     2007|       NULL|              Tier 2|Supermarket Type1|         4710.535| new|2025-03-10|2025-03-17|\n",
            "|          FDY07|       11.8|              Lf|            0.0|Fruits and Vegeta...| 45.5402|           OUT049|                     1999|     Medium|              Tier 1|Supermarket Type1|        1516.0266| new|2025-03-10|2025-03-17|\n",
            "|          FDA03|       18.5|             Reg|    0.045463773|               Dairy|144.1102|           OUT046|                     1997|      Small|              Tier 1|Supermarket Type1|         2187.153| new|2025-03-10|2025-03-17|\n",
            "|          FDX32|       15.1|             Reg|      0.1000135|Fruits and Vegeta...|145.4786|           OUT049|                     1999|     Medium|              Tier 1|Supermarket Type1|        1589.2646| new|2025-03-10|2025-03-17|\n",
            "|          FDS46|       17.6|             Reg|    0.047257328|         Snack Foods|119.6782|           OUT046|                     1997|      Small|              Tier 1|Supermarket Type1|        2145.2076| new|2025-03-10|2025-03-17|\n",
            "|          FDF32|      16.35|              Lf|      0.0680243|Fruits and Vegeta...|196.4426|           OUT013|                     1987|       High|              Tier 3|Supermarket Type1|         1977.426| new|2025-03-10|2025-03-17|\n",
            "|          FDP49|          9|             Reg|    0.069088961|           Breakfast| 56.3614|           OUT046|                     1997|      Small|              Tier 1|Supermarket Type1|        1547.3192| new|2025-03-10|2025-03-17|\n",
            "|          NCB42|       11.8|              Lf|    0.008596051|  Health and Hygiene|115.3492|           OUT018|                     2009|     Medium|              Tier 3|Supermarket Type2|        1621.8888| new|2025-03-10|2025-03-17|\n",
            "|          FDP49|          9|             Reg|    0.069196376|           Breakfast| 54.3614|           OUT049|                     1999|     Medium|              Tier 1|Supermarket Type1|         718.3982| new|2025-03-10|2025-03-17|\n",
            "|          DRI11|       NULL|              Lf|    0.034237682|         Hard Drinks|113.2834|           OUT027|                     1985|     Medium|              Tier 3|Supermarket Type3|         2303.668| new|2025-03-10|2025-03-17|\n",
            "|          FDU02|      13.35|              Lf|     0.10249212|               Dairy|230.5352|           OUT035|                     2004|      Small|              Tier 2|Supermarket Type1|        2748.4224| new|2025-03-10|2025-03-17|\n",
            "+---------------+-----------+----------------+---------------+--------------------+--------+-----------------+-------------------------+-----------+--------------------+-----------------+-----------------+----+----------+----------+\n",
            "only showing top 20 rows\n",
            "\n"
          ]
        }
      ]
    },
    {
      "cell_type": "code",
      "source": [
        "#### Date_Sub()"
      ],
      "metadata": {
        "id": "6YHzSDIlP1uz"
      },
      "execution_count": 88,
      "outputs": []
    },
    {
      "cell_type": "code",
      "source": [
        "df.withColumn('week_before',date_sub('curr_date',7)).show()"
      ],
      "metadata": {
        "colab": {
          "base_uri": "https://localhost:8080/"
        },
        "id": "ksVZtPIyP3IV",
        "outputId": "a9a6e3e2-1f75-40fc-e91c-1392bac68ae3"
      },
      "execution_count": 89,
      "outputs": [
        {
          "output_type": "stream",
          "name": "stdout",
          "text": [
            "+---------------+-----------+----------------+---------------+--------------------+--------+-----------------+-------------------------+-----------+--------------------+-----------------+-----------------+----+----------+----------+-----------+\n",
            "|Item_Identifier|Item_Weight|Item_Fat_Content|Item_Visibility|           Item_Type|Item_MRP|Outlet_Identifier|Outlet_Establishment_Year|Outlet_Size|Outlet_Location_Type|      Outlet_Type|Item_Outlet_Sales|flag| curr_date|week_after|week_before|\n",
            "+---------------+-----------+----------------+---------------+--------------------+--------+-----------------+-------------------------+-----------+--------------------+-----------------+-----------------+----+----------+----------+-----------+\n",
            "|          FDA15|        9.3|              Lf|    0.016047301|               Dairy|249.8092|           OUT049|                     1999|     Medium|              Tier 1|Supermarket Type1|         3735.138| new|2025-03-10|2025-03-17| 2025-03-03|\n",
            "|          DRC01|       5.92|             Reg|    0.019278216|         Soft Drinks| 48.2692|           OUT018|                     2009|     Medium|              Tier 3|Supermarket Type2|         443.4228| new|2025-03-10|2025-03-17| 2025-03-03|\n",
            "|          FDN15|       17.5|              Lf|    0.016760075|                Meat| 141.618|           OUT049|                     1999|     Medium|              Tier 1|Supermarket Type1|          2097.27| new|2025-03-10|2025-03-17| 2025-03-03|\n",
            "|          FDX07|       19.2|             Reg|            0.0|Fruits and Vegeta...| 182.095|           OUT010|                     1998|       NULL|              Tier 3|    Grocery Store|           732.38| new|2025-03-10|2025-03-17| 2025-03-03|\n",
            "|          NCD19|       8.93|              Lf|            0.0|           Household| 53.8614|           OUT013|                     1987|       High|              Tier 3|Supermarket Type1|         994.7052| new|2025-03-10|2025-03-17| 2025-03-03|\n",
            "|          FDP36|     10.395|             Reg|            0.0|        Baking Goods| 51.4008|           OUT018|                     2009|     Medium|              Tier 3|Supermarket Type2|         556.6088| new|2025-03-10|2025-03-17| 2025-03-03|\n",
            "|          FDO10|      13.65|             Reg|    0.012741089|         Snack Foods| 57.6588|           OUT013|                     1987|       High|              Tier 3|Supermarket Type1|         343.5528| new|2025-03-10|2025-03-17| 2025-03-03|\n",
            "|          FDP10|       NULL|              Lf|    0.127469857|         Snack Foods|107.7622|           OUT027|                     1985|     Medium|              Tier 3|Supermarket Type3|        4022.7636| new|2025-03-10|2025-03-17| 2025-03-03|\n",
            "|          FDH17|       16.2|             Reg|    0.016687114|        Frozen Foods| 96.9726|           OUT045|                     2002|       NULL|              Tier 2|Supermarket Type1|        1076.5986| new|2025-03-10|2025-03-17| 2025-03-03|\n",
            "|          FDU28|       19.2|             Reg|     0.09444959|        Frozen Foods|187.8214|           OUT017|                     2007|       NULL|              Tier 2|Supermarket Type1|         4710.535| new|2025-03-10|2025-03-17| 2025-03-03|\n",
            "|          FDY07|       11.8|              Lf|            0.0|Fruits and Vegeta...| 45.5402|           OUT049|                     1999|     Medium|              Tier 1|Supermarket Type1|        1516.0266| new|2025-03-10|2025-03-17| 2025-03-03|\n",
            "|          FDA03|       18.5|             Reg|    0.045463773|               Dairy|144.1102|           OUT046|                     1997|      Small|              Tier 1|Supermarket Type1|         2187.153| new|2025-03-10|2025-03-17| 2025-03-03|\n",
            "|          FDX32|       15.1|             Reg|      0.1000135|Fruits and Vegeta...|145.4786|           OUT049|                     1999|     Medium|              Tier 1|Supermarket Type1|        1589.2646| new|2025-03-10|2025-03-17| 2025-03-03|\n",
            "|          FDS46|       17.6|             Reg|    0.047257328|         Snack Foods|119.6782|           OUT046|                     1997|      Small|              Tier 1|Supermarket Type1|        2145.2076| new|2025-03-10|2025-03-17| 2025-03-03|\n",
            "|          FDF32|      16.35|              Lf|      0.0680243|Fruits and Vegeta...|196.4426|           OUT013|                     1987|       High|              Tier 3|Supermarket Type1|         1977.426| new|2025-03-10|2025-03-17| 2025-03-03|\n",
            "|          FDP49|          9|             Reg|    0.069088961|           Breakfast| 56.3614|           OUT046|                     1997|      Small|              Tier 1|Supermarket Type1|        1547.3192| new|2025-03-10|2025-03-17| 2025-03-03|\n",
            "|          NCB42|       11.8|              Lf|    0.008596051|  Health and Hygiene|115.3492|           OUT018|                     2009|     Medium|              Tier 3|Supermarket Type2|        1621.8888| new|2025-03-10|2025-03-17| 2025-03-03|\n",
            "|          FDP49|          9|             Reg|    0.069196376|           Breakfast| 54.3614|           OUT049|                     1999|     Medium|              Tier 1|Supermarket Type1|         718.3982| new|2025-03-10|2025-03-17| 2025-03-03|\n",
            "|          DRI11|       NULL|              Lf|    0.034237682|         Hard Drinks|113.2834|           OUT027|                     1985|     Medium|              Tier 3|Supermarket Type3|         2303.668| new|2025-03-10|2025-03-17| 2025-03-03|\n",
            "|          FDU02|      13.35|              Lf|     0.10249212|               Dairy|230.5352|           OUT035|                     2004|      Small|              Tier 2|Supermarket Type1|        2748.4224| new|2025-03-10|2025-03-17| 2025-03-03|\n",
            "+---------------+-----------+----------------+---------------+--------------------+--------+-----------------+-------------------------+-----------+--------------------+-----------------+-----------------+----+----------+----------+-----------+\n",
            "only showing top 20 rows\n",
            "\n"
          ]
        }
      ]
    },
    {
      "cell_type": "code",
      "source": [
        "df = df.withColumn('week_before',date_add('curr_date',-7))\n",
        "\n",
        "df.show()"
      ],
      "metadata": {
        "colab": {
          "base_uri": "https://localhost:8080/"
        },
        "id": "DQ1ZeqNXP444",
        "outputId": "471d6994-e897-40a4-f89d-4146995ac388"
      },
      "execution_count": 90,
      "outputs": [
        {
          "output_type": "stream",
          "name": "stdout",
          "text": [
            "+---------------+-----------+----------------+---------------+--------------------+--------+-----------------+-------------------------+-----------+--------------------+-----------------+-----------------+----+----------+----------+-----------+\n",
            "|Item_Identifier|Item_Weight|Item_Fat_Content|Item_Visibility|           Item_Type|Item_MRP|Outlet_Identifier|Outlet_Establishment_Year|Outlet_Size|Outlet_Location_Type|      Outlet_Type|Item_Outlet_Sales|flag| curr_date|week_after|week_before|\n",
            "+---------------+-----------+----------------+---------------+--------------------+--------+-----------------+-------------------------+-----------+--------------------+-----------------+-----------------+----+----------+----------+-----------+\n",
            "|          FDA15|        9.3|              Lf|    0.016047301|               Dairy|249.8092|           OUT049|                     1999|     Medium|              Tier 1|Supermarket Type1|         3735.138| new|2025-03-10|2025-03-17| 2025-03-03|\n",
            "|          DRC01|       5.92|             Reg|    0.019278216|         Soft Drinks| 48.2692|           OUT018|                     2009|     Medium|              Tier 3|Supermarket Type2|         443.4228| new|2025-03-10|2025-03-17| 2025-03-03|\n",
            "|          FDN15|       17.5|              Lf|    0.016760075|                Meat| 141.618|           OUT049|                     1999|     Medium|              Tier 1|Supermarket Type1|          2097.27| new|2025-03-10|2025-03-17| 2025-03-03|\n",
            "|          FDX07|       19.2|             Reg|            0.0|Fruits and Vegeta...| 182.095|           OUT010|                     1998|       NULL|              Tier 3|    Grocery Store|           732.38| new|2025-03-10|2025-03-17| 2025-03-03|\n",
            "|          NCD19|       8.93|              Lf|            0.0|           Household| 53.8614|           OUT013|                     1987|       High|              Tier 3|Supermarket Type1|         994.7052| new|2025-03-10|2025-03-17| 2025-03-03|\n",
            "|          FDP36|     10.395|             Reg|            0.0|        Baking Goods| 51.4008|           OUT018|                     2009|     Medium|              Tier 3|Supermarket Type2|         556.6088| new|2025-03-10|2025-03-17| 2025-03-03|\n",
            "|          FDO10|      13.65|             Reg|    0.012741089|         Snack Foods| 57.6588|           OUT013|                     1987|       High|              Tier 3|Supermarket Type1|         343.5528| new|2025-03-10|2025-03-17| 2025-03-03|\n",
            "|          FDP10|       NULL|              Lf|    0.127469857|         Snack Foods|107.7622|           OUT027|                     1985|     Medium|              Tier 3|Supermarket Type3|        4022.7636| new|2025-03-10|2025-03-17| 2025-03-03|\n",
            "|          FDH17|       16.2|             Reg|    0.016687114|        Frozen Foods| 96.9726|           OUT045|                     2002|       NULL|              Tier 2|Supermarket Type1|        1076.5986| new|2025-03-10|2025-03-17| 2025-03-03|\n",
            "|          FDU28|       19.2|             Reg|     0.09444959|        Frozen Foods|187.8214|           OUT017|                     2007|       NULL|              Tier 2|Supermarket Type1|         4710.535| new|2025-03-10|2025-03-17| 2025-03-03|\n",
            "|          FDY07|       11.8|              Lf|            0.0|Fruits and Vegeta...| 45.5402|           OUT049|                     1999|     Medium|              Tier 1|Supermarket Type1|        1516.0266| new|2025-03-10|2025-03-17| 2025-03-03|\n",
            "|          FDA03|       18.5|             Reg|    0.045463773|               Dairy|144.1102|           OUT046|                     1997|      Small|              Tier 1|Supermarket Type1|         2187.153| new|2025-03-10|2025-03-17| 2025-03-03|\n",
            "|          FDX32|       15.1|             Reg|      0.1000135|Fruits and Vegeta...|145.4786|           OUT049|                     1999|     Medium|              Tier 1|Supermarket Type1|        1589.2646| new|2025-03-10|2025-03-17| 2025-03-03|\n",
            "|          FDS46|       17.6|             Reg|    0.047257328|         Snack Foods|119.6782|           OUT046|                     1997|      Small|              Tier 1|Supermarket Type1|        2145.2076| new|2025-03-10|2025-03-17| 2025-03-03|\n",
            "|          FDF32|      16.35|              Lf|      0.0680243|Fruits and Vegeta...|196.4426|           OUT013|                     1987|       High|              Tier 3|Supermarket Type1|         1977.426| new|2025-03-10|2025-03-17| 2025-03-03|\n",
            "|          FDP49|          9|             Reg|    0.069088961|           Breakfast| 56.3614|           OUT046|                     1997|      Small|              Tier 1|Supermarket Type1|        1547.3192| new|2025-03-10|2025-03-17| 2025-03-03|\n",
            "|          NCB42|       11.8|              Lf|    0.008596051|  Health and Hygiene|115.3492|           OUT018|                     2009|     Medium|              Tier 3|Supermarket Type2|        1621.8888| new|2025-03-10|2025-03-17| 2025-03-03|\n",
            "|          FDP49|          9|             Reg|    0.069196376|           Breakfast| 54.3614|           OUT049|                     1999|     Medium|              Tier 1|Supermarket Type1|         718.3982| new|2025-03-10|2025-03-17| 2025-03-03|\n",
            "|          DRI11|       NULL|              Lf|    0.034237682|         Hard Drinks|113.2834|           OUT027|                     1985|     Medium|              Tier 3|Supermarket Type3|         2303.668| new|2025-03-10|2025-03-17| 2025-03-03|\n",
            "|          FDU02|      13.35|              Lf|     0.10249212|               Dairy|230.5352|           OUT035|                     2004|      Small|              Tier 2|Supermarket Type1|        2748.4224| new|2025-03-10|2025-03-17| 2025-03-03|\n",
            "+---------------+-----------+----------------+---------------+--------------------+--------+-----------------+-------------------------+-----------+--------------------+-----------------+-----------------+----+----------+----------+-----------+\n",
            "only showing top 20 rows\n",
            "\n"
          ]
        }
      ]
    },
    {
      "cell_type": "code",
      "source": [
        "### DateDIFF"
      ],
      "metadata": {
        "id": "mT1lsDjVP7B3"
      },
      "execution_count": 91,
      "outputs": []
    },
    {
      "cell_type": "code",
      "source": [
        "df = df.withColumn('datediff',datediff('week_after','curr_date'))\n",
        "\n",
        "df.show()"
      ],
      "metadata": {
        "colab": {
          "base_uri": "https://localhost:8080/"
        },
        "id": "Ph0sRkvhP8jW",
        "outputId": "782e6056-d4bf-4a52-d8fd-1b70701d12bd"
      },
      "execution_count": 92,
      "outputs": [
        {
          "output_type": "stream",
          "name": "stdout",
          "text": [
            "+---------------+-----------+----------------+---------------+--------------------+--------+-----------------+-------------------------+-----------+--------------------+-----------------+-----------------+----+----------+----------+-----------+--------+\n",
            "|Item_Identifier|Item_Weight|Item_Fat_Content|Item_Visibility|           Item_Type|Item_MRP|Outlet_Identifier|Outlet_Establishment_Year|Outlet_Size|Outlet_Location_Type|      Outlet_Type|Item_Outlet_Sales|flag| curr_date|week_after|week_before|datediff|\n",
            "+---------------+-----------+----------------+---------------+--------------------+--------+-----------------+-------------------------+-----------+--------------------+-----------------+-----------------+----+----------+----------+-----------+--------+\n",
            "|          FDA15|        9.3|              Lf|    0.016047301|               Dairy|249.8092|           OUT049|                     1999|     Medium|              Tier 1|Supermarket Type1|         3735.138| new|2025-03-10|2025-03-17| 2025-03-03|       7|\n",
            "|          DRC01|       5.92|             Reg|    0.019278216|         Soft Drinks| 48.2692|           OUT018|                     2009|     Medium|              Tier 3|Supermarket Type2|         443.4228| new|2025-03-10|2025-03-17| 2025-03-03|       7|\n",
            "|          FDN15|       17.5|              Lf|    0.016760075|                Meat| 141.618|           OUT049|                     1999|     Medium|              Tier 1|Supermarket Type1|          2097.27| new|2025-03-10|2025-03-17| 2025-03-03|       7|\n",
            "|          FDX07|       19.2|             Reg|            0.0|Fruits and Vegeta...| 182.095|           OUT010|                     1998|       NULL|              Tier 3|    Grocery Store|           732.38| new|2025-03-10|2025-03-17| 2025-03-03|       7|\n",
            "|          NCD19|       8.93|              Lf|            0.0|           Household| 53.8614|           OUT013|                     1987|       High|              Tier 3|Supermarket Type1|         994.7052| new|2025-03-10|2025-03-17| 2025-03-03|       7|\n",
            "|          FDP36|     10.395|             Reg|            0.0|        Baking Goods| 51.4008|           OUT018|                     2009|     Medium|              Tier 3|Supermarket Type2|         556.6088| new|2025-03-10|2025-03-17| 2025-03-03|       7|\n",
            "|          FDO10|      13.65|             Reg|    0.012741089|         Snack Foods| 57.6588|           OUT013|                     1987|       High|              Tier 3|Supermarket Type1|         343.5528| new|2025-03-10|2025-03-17| 2025-03-03|       7|\n",
            "|          FDP10|       NULL|              Lf|    0.127469857|         Snack Foods|107.7622|           OUT027|                     1985|     Medium|              Tier 3|Supermarket Type3|        4022.7636| new|2025-03-10|2025-03-17| 2025-03-03|       7|\n",
            "|          FDH17|       16.2|             Reg|    0.016687114|        Frozen Foods| 96.9726|           OUT045|                     2002|       NULL|              Tier 2|Supermarket Type1|        1076.5986| new|2025-03-10|2025-03-17| 2025-03-03|       7|\n",
            "|          FDU28|       19.2|             Reg|     0.09444959|        Frozen Foods|187.8214|           OUT017|                     2007|       NULL|              Tier 2|Supermarket Type1|         4710.535| new|2025-03-10|2025-03-17| 2025-03-03|       7|\n",
            "|          FDY07|       11.8|              Lf|            0.0|Fruits and Vegeta...| 45.5402|           OUT049|                     1999|     Medium|              Tier 1|Supermarket Type1|        1516.0266| new|2025-03-10|2025-03-17| 2025-03-03|       7|\n",
            "|          FDA03|       18.5|             Reg|    0.045463773|               Dairy|144.1102|           OUT046|                     1997|      Small|              Tier 1|Supermarket Type1|         2187.153| new|2025-03-10|2025-03-17| 2025-03-03|       7|\n",
            "|          FDX32|       15.1|             Reg|      0.1000135|Fruits and Vegeta...|145.4786|           OUT049|                     1999|     Medium|              Tier 1|Supermarket Type1|        1589.2646| new|2025-03-10|2025-03-17| 2025-03-03|       7|\n",
            "|          FDS46|       17.6|             Reg|    0.047257328|         Snack Foods|119.6782|           OUT046|                     1997|      Small|              Tier 1|Supermarket Type1|        2145.2076| new|2025-03-10|2025-03-17| 2025-03-03|       7|\n",
            "|          FDF32|      16.35|              Lf|      0.0680243|Fruits and Vegeta...|196.4426|           OUT013|                     1987|       High|              Tier 3|Supermarket Type1|         1977.426| new|2025-03-10|2025-03-17| 2025-03-03|       7|\n",
            "|          FDP49|          9|             Reg|    0.069088961|           Breakfast| 56.3614|           OUT046|                     1997|      Small|              Tier 1|Supermarket Type1|        1547.3192| new|2025-03-10|2025-03-17| 2025-03-03|       7|\n",
            "|          NCB42|       11.8|              Lf|    0.008596051|  Health and Hygiene|115.3492|           OUT018|                     2009|     Medium|              Tier 3|Supermarket Type2|        1621.8888| new|2025-03-10|2025-03-17| 2025-03-03|       7|\n",
            "|          FDP49|          9|             Reg|    0.069196376|           Breakfast| 54.3614|           OUT049|                     1999|     Medium|              Tier 1|Supermarket Type1|         718.3982| new|2025-03-10|2025-03-17| 2025-03-03|       7|\n",
            "|          DRI11|       NULL|              Lf|    0.034237682|         Hard Drinks|113.2834|           OUT027|                     1985|     Medium|              Tier 3|Supermarket Type3|         2303.668| new|2025-03-10|2025-03-17| 2025-03-03|       7|\n",
            "|          FDU02|      13.35|              Lf|     0.10249212|               Dairy|230.5352|           OUT035|                     2004|      Small|              Tier 2|Supermarket Type1|        2748.4224| new|2025-03-10|2025-03-17| 2025-03-03|       7|\n",
            "+---------------+-----------+----------------+---------------+--------------------+--------+-----------------+-------------------------+-----------+--------------------+-----------------+-----------------+----+----------+----------+-----------+--------+\n",
            "only showing top 20 rows\n",
            "\n"
          ]
        }
      ]
    },
    {
      "cell_type": "code",
      "source": [
        "### Date_Format()"
      ],
      "metadata": {
        "id": "XueSJcY3P-Wg"
      },
      "execution_count": 93,
      "outputs": []
    },
    {
      "cell_type": "code",
      "source": [
        "df = df.withColumn('week_before',date_format('week_before','dd-MM-yyyy'))\n",
        "\n",
        "df.show()"
      ],
      "metadata": {
        "colab": {
          "base_uri": "https://localhost:8080/"
        },
        "id": "58N5OswtQAEH",
        "outputId": "4e8b979a-4dd1-47d0-b374-565aef813934"
      },
      "execution_count": 94,
      "outputs": [
        {
          "output_type": "stream",
          "name": "stdout",
          "text": [
            "+---------------+-----------+----------------+---------------+--------------------+--------+-----------------+-------------------------+-----------+--------------------+-----------------+-----------------+----+----------+----------+-----------+--------+\n",
            "|Item_Identifier|Item_Weight|Item_Fat_Content|Item_Visibility|           Item_Type|Item_MRP|Outlet_Identifier|Outlet_Establishment_Year|Outlet_Size|Outlet_Location_Type|      Outlet_Type|Item_Outlet_Sales|flag| curr_date|week_after|week_before|datediff|\n",
            "+---------------+-----------+----------------+---------------+--------------------+--------+-----------------+-------------------------+-----------+--------------------+-----------------+-----------------+----+----------+----------+-----------+--------+\n",
            "|          FDA15|        9.3|              Lf|    0.016047301|               Dairy|249.8092|           OUT049|                     1999|     Medium|              Tier 1|Supermarket Type1|         3735.138| new|2025-03-10|2025-03-17| 03-03-2025|       7|\n",
            "|          DRC01|       5.92|             Reg|    0.019278216|         Soft Drinks| 48.2692|           OUT018|                     2009|     Medium|              Tier 3|Supermarket Type2|         443.4228| new|2025-03-10|2025-03-17| 03-03-2025|       7|\n",
            "|          FDN15|       17.5|              Lf|    0.016760075|                Meat| 141.618|           OUT049|                     1999|     Medium|              Tier 1|Supermarket Type1|          2097.27| new|2025-03-10|2025-03-17| 03-03-2025|       7|\n",
            "|          FDX07|       19.2|             Reg|            0.0|Fruits and Vegeta...| 182.095|           OUT010|                     1998|       NULL|              Tier 3|    Grocery Store|           732.38| new|2025-03-10|2025-03-17| 03-03-2025|       7|\n",
            "|          NCD19|       8.93|              Lf|            0.0|           Household| 53.8614|           OUT013|                     1987|       High|              Tier 3|Supermarket Type1|         994.7052| new|2025-03-10|2025-03-17| 03-03-2025|       7|\n",
            "|          FDP36|     10.395|             Reg|            0.0|        Baking Goods| 51.4008|           OUT018|                     2009|     Medium|              Tier 3|Supermarket Type2|         556.6088| new|2025-03-10|2025-03-17| 03-03-2025|       7|\n",
            "|          FDO10|      13.65|             Reg|    0.012741089|         Snack Foods| 57.6588|           OUT013|                     1987|       High|              Tier 3|Supermarket Type1|         343.5528| new|2025-03-10|2025-03-17| 03-03-2025|       7|\n",
            "|          FDP10|       NULL|              Lf|    0.127469857|         Snack Foods|107.7622|           OUT027|                     1985|     Medium|              Tier 3|Supermarket Type3|        4022.7636| new|2025-03-10|2025-03-17| 03-03-2025|       7|\n",
            "|          FDH17|       16.2|             Reg|    0.016687114|        Frozen Foods| 96.9726|           OUT045|                     2002|       NULL|              Tier 2|Supermarket Type1|        1076.5986| new|2025-03-10|2025-03-17| 03-03-2025|       7|\n",
            "|          FDU28|       19.2|             Reg|     0.09444959|        Frozen Foods|187.8214|           OUT017|                     2007|       NULL|              Tier 2|Supermarket Type1|         4710.535| new|2025-03-10|2025-03-17| 03-03-2025|       7|\n",
            "|          FDY07|       11.8|              Lf|            0.0|Fruits and Vegeta...| 45.5402|           OUT049|                     1999|     Medium|              Tier 1|Supermarket Type1|        1516.0266| new|2025-03-10|2025-03-17| 03-03-2025|       7|\n",
            "|          FDA03|       18.5|             Reg|    0.045463773|               Dairy|144.1102|           OUT046|                     1997|      Small|              Tier 1|Supermarket Type1|         2187.153| new|2025-03-10|2025-03-17| 03-03-2025|       7|\n",
            "|          FDX32|       15.1|             Reg|      0.1000135|Fruits and Vegeta...|145.4786|           OUT049|                     1999|     Medium|              Tier 1|Supermarket Type1|        1589.2646| new|2025-03-10|2025-03-17| 03-03-2025|       7|\n",
            "|          FDS46|       17.6|             Reg|    0.047257328|         Snack Foods|119.6782|           OUT046|                     1997|      Small|              Tier 1|Supermarket Type1|        2145.2076| new|2025-03-10|2025-03-17| 03-03-2025|       7|\n",
            "|          FDF32|      16.35|              Lf|      0.0680243|Fruits and Vegeta...|196.4426|           OUT013|                     1987|       High|              Tier 3|Supermarket Type1|         1977.426| new|2025-03-10|2025-03-17| 03-03-2025|       7|\n",
            "|          FDP49|          9|             Reg|    0.069088961|           Breakfast| 56.3614|           OUT046|                     1997|      Small|              Tier 1|Supermarket Type1|        1547.3192| new|2025-03-10|2025-03-17| 03-03-2025|       7|\n",
            "|          NCB42|       11.8|              Lf|    0.008596051|  Health and Hygiene|115.3492|           OUT018|                     2009|     Medium|              Tier 3|Supermarket Type2|        1621.8888| new|2025-03-10|2025-03-17| 03-03-2025|       7|\n",
            "|          FDP49|          9|             Reg|    0.069196376|           Breakfast| 54.3614|           OUT049|                     1999|     Medium|              Tier 1|Supermarket Type1|         718.3982| new|2025-03-10|2025-03-17| 03-03-2025|       7|\n",
            "|          DRI11|       NULL|              Lf|    0.034237682|         Hard Drinks|113.2834|           OUT027|                     1985|     Medium|              Tier 3|Supermarket Type3|         2303.668| new|2025-03-10|2025-03-17| 03-03-2025|       7|\n",
            "|          FDU02|      13.35|              Lf|     0.10249212|               Dairy|230.5352|           OUT035|                     2004|      Small|              Tier 2|Supermarket Type1|        2748.4224| new|2025-03-10|2025-03-17| 03-03-2025|       7|\n",
            "+---------------+-----------+----------------+---------------+--------------------+--------+-----------------+-------------------------+-----------+--------------------+-----------------+-----------------+----+----------+----------+-----------+--------+\n",
            "only showing top 20 rows\n",
            "\n"
          ]
        }
      ]
    },
    {
      "cell_type": "code",
      "source": [
        "### Handling Nulls"
      ],
      "metadata": {
        "id": "xmwCwIpaQB9_"
      },
      "execution_count": 95,
      "outputs": []
    },
    {
      "cell_type": "code",
      "source": [
        "#### Dropping NUlls"
      ],
      "metadata": {
        "id": "ZPKesCiZQDLi"
      },
      "execution_count": 96,
      "outputs": []
    },
    {
      "cell_type": "code",
      "source": [
        "df.dropna('all').show()"
      ],
      "metadata": {
        "colab": {
          "base_uri": "https://localhost:8080/"
        },
        "id": "DfS9keJWQEcl",
        "outputId": "789d07f8-66b4-48d2-f134-e57399ec54ec"
      },
      "execution_count": 97,
      "outputs": [
        {
          "output_type": "stream",
          "name": "stdout",
          "text": [
            "+---------------+-----------+----------------+---------------+--------------------+--------+-----------------+-------------------------+-----------+--------------------+-----------------+-----------------+----+----------+----------+-----------+--------+\n",
            "|Item_Identifier|Item_Weight|Item_Fat_Content|Item_Visibility|           Item_Type|Item_MRP|Outlet_Identifier|Outlet_Establishment_Year|Outlet_Size|Outlet_Location_Type|      Outlet_Type|Item_Outlet_Sales|flag| curr_date|week_after|week_before|datediff|\n",
            "+---------------+-----------+----------------+---------------+--------------------+--------+-----------------+-------------------------+-----------+--------------------+-----------------+-----------------+----+----------+----------+-----------+--------+\n",
            "|          FDA15|        9.3|              Lf|    0.016047301|               Dairy|249.8092|           OUT049|                     1999|     Medium|              Tier 1|Supermarket Type1|         3735.138| new|2025-03-10|2025-03-17| 03-03-2025|       7|\n",
            "|          DRC01|       5.92|             Reg|    0.019278216|         Soft Drinks| 48.2692|           OUT018|                     2009|     Medium|              Tier 3|Supermarket Type2|         443.4228| new|2025-03-10|2025-03-17| 03-03-2025|       7|\n",
            "|          FDN15|       17.5|              Lf|    0.016760075|                Meat| 141.618|           OUT049|                     1999|     Medium|              Tier 1|Supermarket Type1|          2097.27| new|2025-03-10|2025-03-17| 03-03-2025|       7|\n",
            "|          FDX07|       19.2|             Reg|            0.0|Fruits and Vegeta...| 182.095|           OUT010|                     1998|       NULL|              Tier 3|    Grocery Store|           732.38| new|2025-03-10|2025-03-17| 03-03-2025|       7|\n",
            "|          NCD19|       8.93|              Lf|            0.0|           Household| 53.8614|           OUT013|                     1987|       High|              Tier 3|Supermarket Type1|         994.7052| new|2025-03-10|2025-03-17| 03-03-2025|       7|\n",
            "|          FDP36|     10.395|             Reg|            0.0|        Baking Goods| 51.4008|           OUT018|                     2009|     Medium|              Tier 3|Supermarket Type2|         556.6088| new|2025-03-10|2025-03-17| 03-03-2025|       7|\n",
            "|          FDO10|      13.65|             Reg|    0.012741089|         Snack Foods| 57.6588|           OUT013|                     1987|       High|              Tier 3|Supermarket Type1|         343.5528| new|2025-03-10|2025-03-17| 03-03-2025|       7|\n",
            "|          FDP10|       NULL|              Lf|    0.127469857|         Snack Foods|107.7622|           OUT027|                     1985|     Medium|              Tier 3|Supermarket Type3|        4022.7636| new|2025-03-10|2025-03-17| 03-03-2025|       7|\n",
            "|          FDH17|       16.2|             Reg|    0.016687114|        Frozen Foods| 96.9726|           OUT045|                     2002|       NULL|              Tier 2|Supermarket Type1|        1076.5986| new|2025-03-10|2025-03-17| 03-03-2025|       7|\n",
            "|          FDU28|       19.2|             Reg|     0.09444959|        Frozen Foods|187.8214|           OUT017|                     2007|       NULL|              Tier 2|Supermarket Type1|         4710.535| new|2025-03-10|2025-03-17| 03-03-2025|       7|\n",
            "|          FDY07|       11.8|              Lf|            0.0|Fruits and Vegeta...| 45.5402|           OUT049|                     1999|     Medium|              Tier 1|Supermarket Type1|        1516.0266| new|2025-03-10|2025-03-17| 03-03-2025|       7|\n",
            "|          FDA03|       18.5|             Reg|    0.045463773|               Dairy|144.1102|           OUT046|                     1997|      Small|              Tier 1|Supermarket Type1|         2187.153| new|2025-03-10|2025-03-17| 03-03-2025|       7|\n",
            "|          FDX32|       15.1|             Reg|      0.1000135|Fruits and Vegeta...|145.4786|           OUT049|                     1999|     Medium|              Tier 1|Supermarket Type1|        1589.2646| new|2025-03-10|2025-03-17| 03-03-2025|       7|\n",
            "|          FDS46|       17.6|             Reg|    0.047257328|         Snack Foods|119.6782|           OUT046|                     1997|      Small|              Tier 1|Supermarket Type1|        2145.2076| new|2025-03-10|2025-03-17| 03-03-2025|       7|\n",
            "|          FDF32|      16.35|              Lf|      0.0680243|Fruits and Vegeta...|196.4426|           OUT013|                     1987|       High|              Tier 3|Supermarket Type1|         1977.426| new|2025-03-10|2025-03-17| 03-03-2025|       7|\n",
            "|          FDP49|          9|             Reg|    0.069088961|           Breakfast| 56.3614|           OUT046|                     1997|      Small|              Tier 1|Supermarket Type1|        1547.3192| new|2025-03-10|2025-03-17| 03-03-2025|       7|\n",
            "|          NCB42|       11.8|              Lf|    0.008596051|  Health and Hygiene|115.3492|           OUT018|                     2009|     Medium|              Tier 3|Supermarket Type2|        1621.8888| new|2025-03-10|2025-03-17| 03-03-2025|       7|\n",
            "|          FDP49|          9|             Reg|    0.069196376|           Breakfast| 54.3614|           OUT049|                     1999|     Medium|              Tier 1|Supermarket Type1|         718.3982| new|2025-03-10|2025-03-17| 03-03-2025|       7|\n",
            "|          DRI11|       NULL|              Lf|    0.034237682|         Hard Drinks|113.2834|           OUT027|                     1985|     Medium|              Tier 3|Supermarket Type3|         2303.668| new|2025-03-10|2025-03-17| 03-03-2025|       7|\n",
            "|          FDU02|      13.35|              Lf|     0.10249212|               Dairy|230.5352|           OUT035|                     2004|      Small|              Tier 2|Supermarket Type1|        2748.4224| new|2025-03-10|2025-03-17| 03-03-2025|       7|\n",
            "+---------------+-----------+----------------+---------------+--------------------+--------+-----------------+-------------------------+-----------+--------------------+-----------------+-----------------+----+----------+----------+-----------+--------+\n",
            "only showing top 20 rows\n",
            "\n"
          ]
        }
      ]
    },
    {
      "cell_type": "code",
      "source": [
        "df.dropna('any').show()"
      ],
      "metadata": {
        "colab": {
          "base_uri": "https://localhost:8080/"
        },
        "id": "B5_5ITGRQGQz",
        "outputId": "61b45999-cc70-4caf-ea5f-260156181efe"
      },
      "execution_count": 98,
      "outputs": [
        {
          "output_type": "stream",
          "name": "stdout",
          "text": [
            "+---------------+-----------+----------------+---------------+--------------------+--------+-----------------+-------------------------+-----------+--------------------+-----------------+-----------------+----+----------+----------+-----------+--------+\n",
            "|Item_Identifier|Item_Weight|Item_Fat_Content|Item_Visibility|           Item_Type|Item_MRP|Outlet_Identifier|Outlet_Establishment_Year|Outlet_Size|Outlet_Location_Type|      Outlet_Type|Item_Outlet_Sales|flag| curr_date|week_after|week_before|datediff|\n",
            "+---------------+-----------+----------------+---------------+--------------------+--------+-----------------+-------------------------+-----------+--------------------+-----------------+-----------------+----+----------+----------+-----------+--------+\n",
            "|          FDA15|        9.3|              Lf|    0.016047301|               Dairy|249.8092|           OUT049|                     1999|     Medium|              Tier 1|Supermarket Type1|         3735.138| new|2025-03-10|2025-03-17| 03-03-2025|       7|\n",
            "|          DRC01|       5.92|             Reg|    0.019278216|         Soft Drinks| 48.2692|           OUT018|                     2009|     Medium|              Tier 3|Supermarket Type2|         443.4228| new|2025-03-10|2025-03-17| 03-03-2025|       7|\n",
            "|          FDN15|       17.5|              Lf|    0.016760075|                Meat| 141.618|           OUT049|                     1999|     Medium|              Tier 1|Supermarket Type1|          2097.27| new|2025-03-10|2025-03-17| 03-03-2025|       7|\n",
            "|          NCD19|       8.93|              Lf|            0.0|           Household| 53.8614|           OUT013|                     1987|       High|              Tier 3|Supermarket Type1|         994.7052| new|2025-03-10|2025-03-17| 03-03-2025|       7|\n",
            "|          FDP36|     10.395|             Reg|            0.0|        Baking Goods| 51.4008|           OUT018|                     2009|     Medium|              Tier 3|Supermarket Type2|         556.6088| new|2025-03-10|2025-03-17| 03-03-2025|       7|\n",
            "|          FDO10|      13.65|             Reg|    0.012741089|         Snack Foods| 57.6588|           OUT013|                     1987|       High|              Tier 3|Supermarket Type1|         343.5528| new|2025-03-10|2025-03-17| 03-03-2025|       7|\n",
            "|          FDY07|       11.8|              Lf|            0.0|Fruits and Vegeta...| 45.5402|           OUT049|                     1999|     Medium|              Tier 1|Supermarket Type1|        1516.0266| new|2025-03-10|2025-03-17| 03-03-2025|       7|\n",
            "|          FDA03|       18.5|             Reg|    0.045463773|               Dairy|144.1102|           OUT046|                     1997|      Small|              Tier 1|Supermarket Type1|         2187.153| new|2025-03-10|2025-03-17| 03-03-2025|       7|\n",
            "|          FDX32|       15.1|             Reg|      0.1000135|Fruits and Vegeta...|145.4786|           OUT049|                     1999|     Medium|              Tier 1|Supermarket Type1|        1589.2646| new|2025-03-10|2025-03-17| 03-03-2025|       7|\n",
            "|          FDS46|       17.6|             Reg|    0.047257328|         Snack Foods|119.6782|           OUT046|                     1997|      Small|              Tier 1|Supermarket Type1|        2145.2076| new|2025-03-10|2025-03-17| 03-03-2025|       7|\n",
            "|          FDF32|      16.35|              Lf|      0.0680243|Fruits and Vegeta...|196.4426|           OUT013|                     1987|       High|              Tier 3|Supermarket Type1|         1977.426| new|2025-03-10|2025-03-17| 03-03-2025|       7|\n",
            "|          FDP49|          9|             Reg|    0.069088961|           Breakfast| 56.3614|           OUT046|                     1997|      Small|              Tier 1|Supermarket Type1|        1547.3192| new|2025-03-10|2025-03-17| 03-03-2025|       7|\n",
            "|          NCB42|       11.8|              Lf|    0.008596051|  Health and Hygiene|115.3492|           OUT018|                     2009|     Medium|              Tier 3|Supermarket Type2|        1621.8888| new|2025-03-10|2025-03-17| 03-03-2025|       7|\n",
            "|          FDP49|          9|             Reg|    0.069196376|           Breakfast| 54.3614|           OUT049|                     1999|     Medium|              Tier 1|Supermarket Type1|         718.3982| new|2025-03-10|2025-03-17| 03-03-2025|       7|\n",
            "|          FDU02|      13.35|              Lf|     0.10249212|               Dairy|230.5352|           OUT035|                     2004|      Small|              Tier 2|Supermarket Type1|        2748.4224| new|2025-03-10|2025-03-17| 03-03-2025|       7|\n",
            "|          FDN22|      18.85|             Reg|    0.138190277|         Snack Foods|250.8724|           OUT013|                     1987|       High|              Tier 3|Supermarket Type1|         3775.086| new|2025-03-10|2025-03-17| 03-03-2025|       7|\n",
            "|          NCB30|       14.6|              Lf|    0.025698134|           Household|196.5084|           OUT035|                     2004|      Small|              Tier 2|Supermarket Type1|        1587.2672| new|2025-03-10|2025-03-17| 03-03-2025|       7|\n",
            "|          FDR28|      13.85|             Reg|    0.025896485|        Frozen Foods| 165.021|           OUT046|                     1997|      Small|              Tier 1|Supermarket Type1|         4078.025| new|2025-03-10|2025-03-17| 03-03-2025|       7|\n",
            "|          FDV10|      7.645|             Reg|    0.066693437|         Snack Foods| 42.3112|           OUT035|                     2004|      Small|              Tier 2|Supermarket Type1|          1065.28| new|2025-03-10|2025-03-17| 03-03-2025|       7|\n",
            "|          DRJ59|      11.65|         low fat|    0.019356132|         Hard Drinks| 39.1164|           OUT013|                     1987|       High|              Tier 3|Supermarket Type1|         308.9312| new|2025-03-10|2025-03-17| 03-03-2025|       7|\n",
            "+---------------+-----------+----------------+---------------+--------------------+--------+-----------------+-------------------------+-----------+--------------------+-----------------+-----------------+----+----------+----------+-----------+--------+\n",
            "only showing top 20 rows\n",
            "\n"
          ]
        }
      ]
    },
    {
      "cell_type": "code",
      "source": [
        "df.dropna(subset=['Outlet_Size']).show()"
      ],
      "metadata": {
        "colab": {
          "base_uri": "https://localhost:8080/"
        },
        "id": "6xyb9BtrQJTS",
        "outputId": "8b85aabd-9c1d-489a-c82d-c42b539c2a4d"
      },
      "execution_count": 99,
      "outputs": [
        {
          "output_type": "stream",
          "name": "stdout",
          "text": [
            "+---------------+-----------+----------------+---------------+--------------------+--------+-----------------+-------------------------+-----------+--------------------+-----------------+-----------------+----+----------+----------+-----------+--------+\n",
            "|Item_Identifier|Item_Weight|Item_Fat_Content|Item_Visibility|           Item_Type|Item_MRP|Outlet_Identifier|Outlet_Establishment_Year|Outlet_Size|Outlet_Location_Type|      Outlet_Type|Item_Outlet_Sales|flag| curr_date|week_after|week_before|datediff|\n",
            "+---------------+-----------+----------------+---------------+--------------------+--------+-----------------+-------------------------+-----------+--------------------+-----------------+-----------------+----+----------+----------+-----------+--------+\n",
            "|          FDA15|        9.3|              Lf|    0.016047301|               Dairy|249.8092|           OUT049|                     1999|     Medium|              Tier 1|Supermarket Type1|         3735.138| new|2025-03-10|2025-03-17| 03-03-2025|       7|\n",
            "|          DRC01|       5.92|             Reg|    0.019278216|         Soft Drinks| 48.2692|           OUT018|                     2009|     Medium|              Tier 3|Supermarket Type2|         443.4228| new|2025-03-10|2025-03-17| 03-03-2025|       7|\n",
            "|          FDN15|       17.5|              Lf|    0.016760075|                Meat| 141.618|           OUT049|                     1999|     Medium|              Tier 1|Supermarket Type1|          2097.27| new|2025-03-10|2025-03-17| 03-03-2025|       7|\n",
            "|          NCD19|       8.93|              Lf|            0.0|           Household| 53.8614|           OUT013|                     1987|       High|              Tier 3|Supermarket Type1|         994.7052| new|2025-03-10|2025-03-17| 03-03-2025|       7|\n",
            "|          FDP36|     10.395|             Reg|            0.0|        Baking Goods| 51.4008|           OUT018|                     2009|     Medium|              Tier 3|Supermarket Type2|         556.6088| new|2025-03-10|2025-03-17| 03-03-2025|       7|\n",
            "|          FDO10|      13.65|             Reg|    0.012741089|         Snack Foods| 57.6588|           OUT013|                     1987|       High|              Tier 3|Supermarket Type1|         343.5528| new|2025-03-10|2025-03-17| 03-03-2025|       7|\n",
            "|          FDP10|       NULL|              Lf|    0.127469857|         Snack Foods|107.7622|           OUT027|                     1985|     Medium|              Tier 3|Supermarket Type3|        4022.7636| new|2025-03-10|2025-03-17| 03-03-2025|       7|\n",
            "|          FDY07|       11.8|              Lf|            0.0|Fruits and Vegeta...| 45.5402|           OUT049|                     1999|     Medium|              Tier 1|Supermarket Type1|        1516.0266| new|2025-03-10|2025-03-17| 03-03-2025|       7|\n",
            "|          FDA03|       18.5|             Reg|    0.045463773|               Dairy|144.1102|           OUT046|                     1997|      Small|              Tier 1|Supermarket Type1|         2187.153| new|2025-03-10|2025-03-17| 03-03-2025|       7|\n",
            "|          FDX32|       15.1|             Reg|      0.1000135|Fruits and Vegeta...|145.4786|           OUT049|                     1999|     Medium|              Tier 1|Supermarket Type1|        1589.2646| new|2025-03-10|2025-03-17| 03-03-2025|       7|\n",
            "|          FDS46|       17.6|             Reg|    0.047257328|         Snack Foods|119.6782|           OUT046|                     1997|      Small|              Tier 1|Supermarket Type1|        2145.2076| new|2025-03-10|2025-03-17| 03-03-2025|       7|\n",
            "|          FDF32|      16.35|              Lf|      0.0680243|Fruits and Vegeta...|196.4426|           OUT013|                     1987|       High|              Tier 3|Supermarket Type1|         1977.426| new|2025-03-10|2025-03-17| 03-03-2025|       7|\n",
            "|          FDP49|          9|             Reg|    0.069088961|           Breakfast| 56.3614|           OUT046|                     1997|      Small|              Tier 1|Supermarket Type1|        1547.3192| new|2025-03-10|2025-03-17| 03-03-2025|       7|\n",
            "|          NCB42|       11.8|              Lf|    0.008596051|  Health and Hygiene|115.3492|           OUT018|                     2009|     Medium|              Tier 3|Supermarket Type2|        1621.8888| new|2025-03-10|2025-03-17| 03-03-2025|       7|\n",
            "|          FDP49|          9|             Reg|    0.069196376|           Breakfast| 54.3614|           OUT049|                     1999|     Medium|              Tier 1|Supermarket Type1|         718.3982| new|2025-03-10|2025-03-17| 03-03-2025|       7|\n",
            "|          DRI11|       NULL|              Lf|    0.034237682|         Hard Drinks|113.2834|           OUT027|                     1985|     Medium|              Tier 3|Supermarket Type3|         2303.668| new|2025-03-10|2025-03-17| 03-03-2025|       7|\n",
            "|          FDU02|      13.35|              Lf|     0.10249212|               Dairy|230.5352|           OUT035|                     2004|      Small|              Tier 2|Supermarket Type1|        2748.4224| new|2025-03-10|2025-03-17| 03-03-2025|       7|\n",
            "|          FDN22|      18.85|             Reg|    0.138190277|         Snack Foods|250.8724|           OUT013|                     1987|       High|              Tier 3|Supermarket Type1|         3775.086| new|2025-03-10|2025-03-17| 03-03-2025|       7|\n",
            "|          FDW12|       NULL|             Reg|    0.035399923|        Baking Goods|144.5444|           OUT027|                     1985|     Medium|              Tier 3|Supermarket Type3|        4064.0432| new|2025-03-10|2025-03-17| 03-03-2025|       7|\n",
            "|          NCB30|       14.6|              Lf|    0.025698134|           Household|196.5084|           OUT035|                     2004|      Small|              Tier 2|Supermarket Type1|        1587.2672| new|2025-03-10|2025-03-17| 03-03-2025|       7|\n",
            "+---------------+-----------+----------------+---------------+--------------------+--------+-----------------+-------------------------+-----------+--------------------+-----------------+-----------------+----+----------+----------+-----------+--------+\n",
            "only showing top 20 rows\n",
            "\n"
          ]
        }
      ]
    },
    {
      "cell_type": "code",
      "source": [
        "df.show()"
      ],
      "metadata": {
        "colab": {
          "base_uri": "https://localhost:8080/"
        },
        "id": "Yk7kQ_m0QLm2",
        "outputId": "08fa5f89-f487-4ce4-8eae-3460e1e6e2f7"
      },
      "execution_count": 100,
      "outputs": [
        {
          "output_type": "stream",
          "name": "stdout",
          "text": [
            "+---------------+-----------+----------------+---------------+--------------------+--------+-----------------+-------------------------+-----------+--------------------+-----------------+-----------------+----+----------+----------+-----------+--------+\n",
            "|Item_Identifier|Item_Weight|Item_Fat_Content|Item_Visibility|           Item_Type|Item_MRP|Outlet_Identifier|Outlet_Establishment_Year|Outlet_Size|Outlet_Location_Type|      Outlet_Type|Item_Outlet_Sales|flag| curr_date|week_after|week_before|datediff|\n",
            "+---------------+-----------+----------------+---------------+--------------------+--------+-----------------+-------------------------+-----------+--------------------+-----------------+-----------------+----+----------+----------+-----------+--------+\n",
            "|          FDA15|        9.3|              Lf|    0.016047301|               Dairy|249.8092|           OUT049|                     1999|     Medium|              Tier 1|Supermarket Type1|         3735.138| new|2025-03-10|2025-03-17| 03-03-2025|       7|\n",
            "|          DRC01|       5.92|             Reg|    0.019278216|         Soft Drinks| 48.2692|           OUT018|                     2009|     Medium|              Tier 3|Supermarket Type2|         443.4228| new|2025-03-10|2025-03-17| 03-03-2025|       7|\n",
            "|          FDN15|       17.5|              Lf|    0.016760075|                Meat| 141.618|           OUT049|                     1999|     Medium|              Tier 1|Supermarket Type1|          2097.27| new|2025-03-10|2025-03-17| 03-03-2025|       7|\n",
            "|          FDX07|       19.2|             Reg|            0.0|Fruits and Vegeta...| 182.095|           OUT010|                     1998|       NULL|              Tier 3|    Grocery Store|           732.38| new|2025-03-10|2025-03-17| 03-03-2025|       7|\n",
            "|          NCD19|       8.93|              Lf|            0.0|           Household| 53.8614|           OUT013|                     1987|       High|              Tier 3|Supermarket Type1|         994.7052| new|2025-03-10|2025-03-17| 03-03-2025|       7|\n",
            "|          FDP36|     10.395|             Reg|            0.0|        Baking Goods| 51.4008|           OUT018|                     2009|     Medium|              Tier 3|Supermarket Type2|         556.6088| new|2025-03-10|2025-03-17| 03-03-2025|       7|\n",
            "|          FDO10|      13.65|             Reg|    0.012741089|         Snack Foods| 57.6588|           OUT013|                     1987|       High|              Tier 3|Supermarket Type1|         343.5528| new|2025-03-10|2025-03-17| 03-03-2025|       7|\n",
            "|          FDP10|       NULL|              Lf|    0.127469857|         Snack Foods|107.7622|           OUT027|                     1985|     Medium|              Tier 3|Supermarket Type3|        4022.7636| new|2025-03-10|2025-03-17| 03-03-2025|       7|\n",
            "|          FDH17|       16.2|             Reg|    0.016687114|        Frozen Foods| 96.9726|           OUT045|                     2002|       NULL|              Tier 2|Supermarket Type1|        1076.5986| new|2025-03-10|2025-03-17| 03-03-2025|       7|\n",
            "|          FDU28|       19.2|             Reg|     0.09444959|        Frozen Foods|187.8214|           OUT017|                     2007|       NULL|              Tier 2|Supermarket Type1|         4710.535| new|2025-03-10|2025-03-17| 03-03-2025|       7|\n",
            "|          FDY07|       11.8|              Lf|            0.0|Fruits and Vegeta...| 45.5402|           OUT049|                     1999|     Medium|              Tier 1|Supermarket Type1|        1516.0266| new|2025-03-10|2025-03-17| 03-03-2025|       7|\n",
            "|          FDA03|       18.5|             Reg|    0.045463773|               Dairy|144.1102|           OUT046|                     1997|      Small|              Tier 1|Supermarket Type1|         2187.153| new|2025-03-10|2025-03-17| 03-03-2025|       7|\n",
            "|          FDX32|       15.1|             Reg|      0.1000135|Fruits and Vegeta...|145.4786|           OUT049|                     1999|     Medium|              Tier 1|Supermarket Type1|        1589.2646| new|2025-03-10|2025-03-17| 03-03-2025|       7|\n",
            "|          FDS46|       17.6|             Reg|    0.047257328|         Snack Foods|119.6782|           OUT046|                     1997|      Small|              Tier 1|Supermarket Type1|        2145.2076| new|2025-03-10|2025-03-17| 03-03-2025|       7|\n",
            "|          FDF32|      16.35|              Lf|      0.0680243|Fruits and Vegeta...|196.4426|           OUT013|                     1987|       High|              Tier 3|Supermarket Type1|         1977.426| new|2025-03-10|2025-03-17| 03-03-2025|       7|\n",
            "|          FDP49|          9|             Reg|    0.069088961|           Breakfast| 56.3614|           OUT046|                     1997|      Small|              Tier 1|Supermarket Type1|        1547.3192| new|2025-03-10|2025-03-17| 03-03-2025|       7|\n",
            "|          NCB42|       11.8|              Lf|    0.008596051|  Health and Hygiene|115.3492|           OUT018|                     2009|     Medium|              Tier 3|Supermarket Type2|        1621.8888| new|2025-03-10|2025-03-17| 03-03-2025|       7|\n",
            "|          FDP49|          9|             Reg|    0.069196376|           Breakfast| 54.3614|           OUT049|                     1999|     Medium|              Tier 1|Supermarket Type1|         718.3982| new|2025-03-10|2025-03-17| 03-03-2025|       7|\n",
            "|          DRI11|       NULL|              Lf|    0.034237682|         Hard Drinks|113.2834|           OUT027|                     1985|     Medium|              Tier 3|Supermarket Type3|         2303.668| new|2025-03-10|2025-03-17| 03-03-2025|       7|\n",
            "|          FDU02|      13.35|              Lf|     0.10249212|               Dairy|230.5352|           OUT035|                     2004|      Small|              Tier 2|Supermarket Type1|        2748.4224| new|2025-03-10|2025-03-17| 03-03-2025|       7|\n",
            "+---------------+-----------+----------------+---------------+--------------------+--------+-----------------+-------------------------+-----------+--------------------+-----------------+-----------------+----+----------+----------+-----------+--------+\n",
            "only showing top 20 rows\n",
            "\n"
          ]
        }
      ]
    },
    {
      "cell_type": "code",
      "source": [
        "#### Filling Nulls"
      ],
      "metadata": {
        "id": "EfKWnF3jQNkw"
      },
      "execution_count": 101,
      "outputs": []
    },
    {
      "cell_type": "code",
      "source": [
        "df.fillna('NotAvailable').show()"
      ],
      "metadata": {
        "colab": {
          "base_uri": "https://localhost:8080/"
        },
        "id": "Z0ot4H1bQO3Z",
        "outputId": "8c1569b8-e2b7-478c-a0d5-b14a6d366990"
      },
      "execution_count": 102,
      "outputs": [
        {
          "output_type": "stream",
          "name": "stdout",
          "text": [
            "+---------------+------------+----------------+---------------+--------------------+--------+-----------------+-------------------------+------------+--------------------+-----------------+-----------------+----+----------+----------+-----------+--------+\n",
            "|Item_Identifier| Item_Weight|Item_Fat_Content|Item_Visibility|           Item_Type|Item_MRP|Outlet_Identifier|Outlet_Establishment_Year| Outlet_Size|Outlet_Location_Type|      Outlet_Type|Item_Outlet_Sales|flag| curr_date|week_after|week_before|datediff|\n",
            "+---------------+------------+----------------+---------------+--------------------+--------+-----------------+-------------------------+------------+--------------------+-----------------+-----------------+----+----------+----------+-----------+--------+\n",
            "|          FDA15|         9.3|              Lf|    0.016047301|               Dairy|249.8092|           OUT049|                     1999|      Medium|              Tier 1|Supermarket Type1|         3735.138| new|2025-03-10|2025-03-17| 03-03-2025|       7|\n",
            "|          DRC01|        5.92|             Reg|    0.019278216|         Soft Drinks| 48.2692|           OUT018|                     2009|      Medium|              Tier 3|Supermarket Type2|         443.4228| new|2025-03-10|2025-03-17| 03-03-2025|       7|\n",
            "|          FDN15|        17.5|              Lf|    0.016760075|                Meat| 141.618|           OUT049|                     1999|      Medium|              Tier 1|Supermarket Type1|          2097.27| new|2025-03-10|2025-03-17| 03-03-2025|       7|\n",
            "|          FDX07|        19.2|             Reg|            0.0|Fruits and Vegeta...| 182.095|           OUT010|                     1998|NotAvailable|              Tier 3|    Grocery Store|           732.38| new|2025-03-10|2025-03-17| 03-03-2025|       7|\n",
            "|          NCD19|        8.93|              Lf|            0.0|           Household| 53.8614|           OUT013|                     1987|        High|              Tier 3|Supermarket Type1|         994.7052| new|2025-03-10|2025-03-17| 03-03-2025|       7|\n",
            "|          FDP36|      10.395|             Reg|            0.0|        Baking Goods| 51.4008|           OUT018|                     2009|      Medium|              Tier 3|Supermarket Type2|         556.6088| new|2025-03-10|2025-03-17| 03-03-2025|       7|\n",
            "|          FDO10|       13.65|             Reg|    0.012741089|         Snack Foods| 57.6588|           OUT013|                     1987|        High|              Tier 3|Supermarket Type1|         343.5528| new|2025-03-10|2025-03-17| 03-03-2025|       7|\n",
            "|          FDP10|NotAvailable|              Lf|    0.127469857|         Snack Foods|107.7622|           OUT027|                     1985|      Medium|              Tier 3|Supermarket Type3|        4022.7636| new|2025-03-10|2025-03-17| 03-03-2025|       7|\n",
            "|          FDH17|        16.2|             Reg|    0.016687114|        Frozen Foods| 96.9726|           OUT045|                     2002|NotAvailable|              Tier 2|Supermarket Type1|        1076.5986| new|2025-03-10|2025-03-17| 03-03-2025|       7|\n",
            "|          FDU28|        19.2|             Reg|     0.09444959|        Frozen Foods|187.8214|           OUT017|                     2007|NotAvailable|              Tier 2|Supermarket Type1|         4710.535| new|2025-03-10|2025-03-17| 03-03-2025|       7|\n",
            "|          FDY07|        11.8|              Lf|            0.0|Fruits and Vegeta...| 45.5402|           OUT049|                     1999|      Medium|              Tier 1|Supermarket Type1|        1516.0266| new|2025-03-10|2025-03-17| 03-03-2025|       7|\n",
            "|          FDA03|        18.5|             Reg|    0.045463773|               Dairy|144.1102|           OUT046|                     1997|       Small|              Tier 1|Supermarket Type1|         2187.153| new|2025-03-10|2025-03-17| 03-03-2025|       7|\n",
            "|          FDX32|        15.1|             Reg|      0.1000135|Fruits and Vegeta...|145.4786|           OUT049|                     1999|      Medium|              Tier 1|Supermarket Type1|        1589.2646| new|2025-03-10|2025-03-17| 03-03-2025|       7|\n",
            "|          FDS46|        17.6|             Reg|    0.047257328|         Snack Foods|119.6782|           OUT046|                     1997|       Small|              Tier 1|Supermarket Type1|        2145.2076| new|2025-03-10|2025-03-17| 03-03-2025|       7|\n",
            "|          FDF32|       16.35|              Lf|      0.0680243|Fruits and Vegeta...|196.4426|           OUT013|                     1987|        High|              Tier 3|Supermarket Type1|         1977.426| new|2025-03-10|2025-03-17| 03-03-2025|       7|\n",
            "|          FDP49|           9|             Reg|    0.069088961|           Breakfast| 56.3614|           OUT046|                     1997|       Small|              Tier 1|Supermarket Type1|        1547.3192| new|2025-03-10|2025-03-17| 03-03-2025|       7|\n",
            "|          NCB42|        11.8|              Lf|    0.008596051|  Health and Hygiene|115.3492|           OUT018|                     2009|      Medium|              Tier 3|Supermarket Type2|        1621.8888| new|2025-03-10|2025-03-17| 03-03-2025|       7|\n",
            "|          FDP49|           9|             Reg|    0.069196376|           Breakfast| 54.3614|           OUT049|                     1999|      Medium|              Tier 1|Supermarket Type1|         718.3982| new|2025-03-10|2025-03-17| 03-03-2025|       7|\n",
            "|          DRI11|NotAvailable|              Lf|    0.034237682|         Hard Drinks|113.2834|           OUT027|                     1985|      Medium|              Tier 3|Supermarket Type3|         2303.668| new|2025-03-10|2025-03-17| 03-03-2025|       7|\n",
            "|          FDU02|       13.35|              Lf|     0.10249212|               Dairy|230.5352|           OUT035|                     2004|       Small|              Tier 2|Supermarket Type1|        2748.4224| new|2025-03-10|2025-03-17| 03-03-2025|       7|\n",
            "+---------------+------------+----------------+---------------+--------------------+--------+-----------------+-------------------------+------------+--------------------+-----------------+-----------------+----+----------+----------+-----------+--------+\n",
            "only showing top 20 rows\n",
            "\n"
          ]
        }
      ]
    },
    {
      "cell_type": "code",
      "source": [
        "df.fillna('NotAvailable',subset=['Outlet_Size']).show()"
      ],
      "metadata": {
        "colab": {
          "base_uri": "https://localhost:8080/"
        },
        "id": "9aW9jMmOQQkc",
        "outputId": "92f955d7-3d33-404f-80a4-9f1cd8183ea4"
      },
      "execution_count": 103,
      "outputs": [
        {
          "output_type": "stream",
          "name": "stdout",
          "text": [
            "+---------------+-----------+----------------+---------------+--------------------+--------+-----------------+-------------------------+------------+--------------------+-----------------+-----------------+----+----------+----------+-----------+--------+\n",
            "|Item_Identifier|Item_Weight|Item_Fat_Content|Item_Visibility|           Item_Type|Item_MRP|Outlet_Identifier|Outlet_Establishment_Year| Outlet_Size|Outlet_Location_Type|      Outlet_Type|Item_Outlet_Sales|flag| curr_date|week_after|week_before|datediff|\n",
            "+---------------+-----------+----------------+---------------+--------------------+--------+-----------------+-------------------------+------------+--------------------+-----------------+-----------------+----+----------+----------+-----------+--------+\n",
            "|          FDA15|        9.3|              Lf|    0.016047301|               Dairy|249.8092|           OUT049|                     1999|      Medium|              Tier 1|Supermarket Type1|         3735.138| new|2025-03-10|2025-03-17| 03-03-2025|       7|\n",
            "|          DRC01|       5.92|             Reg|    0.019278216|         Soft Drinks| 48.2692|           OUT018|                     2009|      Medium|              Tier 3|Supermarket Type2|         443.4228| new|2025-03-10|2025-03-17| 03-03-2025|       7|\n",
            "|          FDN15|       17.5|              Lf|    0.016760075|                Meat| 141.618|           OUT049|                     1999|      Medium|              Tier 1|Supermarket Type1|          2097.27| new|2025-03-10|2025-03-17| 03-03-2025|       7|\n",
            "|          FDX07|       19.2|             Reg|            0.0|Fruits and Vegeta...| 182.095|           OUT010|                     1998|NotAvailable|              Tier 3|    Grocery Store|           732.38| new|2025-03-10|2025-03-17| 03-03-2025|       7|\n",
            "|          NCD19|       8.93|              Lf|            0.0|           Household| 53.8614|           OUT013|                     1987|        High|              Tier 3|Supermarket Type1|         994.7052| new|2025-03-10|2025-03-17| 03-03-2025|       7|\n",
            "|          FDP36|     10.395|             Reg|            0.0|        Baking Goods| 51.4008|           OUT018|                     2009|      Medium|              Tier 3|Supermarket Type2|         556.6088| new|2025-03-10|2025-03-17| 03-03-2025|       7|\n",
            "|          FDO10|      13.65|             Reg|    0.012741089|         Snack Foods| 57.6588|           OUT013|                     1987|        High|              Tier 3|Supermarket Type1|         343.5528| new|2025-03-10|2025-03-17| 03-03-2025|       7|\n",
            "|          FDP10|       NULL|              Lf|    0.127469857|         Snack Foods|107.7622|           OUT027|                     1985|      Medium|              Tier 3|Supermarket Type3|        4022.7636| new|2025-03-10|2025-03-17| 03-03-2025|       7|\n",
            "|          FDH17|       16.2|             Reg|    0.016687114|        Frozen Foods| 96.9726|           OUT045|                     2002|NotAvailable|              Tier 2|Supermarket Type1|        1076.5986| new|2025-03-10|2025-03-17| 03-03-2025|       7|\n",
            "|          FDU28|       19.2|             Reg|     0.09444959|        Frozen Foods|187.8214|           OUT017|                     2007|NotAvailable|              Tier 2|Supermarket Type1|         4710.535| new|2025-03-10|2025-03-17| 03-03-2025|       7|\n",
            "|          FDY07|       11.8|              Lf|            0.0|Fruits and Vegeta...| 45.5402|           OUT049|                     1999|      Medium|              Tier 1|Supermarket Type1|        1516.0266| new|2025-03-10|2025-03-17| 03-03-2025|       7|\n",
            "|          FDA03|       18.5|             Reg|    0.045463773|               Dairy|144.1102|           OUT046|                     1997|       Small|              Tier 1|Supermarket Type1|         2187.153| new|2025-03-10|2025-03-17| 03-03-2025|       7|\n",
            "|          FDX32|       15.1|             Reg|      0.1000135|Fruits and Vegeta...|145.4786|           OUT049|                     1999|      Medium|              Tier 1|Supermarket Type1|        1589.2646| new|2025-03-10|2025-03-17| 03-03-2025|       7|\n",
            "|          FDS46|       17.6|             Reg|    0.047257328|         Snack Foods|119.6782|           OUT046|                     1997|       Small|              Tier 1|Supermarket Type1|        2145.2076| new|2025-03-10|2025-03-17| 03-03-2025|       7|\n",
            "|          FDF32|      16.35|              Lf|      0.0680243|Fruits and Vegeta...|196.4426|           OUT013|                     1987|        High|              Tier 3|Supermarket Type1|         1977.426| new|2025-03-10|2025-03-17| 03-03-2025|       7|\n",
            "|          FDP49|          9|             Reg|    0.069088961|           Breakfast| 56.3614|           OUT046|                     1997|       Small|              Tier 1|Supermarket Type1|        1547.3192| new|2025-03-10|2025-03-17| 03-03-2025|       7|\n",
            "|          NCB42|       11.8|              Lf|    0.008596051|  Health and Hygiene|115.3492|           OUT018|                     2009|      Medium|              Tier 3|Supermarket Type2|        1621.8888| new|2025-03-10|2025-03-17| 03-03-2025|       7|\n",
            "|          FDP49|          9|             Reg|    0.069196376|           Breakfast| 54.3614|           OUT049|                     1999|      Medium|              Tier 1|Supermarket Type1|         718.3982| new|2025-03-10|2025-03-17| 03-03-2025|       7|\n",
            "|          DRI11|       NULL|              Lf|    0.034237682|         Hard Drinks|113.2834|           OUT027|                     1985|      Medium|              Tier 3|Supermarket Type3|         2303.668| new|2025-03-10|2025-03-17| 03-03-2025|       7|\n",
            "|          FDU02|      13.35|              Lf|     0.10249212|               Dairy|230.5352|           OUT035|                     2004|       Small|              Tier 2|Supermarket Type1|        2748.4224| new|2025-03-10|2025-03-17| 03-03-2025|       7|\n",
            "+---------------+-----------+----------------+---------------+--------------------+--------+-----------------+-------------------------+------------+--------------------+-----------------+-----------------+----+----------+----------+-----------+--------+\n",
            "only showing top 20 rows\n",
            "\n"
          ]
        }
      ]
    },
    {
      "cell_type": "code",
      "source": [
        "### SPLIT and Indexing"
      ],
      "metadata": {
        "id": "ETAfSuMgQSXq"
      },
      "execution_count": 104,
      "outputs": []
    },
    {
      "cell_type": "code",
      "source": [
        "#### SPLIT"
      ],
      "metadata": {
        "id": "wHnyqhrSQTuA"
      },
      "execution_count": 105,
      "outputs": []
    },
    {
      "cell_type": "code",
      "source": [
        "df.withColumn('Outlet_Type',split('Outlet_Type',' ')).show()"
      ],
      "metadata": {
        "colab": {
          "base_uri": "https://localhost:8080/"
        },
        "id": "ReUDMv_CQUs3",
        "outputId": "baf901da-fe1a-4bca-8d1b-95d9ba56de2f"
      },
      "execution_count": 107,
      "outputs": [
        {
          "output_type": "stream",
          "name": "stdout",
          "text": [
            "+---------------+-----------+----------------+---------------+--------------------+--------+-----------------+-------------------------+-----------+--------------------+--------------------+-----------------+----+----------+----------+-----------+--------+\n",
            "|Item_Identifier|Item_Weight|Item_Fat_Content|Item_Visibility|           Item_Type|Item_MRP|Outlet_Identifier|Outlet_Establishment_Year|Outlet_Size|Outlet_Location_Type|         Outlet_Type|Item_Outlet_Sales|flag| curr_date|week_after|week_before|datediff|\n",
            "+---------------+-----------+----------------+---------------+--------------------+--------+-----------------+-------------------------+-----------+--------------------+--------------------+-----------------+----+----------+----------+-----------+--------+\n",
            "|          FDA15|        9.3|              Lf|    0.016047301|               Dairy|249.8092|           OUT049|                     1999|     Medium|              Tier 1|[Supermarket, Type1]|         3735.138| new|2025-03-10|2025-03-17| 03-03-2025|       7|\n",
            "|          DRC01|       5.92|             Reg|    0.019278216|         Soft Drinks| 48.2692|           OUT018|                     2009|     Medium|              Tier 3|[Supermarket, Type2]|         443.4228| new|2025-03-10|2025-03-17| 03-03-2025|       7|\n",
            "|          FDN15|       17.5|              Lf|    0.016760075|                Meat| 141.618|           OUT049|                     1999|     Medium|              Tier 1|[Supermarket, Type1]|          2097.27| new|2025-03-10|2025-03-17| 03-03-2025|       7|\n",
            "|          FDX07|       19.2|             Reg|            0.0|Fruits and Vegeta...| 182.095|           OUT010|                     1998|       NULL|              Tier 3|    [Grocery, Store]|           732.38| new|2025-03-10|2025-03-17| 03-03-2025|       7|\n",
            "|          NCD19|       8.93|              Lf|            0.0|           Household| 53.8614|           OUT013|                     1987|       High|              Tier 3|[Supermarket, Type1]|         994.7052| new|2025-03-10|2025-03-17| 03-03-2025|       7|\n",
            "|          FDP36|     10.395|             Reg|            0.0|        Baking Goods| 51.4008|           OUT018|                     2009|     Medium|              Tier 3|[Supermarket, Type2]|         556.6088| new|2025-03-10|2025-03-17| 03-03-2025|       7|\n",
            "|          FDO10|      13.65|             Reg|    0.012741089|         Snack Foods| 57.6588|           OUT013|                     1987|       High|              Tier 3|[Supermarket, Type1]|         343.5528| new|2025-03-10|2025-03-17| 03-03-2025|       7|\n",
            "|          FDP10|       NULL|              Lf|    0.127469857|         Snack Foods|107.7622|           OUT027|                     1985|     Medium|              Tier 3|[Supermarket, Type3]|        4022.7636| new|2025-03-10|2025-03-17| 03-03-2025|       7|\n",
            "|          FDH17|       16.2|             Reg|    0.016687114|        Frozen Foods| 96.9726|           OUT045|                     2002|       NULL|              Tier 2|[Supermarket, Type1]|        1076.5986| new|2025-03-10|2025-03-17| 03-03-2025|       7|\n",
            "|          FDU28|       19.2|             Reg|     0.09444959|        Frozen Foods|187.8214|           OUT017|                     2007|       NULL|              Tier 2|[Supermarket, Type1]|         4710.535| new|2025-03-10|2025-03-17| 03-03-2025|       7|\n",
            "|          FDY07|       11.8|              Lf|            0.0|Fruits and Vegeta...| 45.5402|           OUT049|                     1999|     Medium|              Tier 1|[Supermarket, Type1]|        1516.0266| new|2025-03-10|2025-03-17| 03-03-2025|       7|\n",
            "|          FDA03|       18.5|             Reg|    0.045463773|               Dairy|144.1102|           OUT046|                     1997|      Small|              Tier 1|[Supermarket, Type1]|         2187.153| new|2025-03-10|2025-03-17| 03-03-2025|       7|\n",
            "|          FDX32|       15.1|             Reg|      0.1000135|Fruits and Vegeta...|145.4786|           OUT049|                     1999|     Medium|              Tier 1|[Supermarket, Type1]|        1589.2646| new|2025-03-10|2025-03-17| 03-03-2025|       7|\n",
            "|          FDS46|       17.6|             Reg|    0.047257328|         Snack Foods|119.6782|           OUT046|                     1997|      Small|              Tier 1|[Supermarket, Type1]|        2145.2076| new|2025-03-10|2025-03-17| 03-03-2025|       7|\n",
            "|          FDF32|      16.35|              Lf|      0.0680243|Fruits and Vegeta...|196.4426|           OUT013|                     1987|       High|              Tier 3|[Supermarket, Type1]|         1977.426| new|2025-03-10|2025-03-17| 03-03-2025|       7|\n",
            "|          FDP49|          9|             Reg|    0.069088961|           Breakfast| 56.3614|           OUT046|                     1997|      Small|              Tier 1|[Supermarket, Type1]|        1547.3192| new|2025-03-10|2025-03-17| 03-03-2025|       7|\n",
            "|          NCB42|       11.8|              Lf|    0.008596051|  Health and Hygiene|115.3492|           OUT018|                     2009|     Medium|              Tier 3|[Supermarket, Type2]|        1621.8888| new|2025-03-10|2025-03-17| 03-03-2025|       7|\n",
            "|          FDP49|          9|             Reg|    0.069196376|           Breakfast| 54.3614|           OUT049|                     1999|     Medium|              Tier 1|[Supermarket, Type1]|         718.3982| new|2025-03-10|2025-03-17| 03-03-2025|       7|\n",
            "|          DRI11|       NULL|              Lf|    0.034237682|         Hard Drinks|113.2834|           OUT027|                     1985|     Medium|              Tier 3|[Supermarket, Type3]|         2303.668| new|2025-03-10|2025-03-17| 03-03-2025|       7|\n",
            "|          FDU02|      13.35|              Lf|     0.10249212|               Dairy|230.5352|           OUT035|                     2004|      Small|              Tier 2|[Supermarket, Type1]|        2748.4224| new|2025-03-10|2025-03-17| 03-03-2025|       7|\n",
            "+---------------+-----------+----------------+---------------+--------------------+--------+-----------------+-------------------------+-----------+--------------------+--------------------+-----------------+----+----------+----------+-----------+--------+\n",
            "only showing top 20 rows\n",
            "\n"
          ]
        }
      ]
    },
    {
      "cell_type": "code",
      "source": [
        "#### Indexing"
      ],
      "metadata": {
        "id": "TWG841fqQVxR"
      },
      "execution_count": 108,
      "outputs": []
    },
    {
      "cell_type": "code",
      "source": [
        "df.withColumn('Outlet_Type',split('Outlet_Type',' ')[1]).show()"
      ],
      "metadata": {
        "colab": {
          "base_uri": "https://localhost:8080/"
        },
        "id": "3vtJc_aHQZZ1",
        "outputId": "3752688d-6354-4db5-8a7f-4f4ba525ded8"
      },
      "execution_count": 109,
      "outputs": [
        {
          "output_type": "stream",
          "name": "stdout",
          "text": [
            "+---------------+-----------+----------------+---------------+--------------------+--------+-----------------+-------------------------+-----------+--------------------+-----------+-----------------+----+----------+----------+-----------+--------+\n",
            "|Item_Identifier|Item_Weight|Item_Fat_Content|Item_Visibility|           Item_Type|Item_MRP|Outlet_Identifier|Outlet_Establishment_Year|Outlet_Size|Outlet_Location_Type|Outlet_Type|Item_Outlet_Sales|flag| curr_date|week_after|week_before|datediff|\n",
            "+---------------+-----------+----------------+---------------+--------------------+--------+-----------------+-------------------------+-----------+--------------------+-----------+-----------------+----+----------+----------+-----------+--------+\n",
            "|          FDA15|        9.3|              Lf|    0.016047301|               Dairy|249.8092|           OUT049|                     1999|     Medium|              Tier 1|      Type1|         3735.138| new|2025-03-10|2025-03-17| 03-03-2025|       7|\n",
            "|          DRC01|       5.92|             Reg|    0.019278216|         Soft Drinks| 48.2692|           OUT018|                     2009|     Medium|              Tier 3|      Type2|         443.4228| new|2025-03-10|2025-03-17| 03-03-2025|       7|\n",
            "|          FDN15|       17.5|              Lf|    0.016760075|                Meat| 141.618|           OUT049|                     1999|     Medium|              Tier 1|      Type1|          2097.27| new|2025-03-10|2025-03-17| 03-03-2025|       7|\n",
            "|          FDX07|       19.2|             Reg|            0.0|Fruits and Vegeta...| 182.095|           OUT010|                     1998|       NULL|              Tier 3|      Store|           732.38| new|2025-03-10|2025-03-17| 03-03-2025|       7|\n",
            "|          NCD19|       8.93|              Lf|            0.0|           Household| 53.8614|           OUT013|                     1987|       High|              Tier 3|      Type1|         994.7052| new|2025-03-10|2025-03-17| 03-03-2025|       7|\n",
            "|          FDP36|     10.395|             Reg|            0.0|        Baking Goods| 51.4008|           OUT018|                     2009|     Medium|              Tier 3|      Type2|         556.6088| new|2025-03-10|2025-03-17| 03-03-2025|       7|\n",
            "|          FDO10|      13.65|             Reg|    0.012741089|         Snack Foods| 57.6588|           OUT013|                     1987|       High|              Tier 3|      Type1|         343.5528| new|2025-03-10|2025-03-17| 03-03-2025|       7|\n",
            "|          FDP10|       NULL|              Lf|    0.127469857|         Snack Foods|107.7622|           OUT027|                     1985|     Medium|              Tier 3|      Type3|        4022.7636| new|2025-03-10|2025-03-17| 03-03-2025|       7|\n",
            "|          FDH17|       16.2|             Reg|    0.016687114|        Frozen Foods| 96.9726|           OUT045|                     2002|       NULL|              Tier 2|      Type1|        1076.5986| new|2025-03-10|2025-03-17| 03-03-2025|       7|\n",
            "|          FDU28|       19.2|             Reg|     0.09444959|        Frozen Foods|187.8214|           OUT017|                     2007|       NULL|              Tier 2|      Type1|         4710.535| new|2025-03-10|2025-03-17| 03-03-2025|       7|\n",
            "|          FDY07|       11.8|              Lf|            0.0|Fruits and Vegeta...| 45.5402|           OUT049|                     1999|     Medium|              Tier 1|      Type1|        1516.0266| new|2025-03-10|2025-03-17| 03-03-2025|       7|\n",
            "|          FDA03|       18.5|             Reg|    0.045463773|               Dairy|144.1102|           OUT046|                     1997|      Small|              Tier 1|      Type1|         2187.153| new|2025-03-10|2025-03-17| 03-03-2025|       7|\n",
            "|          FDX32|       15.1|             Reg|      0.1000135|Fruits and Vegeta...|145.4786|           OUT049|                     1999|     Medium|              Tier 1|      Type1|        1589.2646| new|2025-03-10|2025-03-17| 03-03-2025|       7|\n",
            "|          FDS46|       17.6|             Reg|    0.047257328|         Snack Foods|119.6782|           OUT046|                     1997|      Small|              Tier 1|      Type1|        2145.2076| new|2025-03-10|2025-03-17| 03-03-2025|       7|\n",
            "|          FDF32|      16.35|              Lf|      0.0680243|Fruits and Vegeta...|196.4426|           OUT013|                     1987|       High|              Tier 3|      Type1|         1977.426| new|2025-03-10|2025-03-17| 03-03-2025|       7|\n",
            "|          FDP49|          9|             Reg|    0.069088961|           Breakfast| 56.3614|           OUT046|                     1997|      Small|              Tier 1|      Type1|        1547.3192| new|2025-03-10|2025-03-17| 03-03-2025|       7|\n",
            "|          NCB42|       11.8|              Lf|    0.008596051|  Health and Hygiene|115.3492|           OUT018|                     2009|     Medium|              Tier 3|      Type2|        1621.8888| new|2025-03-10|2025-03-17| 03-03-2025|       7|\n",
            "|          FDP49|          9|             Reg|    0.069196376|           Breakfast| 54.3614|           OUT049|                     1999|     Medium|              Tier 1|      Type1|         718.3982| new|2025-03-10|2025-03-17| 03-03-2025|       7|\n",
            "|          DRI11|       NULL|              Lf|    0.034237682|         Hard Drinks|113.2834|           OUT027|                     1985|     Medium|              Tier 3|      Type3|         2303.668| new|2025-03-10|2025-03-17| 03-03-2025|       7|\n",
            "|          FDU02|      13.35|              Lf|     0.10249212|               Dairy|230.5352|           OUT035|                     2004|      Small|              Tier 2|      Type1|        2748.4224| new|2025-03-10|2025-03-17| 03-03-2025|       7|\n",
            "+---------------+-----------+----------------+---------------+--------------------+--------+-----------------+-------------------------+-----------+--------------------+-----------+-----------------+----+----------+----------+-----------+--------+\n",
            "only showing top 20 rows\n",
            "\n"
          ]
        }
      ]
    },
    {
      "cell_type": "code",
      "source": [
        "### Explode"
      ],
      "metadata": {
        "id": "dr6bNNKqQbS-"
      },
      "execution_count": 110,
      "outputs": []
    },
    {
      "cell_type": "code",
      "source": [
        "df_exp = df.withColumn('Outlet_Type',split('Outlet_Type',' '))\n",
        "\n",
        "df_exp.show()"
      ],
      "metadata": {
        "colab": {
          "base_uri": "https://localhost:8080/"
        },
        "id": "NV6_u4vQQc70",
        "outputId": "4e98769f-70b7-4a20-d484-8013491d01cd"
      },
      "execution_count": 111,
      "outputs": [
        {
          "output_type": "stream",
          "name": "stdout",
          "text": [
            "+---------------+-----------+----------------+---------------+--------------------+--------+-----------------+-------------------------+-----------+--------------------+--------------------+-----------------+----+----------+----------+-----------+--------+\n",
            "|Item_Identifier|Item_Weight|Item_Fat_Content|Item_Visibility|           Item_Type|Item_MRP|Outlet_Identifier|Outlet_Establishment_Year|Outlet_Size|Outlet_Location_Type|         Outlet_Type|Item_Outlet_Sales|flag| curr_date|week_after|week_before|datediff|\n",
            "+---------------+-----------+----------------+---------------+--------------------+--------+-----------------+-------------------------+-----------+--------------------+--------------------+-----------------+----+----------+----------+-----------+--------+\n",
            "|          FDA15|        9.3|              Lf|    0.016047301|               Dairy|249.8092|           OUT049|                     1999|     Medium|              Tier 1|[Supermarket, Type1]|         3735.138| new|2025-03-10|2025-03-17| 03-03-2025|       7|\n",
            "|          DRC01|       5.92|             Reg|    0.019278216|         Soft Drinks| 48.2692|           OUT018|                     2009|     Medium|              Tier 3|[Supermarket, Type2]|         443.4228| new|2025-03-10|2025-03-17| 03-03-2025|       7|\n",
            "|          FDN15|       17.5|              Lf|    0.016760075|                Meat| 141.618|           OUT049|                     1999|     Medium|              Tier 1|[Supermarket, Type1]|          2097.27| new|2025-03-10|2025-03-17| 03-03-2025|       7|\n",
            "|          FDX07|       19.2|             Reg|            0.0|Fruits and Vegeta...| 182.095|           OUT010|                     1998|       NULL|              Tier 3|    [Grocery, Store]|           732.38| new|2025-03-10|2025-03-17| 03-03-2025|       7|\n",
            "|          NCD19|       8.93|              Lf|            0.0|           Household| 53.8614|           OUT013|                     1987|       High|              Tier 3|[Supermarket, Type1]|         994.7052| new|2025-03-10|2025-03-17| 03-03-2025|       7|\n",
            "|          FDP36|     10.395|             Reg|            0.0|        Baking Goods| 51.4008|           OUT018|                     2009|     Medium|              Tier 3|[Supermarket, Type2]|         556.6088| new|2025-03-10|2025-03-17| 03-03-2025|       7|\n",
            "|          FDO10|      13.65|             Reg|    0.012741089|         Snack Foods| 57.6588|           OUT013|                     1987|       High|              Tier 3|[Supermarket, Type1]|         343.5528| new|2025-03-10|2025-03-17| 03-03-2025|       7|\n",
            "|          FDP10|       NULL|              Lf|    0.127469857|         Snack Foods|107.7622|           OUT027|                     1985|     Medium|              Tier 3|[Supermarket, Type3]|        4022.7636| new|2025-03-10|2025-03-17| 03-03-2025|       7|\n",
            "|          FDH17|       16.2|             Reg|    0.016687114|        Frozen Foods| 96.9726|           OUT045|                     2002|       NULL|              Tier 2|[Supermarket, Type1]|        1076.5986| new|2025-03-10|2025-03-17| 03-03-2025|       7|\n",
            "|          FDU28|       19.2|             Reg|     0.09444959|        Frozen Foods|187.8214|           OUT017|                     2007|       NULL|              Tier 2|[Supermarket, Type1]|         4710.535| new|2025-03-10|2025-03-17| 03-03-2025|       7|\n",
            "|          FDY07|       11.8|              Lf|            0.0|Fruits and Vegeta...| 45.5402|           OUT049|                     1999|     Medium|              Tier 1|[Supermarket, Type1]|        1516.0266| new|2025-03-10|2025-03-17| 03-03-2025|       7|\n",
            "|          FDA03|       18.5|             Reg|    0.045463773|               Dairy|144.1102|           OUT046|                     1997|      Small|              Tier 1|[Supermarket, Type1]|         2187.153| new|2025-03-10|2025-03-17| 03-03-2025|       7|\n",
            "|          FDX32|       15.1|             Reg|      0.1000135|Fruits and Vegeta...|145.4786|           OUT049|                     1999|     Medium|              Tier 1|[Supermarket, Type1]|        1589.2646| new|2025-03-10|2025-03-17| 03-03-2025|       7|\n",
            "|          FDS46|       17.6|             Reg|    0.047257328|         Snack Foods|119.6782|           OUT046|                     1997|      Small|              Tier 1|[Supermarket, Type1]|        2145.2076| new|2025-03-10|2025-03-17| 03-03-2025|       7|\n",
            "|          FDF32|      16.35|              Lf|      0.0680243|Fruits and Vegeta...|196.4426|           OUT013|                     1987|       High|              Tier 3|[Supermarket, Type1]|         1977.426| new|2025-03-10|2025-03-17| 03-03-2025|       7|\n",
            "|          FDP49|          9|             Reg|    0.069088961|           Breakfast| 56.3614|           OUT046|                     1997|      Small|              Tier 1|[Supermarket, Type1]|        1547.3192| new|2025-03-10|2025-03-17| 03-03-2025|       7|\n",
            "|          NCB42|       11.8|              Lf|    0.008596051|  Health and Hygiene|115.3492|           OUT018|                     2009|     Medium|              Tier 3|[Supermarket, Type2]|        1621.8888| new|2025-03-10|2025-03-17| 03-03-2025|       7|\n",
            "|          FDP49|          9|             Reg|    0.069196376|           Breakfast| 54.3614|           OUT049|                     1999|     Medium|              Tier 1|[Supermarket, Type1]|         718.3982| new|2025-03-10|2025-03-17| 03-03-2025|       7|\n",
            "|          DRI11|       NULL|              Lf|    0.034237682|         Hard Drinks|113.2834|           OUT027|                     1985|     Medium|              Tier 3|[Supermarket, Type3]|         2303.668| new|2025-03-10|2025-03-17| 03-03-2025|       7|\n",
            "|          FDU02|      13.35|              Lf|     0.10249212|               Dairy|230.5352|           OUT035|                     2004|      Small|              Tier 2|[Supermarket, Type1]|        2748.4224| new|2025-03-10|2025-03-17| 03-03-2025|       7|\n",
            "+---------------+-----------+----------------+---------------+--------------------+--------+-----------------+-------------------------+-----------+--------------------+--------------------+-----------------+----+----------+----------+-----------+--------+\n",
            "only showing top 20 rows\n",
            "\n"
          ]
        }
      ]
    },
    {
      "cell_type": "code",
      "source": [
        "df_exp.withColumn('Outlet_Type',explode('Outlet_Type')).show()"
      ],
      "metadata": {
        "colab": {
          "base_uri": "https://localhost:8080/"
        },
        "id": "2j3-sfiAQevj",
        "outputId": "d1a81f4b-1d68-45ab-fbb6-ad6f4bdb4b45"
      },
      "execution_count": 112,
      "outputs": [
        {
          "output_type": "stream",
          "name": "stdout",
          "text": [
            "+---------------+-----------+----------------+---------------+--------------------+--------+-----------------+-------------------------+-----------+--------------------+-----------+-----------------+----+----------+----------+-----------+--------+\n",
            "|Item_Identifier|Item_Weight|Item_Fat_Content|Item_Visibility|           Item_Type|Item_MRP|Outlet_Identifier|Outlet_Establishment_Year|Outlet_Size|Outlet_Location_Type|Outlet_Type|Item_Outlet_Sales|flag| curr_date|week_after|week_before|datediff|\n",
            "+---------------+-----------+----------------+---------------+--------------------+--------+-----------------+-------------------------+-----------+--------------------+-----------+-----------------+----+----------+----------+-----------+--------+\n",
            "|          FDA15|        9.3|              Lf|    0.016047301|               Dairy|249.8092|           OUT049|                     1999|     Medium|              Tier 1|Supermarket|         3735.138| new|2025-03-10|2025-03-17| 03-03-2025|       7|\n",
            "|          FDA15|        9.3|              Lf|    0.016047301|               Dairy|249.8092|           OUT049|                     1999|     Medium|              Tier 1|      Type1|         3735.138| new|2025-03-10|2025-03-17| 03-03-2025|       7|\n",
            "|          DRC01|       5.92|             Reg|    0.019278216|         Soft Drinks| 48.2692|           OUT018|                     2009|     Medium|              Tier 3|Supermarket|         443.4228| new|2025-03-10|2025-03-17| 03-03-2025|       7|\n",
            "|          DRC01|       5.92|             Reg|    0.019278216|         Soft Drinks| 48.2692|           OUT018|                     2009|     Medium|              Tier 3|      Type2|         443.4228| new|2025-03-10|2025-03-17| 03-03-2025|       7|\n",
            "|          FDN15|       17.5|              Lf|    0.016760075|                Meat| 141.618|           OUT049|                     1999|     Medium|              Tier 1|Supermarket|          2097.27| new|2025-03-10|2025-03-17| 03-03-2025|       7|\n",
            "|          FDN15|       17.5|              Lf|    0.016760075|                Meat| 141.618|           OUT049|                     1999|     Medium|              Tier 1|      Type1|          2097.27| new|2025-03-10|2025-03-17| 03-03-2025|       7|\n",
            "|          FDX07|       19.2|             Reg|            0.0|Fruits and Vegeta...| 182.095|           OUT010|                     1998|       NULL|              Tier 3|    Grocery|           732.38| new|2025-03-10|2025-03-17| 03-03-2025|       7|\n",
            "|          FDX07|       19.2|             Reg|            0.0|Fruits and Vegeta...| 182.095|           OUT010|                     1998|       NULL|              Tier 3|      Store|           732.38| new|2025-03-10|2025-03-17| 03-03-2025|       7|\n",
            "|          NCD19|       8.93|              Lf|            0.0|           Household| 53.8614|           OUT013|                     1987|       High|              Tier 3|Supermarket|         994.7052| new|2025-03-10|2025-03-17| 03-03-2025|       7|\n",
            "|          NCD19|       8.93|              Lf|            0.0|           Household| 53.8614|           OUT013|                     1987|       High|              Tier 3|      Type1|         994.7052| new|2025-03-10|2025-03-17| 03-03-2025|       7|\n",
            "|          FDP36|     10.395|             Reg|            0.0|        Baking Goods| 51.4008|           OUT018|                     2009|     Medium|              Tier 3|Supermarket|         556.6088| new|2025-03-10|2025-03-17| 03-03-2025|       7|\n",
            "|          FDP36|     10.395|             Reg|            0.0|        Baking Goods| 51.4008|           OUT018|                     2009|     Medium|              Tier 3|      Type2|         556.6088| new|2025-03-10|2025-03-17| 03-03-2025|       7|\n",
            "|          FDO10|      13.65|             Reg|    0.012741089|         Snack Foods| 57.6588|           OUT013|                     1987|       High|              Tier 3|Supermarket|         343.5528| new|2025-03-10|2025-03-17| 03-03-2025|       7|\n",
            "|          FDO10|      13.65|             Reg|    0.012741089|         Snack Foods| 57.6588|           OUT013|                     1987|       High|              Tier 3|      Type1|         343.5528| new|2025-03-10|2025-03-17| 03-03-2025|       7|\n",
            "|          FDP10|       NULL|              Lf|    0.127469857|         Snack Foods|107.7622|           OUT027|                     1985|     Medium|              Tier 3|Supermarket|        4022.7636| new|2025-03-10|2025-03-17| 03-03-2025|       7|\n",
            "|          FDP10|       NULL|              Lf|    0.127469857|         Snack Foods|107.7622|           OUT027|                     1985|     Medium|              Tier 3|      Type3|        4022.7636| new|2025-03-10|2025-03-17| 03-03-2025|       7|\n",
            "|          FDH17|       16.2|             Reg|    0.016687114|        Frozen Foods| 96.9726|           OUT045|                     2002|       NULL|              Tier 2|Supermarket|        1076.5986| new|2025-03-10|2025-03-17| 03-03-2025|       7|\n",
            "|          FDH17|       16.2|             Reg|    0.016687114|        Frozen Foods| 96.9726|           OUT045|                     2002|       NULL|              Tier 2|      Type1|        1076.5986| new|2025-03-10|2025-03-17| 03-03-2025|       7|\n",
            "|          FDU28|       19.2|             Reg|     0.09444959|        Frozen Foods|187.8214|           OUT017|                     2007|       NULL|              Tier 2|Supermarket|         4710.535| new|2025-03-10|2025-03-17| 03-03-2025|       7|\n",
            "|          FDU28|       19.2|             Reg|     0.09444959|        Frozen Foods|187.8214|           OUT017|                     2007|       NULL|              Tier 2|      Type1|         4710.535| new|2025-03-10|2025-03-17| 03-03-2025|       7|\n",
            "+---------------+-----------+----------------+---------------+--------------------+--------+-----------------+-------------------------+-----------+--------------------+-----------+-----------------+----+----------+----------+-----------+--------+\n",
            "only showing top 20 rows\n",
            "\n"
          ]
        }
      ]
    },
    {
      "cell_type": "code",
      "source": [
        "df_exp.show()"
      ],
      "metadata": {
        "colab": {
          "base_uri": "https://localhost:8080/"
        },
        "id": "VEPnTz43QhgD",
        "outputId": "5669cecd-6b80-48eb-c228-d8d10f7e2620"
      },
      "execution_count": 113,
      "outputs": [
        {
          "output_type": "stream",
          "name": "stdout",
          "text": [
            "+---------------+-----------+----------------+---------------+--------------------+--------+-----------------+-------------------------+-----------+--------------------+--------------------+-----------------+----+----------+----------+-----------+--------+\n",
            "|Item_Identifier|Item_Weight|Item_Fat_Content|Item_Visibility|           Item_Type|Item_MRP|Outlet_Identifier|Outlet_Establishment_Year|Outlet_Size|Outlet_Location_Type|         Outlet_Type|Item_Outlet_Sales|flag| curr_date|week_after|week_before|datediff|\n",
            "+---------------+-----------+----------------+---------------+--------------------+--------+-----------------+-------------------------+-----------+--------------------+--------------------+-----------------+----+----------+----------+-----------+--------+\n",
            "|          FDA15|        9.3|              Lf|    0.016047301|               Dairy|249.8092|           OUT049|                     1999|     Medium|              Tier 1|[Supermarket, Type1]|         3735.138| new|2025-03-10|2025-03-17| 03-03-2025|       7|\n",
            "|          DRC01|       5.92|             Reg|    0.019278216|         Soft Drinks| 48.2692|           OUT018|                     2009|     Medium|              Tier 3|[Supermarket, Type2]|         443.4228| new|2025-03-10|2025-03-17| 03-03-2025|       7|\n",
            "|          FDN15|       17.5|              Lf|    0.016760075|                Meat| 141.618|           OUT049|                     1999|     Medium|              Tier 1|[Supermarket, Type1]|          2097.27| new|2025-03-10|2025-03-17| 03-03-2025|       7|\n",
            "|          FDX07|       19.2|             Reg|            0.0|Fruits and Vegeta...| 182.095|           OUT010|                     1998|       NULL|              Tier 3|    [Grocery, Store]|           732.38| new|2025-03-10|2025-03-17| 03-03-2025|       7|\n",
            "|          NCD19|       8.93|              Lf|            0.0|           Household| 53.8614|           OUT013|                     1987|       High|              Tier 3|[Supermarket, Type1]|         994.7052| new|2025-03-10|2025-03-17| 03-03-2025|       7|\n",
            "|          FDP36|     10.395|             Reg|            0.0|        Baking Goods| 51.4008|           OUT018|                     2009|     Medium|              Tier 3|[Supermarket, Type2]|         556.6088| new|2025-03-10|2025-03-17| 03-03-2025|       7|\n",
            "|          FDO10|      13.65|             Reg|    0.012741089|         Snack Foods| 57.6588|           OUT013|                     1987|       High|              Tier 3|[Supermarket, Type1]|         343.5528| new|2025-03-10|2025-03-17| 03-03-2025|       7|\n",
            "|          FDP10|       NULL|              Lf|    0.127469857|         Snack Foods|107.7622|           OUT027|                     1985|     Medium|              Tier 3|[Supermarket, Type3]|        4022.7636| new|2025-03-10|2025-03-17| 03-03-2025|       7|\n",
            "|          FDH17|       16.2|             Reg|    0.016687114|        Frozen Foods| 96.9726|           OUT045|                     2002|       NULL|              Tier 2|[Supermarket, Type1]|        1076.5986| new|2025-03-10|2025-03-17| 03-03-2025|       7|\n",
            "|          FDU28|       19.2|             Reg|     0.09444959|        Frozen Foods|187.8214|           OUT017|                     2007|       NULL|              Tier 2|[Supermarket, Type1]|         4710.535| new|2025-03-10|2025-03-17| 03-03-2025|       7|\n",
            "|          FDY07|       11.8|              Lf|            0.0|Fruits and Vegeta...| 45.5402|           OUT049|                     1999|     Medium|              Tier 1|[Supermarket, Type1]|        1516.0266| new|2025-03-10|2025-03-17| 03-03-2025|       7|\n",
            "|          FDA03|       18.5|             Reg|    0.045463773|               Dairy|144.1102|           OUT046|                     1997|      Small|              Tier 1|[Supermarket, Type1]|         2187.153| new|2025-03-10|2025-03-17| 03-03-2025|       7|\n",
            "|          FDX32|       15.1|             Reg|      0.1000135|Fruits and Vegeta...|145.4786|           OUT049|                     1999|     Medium|              Tier 1|[Supermarket, Type1]|        1589.2646| new|2025-03-10|2025-03-17| 03-03-2025|       7|\n",
            "|          FDS46|       17.6|             Reg|    0.047257328|         Snack Foods|119.6782|           OUT046|                     1997|      Small|              Tier 1|[Supermarket, Type1]|        2145.2076| new|2025-03-10|2025-03-17| 03-03-2025|       7|\n",
            "|          FDF32|      16.35|              Lf|      0.0680243|Fruits and Vegeta...|196.4426|           OUT013|                     1987|       High|              Tier 3|[Supermarket, Type1]|         1977.426| new|2025-03-10|2025-03-17| 03-03-2025|       7|\n",
            "|          FDP49|          9|             Reg|    0.069088961|           Breakfast| 56.3614|           OUT046|                     1997|      Small|              Tier 1|[Supermarket, Type1]|        1547.3192| new|2025-03-10|2025-03-17| 03-03-2025|       7|\n",
            "|          NCB42|       11.8|              Lf|    0.008596051|  Health and Hygiene|115.3492|           OUT018|                     2009|     Medium|              Tier 3|[Supermarket, Type2]|        1621.8888| new|2025-03-10|2025-03-17| 03-03-2025|       7|\n",
            "|          FDP49|          9|             Reg|    0.069196376|           Breakfast| 54.3614|           OUT049|                     1999|     Medium|              Tier 1|[Supermarket, Type1]|         718.3982| new|2025-03-10|2025-03-17| 03-03-2025|       7|\n",
            "|          DRI11|       NULL|              Lf|    0.034237682|         Hard Drinks|113.2834|           OUT027|                     1985|     Medium|              Tier 3|[Supermarket, Type3]|         2303.668| new|2025-03-10|2025-03-17| 03-03-2025|       7|\n",
            "|          FDU02|      13.35|              Lf|     0.10249212|               Dairy|230.5352|           OUT035|                     2004|      Small|              Tier 2|[Supermarket, Type1]|        2748.4224| new|2025-03-10|2025-03-17| 03-03-2025|       7|\n",
            "+---------------+-----------+----------------+---------------+--------------------+--------+-----------------+-------------------------+-----------+--------------------+--------------------+-----------------+----+----------+----------+-----------+--------+\n",
            "only showing top 20 rows\n",
            "\n"
          ]
        }
      ]
    },
    {
      "cell_type": "code",
      "source": [
        "### GroupBY"
      ],
      "metadata": {
        "id": "7rqC-fRvQjxB"
      },
      "execution_count": 114,
      "outputs": []
    },
    {
      "cell_type": "code",
      "source": [
        "#### Scenario - 1"
      ],
      "metadata": {
        "id": "pB7QxfAJQlWH"
      },
      "execution_count": 115,
      "outputs": []
    },
    {
      "cell_type": "code",
      "source": [
        "df.show()"
      ],
      "metadata": {
        "colab": {
          "base_uri": "https://localhost:8080/"
        },
        "id": "-TIrWQH4QmgB",
        "outputId": "0ee64ed7-c5a4-43dc-a061-1bf87e12fed9"
      },
      "execution_count": 116,
      "outputs": [
        {
          "output_type": "stream",
          "name": "stdout",
          "text": [
            "+---------------+-----------+----------------+---------------+--------------------+--------+-----------------+-------------------------+-----------+--------------------+-----------------+-----------------+----+----------+----------+-----------+--------+\n",
            "|Item_Identifier|Item_Weight|Item_Fat_Content|Item_Visibility|           Item_Type|Item_MRP|Outlet_Identifier|Outlet_Establishment_Year|Outlet_Size|Outlet_Location_Type|      Outlet_Type|Item_Outlet_Sales|flag| curr_date|week_after|week_before|datediff|\n",
            "+---------------+-----------+----------------+---------------+--------------------+--------+-----------------+-------------------------+-----------+--------------------+-----------------+-----------------+----+----------+----------+-----------+--------+\n",
            "|          FDA15|        9.3|              Lf|    0.016047301|               Dairy|249.8092|           OUT049|                     1999|     Medium|              Tier 1|Supermarket Type1|         3735.138| new|2025-03-10|2025-03-17| 03-03-2025|       7|\n",
            "|          DRC01|       5.92|             Reg|    0.019278216|         Soft Drinks| 48.2692|           OUT018|                     2009|     Medium|              Tier 3|Supermarket Type2|         443.4228| new|2025-03-10|2025-03-17| 03-03-2025|       7|\n",
            "|          FDN15|       17.5|              Lf|    0.016760075|                Meat| 141.618|           OUT049|                     1999|     Medium|              Tier 1|Supermarket Type1|          2097.27| new|2025-03-10|2025-03-17| 03-03-2025|       7|\n",
            "|          FDX07|       19.2|             Reg|            0.0|Fruits and Vegeta...| 182.095|           OUT010|                     1998|       NULL|              Tier 3|    Grocery Store|           732.38| new|2025-03-10|2025-03-17| 03-03-2025|       7|\n",
            "|          NCD19|       8.93|              Lf|            0.0|           Household| 53.8614|           OUT013|                     1987|       High|              Tier 3|Supermarket Type1|         994.7052| new|2025-03-10|2025-03-17| 03-03-2025|       7|\n",
            "|          FDP36|     10.395|             Reg|            0.0|        Baking Goods| 51.4008|           OUT018|                     2009|     Medium|              Tier 3|Supermarket Type2|         556.6088| new|2025-03-10|2025-03-17| 03-03-2025|       7|\n",
            "|          FDO10|      13.65|             Reg|    0.012741089|         Snack Foods| 57.6588|           OUT013|                     1987|       High|              Tier 3|Supermarket Type1|         343.5528| new|2025-03-10|2025-03-17| 03-03-2025|       7|\n",
            "|          FDP10|       NULL|              Lf|    0.127469857|         Snack Foods|107.7622|           OUT027|                     1985|     Medium|              Tier 3|Supermarket Type3|        4022.7636| new|2025-03-10|2025-03-17| 03-03-2025|       7|\n",
            "|          FDH17|       16.2|             Reg|    0.016687114|        Frozen Foods| 96.9726|           OUT045|                     2002|       NULL|              Tier 2|Supermarket Type1|        1076.5986| new|2025-03-10|2025-03-17| 03-03-2025|       7|\n",
            "|          FDU28|       19.2|             Reg|     0.09444959|        Frozen Foods|187.8214|           OUT017|                     2007|       NULL|              Tier 2|Supermarket Type1|         4710.535| new|2025-03-10|2025-03-17| 03-03-2025|       7|\n",
            "|          FDY07|       11.8|              Lf|            0.0|Fruits and Vegeta...| 45.5402|           OUT049|                     1999|     Medium|              Tier 1|Supermarket Type1|        1516.0266| new|2025-03-10|2025-03-17| 03-03-2025|       7|\n",
            "|          FDA03|       18.5|             Reg|    0.045463773|               Dairy|144.1102|           OUT046|                     1997|      Small|              Tier 1|Supermarket Type1|         2187.153| new|2025-03-10|2025-03-17| 03-03-2025|       7|\n",
            "|          FDX32|       15.1|             Reg|      0.1000135|Fruits and Vegeta...|145.4786|           OUT049|                     1999|     Medium|              Tier 1|Supermarket Type1|        1589.2646| new|2025-03-10|2025-03-17| 03-03-2025|       7|\n",
            "|          FDS46|       17.6|             Reg|    0.047257328|         Snack Foods|119.6782|           OUT046|                     1997|      Small|              Tier 1|Supermarket Type1|        2145.2076| new|2025-03-10|2025-03-17| 03-03-2025|       7|\n",
            "|          FDF32|      16.35|              Lf|      0.0680243|Fruits and Vegeta...|196.4426|           OUT013|                     1987|       High|              Tier 3|Supermarket Type1|         1977.426| new|2025-03-10|2025-03-17| 03-03-2025|       7|\n",
            "|          FDP49|          9|             Reg|    0.069088961|           Breakfast| 56.3614|           OUT046|                     1997|      Small|              Tier 1|Supermarket Type1|        1547.3192| new|2025-03-10|2025-03-17| 03-03-2025|       7|\n",
            "|          NCB42|       11.8|              Lf|    0.008596051|  Health and Hygiene|115.3492|           OUT018|                     2009|     Medium|              Tier 3|Supermarket Type2|        1621.8888| new|2025-03-10|2025-03-17| 03-03-2025|       7|\n",
            "|          FDP49|          9|             Reg|    0.069196376|           Breakfast| 54.3614|           OUT049|                     1999|     Medium|              Tier 1|Supermarket Type1|         718.3982| new|2025-03-10|2025-03-17| 03-03-2025|       7|\n",
            "|          DRI11|       NULL|              Lf|    0.034237682|         Hard Drinks|113.2834|           OUT027|                     1985|     Medium|              Tier 3|Supermarket Type3|         2303.668| new|2025-03-10|2025-03-17| 03-03-2025|       7|\n",
            "|          FDU02|      13.35|              Lf|     0.10249212|               Dairy|230.5352|           OUT035|                     2004|      Small|              Tier 2|Supermarket Type1|        2748.4224| new|2025-03-10|2025-03-17| 03-03-2025|       7|\n",
            "+---------------+-----------+----------------+---------------+--------------------+--------+-----------------+-------------------------+-----------+--------------------+-----------------+-----------------+----+----------+----------+-----------+--------+\n",
            "only showing top 20 rows\n",
            "\n"
          ]
        }
      ]
    },
    {
      "cell_type": "code",
      "source": [
        "df.groupBy('Item_Type').agg(sum('Item_MRP')).show()"
      ],
      "metadata": {
        "colab": {
          "base_uri": "https://localhost:8080/"
        },
        "id": "mCgjwzILQn6N",
        "outputId": "10af62f0-8dd7-4def-edea-18733f37979a"
      },
      "execution_count": 117,
      "outputs": [
        {
          "output_type": "stream",
          "name": "stdout",
          "text": [
            "+--------------------+------------------+\n",
            "|           Item_Type|     sum(Item_MRP)|\n",
            "+--------------------+------------------+\n",
            "|       Starchy Foods|21880.027399999995|\n",
            "|        Baking Goods| 81894.73640000001|\n",
            "|              Breads| 35379.11979999999|\n",
            "|Fruits and Vegeta...|178124.08099999998|\n",
            "|                Meat|59449.863799999956|\n",
            "|         Hard Drinks|29334.676599999995|\n",
            "|         Soft Drinks|58514.164999999964|\n",
            "|           Household|135976.52539999998|\n",
            "|           Breakfast|        15596.6966|\n",
            "|               Dairy|101276.45959999996|\n",
            "|         Snack Foods|175433.92040000003|\n",
            "|              Others|22451.891600000006|\n",
            "|             Seafood| 9077.870000000003|\n",
            "|              Canned|  90706.7269999999|\n",
            "|        Frozen Foods|118558.88140000001|\n",
            "|  Health and Hygiene|        68025.8388|\n",
            "+--------------------+------------------+\n",
            "\n"
          ]
        }
      ]
    },
    {
      "cell_type": "code",
      "source": [
        "#### Scenario - 2"
      ],
      "metadata": {
        "id": "qq3K8-P9QqRp"
      },
      "execution_count": 118,
      "outputs": []
    },
    {
      "cell_type": "code",
      "source": [
        "df.groupBy('Item_Type').agg(avg('Item_MRP')).show()"
      ],
      "metadata": {
        "colab": {
          "base_uri": "https://localhost:8080/"
        },
        "id": "-_1gSywCQsFz",
        "outputId": "9c546ae3-f91d-4606-9e1e-a7099c297ed8"
      },
      "execution_count": 119,
      "outputs": [
        {
          "output_type": "stream",
          "name": "stdout",
          "text": [
            "+--------------------+------------------+\n",
            "|           Item_Type|     avg(Item_MRP)|\n",
            "+--------------------+------------------+\n",
            "|       Starchy Foods|147.83802297297294|\n",
            "|        Baking Goods|126.38076604938273|\n",
            "|              Breads| 140.9526685258964|\n",
            "|Fruits and Vegeta...|144.58123457792206|\n",
            "|                Meat|139.88203247058814|\n",
            "|         Hard Drinks|137.07792803738315|\n",
            "|         Soft Drinks|131.49250561797746|\n",
            "|           Household|149.42475318681318|\n",
            "|           Breakfast|141.78815090909092|\n",
            "|               Dairy|148.49920762463336|\n",
            "|         Snack Foods|146.19493366666669|\n",
            "|              Others|132.85142958579885|\n",
            "|             Seafood|141.84171875000004|\n",
            "|              Canned|139.76383204930647|\n",
            "|        Frozen Foods|138.50336612149533|\n",
            "|  Health and Hygiene|130.81892076923077|\n",
            "+--------------------+------------------+\n",
            "\n"
          ]
        }
      ]
    },
    {
      "cell_type": "code",
      "source": [
        "#### SCenario - 3"
      ],
      "metadata": {
        "id": "ofmi3f-oQty5"
      },
      "execution_count": 120,
      "outputs": []
    },
    {
      "cell_type": "code",
      "source": [
        "df.groupBy('Item_Type','Outlet_Size').agg(sum('Item_MRP').alias('Total_MRP')).show()"
      ],
      "metadata": {
        "colab": {
          "base_uri": "https://localhost:8080/"
        },
        "id": "2OlEGwQhQvbQ",
        "outputId": "76b71b3c-0043-42c3-efd0-1d1c55700d0b"
      },
      "execution_count": 121,
      "outputs": [
        {
          "output_type": "stream",
          "name": "stdout",
          "text": [
            "+--------------------+-----------+------------------+\n",
            "|           Item_Type|Outlet_Size|         Total_MRP|\n",
            "+--------------------+-----------+------------------+\n",
            "|       Starchy Foods|     Medium| 7124.136199999997|\n",
            "|Fruits and Vegeta...|     Medium|59047.217200000014|\n",
            "|       Starchy Foods|       NULL|         6040.6402|\n",
            "|              Breads|       NULL|        10011.5004|\n",
            "|        Baking Goods|       NULL|23433.838799999994|\n",
            "|Fruits and Vegeta...|       NULL|49758.730999999985|\n",
            "|        Frozen Foods|       High|12588.291000000001|\n",
            "|         Soft Drinks|       High| 6456.165199999999|\n",
            "|           Breakfast|      Small|3917.0407999999998|\n",
            "|                Meat|     Medium| 20326.45059999999|\n",
            "|Fruits and Vegeta...|       High| 20671.34759999999|\n",
            "|                Meat|       High| 5627.036400000002|\n",
            "|        Baking Goods|       High| 9431.749199999998|\n",
            "|           Household|     Medium| 42688.57439999998|\n",
            "|                Meat|       NULL|16158.166000000005|\n",
            "|         Hard Drinks|       NULL| 8869.577199999998|\n",
            "|         Hard Drinks|      Small|         6487.9392|\n",
            "|         Soft Drinks|       NULL|17745.318000000003|\n",
            "|           Household|       NULL| 38567.78840000001|\n",
            "|               Dairy|       High|12280.733799999996|\n",
            "+--------------------+-----------+------------------+\n",
            "only showing top 20 rows\n",
            "\n"
          ]
        }
      ]
    },
    {
      "cell_type": "code",
      "source": [
        "#### Scenario - 4"
      ],
      "metadata": {
        "id": "Od6UIJfUQxEq"
      },
      "execution_count": 122,
      "outputs": []
    },
    {
      "cell_type": "code",
      "source": [
        "df.groupBy('Item_Type','Outlet_Size').agg(sum('Item_MRP'),avg('Item_MRP')).show()"
      ],
      "metadata": {
        "colab": {
          "base_uri": "https://localhost:8080/"
        },
        "id": "MFk8SUUKQyPU",
        "outputId": "4db43abc-6e8a-4bd6-f06e-c0923bbe8f15"
      },
      "execution_count": 123,
      "outputs": [
        {
          "output_type": "stream",
          "name": "stdout",
          "text": [
            "+--------------------+-----------+------------------+------------------+\n",
            "|           Item_Type|Outlet_Size|     sum(Item_MRP)|     avg(Item_MRP)|\n",
            "+--------------------+-----------+------------------+------------------+\n",
            "|       Starchy Foods|     Medium| 7124.136199999997| 148.4195041666666|\n",
            "|Fruits and Vegeta...|     Medium|59047.217200000014| 142.9714702179177|\n",
            "|       Starchy Foods|       NULL|         6040.6402|140.48000465116277|\n",
            "|              Breads|       NULL|        10011.5004|139.04861666666667|\n",
            "|        Baking Goods|       NULL|23433.838799999994|126.66939891891889|\n",
            "|Fruits and Vegeta...|       NULL|49758.730999999985|142.57516045845267|\n",
            "|        Frozen Foods|       High|12588.291000000001|         136.82925|\n",
            "|         Soft Drinks|       High| 6456.165199999999|131.75847346938772|\n",
            "|           Breakfast|      Small|3917.0407999999998|130.56802666666667|\n",
            "|                Meat|     Medium| 20326.45059999999|136.41913154362408|\n",
            "|Fruits and Vegeta...|       High| 20671.34759999999|145.57287042253515|\n",
            "|                Meat|       High| 5627.036400000002| 137.2447902439025|\n",
            "|        Baking Goods|       High| 9431.749199999998|129.20204383561642|\n",
            "|           Household|     Medium| 42688.57439999998|147.71133010380618|\n",
            "|                Meat|       NULL|16158.166000000005|139.29453448275865|\n",
            "|         Hard Drinks|       NULL| 8869.577199999998| 134.3875333333333|\n",
            "|         Hard Drinks|      Small|         6487.9392|        129.758784|\n",
            "|         Soft Drinks|       NULL|17745.318000000003|133.42344360902257|\n",
            "|           Household|       NULL| 38567.78840000001|147.76930421455944|\n",
            "|               Dairy|       High|12280.733799999996|153.50917249999995|\n",
            "+--------------------+-----------+------------------+------------------+\n",
            "only showing top 20 rows\n",
            "\n"
          ]
        }
      ]
    },
    {
      "cell_type": "code",
      "source": [
        "### Collect_List"
      ],
      "metadata": {
        "id": "703Sz32XQz-H"
      },
      "execution_count": 124,
      "outputs": []
    },
    {
      "cell_type": "code",
      "source": [
        "data = [('user1','book1'),\n",
        "        ('user1','book2'),\n",
        "        ('user2','book2'),\n",
        "        ('user2','book4'),\n",
        "        ('user3','book1')]\n",
        "\n",
        "schema = 'user string, book string'\n",
        "\n",
        "df_book = spark.createDataFrame(data,schema)\n",
        "\n",
        "df_book.show()"
      ],
      "metadata": {
        "colab": {
          "base_uri": "https://localhost:8080/"
        },
        "id": "iF1nIDBsQ1kl",
        "outputId": "e1950cd4-dc28-4167-e182-aadcc6b584e8"
      },
      "execution_count": 125,
      "outputs": [
        {
          "output_type": "stream",
          "name": "stdout",
          "text": [
            "+-----+-----+\n",
            "| user| book|\n",
            "+-----+-----+\n",
            "|user1|book1|\n",
            "|user1|book2|\n",
            "|user2|book2|\n",
            "|user2|book4|\n",
            "|user3|book1|\n",
            "+-----+-----+\n",
            "\n"
          ]
        }
      ]
    },
    {
      "cell_type": "code",
      "source": [
        "df_book.groupBy('user').agg(collect_list('book')).show()"
      ],
      "metadata": {
        "colab": {
          "base_uri": "https://localhost:8080/"
        },
        "id": "snf8tvgPQ3Wn",
        "outputId": "5ffd48c4-fd0b-4d96-8f1e-fecaa9229d6c"
      },
      "execution_count": 126,
      "outputs": [
        {
          "output_type": "stream",
          "name": "stdout",
          "text": [
            "+-----+------------------+\n",
            "| user|collect_list(book)|\n",
            "+-----+------------------+\n",
            "|user1|    [book1, book2]|\n",
            "|user3|           [book1]|\n",
            "|user2|    [book2, book4]|\n",
            "+-----+------------------+\n",
            "\n"
          ]
        }
      ]
    },
    {
      "cell_type": "code",
      "source": [
        "df.select('Item_Type','Outlet_Size','Item_MRP').show()"
      ],
      "metadata": {
        "colab": {
          "base_uri": "https://localhost:8080/"
        },
        "id": "zNAVxilyQ5kL",
        "outputId": "df3e8946-7d9f-4e7a-9d62-c13060a35df0"
      },
      "execution_count": 127,
      "outputs": [
        {
          "output_type": "stream",
          "name": "stdout",
          "text": [
            "+--------------------+-----------+--------+\n",
            "|           Item_Type|Outlet_Size|Item_MRP|\n",
            "+--------------------+-----------+--------+\n",
            "|               Dairy|     Medium|249.8092|\n",
            "|         Soft Drinks|     Medium| 48.2692|\n",
            "|                Meat|     Medium| 141.618|\n",
            "|Fruits and Vegeta...|       NULL| 182.095|\n",
            "|           Household|       High| 53.8614|\n",
            "|        Baking Goods|     Medium| 51.4008|\n",
            "|         Snack Foods|       High| 57.6588|\n",
            "|         Snack Foods|     Medium|107.7622|\n",
            "|        Frozen Foods|       NULL| 96.9726|\n",
            "|        Frozen Foods|       NULL|187.8214|\n",
            "|Fruits and Vegeta...|     Medium| 45.5402|\n",
            "|               Dairy|      Small|144.1102|\n",
            "|Fruits and Vegeta...|     Medium|145.4786|\n",
            "|         Snack Foods|      Small|119.6782|\n",
            "|Fruits and Vegeta...|       High|196.4426|\n",
            "|           Breakfast|      Small| 56.3614|\n",
            "|  Health and Hygiene|     Medium|115.3492|\n",
            "|           Breakfast|     Medium| 54.3614|\n",
            "|         Hard Drinks|     Medium|113.2834|\n",
            "|               Dairy|      Small|230.5352|\n",
            "+--------------------+-----------+--------+\n",
            "only showing top 20 rows\n",
            "\n"
          ]
        }
      ]
    },
    {
      "cell_type": "code",
      "source": [
        "### PIVOT"
      ],
      "metadata": {
        "id": "BpYCIesxQ7eO"
      },
      "execution_count": 128,
      "outputs": []
    },
    {
      "cell_type": "code",
      "source": [
        "df.groupBy('Item_Type').pivot('Outlet_Size').agg(avg('Item_MRP')).show()"
      ],
      "metadata": {
        "colab": {
          "base_uri": "https://localhost:8080/"
        },
        "id": "alFtiSSqQ85B",
        "outputId": "4976f89d-f6db-4278-8075-06a085bad46f"
      },
      "execution_count": 129,
      "outputs": [
        {
          "output_type": "stream",
          "name": "stdout",
          "text": [
            "+--------------------+------------------+------------------+------------------+------------------+\n",
            "|           Item_Type|              null|              High|            Medium|             Small|\n",
            "+--------------------+------------------+------------------+------------------+------------------+\n",
            "|       Starchy Foods|140.48000465116277|158.15707368421053| 148.4195041666666| 150.2701736842105|\n",
            "|              Breads|139.04861666666667|         133.75896| 140.8610385542169| 145.5236507042254|\n",
            "|        Baking Goods|126.66939891891889|129.20204383561642|126.17856847290639|125.21336363636368|\n",
            "|Fruits and Vegeta...|142.57516045845267|145.57287042253515| 142.9714702179177|148.31336951219507|\n",
            "|                Meat|139.29453448275865| 137.2447902439025|136.41913154362408|145.69925042016808|\n",
            "|         Hard Drinks| 134.3875333333333| 141.9275217391304|142.83769599999994|        129.758784|\n",
            "|         Soft Drinks|133.42344360902257|131.75847346938772| 128.2696817518248| 132.8550428571429|\n",
            "|           Household|147.76930421455944|147.09752233009704|147.71133010380618| 153.9654389105058|\n",
            "|           Breakfast| 158.6750903225807|147.49058461538462|134.53751111111112|130.56802666666667|\n",
            "|               Dairy| 149.0512677419355|153.50917249999995|148.51217431192666|145.94210101010103|\n",
            "|         Snack Foods| 145.0097524096384|145.84708639999994|148.77919509803917|144.35189611940308|\n",
            "|              Others|132.59299565217393|       132.5766125|127.83618076923078|137.88921090909088|\n",
            "|             Seafood|142.21686666666668|134.86424000000002|  140.857619047619|         144.28176|\n",
            "|              Canned|140.65181123595508| 135.4427076923077|138.12485069124423|142.29542857142857|\n",
            "|        Frozen Foods|137.49448464730293|         136.82925|140.55701532846714|137.83854377510033|\n",
            "|  Health and Hygiene|130.55989019607844|135.11098032786884|128.70186470588237|131.83153529411757|\n",
            "+--------------------+------------------+------------------+------------------+------------------+\n",
            "\n"
          ]
        }
      ]
    },
    {
      "cell_type": "code",
      "source": [
        "### When-Otherwise"
      ],
      "metadata": {
        "id": "ToNLIglvQ-gp"
      },
      "execution_count": 130,
      "outputs": []
    },
    {
      "cell_type": "code",
      "source": [
        "#### Scenario - 1"
      ],
      "metadata": {
        "id": "cGi7BHeXQ_y8"
      },
      "execution_count": 131,
      "outputs": []
    },
    {
      "cell_type": "code",
      "source": [
        "df = df.withColumn('veg_flag',when(col('Item_Type')=='Meat','Non-Veg').otherwise('Veg'))"
      ],
      "metadata": {
        "id": "YOmyoyHzRBZ-"
      },
      "execution_count": 132,
      "outputs": []
    },
    {
      "cell_type": "code",
      "source": [
        "df.show()"
      ],
      "metadata": {
        "colab": {
          "base_uri": "https://localhost:8080/"
        },
        "id": "nH8I09PsRC6O",
        "outputId": "78793db9-d5b2-471b-f7c7-c3d2d5ef4c56"
      },
      "execution_count": 133,
      "outputs": [
        {
          "output_type": "stream",
          "name": "stdout",
          "text": [
            "+---------------+-----------+----------------+---------------+--------------------+--------+-----------------+-------------------------+-----------+--------------------+-----------------+-----------------+----+----------+----------+-----------+--------+--------+\n",
            "|Item_Identifier|Item_Weight|Item_Fat_Content|Item_Visibility|           Item_Type|Item_MRP|Outlet_Identifier|Outlet_Establishment_Year|Outlet_Size|Outlet_Location_Type|      Outlet_Type|Item_Outlet_Sales|flag| curr_date|week_after|week_before|datediff|veg_flag|\n",
            "+---------------+-----------+----------------+---------------+--------------------+--------+-----------------+-------------------------+-----------+--------------------+-----------------+-----------------+----+----------+----------+-----------+--------+--------+\n",
            "|          FDA15|        9.3|              Lf|    0.016047301|               Dairy|249.8092|           OUT049|                     1999|     Medium|              Tier 1|Supermarket Type1|         3735.138| new|2025-03-10|2025-03-17| 03-03-2025|       7|     Veg|\n",
            "|          DRC01|       5.92|             Reg|    0.019278216|         Soft Drinks| 48.2692|           OUT018|                     2009|     Medium|              Tier 3|Supermarket Type2|         443.4228| new|2025-03-10|2025-03-17| 03-03-2025|       7|     Veg|\n",
            "|          FDN15|       17.5|              Lf|    0.016760075|                Meat| 141.618|           OUT049|                     1999|     Medium|              Tier 1|Supermarket Type1|          2097.27| new|2025-03-10|2025-03-17| 03-03-2025|       7| Non-Veg|\n",
            "|          FDX07|       19.2|             Reg|            0.0|Fruits and Vegeta...| 182.095|           OUT010|                     1998|       NULL|              Tier 3|    Grocery Store|           732.38| new|2025-03-10|2025-03-17| 03-03-2025|       7|     Veg|\n",
            "|          NCD19|       8.93|              Lf|            0.0|           Household| 53.8614|           OUT013|                     1987|       High|              Tier 3|Supermarket Type1|         994.7052| new|2025-03-10|2025-03-17| 03-03-2025|       7|     Veg|\n",
            "|          FDP36|     10.395|             Reg|            0.0|        Baking Goods| 51.4008|           OUT018|                     2009|     Medium|              Tier 3|Supermarket Type2|         556.6088| new|2025-03-10|2025-03-17| 03-03-2025|       7|     Veg|\n",
            "|          FDO10|      13.65|             Reg|    0.012741089|         Snack Foods| 57.6588|           OUT013|                     1987|       High|              Tier 3|Supermarket Type1|         343.5528| new|2025-03-10|2025-03-17| 03-03-2025|       7|     Veg|\n",
            "|          FDP10|       NULL|              Lf|    0.127469857|         Snack Foods|107.7622|           OUT027|                     1985|     Medium|              Tier 3|Supermarket Type3|        4022.7636| new|2025-03-10|2025-03-17| 03-03-2025|       7|     Veg|\n",
            "|          FDH17|       16.2|             Reg|    0.016687114|        Frozen Foods| 96.9726|           OUT045|                     2002|       NULL|              Tier 2|Supermarket Type1|        1076.5986| new|2025-03-10|2025-03-17| 03-03-2025|       7|     Veg|\n",
            "|          FDU28|       19.2|             Reg|     0.09444959|        Frozen Foods|187.8214|           OUT017|                     2007|       NULL|              Tier 2|Supermarket Type1|         4710.535| new|2025-03-10|2025-03-17| 03-03-2025|       7|     Veg|\n",
            "|          FDY07|       11.8|              Lf|            0.0|Fruits and Vegeta...| 45.5402|           OUT049|                     1999|     Medium|              Tier 1|Supermarket Type1|        1516.0266| new|2025-03-10|2025-03-17| 03-03-2025|       7|     Veg|\n",
            "|          FDA03|       18.5|             Reg|    0.045463773|               Dairy|144.1102|           OUT046|                     1997|      Small|              Tier 1|Supermarket Type1|         2187.153| new|2025-03-10|2025-03-17| 03-03-2025|       7|     Veg|\n",
            "|          FDX32|       15.1|             Reg|      0.1000135|Fruits and Vegeta...|145.4786|           OUT049|                     1999|     Medium|              Tier 1|Supermarket Type1|        1589.2646| new|2025-03-10|2025-03-17| 03-03-2025|       7|     Veg|\n",
            "|          FDS46|       17.6|             Reg|    0.047257328|         Snack Foods|119.6782|           OUT046|                     1997|      Small|              Tier 1|Supermarket Type1|        2145.2076| new|2025-03-10|2025-03-17| 03-03-2025|       7|     Veg|\n",
            "|          FDF32|      16.35|              Lf|      0.0680243|Fruits and Vegeta...|196.4426|           OUT013|                     1987|       High|              Tier 3|Supermarket Type1|         1977.426| new|2025-03-10|2025-03-17| 03-03-2025|       7|     Veg|\n",
            "|          FDP49|          9|             Reg|    0.069088961|           Breakfast| 56.3614|           OUT046|                     1997|      Small|              Tier 1|Supermarket Type1|        1547.3192| new|2025-03-10|2025-03-17| 03-03-2025|       7|     Veg|\n",
            "|          NCB42|       11.8|              Lf|    0.008596051|  Health and Hygiene|115.3492|           OUT018|                     2009|     Medium|              Tier 3|Supermarket Type2|        1621.8888| new|2025-03-10|2025-03-17| 03-03-2025|       7|     Veg|\n",
            "|          FDP49|          9|             Reg|    0.069196376|           Breakfast| 54.3614|           OUT049|                     1999|     Medium|              Tier 1|Supermarket Type1|         718.3982| new|2025-03-10|2025-03-17| 03-03-2025|       7|     Veg|\n",
            "|          DRI11|       NULL|              Lf|    0.034237682|         Hard Drinks|113.2834|           OUT027|                     1985|     Medium|              Tier 3|Supermarket Type3|         2303.668| new|2025-03-10|2025-03-17| 03-03-2025|       7|     Veg|\n",
            "|          FDU02|      13.35|              Lf|     0.10249212|               Dairy|230.5352|           OUT035|                     2004|      Small|              Tier 2|Supermarket Type1|        2748.4224| new|2025-03-10|2025-03-17| 03-03-2025|       7|     Veg|\n",
            "+---------------+-----------+----------------+---------------+--------------------+--------+-----------------+-------------------------+-----------+--------------------+-----------------+-----------------+----+----------+----------+-----------+--------+--------+\n",
            "only showing top 20 rows\n",
            "\n"
          ]
        }
      ]
    },
    {
      "cell_type": "code",
      "source": [
        "df.withColumn('veg_exp_flag',when(((col('veg_flag')=='Veg') & (col('Item_MRP')<100)),'Veg_Inexpensive')\\\n",
        "                            .when((col('veg_flag')=='Veg') & (col('Item_MRP')>100),'Veg_Expensive')\\\n",
        "                            .otherwise('Non_Veg')).show()"
      ],
      "metadata": {
        "colab": {
          "base_uri": "https://localhost:8080/"
        },
        "id": "u2QxFTwsREz1",
        "outputId": "648ad6fc-7dd8-4439-a8ab-2f0dc6acd7bd"
      },
      "execution_count": 135,
      "outputs": [
        {
          "output_type": "stream",
          "name": "stdout",
          "text": [
            "+---------------+-----------+----------------+---------------+--------------------+--------+-----------------+-------------------------+-----------+--------------------+-----------------+-----------------+----+----------+----------+-----------+--------+--------+---------------+\n",
            "|Item_Identifier|Item_Weight|Item_Fat_Content|Item_Visibility|           Item_Type|Item_MRP|Outlet_Identifier|Outlet_Establishment_Year|Outlet_Size|Outlet_Location_Type|      Outlet_Type|Item_Outlet_Sales|flag| curr_date|week_after|week_before|datediff|veg_flag|   veg_exp_flag|\n",
            "+---------------+-----------+----------------+---------------+--------------------+--------+-----------------+-------------------------+-----------+--------------------+-----------------+-----------------+----+----------+----------+-----------+--------+--------+---------------+\n",
            "|          FDA15|        9.3|              Lf|    0.016047301|               Dairy|249.8092|           OUT049|                     1999|     Medium|              Tier 1|Supermarket Type1|         3735.138| new|2025-03-10|2025-03-17| 03-03-2025|       7|     Veg|  Veg_Expensive|\n",
            "|          DRC01|       5.92|             Reg|    0.019278216|         Soft Drinks| 48.2692|           OUT018|                     2009|     Medium|              Tier 3|Supermarket Type2|         443.4228| new|2025-03-10|2025-03-17| 03-03-2025|       7|     Veg|Veg_Inexpensive|\n",
            "|          FDN15|       17.5|              Lf|    0.016760075|                Meat| 141.618|           OUT049|                     1999|     Medium|              Tier 1|Supermarket Type1|          2097.27| new|2025-03-10|2025-03-17| 03-03-2025|       7| Non-Veg|        Non_Veg|\n",
            "|          FDX07|       19.2|             Reg|            0.0|Fruits and Vegeta...| 182.095|           OUT010|                     1998|       NULL|              Tier 3|    Grocery Store|           732.38| new|2025-03-10|2025-03-17| 03-03-2025|       7|     Veg|  Veg_Expensive|\n",
            "|          NCD19|       8.93|              Lf|            0.0|           Household| 53.8614|           OUT013|                     1987|       High|              Tier 3|Supermarket Type1|         994.7052| new|2025-03-10|2025-03-17| 03-03-2025|       7|     Veg|Veg_Inexpensive|\n",
            "|          FDP36|     10.395|             Reg|            0.0|        Baking Goods| 51.4008|           OUT018|                     2009|     Medium|              Tier 3|Supermarket Type2|         556.6088| new|2025-03-10|2025-03-17| 03-03-2025|       7|     Veg|Veg_Inexpensive|\n",
            "|          FDO10|      13.65|             Reg|    0.012741089|         Snack Foods| 57.6588|           OUT013|                     1987|       High|              Tier 3|Supermarket Type1|         343.5528| new|2025-03-10|2025-03-17| 03-03-2025|       7|     Veg|Veg_Inexpensive|\n",
            "|          FDP10|       NULL|              Lf|    0.127469857|         Snack Foods|107.7622|           OUT027|                     1985|     Medium|              Tier 3|Supermarket Type3|        4022.7636| new|2025-03-10|2025-03-17| 03-03-2025|       7|     Veg|  Veg_Expensive|\n",
            "|          FDH17|       16.2|             Reg|    0.016687114|        Frozen Foods| 96.9726|           OUT045|                     2002|       NULL|              Tier 2|Supermarket Type1|        1076.5986| new|2025-03-10|2025-03-17| 03-03-2025|       7|     Veg|Veg_Inexpensive|\n",
            "|          FDU28|       19.2|             Reg|     0.09444959|        Frozen Foods|187.8214|           OUT017|                     2007|       NULL|              Tier 2|Supermarket Type1|         4710.535| new|2025-03-10|2025-03-17| 03-03-2025|       7|     Veg|  Veg_Expensive|\n",
            "|          FDY07|       11.8|              Lf|            0.0|Fruits and Vegeta...| 45.5402|           OUT049|                     1999|     Medium|              Tier 1|Supermarket Type1|        1516.0266| new|2025-03-10|2025-03-17| 03-03-2025|       7|     Veg|Veg_Inexpensive|\n",
            "|          FDA03|       18.5|             Reg|    0.045463773|               Dairy|144.1102|           OUT046|                     1997|      Small|              Tier 1|Supermarket Type1|         2187.153| new|2025-03-10|2025-03-17| 03-03-2025|       7|     Veg|  Veg_Expensive|\n",
            "|          FDX32|       15.1|             Reg|      0.1000135|Fruits and Vegeta...|145.4786|           OUT049|                     1999|     Medium|              Tier 1|Supermarket Type1|        1589.2646| new|2025-03-10|2025-03-17| 03-03-2025|       7|     Veg|  Veg_Expensive|\n",
            "|          FDS46|       17.6|             Reg|    0.047257328|         Snack Foods|119.6782|           OUT046|                     1997|      Small|              Tier 1|Supermarket Type1|        2145.2076| new|2025-03-10|2025-03-17| 03-03-2025|       7|     Veg|  Veg_Expensive|\n",
            "|          FDF32|      16.35|              Lf|      0.0680243|Fruits and Vegeta...|196.4426|           OUT013|                     1987|       High|              Tier 3|Supermarket Type1|         1977.426| new|2025-03-10|2025-03-17| 03-03-2025|       7|     Veg|  Veg_Expensive|\n",
            "|          FDP49|          9|             Reg|    0.069088961|           Breakfast| 56.3614|           OUT046|                     1997|      Small|              Tier 1|Supermarket Type1|        1547.3192| new|2025-03-10|2025-03-17| 03-03-2025|       7|     Veg|Veg_Inexpensive|\n",
            "|          NCB42|       11.8|              Lf|    0.008596051|  Health and Hygiene|115.3492|           OUT018|                     2009|     Medium|              Tier 3|Supermarket Type2|        1621.8888| new|2025-03-10|2025-03-17| 03-03-2025|       7|     Veg|  Veg_Expensive|\n",
            "|          FDP49|          9|             Reg|    0.069196376|           Breakfast| 54.3614|           OUT049|                     1999|     Medium|              Tier 1|Supermarket Type1|         718.3982| new|2025-03-10|2025-03-17| 03-03-2025|       7|     Veg|Veg_Inexpensive|\n",
            "|          DRI11|       NULL|              Lf|    0.034237682|         Hard Drinks|113.2834|           OUT027|                     1985|     Medium|              Tier 3|Supermarket Type3|         2303.668| new|2025-03-10|2025-03-17| 03-03-2025|       7|     Veg|  Veg_Expensive|\n",
            "|          FDU02|      13.35|              Lf|     0.10249212|               Dairy|230.5352|           OUT035|                     2004|      Small|              Tier 2|Supermarket Type1|        2748.4224| new|2025-03-10|2025-03-17| 03-03-2025|       7|     Veg|  Veg_Expensive|\n",
            "+---------------+-----------+----------------+---------------+--------------------+--------+-----------------+-------------------------+-----------+--------------------+-----------------+-----------------+----+----------+----------+-----------+--------+--------+---------------+\n",
            "only showing top 20 rows\n",
            "\n"
          ]
        }
      ]
    },
    {
      "cell_type": "code",
      "source": [
        "### JOINS"
      ],
      "metadata": {
        "id": "GImfKCUoRGGm"
      },
      "execution_count": 136,
      "outputs": []
    },
    {
      "cell_type": "code",
      "source": [
        "dataj1 = [('1','gaur','d01'),\n",
        "          ('2','kit','d02'),\n",
        "          ('3','sam','d03'),\n",
        "          ('4','tim','d03'),\n",
        "          ('5','aman','d05'),\n",
        "          ('6','nad','d06')]\n",
        "\n",
        "schemaj1 = 'emp_id STRING, emp_name STRING, dept_id STRING'\n",
        "\n",
        "df1 = spark.createDataFrame(dataj1,schemaj1)\n",
        "\n",
        "dataj2 = [('d01','HR'),\n",
        "          ('d02','Marketing'),\n",
        "          ('d03','Accounts'),\n",
        "          ('d04','IT'),\n",
        "          ('d05','Finance')]\n",
        "\n",
        "schemaj2 = 'dept_id STRING, department STRING'\n",
        "\n",
        "df2 = spark.createDataFrame(dataj2,schemaj2)"
      ],
      "metadata": {
        "id": "y5TYPJGHRJ1C"
      },
      "execution_count": 137,
      "outputs": []
    },
    {
      "cell_type": "code",
      "source": [
        "df1.show()"
      ],
      "metadata": {
        "colab": {
          "base_uri": "https://localhost:8080/"
        },
        "id": "ohxj-FWURK_v",
        "outputId": "d743becc-d5dd-4ab0-a78f-830b6ab8ad78"
      },
      "execution_count": 138,
      "outputs": [
        {
          "output_type": "stream",
          "name": "stdout",
          "text": [
            "+------+--------+-------+\n",
            "|emp_id|emp_name|dept_id|\n",
            "+------+--------+-------+\n",
            "|     1|    gaur|    d01|\n",
            "|     2|     kit|    d02|\n",
            "|     3|     sam|    d03|\n",
            "|     4|     tim|    d03|\n",
            "|     5|    aman|    d05|\n",
            "|     6|     nad|    d06|\n",
            "+------+--------+-------+\n",
            "\n"
          ]
        }
      ]
    },
    {
      "cell_type": "code",
      "source": [
        "df2.show()"
      ],
      "metadata": {
        "colab": {
          "base_uri": "https://localhost:8080/"
        },
        "id": "422Hqq2oRMh2",
        "outputId": "ef631d63-f25d-45a0-adb2-37784cb8c501"
      },
      "execution_count": 139,
      "outputs": [
        {
          "output_type": "stream",
          "name": "stdout",
          "text": [
            "+-------+----------+\n",
            "|dept_id|department|\n",
            "+-------+----------+\n",
            "|    d01|        HR|\n",
            "|    d02| Marketing|\n",
            "|    d03|  Accounts|\n",
            "|    d04|        IT|\n",
            "|    d05|   Finance|\n",
            "+-------+----------+\n",
            "\n"
          ]
        }
      ]
    },
    {
      "cell_type": "code",
      "source": [
        "#### Inner Join"
      ],
      "metadata": {
        "id": "DhWUyDgwRNpH"
      },
      "execution_count": 140,
      "outputs": []
    },
    {
      "cell_type": "code",
      "source": [
        "df1.join(df2, df1['dept_id']==df2['dept_id'],'inner').show()"
      ],
      "metadata": {
        "colab": {
          "base_uri": "https://localhost:8080/"
        },
        "id": "D5ed-LD0RPJt",
        "outputId": "89c07e45-2483-45d0-f431-58d80f7df8fc"
      },
      "execution_count": 141,
      "outputs": [
        {
          "output_type": "stream",
          "name": "stdout",
          "text": [
            "+------+--------+-------+-------+----------+\n",
            "|emp_id|emp_name|dept_id|dept_id|department|\n",
            "+------+--------+-------+-------+----------+\n",
            "|     1|    gaur|    d01|    d01|        HR|\n",
            "|     2|     kit|    d02|    d02| Marketing|\n",
            "|     3|     sam|    d03|    d03|  Accounts|\n",
            "|     4|     tim|    d03|    d03|  Accounts|\n",
            "|     5|    aman|    d05|    d05|   Finance|\n",
            "+------+--------+-------+-------+----------+\n",
            "\n"
          ]
        }
      ]
    },
    {
      "cell_type": "code",
      "source": [
        "#### LEFT JOIN"
      ],
      "metadata": {
        "id": "jtXyaI5RRRAr"
      },
      "execution_count": 142,
      "outputs": []
    },
    {
      "cell_type": "code",
      "source": [
        "df1.join(df2,df1['dept_id']==df2['dept_id'],'right').show()"
      ],
      "metadata": {
        "colab": {
          "base_uri": "https://localhost:8080/"
        },
        "id": "zy_yg-UQRSQd",
        "outputId": "eb156818-e390-4873-a16a-123b8be6e174"
      },
      "execution_count": 143,
      "outputs": [
        {
          "output_type": "stream",
          "name": "stdout",
          "text": [
            "+------+--------+-------+-------+----------+\n",
            "|emp_id|emp_name|dept_id|dept_id|department|\n",
            "+------+--------+-------+-------+----------+\n",
            "|     1|    gaur|    d01|    d01|        HR|\n",
            "|     2|     kit|    d02|    d02| Marketing|\n",
            "|     4|     tim|    d03|    d03|  Accounts|\n",
            "|     3|     sam|    d03|    d03|  Accounts|\n",
            "|  NULL|    NULL|   NULL|    d04|        IT|\n",
            "|     5|    aman|    d05|    d05|   Finance|\n",
            "+------+--------+-------+-------+----------+\n",
            "\n"
          ]
        }
      ]
    },
    {
      "cell_type": "code",
      "source": [
        "#### ANTI JOIN"
      ],
      "metadata": {
        "id": "c2aTf-5QRT78"
      },
      "execution_count": 144,
      "outputs": []
    },
    {
      "cell_type": "code",
      "source": [
        "df1.join(df2,df1['dept_id']==df2['dept_id'],'anti').show()"
      ],
      "metadata": {
        "colab": {
          "base_uri": "https://localhost:8080/"
        },
        "id": "pxdQgOKXRVdJ",
        "outputId": "0d4ced69-e330-4e93-dc5d-3b87232d51ac"
      },
      "execution_count": 145,
      "outputs": [
        {
          "output_type": "stream",
          "name": "stdout",
          "text": [
            "+------+--------+-------+\n",
            "|emp_id|emp_name|dept_id|\n",
            "+------+--------+-------+\n",
            "|     6|     nad|    d06|\n",
            "+------+--------+-------+\n",
            "\n"
          ]
        }
      ]
    },
    {
      "cell_type": "code",
      "source": [
        "### WINDOW FUNCTIONS"
      ],
      "metadata": {
        "id": "zin1A6m7RXKo"
      },
      "execution_count": 146,
      "outputs": []
    },
    {
      "cell_type": "code",
      "source": [
        "#### ROW_NUMBER()"
      ],
      "metadata": {
        "id": "k1Onj_spRYfW"
      },
      "execution_count": 147,
      "outputs": []
    },
    {
      "cell_type": "code",
      "source": [
        "df.show()"
      ],
      "metadata": {
        "colab": {
          "base_uri": "https://localhost:8080/"
        },
        "id": "D9X3udccRZeL",
        "outputId": "fcc34321-128d-4ef0-903f-d2ff4f3e0d9e"
      },
      "execution_count": 149,
      "outputs": [
        {
          "output_type": "stream",
          "name": "stdout",
          "text": [
            "+---------------+-----------+----------------+---------------+--------------------+--------+-----------------+-------------------------+-----------+--------------------+-----------------+-----------------+----+----------+----------+-----------+--------+--------+\n",
            "|Item_Identifier|Item_Weight|Item_Fat_Content|Item_Visibility|           Item_Type|Item_MRP|Outlet_Identifier|Outlet_Establishment_Year|Outlet_Size|Outlet_Location_Type|      Outlet_Type|Item_Outlet_Sales|flag| curr_date|week_after|week_before|datediff|veg_flag|\n",
            "+---------------+-----------+----------------+---------------+--------------------+--------+-----------------+-------------------------+-----------+--------------------+-----------------+-----------------+----+----------+----------+-----------+--------+--------+\n",
            "|          FDA15|        9.3|              Lf|    0.016047301|               Dairy|249.8092|           OUT049|                     1999|     Medium|              Tier 1|Supermarket Type1|         3735.138| new|2025-03-10|2025-03-17| 03-03-2025|       7|     Veg|\n",
            "|          DRC01|       5.92|             Reg|    0.019278216|         Soft Drinks| 48.2692|           OUT018|                     2009|     Medium|              Tier 3|Supermarket Type2|         443.4228| new|2025-03-10|2025-03-17| 03-03-2025|       7|     Veg|\n",
            "|          FDN15|       17.5|              Lf|    0.016760075|                Meat| 141.618|           OUT049|                     1999|     Medium|              Tier 1|Supermarket Type1|          2097.27| new|2025-03-10|2025-03-17| 03-03-2025|       7| Non-Veg|\n",
            "|          FDX07|       19.2|             Reg|            0.0|Fruits and Vegeta...| 182.095|           OUT010|                     1998|       NULL|              Tier 3|    Grocery Store|           732.38| new|2025-03-10|2025-03-17| 03-03-2025|       7|     Veg|\n",
            "|          NCD19|       8.93|              Lf|            0.0|           Household| 53.8614|           OUT013|                     1987|       High|              Tier 3|Supermarket Type1|         994.7052| new|2025-03-10|2025-03-17| 03-03-2025|       7|     Veg|\n",
            "|          FDP36|     10.395|             Reg|            0.0|        Baking Goods| 51.4008|           OUT018|                     2009|     Medium|              Tier 3|Supermarket Type2|         556.6088| new|2025-03-10|2025-03-17| 03-03-2025|       7|     Veg|\n",
            "|          FDO10|      13.65|             Reg|    0.012741089|         Snack Foods| 57.6588|           OUT013|                     1987|       High|              Tier 3|Supermarket Type1|         343.5528| new|2025-03-10|2025-03-17| 03-03-2025|       7|     Veg|\n",
            "|          FDP10|       NULL|              Lf|    0.127469857|         Snack Foods|107.7622|           OUT027|                     1985|     Medium|              Tier 3|Supermarket Type3|        4022.7636| new|2025-03-10|2025-03-17| 03-03-2025|       7|     Veg|\n",
            "|          FDH17|       16.2|             Reg|    0.016687114|        Frozen Foods| 96.9726|           OUT045|                     2002|       NULL|              Tier 2|Supermarket Type1|        1076.5986| new|2025-03-10|2025-03-17| 03-03-2025|       7|     Veg|\n",
            "|          FDU28|       19.2|             Reg|     0.09444959|        Frozen Foods|187.8214|           OUT017|                     2007|       NULL|              Tier 2|Supermarket Type1|         4710.535| new|2025-03-10|2025-03-17| 03-03-2025|       7|     Veg|\n",
            "|          FDY07|       11.8|              Lf|            0.0|Fruits and Vegeta...| 45.5402|           OUT049|                     1999|     Medium|              Tier 1|Supermarket Type1|        1516.0266| new|2025-03-10|2025-03-17| 03-03-2025|       7|     Veg|\n",
            "|          FDA03|       18.5|             Reg|    0.045463773|               Dairy|144.1102|           OUT046|                     1997|      Small|              Tier 1|Supermarket Type1|         2187.153| new|2025-03-10|2025-03-17| 03-03-2025|       7|     Veg|\n",
            "|          FDX32|       15.1|             Reg|      0.1000135|Fruits and Vegeta...|145.4786|           OUT049|                     1999|     Medium|              Tier 1|Supermarket Type1|        1589.2646| new|2025-03-10|2025-03-17| 03-03-2025|       7|     Veg|\n",
            "|          FDS46|       17.6|             Reg|    0.047257328|         Snack Foods|119.6782|           OUT046|                     1997|      Small|              Tier 1|Supermarket Type1|        2145.2076| new|2025-03-10|2025-03-17| 03-03-2025|       7|     Veg|\n",
            "|          FDF32|      16.35|              Lf|      0.0680243|Fruits and Vegeta...|196.4426|           OUT013|                     1987|       High|              Tier 3|Supermarket Type1|         1977.426| new|2025-03-10|2025-03-17| 03-03-2025|       7|     Veg|\n",
            "|          FDP49|          9|             Reg|    0.069088961|           Breakfast| 56.3614|           OUT046|                     1997|      Small|              Tier 1|Supermarket Type1|        1547.3192| new|2025-03-10|2025-03-17| 03-03-2025|       7|     Veg|\n",
            "|          NCB42|       11.8|              Lf|    0.008596051|  Health and Hygiene|115.3492|           OUT018|                     2009|     Medium|              Tier 3|Supermarket Type2|        1621.8888| new|2025-03-10|2025-03-17| 03-03-2025|       7|     Veg|\n",
            "|          FDP49|          9|             Reg|    0.069196376|           Breakfast| 54.3614|           OUT049|                     1999|     Medium|              Tier 1|Supermarket Type1|         718.3982| new|2025-03-10|2025-03-17| 03-03-2025|       7|     Veg|\n",
            "|          DRI11|       NULL|              Lf|    0.034237682|         Hard Drinks|113.2834|           OUT027|                     1985|     Medium|              Tier 3|Supermarket Type3|         2303.668| new|2025-03-10|2025-03-17| 03-03-2025|       7|     Veg|\n",
            "|          FDU02|      13.35|              Lf|     0.10249212|               Dairy|230.5352|           OUT035|                     2004|      Small|              Tier 2|Supermarket Type1|        2748.4224| new|2025-03-10|2025-03-17| 03-03-2025|       7|     Veg|\n",
            "+---------------+-----------+----------------+---------------+--------------------+--------+-----------------+-------------------------+-----------+--------------------+-----------------+-----------------+----+----------+----------+-----------+--------+--------+\n",
            "only showing top 20 rows\n",
            "\n"
          ]
        }
      ]
    },
    {
      "cell_type": "code",
      "source": [
        "from pyspark.sql.window import Window"
      ],
      "metadata": {
        "id": "6x-9466CRadu"
      },
      "execution_count": 150,
      "outputs": []
    },
    {
      "cell_type": "code",
      "source": [
        "df.withColumn('rowCol',row_number().over(Window.orderBy('Item_Identifier'))).show()"
      ],
      "metadata": {
        "colab": {
          "base_uri": "https://localhost:8080/"
        },
        "id": "kocqPn6dRdEC",
        "outputId": "c1b935dd-bc5c-4ccb-8e6a-9e4caa584ece"
      },
      "execution_count": 151,
      "outputs": [
        {
          "output_type": "stream",
          "name": "stdout",
          "text": [
            "+---------------+-----------+----------------+---------------+-----------+--------+-----------------+-------------------------+-----------+--------------------+-----------------+-----------------+----+----------+----------+-----------+--------+--------+------+\n",
            "|Item_Identifier|Item_Weight|Item_Fat_Content|Item_Visibility|  Item_Type|Item_MRP|Outlet_Identifier|Outlet_Establishment_Year|Outlet_Size|Outlet_Location_Type|      Outlet_Type|Item_Outlet_Sales|flag| curr_date|week_after|week_before|datediff|veg_flag|rowCol|\n",
            "+---------------+-----------+----------------+---------------+-----------+--------+-----------------+-------------------------+-----------+--------------------+-----------------+-----------------+----+----------+----------+-----------+--------+--------+------+\n",
            "|          DRA12|       11.6|              Lf|    0.041177505|Soft Drinks|140.3154|           OUT017|                     2007|       NULL|              Tier 2|Supermarket Type1|        2552.6772| new|2025-03-10|2025-03-17| 03-03-2025|       7|     Veg|     1|\n",
            "|          DRA12|       11.6|              Lf|            0.0|Soft Drinks|141.6154|           OUT045|                     2002|       NULL|              Tier 2|Supermarket Type1|        3829.0158| new|2025-03-10|2025-03-17| 03-03-2025|       7|     Veg|     2|\n",
            "|          DRA12|       11.6|              Lf|    0.040911824|Soft Drinks|142.3154|           OUT013|                     1987|       High|              Tier 3|Supermarket Type1|        2552.6772| new|2025-03-10|2025-03-17| 03-03-2025|       7|     Veg|     3|\n",
            "|          DRA12|       11.6|              LF|            0.0|Soft Drinks|141.9154|           OUT035|                     2004|      Small|              Tier 2|Supermarket Type1|         992.7078| new|2025-03-10|2025-03-17| 03-03-2025|       7|     Veg|     4|\n",
            "|          DRA12|       11.6|              Lf|    0.041112694|Soft Drinks|142.0154|           OUT018|                     2009|     Medium|              Tier 3|Supermarket Type2|         850.8924| new|2025-03-10|2025-03-17| 03-03-2025|       7|     Veg|     5|\n",
            "|          DRA12|       11.6|              Lf|    0.068535039|Soft Drinks|143.0154|           OUT010|                     1998|       NULL|              Tier 3|    Grocery Store|         283.6308| new|2025-03-10|2025-03-17| 03-03-2025|       7|     Veg|     6|\n",
            "|          DRA24|      19.35|             Reg|    0.040154087|Soft Drinks|164.6868|           OUT017|                     2007|       NULL|              Tier 2|Supermarket Type1|        1146.5076| new|2025-03-10|2025-03-17| 03-03-2025|       7|     Veg|     7|\n",
            "|          DRA24|       NULL|             Reg|    0.039734882|Soft Drinks|165.7868|           OUT027|                     1985|     Medium|              Tier 3|Supermarket Type3|         4913.604| new|2025-03-10|2025-03-17| 03-03-2025|       7|     Veg|     8|\n",
            "|          DRA24|      19.35|             Reg|    0.039920687|Soft Drinks|163.3868|           OUT035|                     2004|      Small|              Tier 2|Supermarket Type1|        3439.5228| new|2025-03-10|2025-03-17| 03-03-2025|       7|     Veg|     9|\n",
            "|          DRA24|       NULL|             Reg|    0.069909188|Soft Drinks|163.2868|           OUT019|                     1985|      Small|              Tier 1|    Grocery Store|         491.3604| new|2025-03-10|2025-03-17| 03-03-2025|       7|     Veg|    10|\n",
            "|          DRA24|      19.35|             Reg|    0.066831682|Soft Drinks|163.8868|           OUT010|                     1998|       NULL|              Tier 3|    Grocery Store|         327.5736| new|2025-03-10|2025-03-17| 03-03-2025|       7|     Veg|    11|\n",
            "|          DRA24|      19.35|             Reg|    0.039990314|Soft Drinks|165.0868|           OUT049|                     1999|     Medium|              Tier 1|Supermarket Type1|         982.7208| new|2025-03-10|2025-03-17| 03-03-2025|       7|     Veg|    12|\n",
            "|          DRA24|      19.35|             Reg|    0.039895009|Soft Drinks|162.4868|           OUT013|                     1987|       High|              Tier 3|Supermarket Type1|        4422.2436| new|2025-03-10|2025-03-17| 03-03-2025|       7|     Veg|    13|\n",
            "|          DRA59|       8.27|             Reg|    0.127927931|Soft Drinks|184.8924|           OUT046|                     1997|      Small|              Tier 1|Supermarket Type1|        4442.2176| new|2025-03-10|2025-03-17| 03-03-2025|       7|     Veg|    14|\n",
            "|          DRA59|       8.27|             Reg|    0.128126825|Soft Drinks|183.6924|           OUT049|                     1999|     Medium|              Tier 1|Supermarket Type1|        1295.6468| new|2025-03-10|2025-03-17| 03-03-2025|       7|     Veg|    15|\n",
            "|          DRA59|       8.27|             Reg|    0.127821472|Soft Drinks|185.9924|           OUT013|                     1987|       High|              Tier 3|Supermarket Type1|         555.2772| new|2025-03-10|2025-03-17| 03-03-2025|       7|     Veg|    16|\n",
            "|          DRA59|       8.27|             Reg|            0.0|Soft Drinks|183.2924|           OUT017|                     2007|       NULL|              Tier 2|Supermarket Type1|        2406.2012| new|2025-03-10|2025-03-17| 03-03-2025|       7|     Veg|    17|\n",
            "|          DRA59|       NULL|             Reg|    0.127308434|Soft Drinks|186.6924|           OUT027|                     1985|     Medium|              Tier 3|Supermarket Type3|        7033.5112| new|2025-03-10|2025-03-17| 03-03-2025|       7|     Veg|    18|\n",
            "|          DRA59|       NULL|             Reg|    0.223985293|Soft Drinks|186.2924|           OUT019|                     1985|      Small|              Tier 1|    Grocery Store|         555.2772| new|2025-03-10|2025-03-17| 03-03-2025|       7|     Veg|    19|\n",
            "|          DRA59|       8.27|             Reg|    0.128449055|Soft Drinks|186.5924|           OUT018|                     2009|     Medium|              Tier 3|Supermarket Type2|        4442.2176| new|2025-03-10|2025-03-17| 03-03-2025|       7|     Veg|    20|\n",
            "+---------------+-----------+----------------+---------------+-----------+--------+-----------------+-------------------------+-----------+--------------------+-----------------+-----------------+----+----------+----------+-----------+--------+--------+------+\n",
            "only showing top 20 rows\n",
            "\n"
          ]
        }
      ]
    },
    {
      "cell_type": "code",
      "source": [
        "#### RANK VS DENSE RANK"
      ],
      "metadata": {
        "id": "oviwa9gERe4J"
      },
      "execution_count": 152,
      "outputs": []
    },
    {
      "cell_type": "code",
      "source": [
        "df.withColumn('rank',rank().over(Window.orderBy(col('Item_Identifier').desc())))\\\n",
        "        .withColumn('denseRank',dense_rank().over(Window.orderBy(col('Item_Identifier').desc()))).show()"
      ],
      "metadata": {
        "colab": {
          "base_uri": "https://localhost:8080/"
        },
        "id": "hmjAvQXBRgH2",
        "outputId": "02a74149-a6ec-47c1-adee-ffecd7220194"
      },
      "execution_count": 153,
      "outputs": [
        {
          "output_type": "stream",
          "name": "stdout",
          "text": [
            "+---------------+-----------+----------------+---------------+------------------+--------+-----------------+-------------------------+-----------+--------------------+-----------------+-----------------+----+----------+----------+-----------+--------+--------+----+---------+\n",
            "|Item_Identifier|Item_Weight|Item_Fat_Content|Item_Visibility|         Item_Type|Item_MRP|Outlet_Identifier|Outlet_Establishment_Year|Outlet_Size|Outlet_Location_Type|      Outlet_Type|Item_Outlet_Sales|flag| curr_date|week_after|week_before|datediff|veg_flag|rank|denseRank|\n",
            "+---------------+-----------+----------------+---------------+------------------+--------+-----------------+-------------------------+-----------+--------------------+-----------------+-----------------+----+----------+----------+-----------+--------+--------+----+---------+\n",
            "|          NCZ54|      14.65|              Lf|    0.083359391|         Household|161.9552|           OUT046|                     1997|      Small|              Tier 1|Supermarket Type1|        4711.2008| new|2025-03-10|2025-03-17| 03-03-2025|       7|     Veg|   1|        1|\n",
            "|          NCZ54|       NULL|              Lf|    0.082955719|         Household|164.0552|           OUT027|                     1985|     Medium|              Tier 3|Supermarket Type3|        5523.4768| new|2025-03-10|2025-03-17| 03-03-2025|       7|     Veg|   1|        1|\n",
            "|          NCZ54|      14.65|              Lf|    0.083528446|         Household|162.4552|           OUT045|                     2002|       NULL|              Tier 2|Supermarket Type1|        2274.3728| new|2025-03-10|2025-03-17| 03-03-2025|       7|     Veg|   1|        1|\n",
            "|          NCZ54|      14.65|              Lf|            0.0|         Household|161.5552|           OUT010|                     1998|       NULL|              Tier 3|    Grocery Store|         324.9104| new|2025-03-10|2025-03-17| 03-03-2025|       7|     Veg|   1|        1|\n",
            "|          NCZ54|       NULL|              Lf|    0.145951533|         Household|160.9552|           OUT019|                     1985|      Small|              Tier 1|    Grocery Store|         162.4552| new|2025-03-10|2025-03-17| 03-03-2025|       7|     Veg|   1|        1|\n",
            "|          NCZ54|      14.65|              Lf|    0.083698962|         Household|163.4552|           OUT018|                     2009|     Medium|              Tier 3|Supermarket Type2|        2599.2832| new|2025-03-10|2025-03-17| 03-03-2025|       7|     Veg|   1|        1|\n",
            "|          NCZ54|      14.65|              Lf|    0.083488992|         Household|161.3552|           OUT049|                     1999|     Medium|              Tier 1|Supermarket Type1|        7148.0288| new|2025-03-10|2025-03-17| 03-03-2025|       7|     Veg|   1|        1|\n",
            "|          NCZ53|        9.6|              Lf|    0.040969757|Health and Hygiene|188.7214|           OUT010|                     1998|       NULL|              Tier 3|    Grocery Store|         376.8428| new|2025-03-10|2025-03-17| 03-03-2025|       7|     Veg|   8|        2|\n",
            "|          NCZ53|       NULL|              Lf|    0.024358634|Health and Hygiene|190.4214|           OUT027|                     1985|     Medium|              Tier 3|Supermarket Type3|         5652.642| new|2025-03-10|2025-03-17| 03-03-2025|       7|     Veg|   8|        2|\n",
            "|          NCZ53|        9.6|              Lf|    0.024576875|Health and Hygiene|186.6214|           OUT018|                     2009|     Medium|              Tier 3|Supermarket Type2|         1884.214| new|2025-03-10|2025-03-17| 03-03-2025|       7|     Veg|   8|        2|\n",
            "|          NCZ53|        9.6|              Lf|    0.024456797|Health and Hygiene|186.6214|           OUT013|                     1987|       High|              Tier 3|Supermarket Type1|        3203.1638| new|2025-03-10|2025-03-17| 03-03-2025|       7|     Veg|   8|        2|\n",
            "|          NCZ53|        9.6|              Lf|    0.024515221|Health and Hygiene|189.2214|           OUT049|                     1999|     Medium|              Tier 1|Supermarket Type1|        3956.8494| new|2025-03-10|2025-03-17| 03-03-2025|       7|     Veg|   8|        2|\n",
            "|          NCZ42|       10.5|              Lf|            0.0|         Household|238.3248|           OUT010|                     1998|       NULL|              Tier 3|    Grocery Store|         711.0744| new|2025-03-10|2025-03-17| 03-03-2025|       7|     Veg|  13|        3|\n",
            "|          NCZ42|       10.5|              Lf|    0.011351778|         Household|236.5248|           OUT017|                     2007|       NULL|              Tier 2|Supermarket Type1|        4029.4216| new|2025-03-10|2025-03-17| 03-03-2025|       7|     Veg|  13|        3|\n",
            "|          NCZ42|       10.5|              Lf|    0.011278535|         Household|237.0248|           OUT013|                     1987|       High|              Tier 3|Supermarket Type1|        5451.5704| new|2025-03-10|2025-03-17| 03-03-2025|       7|     Veg|  13|        3|\n",
            "|          NCZ42|       10.5|              Lf|    0.011285795|         Household|235.8248|           OUT035|                     2004|      Small|              Tier 2|Supermarket Type1|        4266.4464| new|2025-03-10|2025-03-17| 03-03-2025|       7|     Veg|  13|        3|\n",
            "|          NCZ42|       10.5|              LF|    0.011305479|         Household|235.5248|           OUT049|                     1999|     Medium|              Tier 1|Supermarket Type1|         4740.496| new|2025-03-10|2025-03-17| 03-03-2025|       7|     Veg|  13|        3|\n",
            "|          NCZ41|      19.85|              Lf|    0.064367627|Health and Hygiene|126.1704|           OUT013|                     1987|       High|              Tier 3|Supermarket Type1|         876.1928| new|2025-03-10|2025-03-17| 03-03-2025|       7|     Veg|  18|        4|\n",
            "|          NCZ41|      19.85|              Lf|    0.064409056|Health and Hygiene|126.7704|           OUT035|                     2004|      Small|              Tier 2|Supermarket Type1|        1752.3856| new|2025-03-10|2025-03-17| 03-03-2025|       7|     Veg|  18|        4|\n",
            "|          NCZ41|      19.85|              Lf|    0.064551885|Health and Hygiene|125.2704|           OUT045|                     2002|       NULL|              Tier 2|Supermarket Type1|        2127.8968| new|2025-03-10|2025-03-17| 03-03-2025|       7|     Veg|  18|        4|\n",
            "+---------------+-----------+----------------+---------------+------------------+--------+-----------------+-------------------------+-----------+--------------------+-----------------+-----------------+----+----------+----------+-----------+--------+--------+----+---------+\n",
            "only showing top 20 rows\n",
            "\n"
          ]
        }
      ]
    },
    {
      "cell_type": "code",
      "source": [
        "df.withColumn('dum',sum('Item_MRP').over(Window.orderBy('Item_Identifier').rowsBetween(Window.unboundedPreceding,Window.currentRow))).show()"
      ],
      "metadata": {
        "colab": {
          "base_uri": "https://localhost:8080/"
        },
        "id": "7P2sFeG8Rh4O",
        "outputId": "7800c55d-c7fa-4ab7-c017-cb7788b88fc1"
      },
      "execution_count": 154,
      "outputs": [
        {
          "output_type": "stream",
          "name": "stdout",
          "text": [
            "+---------------+-----------+----------------+---------------+-----------+--------+-----------------+-------------------------+-----------+--------------------+-----------------+-----------------+----+----------+----------+-----------+--------+--------+------------------+\n",
            "|Item_Identifier|Item_Weight|Item_Fat_Content|Item_Visibility|  Item_Type|Item_MRP|Outlet_Identifier|Outlet_Establishment_Year|Outlet_Size|Outlet_Location_Type|      Outlet_Type|Item_Outlet_Sales|flag| curr_date|week_after|week_before|datediff|veg_flag|               dum|\n",
            "+---------------+-----------+----------------+---------------+-----------+--------+-----------------+-------------------------+-----------+--------------------+-----------------+-----------------+----+----------+----------+-----------+--------+--------+------------------+\n",
            "|          DRA12|       11.6|              Lf|    0.041177505|Soft Drinks|140.3154|           OUT017|                     2007|       NULL|              Tier 2|Supermarket Type1|        2552.6772| new|2025-03-10|2025-03-17| 03-03-2025|       7|     Veg|          140.3154|\n",
            "|          DRA12|       11.6|              Lf|            0.0|Soft Drinks|141.6154|           OUT045|                     2002|       NULL|              Tier 2|Supermarket Type1|        3829.0158| new|2025-03-10|2025-03-17| 03-03-2025|       7|     Veg|          281.9308|\n",
            "|          DRA12|       11.6|              Lf|    0.040911824|Soft Drinks|142.3154|           OUT013|                     1987|       High|              Tier 3|Supermarket Type1|        2552.6772| new|2025-03-10|2025-03-17| 03-03-2025|       7|     Veg|          424.2462|\n",
            "|          DRA12|       11.6|              LF|            0.0|Soft Drinks|141.9154|           OUT035|                     2004|      Small|              Tier 2|Supermarket Type1|         992.7078| new|2025-03-10|2025-03-17| 03-03-2025|       7|     Veg|          566.1616|\n",
            "|          DRA12|       11.6|              Lf|    0.041112694|Soft Drinks|142.0154|           OUT018|                     2009|     Medium|              Tier 3|Supermarket Type2|         850.8924| new|2025-03-10|2025-03-17| 03-03-2025|       7|     Veg|           708.177|\n",
            "|          DRA12|       11.6|              Lf|    0.068535039|Soft Drinks|143.0154|           OUT010|                     1998|       NULL|              Tier 3|    Grocery Store|         283.6308| new|2025-03-10|2025-03-17| 03-03-2025|       7|     Veg|          851.1924|\n",
            "|          DRA24|      19.35|             Reg|    0.040154087|Soft Drinks|164.6868|           OUT017|                     2007|       NULL|              Tier 2|Supermarket Type1|        1146.5076| new|2025-03-10|2025-03-17| 03-03-2025|       7|     Veg|1015.8792000000001|\n",
            "|          DRA24|       NULL|             Reg|    0.069909188|Soft Drinks|163.2868|           OUT019|                     1985|      Small|              Tier 1|    Grocery Store|         491.3604| new|2025-03-10|2025-03-17| 03-03-2025|       7|     Veg|1179.1660000000002|\n",
            "|          DRA24|      19.35|             Reg|    0.066831682|Soft Drinks|163.8868|           OUT010|                     1998|       NULL|              Tier 3|    Grocery Store|         327.5736| new|2025-03-10|2025-03-17| 03-03-2025|       7|     Veg|1343.0528000000002|\n",
            "|          DRA24|       NULL|             Reg|    0.039734882|Soft Drinks|165.7868|           OUT027|                     1985|     Medium|              Tier 3|Supermarket Type3|         4913.604| new|2025-03-10|2025-03-17| 03-03-2025|       7|     Veg|1508.8396000000002|\n",
            "|          DRA24|      19.35|             Reg|    0.039920687|Soft Drinks|163.3868|           OUT035|                     2004|      Small|              Tier 2|Supermarket Type1|        3439.5228| new|2025-03-10|2025-03-17| 03-03-2025|       7|     Veg|1672.2264000000002|\n",
            "|          DRA24|      19.35|             Reg|    0.039990314|Soft Drinks|165.0868|           OUT049|                     1999|     Medium|              Tier 1|Supermarket Type1|         982.7208| new|2025-03-10|2025-03-17| 03-03-2025|       7|     Veg|1837.3132000000003|\n",
            "|          DRA24|      19.35|             Reg|    0.039895009|Soft Drinks|162.4868|           OUT013|                     1987|       High|              Tier 3|Supermarket Type1|        4422.2436| new|2025-03-10|2025-03-17| 03-03-2025|       7|     Veg|1999.8000000000002|\n",
            "|          DRA59|       8.27|             Reg|    0.127927931|Soft Drinks|184.8924|           OUT046|                     1997|      Small|              Tier 1|Supermarket Type1|        4442.2176| new|2025-03-10|2025-03-17| 03-03-2025|       7|     Veg|2184.6924000000004|\n",
            "|          DRA59|       8.27|             Reg|    0.128126825|Soft Drinks|183.6924|           OUT049|                     1999|     Medium|              Tier 1|Supermarket Type1|        1295.6468| new|2025-03-10|2025-03-17| 03-03-2025|       7|     Veg|2368.3848000000003|\n",
            "|          DRA59|       8.27|             Reg|    0.127821472|Soft Drinks|185.9924|           OUT013|                     1987|       High|              Tier 3|Supermarket Type1|         555.2772| new|2025-03-10|2025-03-17| 03-03-2025|       7|     Veg|2554.3772000000004|\n",
            "|          DRA59|       8.27|             Reg|            0.0|Soft Drinks|183.2924|           OUT017|                     2007|       NULL|              Tier 2|Supermarket Type1|        2406.2012| new|2025-03-10|2025-03-17| 03-03-2025|       7|     Veg|         2737.6696|\n",
            "|          DRA59|       NULL|             Reg|    0.127308434|Soft Drinks|186.6924|           OUT027|                     1985|     Medium|              Tier 3|Supermarket Type3|        7033.5112| new|2025-03-10|2025-03-17| 03-03-2025|       7|     Veg|          2924.362|\n",
            "|          DRA59|       NULL|             Reg|    0.223985293|Soft Drinks|186.2924|           OUT019|                     1985|      Small|              Tier 1|    Grocery Store|         555.2772| new|2025-03-10|2025-03-17| 03-03-2025|       7|     Veg|         3110.6544|\n",
            "|          DRA59|       8.27|             Reg|    0.128449055|Soft Drinks|186.5924|           OUT018|                     2009|     Medium|              Tier 3|Supermarket Type2|        4442.2176| new|2025-03-10|2025-03-17| 03-03-2025|       7|     Veg|         3297.2468|\n",
            "+---------------+-----------+----------------+---------------+-----------+--------+-----------------+-------------------------+-----------+--------------------+-----------------+-----------------+----+----------+----------+-----------+--------+--------+------------------+\n",
            "only showing top 20 rows\n",
            "\n"
          ]
        }
      ]
    },
    {
      "cell_type": "code",
      "source": [
        "#### Cumulative Sum"
      ],
      "metadata": {
        "id": "OlEA64FkRjzB"
      },
      "execution_count": 155,
      "outputs": []
    },
    {
      "cell_type": "code",
      "source": [
        "df.withColumn('cumsum',sum('Item_MRP').over(Window.orderBy('Item_Type'))).show()"
      ],
      "metadata": {
        "colab": {
          "base_uri": "https://localhost:8080/"
        },
        "id": "tPTrJOqkRlOO",
        "outputId": "5ee40f60-c526-481c-ceb3-dee4089a936a"
      },
      "execution_count": 156,
      "outputs": [
        {
          "output_type": "stream",
          "name": "stdout",
          "text": [
            "+---------------+-----------+----------------+---------------+------------+--------+-----------------+-------------------------+-----------+--------------------+-----------------+-----------------+----+----------+----------+-----------+--------+--------+-----------------+\n",
            "|Item_Identifier|Item_Weight|Item_Fat_Content|Item_Visibility|   Item_Type|Item_MRP|Outlet_Identifier|Outlet_Establishment_Year|Outlet_Size|Outlet_Location_Type|      Outlet_Type|Item_Outlet_Sales|flag| curr_date|week_after|week_before|datediff|veg_flag|           cumsum|\n",
            "+---------------+-----------+----------------+---------------+------------+--------+-----------------+-------------------------+-----------+--------------------+-----------------+-----------------+----+----------+----------+-----------+--------+--------+-----------------+\n",
            "|          FDP36|     10.395|             Reg|            0.0|Baking Goods| 51.4008|           OUT018|                     2009|     Medium|              Tier 3|Supermarket Type2|         556.6088| new|2025-03-10|2025-03-17| 03-03-2025|       7|     Veg|81894.73640000001|\n",
            "|          FDW12|       NULL|             Reg|    0.035399923|Baking Goods|144.5444|           OUT027|                     1985|     Medium|              Tier 3|Supermarket Type3|        4064.0432| new|2025-03-10|2025-03-17| 03-03-2025|       7|     Veg|81894.73640000001|\n",
            "|          FDC37|       NULL|              Lf|    0.057556998|Baking Goods|107.6938|           OUT019|                     1985|      Small|              Tier 1|    Grocery Store|         214.3876| new|2025-03-10|2025-03-17| 03-03-2025|       7|     Veg|81894.73640000001|\n",
            "|          FDL12|      15.85|             Reg|    0.121632721|Baking Goods|  60.622|           OUT046|                     1997|      Small|              Tier 1|Supermarket Type1|         2576.646| new|2025-03-10|2025-03-17| 03-03-2025|       7|     Veg|81894.73640000001|\n",
            "|          FDL12|      15.85|             Reg|    0.121531501|Baking Goods|  59.222|           OUT013|                     1987|       High|              Tier 3|Supermarket Type1|           599.22| new|2025-03-10|2025-03-17| 03-03-2025|       7|     Veg|81894.73640000001|\n",
            "|          FDN48|       NULL|              Lf|    0.113720344|Baking Goods| 89.9804|           OUT019|                     1985|      Small|              Tier 1|    Grocery Store|         643.1628| new|2025-03-10|2025-03-17| 03-03-2025|       7|     Veg|81894.73640000001|\n",
            "|          FDR12|       NULL|             Reg|    0.031382044|Baking Goods|171.3764|           OUT027|                     1985|     Medium|              Tier 3|Supermarket Type3|        3091.9752| new|2025-03-10|2025-03-17| 03-03-2025|       7|     Veg|81894.73640000001|\n",
            "|          FDA47|       10.5|             Reg|    0.116576702|Baking Goods| 163.121|           OUT013|                     1987|       High|              Tier 3|Supermarket Type1|         1794.331| new|2025-03-10|2025-03-17| 03-03-2025|       7|     Veg|81894.73640000001|\n",
            "|          FDG12|      6.635|             Reg|            0.0|Baking Goods|121.3098|           OUT045|                     2002|       NULL|              Tier 2|Supermarket Type1|        2530.7058| new|2025-03-10|2025-03-17| 03-03-2025|       7|     Veg|81894.73640000001|\n",
            "|          FDB36|      5.465|             Reg|            0.0|Baking Goods|132.5626|           OUT018|                     2009|     Medium|              Tier 3|Supermarket Type2|         262.3252| new|2025-03-10|2025-03-17| 03-03-2025|       7|     Veg|81894.73640000001|\n",
            "|          FDO24|       11.1|              Lf|    0.176573035|Baking Goods|157.4604|           OUT045|                     2002|       NULL|              Tier 2|Supermarket Type1|        3010.7476| new|2025-03-10|2025-03-17| 03-03-2025|       7|     Veg|81894.73640000001|\n",
            "|          FDT12|       NULL|             Reg|    0.049381406|Baking Goods|226.8062|           OUT027|                     1985|     Medium|              Tier 3|Supermarket Type3|        4739.8302| new|2025-03-10|2025-03-17| 03-03-2025|       7|     Veg|81894.73640000001|\n",
            "|          FDE36|       5.26|             Reg|    0.041764487|Baking Goods|161.8868|           OUT035|                     2004|      Small|              Tier 2|Supermarket Type1|         3275.736| new|2025-03-10|2025-03-17| 03-03-2025|       7|     Veg|81894.73640000001|\n",
            "|          FDI24|       NULL|              Lf|    0.078362484|Baking Goods| 177.937|           OUT027|                     1985|     Medium|              Tier 3|Supermarket Type3|         6704.606| new|2025-03-10|2025-03-17| 03-03-2025|       7|     Veg|81894.73640000001|\n",
            "|          FDF24|       15.5|             Reg|    0.042464962|Baking Goods| 81.5934|           OUT010|                     1998|       NULL|              Tier 3|    Grocery Store|         327.5736| new|2025-03-10|2025-03-17| 03-03-2025|       7|     Veg|81894.73640000001|\n",
            "|          FDY24|       4.88|             Reg|    0.133700752|Baking Goods| 52.9298|           OUT049|                     1999|     Medium|              Tier 1|Supermarket Type1|        1995.4026| new|2025-03-10|2025-03-17| 03-03-2025|       7|     Veg|81894.73640000001|\n",
            "|          FDC60|      5.425|             Reg|    0.115119905|Baking Goods| 88.3514|           OUT017|                     2007|       NULL|              Tier 2|Supermarket Type1|        1416.8224| new|2025-03-10|2025-03-17| 03-03-2025|       7|     Veg|81894.73640000001|\n",
            "|          FDS12|        9.1|              Lf|    0.175103435|Baking Goods|127.5362|           OUT017|                     2007|       NULL|              Tier 2|Supermarket Type1|        4655.9394| new|2025-03-10|2025-03-17| 03-03-2025|       7|     Veg|81894.73640000001|\n",
            "|          FDG24|      7.975|              Lf|    0.014618973|Baking Goods|  85.225|           OUT013|                     1987|       High|              Tier 3|Supermarket Type1|         1081.925| new|2025-03-10|2025-03-17| 03-03-2025|       7|     Veg|81894.73640000001|\n",
            "|          FDV60|       NULL|             Reg|     0.11679292|Baking Goods| 196.211|           OUT027|                     1985|     Medium|              Tier 3|Supermarket Type3|         5499.508| new|2025-03-10|2025-03-17| 03-03-2025|       7|     Veg|81894.73640000001|\n",
            "+---------------+-----------+----------------+---------------+------------+--------+-----------------+-------------------------+-----------+--------------------+-----------------+-----------------+----+----------+----------+-----------+--------+--------+-----------------+\n",
            "only showing top 20 rows\n",
            "\n"
          ]
        }
      ]
    },
    {
      "cell_type": "code",
      "source": [
        "df.withColumn('cumsum',sum('Item_MRP').over(Window.orderBy('Item_Type').rowsBetween(Window.unboundedPreceding,Window.currentRow))).show()"
      ],
      "metadata": {
        "colab": {
          "base_uri": "https://localhost:8080/"
        },
        "id": "EUaKDSHaRnTE",
        "outputId": "0701df4d-d420-4cdc-f876-6859c6513416"
      },
      "execution_count": 157,
      "outputs": [
        {
          "output_type": "stream",
          "name": "stdout",
          "text": [
            "+---------------+-----------+----------------+---------------+------------+--------+-----------------+-------------------------+-----------+--------------------+-----------------+-----------------+----+----------+----------+-----------+--------+--------+------------------+\n",
            "|Item_Identifier|Item_Weight|Item_Fat_Content|Item_Visibility|   Item_Type|Item_MRP|Outlet_Identifier|Outlet_Establishment_Year|Outlet_Size|Outlet_Location_Type|      Outlet_Type|Item_Outlet_Sales|flag| curr_date|week_after|week_before|datediff|veg_flag|            cumsum|\n",
            "+---------------+-----------+----------------+---------------+------------+--------+-----------------+-------------------------+-----------+--------------------+-----------------+-----------------+----+----------+----------+-----------+--------+--------+------------------+\n",
            "|          FDP36|     10.395|             Reg|            0.0|Baking Goods| 51.4008|           OUT018|                     2009|     Medium|              Tier 3|Supermarket Type2|         556.6088| new|2025-03-10|2025-03-17| 03-03-2025|       7|     Veg|           51.4008|\n",
            "|          FDW12|       NULL|             Reg|    0.035399923|Baking Goods|144.5444|           OUT027|                     1985|     Medium|              Tier 3|Supermarket Type3|        4064.0432| new|2025-03-10|2025-03-17| 03-03-2025|       7|     Veg|          195.9452|\n",
            "|          FDC37|       NULL|              Lf|    0.057556998|Baking Goods|107.6938|           OUT019|                     1985|      Small|              Tier 1|    Grocery Store|         214.3876| new|2025-03-10|2025-03-17| 03-03-2025|       7|     Veg|           303.639|\n",
            "|          FDL12|      15.85|             Reg|    0.121632721|Baking Goods|  60.622|           OUT046|                     1997|      Small|              Tier 1|Supermarket Type1|         2576.646| new|2025-03-10|2025-03-17| 03-03-2025|       7|     Veg|           364.261|\n",
            "|          FDL12|      15.85|             Reg|    0.121531501|Baking Goods|  59.222|           OUT013|                     1987|       High|              Tier 3|Supermarket Type1|           599.22| new|2025-03-10|2025-03-17| 03-03-2025|       7|     Veg|           423.483|\n",
            "|          FDN48|       NULL|              Lf|    0.113720344|Baking Goods| 89.9804|           OUT019|                     1985|      Small|              Tier 1|    Grocery Store|         643.1628| new|2025-03-10|2025-03-17| 03-03-2025|       7|     Veg|          513.4634|\n",
            "|          FDR12|       NULL|             Reg|    0.031382044|Baking Goods|171.3764|           OUT027|                     1985|     Medium|              Tier 3|Supermarket Type3|        3091.9752| new|2025-03-10|2025-03-17| 03-03-2025|       7|     Veg|          684.8398|\n",
            "|          FDA47|       10.5|             Reg|    0.116576702|Baking Goods| 163.121|           OUT013|                     1987|       High|              Tier 3|Supermarket Type1|         1794.331| new|2025-03-10|2025-03-17| 03-03-2025|       7|     Veg|          847.9608|\n",
            "|          FDG12|      6.635|             Reg|            0.0|Baking Goods|121.3098|           OUT045|                     2002|       NULL|              Tier 2|Supermarket Type1|        2530.7058| new|2025-03-10|2025-03-17| 03-03-2025|       7|     Veg|          969.2706|\n",
            "|          FDB36|      5.465|             Reg|            0.0|Baking Goods|132.5626|           OUT018|                     2009|     Medium|              Tier 3|Supermarket Type2|         262.3252| new|2025-03-10|2025-03-17| 03-03-2025|       7|     Veg|         1101.8332|\n",
            "|          FDO24|       11.1|              Lf|    0.176573035|Baking Goods|157.4604|           OUT045|                     2002|       NULL|              Tier 2|Supermarket Type1|        3010.7476| new|2025-03-10|2025-03-17| 03-03-2025|       7|     Veg|         1259.2936|\n",
            "|          FDT12|       NULL|             Reg|    0.049381406|Baking Goods|226.8062|           OUT027|                     1985|     Medium|              Tier 3|Supermarket Type3|        4739.8302| new|2025-03-10|2025-03-17| 03-03-2025|       7|     Veg|         1486.0998|\n",
            "|          FDE36|       5.26|             Reg|    0.041764487|Baking Goods|161.8868|           OUT035|                     2004|      Small|              Tier 2|Supermarket Type1|         3275.736| new|2025-03-10|2025-03-17| 03-03-2025|       7|     Veg|         1647.9866|\n",
            "|          FDI24|       NULL|              Lf|    0.078362484|Baking Goods| 177.937|           OUT027|                     1985|     Medium|              Tier 3|Supermarket Type3|         6704.606| new|2025-03-10|2025-03-17| 03-03-2025|       7|     Veg|         1825.9236|\n",
            "|          FDF24|       15.5|             Reg|    0.042464962|Baking Goods| 81.5934|           OUT010|                     1998|       NULL|              Tier 3|    Grocery Store|         327.5736| new|2025-03-10|2025-03-17| 03-03-2025|       7|     Veg|          1907.517|\n",
            "|          FDY24|       4.88|             Reg|    0.133700752|Baking Goods| 52.9298|           OUT049|                     1999|     Medium|              Tier 1|Supermarket Type1|        1995.4026| new|2025-03-10|2025-03-17| 03-03-2025|       7|     Veg|1960.4468000000002|\n",
            "|          FDC60|      5.425|             Reg|    0.115119905|Baking Goods| 88.3514|           OUT017|                     2007|       NULL|              Tier 2|Supermarket Type1|        1416.8224| new|2025-03-10|2025-03-17| 03-03-2025|       7|     Veg|         2048.7982|\n",
            "|          FDS12|        9.1|              Lf|    0.175103435|Baking Goods|127.5362|           OUT017|                     2007|       NULL|              Tier 2|Supermarket Type1|        4655.9394| new|2025-03-10|2025-03-17| 03-03-2025|       7|     Veg|         2176.3344|\n",
            "|          FDG24|      7.975|              Lf|    0.014618973|Baking Goods|  85.225|           OUT013|                     1987|       High|              Tier 3|Supermarket Type1|         1081.925| new|2025-03-10|2025-03-17| 03-03-2025|       7|     Veg|         2261.5594|\n",
            "|          FDV60|       NULL|             Reg|     0.11679292|Baking Goods| 196.211|           OUT027|                     1985|     Medium|              Tier 3|Supermarket Type3|         5499.508| new|2025-03-10|2025-03-17| 03-03-2025|       7|     Veg|2457.7704000000003|\n",
            "+---------------+-----------+----------------+---------------+------------+--------+-----------------+-------------------------+-----------+--------------------+-----------------+-----------------+----+----------+----------+-----------+--------+--------+------------------+\n",
            "only showing top 20 rows\n",
            "\n"
          ]
        }
      ]
    },
    {
      "cell_type": "code",
      "source": [
        "df.withColumn('totalsum',sum('Item_MRP').over(Window.orderBy('Item_Type').rowsBetween(Window.unboundedPreceding,Window.unboundedFollowing))).show()"
      ],
      "metadata": {
        "colab": {
          "base_uri": "https://localhost:8080/"
        },
        "id": "6ojkLY0ORpQH",
        "outputId": "dd565f6f-e4c5-457a-a352-7222ff3c818a"
      },
      "execution_count": 158,
      "outputs": [
        {
          "output_type": "stream",
          "name": "stdout",
          "text": [
            "+---------------+-----------+----------------+---------------+------------+--------+-----------------+-------------------------+-----------+--------------------+-----------------+-----------------+----+----------+----------+-----------+--------+--------+------------------+\n",
            "|Item_Identifier|Item_Weight|Item_Fat_Content|Item_Visibility|   Item_Type|Item_MRP|Outlet_Identifier|Outlet_Establishment_Year|Outlet_Size|Outlet_Location_Type|      Outlet_Type|Item_Outlet_Sales|flag| curr_date|week_after|week_before|datediff|veg_flag|          totalsum|\n",
            "+---------------+-----------+----------------+---------------+------------+--------+-----------------+-------------------------+-----------+--------------------+-----------------+-----------------+----+----------+----------+-----------+--------+--------+------------------+\n",
            "|          FDP36|     10.395|             Reg|            0.0|Baking Goods| 51.4008|           OUT018|                     2009|     Medium|              Tier 3|Supermarket Type2|         556.6088| new|2025-03-10|2025-03-17| 03-03-2025|       7|     Veg|1201681.4808000019|\n",
            "|          FDW12|       NULL|             Reg|    0.035399923|Baking Goods|144.5444|           OUT027|                     1985|     Medium|              Tier 3|Supermarket Type3|        4064.0432| new|2025-03-10|2025-03-17| 03-03-2025|       7|     Veg|1201681.4808000019|\n",
            "|          FDC37|       NULL|              Lf|    0.057556998|Baking Goods|107.6938|           OUT019|                     1985|      Small|              Tier 1|    Grocery Store|         214.3876| new|2025-03-10|2025-03-17| 03-03-2025|       7|     Veg|1201681.4808000019|\n",
            "|          FDL12|      15.85|             Reg|    0.121632721|Baking Goods|  60.622|           OUT046|                     1997|      Small|              Tier 1|Supermarket Type1|         2576.646| new|2025-03-10|2025-03-17| 03-03-2025|       7|     Veg|1201681.4808000019|\n",
            "|          FDL12|      15.85|             Reg|    0.121531501|Baking Goods|  59.222|           OUT013|                     1987|       High|              Tier 3|Supermarket Type1|           599.22| new|2025-03-10|2025-03-17| 03-03-2025|       7|     Veg|1201681.4808000019|\n",
            "|          FDN48|       NULL|              Lf|    0.113720344|Baking Goods| 89.9804|           OUT019|                     1985|      Small|              Tier 1|    Grocery Store|         643.1628| new|2025-03-10|2025-03-17| 03-03-2025|       7|     Veg|1201681.4808000019|\n",
            "|          FDR12|       NULL|             Reg|    0.031382044|Baking Goods|171.3764|           OUT027|                     1985|     Medium|              Tier 3|Supermarket Type3|        3091.9752| new|2025-03-10|2025-03-17| 03-03-2025|       7|     Veg|1201681.4808000019|\n",
            "|          FDA47|       10.5|             Reg|    0.116576702|Baking Goods| 163.121|           OUT013|                     1987|       High|              Tier 3|Supermarket Type1|         1794.331| new|2025-03-10|2025-03-17| 03-03-2025|       7|     Veg|1201681.4808000019|\n",
            "|          FDG12|      6.635|             Reg|            0.0|Baking Goods|121.3098|           OUT045|                     2002|       NULL|              Tier 2|Supermarket Type1|        2530.7058| new|2025-03-10|2025-03-17| 03-03-2025|       7|     Veg|1201681.4808000019|\n",
            "|          FDB36|      5.465|             Reg|            0.0|Baking Goods|132.5626|           OUT018|                     2009|     Medium|              Tier 3|Supermarket Type2|         262.3252| new|2025-03-10|2025-03-17| 03-03-2025|       7|     Veg|1201681.4808000019|\n",
            "|          FDO24|       11.1|              Lf|    0.176573035|Baking Goods|157.4604|           OUT045|                     2002|       NULL|              Tier 2|Supermarket Type1|        3010.7476| new|2025-03-10|2025-03-17| 03-03-2025|       7|     Veg|1201681.4808000019|\n",
            "|          FDT12|       NULL|             Reg|    0.049381406|Baking Goods|226.8062|           OUT027|                     1985|     Medium|              Tier 3|Supermarket Type3|        4739.8302| new|2025-03-10|2025-03-17| 03-03-2025|       7|     Veg|1201681.4808000019|\n",
            "|          FDE36|       5.26|             Reg|    0.041764487|Baking Goods|161.8868|           OUT035|                     2004|      Small|              Tier 2|Supermarket Type1|         3275.736| new|2025-03-10|2025-03-17| 03-03-2025|       7|     Veg|1201681.4808000019|\n",
            "|          FDI24|       NULL|              Lf|    0.078362484|Baking Goods| 177.937|           OUT027|                     1985|     Medium|              Tier 3|Supermarket Type3|         6704.606| new|2025-03-10|2025-03-17| 03-03-2025|       7|     Veg|1201681.4808000019|\n",
            "|          FDF24|       15.5|             Reg|    0.042464962|Baking Goods| 81.5934|           OUT010|                     1998|       NULL|              Tier 3|    Grocery Store|         327.5736| new|2025-03-10|2025-03-17| 03-03-2025|       7|     Veg|1201681.4808000019|\n",
            "|          FDY24|       4.88|             Reg|    0.133700752|Baking Goods| 52.9298|           OUT049|                     1999|     Medium|              Tier 1|Supermarket Type1|        1995.4026| new|2025-03-10|2025-03-17| 03-03-2025|       7|     Veg|1201681.4808000019|\n",
            "|          FDC60|      5.425|             Reg|    0.115119905|Baking Goods| 88.3514|           OUT017|                     2007|       NULL|              Tier 2|Supermarket Type1|        1416.8224| new|2025-03-10|2025-03-17| 03-03-2025|       7|     Veg|1201681.4808000019|\n",
            "|          FDS12|        9.1|              Lf|    0.175103435|Baking Goods|127.5362|           OUT017|                     2007|       NULL|              Tier 2|Supermarket Type1|        4655.9394| new|2025-03-10|2025-03-17| 03-03-2025|       7|     Veg|1201681.4808000019|\n",
            "|          FDG24|      7.975|              Lf|    0.014618973|Baking Goods|  85.225|           OUT013|                     1987|       High|              Tier 3|Supermarket Type1|         1081.925| new|2025-03-10|2025-03-17| 03-03-2025|       7|     Veg|1201681.4808000019|\n",
            "|          FDV60|       NULL|             Reg|     0.11679292|Baking Goods| 196.211|           OUT027|                     1985|     Medium|              Tier 3|Supermarket Type3|         5499.508| new|2025-03-10|2025-03-17| 03-03-2025|       7|     Veg|1201681.4808000019|\n",
            "+---------------+-----------+----------------+---------------+------------+--------+-----------------+-------------------------+-----------+--------------------+-----------------+-----------------+----+----------+----------+-----------+--------+--------+------------------+\n",
            "only showing top 20 rows\n",
            "\n"
          ]
        }
      ]
    },
    {
      "cell_type": "code",
      "source": [
        "### USER DEFINED FUNCTIONS (UDF)"
      ],
      "metadata": {
        "id": "xmd5JZ0RRrsu"
      },
      "execution_count": 159,
      "outputs": []
    },
    {
      "cell_type": "code",
      "source": [
        "#### STEP - 1"
      ],
      "metadata": {
        "id": "Zl-Upv_TRthZ"
      },
      "execution_count": 160,
      "outputs": []
    },
    {
      "cell_type": "code",
      "source": [
        "def my_func(x):\n",
        "    return x*x"
      ],
      "metadata": {
        "id": "WR5iFyL6RvBl"
      },
      "execution_count": 161,
      "outputs": []
    },
    {
      "cell_type": "code",
      "source": [
        "#### STEP - 2"
      ],
      "metadata": {
        "id": "e5c1s4PWRv-y"
      },
      "execution_count": 162,
      "outputs": []
    },
    {
      "cell_type": "code",
      "source": [
        "my_udf = udf(my_func)"
      ],
      "metadata": {
        "id": "TQj1o8lZRxOD"
      },
      "execution_count": 163,
      "outputs": []
    },
    {
      "cell_type": "code",
      "source": [
        "df.withColumn('mynewcol',my_udf('Item_MRP')).show()"
      ],
      "metadata": {
        "colab": {
          "base_uri": "https://localhost:8080/"
        },
        "id": "ON80CDPZRy3c",
        "outputId": "02c52016-dfd3-4b51-e6e3-49a612de9a81"
      },
      "execution_count": 164,
      "outputs": [
        {
          "output_type": "stream",
          "name": "stdout",
          "text": [
            "+---------------+-----------+----------------+---------------+--------------------+--------+-----------------+-------------------------+-----------+--------------------+-----------------+-----------------+----+----------+----------+-----------+--------+--------+------------------+\n",
            "|Item_Identifier|Item_Weight|Item_Fat_Content|Item_Visibility|           Item_Type|Item_MRP|Outlet_Identifier|Outlet_Establishment_Year|Outlet_Size|Outlet_Location_Type|      Outlet_Type|Item_Outlet_Sales|flag| curr_date|week_after|week_before|datediff|veg_flag|          mynewcol|\n",
            "+---------------+-----------+----------------+---------------+--------------------+--------+-----------------+-------------------------+-----------+--------------------+-----------------+-----------------+----+----------+----------+-----------+--------+--------+------------------+\n",
            "|          FDA15|        9.3|              Lf|    0.016047301|               Dairy|249.8092|           OUT049|                     1999|     Medium|              Tier 1|Supermarket Type1|         3735.138| new|2025-03-10|2025-03-17| 03-03-2025|       7|     Veg|62404.636404640005|\n",
            "|          DRC01|       5.92|             Reg|    0.019278216|         Soft Drinks| 48.2692|           OUT018|                     2009|     Medium|              Tier 3|Supermarket Type2|         443.4228| new|2025-03-10|2025-03-17| 03-03-2025|       7|     Veg|2329.9156686399997|\n",
            "|          FDN15|       17.5|              Lf|    0.016760075|                Meat| 141.618|           OUT049|                     1999|     Medium|              Tier 1|Supermarket Type1|          2097.27| new|2025-03-10|2025-03-17| 03-03-2025|       7| Non-Veg|      20055.657924|\n",
            "|          FDX07|       19.2|             Reg|            0.0|Fruits and Vegeta...| 182.095|           OUT010|                     1998|       NULL|              Tier 3|    Grocery Store|           732.38| new|2025-03-10|2025-03-17| 03-03-2025|       7|     Veg|      33158.589025|\n",
            "|          NCD19|       8.93|              Lf|            0.0|           Household| 53.8614|           OUT013|                     1987|       High|              Tier 3|Supermarket Type1|         994.7052| new|2025-03-10|2025-03-17| 03-03-2025|       7|     Veg|2901.0504099600003|\n",
            "|          FDP36|     10.395|             Reg|            0.0|        Baking Goods| 51.4008|           OUT018|                     2009|     Medium|              Tier 3|Supermarket Type2|         556.6088| new|2025-03-10|2025-03-17| 03-03-2025|       7|     Veg|     2642.04224064|\n",
            "|          FDO10|      13.65|             Reg|    0.012741089|         Snack Foods| 57.6588|           OUT013|                     1987|       High|              Tier 3|Supermarket Type1|         343.5528| new|2025-03-10|2025-03-17| 03-03-2025|       7|     Veg|     3324.53721744|\n",
            "|          FDP10|       NULL|              Lf|    0.127469857|         Snack Foods|107.7622|           OUT027|                     1985|     Medium|              Tier 3|Supermarket Type3|        4022.7636| new|2025-03-10|2025-03-17| 03-03-2025|       7|     Veg|11612.691748840001|\n",
            "|          FDH17|       16.2|             Reg|    0.016687114|        Frozen Foods| 96.9726|           OUT045|                     2002|       NULL|              Tier 2|Supermarket Type1|        1076.5986| new|2025-03-10|2025-03-17| 03-03-2025|       7|     Veg|     9403.68515076|\n",
            "|          FDU28|       19.2|             Reg|     0.09444959|        Frozen Foods|187.8214|           OUT017|                     2007|       NULL|              Tier 2|Supermarket Type1|         4710.535| new|2025-03-10|2025-03-17| 03-03-2025|       7|     Veg| 35276.87829796001|\n",
            "|          FDY07|       11.8|              Lf|            0.0|Fruits and Vegeta...| 45.5402|           OUT049|                     1999|     Medium|              Tier 1|Supermarket Type1|        1516.0266| new|2025-03-10|2025-03-17| 03-03-2025|       7|     Veg|     2073.90981604|\n",
            "|          FDA03|       18.5|             Reg|    0.045463773|               Dairy|144.1102|           OUT046|                     1997|      Small|              Tier 1|Supermarket Type1|         2187.153| new|2025-03-10|2025-03-17| 03-03-2025|       7|     Veg|20767.749744039997|\n",
            "|          FDX32|       15.1|             Reg|      0.1000135|Fruits and Vegeta...|145.4786|           OUT049|                     1999|     Medium|              Tier 1|Supermarket Type1|        1589.2646| new|2025-03-10|2025-03-17| 03-03-2025|       7|     Veg|    21164.02305796|\n",
            "|          FDS46|       17.6|             Reg|    0.047257328|         Snack Foods|119.6782|           OUT046|                     1997|      Small|              Tier 1|Supermarket Type1|        2145.2076| new|2025-03-10|2025-03-17| 03-03-2025|       7|     Veg|    14322.87155524|\n",
            "|          FDF32|      16.35|              Lf|      0.0680243|Fruits and Vegeta...|196.4426|           OUT013|                     1987|       High|              Tier 3|Supermarket Type1|         1977.426| new|2025-03-10|2025-03-17| 03-03-2025|       7|     Veg|    38589.69509476|\n",
            "|          FDP49|          9|             Reg|    0.069088961|           Breakfast| 56.3614|           OUT046|                     1997|      Small|              Tier 1|Supermarket Type1|        1547.3192| new|2025-03-10|2025-03-17| 03-03-2025|       7|     Veg|3176.6074099600005|\n",
            "|          NCB42|       11.8|              Lf|    0.008596051|  Health and Hygiene|115.3492|           OUT018|                     2009|     Medium|              Tier 3|Supermarket Type2|        1621.8888| new|2025-03-10|2025-03-17| 03-03-2025|       7|     Veg|13305.437940639998|\n",
            "|          FDP49|          9|             Reg|    0.069196376|           Breakfast| 54.3614|           OUT049|                     1999|     Medium|              Tier 1|Supermarket Type1|         718.3982| new|2025-03-10|2025-03-17| 03-03-2025|       7|     Veg|2955.1618099600005|\n",
            "|          DRI11|       NULL|              Lf|    0.034237682|         Hard Drinks|113.2834|           OUT027|                     1985|     Medium|              Tier 3|Supermarket Type3|         2303.668| new|2025-03-10|2025-03-17| 03-03-2025|       7|     Veg|    12833.12871556|\n",
            "|          FDU02|      13.35|              Lf|     0.10249212|               Dairy|230.5352|           OUT035|                     2004|      Small|              Tier 2|Supermarket Type1|        2748.4224| new|2025-03-10|2025-03-17| 03-03-2025|       7|     Veg|    53146.47843904|\n",
            "+---------------+-----------+----------------+---------------+--------------------+--------+-----------------+-------------------------+-----------+--------------------+-----------------+-----------------+----+----------+----------+-----------+--------+--------+------------------+\n",
            "only showing top 20 rows\n",
            "\n"
          ]
        }
      ]
    },
    {
      "cell_type": "code",
      "source": [
        "### DATA WRITING"
      ],
      "metadata": {
        "id": "St8LLg15R0eK"
      },
      "execution_count": 165,
      "outputs": []
    },
    {
      "cell_type": "code",
      "source": [
        "#### CSV"
      ],
      "metadata": {
        "id": "wltvP40qR17i"
      },
      "execution_count": 166,
      "outputs": []
    },
    {
      "cell_type": "code",
      "source": [
        "df.write.format('csv')\\\n",
        "        .save('/content/drive/MyDrive/InfoObjects/data.csv')"
      ],
      "metadata": {
        "id": "DCzl_Vx0R262"
      },
      "execution_count": 167,
      "outputs": []
    },
    {
      "cell_type": "code",
      "source": [
        "df.write.format('csv')\\\n",
        "        .mode('append')\\\n",
        "        .save('/content/drive/MyDrive/InfoObjects/data.csv')"
      ],
      "metadata": {
        "id": "0E28DM_WR763"
      },
      "execution_count": 168,
      "outputs": []
    },
    {
      "cell_type": "code",
      "source": [
        "df.write.format('csv')\\\n",
        "        .mode('append')\\\n",
        "        .option('path','/content/drive/MyDrive/InfoObjects/data.csv')\\\n",
        "        .save()"
      ],
      "metadata": {
        "id": "Z4g-5IJeR_oq"
      },
      "execution_count": 169,
      "outputs": []
    },
    {
      "cell_type": "code",
      "source": [
        "#### Overwrite"
      ],
      "metadata": {
        "id": "Kv5RNA2eSFHV"
      },
      "execution_count": 170,
      "outputs": []
    },
    {
      "cell_type": "code",
      "source": [
        "df.write.format('csv')\\\n",
        ".mode('overwrite')\\\n",
        ".option('path','/content/drive/MyDrive/InfoObjects/data.csv')\\\n",
        ".save()"
      ],
      "metadata": {
        "id": "LGoZo3f7SHxC"
      },
      "execution_count": 171,
      "outputs": []
    },
    {
      "cell_type": "code",
      "source": [
        "#### Error"
      ],
      "metadata": {
        "id": "Vq9sBErySLly"
      },
      "execution_count": 172,
      "outputs": []
    },
    {
      "cell_type": "code",
      "source": [
        "df.write.format('csv')\\\n",
        ".mode('error')\\\n",
        ".option('path','/content/drive/MyDrive/InfoObjects/datas.csv')\\\n",
        ".save()"
      ],
      "metadata": {
        "id": "mXxZu9NuSM4x"
      },
      "execution_count": 174,
      "outputs": []
    },
    {
      "cell_type": "code",
      "source": [
        "#### Ignore"
      ],
      "metadata": {
        "id": "JmiodpJzSQgp"
      },
      "execution_count": 177,
      "outputs": []
    },
    {
      "cell_type": "code",
      "source": [
        "df.write.format('csv')\\\n",
        ".mode('ignore')\\\n",
        ".option('path','/content/drive/MyDrive/InfoObjects/datas.csv')\\\n",
        ".save()"
      ],
      "metadata": {
        "id": "Ka2sLqy0SXES"
      },
      "execution_count": 178,
      "outputs": []
    },
    {
      "cell_type": "code",
      "source": [
        "#### PARQUET"
      ],
      "metadata": {
        "id": "yDTLJJBKSZ_d"
      },
      "execution_count": 179,
      "outputs": []
    },
    {
      "cell_type": "code",
      "source": [
        "df.write.format('parquet')\\\n",
        ".mode('overwrite')\\\n",
        ".option('path','/content/drive/MyDrive/InfoObjects/datas.csv')\\\n",
        ".save()"
      ],
      "metadata": {
        "id": "QZylsd5FSlt3"
      },
      "execution_count": 180,
      "outputs": []
    },
    {
      "cell_type": "code",
      "source": [
        "#### TABLE"
      ],
      "metadata": {
        "id": "X5935WumSocA"
      },
      "execution_count": 181,
      "outputs": []
    },
    {
      "cell_type": "code",
      "source": [
        "df.write.format('parquet')\\\n",
        ".mode('overwrite')\\\n",
        ".saveAsTable('my_table')"
      ],
      "metadata": {
        "id": "NmOMlFCISqA9"
      },
      "execution_count": 182,
      "outputs": []
    },
    {
      "cell_type": "code",
      "source": [
        "df.show()"
      ],
      "metadata": {
        "colab": {
          "base_uri": "https://localhost:8080/"
        },
        "id": "IQNPsvZ4SrWg",
        "outputId": "1c646720-1b48-47d7-a107-475650931cf9"
      },
      "execution_count": 183,
      "outputs": [
        {
          "output_type": "stream",
          "name": "stdout",
          "text": [
            "+---------------+-----------+----------------+---------------+--------------------+--------+-----------------+-------------------------+-----------+--------------------+-----------------+-----------------+----+----------+----------+-----------+--------+--------+\n",
            "|Item_Identifier|Item_Weight|Item_Fat_Content|Item_Visibility|           Item_Type|Item_MRP|Outlet_Identifier|Outlet_Establishment_Year|Outlet_Size|Outlet_Location_Type|      Outlet_Type|Item_Outlet_Sales|flag| curr_date|week_after|week_before|datediff|veg_flag|\n",
            "+---------------+-----------+----------------+---------------+--------------------+--------+-----------------+-------------------------+-----------+--------------------+-----------------+-----------------+----+----------+----------+-----------+--------+--------+\n",
            "|          FDA15|        9.3|              Lf|    0.016047301|               Dairy|249.8092|           OUT049|                     1999|     Medium|              Tier 1|Supermarket Type1|         3735.138| new|2025-03-10|2025-03-17| 03-03-2025|       7|     Veg|\n",
            "|          DRC01|       5.92|             Reg|    0.019278216|         Soft Drinks| 48.2692|           OUT018|                     2009|     Medium|              Tier 3|Supermarket Type2|         443.4228| new|2025-03-10|2025-03-17| 03-03-2025|       7|     Veg|\n",
            "|          FDN15|       17.5|              Lf|    0.016760075|                Meat| 141.618|           OUT049|                     1999|     Medium|              Tier 1|Supermarket Type1|          2097.27| new|2025-03-10|2025-03-17| 03-03-2025|       7| Non-Veg|\n",
            "|          FDX07|       19.2|             Reg|            0.0|Fruits and Vegeta...| 182.095|           OUT010|                     1998|       NULL|              Tier 3|    Grocery Store|           732.38| new|2025-03-10|2025-03-17| 03-03-2025|       7|     Veg|\n",
            "|          NCD19|       8.93|              Lf|            0.0|           Household| 53.8614|           OUT013|                     1987|       High|              Tier 3|Supermarket Type1|         994.7052| new|2025-03-10|2025-03-17| 03-03-2025|       7|     Veg|\n",
            "|          FDP36|     10.395|             Reg|            0.0|        Baking Goods| 51.4008|           OUT018|                     2009|     Medium|              Tier 3|Supermarket Type2|         556.6088| new|2025-03-10|2025-03-17| 03-03-2025|       7|     Veg|\n",
            "|          FDO10|      13.65|             Reg|    0.012741089|         Snack Foods| 57.6588|           OUT013|                     1987|       High|              Tier 3|Supermarket Type1|         343.5528| new|2025-03-10|2025-03-17| 03-03-2025|       7|     Veg|\n",
            "|          FDP10|       NULL|              Lf|    0.127469857|         Snack Foods|107.7622|           OUT027|                     1985|     Medium|              Tier 3|Supermarket Type3|        4022.7636| new|2025-03-10|2025-03-17| 03-03-2025|       7|     Veg|\n",
            "|          FDH17|       16.2|             Reg|    0.016687114|        Frozen Foods| 96.9726|           OUT045|                     2002|       NULL|              Tier 2|Supermarket Type1|        1076.5986| new|2025-03-10|2025-03-17| 03-03-2025|       7|     Veg|\n",
            "|          FDU28|       19.2|             Reg|     0.09444959|        Frozen Foods|187.8214|           OUT017|                     2007|       NULL|              Tier 2|Supermarket Type1|         4710.535| new|2025-03-10|2025-03-17| 03-03-2025|       7|     Veg|\n",
            "|          FDY07|       11.8|              Lf|            0.0|Fruits and Vegeta...| 45.5402|           OUT049|                     1999|     Medium|              Tier 1|Supermarket Type1|        1516.0266| new|2025-03-10|2025-03-17| 03-03-2025|       7|     Veg|\n",
            "|          FDA03|       18.5|             Reg|    0.045463773|               Dairy|144.1102|           OUT046|                     1997|      Small|              Tier 1|Supermarket Type1|         2187.153| new|2025-03-10|2025-03-17| 03-03-2025|       7|     Veg|\n",
            "|          FDX32|       15.1|             Reg|      0.1000135|Fruits and Vegeta...|145.4786|           OUT049|                     1999|     Medium|              Tier 1|Supermarket Type1|        1589.2646| new|2025-03-10|2025-03-17| 03-03-2025|       7|     Veg|\n",
            "|          FDS46|       17.6|             Reg|    0.047257328|         Snack Foods|119.6782|           OUT046|                     1997|      Small|              Tier 1|Supermarket Type1|        2145.2076| new|2025-03-10|2025-03-17| 03-03-2025|       7|     Veg|\n",
            "|          FDF32|      16.35|              Lf|      0.0680243|Fruits and Vegeta...|196.4426|           OUT013|                     1987|       High|              Tier 3|Supermarket Type1|         1977.426| new|2025-03-10|2025-03-17| 03-03-2025|       7|     Veg|\n",
            "|          FDP49|          9|             Reg|    0.069088961|           Breakfast| 56.3614|           OUT046|                     1997|      Small|              Tier 1|Supermarket Type1|        1547.3192| new|2025-03-10|2025-03-17| 03-03-2025|       7|     Veg|\n",
            "|          NCB42|       11.8|              Lf|    0.008596051|  Health and Hygiene|115.3492|           OUT018|                     2009|     Medium|              Tier 3|Supermarket Type2|        1621.8888| new|2025-03-10|2025-03-17| 03-03-2025|       7|     Veg|\n",
            "|          FDP49|          9|             Reg|    0.069196376|           Breakfast| 54.3614|           OUT049|                     1999|     Medium|              Tier 1|Supermarket Type1|         718.3982| new|2025-03-10|2025-03-17| 03-03-2025|       7|     Veg|\n",
            "|          DRI11|       NULL|              Lf|    0.034237682|         Hard Drinks|113.2834|           OUT027|                     1985|     Medium|              Tier 3|Supermarket Type3|         2303.668| new|2025-03-10|2025-03-17| 03-03-2025|       7|     Veg|\n",
            "|          FDU02|      13.35|              Lf|     0.10249212|               Dairy|230.5352|           OUT035|                     2004|      Small|              Tier 2|Supermarket Type1|        2748.4224| new|2025-03-10|2025-03-17| 03-03-2025|       7|     Veg|\n",
            "+---------------+-----------+----------------+---------------+--------------------+--------+-----------------+-------------------------+-----------+--------------------+-----------------+-----------------+----+----------+----------+-----------+--------+--------+\n",
            "only showing top 20 rows\n",
            "\n"
          ]
        }
      ]
    }
  ]
}